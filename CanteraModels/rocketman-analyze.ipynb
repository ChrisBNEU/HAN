{
 "cells": [
  {
   "cell_type": "markdown",
   "metadata": {},
   "source": [
    "# Plug flow reactor simulation of Thruster\n",
    "\n",
    "![caption](Graphics/thruster-details.png)\n"
   ]
  },
  {
   "cell_type": "code",
   "execution_count": 1,
   "metadata": {},
   "outputs": [],
   "source": [
    "import cantera as ct\n",
    "import numpy as np\n",
    "\n",
    "from matplotlib import pyplot as plt\n",
    "import csv\n",
    "import os\n",
    "import itertools\n",
    "import pandas as pd"
   ]
  },
  {
   "cell_type": "code",
   "execution_count": 2,
   "metadata": {},
   "outputs": [],
   "source": [
    "from ipywidgets import interact, interactive, fixed, interact_manual\n",
    "import ipywidgets as widgets"
   ]
  },
  {
   "cell_type": "code",
   "execution_count": 3,
   "metadata": {},
   "outputs": [],
   "source": [
    "import json\n",
    "with open('rocketman/settings.json') as fp:\n",
    "    settings = json.load(fp)\n",
    "cat_area_per_vol_options = list(sorted(set(np.array(settings)[:,0])))\n",
    "temperature_c_options = list(sorted(set(np.array(settings)[:,1])))\n",
    "rtol_options= list(sorted(set(np.array(settings)[:,2])))\n",
    "atol_options= list(sorted(set(np.array(settings)[:,3])))\n",
    "        "
   ]
  },
  {
   "cell_type": "code",
   "execution_count": 4,
   "metadata": {},
   "outputs": [
    {
     "data": {
      "text/plain": [
       "([3000.0, 30000.0, 300000.0, 3000000.0, 30000000.0, 300000000.0],\n",
       " [200.0, 300.0, 400.0, 500.0],\n",
       " [1e-11, 1e-09, 1e-06],\n",
       " [1e-24, 1e-21, 1e-18, 1e-15])"
      ]
     },
     "execution_count": 4,
     "metadata": {},
     "output_type": "execute_result"
    }
   ],
   "source": [
    "cat_area_per_vol_options, temperature_c_options, rtol_options, atol_options"
   ]
  },
  {
   "cell_type": "code",
   "execution_count": 5,
   "metadata": {},
   "outputs": [
    {
     "data": {
      "text/plain": [
       "('1e2', '1e+03')"
      ]
     },
     "execution_count": 5,
     "metadata": {},
     "output_type": "execute_result"
    }
   ],
   "source": [
    "f'1e{np.log10(100):g}', f'{1000:.0e}'"
   ]
  },
  {
   "cell_type": "code",
   "execution_count": 6,
   "metadata": {},
   "outputs": [
    {
     "name": "stdout",
     "output_type": "stream",
     "text": [
      "Processing SLURM array job.\n",
      "Using cantera input file /Users/rwest/Dropbox (CoMoChEng)/Northeastern/Research-MHI/HAN (github)/CanteraModels/rocketman/0/chem_annotated.cti\n",
      "Settings array is from 0 to 287 \n"
     ]
    }
   ],
   "source": [
    "\n",
    "print(\"Processing SLURM array job.\")\n",
    "\n",
    "rocket_array_dir = 'rocketman'\n",
    "\n",
    "cti_file = os.path.join(rocket_array_dir,'0','chem_annotated.cti')\n",
    "\n",
    "print(f\"Using cantera input file {os.path.abspath(cti_file)}\")\n",
    "\n",
    "print(f\"Settings array is from 0 to {len(settings)-1} \")\n",
    "\n",
    "from collections import defaultdict\n",
    "setting_dict = dict()\n",
    "for i,(area,temp,rtol,atol) in enumerate(settings):\n",
    "    setting_dict[(area,temp,rtol,atol)] = i\n"
   ]
  },
  {
   "cell_type": "code",
   "execution_count": 7,
   "metadata": {
    "scrolled": false
   },
   "outputs": [
    {
     "name": "stdout",
     "output_type": "stream",
     "text": [
      "  0 3e+03/m 200K rt1e-06 at1e-15 ✅ OK  11.00 mm    197-200 ºC\n",
      "  1 3e+03/m 200K rt1e-06 at1e-18 ✅ OK  11.00 mm    197-200 ºC\n",
      "  2 3e+03/m 200K rt1e-06 at1e-21 ✅ OK  11.00 mm    197-200 ºC\n",
      "  3 3e+03/m 200K rt1e-06 at1e-24 ✅ OK  11.00 mm    197-200 ºC\n",
      "  4 3e+03/m 200K rt1e-09 at1e-15 ✅ OK  11.00 mm    197-200 ºC\n",
      "  5 3e+03/m 200K rt1e-09 at1e-18 ✅ OK  11.00 mm    197-200 ºC\n",
      "  6 3e+03/m 200K rt1e-09 at1e-21 ✅ OK  11.00 mm    197-200 ºC\n",
      "  7 3e+03/m 200K rt1e-09 at1e-24 ✅ OK  11.00 mm    197-200 ºC\n",
      "  8 3e+03/m 200K rt1e-11 at1e-15 ✅ OK  11.00 mm    197-200 ºC\n",
      "  9 3e+03/m 200K rt1e-11 at1e-18 ✅ OK  11.00 mm    198-200 ºC\n",
      " 10 3e+03/m 200K rt1e-11 at1e-21 ✅ OK  11.00 mm    198-200 ºC\n",
      " 11 3e+03/m 200K rt1e-11 at1e-24 ✅ OK  11.00 mm    198-200 ºC\n",
      " 12 3e+03/m 300K rt1e-06 at1e-15 ✅ OK  11.00 mm    299-300 ºC\n",
      " 13 3e+03/m 300K rt1e-06 at1e-18 ✅ OK  11.00 mm    299-300 ºC\n",
      " 14 3e+03/m 300K rt1e-06 at1e-21 ✅ OK  11.00 mm    299-300 ºC\n",
      " 15 3e+03/m 300K rt1e-06 at1e-24 ✅ OK  11.00 mm    298-300 ºC\n",
      " 16 3e+03/m 300K rt1e-09 at1e-15 ✅ OK  11.00 mm    299-300 ºC\n",
      " 17 3e+03/m 300K rt1e-09 at1e-18 ✅ OK  11.00 mm    299-300 ºC\n",
      " 18 3e+03/m 300K rt1e-09 at1e-21 ✅ OK  11.00 mm    298-300 ºC\n",
      " 19 3e+03/m 300K rt1e-09 at1e-24 ✅ OK  11.00 mm    298-300 ºC\n",
      " 20 3e+03/m 300K rt1e-11 at1e-15 ✅ OK  11.00 mm    299-300 ºC\n",
      " 21 3e+03/m 300K rt1e-11 at1e-18 ✅ OK  11.00 mm    299-300 ºC\n",
      " 22 3e+03/m 300K rt1e-11 at1e-21 ✅ OK  11.00 mm    299-300 ºC\n",
      " 23 3e+03/m 300K rt1e-11 at1e-24 ✅ OK  11.00 mm    299-300 ºC\n",
      " 24 3e+03/m 400K rt1e-06 at1e-15 ✅ OK  11.00 mm    400-400 ºC\n",
      " 25 3e+03/m 400K rt1e-06 at1e-18 ✅ OK  11.00 mm    400-400 ºC\n",
      " 26 3e+03/m 400K rt1e-06 at1e-21 ✅ OK  11.00 mm    400-400 ºC\n",
      " 27 3e+03/m 400K rt1e-06 at1e-24 ✅ OK  11.00 mm    400-400 ºC\n",
      " 28 3e+03/m 400K rt1e-09 at1e-15 ✅ OK   0.99 mm    400-400 ºC\n",
      " 29 3e+03/m 400K rt1e-09 at1e-18 ✅ OK  11.00 mm    400-400 ºC\n",
      " 30 3e+03/m 400K rt1e-09 at1e-21 ✅ OK  11.00 mm    400-400 ºC\n",
      " 31 3e+03/m 400K rt1e-09 at1e-24 ✅ OK  11.00 mm    400-400 ºC\n",
      " 32 3e+03/m 400K rt1e-11 at1e-15 ✅ OK  11.00 mm    400-400 ºC\n",
      " 33 3e+03/m 400K rt1e-11 at1e-18 ✅ OK  11.00 mm    400-400 ºC\n",
      " 34 3e+03/m 400K rt1e-11 at1e-21 ✅ OK  11.00 mm    400-400 ºC\n",
      " 35 3e+03/m 400K rt1e-11 at1e-24 ✅ OK  11.00 mm    400-400 ºC\n",
      " 36 3e+03/m 500K rt1e-06 at1e-15 ✅ OK  11.00 mm    500-502 ºC\n",
      " 37 3e+03/m 500K rt1e-06 at1e-18 ✅ OK  11.00 mm    500-500 ºC\n",
      " 38 3e+03/m 500K rt1e-06 at1e-21 ✅ OK  11.00 mm    500-500 ºC\n",
      " 39 3e+03/m 500K rt1e-06 at1e-24 ✅ OK  11.00 mm    500-500 ºC\n",
      " 40 3e+03/m 500K rt1e-09 at1e-15 ✅ OK  11.00 mm    500-500 ºC\n",
      " 41 3e+03/m 500K rt1e-09 at1e-18 ✅ OK  11.00 mm    500-500 ºC\n",
      " 42 3e+03/m 500K rt1e-09 at1e-21 ✅ OK  11.00 mm    500-500 ºC\n",
      " 43 3e+03/m 500K rt1e-09 at1e-24 ✅ OK  11.00 mm    500-500 ºC\n",
      " 44 3e+03/m 500K rt1e-11 at1e-15 ❌ FAIL!\n",
      " 45 3e+03/m 500K rt1e-11 at1e-18 ✅ OK  11.00 mm    500-500 ºC\n",
      " 46 3e+03/m 500K rt1e-11 at1e-21 ✅ OK  11.00 mm    500-500 ºC\n",
      " 47 3e+03/m 500K rt1e-11 at1e-24 ✅ OK  11.00 mm    500-500 ºC\n",
      " 48 3e+04/m 200K rt1e-06 at1e-15 ✅ OK  11.00 mm    169-200 ºC\n",
      " 49 3e+04/m 200K rt1e-06 at1e-18 ✅ OK  11.00 mm    168-200 ºC\n",
      " 50 3e+04/m 200K rt1e-06 at1e-21 ✅ OK  11.00 mm    167-200 ºC\n",
      " 51 3e+04/m 200K rt1e-06 at1e-24 ✅ OK  11.00 mm    166-200 ºC\n",
      " 52 3e+04/m 200K rt1e-09 at1e-15 ✅ OK  11.00 mm    166-200 ºC\n",
      " 53 3e+04/m 200K rt1e-09 at1e-18 ✅ OK  11.00 mm    165-200 ºC\n",
      " 54 3e+04/m 200K rt1e-09 at1e-21 ✅ OK  11.00 mm    165-200 ºC\n",
      " 55 3e+04/m 200K rt1e-09 at1e-24 ✅ OK  11.00 mm    172-200 ºC\n",
      " 56 3e+04/m 200K rt1e-11 at1e-15 ✅ OK  11.00 mm    183-200 ºC\n",
      " 57 3e+04/m 200K rt1e-11 at1e-18 ✅ OK  11.00 mm    188-200 ºC\n",
      " 58 3e+04/m 200K rt1e-11 at1e-21 ✅ OK  11.00 mm    191-200 ºC\n",
      " 59 3e+04/m 200K rt1e-11 at1e-24 ✅ OK  11.00 mm    192-200 ºC\n",
      " 60 3e+04/m 300K rt1e-06 at1e-15 ✅ OK  11.00 mm    300-301 ºC\n",
      " 61 3e+04/m 300K rt1e-06 at1e-18 ✅ OK  11.00 mm    290-300 ºC\n",
      " 62 3e+04/m 300K rt1e-06 at1e-21 ✅ OK  11.00 mm    280-300 ºC\n",
      " 63 3e+04/m 300K rt1e-06 at1e-24 ✅ OK  11.00 mm    280-300 ºC\n",
      " 64 3e+04/m 300K rt1e-09 at1e-15 ✅ OK  11.00 mm    282-300 ºC\n",
      " 65 3e+04/m 300K rt1e-09 at1e-18 ✅ OK  11.00 mm    285-300 ºC\n",
      " 66 3e+04/m 300K rt1e-09 at1e-21 ✅ OK  11.00 mm    285-300 ºC\n",
      " 67 3e+04/m 300K rt1e-09 at1e-24 ✅ OK  11.00 mm    280-300 ºC\n",
      " 68 3e+04/m 300K rt1e-11 at1e-15 ✅ OK  11.00 mm    281-300 ºC\n",
      " 69 3e+04/m 300K rt1e-11 at1e-18 ✅ OK  11.00 mm    283-300 ºC\n",
      " 70 3e+04/m 300K rt1e-11 at1e-21 ✅ OK  11.00 mm    283-300 ºC\n",
      " 71 3e+04/m 300K rt1e-11 at1e-24 ✅ OK  11.00 mm    283-300 ºC\n",
      " 72 3e+04/m 400K rt1e-06 at1e-15 ✅ OK  11.00 mm    400-402 ºC\n",
      " 73 3e+04/m 400K rt1e-06 at1e-18 ✅ OK   0.99 mm    400-400 ºC\n",
      " 74 3e+04/m 400K rt1e-06 at1e-21 ✅ OK  11.00 mm    397-400 ºC\n",
      " 75 3e+04/m 400K rt1e-06 at1e-24 ✅ OK  11.00 mm    397-400 ºC\n",
      " 76 3e+04/m 400K rt1e-09 at1e-15 ✅ OK   0.99 mm    400-400 ºC\n",
      " 77 3e+04/m 400K rt1e-09 at1e-18 ✅ OK  11.00 mm    398-400 ºC\n",
      " 78 3e+04/m 400K rt1e-09 at1e-21 ✅ OK  11.00 mm    398-400 ºC\n",
      " 79 3e+04/m 400K rt1e-09 at1e-24 ✅ OK  11.00 mm    398-400 ºC\n",
      " 80 3e+04/m 400K rt1e-11 at1e-15 ✅ OK  11.00 mm    398-400 ºC\n",
      " 81 3e+04/m 400K rt1e-11 at1e-18 ✅ OK  11.00 mm    398-400 ºC\n",
      " 82 3e+04/m 400K rt1e-11 at1e-21 ✅ OK  11.00 mm    398-400 ºC\n",
      " 83 3e+04/m 400K rt1e-11 at1e-24 ✅ OK  11.00 mm    398-400 ºC\n",
      " 84 3e+04/m 500K rt1e-06 at1e-15 ✅ OK  11.00 mm    500-507 ºC\n",
      " 85 3e+04/m 500K rt1e-06 at1e-18 ✅ OK  11.00 mm    500-504 ºC\n",
      " 86 3e+04/m 500K rt1e-06 at1e-21 ✅ OK  11.00 mm    500-500 ºC\n",
      " 87 3e+04/m 500K rt1e-06 at1e-24 ✅ OK  11.00 mm    500-501 ºC\n",
      " 88 3e+04/m 500K rt1e-09 at1e-15 ✅ OK  11.00 mm    500-500 ºC\n",
      " 89 3e+04/m 500K rt1e-09 at1e-18 ✅ OK  11.00 mm    500-500 ºC\n",
      " 90 3e+04/m 500K rt1e-09 at1e-21 ✅ OK  11.00 mm    500-500 ºC\n",
      " 91 3e+04/m 500K rt1e-09 at1e-24 ✅ OK  11.00 mm    500-500 ºC\n",
      " 92 3e+04/m 500K rt1e-11 at1e-15 ✅ OK  11.00 mm    500-500 ºC\n",
      " 93 3e+04/m 500K rt1e-11 at1e-18 ✅ OK  11.00 mm    500-500 ºC\n",
      " 94 3e+04/m 500K rt1e-11 at1e-21 ✅ OK  11.00 mm    500-500 ºC\n",
      " 95 3e+04/m 500K rt1e-11 at1e-24 ✅ OK  11.00 mm    500-500 ºC\n",
      " 96 3e+05/m 200K rt1e-06 at1e-15 ✅ OK   1.18 mm    -130-200 ºC\n",
      " 97 3e+05/m 200K rt1e-06 at1e-18 ✅ OK   2.50 mm    -193-200 ºC\n",
      " 98 3e+05/m 200K rt1e-06 at1e-21 ✅ OK   4.78 mm    -142-200 ºC\n",
      " 99 3e+05/m 200K rt1e-06 at1e-24 ❌ FAIL!\n",
      "100 3e+05/m 200K rt1e-09 at1e-15 ✅ OK  10.39 mm    -136-200 ºC\n",
      "101 3e+05/m 200K rt1e-09 at1e-18 ✅ OK  11.00 mm    -81-200 ºC\n",
      "102 3e+05/m 200K rt1e-09 at1e-21 ✅ OK  11.00 mm    36-200 ºC\n",
      "103 3e+05/m 200K rt1e-09 at1e-24 ✅ OK  11.00 mm    120-200 ºC\n",
      "104 3e+05/m 200K rt1e-11 at1e-15 ✅ OK  11.00 mm    125-200 ºC\n",
      "105 3e+05/m 200K rt1e-11 at1e-18 ✅ OK  11.00 mm    119-200 ºC\n",
      "106 3e+05/m 200K rt1e-11 at1e-21 ✅ OK  11.00 mm    181-200 ºC\n",
      "107 3e+05/m 200K rt1e-11 at1e-24 ✅ OK  11.00 mm    192-200 ºC\n",
      "108 3e+05/m 300K rt1e-06 at1e-15 ✅ OK   1.46 mm    -118-300 ºC\n",
      "109 3e+05/m 300K rt1e-06 at1e-18 ✅ OK   6.63 mm    -114-300 ºC\n",
      "110 3e+05/m 300K rt1e-06 at1e-21 ✅ OK   8.57 mm    -125-300 ºC\n",
      "111 3e+05/m 300K rt1e-06 at1e-24 ✅ OK  11.00 mm    -89-300 ºC\n",
      "112 3e+05/m 300K rt1e-09 at1e-15 ✅ OK  11.00 mm    -41-300 ºC\n",
      "113 3e+05/m 300K rt1e-09 at1e-18 ✅ OK  11.00 mm    0-300 ºC\n",
      "114 3e+05/m 300K rt1e-09 at1e-21 ✅ OK  11.00 mm    45-300 ºC\n",
      "115 3e+05/m 300K rt1e-09 at1e-24 ✅ OK  11.00 mm    219-300 ºC\n",
      "116 3e+05/m 300K rt1e-11 at1e-15 ✅ OK  11.00 mm    207-300 ºC\n",
      "117 3e+05/m 300K rt1e-11 at1e-18 ✅ OK  11.00 mm    234-300 ºC\n",
      "118 3e+05/m 300K rt1e-11 at1e-21 ✅ OK  11.00 mm    258-300 ºC\n",
      "119 3e+05/m 300K rt1e-11 at1e-24 ✅ OK  11.00 mm    274-300 ºC\n",
      "120 3e+05/m 400K rt1e-06 at1e-15 ✅ OK  11.00 mm    -141-400 ºC\n",
      "121 3e+05/m 400K rt1e-06 at1e-18 ✅ OK  11.00 mm    -101-400 ºC\n",
      "122 3e+05/m 400K rt1e-06 at1e-21 ✅ OK  11.00 mm    -86-400 ºC\n",
      "123 3e+05/m 400K rt1e-06 at1e-24 ✅ OK  11.00 mm    -29-400 ºC\n",
      "124 3e+05/m 400K rt1e-09 at1e-15 ✅ OK  11.00 mm    22-400 ºC\n",
      "125 3e+05/m 400K rt1e-09 at1e-18 ✅ OK  11.00 mm    137-400 ºC\n",
      "126 3e+05/m 400K rt1e-09 at1e-21 ✅ OK  11.00 mm    282-400 ºC\n",
      "127 3e+05/m 400K rt1e-09 at1e-24 ✅ OK  11.00 mm    312-400 ºC\n",
      "128 3e+05/m 400K rt1e-11 at1e-15 ✅ OK  11.00 mm    332-400 ºC\n",
      "129 3e+05/m 400K rt1e-11 at1e-18 ✅ OK  11.00 mm    352-400 ºC\n",
      "130 3e+05/m 400K rt1e-11 at1e-21 ✅ OK  11.00 mm    355-400 ºC\n",
      "131 3e+05/m 400K rt1e-11 at1e-24 ✅ OK  11.00 mm    361-400 ºC\n",
      "132 3e+05/m 500K rt1e-06 at1e-15 ✅ OK  11.00 mm    500-524 ºC\n",
      "133 3e+05/m 500K rt1e-06 at1e-18 ✅ OK  11.00 mm    496-530 ºC\n"
     ]
    },
    {
     "name": "stdout",
     "output_type": "stream",
     "text": [
      "134 3e+05/m 500K rt1e-06 at1e-21 ✅ OK  11.00 mm    495-500 ºC\n",
      "135 3e+05/m 500K rt1e-06 at1e-24 ✅ OK  11.00 mm    495-503 ºC\n",
      "136 3e+05/m 500K rt1e-09 at1e-15 ✅ OK  11.00 mm    496-500 ºC\n",
      "137 3e+05/m 500K rt1e-09 at1e-18 ✅ OK  11.00 mm    495-500 ºC\n",
      "138 3e+05/m 500K rt1e-09 at1e-21 ✅ OK  11.00 mm    495-500 ºC\n",
      "139 3e+05/m 500K rt1e-09 at1e-24 ✅ OK  11.00 mm    500-500 ºC\n",
      "140 3e+05/m 500K rt1e-11 at1e-15 ✅ OK  11.00 mm    495-500 ºC\n",
      "141 3e+05/m 500K rt1e-11 at1e-18 ✅ OK  11.00 mm    495-500 ºC\n",
      "142 3e+05/m 500K rt1e-11 at1e-21 ✅ OK  11.00 mm    496-500 ºC\n",
      "143 3e+05/m 500K rt1e-11 at1e-24 ✅ OK  11.00 mm    496-500 ºC\n",
      "144 3e+06/m 200K rt1e-06 at1e-15 ✅ OK   1.09 mm    -152-200 ºC\n",
      "145 3e+06/m 200K rt1e-06 at1e-18 ✅ OK   1.73 mm    -97-200 ºC\n",
      "146 3e+06/m 200K rt1e-06 at1e-21 ✅ OK   3.24 mm    -135-200 ºC\n",
      "147 3e+06/m 200K rt1e-06 at1e-24 ✅ OK   5.74 mm    -142-200 ºC\n",
      "148 3e+06/m 200K rt1e-09 at1e-15 ✅ OK  11.00 mm    -148-200 ºC\n",
      "149 3e+06/m 200K rt1e-09 at1e-18 ✅ OK  11.00 mm    -137-200 ºC\n",
      "150 3e+06/m 200K rt1e-09 at1e-21 ✅ OK  11.00 mm    -14-200 ºC\n",
      "151 3e+06/m 200K rt1e-09 at1e-24 ✅ OK  11.00 mm    158-200 ºC\n",
      "152 3e+06/m 200K rt1e-11 at1e-15 ✅ OK  11.00 mm    136-200 ºC\n",
      "153 3e+06/m 200K rt1e-11 at1e-18 ✅ OK  11.00 mm    130-200 ºC\n",
      "154 3e+06/m 200K rt1e-11 at1e-21 ✅ OK  11.00 mm    179-200 ºC\n",
      "155 3e+06/m 200K rt1e-11 at1e-24 ✅ OK  11.00 mm    191-200 ºC\n",
      "156 3e+06/m 300K rt1e-06 at1e-15 ✅ OK   1.59 mm    -161-300 ºC\n",
      "157 3e+06/m 300K rt1e-06 at1e-18 ✅ OK   3.71 mm    -115-300 ºC\n",
      "158 3e+06/m 300K rt1e-06 at1e-21 ✅ OK   6.45 mm    -126-300 ºC\n",
      "159 3e+06/m 300K rt1e-06 at1e-24 ✅ OK  11.00 mm    -125-300 ºC\n",
      "160 3e+06/m 300K rt1e-09 at1e-15 ✅ OK   0.99 mm    300-300 ºC\n",
      "161 3e+06/m 300K rt1e-09 at1e-18 ✅ OK  11.00 mm    -116-300 ºC\n",
      "162 3e+06/m 300K rt1e-09 at1e-21 ✅ OK  11.00 mm    91-300 ºC\n",
      "163 3e+06/m 300K rt1e-09 at1e-24 ✅ OK  11.00 mm    195-300 ºC\n",
      "164 3e+06/m 300K rt1e-11 at1e-15 ✅ OK  11.00 mm    203-300 ºC\n",
      "165 3e+06/m 300K rt1e-11 at1e-18 ✅ OK  11.00 mm    259-300 ºC\n",
      "166 3e+06/m 300K rt1e-11 at1e-21 ✅ OK  11.00 mm    280-300 ºC\n",
      "167 3e+06/m 300K rt1e-11 at1e-24 ✅ OK  11.00 mm    289-300 ºC\n",
      "168 3e+06/m 400K rt1e-06 at1e-15 ✅ OK   1.00 mm    -145-400 ºC\n",
      "169 3e+06/m 400K rt1e-06 at1e-18 ✅ OK   4.59 mm    -115-400 ºC\n",
      "170 3e+06/m 400K rt1e-06 at1e-21 ✅ OK   9.04 mm    -120-400 ºC\n",
      "171 3e+06/m 400K rt1e-06 at1e-24 ✅ OK  11.00 mm    -103-400 ºC\n",
      "172 3e+06/m 400K rt1e-09 at1e-15 ❌ FAIL!\n",
      "173 3e+06/m 400K rt1e-09 at1e-18 ✅ OK  11.00 mm    -6-400 ºC\n",
      "174 3e+06/m 400K rt1e-09 at1e-21 ✅ OK  11.00 mm    238-400 ºC\n",
      "175 3e+06/m 400K rt1e-09 at1e-24 ✅ OK  11.00 mm    266-400 ºC\n",
      "176 3e+06/m 400K rt1e-11 at1e-15 ✅ OK   0.99 mm    400-400 ºC\n",
      "177 3e+06/m 400K rt1e-11 at1e-18 ✅ OK   0.99 mm    400-400 ºC\n",
      "178 3e+06/m 400K rt1e-11 at1e-21 ✅ OK   0.99 mm    400-400 ºC\n",
      "179 3e+06/m 400K rt1e-11 at1e-24 ✅ OK  11.00 mm    373-400 ºC\n",
      "180 3e+06/m 500K rt1e-06 at1e-15 ✅ OK   1.00 mm    -139-500 ºC\n",
      "181 3e+06/m 500K rt1e-06 at1e-18 ✅ OK   6.84 mm    -110-500 ºC\n",
      "182 3e+06/m 500K rt1e-06 at1e-21 ✅ OK  11.00 mm    -109-500 ºC\n",
      "183 3e+06/m 500K rt1e-06 at1e-24 ✅ OK  11.00 mm    -66-500 ºC\n",
      "184 3e+06/m 500K rt1e-09 at1e-15 ✅ OK  11.00 mm    10-500 ºC\n",
      "185 3e+06/m 500K rt1e-09 at1e-18 ✅ OK  11.00 mm    64-500 ºC\n",
      "186 3e+06/m 500K rt1e-09 at1e-21 ✅ OK  11.00 mm    270-500 ºC\n",
      "187 3e+06/m 500K rt1e-09 at1e-24 ✅ OK  11.00 mm    500-500 ºC\n",
      "188 3e+06/m 500K rt1e-11 at1e-15 ✅ OK  11.00 mm    363-500 ºC\n",
      "189 3e+06/m 500K rt1e-11 at1e-18 ✅ OK  11.00 mm    462-500 ºC\n",
      "190 3e+06/m 500K rt1e-11 at1e-21 ✅ OK  11.00 mm    475-500 ºC\n",
      "191 3e+06/m 500K rt1e-11 at1e-24 ✅ OK  11.00 mm    475-500 ºC\n",
      "192 3e+07/m 200K rt1e-06 at1e-15 ✅ OK   1.00 mm    -172-200 ºC\n",
      "193 3e+07/m 200K rt1e-06 at1e-18 ✅ OK   1.60 mm    -137-200 ºC\n",
      "194 3e+07/m 200K rt1e-06 at1e-21 ✅ OK   2.32 mm    -134-200 ºC\n",
      "195 3e+07/m 200K rt1e-06 at1e-24 ❌ FAIL!\n",
      "196 3e+07/m 200K rt1e-09 at1e-15 ✅ OK   7.91 mm    -164-200 ºC\n",
      "197 3e+07/m 200K rt1e-09 at1e-18 ❌ FAIL!\n",
      "198 3e+07/m 200K rt1e-09 at1e-21 ✅ OK  11.00 mm    -146-200 ºC\n",
      "199 3e+07/m 200K rt1e-09 at1e-24 ✅ OK   0.99 mm    200-200 ºC\n",
      "200 3e+07/m 200K rt1e-11 at1e-15 ✅ OK  11.00 mm    -17-200 ºC\n",
      "201 3e+07/m 200K rt1e-11 at1e-18 ✅ OK  11.00 mm    144-200 ºC\n",
      "202 3e+07/m 200K rt1e-11 at1e-21 ✅ OK  11.00 mm    165-200 ºC\n",
      "203 3e+07/m 200K rt1e-11 at1e-24 ✅ OK  11.00 mm    169-200 ºC\n",
      "204 3e+07/m 300K rt1e-06 at1e-15 ✅ OK   1.27 mm    -161-300 ºC\n",
      "205 3e+07/m 300K rt1e-06 at1e-18 ✅ OK   1.93 mm    -115-300 ºC\n",
      "206 3e+07/m 300K rt1e-06 at1e-21 ✅ OK   3.20 mm    -123-300 ºC\n",
      "207 3e+07/m 300K rt1e-06 at1e-24 ✅ OK   7.61 mm    -130-300 ºC\n",
      "208 3e+07/m 300K rt1e-09 at1e-15 ✅ OK   5.79 mm    -103-300 ºC\n",
      "209 3e+07/m 300K rt1e-09 at1e-18 ✅ OK  11.00 mm    -128-300 ºC\n",
      "210 3e+07/m 300K rt1e-09 at1e-21 ✅ OK  11.00 mm    31-300 ºC\n",
      "211 3e+07/m 300K rt1e-09 at1e-24 ✅ OK  11.00 mm    142-300 ºC\n",
      "212 3e+07/m 300K rt1e-11 at1e-15 ✅ OK  11.00 mm    223-300 ºC\n",
      "213 3e+07/m 300K rt1e-11 at1e-18 ✅ OK  11.00 mm    257-300 ºC\n",
      "214 3e+07/m 300K rt1e-11 at1e-21 ✅ OK  11.00 mm    260-300 ºC\n",
      "215 3e+07/m 300K rt1e-11 at1e-24 ✅ OK  11.00 mm    272-300 ºC\n",
      "216 3e+07/m 400K rt1e-06 at1e-15 ✅ OK   2.00 mm    -105-400 ºC\n",
      "217 3e+07/m 400K rt1e-06 at1e-18 ❌ FAIL!\n",
      "218 3e+07/m 400K rt1e-06 at1e-21 ✅ OK   8.04 mm    -118-400 ºC\n",
      "219 3e+07/m 400K rt1e-06 at1e-24 ✅ OK  11.00 mm    -125-400 ºC\n",
      "220 3e+07/m 400K rt1e-09 at1e-15 ✅ OK   0.99 mm    400-400 ºC\n",
      "221 3e+07/m 400K rt1e-09 at1e-18 ✅ OK  11.00 mm    -8-400 ºC\n",
      "222 3e+07/m 400K rt1e-09 at1e-21 ✅ OK  11.00 mm    125-400 ºC\n",
      "223 3e+07/m 400K rt1e-09 at1e-24 ✅ OK  11.00 mm    176-400 ºC\n",
      "224 3e+07/m 400K rt1e-11 at1e-15 ✅ OK  11.00 mm    243-400 ºC\n",
      "225 3e+07/m 400K rt1e-11 at1e-18 ✅ OK  11.00 mm    318-400 ºC\n",
      "226 3e+07/m 400K rt1e-11 at1e-21 ✅ OK  11.00 mm    352-400 ºC\n",
      "227 3e+07/m 400K rt1e-11 at1e-24 ✅ OK  11.00 mm    370-400 ºC\n",
      "228 3e+07/m 500K rt1e-06 at1e-15 ❌ FAIL!\n",
      "229 3e+07/m 500K rt1e-06 at1e-18 ✅ OK   6.70 mm    -107-500 ºC\n",
      "230 3e+07/m 500K rt1e-06 at1e-21 ✅ OK   9.73 mm    -120-500 ºC\n",
      "231 3e+07/m 500K rt1e-06 at1e-24 ✅ OK  11.00 mm    -98-500 ºC\n",
      "232 3e+07/m 500K rt1e-09 at1e-15 ❌ FAIL!\n",
      "233 3e+07/m 500K rt1e-09 at1e-18 ✅ OK  11.00 mm    97-500 ºC\n",
      "234 3e+07/m 500K rt1e-09 at1e-21 ✅ OK  11.00 mm    208-500 ºC\n",
      "235 3e+07/m 500K rt1e-09 at1e-24 ✅ OK  11.00 mm    500-500 ºC\n",
      "236 3e+07/m 500K rt1e-11 at1e-15 ✅ OK  11.00 mm    386-500 ºC\n",
      "237 3e+07/m 500K rt1e-11 at1e-18 ✅ OK  11.00 mm    453-500 ºC\n",
      "238 3e+07/m 500K rt1e-11 at1e-21 ✅ OK  11.00 mm    466-500 ºC\n",
      "239 3e+07/m 500K rt1e-11 at1e-24 ✅ OK  11.00 mm    465-500 ºC\n",
      "240 3e+08/m 200K rt1e-06 at1e-15 ✅ OK   1.00 mm    -161-200 ºC\n",
      "241 3e+08/m 200K rt1e-06 at1e-18 ✅ OK   1.37 mm    -133-200 ºC\n",
      "242 3e+08/m 200K rt1e-06 at1e-21 ✅ OK   1.95 mm    -130-200 ºC\n",
      "243 3e+08/m 200K rt1e-06 at1e-24 ❌ FAIL!\n",
      "244 3e+08/m 200K rt1e-09 at1e-15 ✅ OK   3.91 mm    -141-200 ºC\n",
      "245 3e+08/m 200K rt1e-09 at1e-18 ❌ FAIL!\n",
      "246 3e+08/m 200K rt1e-09 at1e-21 ✅ OK   7.32 mm    -140-200 ºC\n",
      "247 3e+08/m 200K rt1e-09 at1e-24 ✅ OK  11.00 mm    -123-200 ºC\n",
      "248 3e+08/m 200K rt1e-11 at1e-15 ✅ OK  11.00 mm    -139-200 ºC\n",
      "249 3e+08/m 200K rt1e-11 at1e-18 ✅ OK  11.00 mm    57-200 ºC\n",
      "250 3e+08/m 200K rt1e-11 at1e-21 ✅ OK  11.00 mm    -2-200 ºC\n",
      "251 3e+08/m 200K rt1e-11 at1e-24 ✅ OK  11.00 mm    77-200 ºC\n",
      "252 3e+08/m 300K rt1e-06 at1e-15 ✅ OK   1.00 mm    -139-300 ºC\n",
      "253 3e+08/m 300K rt1e-06 at1e-18 ✅ OK   1.81 mm    -115-300 ºC\n",
      "254 3e+08/m 300K rt1e-06 at1e-21 ✅ OK   4.52 mm    -125-300 ºC\n",
      "255 3e+08/m 300K rt1e-06 at1e-24 ✅ OK   7.38 mm    -130-300 ºC\n",
      "256 3e+08/m 300K rt1e-09 at1e-15 ✅ OK   4.24 mm    -174-300 ºC\n",
      "257 3e+08/m 300K rt1e-09 at1e-18 ❌ FAIL!\n",
      "258 3e+08/m 300K rt1e-09 at1e-21 ✅ OK   9.24 mm    -125-300 ºC\n",
      "259 3e+08/m 300K rt1e-09 at1e-24 ✅ OK  11.00 mm    -54-300 ºC\n",
      "260 3e+08/m 300K rt1e-11 at1e-15 ✅ OK  11.00 mm    -65-300 ºC\n",
      "261 3e+08/m 300K rt1e-11 at1e-18 ✅ OK  11.00 mm    -5-300 ºC\n",
      "262 3e+08/m 300K rt1e-11 at1e-21 ✅ OK  11.00 mm    176-300 ºC\n",
      "263 3e+08/m 300K rt1e-11 at1e-24 ✅ OK  11.00 mm    218-300 ºC\n",
      "264 3e+08/m 400K rt1e-06 at1e-15 ✅ OK   1.00 mm    -157-400 ºC\n",
      "265 3e+08/m 400K rt1e-06 at1e-18 ✅ OK   1.98 mm    -111-400 ºC\n",
      "266 3e+08/m 400K rt1e-06 at1e-21 ❌ FAIL!\n",
      "267 3e+08/m 400K rt1e-06 at1e-24 ✅ OK   6.90 mm    -131-400 ºC\n",
      "268 3e+08/m 400K rt1e-09 at1e-15 ✅ OK   4.03 mm    -112-400 ºC\n",
      "269 3e+08/m 400K rt1e-09 at1e-18 ✅ OK   9.43 mm    -126-400 ºC\n"
     ]
    },
    {
     "name": "stdout",
     "output_type": "stream",
     "text": [
      "270 3e+08/m 400K rt1e-09 at1e-21 ✅ OK  11.00 mm    -17-400 ºC\n",
      "271 3e+08/m 400K rt1e-09 at1e-24 ✅ OK  11.00 mm    5-400 ºC\n",
      "272 3e+08/m 400K rt1e-11 at1e-15 ✅ OK  11.00 mm    -0-400 ºC\n",
      "273 3e+08/m 400K rt1e-11 at1e-18 ✅ OK  11.00 mm    209-400 ºC\n",
      "274 3e+08/m 400K rt1e-11 at1e-21 ✅ OK  11.00 mm    253-400 ºC\n",
      "275 3e+08/m 400K rt1e-11 at1e-24 ✅ OK  11.00 mm    339-400 ºC\n",
      "276 3e+08/m 500K rt1e-06 at1e-15 ✅ OK   1.52 mm    -103-500 ºC\n",
      "277 3e+08/m 500K rt1e-06 at1e-18 ✅ OK   3.36 mm    -105-500 ºC\n",
      "278 3e+08/m 500K rt1e-06 at1e-21 ✅ OK   7.26 mm    -118-500 ºC\n",
      "279 3e+08/m 500K rt1e-06 at1e-24 ✅ OK   9.72 mm    -130-500 ºC\n",
      "280 3e+08/m 500K rt1e-09 at1e-15 ✅ OK   5.78 mm    -111-500 ºC\n",
      "281 3e+08/m 500K rt1e-09 at1e-18 ✅ OK  11.00 mm    -107-500 ºC\n",
      "282 3e+08/m 500K rt1e-09 at1e-21 ✅ OK  11.00 mm    19-500 ºC\n",
      "283 3e+08/m 500K rt1e-09 at1e-24 ✅ OK  11.00 mm    500-500 ºC\n",
      "284 3e+08/m 500K rt1e-11 at1e-15 ✅ OK  11.00 mm    191-500 ºC\n",
      "285 3e+08/m 500K rt1e-11 at1e-18 ✅ OK  11.00 mm    385-500 ºC\n",
      "286 3e+08/m 500K rt1e-11 at1e-21 ✅ OK  11.00 mm    435-500 ºC\n",
      "287 3e+08/m 500K rt1e-11 at1e-24 ✅ OK  11.00 mm    425-500 ºC\n"
     ]
    }
   ],
   "source": [
    "data_dict = dict()\n",
    "for i,(area,temp,rtol,atol) in enumerate(settings):\n",
    "    output_filename = os.path.join('rocketman',str(i),'surf_pfr_output.csv')\n",
    "    print(f\"{i:3d} {area:.0e}/m {temp:.0f}K rt{rtol:.0e} at{atol:.0e}\", end=' ')\n",
    "    try:\n",
    "        data = pd.read_csv(output_filename)\n",
    "        print(f\"✅ OK  {data['Distance (mm)'].max():5.2f} mm    {data['T (C)'].min():.0f}-{data['T (C)'].max():.0f} ºC\")\n",
    "    except:\n",
    "        print(\"❌ FAIL!\")\n",
    "        data = None\n",
    "    data_dict[(area,temp,rtol,atol)] = data"
   ]
  },
  {
   "cell_type": "code",
   "execution_count": 8,
   "metadata": {},
   "outputs": [],
   "source": [
    "gas=ct.Solution(cti_file)\n",
    "surf = ct.Interface(cti_file,'surface1', [gas])"
   ]
  },
  {
   "cell_type": "code",
   "execution_count": 9,
   "metadata": {},
   "outputs": [
    {
     "name": "stdout",
     "output_type": "stream",
     "text": [
      "Ne, NH3(2), NH2OH(3), HNO3(4), CH3OH(5), H2O(6), N2(7), O2(8), NO2(9), NO(10), N2O(11), CO2(12), H2(13), CO(14), CH4(15), C2H6(16), CH2O(17), CH3(18), C3H8(19), H(20), C2H5(21), HCO(22), CH3CHO(23), OH(24), C2H4(25), O(36), Ar(37), HO2(39), H2O2(40), HOCO(41), CH2(42), CH2(S)(43), CH(44), CH2OH(45), CH3O(46), HCOH(47), CH3OO(48), CH2CO(49), C2H3(50), C(51), C2H2(52), C2H(53), CH3OOH(54), CH2OOH(55), HOCH2O(56), HOCHO(57), C2H5O(58), C2H5O2(59), C2H5O2(60), cC2H4O(61), CH2CHO(62), H2CC(63), CH3CO(64), C2H4O(65), C2H5O(66), C2H3O2(67), CHCHO(68), OCHCHO(69), HCCO(70), HCCOH(71), CHCHOH(72), C2(73), C2O(74), C2H6O(75), C2H5O(76), C2H5O3(77), cC2H3O(78), C2H3O3(79), OCHCO(80), C2H6O2(81), C2H5O2(82), C2H4O2(83), OCHO(84), NH2(85), NH(86), HNO(87), H2NO(88), HON(89), N(90), NNH(91), HONO(92), HNOH(93), HNO2(94), NO3(95), N2H2(96), H2N2(97), N2H3(98), N2H4(99), HCN(100), CN(101), HNC(102), NCO(103), HOCN(104), HNCO(105), NCCN(106), HNCN(107), NCN(108), HNCNH(109), HCNO(110), CH3CN(111), CH2CN(112), CH2NH(113), H2CN(114), CH3NO(115), CH4N(116), NCNOH(117), NCNO(118), CH2NO(119), S(120), S(121), S(122), S(123), S(124), S(125), S(126), S(127), S(128), S(129), S(130), S(131), S(132), CH5N(133), CH3NH(134), HCNH(135), C2H7N(136), C2H6N(137), C2H6N(138), C2H6N(139), C2H5N(140), C2H5N(141), CH3NO(142), C2H4N(143), C2H4N(144), C2H4N(145), H2NCO(146), C2H4N(147), C2H4N(148), C2H3N(149), C2H3N(150), C2H3N(151), C2H3N(152), CHCNH(153), C2H3N(154), C2H4N(155), C2H6N(156), C2H7N(157), C2H6N(158), C2H5N(159), C2H4N(160), H2NO3(239), ONONO(339), CHNO3(368), N2O2(386), CHNO2(393), HNO(490), ONCO(525), H3NO(534), NONDO(551), S(574), H3NO3(627), S(736), OCNDO(940), NH2NO(947), S(1095), S(1140), S(1374)\n"
     ]
    }
   ],
   "source": [
    "print(\", \".join(gas.species_names))"
   ]
  },
  {
   "cell_type": "code",
   "execution_count": 10,
   "metadata": {},
   "outputs": [
    {
     "name": "stdout",
     "output_type": "stream",
     "text": [
      "X(1), HX(26), OX(27), CH3X(28), HOX(29), H2OX(30), CO2X(31), OCX(32), CX(33), CH2X(34), CHX(35), H2NX(201), H3NX(202), H2NOX(203), H2NOX(204), H3NOX(205), HNO3X(208), CH3OX(210), CH4OX(211), NO2X(214), NOX(215), NOJX(216), H2X(218), CH2OX(224), HNX(519), HNOX(520), CH2OX(522), H2NOX(533), CHOX(588), SX(589), SX(590), HNO2X(594), NX(617), SX(618), CH4NX(666), CH3NX(667), CH2NX(668), H2N2X(671), HONOX(672), HNOX(744), SX(935), CNOX(943), N2OX(946), SX(955), SX(1252), SX(1484)\n"
     ]
    }
   ],
   "source": [
    "print(\", \".join(surf.species_names))"
   ]
  },
  {
   "cell_type": "code",
   "execution_count": 11,
   "metadata": {},
   "outputs": [],
   "source": [
    "# unit conversion factors to SI\n",
    "cm = 0.01 # m\n",
    "minute = 60.0  # s"
   ]
  },
  {
   "cell_type": "code",
   "execution_count": 12,
   "metadata": {},
   "outputs": [],
   "source": [
    "#######################################################################\n",
    "# Input Parameters for combustor\n",
    "#######################################################################\n",
    "mass_flow_rate =  0.5e-3 # kg/s\n",
    "\n",
    "pressure = ct.one_atm # constant\n",
    "\n",
    "length = 1.1 * cm  # Catalyst bed length. 11mm\n",
    "cross_section_area = np.pi * (0.9*cm)**2  # Catalyst bed area.  18mm diameter circle.\n"
   ]
  },
  {
   "cell_type": "code",
   "execution_count": 13,
   "metadata": {},
   "outputs": [],
   "source": [
    "NReactors = 2001\n",
    "def xlabels():\n",
    "    ticks = []\n",
    "    labels = []\n",
    "    mm = 0\n",
    "    while mm < length*1000:\n",
    "        ticks.append( int(NReactors * mm * 0.001 / length ) )\n",
    "        labels.append( str(mm) )\n",
    "        mm += 1\n",
    "    labels[-1] = labels[-1] + ' mm'\n",
    "    plt.xticks(ticks, labels)\n",
    "    plt.xlabel(\"Distance down reactor\")"
   ]
  },
  {
   "cell_type": "code",
   "execution_count": 14,
   "metadata": {},
   "outputs": [],
   "source": [
    "data = next(iter(data_dict.values()))\n",
    "specs = list(data.columns)\n",
    "specs = specs[4:-3]\n",
    "excluded = [s for s in data.columns if s not in specs]\n",
    "gas_species = [s for s in specs if 'X' not in s ]\n",
    "adsorbates = [s for s in specs if 'X' in s]"
   ]
  },
  {
   "cell_type": "code",
   "execution_count": 15,
   "metadata": {
    "scrolled": false
   },
   "outputs": [
    {
     "data": {
      "application/vnd.jupyter.widget-view+json": {
       "model_id": "9be98ce46bab4ab1ac57f23d5d9e0121",
       "version_major": 2,
       "version_minor": 0
      },
      "text/plain": [
       "interactive(children=(SelectionSlider(continuous_update=False, description='Catalyst area per volume (m2/m3)',…"
      ]
     },
     "metadata": {},
     "output_type": "display_data"
    },
    {
     "data": {
      "text/plain": [
       "<function __main__.f(cat_area_per_vol, temperature_c, rtol, atol)>"
      ]
     },
     "execution_count": 15,
     "metadata": {},
     "output_type": "execute_result"
    }
   ],
   "source": [
    "def f(cat_area_per_vol, temperature_c, rtol, atol):\n",
    "    \n",
    "    print(f\"Catalyst area per volume {cat_area_per_vol :.2e} m2/m3\")\n",
    "    print(f\"Initial temperature {temperature_c :.1f} ºC\")\n",
    "    print(f\"Solver RTol {rtol :.1e}\")\n",
    "    print(f\"Solver ATol {atol :.1e}\")\n",
    "    setting_tuple = (cat_area_per_vol, temperature_c, rtol, atol)\n",
    "    print(f\"Simulation number {setting_dict[setting_tuple]}\")\n",
    "    data = data_dict[setting_tuple]\n",
    "    \n",
    "    data['T (C)'].plot()\n",
    "    plt.ylabel('T (C)')\n",
    "    xlabels()\n",
    "    plt.show()\n",
    "    \n",
    "    data[['gas_heat','surface_heat']].plot()\n",
    "    xlabels()\n",
    "    #plt.savefig('gas_and_surface_heat.pdf')\n",
    "    plt.show()\n",
    "\n",
    "    species_to_plot = ['NH3(2)',\n",
    " 'NH2OH(3)',\n",
    " 'HNO3(4)',\n",
    " 'CH3OH(5)',\n",
    " 'H2O(6)',\n",
    " 'N2(7)',\n",
    " 'O2(8)',\n",
    " 'NO2(9)',\n",
    " 'NO(10)',\n",
    " 'N2O(11)',\n",
    "        ]\n",
    "    data[species_to_plot].plot(title='gas mole fraction', logy=False)\n",
    "    xlabels()\n",
    "    plt.tight_layout()\n",
    "    #plt.savefig(f'gas_mole_fractions_{i}.pdf')\n",
    "    plt.show()\n",
    "    \n",
    "    main_adsorbates = data[adsorbates].max().sort_values(ascending=False)[:10].keys()\n",
    "    data[main_adsorbates].plot.area()\n",
    "    xlabels()\n",
    "    plt.xlim(0,len(data)+5)\n",
    "    plt.tight_layout()\n",
    "    plt.savefig(f'surface_coverages_top10.pdf')\n",
    "    plt.show()\n",
    "\n",
    "    return data\n",
    "    \n",
    "\n",
    "area_ = widgets.SelectionSlider(\n",
    "    options=cat_area_per_vol_options,\n",
    "    value=3e5,\n",
    "    description='Catalyst area per volume (m2/m3)',\n",
    "    disabled=False,\n",
    "    continuous_update=False,\n",
    "    orientation='horizontal',\n",
    "    readout=True\n",
    ")\n",
    "temp_ = widgets.SelectionSlider(\n",
    "    options=temperature_c_options,\n",
    "    value=400,\n",
    "    description='Initial temperature (C)',\n",
    "    disabled=False,\n",
    "    continuous_update=False,\n",
    "    orientation='horizontal',\n",
    "    readout=True\n",
    ")\n",
    "\n",
    "rtol_ = widgets.SelectionSlider(\n",
    "    options=rtol_options,\n",
    "    value=rtol_options[1],\n",
    "    description='RTol',\n",
    "    disabled=False,\n",
    "    continuous_update=False,\n",
    "    orientation='horizontal',\n",
    "    readout=True\n",
    ")\n",
    "\n",
    "atol_ = widgets.SelectionSlider(\n",
    "    options=atol_options,\n",
    "    value=atol_options[1],\n",
    "    description='ATol',\n",
    "    disabled=False,\n",
    "    continuous_update=False,\n",
    "    orientation='horizontal',\n",
    "    readout=True\n",
    ")\n",
    "\n",
    "\n",
    "\n",
    "interact(f, cat_area_per_vol=area_, temperature_c=temp_, rtol=rtol_, atol=atol_)\n"
   ]
  },
  {
   "cell_type": "code",
   "execution_count": 16,
   "metadata": {},
   "outputs": [
    {
     "data": {
      "text/plain": [
       "11.000000000000002"
      ]
     },
     "execution_count": 16,
     "metadata": {},
     "output_type": "execute_result"
    }
   ],
   "source": [
    "data['Distance (mm)'].max()"
   ]
  },
  {
   "cell_type": "code",
   "execution_count": 17,
   "metadata": {
    "scrolled": false
   },
   "outputs": [
    {
     "name": "stdout",
     "output_type": "stream",
     "text": [
      "\n",
      "Highest net rates of progress, gas\n",
      "1581 : C2H4N(160) + O(36) => CH3(18) + H(20) + NCO(103)         0\n",
      "519 : C2H5(21) + O2(8) <=> OH(24) + cC2H4O(61)                 0\n",
      "521 : C2H5(21) + CH3OO(48) <=> C2H5O(58) + CH3O(46)            0\n",
      "522 : C2H3(50) + H(20) (+M) <=> C2H4(25) (+M)                  0\n",
      "523 : C2H4(25) (+M) <=> H2(13) + H2CC(63) (+M)                 0\n",
      "524 : C2H4(25) + H(20) <=> C2H3(50) + H2(13)                   0\n",
      "525 : C2H4(25) + O(36) <=> CH3(18) + HCO(22)                   0\n",
      "\n",
      "Highest net rates of progress, surface\n"
     ]
    },
    {
     "ename": "NameError",
     "evalue": "name 'cat_area_per_vol' is not defined",
     "output_type": "error",
     "traceback": [
      "\u001b[0;31m---------------------------------------------------------------------------\u001b[0m",
      "\u001b[0;31mNameError\u001b[0m                                 Traceback (most recent call last)",
      "\u001b[0;32m<ipython-input-17-a77d6de9f2a6>\u001b[0m in \u001b[0;36m<module>\u001b[0;34m\u001b[0m\n\u001b[1;32m     22\u001b[0m     \u001b[0mprint\u001b[0m\u001b[0;34m(\u001b[0m\u001b[0;34m\"So are on a similar basis of volume of reactor (though porosity not yet accounted for)\"\u001b[0m\u001b[0;34m)\u001b[0m\u001b[0;34m\u001b[0m\u001b[0;34m\u001b[0m\u001b[0m\n\u001b[1;32m     23\u001b[0m     \u001b[0mprint\u001b[0m\u001b[0;34m(\u001b[0m\u001b[0;34m\" kmol / m3 / s\"\u001b[0m\u001b[0;34m)\u001b[0m\u001b[0;34m\u001b[0m\u001b[0;34m\u001b[0m\u001b[0m\n\u001b[0;32m---> 24\u001b[0;31m \u001b[0mreport_rates\u001b[0m\u001b[0;34m(\u001b[0m\u001b[0;34m)\u001b[0m\u001b[0;34m\u001b[0m\u001b[0;34m\u001b[0m\u001b[0m\n\u001b[0m",
      "\u001b[0;32m<ipython-input-17-a77d6de9f2a6>\u001b[0m in \u001b[0;36mreport_rates\u001b[0;34m(n)\u001b[0m\n\u001b[1;32m      5\u001b[0m     \u001b[0mprint\u001b[0m\u001b[0;34m(\u001b[0m\u001b[0;34m\"\\nHighest net rates of progress, surface\"\u001b[0m\u001b[0;34m)\u001b[0m\u001b[0;34m\u001b[0m\u001b[0;34m\u001b[0m\u001b[0m\n\u001b[1;32m      6\u001b[0m     \u001b[0;32mfor\u001b[0m \u001b[0mi\u001b[0m \u001b[0;32min\u001b[0m \u001b[0mnp\u001b[0m\u001b[0;34m.\u001b[0m\u001b[0margsort\u001b[0m\u001b[0;34m(\u001b[0m\u001b[0mabs\u001b[0m\u001b[0;34m(\u001b[0m\u001b[0msurf\u001b[0m\u001b[0;34m.\u001b[0m\u001b[0mnet_rates_of_progress\u001b[0m\u001b[0;34m)\u001b[0m\u001b[0;34m)\u001b[0m\u001b[0;34m[\u001b[0m\u001b[0;34m-\u001b[0m\u001b[0;36m1\u001b[0m\u001b[0;34m:\u001b[0m\u001b[0;34m-\u001b[0m\u001b[0mn\u001b[0m\u001b[0;34m:\u001b[0m\u001b[0;34m-\u001b[0m\u001b[0;36m1\u001b[0m\u001b[0;34m]\u001b[0m\u001b[0;34m:\u001b[0m \u001b[0;31m# top n in descending order\u001b[0m\u001b[0;34m\u001b[0m\u001b[0;34m\u001b[0m\u001b[0m\n\u001b[0;32m----> 7\u001b[0;31m         \u001b[0mprint\u001b[0m\u001b[0;34m(\u001b[0m\u001b[0;34mf\"{i:3d} : {surf.reaction_equation(i):48s}  {cat_area_per_vol*surf.net_rates_of_progress[i]:8.1g}\"\u001b[0m\u001b[0;34m)\u001b[0m\u001b[0;34m\u001b[0m\u001b[0;34m\u001b[0m\u001b[0m\n\u001b[0m\u001b[1;32m      8\u001b[0m     \u001b[0mprint\u001b[0m\u001b[0;34m(\u001b[0m\u001b[0;34m\"\\nHighest forward rates of progress, gas\"\u001b[0m\u001b[0;34m)\u001b[0m\u001b[0;34m\u001b[0m\u001b[0;34m\u001b[0m\u001b[0m\n\u001b[1;32m      9\u001b[0m     \u001b[0;32mfor\u001b[0m \u001b[0mi\u001b[0m \u001b[0;32min\u001b[0m \u001b[0mnp\u001b[0m\u001b[0;34m.\u001b[0m\u001b[0margsort\u001b[0m\u001b[0;34m(\u001b[0m\u001b[0mabs\u001b[0m\u001b[0;34m(\u001b[0m\u001b[0mgas\u001b[0m\u001b[0;34m.\u001b[0m\u001b[0mforward_rates_of_progress\u001b[0m\u001b[0;34m)\u001b[0m\u001b[0;34m)\u001b[0m\u001b[0;34m[\u001b[0m\u001b[0;34m-\u001b[0m\u001b[0;36m1\u001b[0m\u001b[0;34m:\u001b[0m\u001b[0;34m-\u001b[0m\u001b[0mn\u001b[0m\u001b[0;34m:\u001b[0m\u001b[0;34m-\u001b[0m\u001b[0;36m1\u001b[0m\u001b[0;34m]\u001b[0m\u001b[0;34m:\u001b[0m \u001b[0;31m# top n in descending order\u001b[0m\u001b[0;34m\u001b[0m\u001b[0;34m\u001b[0m\u001b[0m\n",
      "\u001b[0;31mNameError\u001b[0m: name 'cat_area_per_vol' is not defined"
     ]
    }
   ],
   "source": [
    "def report_rates(n=8):\n",
    "    print(\"\\nHighest net rates of progress, gas\")\n",
    "    for i in np.argsort(abs(gas.net_rates_of_progress))[-1:-n:-1]: # top n in descending order\n",
    "        print(f\"{i:3d} : {gas.reaction_equation(i):48s}  {gas.net_rates_of_progress[i]:8.1g}\")\n",
    "    print(\"\\nHighest net rates of progress, surface\")\n",
    "    for i in np.argsort(abs(surf.net_rates_of_progress))[-1:-n:-1]: # top n in descending order\n",
    "        print(f\"{i:3d} : {surf.reaction_equation(i):48s}  {cat_area_per_vol*surf.net_rates_of_progress[i]:8.1g}\")\n",
    "    print(\"\\nHighest forward rates of progress, gas\")\n",
    "    for i in np.argsort(abs(gas.forward_rates_of_progress))[-1:-n:-1]: # top n in descending order\n",
    "        print(f\"{i:3d} : {gas.reaction_equation(i):48s}  {gas.forward_rates_of_progress[i]:8.1g}\")\n",
    "    print(\"\\nHighest forward rates of progress, surface\")\n",
    "    for i in np.argsort(abs(surf.forward_rates_of_progress))[-1:-n:-1]: # top n in descending order\n",
    "        print(f\"{i:3d} : {surf.reaction_equation(i):48s}  {cat_area_per_vol*surf.forward_rates_of_progress[i]:8.1g}\")\n",
    "    print(\"\\nHighest reverse rates of progress, gas\")\n",
    "    for i in np.argsort(abs(gas.reverse_rates_of_progress))[-1:-n:-1]: # top n in descending order\n",
    "        print(f\"{i:3d} : {gas.reaction_equation(i):48s}  {gas.reverse_rates_of_progress[i]:8.1g}\")\n",
    "    print(\"\\nHighest reverse rates of progress, surface\")\n",
    "    for i in np.argsort(abs(surf.reverse_rates_of_progress))[-1:-n:-1]: # top n in descending order\n",
    "        print(f\"{i:3d} : {surf.reaction_equation(i):48s}  {cat_area_per_vol*surf.reverse_rates_of_progress[i]:8.1g}\")\n",
    "\n",
    "    print(f\"\\nSurface rates have been scaled by surface/volume ratio {cat_area_per_vol:.1e} m2/m3\")\n",
    "    print(\"So are on a similar basis of volume of reactor (though porosity not yet accounted for)\")\n",
    "    print(\" kmol / m3 / s\")\n",
    "report_rates()"
   ]
  },
  {
   "cell_type": "code",
   "execution_count": null,
   "metadata": {
    "scrolled": false
   },
   "outputs": [],
   "source": [
    "def report_rate_constants(n=8):\n",
    "    print(\"\\nHighest forward rate constants, gas\")\n",
    "    for i in np.argsort(abs(gas.forward_rate_constants))[-1:-n:-1]: # top n in descending order\n",
    "        print(f\"{i:3d} : {gas.reaction_equation(i):48s}  {gas.forward_rate_constants[i]:8.1e}\")\n",
    "    print(\"\\nHighest forward rate constants, surface\")\n",
    "    for i in np.argsort(abs(surf.forward_rate_constants))[-1:-n:-1]: # top n in descending order\n",
    "        print(f\"{i:3d} : {surf.reaction_equation(i):48s}  {surf.forward_rate_constants[i]:8.1e}\")\n",
    "    print(\"\\nHighest reverse rate constants, gas\")\n",
    "    for i in np.argsort(abs(gas.reverse_rate_constants))[-1:-n:-1]: # top n in descending order\n",
    "        print(f\"{i:3d} : {gas.reaction_equation(i):48s}  {gas.reverse_rate_constants[i]:8.1e}\")\n",
    "    print(\"\\nHighest reverse rate constants, surface\")\n",
    "    for i in np.argsort(abs(surf.reverse_rate_constants))[-1:-n:-1]: # top n in descending order\n",
    "        print(f\"{i:3d} : {surf.reaction_equation(i):48s}  {surf.reverse_rate_constants[i]:8.1e}\")\n",
    "\n",
    "    print(\"Units are a combination of kmol, m^3 and s, that depend on the rate expression for the reaction.\")\n",
    "report_rate_constants()"
   ]
  },
  {
   "cell_type": "code",
   "execution_count": null,
   "metadata": {},
   "outputs": [],
   "source": []
  },
  {
   "cell_type": "code",
   "execution_count": null,
   "metadata": {},
   "outputs": [],
   "source": [
    "sim.time"
   ]
  },
  {
   "cell_type": "code",
   "execution_count": null,
   "metadata": {},
   "outputs": [],
   "source": [
    "gas.TDY = TDY\n",
    "r.syncState()\n",
    "r.thermo.T"
   ]
  },
  {
   "cell_type": "code",
   "execution_count": null,
   "metadata": {},
   "outputs": [],
   "source": [
    "r.thermo.X - gas.X"
   ]
  },
  {
   "cell_type": "code",
   "execution_count": null,
   "metadata": {},
   "outputs": [],
   "source": [
    "report_rate_constants()"
   ]
  },
  {
   "cell_type": "code",
   "execution_count": null,
   "metadata": {},
   "outputs": [],
   "source": [
    "def xlabels():\n",
    "    plt.xticks([0,NReactors/4,NReactors/2,3*NReactors/4, NReactors],['0','','','',f'{length*1000:.0f} mm'])\n",
    "    plt.xlabel(\"Distance down reactor\")"
   ]
  },
  {
   "cell_type": "code",
   "execution_count": null,
   "metadata": {},
   "outputs": [],
   "source": [
    "data['T (C)'].plot()\n",
    "plt.ylabel('T (C)')\n",
    "xlabels()"
   ]
  },
  {
   "cell_type": "code",
   "execution_count": null,
   "metadata": {},
   "outputs": [],
   "source": [
    "data[['NH2OH(3)', 'HNO3(4)', 'CH3OH(5)']].plot()\n",
    "plt.ylabel('Mole fraction')\n",
    "xlabels()"
   ]
  },
  {
   "cell_type": "code",
   "execution_count": null,
   "metadata": {},
   "outputs": [],
   "source": [
    "list(data.columns)[:4]"
   ]
  },
  {
   "cell_type": "code",
   "execution_count": null,
   "metadata": {},
   "outputs": [],
   "source": [
    "data[['T (C)', 'alpha']].plot()\n",
    "xlabels()"
   ]
  },
  {
   "cell_type": "code",
   "execution_count": null,
   "metadata": {},
   "outputs": [],
   "source": [
    "ax1 = data['T (C)'].plot()\n",
    "plt.ylabel('Temperature (C)')\n",
    "xlabels()\n",
    "plt.legend()\n",
    "ax2 = ax1.twinx()\n",
    "data['alpha'].plot(ax=ax2, color='tab:orange')\n",
    "ax2.set_ylim(-2, 2)\n",
    "plt.legend()\n",
    "plt.ylabel('alpha')\n",
    "plt.tight_layout()\n",
    "plt.savefig('temperature-and-alpha.pdf')\n",
    "plt.show()"
   ]
  },
  {
   "cell_type": "code",
   "execution_count": null,
   "metadata": {},
   "outputs": [],
   "source": [
    "data.columns"
   ]
  },
  {
   "cell_type": "code",
   "execution_count": null,
   "metadata": {},
   "outputs": [],
   "source": [
    "data[['gas_heat','surface_heat']].plot()\n",
    "#plt.ylim(-1e7, 1e7)\n",
    "xlabels()\n",
    "plt.savefig('gas_and_surface_heat.pdf')\n",
    "plt.show()\n"
   ]
  },
  {
   "cell_type": "code",
   "execution_count": null,
   "metadata": {},
   "outputs": [],
   "source": [
    "ax1 = data[['gas_heat','surface_heat']].plot()\n",
    "plt.ylim(-1e9, 1e9)\n",
    "xlabels()\n",
    "plt.ylabel('Heat consumption rate (kJ/m3/s)')\n",
    "plt.legend(loc='upper left')\n",
    "ax2 = ax1.twinx()\n",
    "data['alpha'].plot(ax=ax2, style='k:', alpha=0.5)\n",
    "ax2.set_ylim(-10, 10)\n",
    "plt.legend(loc='lower right')\n",
    "plt.ylabel('alpha')\n",
    "plt.tight_layout()\n",
    "plt.savefig('heats-and-alpha.pdf')\n",
    "plt.show()"
   ]
  },
  {
   "cell_type": "code",
   "execution_count": null,
   "metadata": {},
   "outputs": [],
   "source": [
    "data[['T (C)']].plot()\n",
    "plt.ylabel('Temperature (C)')\n",
    "xlabels()\n",
    "plt.tight_layout()\n",
    "plt.savefig('temperature.pdf')\n",
    "plt.show()"
   ]
  },
  {
   "cell_type": "code",
   "execution_count": null,
   "metadata": {},
   "outputs": [],
   "source": [
    "data[['alpha']].plot(logy=True)\n",
    "xlabels()"
   ]
  },
  {
   "cell_type": "code",
   "execution_count": null,
   "metadata": {},
   "outputs": [],
   "source": [
    "data.plot(x='T (C)',y='alpha')\n"
   ]
  },
  {
   "cell_type": "code",
   "execution_count": null,
   "metadata": {},
   "outputs": [],
   "source": [
    "specs = list(data.columns)\n",
    "specs = specs[4:-1]\n",
    "\n",
    "gas_species = [s for s in specs if 'X' not in s]\n",
    "adsorbates = [s for s in specs if 'X' in s]\n",
    "\n",
    "gas_species, adsorbates"
   ]
  },
  {
   "cell_type": "code",
   "execution_count": null,
   "metadata": {},
   "outputs": [],
   "source": [
    "data[gas_species[0:5]].plot(logy=True, logx=True)"
   ]
  },
  {
   "cell_type": "code",
   "execution_count": null,
   "metadata": {
    "scrolled": false
   },
   "outputs": [],
   "source": [
    "for i in range(0,len(gas_species),10):\n",
    "    data[gas_species[i:i+10]].plot(title='gas mole fraction', logy=False)\n",
    "    xlabels()\n",
    "    plt.tight_layout()\n",
    "    plt.savefig(f'gas_mole_fractions_{i}.pdf')\n",
    "    plt.show()\n",
    "    \n",
    "for i in range(0,len(adsorbates),10):\n",
    "    data[adsorbates[i:i+10]].plot(title='surface coverages', logy=False)\n",
    "    xlabels()\n",
    "    plt.tight_layout()\n",
    "    plt.savefig(f'surface_coverages_{i}.pdf')\n",
    "    plt.show()"
   ]
  },
  {
   "cell_type": "code",
   "execution_count": null,
   "metadata": {},
   "outputs": [],
   "source": []
  },
  {
   "cell_type": "code",
   "execution_count": null,
   "metadata": {},
   "outputs": [],
   "source": []
  },
  {
   "cell_type": "code",
   "execution_count": null,
   "metadata": {},
   "outputs": [],
   "source": []
  },
  {
   "cell_type": "code",
   "execution_count": null,
   "metadata": {},
   "outputs": [],
   "source": []
  }
 ],
 "metadata": {
  "kernelspec": {
   "display_name": "Python 3",
   "language": "python",
   "name": "python3"
  },
  "language_info": {
   "codemirror_mode": {
    "name": "ipython",
    "version": 3
   },
   "file_extension": ".py",
   "mimetype": "text/x-python",
   "name": "python",
   "nbconvert_exporter": "python",
   "pygments_lexer": "ipython3",
   "version": "3.7.4"
  }
 },
 "nbformat": 4,
 "nbformat_minor": 2
}
