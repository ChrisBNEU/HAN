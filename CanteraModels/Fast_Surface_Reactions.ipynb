{
 "cells": [
  {
   "cell_type": "markdown",
   "metadata": {},
   "source": [
    "## Notebook to generate collision rate violators for any RMG job while running"
   ]
  },
  {
   "cell_type": "code",
   "execution_count": 1,
   "metadata": {},
   "outputs": [],
   "source": [
    "import logging\n",
    "import numpy as np\n",
    "import os\n",
    "import sys"
   ]
  },
  {
   "cell_type": "code",
   "execution_count": 2,
   "metadata": {},
   "outputs": [
    {
     "name": "stderr",
     "output_type": "stream",
     "text": [
      "RDKit WARNING: [11:12:55] Enabling RDKit 2019.09.3 jupyter extensions\n"
     ]
    },
    {
     "name": "stdout",
     "output_type": "stream",
     "text": [
      "RMG-Py Version 3.0.0\n",
      "/home/nadeau.ma/Code/RMG-Py/rmgpy/__init__.py\n"
     ]
    }
   ],
   "source": [
    "import os, sys\n",
    "rmg_path = os.getenv('RMGpy')\n",
    "if rmg_path not in sys.path:\n",
    "    sys.path.append(rmg_path)\n",
    "sys.path\n",
    "\n",
    "import rmgpy\n",
    "from rmgpy.chemkin import load_chemkin_file\n",
    "from rmgpy.rmgobject import RMGObject, expand_to_dict, recursive_make_object\n",
    "\n",
    "print(f\"RMG-Py Version {rmgpy.__version__}\")\n",
    "print(rmgpy.__file__)"
   ]
  },
  {
   "cell_type": "code",
   "execution_count": 3,
   "metadata": {},
   "outputs": [],
   "source": [
    "chemkin_file = '../RMG-model/chemkin/chem_annotated-surface.inp'\n",
    "chemkin_folder = os.path.split(chemkin_file)[0]\n",
    "species_dictionary_file = os.path.join(chemkin_folder, 'species_dictionary.txt') #use this?\n",
    "transport_file = os.path.join(chemkin_folder, 'tran.dat') #use this? "
   ]
  },
  {
   "cell_type": "code",
   "execution_count": 4,
   "metadata": {},
   "outputs": [],
   "source": [
    "rmgpy.chemkin.get_species_identifier?"
   ]
  },
  {
   "cell_type": "code",
   "execution_count": 5,
   "metadata": {},
   "outputs": [
    {
     "name": "stderr",
     "output_type": "stream",
     "text": [
      "ERROR:root:Error reading thermo block:\n",
      "SX(589)                                     G   100.000  5000.000  927.54      1&\n",
      " 7.56646801E+00 6.54110166E-04 1.15314853E-06-2.19881003E-10 1.02739492E-14    2\n",
      "-1.85741567E+04-2.46764604E+01 4.01231583E+00-1.06358545E-02 6.24561236E-05    3\n",
      "-7.52199113E-08 2.85640052E-11-1.67698612E+04-1.62496444E+00                   4\n",
      "\n"
     ]
    },
    {
     "ename": "ValueError",
     "evalue": "invalid literal for int() with base 10: '6.54110166E-04'",
     "output_type": "error",
     "traceback": [
      "\u001b[0;31m---------------------------------------------------------------------------\u001b[0m",
      "\u001b[0;31mValueError\u001b[0m                                Traceback (most recent call last)",
      "\u001b[0;32m<ipython-input-5-13a17ae87054>\u001b[0m in \u001b[0;36m<module>\u001b[0;34m\u001b[0m\n\u001b[1;32m      1\u001b[0m species, reactions = rmgpy.chemkin.load_chemkin_file(\n\u001b[1;32m      2\u001b[0m                     \u001b[0mchemkin_file\u001b[0m\u001b[0;34m,\u001b[0m \u001b[0mspecies_dictionary_file\u001b[0m\u001b[0;34m,\u001b[0m\u001b[0mtransport_path\u001b[0m\u001b[0;34m=\u001b[0m\u001b[0mtransport_file\u001b[0m\u001b[0;34m,\u001b[0m\u001b[0;34m\u001b[0m\u001b[0;34m\u001b[0m\u001b[0m\n\u001b[0;32m----> 3\u001b[0;31m                     check_duplicates=False, use_chemkin_names=True,read_comments=True)\n\u001b[0m",
      "\u001b[0;32m~/Code/RMG-Py/rmgpy/chemkin.pyx\u001b[0m in \u001b[0;36mrmgpy.chemkin.load_chemkin_file\u001b[0;34m()\u001b[0m\n",
      "\u001b[0;32m~/Code/RMG-Py/rmgpy/chemkin.pyx\u001b[0m in \u001b[0;36mrmgpy.chemkin.load_chemkin_file\u001b[0;34m()\u001b[0m\n",
      "\u001b[0;32m~/Code/RMG-Py/rmgpy/chemkin.pyx\u001b[0m in \u001b[0;36mrmgpy.chemkin.read_thermo_block\u001b[0;34m()\u001b[0m\n",
      "\u001b[0;32m~/Code/RMG-Py/rmgpy/chemkin.pyx\u001b[0m in \u001b[0;36mrmgpy.chemkin.read_thermo_block\u001b[0;34m()\u001b[0m\n",
      "\u001b[0;32m~/Code/RMG-Py/rmgpy/chemkin.pyx\u001b[0m in \u001b[0;36mrmgpy.chemkin.read_thermo_entry\u001b[0;34m()\u001b[0m\n",
      "\u001b[0;31mValueError\u001b[0m: invalid literal for int() with base 10: '6.54110166E-04'"
     ]
    }
   ],
   "source": [
    "species, reactions = rmgpy.chemkin.load_chemkin_file(\n",
    "                    chemkin_file, species_dictionary_file,transport_path=transport_file,\n",
    "                    check_duplicates=False, use_chemkin_names=True,read_comments=True)\n"
   ]
  },
  {
   "cell_type": "code",
   "execution_count": null,
   "metadata": {},
   "outputs": [],
   "source": [
    "species_dict = {rmgpy.chemkin.get_species_identifier(s): s for s in species}\n",
    "species_dict.keys()"
   ]
  },
  {
   "cell_type": "code",
   "execution_count": null,
   "metadata": {},
   "outputs": [],
   "source": []
  },
  {
   "cell_type": "code",
   "execution_count": null,
   "metadata": {},
   "outputs": [],
   "source": [
    "def check_collision_limit_violation(self, t_min, t_max, p_min, p_max):\n",
    "        \"\"\"\n",
    "        Warn if a core reaction violates the collision limit rate in either the forward or reverse direction\n",
    "        at the relevant extreme T/P conditions. Assuming a monotonic behaviour of the kinetics.\n",
    "        Returns a list with the reaction object and the direction in which the violation was detected.\n",
    "        \"\"\"\n",
    "        conditions = [[t_min, p_min]]\n",
    "        if t_min != t_max:\n",
    "            conditions.append([t_max, p_min])\n",
    "        if self.kinetics.is_pressure_dependent() and p_max != p_min:\n",
    "            conditions.append([t_min, p_max])\n",
    "            if t_min != t_max:\n",
    "                conditions.append([t_max, p_max])\n",
    "        logging.debug(\"Checking whether reaction {0} violates the collision rate limit...\".format(self))\n",
    "        violator_list = []\n",
    "        kf_list = []\n",
    "        kr_list = []\n",
    "        collision_limit_f = []\n",
    "        collision_limit_r = []\n",
    "        for condition in conditions:\n",
    "            if len(self.reactants) >= 2:\n",
    "                try:\n",
    "                    collision_limit_f.append(self.calculate_coll_limit(temp=condition[0], reverse=False))\n",
    "                except ValueError:\n",
    "                    continue\n",
    "                else:\n",
    "                    kf_list.append(self.get_rate_coefficient(condition[0], condition[1]))\n",
    "            if len(self.products) >= 2:\n",
    "                try:\n",
    "                    collision_limit_r.append(self.calculate_coll_limit(temp=condition[0], reverse=True))\n",
    "                except ValueError:\n",
    "                    continue\n",
    "                else:\n",
    "                    kr_list.append(self.generate_reverse_rate_coefficient().get_rate_coefficient(condition[0], condition[1]))\n",
    "        if len(self.reactants) >= 2:\n",
    "            for i, k in enumerate(kf_list):\n",
    "                if k > collision_limit_f[i]:\n",
    "                    ratio = k / collision_limit_f[i]\n",
    "                    condition = '{0} K, {1:.1f} bar'.format(conditions[i][0], conditions[i][1] / 1e5)\n",
    "                    violator_list.append([self, 'forward', ratio, condition])\n",
    "        if len(self.products) >= 2:\n",
    "            for i, k in enumerate(kr_list):\n",
    "                if k > collision_limit_r[i]:\n",
    "                    ratio = k / collision_limit_r[i]\n",
    "                    condition = '{0} K, {1:.1f} bar'.format(conditions[i][0], conditions[i][1] / 1e5)\n",
    "                    violator_list.append([self, 'reverse', ratio, condition])\n",
    "        return violator_list"
   ]
  },
  {
   "cell_type": "code",
   "execution_count": null,
   "metadata": {},
   "outputs": [],
   "source": [
    "import numpy as np\n",
    "np.linalg.LinAlgError"
   ]
  },
  {
   "cell_type": "code",
   "execution_count": null,
   "metadata": {},
   "outputs": [],
   "source": [
    "violators = []\n",
    "for r in reactions:\n",
    "    try:\n",
    "        v = check_collision_limit_violation(r, 150+273,1000, 1e5, 30e5)\n",
    "    except np.linalg.LinAlgError:\n",
    "        print(f\"LinAlgError checking {r}\")\n",
    "    if v:\n",
    "        print(r)\n",
    "        violators.extend(v)"
   ]
  },
  {
   "cell_type": "code",
   "execution_count": null,
   "metadata": {},
   "outputs": [],
   "source": [
    "from rmgpy.data.kinetics import TemplateReaction, LibraryReaction\n",
    "from rmgpy.rmg.pdep import PDepReaction"
   ]
  },
  {
   "cell_type": "code",
   "execution_count": null,
   "metadata": {},
   "outputs": [],
   "source": [
    "violators.sort(key = lambda violator: -violator[2])"
   ]
  },
  {
   "cell_type": "code",
   "execution_count": null,
   "metadata": {},
   "outputs": [],
   "source": [
    "ratios = [np.log10(violator[2]) for violator in violators]\n",
    "from matplotlib import pyplot as plt\n",
    "plt.bar(np.arange(len(ratios)), ratios)\n",
    "plt.ylabel(\"orders of magnitude above collision limit\")\n",
    "plt.xlabel(f\"reaction index (of {len(reactions)} total)\")"
   ]
  },
  {
   "cell_type": "code",
   "execution_count": null,
   "metadata": {},
   "outputs": [],
   "source": [
    "len(ratios), len(reactions)"
   ]
  },
  {
   "cell_type": "code",
   "execution_count": null,
   "metadata": {},
   "outputs": [],
   "source": [
    "for violator in violators[:100]:\n",
    "    rxn_string = str(violator[0])\n",
    "    direction = {'forward':'=>','reverse':'<='}[violator[1]]\n",
    "    ratio = violator[2]\n",
    "    print(f\"{rxn_string.replace('<=>',direction) :48s}  {ratio :.1g}\")"
   ]
  },
  {
   "cell_type": "code",
   "execution_count": null,
   "metadata": {},
   "outputs": [],
   "source": [
    "from collections import Counter\n",
    "import re"
   ]
  },
  {
   "cell_type": "code",
   "execution_count": null,
   "metadata": {},
   "outputs": [],
   "source": [
    "Counter?"
   ]
  },
  {
   "cell_type": "code",
   "execution_count": null,
   "metadata": {},
   "outputs": [],
   "source": [
    "test = violators[0]\n",
    "print(test[0])\n",
    "print(test[1])\n",
    "print(test[2])\n",
    "print(test[3])"
   ]
  },
  {
   "cell_type": "code",
   "execution_count": null,
   "metadata": {
    "scrolled": true
   },
   "outputs": [],
   "source": [
    "families = Counter()\n",
    "templates = Counter()\n",
    "rate_rules = Counter()\n",
    "problem_species = Counter()\n",
    "for violator in violators:\n",
    "    rxn_string = str(violator[0])\n",
    "    kinetics = violator[0].kinetics\n",
    "    comment = ''\n",
    "    if isinstance(violator[0], TemplateReaction):\n",
    "        comment = violator[0].kinetics.comment\n",
    "        violator[0].kinetics.comment = ''  # the comment is printed better when outside of the object\n",
    "    if isinstance(violator[0], LibraryReaction):\n",
    "        comment = 'Kinetic library: {0}'.format(violator[0].library)\n",
    "    if isinstance(violator[0], PDepReaction):\n",
    "        comment = 'Network #{0}'.format(violator[0].network)\n",
    "    direction = violator[1]\n",
    "    ratio = violator[2]\n",
    "    condition = violator[3]\n",
    "    \n",
    "    problem_species.update(violator[0].reactants)\n",
    "    problem_species.update(violator[0].products)\n",
    "    \n",
    "    m = re.search('family: (.*)', comment)\n",
    "    if m:\n",
    "        families[m.group(1)] += 1\n",
    "    n = re.search('rate rule (.*)', comment)\n",
    "    if n:\n",
    "        rate_rules[m.group(1) + n.group(1)] += 1\n",
    "    n = re.search('using template (\\S+)', comment)\n",
    "    if n:\n",
    "        templates[m.group(1) + n.group(1)] += 1\n",
    "    \n",
    "    if ratio < 5:\n",
    "        continue # only print the big ones!\n",
    "    \n",
    "    display(violator[0])\n",
    "    print('{0}\\n{1}\\n{2}\\nDirection: {3}\\nViolation factor: {4:.2g}\\n'\n",
    "                      'Violation condition: {5}\\n\\n'.format(rxn_string, kinetics, comment, direction,\n",
    "                                                            ratio, condition))\n",
    "    if isinstance(violator[0], TemplateReaction):\n",
    "        # although this is the end of the run, restore the original comment\n",
    "        violator[0].kinetics.comment = comment"
   ]
  },
  {
   "cell_type": "code",
   "execution_count": null,
   "metadata": {},
   "outputs": [],
   "source": [
    "families.most_common(10)"
   ]
  },
  {
   "cell_type": "code",
   "execution_count": null,
   "metadata": {},
   "outputs": [],
   "source": [
    "# This is what was used\n",
    "templates.most_common(10)"
   ]
  },
  {
   "cell_type": "code",
   "execution_count": null,
   "metadata": {},
   "outputs": [],
   "source": [
    "# This is what it was trying to use\n",
    "rate_rules.most_common(10)"
   ]
  },
  {
   "cell_type": "code",
   "execution_count": null,
   "metadata": {
    "scrolled": true
   },
   "outputs": [],
   "source": [
    "# Most common species\n",
    "for s,n in problem_species.most_common(20):\n",
    "    print(f\"{str(s):10s}  {n:3d}  {s.thermo.comment[:40]}\")"
   ]
  },
  {
   "cell_type": "code",
   "execution_count": null,
   "metadata": {
    "scrolled": true
   },
   "outputs": [],
   "source": [
    "for s,n in problem_species.most_common(10):\n",
    "    display(s)\n",
    "    print(s)\n",
    "    print(s.molecule[0].to_adjacency_list())\n",
    "    print(s.thermo.comment)\n",
    "    print('-'*80)"
   ]
  },
  {
   "cell_type": "code",
   "execution_count": null,
   "metadata": {},
   "outputs": [],
   "source": []
  }
 ],
 "metadata": {
  "kernelspec": {
   "display_name": "Python 3",
   "language": "python",
   "name": "python3"
  },
  "language_info": {
   "codemirror_mode": {
    "name": "ipython",
    "version": 3
   },
   "file_extension": ".py",
   "mimetype": "text/x-python",
   "name": "python",
   "nbconvert_exporter": "python",
   "pygments_lexer": "ipython3",
   "version": "3.7.5"
  }
 },
 "nbformat": 4,
 "nbformat_minor": 2
}
