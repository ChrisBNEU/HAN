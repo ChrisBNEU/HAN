{
 "cells": [
  {
   "cell_type": "markdown",
   "metadata": {},
   "source": [
    "## Notebook to generate collision rate violators for any RMG job while running"
   ]
  },
  {
   "cell_type": "code",
   "execution_count": 1,
   "metadata": {},
   "outputs": [],
   "source": [
    "import logging\n",
    "import numpy as np\n",
    "import os\n",
    "import sys"
   ]
  },
  {
   "cell_type": "code",
   "execution_count": 2,
   "metadata": {},
   "outputs": [
    {
     "name": "stderr",
     "output_type": "stream",
     "text": [
      "RDKit WARNING: [00:26:39] Enabling RDKit 2019.09.1 jupyter extensions\n"
     ]
    },
    {
     "name": "stdout",
     "output_type": "stream",
     "text": [
      "RMG-Py Version 3.0.0\n",
      "/Users/rwest/Code/RMG-Py/rmgpy/__init__.py\n"
     ]
    }
   ],
   "source": [
    "import os, sys\n",
    "rmg_path = os.getenv('RMGpy')\n",
    "if rmg_path not in sys.path:\n",
    "    sys.path.append(rmg_path)\n",
    "sys.path\n",
    "\n",
    "import rmgpy\n",
    "from rmgpy.chemkin import load_chemkin_file\n",
    "from rmgpy.rmgobject import RMGObject, expand_to_dict, recursive_make_object\n",
    "\n",
    "print(f\"RMG-Py Version {rmgpy.__version__}\")\n",
    "print(rmgpy.__file__)"
   ]
  },
  {
   "cell_type": "code",
   "execution_count": 3,
   "metadata": {},
   "outputs": [],
   "source": [
    "chemkin_file = '../RMG-model/chemkin/chem_annotated-gas.inp'\n",
    "chemkin_folder = os.path.split(chemkin_file)[0]\n",
    "species_dictionary_file = os.path.join(chemkin_folder, 'species_dictionary.txt')\n",
    "transport_file = os.path.join(chemkin_folder, 'tran.dat')"
   ]
  },
  {
   "cell_type": "code",
   "execution_count": 4,
   "metadata": {},
   "outputs": [],
   "source": [
    "species, reactions = rmgpy.chemkin.load_chemkin_file(\n",
    "                    chemkin_file, species_dictionary_file,transport_path=transport_file,\n",
    "                    check_duplicates=False, use_chemkin_names=True,read_comments=True)\n",
    "\n"
   ]
  },
  {
   "cell_type": "code",
   "execution_count": 5,
   "metadata": {},
   "outputs": [
    {
     "data": {
      "text/plain": [
       "dict_keys(['Ne', 'H4N2O2(2)', 'NH2OH(3)', 'HNO3(4)', 'CH3OH(5)', 'H2O(6)', 'N2(7)', 'O2(8)', 'NO2(9)', 'NO(10)', 'N2O(11)', 'CO2(12)', 'H2(13)', 'CO(14)', 'CH4(15)', 'C2H6(16)', 'CH2O(17)', 'CH3(18)', 'C3H8(19)', 'H(20)', 'C2H5(21)', 'HCO(22)', 'CH3CHO(23)', 'OH(24)', 'C2H4(25)', 'O(36)', 'HO2(39)', 'H2O2(40)', 'CH2OH(45)', 'CH3O(46)', 'NH2(85)', 'NH3(86)', 'NH(87)', 'HNO(88)', 'H2NO(89)', 'HONO(93)', 'HNOH(94)', 'HNO2(95)', 'NO3(96)', 'N2H2(97)', 'N2H3(99)', 'N2H4(100)', 'H3N2O(193)', 'S(194)', 'H2NO2(195)', 'S(196)', 'S(197)', 'H2NO3(252)', 'NOHJJ(255)', 'ONCDO(272)', 'H2NO4(293)', 'HNO(501)', 'H2N2O(502)', 'H2N2O(503)', 'NNDO(506)', 'H3N2O(507)', 'H3N2O(508)', 'H4N2O(514)', 'NNO(515)', 'S(566)', 'H2N2(575)', 'S(650)', 'H2NO5(674)', 'H2NO3(714)', 'H2N2(742)', 'NH3NH(748)', 'H2NO2(813)', 'H3NO3(918)', 'ONCO(964)', 'NOO(1018)', 'NOON(1048)', 'S(1130)', 'S(1375)', 'S(1376)', 'S(1377)', 'S(2074)'])"
      ]
     },
     "execution_count": 5,
     "metadata": {},
     "output_type": "execute_result"
    }
   ],
   "source": [
    "species_dict = {rmgpy.chemkin.get_species_identifier(s): s for s in species}\n",
    "species_dict.keys()"
   ]
  },
  {
   "cell_type": "code",
   "execution_count": null,
   "metadata": {},
   "outputs": [],
   "source": []
  },
  {
   "cell_type": "code",
   "execution_count": 6,
   "metadata": {},
   "outputs": [],
   "source": [
    "def check_collision_limit_violation(self, t_min, t_max, p_min, p_max):\n",
    "        \"\"\"\n",
    "        Warn if a core reaction violates the collision limit rate in either the forward or reverse direction\n",
    "        at the relevant extreme T/P conditions. Assuming a monotonic behaviour of the kinetics.\n",
    "        Returns a list with the reaction object and the direction in which the violation was detected.\n",
    "        \"\"\"\n",
    "        conditions = [[t_min, p_min]]\n",
    "        if t_min != t_max:\n",
    "            conditions.append([t_max, p_min])\n",
    "        if self.kinetics.is_pressure_dependent() and p_max != p_min:\n",
    "            conditions.append([t_min, p_max])\n",
    "            if t_min != t_max:\n",
    "                conditions.append([t_max, p_max])\n",
    "        logging.debug(\"Checking whether reaction {0} violates the collision rate limit...\".format(self))\n",
    "        violator_list = []\n",
    "        kf_list = []\n",
    "        kr_list = []\n",
    "        collision_limit_f = []\n",
    "        collision_limit_r = []\n",
    "        for condition in conditions:\n",
    "            if len(self.reactants) >= 2:\n",
    "                try:\n",
    "                    collision_limit_f.append(self.calculate_coll_limit(temp=condition[0], reverse=False))\n",
    "                except ValueError:\n",
    "                    continue\n",
    "                else:\n",
    "                    kf_list.append(self.get_rate_coefficient(condition[0], condition[1]))\n",
    "            if len(self.products) >= 2:\n",
    "                try:\n",
    "                    collision_limit_r.append(self.calculate_coll_limit(temp=condition[0], reverse=True))\n",
    "                except ValueError:\n",
    "                    continue\n",
    "                else:\n",
    "                    kr_list.append(self.generate_reverse_rate_coefficient().get_rate_coefficient(condition[0], condition[1]))\n",
    "        if len(self.reactants) >= 2:\n",
    "            for i, k in enumerate(kf_list):\n",
    "                if k > collision_limit_f[i]:\n",
    "                    ratio = k / collision_limit_f[i]\n",
    "                    condition = '{0} K, {1:.1f} bar'.format(conditions[i][0], conditions[i][1] / 1e5)\n",
    "                    violator_list.append([self, 'forward', ratio, condition])\n",
    "        if len(self.products) >= 2:\n",
    "            for i, k in enumerate(kr_list):\n",
    "                if k > collision_limit_r[i]:\n",
    "                    ratio = k / collision_limit_r[i]\n",
    "                    condition = '{0} K, {1:.1f} bar'.format(conditions[i][0], conditions[i][1] / 1e5)\n",
    "                    violator_list.append([self, 'reverse', ratio, condition])\n",
    "        return violator_list"
   ]
  },
  {
   "cell_type": "code",
   "execution_count": 7,
   "metadata": {},
   "outputs": [
    {
     "data": {
      "text/plain": [
       "numpy.linalg.linalg.LinAlgError"
      ]
     },
     "execution_count": 7,
     "metadata": {},
     "output_type": "execute_result"
    }
   ],
   "source": [
    "import numpy as np\n",
    "np.linalg.LinAlgError"
   ]
  },
  {
   "cell_type": "code",
   "execution_count": 8,
   "metadata": {},
   "outputs": [
    {
     "name": "stdout",
     "output_type": "stream",
     "text": [
      "NH2(85) + NH2(85) <=> H(20) + N2H3(99)\n",
      "NO(10) + NH2(85) <=> NNDO(506)\n",
      "H3N2O(193) + CH2OH(45) <=> S(1375)\n",
      "HNOH(94) + CH2OH(45) <=> ONCO(964)\n",
      "O2(8) + HNOH(94) <=> H2NO3(714)\n",
      "HNOH(94) + HCO(22) <=> ONCDO(272)\n",
      "H3N2O(193) + C2H5(21) <=> H4N2O(514) + C2H4(25)\n",
      "H3N2O(193) + HCO(22) <=> H4N2O(514) + CO(14)\n",
      "H3N2O(193) + H3N2O(193) <=> H2N2O(503) + H4N2O(514)\n",
      "H3N2O(193) + H3N2O(193) <=> NNDO(506) + H4N2O(514)\n",
      "H2NO3(252) + H3N2O(193) <=> HNO3(4) + H4N2O(514)\n",
      "H3N2O(193) + CH2OH(45) <=> H4N2O(514) + CH2O(17)\n",
      "H3N2O(193) + CH3O(46) <=> H4N2O(514) + CH2O(17)\n",
      "H3N2O(507) + H3N2O(193) <=> NNDO(506) + H4N2O(514)\n",
      "HNOH(94) + H3N2O(193) <=> HNO(88) + H4N2O(514)\n",
      "H2NO(89) + H3N2O(193) <=> HNO(88) + H4N2O(514)\n",
      "NOHJJ(255) + H3N2O(193) <=> NO(10) + H4N2O(514)\n",
      "H3N2O(508) + H3N2O(193) <=> H2N2O(503) + H4N2O(514)\n",
      "H(20) + HO2(39) <=> H2O2(40)\n",
      "H2N2O(502) + CH2OH(45) <=> S(1377)\n",
      "H2NO3(252) + S(1377) <=> HNO3(4) + S(1375)\n",
      "NOHJJ(255) + S(1377) <=> NO(10) + S(1375)\n",
      "HCO(22) + S(1377) <=> CO(14) + S(1375)\n",
      "CH2OH(45) + S(1377) <=> CH2O(17) + S(1375)\n",
      "CH3O(46) + S(1377) <=> CH2O(17) + S(1375)\n",
      "S(1377) + C2H5(21) <=> S(1375) + C2H4(25)\n",
      "H3N2O(507) + S(1377) <=> NNDO(506) + S(1375)\n",
      "H3N2O(193) + S(1377) <=> NNDO(506) + S(1375)\n",
      "H3N2O(193) + S(1377) <=> H2N2O(503) + S(1375)\n",
      "H3N2O(508) + S(1377) <=> H2N2O(503) + S(1375)\n",
      "HNOH(94) + S(1377) <=> HNO(88) + S(1375)\n",
      "H2NO(89) + S(1377) <=> HNO(88) + S(1375)\n",
      "N2H3(99) + H3N2O(193) <=> N2H2(97) + H4N2O(514)\n",
      "N2H3(99) + S(1377) <=> N2H2(97) + S(1375)\n",
      "O2(8) + NH2(85) <=> O(36) + H2NO(89)\n",
      "HO2(39) + NH(87) <=> H2NO2(195)\n",
      "HO2(39) + H2N2(575) <=> S(196)\n",
      "HNOH(94) + S(2074) <=> HNO(88) + NOON(1048)\n",
      "H2NO(89) + S(2074) <=> HNO(88) + NOON(1048)\n",
      "H2NO2(813) + S(1377) <=> HONO(93) + S(1375)\n",
      "H2NO2(813) + H3N2O(193) <=> HONO(93) + H4N2O(514)\n",
      "H2N2O(502) + CH2OH(45) <=> S(1376)\n",
      "H2NO2(813) + H3N2O(193) <=> HNO2(95) + H4N2O(514)\n",
      "H2NO2(813) + S(1377) <=> HNO2(95) + S(1375)\n"
     ]
    }
   ],
   "source": [
    "violators = []\n",
    "for r in reactions:\n",
    "    try:\n",
    "        v = check_collision_limit_violation(r, 150+273,1000, 1e5, 30e5)\n",
    "    except np.linalg.LinAlgError:\n",
    "        print(f\"LinAlgError checking {r}\")\n",
    "    if v:\n",
    "        print(r)\n",
    "        violators.extend(v)"
   ]
  },
  {
   "cell_type": "code",
   "execution_count": 9,
   "metadata": {},
   "outputs": [],
   "source": [
    "from rmgpy.data.kinetics import TemplateReaction, LibraryReaction\n",
    "from rmgpy.rmg.pdep import PDepReaction"
   ]
  },
  {
   "cell_type": "code",
   "execution_count": 10,
   "metadata": {},
   "outputs": [],
   "source": [
    "violators.sort(key = lambda violator: -violator[2])"
   ]
  },
  {
   "cell_type": "code",
   "execution_count": 11,
   "metadata": {},
   "outputs": [
    {
     "data": {
      "text/plain": [
       "Text(0.5, 0, 'reaction index (of 1573 total)')"
      ]
     },
     "execution_count": 11,
     "metadata": {},
     "output_type": "execute_result"
    },
    {
     "data": {
      "image/png": "[encoded data removed]",
      "text/plain": [
       "<Figure size 432x288 with 1 Axes>"
      ]
     },
     "metadata": {
      "needs_background": "light"
     },
     "output_type": "display_data"
    }
   ],
   "source": [
    "ratios = [np.log10(violator[2]) for violator in violators]\n",
    "from matplotlib import pyplot as plt\n",
    "plt.bar(np.arange(len(ratios)), ratios)\n",
    "plt.ylabel(\"orders of magnitude above collision limit\")\n",
    "plt.xlabel(f\"reaction index (of {len(reactions)} total)\")"
   ]
  },
  {
   "cell_type": "code",
   "execution_count": 12,
   "metadata": {},
   "outputs": [
    {
     "data": {
      "text/plain": [
       "(68, 1573)"
      ]
     },
     "execution_count": 12,
     "metadata": {},
     "output_type": "execute_result"
    }
   ],
   "source": [
    "len(ratios), len(reactions)"
   ]
  },
  {
   "cell_type": "code",
   "execution_count": 13,
   "metadata": {},
   "outputs": [
    {
     "name": "stdout",
     "output_type": "stream",
     "text": [
      "HNOH(94) + CH2OH(45) => ONCO(964)                 2e+10\n",
      "HNOH(94) + HCO(22) => ONCDO(272)                  2e+10\n",
      "H3N2O(193) + CH2OH(45) => S(1375)                 1e+10\n",
      "H2N2O(502) + CH2OH(45) => S(1377)                 1e+10\n",
      "H2N2O(502) + CH2OH(45) => S(1376)                 1e+10\n",
      "H3N2O(193) + H3N2O(193) <= H2N2O(503) + H4N2O(514)  6e+04\n",
      "H3N2O(193) + S(1377) <= H2N2O(503) + S(1375)      6e+04\n",
      "N2H3(99) + H3N2O(193) <= N2H2(97) + H4N2O(514)    4e+04\n",
      "N2H3(99) + S(1377) <= N2H2(97) + S(1375)          3e+04\n",
      "H3N2O(193) + CH2OH(45) <= H4N2O(514) + CH2O(17)   2e+04\n",
      "CH2OH(45) + S(1377) <= CH2O(17) + S(1375)         2e+04\n",
      "H3N2O(193) + C2H5(21) <= H4N2O(514) + C2H4(25)    2e+04\n",
      "H2NO2(813) + H3N2O(193) <= HNO2(95) + H4N2O(514)  2e+04\n",
      "H2NO2(813) + S(1377) <= HNO2(95) + S(1375)        2e+04\n",
      "S(1377) + C2H5(21) <= S(1375) + C2H4(25)          2e+04\n",
      "HNOH(94) + H3N2O(193) <= HNO(88) + H4N2O(514)     2e+04\n",
      "H2NO(89) + H3N2O(193) <= HNO(88) + H4N2O(514)     2e+04\n",
      "HNOH(94) + S(1377) <= HNO(88) + S(1375)           1e+04\n",
      "H2NO(89) + S(1377) <= HNO(88) + S(1375)           1e+04\n",
      "H3N2O(193) + H3N2O(193) <= NNDO(506) + H4N2O(514)  1e+04\n",
      "H3N2O(193) + S(1377) <= NNDO(506) + S(1375)       1e+04\n",
      "H3N2O(508) + H3N2O(193) <= H2N2O(503) + H4N2O(514)  1e+04\n",
      "H3N2O(508) + S(1377) <= H2N2O(503) + S(1375)      9e+03\n",
      "H2NO3(252) + H3N2O(193) <= HNO3(4) + H4N2O(514)   6e+03\n",
      "H2NO3(252) + S(1377) <= HNO3(4) + S(1375)         6e+03\n",
      "H3N2O(507) + H3N2O(193) <= NNDO(506) + H4N2O(514)  2e+03\n",
      "H3N2O(507) + S(1377) <= NNDO(506) + S(1375)       2e+03\n",
      "N2H3(99) + H3N2O(193) <= N2H2(97) + H4N2O(514)    2e+03\n",
      "H3N2O(193) + H3N2O(193) <= H2N2O(503) + H4N2O(514)  1e+03\n",
      "NO(10) + NH2(85) => NNDO(506)                     1e+03\n",
      "N2H3(99) + S(1377) <= N2H2(97) + S(1375)          1e+03\n",
      "H3N2O(193) + S(1377) <= H2N2O(503) + S(1375)      1e+03\n",
      "HNOH(94) + H3N2O(193) <= HNO(88) + H4N2O(514)     8e+02\n",
      "H2NO(89) + H3N2O(193) <= HNO(88) + H4N2O(514)     7e+02\n",
      "NH2(85) + NH2(85) <= H(20) + N2H3(99)             6e+02\n",
      "HNOH(94) + S(1377) <= HNO(88) + S(1375)           5e+02\n",
      "H2NO(89) + S(1377) <= HNO(88) + S(1375)           5e+02\n",
      "H2NO2(813) + H3N2O(193) <= HONO(93) + H4N2O(514)  4e+02\n",
      "H2NO2(813) + S(1377) <= HONO(93) + S(1375)        4e+02\n",
      "HNOH(94) + CH2OH(45) => ONCO(964)                 2e+02\n",
      "HNOH(94) + HCO(22) => ONCDO(272)                  2e+02\n",
      "H3N2O(193) + CH2OH(45) => S(1375)                 2e+02\n",
      "H2N2O(502) + CH2OH(45) => S(1377)                 2e+02\n",
      "H2N2O(502) + CH2OH(45) => S(1376)                 2e+02\n",
      "H3N2O(193) + C2H5(21) <= H4N2O(514) + C2H4(25)    1e+02\n",
      "H2NO2(813) + H3N2O(193) <= HNO2(95) + H4N2O(514)  9e+01\n",
      "S(1377) + C2H5(21) <= S(1375) + C2H4(25)          7e+01\n",
      "H2NO2(813) + S(1377) <= HNO2(95) + S(1375)        6e+01\n",
      "H3N2O(193) + CH3O(46) <= H4N2O(514) + CH2O(17)    5e+01\n",
      "CH3O(46) + S(1377) <= CH2O(17) + S(1375)          4e+01\n",
      "H3N2O(508) + H3N2O(193) <= H2N2O(503) + H4N2O(514)  4e+01\n",
      "H3N2O(508) + S(1377) <= H2N2O(503) + S(1375)      2e+01\n",
      "NOHJJ(255) + H3N2O(193) <= NO(10) + H4N2O(514)    1e+01\n",
      "NOHJJ(255) + S(1377) <= NO(10) + S(1375)          1e+01\n",
      "H3N2O(193) + HCO(22) <= H4N2O(514) + CO(14)       5\n",
      "HNOH(94) + S(2074) <= HNO(88) + NOON(1048)        5\n",
      "HCO(22) + S(1377) <= CO(14) + S(1375)             5\n",
      "H3N2O(193) + H3N2O(193) <= NNDO(506) + H4N2O(514)  4\n",
      "H2NO(89) + S(2074) <= HNO(88) + NOON(1048)        4\n",
      "NH2(85) + NH2(85) <= H(20) + N2H3(99)             3\n",
      "H(20) + HO2(39) => H2O2(40)                       3\n",
      "H3N2O(193) + S(1377) <= NNDO(506) + S(1375)       3\n",
      "H(20) + HO2(39) => H2O2(40)                       2\n",
      "O2(8) + HNOH(94) => H2NO3(714)                    2\n",
      "NO(10) + NH2(85) => NNDO(506)                     2\n",
      "HO2(39) + NH(87) => H2NO2(195)                    1\n",
      "O2(8) + NH2(85) <= O(36) + H2NO(89)               1\n",
      "HO2(39) + H2N2(575) => S(196)                     1\n"
     ]
    }
   ],
   "source": [
    "for violator in violators[:100]:\n",
    "    rxn_string = str(violator[0])\n",
    "    direction = {'forward':'=>','reverse':'<='}[violator[1]]\n",
    "    ratio = violator[2]\n",
    "    print(f\"{rxn_string.replace('<=>',direction) :48s}  {ratio :.1g}\")"
   ]
  },
  {
   "cell_type": "code",
   "execution_count": 14,
   "metadata": {},
   "outputs": [],
   "source": [
    "from collections import Counter\n",
    "import re"
   ]
  },
  {
   "cell_type": "code",
   "execution_count": null,
   "metadata": {},
   "outputs": [],
   "source": []
  },
  {
   "cell_type": "code",
   "execution_count": 15,
   "metadata": {
    "scrolled": true
   },
   "outputs": [
    {
     "name": "stdout",
     "output_type": "stream",
     "text": [
      "HNOH(94) + CH2OH(45) <=> ONCO(964)\n",
      "Arrhenius(A=(6.89518e+79,'cm^3/(mol*s)'), n=-21.017, Ea=(0,'kcal/mol'), T0=(1,'K'))\n",
      "BM rule fitted to 2 training reactions at node Root_N-1R->H_1CNOS->N_Ext-2R-R_3R!H-u0_2R->C Total Standard Deviation in ln(k): 11.5401827615\n",
      "Exact match found for rate rule [Root_N-1R->H_1CNOS->N_Ext-2R-R_3R!H-u0_2R->C]\n",
      "Euclidian distance = 0\n",
      "family: R_Recombination\n",
      "Direction: forward\n",
      "Violation factor: 2e+10\n",
      "Violation condition: 423 K, 1.0 bar\n",
      "\n",
      "\n",
      "HNOH(94) + HCO(22) <=> ONCDO(272)\n",
      "Arrhenius(A=(6.89518e+79,'cm^3/(mol*s)'), n=-21.017, Ea=(0,'kcal/mol'), T0=(1,'K'))\n",
      "BM rule fitted to 2 training reactions at node Root_N-1R->H_1CNOS->N_Ext-2R-R_3R!H-u0_2R->C Total Standard Deviation in ln(k): 11.5401827615\n",
      "Exact match found for rate rule [Root_N-1R->H_1CNOS->N_Ext-2R-R_3R!H-u0_2R->C]\n",
      "Euclidian distance = 0\n",
      "family: R_Recombination\n",
      "Direction: forward\n",
      "Violation factor: 1.9e+10\n",
      "Violation condition: 423 K, 1.0 bar\n",
      "\n",
      "\n",
      "H3N2O(193) + CH2OH(45) <=> S(1375)\n",
      "Arrhenius(A=(6.89518e+79,'cm^3/(mol*s)'), n=-21.017, Ea=(0,'kcal/mol'), T0=(1,'K'))\n",
      "BM rule fitted to 2 training reactions at node Root_N-1R->H_1CNOS->N_Ext-2R-R_3R!H-u0_2R->C Total Standard Deviation in ln(k): 11.5401827615\n",
      "Exact match found for rate rule [Root_N-1R->H_1CNOS->N_Ext-2R-R_3R!H-u0_2R->C]\n",
      "Euclidian distance = 0\n",
      "family: R_Recombination\n",
      "Direction: forward\n",
      "Violation factor: 1.2e+10\n",
      "Violation condition: 423 K, 1.0 bar\n",
      "\n",
      "\n",
      "H2N2O(502) + CH2OH(45) <=> S(1377)\n",
      "Arrhenius(A=(6.89518e+79,'cm^3/(mol*s)'), n=-21.017, Ea=(0,'kcal/mol'), T0=(1,'K'))\n",
      "BM rule fitted to 2 training reactions at node Root_N-1R->H_1CNOS->N_Ext-2R-R_3R!H-u0_2R->C Total Standard Deviation in ln(k): 11.5401827615\n",
      "Exact match found for rate rule [Root_N-1R->H_1CNOS->N_Ext-2R-R_3R!H-u0_2R->C]\n",
      "Euclidian distance = 0\n",
      "family: R_Recombination\n",
      "Direction: forward\n",
      "Violation factor: 1.2e+10\n",
      "Violation condition: 423 K, 1.0 bar\n",
      "\n",
      "\n",
      "H2N2O(502) + CH2OH(45) <=> S(1376)\n",
      "Arrhenius(A=(6.89518e+79,'cm^3/(mol*s)'), n=-21.017, Ea=(0,'kcal/mol'), T0=(1,'K'))\n",
      "BM rule fitted to 2 training reactions at node Root_N-1R->H_1CNOS->N_Ext-2R-R_3R!H-u0_2R->C Total Standard Deviation in ln(k): 11.5401827615\n",
      "Exact match found for rate rule [Root_N-1R->H_1CNOS->N_Ext-2R-R_3R!H-u0_2R->C]\n",
      "Euclidian distance = 0\n",
      "family: R_Recombination\n",
      "Direction: forward\n",
      "Violation factor: 1.2e+10\n",
      "Violation condition: 423 K, 1.0 bar\n",
      "\n",
      "\n",
      "H3N2O(193) + H3N2O(193) <=> H2N2O(503) + H4N2O(514)\n",
      "Arrhenius(A=(1.64e+06,'cm^3/(mol*s)'), n=1.87, Ea=(8.195,'kcal/mol'), T0=(1,'K'))\n",
      "Estimated using template [Y_rad;N3s/H2_s_Nrad] for rate rule [N5s_rad;N3s/H2_s_Nrad]\n",
      "Euclidian distance = 2.0\n",
      "Multiplied by reaction path degeneracy 2.0\n",
      "family: Disproportionation\n",
      "Ea raised from 30.1 to 34.3 kJ/mol to match endothermicity of reaction.\n",
      "Direction: reverse\n",
      "Violation factor: 6.4e+04\n",
      "Violation condition: 1000 K, 1.0 bar\n",
      "\n",
      "\n",
      "H3N2O(193) + S(1377) <=> H2N2O(503) + S(1375)\n",
      "Arrhenius(A=(1.64e+06,'cm^3/(mol*s)'), n=1.87, Ea=(8.066,'kcal/mol'), T0=(1,'K'))\n",
      "Estimated using template [Y_rad;N3s/H2_s_Nrad] for rate rule [N5s_rad;N3s/H2_s_Nrad]\n",
      "Euclidian distance = 2.0\n",
      "Multiplied by reaction path degeneracy 2.0\n",
      "family: Disproportionation\n",
      "Ea raised from 29.8 to 33.7 kJ/mol to match endothermicity of reaction.\n",
      "Direction: reverse\n",
      "Violation factor: 6.3e+04\n",
      "Violation condition: 1000 K, 1.0 bar\n",
      "\n",
      "\n",
      "N2H3(99) + H3N2O(193) <=> N2H2(97) + H4N2O(514)\n",
      "Arrhenius(A=(1.64e+06,'cm^3/(mol*s)'), n=1.87, Ea=(4.133,'kcal/mol'), T0=(1,'K'))\n",
      "Estimated using template [Y_rad;N3s/H2_s_Nrad] for rate rule [N5s_rad;N3s/H2_s_Nrad]\n",
      "Euclidian distance = 2.0\n",
      "Multiplied by reaction path degeneracy 2.0\n",
      "family: Disproportionation\n",
      "Ea raised from 15.3 to 17.3 kJ/mol to match endothermicity of reaction.\n",
      "Direction: reverse\n",
      "Violation factor: 3.5e+04\n",
      "Violation condition: 1000 K, 1.0 bar\n",
      "\n",
      "\n",
      "N2H3(99) + S(1377) <=> N2H2(97) + S(1375)\n",
      "Arrhenius(A=(1.64e+06,'cm^3/(mol*s)'), n=1.87, Ea=(4.004,'kcal/mol'), T0=(1,'K'))\n",
      "Estimated using template [Y_rad;N3s/H2_s_Nrad] for rate rule [N5s_rad;N3s/H2_s_Nrad]\n",
      "Euclidian distance = 2.0\n",
      "Multiplied by reaction path degeneracy 2.0\n",
      "family: Disproportionation\n",
      "Ea raised from 15.0 to 16.8 kJ/mol to match endothermicity of reaction.\n",
      "Direction: reverse\n",
      "Violation factor: 3.3e+04\n",
      "Violation condition: 1000 K, 1.0 bar\n",
      "\n",
      "\n",
      "H3N2O(193) + CH2OH(45) <=> H4N2O(514) + CH2O(17)\n",
      "Arrhenius(A=(8.49e+13,'cm^3/(mol*s)'), n=0, Ea=(0,'kcal/mol'), T0=(1,'K'))\n",
      "Estimated using template [Y_rad;O_Csrad] for rate rule [N5s_rad;O_Csrad]\n",
      "Euclidian distance = 2.0\n",
      "family: Disproportionation\n",
      "Direction: reverse\n",
      "Violation factor: 2.4e+04\n",
      "Violation condition: 1000 K, 1.0 bar\n",
      "\n",
      "\n",
      "CH2OH(45) + S(1377) <=> CH2O(17) + S(1375)\n",
      "Arrhenius(A=(8.49e+13,'cm^3/(mol*s)'), n=0, Ea=(0,'kcal/mol'), T0=(1,'K'))\n",
      "Estimated using template [Y_rad;O_Csrad] for rate rule [N5s_rad;O_Csrad]\n",
      "Euclidian distance = 2.0\n",
      "family: Disproportionation\n",
      "Direction: reverse\n",
      "Violation factor: 2.1e+04\n",
      "Violation condition: 1000 K, 1.0 bar\n",
      "\n",
      "\n",
      "H3N2O(193) + C2H5(21) <=> H4N2O(514) + C2H4(25)\n",
      "Arrhenius(A=(6.57e+14,'cm^3/(mol*s)'), n=-0.68, Ea=(0,'kcal/mol'), T0=(1,'K'))\n",
      "Estimated using template [Y_rad;Cmethyl_Csrad] for rate rule [N5s_rad;Cmethyl_Csrad]\n",
      "Euclidian distance = 2.0\n",
      "Multiplied by reaction path degeneracy 3.0\n",
      "family: Disproportionation\n",
      "Direction: reverse\n",
      "Violation factor: 2.1e+04\n",
      "Violation condition: 1000 K, 1.0 bar\n",
      "\n",
      "\n",
      "H2NO2(813) + H3N2O(193) <=> HNO2(95) + H4N2O(514)\n",
      "Arrhenius(A=(1.6e+06,'cm^3/(mol*s)'), n=1.87, Ea=(2.1,'kcal/mol'), T0=(1,'K'))\n",
      "Estimated using template [Y_rad;O_Nrad] for rate rule [N5s_rad;O_Nrad]\n",
      "Euclidian distance = 2.0\n",
      "family: Disproportionation\n",
      "Direction: reverse\n",
      "Violation factor: 2e+04\n",
      "Violation condition: 1000 K, 1.0 bar\n",
      "\n",
      "\n",
      "H2NO2(813) + S(1377) <=> HNO2(95) + S(1375)\n",
      "Arrhenius(A=(1.6e+06,'cm^3/(mol*s)'), n=1.87, Ea=(2.1,'kcal/mol'), T0=(1,'K'))\n",
      "Estimated using template [Y_rad;O_Nrad] for rate rule [N5s_rad;O_Nrad]\n",
      "Euclidian distance = 2.0\n",
      "family: Disproportionation\n",
      "Direction: reverse\n",
      "Violation factor: 1.8e+04\n",
      "Violation condition: 1000 K, 1.0 bar\n",
      "\n",
      "\n",
      "S(1377) + C2H5(21) <=> S(1375) + C2H4(25)\n",
      "Arrhenius(A=(6.57e+14,'cm^3/(mol*s)'), n=-0.68, Ea=(0,'kcal/mol'), T0=(1,'K'))\n",
      "Estimated using template [Y_rad;Cmethyl_Csrad] for rate rule [N5s_rad;Cmethyl_Csrad]\n",
      "Euclidian distance = 2.0\n",
      "Multiplied by reaction path degeneracy 3.0\n",
      "family: Disproportionation\n",
      "Direction: reverse\n",
      "Violation factor: 1.8e+04\n",
      "Violation condition: 1000 K, 1.0 bar\n",
      "\n",
      "\n",
      "HNOH(94) + H3N2O(193) <=> HNO(88) + H4N2O(514)\n",
      "Arrhenius(A=(1.6e+06,'cm^3/(mol*s)'), n=1.87, Ea=(11.387,'kcal/mol'), T0=(1,'K'))\n",
      "Estimated using template [Y_rad;O_Nrad] for rate rule [N5s_rad;O_Nrad]\n",
      "Euclidian distance = 2.0\n",
      "family: Disproportionation\n",
      "Ea raised from 46.0 to 47.6 kJ/mol to match endothermicity of reaction.\n",
      "Direction: reverse\n",
      "Violation factor: 1.6e+04\n",
      "Violation condition: 1000 K, 1.0 bar\n",
      "\n",
      "\n",
      "H2NO(89) + H3N2O(193) <=> HNO(88) + H4N2O(514)\n",
      "Arrhenius(A=(3.2e+06,'cm^3/(mol*s)'), n=1.87, Ea=(19.782,'kcal/mol'), T0=(1,'K'))\n",
      "Estimated using template [Y_rad;N3s/H2_s_Orad] for rate rule [N5s_rad;N3s/H2_s_Orad]\n",
      "Euclidian distance = 2.0\n",
      "Multiplied by reaction path degeneracy 2.0\n",
      "family: Disproportionation\n",
      "Ea raised from 80.7 to 82.8 kJ/mol to match endothermicity of reaction.\n",
      "Direction: reverse\n",
      "Violation factor: 1.6e+04\n",
      "Violation condition: 1000 K, 1.0 bar\n",
      "\n",
      "\n",
      "HNOH(94) + S(1377) <=> HNO(88) + S(1375)\n",
      "Arrhenius(A=(1.6e+06,'cm^3/(mol*s)'), n=1.87, Ea=(11.259,'kcal/mol'), T0=(1,'K'))\n",
      "Estimated using template [Y_rad;O_Nrad] for rate rule [N5s_rad;O_Nrad]\n",
      "Euclidian distance = 2.0\n",
      "family: Disproportionation\n",
      "Ea raised from 45.7 to 47.1 kJ/mol to match endothermicity of reaction.\n",
      "Direction: reverse\n",
      "Violation factor: 1.5e+04\n",
      "Violation condition: 1000 K, 1.0 bar\n",
      "\n",
      "\n",
      "H2NO(89) + S(1377) <=> HNO(88) + S(1375)\n",
      "Arrhenius(A=(3.2e+06,'cm^3/(mol*s)'), n=1.87, Ea=(19.653,'kcal/mol'), T0=(1,'K'))\n",
      "Estimated using template [Y_rad;N3s/H2_s_Orad] for rate rule [N5s_rad;N3s/H2_s_Orad]\n",
      "Euclidian distance = 2.0\n",
      "Multiplied by reaction path degeneracy 2.0\n",
      "family: Disproportionation\n",
      "Ea raised from 80.3 to 82.2 kJ/mol to match endothermicity of reaction.\n",
      "Direction: reverse\n",
      "Violation factor: 1.5e+04\n",
      "Violation condition: 1000 K, 1.0 bar\n",
      "\n",
      "\n",
      "H3N2O(193) + H3N2O(193) <=> NNDO(506) + H4N2O(514)\n",
      "Arrhenius(A=(4.19597e+06,'cm^3/(mol*s)'), n=1.909, Ea=(-0.511,'kcal/mol'), T0=(1,'K'))\n",
      "Estimated using template [Y_rad;N3H_s_Rrad] for rate rule [N5s_rad;N3s/H/NonDe_s_Rrad]\n",
      "Euclidian distance = 2.23606797749979\n",
      "family: Disproportionation\n",
      "Direction: reverse\n",
      "Violation factor: 1.1e+04\n",
      "Violation condition: 1000 K, 1.0 bar\n",
      "\n",
      "\n",
      "H3N2O(193) + S(1377) <=> NNDO(506) + S(1375)\n",
      "Arrhenius(A=(4.19597e+06,'cm^3/(mol*s)'), n=1.909, Ea=(-0.511,'kcal/mol'), T0=(1,'K'))\n",
      "Estimated using template [Y_rad;N3H_s_Rrad] for rate rule [N5s_rad;N3s/H/NonDe_s_Rrad]\n",
      "Euclidian distance = 2.23606797749979\n",
      "family: Disproportionation\n",
      "Direction: reverse\n",
      "Violation factor: 1e+04\n",
      "Violation condition: 1000 K, 1.0 bar\n",
      "\n",
      "\n",
      "H3N2O(508) + H3N2O(193) <=> H2N2O(503) + H4N2O(514)\n",
      "Arrhenius(A=(1.6e+06,'cm^3/(mol*s)'), n=1.87, Ea=(2.1,'kcal/mol'), T0=(1,'K'))\n",
      "Estimated using template [Y_rad;O_Nrad] for rate rule [N5s_rad;O_Nrad]\n",
      "Euclidian distance = 2.0\n",
      "family: Disproportionation\n",
      "Direction: reverse\n",
      "Violation factor: 9.9e+03\n",
      "Violation condition: 1000 K, 1.0 bar\n",
      "\n",
      "\n",
      "H3N2O(508) + S(1377) <=> H2N2O(503) + S(1375)\n",
      "Arrhenius(A=(1.6e+06,'cm^3/(mol*s)'), n=1.87, Ea=(2.1,'kcal/mol'), T0=(1,'K'))\n",
      "Estimated using template [Y_rad;O_Nrad] for rate rule [N5s_rad;O_Nrad]\n",
      "Euclidian distance = 2.0\n",
      "family: Disproportionation\n",
      "Direction: reverse\n",
      "Violation factor: 9e+03\n",
      "Violation condition: 1000 K, 1.0 bar\n",
      "\n",
      "\n",
      "H2NO3(252) + H3N2O(193) <=> HNO3(4) + H4N2O(514)\n",
      "Arrhenius(A=(4.28744e+06,'cm^3/(mol*s)'), n=1.922, Ea=(-0.707,'kcal/mol'), T0=(1,'K'))\n",
      "Estimated using template [Y_rad;NH_s_Rrad] for rate rule [N5s_rad;N5H_s_Rrad]\n",
      "Euclidian distance = 2.23606797749979\n",
      "family: Disproportionation\n",
      "Direction: reverse\n",
      "Violation factor: 6.4e+03\n",
      "Violation condition: 1000 K, 1.0 bar\n",
      "\n",
      "\n",
      "H2NO3(252) + S(1377) <=> HNO3(4) + S(1375)\n",
      "Arrhenius(A=(4.28744e+06,'cm^3/(mol*s)'), n=1.922, Ea=(-0.707,'kcal/mol'), T0=(1,'K'))\n",
      "Estimated using template [Y_rad;NH_s_Rrad] for rate rule [N5s_rad;N5H_s_Rrad]\n",
      "Euclidian distance = 2.23606797749979\n",
      "family: Disproportionation\n",
      "Direction: reverse\n",
      "Violation factor: 5.9e+03\n",
      "Violation condition: 1000 K, 1.0 bar\n",
      "\n",
      "\n",
      "H3N2O(507) + H3N2O(193) <=> NNDO(506) + H4N2O(514)\n",
      "Arrhenius(A=(1.6e+06,'cm^3/(mol*s)'), n=1.87, Ea=(2.1,'kcal/mol'), T0=(1,'K'))\n",
      "Estimated using template [Y_rad;O_Nrad] for rate rule [N5s_rad;O_Nrad]\n",
      "Euclidian distance = 2.0\n",
      "family: Disproportionation\n",
      "Direction: reverse\n",
      "Violation factor: 2e+03\n",
      "Violation condition: 1000 K, 1.0 bar\n",
      "\n",
      "\n",
      "H3N2O(507) + S(1377) <=> NNDO(506) + S(1375)\n",
      "Arrhenius(A=(1.6e+06,'cm^3/(mol*s)'), n=1.87, Ea=(2.1,'kcal/mol'), T0=(1,'K'))\n",
      "Estimated using template [Y_rad;O_Nrad] for rate rule [N5s_rad;O_Nrad]\n",
      "Euclidian distance = 2.0\n",
      "family: Disproportionation\n",
      "Direction: reverse\n",
      "Violation factor: 1.9e+03\n",
      "Violation condition: 1000 K, 1.0 bar\n",
      "\n",
      "\n",
      "N2H3(99) + H3N2O(193) <=> N2H2(97) + H4N2O(514)\n",
      "Arrhenius(A=(1.64e+06,'cm^3/(mol*s)'), n=1.87, Ea=(4.133,'kcal/mol'), T0=(1,'K'))\n",
      "Estimated using template [Y_rad;N3s/H2_s_Nrad] for rate rule [N5s_rad;N3s/H2_s_Nrad]\n",
      "Euclidian distance = 2.0\n",
      "Multiplied by reaction path degeneracy 2.0\n",
      "family: Disproportionation\n",
      "Ea raised from 15.3 to 17.3 kJ/mol to match endothermicity of reaction.\n",
      "Direction: reverse\n",
      "Violation factor: 1.5e+03\n",
      "Violation condition: 423 K, 1.0 bar\n",
      "\n",
      "\n",
      "H3N2O(193) + H3N2O(193) <=> H2N2O(503) + H4N2O(514)\n",
      "Arrhenius(A=(1.64e+06,'cm^3/(mol*s)'), n=1.87, Ea=(8.195,'kcal/mol'), T0=(1,'K'))\n",
      "Estimated using template [Y_rad;N3s/H2_s_Nrad] for rate rule [N5s_rad;N3s/H2_s_Nrad]\n",
      "Euclidian distance = 2.0\n",
      "Multiplied by reaction path degeneracy 2.0\n",
      "family: Disproportionation\n",
      "Ea raised from 30.1 to 34.3 kJ/mol to match endothermicity of reaction.\n",
      "Direction: reverse\n",
      "Violation factor: 1.5e+03\n",
      "Violation condition: 423 K, 1.0 bar\n",
      "\n",
      "\n",
      "NO(10) + NH2(85) <=> NNDO(506)\n",
      "Arrhenius(A=(1.03124e+37,'cm^3/(mol*s)'), n=-7.489, Ea=(0,'kcal/mol'), T0=(1,'K'))\n",
      "BM rule fitted to 2 training reactions at node Root_N-1R->H_1CNOS->N_Ext-2R-R_3R!H-u0 Total Standard Deviation in ln(k): 12.7194203157\n",
      "Exact match found for rate rule [Root_N-1R->H_1CNOS->N_Ext-2R-R_3R!H-u0]\n",
      "Euclidian distance = 0\n",
      "family: R_Recombination\n",
      "Direction: forward\n",
      "Violation factor: 1.5e+03\n",
      "Violation condition: 423 K, 1.0 bar\n",
      "\n",
      "\n",
      "N2H3(99) + S(1377) <=> N2H2(97) + S(1375)\n",
      "Arrhenius(A=(1.64e+06,'cm^3/(mol*s)'), n=1.87, Ea=(4.004,'kcal/mol'), T0=(1,'K'))\n",
      "Estimated using template [Y_rad;N3s/H2_s_Nrad] for rate rule [N5s_rad;N3s/H2_s_Nrad]\n",
      "Euclidian distance = 2.0\n",
      "Multiplied by reaction path degeneracy 2.0\n",
      "family: Disproportionation\n",
      "Ea raised from 15.0 to 16.8 kJ/mol to match endothermicity of reaction.\n",
      "Direction: reverse\n",
      "Violation factor: 1.1e+03\n",
      "Violation condition: 423 K, 1.0 bar\n",
      "\n",
      "\n",
      "H3N2O(193) + S(1377) <=> H2N2O(503) + S(1375)\n",
      "Arrhenius(A=(1.64e+06,'cm^3/(mol*s)'), n=1.87, Ea=(8.066,'kcal/mol'), T0=(1,'K'))\n",
      "Estimated using template [Y_rad;N3s/H2_s_Nrad] for rate rule [N5s_rad;N3s/H2_s_Nrad]\n",
      "Euclidian distance = 2.0\n",
      "Multiplied by reaction path degeneracy 2.0\n",
      "family: Disproportionation\n",
      "Ea raised from 29.8 to 33.7 kJ/mol to match endothermicity of reaction.\n",
      "Direction: reverse\n",
      "Violation factor: 1.1e+03\n",
      "Violation condition: 423 K, 1.0 bar\n",
      "\n",
      "\n",
      "HNOH(94) + H3N2O(193) <=> HNO(88) + H4N2O(514)\n",
      "Arrhenius(A=(1.6e+06,'cm^3/(mol*s)'), n=1.87, Ea=(11.387,'kcal/mol'), T0=(1,'K'))\n",
      "Estimated using template [Y_rad;O_Nrad] for rate rule [N5s_rad;O_Nrad]\n",
      "Euclidian distance = 2.0\n",
      "family: Disproportionation\n",
      "Ea raised from 46.0 to 47.6 kJ/mol to match endothermicity of reaction.\n",
      "Direction: reverse\n",
      "Violation factor: 7.6e+02\n",
      "Violation condition: 423 K, 1.0 bar\n",
      "\n",
      "\n",
      "H2NO(89) + H3N2O(193) <=> HNO(88) + H4N2O(514)\n",
      "Arrhenius(A=(3.2e+06,'cm^3/(mol*s)'), n=1.87, Ea=(19.782,'kcal/mol'), T0=(1,'K'))\n",
      "Estimated using template [Y_rad;N3s/H2_s_Orad] for rate rule [N5s_rad;N3s/H2_s_Orad]\n",
      "Euclidian distance = 2.0\n",
      "Multiplied by reaction path degeneracy 2.0\n",
      "family: Disproportionation\n",
      "Ea raised from 80.7 to 82.8 kJ/mol to match endothermicity of reaction.\n",
      "Direction: reverse\n",
      "Violation factor: 6.9e+02\n",
      "Violation condition: 423 K, 1.0 bar\n",
      "\n",
      "\n",
      "NH2(85) + NH2(85) <=> H(20) + N2H3(99)\n",
      "Arrhenius(A=(1.2e+12,'cm^3/(mol*s)'), n=-0.03, Ea=(10.084,'kcal/mol'), T0=(1,'K'))\n",
      "Kinetic library: Nitrogen_Glarborg_Gimenez_et_al\n",
      "Direction: reverse\n",
      "Violation factor: 5.9e+02\n",
      "Violation condition: 423 K, 1.0 bar\n",
      "\n",
      "\n",
      "HNOH(94) + S(1377) <=> HNO(88) + S(1375)\n",
      "Arrhenius(A=(1.6e+06,'cm^3/(mol*s)'), n=1.87, Ea=(11.259,'kcal/mol'), T0=(1,'K'))\n",
      "Estimated using template [Y_rad;O_Nrad] for rate rule [N5s_rad;O_Nrad]\n",
      "Euclidian distance = 2.0\n",
      "family: Disproportionation\n",
      "Ea raised from 45.7 to 47.1 kJ/mol to match endothermicity of reaction.\n",
      "Direction: reverse\n",
      "Violation factor: 5.4e+02\n",
      "Violation condition: 423 K, 1.0 bar\n",
      "\n",
      "\n",
      "H2NO(89) + S(1377) <=> HNO(88) + S(1375)\n",
      "Arrhenius(A=(3.2e+06,'cm^3/(mol*s)'), n=1.87, Ea=(19.653,'kcal/mol'), T0=(1,'K'))\n",
      "Estimated using template [Y_rad;N3s/H2_s_Orad] for rate rule [N5s_rad;N3s/H2_s_Orad]\n",
      "Euclidian distance = 2.0\n",
      "Multiplied by reaction path degeneracy 2.0\n",
      "family: Disproportionation\n",
      "Ea raised from 80.3 to 82.2 kJ/mol to match endothermicity of reaction.\n",
      "Direction: reverse\n",
      "Violation factor: 5e+02\n",
      "Violation condition: 423 K, 1.0 bar\n",
      "\n",
      "\n",
      "H2NO2(813) + H3N2O(193) <=> HONO(93) + H4N2O(514)\n",
      "Arrhenius(A=(4.19597e+06,'cm^3/(mol*s)'), n=1.909, Ea=(-0.511,'kcal/mol'), T0=(1,'K'))\n",
      "Estimated using template [Y_rad;N3H_s_Rrad] for rate rule [N5s_rad;N3s/H/NonDe_s_Rrad]\n",
      "Euclidian distance = 2.23606797749979\n",
      "family: Disproportionation\n",
      "Direction: reverse\n",
      "Violation factor: 4.3e+02\n",
      "Violation condition: 1000 K, 1.0 bar\n",
      "\n",
      "\n",
      "H2NO2(813) + S(1377) <=> HONO(93) + S(1375)\n",
      "Arrhenius(A=(4.19597e+06,'cm^3/(mol*s)'), n=1.909, Ea=(-0.511,'kcal/mol'), T0=(1,'K'))\n",
      "Estimated using template [Y_rad;N3H_s_Rrad] for rate rule [N5s_rad;N3s/H/NonDe_s_Rrad]\n",
      "Euclidian distance = 2.23606797749979\n",
      "family: Disproportionation\n",
      "Direction: reverse\n",
      "Violation factor: 3.9e+02\n",
      "Violation condition: 1000 K, 1.0 bar\n",
      "\n",
      "\n",
      "HNOH(94) + CH2OH(45) <=> ONCO(964)\n",
      "Arrhenius(A=(6.89518e+79,'cm^3/(mol*s)'), n=-21.017, Ea=(0,'kcal/mol'), T0=(1,'K'))\n",
      "BM rule fitted to 2 training reactions at node Root_N-1R->H_1CNOS->N_Ext-2R-R_3R!H-u0_2R->C Total Standard Deviation in ln(k): 11.5401827615\n",
      "Exact match found for rate rule [Root_N-1R->H_1CNOS->N_Ext-2R-R_3R!H-u0_2R->C]\n",
      "Euclidian distance = 0\n",
      "family: R_Recombination\n",
      "Direction: forward\n",
      "Violation factor: 2.3e+02\n",
      "Violation condition: 1000 K, 1.0 bar\n",
      "\n",
      "\n",
      "HNOH(94) + HCO(22) <=> ONCDO(272)\n",
      "Arrhenius(A=(6.89518e+79,'cm^3/(mol*s)'), n=-21.017, Ea=(0,'kcal/mol'), T0=(1,'K'))\n",
      "BM rule fitted to 2 training reactions at node Root_N-1R->H_1CNOS->N_Ext-2R-R_3R!H-u0_2R->C Total Standard Deviation in ln(k): 11.5401827615\n",
      "Exact match found for rate rule [Root_N-1R->H_1CNOS->N_Ext-2R-R_3R!H-u0_2R->C]\n",
      "Euclidian distance = 0\n",
      "family: R_Recombination\n",
      "Direction: forward\n",
      "Violation factor: 2.3e+02\n",
      "Violation condition: 1000 K, 1.0 bar\n",
      "\n",
      "\n",
      "H3N2O(193) + CH2OH(45) <=> S(1375)\n",
      "Arrhenius(A=(6.89518e+79,'cm^3/(mol*s)'), n=-21.017, Ea=(0,'kcal/mol'), T0=(1,'K'))\n",
      "BM rule fitted to 2 training reactions at node Root_N-1R->H_1CNOS->N_Ext-2R-R_3R!H-u0_2R->C Total Standard Deviation in ln(k): 11.5401827615\n",
      "Exact match found for rate rule [Root_N-1R->H_1CNOS->N_Ext-2R-R_3R!H-u0_2R->C]\n",
      "Euclidian distance = 0\n",
      "family: R_Recombination\n",
      "Direction: forward\n",
      "Violation factor: 1.5e+02\n",
      "Violation condition: 1000 K, 1.0 bar\n",
      "\n",
      "\n",
      "H2N2O(502) + CH2OH(45) <=> S(1377)\n",
      "Arrhenius(A=(6.89518e+79,'cm^3/(mol*s)'), n=-21.017, Ea=(0,'kcal/mol'), T0=(1,'K'))\n",
      "BM rule fitted to 2 training reactions at node Root_N-1R->H_1CNOS->N_Ext-2R-R_3R!H-u0_2R->C Total Standard Deviation in ln(k): 11.5401827615\n",
      "Exact match found for rate rule [Root_N-1R->H_1CNOS->N_Ext-2R-R_3R!H-u0_2R->C]\n",
      "Euclidian distance = 0\n",
      "family: R_Recombination\n",
      "Direction: forward\n",
      "Violation factor: 1.5e+02\n",
      "Violation condition: 1000 K, 1.0 bar\n",
      "\n",
      "\n",
      "H2N2O(502) + CH2OH(45) <=> S(1376)\n",
      "Arrhenius(A=(6.89518e+79,'cm^3/(mol*s)'), n=-21.017, Ea=(0,'kcal/mol'), T0=(1,'K'))\n",
      "BM rule fitted to 2 training reactions at node Root_N-1R->H_1CNOS->N_Ext-2R-R_3R!H-u0_2R->C Total Standard Deviation in ln(k): 11.5401827615\n",
      "Exact match found for rate rule [Root_N-1R->H_1CNOS->N_Ext-2R-R_3R!H-u0_2R->C]\n",
      "Euclidian distance = 0\n",
      "family: R_Recombination\n",
      "Direction: forward\n",
      "Violation factor: 1.5e+02\n",
      "Violation condition: 1000 K, 1.0 bar\n",
      "\n",
      "\n",
      "H3N2O(193) + C2H5(21) <=> H4N2O(514) + C2H4(25)\n",
      "Arrhenius(A=(6.57e+14,'cm^3/(mol*s)'), n=-0.68, Ea=(0,'kcal/mol'), T0=(1,'K'))\n",
      "Estimated using template [Y_rad;Cmethyl_Csrad] for rate rule [N5s_rad;Cmethyl_Csrad]\n",
      "Euclidian distance = 2.0\n",
      "Multiplied by reaction path degeneracy 3.0\n",
      "family: Disproportionation\n",
      "Direction: reverse\n",
      "Violation factor: 1.2e+02\n",
      "Violation condition: 423 K, 1.0 bar\n",
      "\n",
      "\n",
      "H2NO2(813) + H3N2O(193) <=> HNO2(95) + H4N2O(514)\n",
      "Arrhenius(A=(1.6e+06,'cm^3/(mol*s)'), n=1.87, Ea=(2.1,'kcal/mol'), T0=(1,'K'))\n",
      "Estimated using template [Y_rad;O_Nrad] for rate rule [N5s_rad;O_Nrad]\n",
      "Euclidian distance = 2.0\n",
      "family: Disproportionation\n",
      "Direction: reverse\n",
      "Violation factor: 93\n",
      "Violation condition: 423 K, 1.0 bar\n",
      "\n",
      "\n",
      "S(1377) + C2H5(21) <=> S(1375) + C2H4(25)\n",
      "Arrhenius(A=(6.57e+14,'cm^3/(mol*s)'), n=-0.68, Ea=(0,'kcal/mol'), T0=(1,'K'))\n",
      "Estimated using template [Y_rad;Cmethyl_Csrad] for rate rule [N5s_rad;Cmethyl_Csrad]\n",
      "Euclidian distance = 2.0\n",
      "Multiplied by reaction path degeneracy 3.0\n",
      "family: Disproportionation\n",
      "Direction: reverse\n",
      "Violation factor: 74\n",
      "Violation condition: 423 K, 1.0 bar\n",
      "\n",
      "\n",
      "H2NO2(813) + S(1377) <=> HNO2(95) + S(1375)\n",
      "Arrhenius(A=(1.6e+06,'cm^3/(mol*s)'), n=1.87, Ea=(2.1,'kcal/mol'), T0=(1,'K'))\n",
      "Estimated using template [Y_rad;O_Nrad] for rate rule [N5s_rad;O_Nrad]\n",
      "Euclidian distance = 2.0\n",
      "family: Disproportionation\n",
      "Direction: reverse\n",
      "Violation factor: 58\n",
      "Violation condition: 423 K, 1.0 bar\n",
      "\n",
      "\n",
      "H3N2O(193) + CH3O(46) <=> H4N2O(514) + CH2O(17)\n",
      "Arrhenius(A=(5.43e+13,'cm^3/(mol*s)'), n=0, Ea=(0,'kcal/mol'), T0=(1,'K'))\n",
      "Estimated using template [Y_rad;Cmethyl_Orad] for rate rule [N5s_rad;Cmethyl_Orad]\n",
      "Euclidian distance = 2.0\n",
      "Multiplied by reaction path degeneracy 3.0\n",
      "family: Disproportionation\n",
      "Direction: reverse\n",
      "Violation factor: 45\n",
      "Violation condition: 1000 K, 1.0 bar\n",
      "\n",
      "\n",
      "CH3O(46) + S(1377) <=> CH2O(17) + S(1375)\n",
      "Arrhenius(A=(5.43e+13,'cm^3/(mol*s)'), n=0, Ea=(0,'kcal/mol'), T0=(1,'K'))\n",
      "Estimated using template [Y_rad;Cmethyl_Orad] for rate rule [N5s_rad;Cmethyl_Orad]\n",
      "Euclidian distance = 2.0\n",
      "Multiplied by reaction path degeneracy 3.0\n",
      "family: Disproportionation\n",
      "Direction: reverse\n",
      "Violation factor: 39\n",
      "Violation condition: 1000 K, 1.0 bar\n",
      "\n",
      "\n",
      "H3N2O(508) + H3N2O(193) <=> H2N2O(503) + H4N2O(514)\n",
      "Arrhenius(A=(1.6e+06,'cm^3/(mol*s)'), n=1.87, Ea=(2.1,'kcal/mol'), T0=(1,'K'))\n",
      "Estimated using template [Y_rad;O_Nrad] for rate rule [N5s_rad;O_Nrad]\n",
      "Euclidian distance = 2.0\n",
      "family: Disproportionation\n",
      "Direction: reverse\n",
      "Violation factor: 37\n",
      "Violation condition: 423 K, 1.0 bar\n",
      "\n",
      "\n",
      "H3N2O(508) + S(1377) <=> H2N2O(503) + S(1375)\n",
      "Arrhenius(A=(1.6e+06,'cm^3/(mol*s)'), n=1.87, Ea=(2.1,'kcal/mol'), T0=(1,'K'))\n",
      "Estimated using template [Y_rad;O_Nrad] for rate rule [N5s_rad;O_Nrad]\n",
      "Euclidian distance = 2.0\n",
      "family: Disproportionation\n",
      "Direction: reverse\n",
      "Violation factor: 24\n",
      "Violation condition: 423 K, 1.0 bar\n",
      "\n",
      "\n",
      "NOHJJ(255) + H3N2O(193) <=> NO(10) + H4N2O(514)\n",
      "Arrhenius(A=(6.07669e+06,'cm^3/(mol*s)'), n=1.928, Ea=(-1.14,'kcal/mol'), T0=(1,'K'))\n",
      "Estimated using template [Y_rad;XH_s_Rbirad] for rate rule [N5s_rad;XH_s_Rbirad]\n",
      "Euclidian distance = 2.0\n",
      "family: Disproportionation\n",
      "Direction: reverse\n",
      "Violation factor: 13\n",
      "Violation condition: 1000 K, 1.0 bar\n",
      "\n",
      "\n",
      "NOHJJ(255) + S(1377) <=> NO(10) + S(1375)\n",
      "Arrhenius(A=(6.07669e+06,'cm^3/(mol*s)'), n=1.928, Ea=(-1.14,'kcal/mol'), T0=(1,'K'))\n",
      "Estimated using template [Y_rad;XH_s_Rbirad] for rate rule [N5s_rad;XH_s_Rbirad]\n",
      "Euclidian distance = 2.0\n",
      "family: Disproportionation\n",
      "Direction: reverse\n",
      "Violation factor: 11\n",
      "Violation condition: 1000 K, 1.0 bar\n",
      "\n",
      "\n",
      "H3N2O(193) + HCO(22) <=> H4N2O(514) + CO(14)\n",
      "Arrhenius(A=(1.34765e+15,'cm^3/(mol*s)'), n=-0.548, Ea=(0.393,'kcal/mol'), T0=(1,'K'))\n",
      "Estimated using template [Y_rad;HCO] for rate rule [N5s_rad;HCO]\n",
      "Euclidian distance = 2.0\n",
      "family: CO_Disproportionation\n",
      "Direction: reverse\n",
      "Violation factor: 5.2\n",
      "Violation condition: 1000 K, 1.0 bar\n",
      "\n",
      "\n"
     ]
    }
   ],
   "source": [
    "families = Counter()\n",
    "templates = Counter()\n",
    "rate_rules = Counter()\n",
    "problem_species = Counter()\n",
    "for violator in violators:\n",
    "    rxn_string = str(violator[0])\n",
    "    kinetics = violator[0].kinetics\n",
    "    comment = ''\n",
    "    if isinstance(violator[0], TemplateReaction):\n",
    "        comment = violator[0].kinetics.comment\n",
    "        violator[0].kinetics.comment = ''  # the comment is printed better when outside of the object\n",
    "    if isinstance(violator[0], LibraryReaction):\n",
    "        comment = 'Kinetic library: {0}'.format(violator[0].library)\n",
    "    if isinstance(violator[0], PDepReaction):\n",
    "        comment = 'Network #{0}'.format(violator[0].network)\n",
    "    direction = violator[1]\n",
    "    ratio = violator[2]\n",
    "    condition = violator[3]\n",
    "    \n",
    "    problem_species.update(violator[0].reactants)\n",
    "    problem_species.update(violator[0].products)\n",
    "    \n",
    "    m = re.search('family: (.*)', comment)\n",
    "    if m:\n",
    "        families[m.group(1)] += 1\n",
    "    n = re.search('rate rule (.*)', comment)\n",
    "    if n:\n",
    "        rate_rules[m.group(1) + n.group(1)] += 1\n",
    "    n = re.search('using template (\\S+)', comment)\n",
    "    if n:\n",
    "        templates[m.group(1) + n.group(1)] += 1\n",
    "    \n",
    "    if ratio < 5:\n",
    "        continue # only print the big ones!\n",
    "        \n",
    "    print('{0}\\n{1}\\n{2}\\nDirection: {3}\\nViolation factor: {4:.2g}\\n'\n",
    "                      'Violation condition: {5}\\n\\n'.format(rxn_string, kinetics, comment, direction,\n",
    "                                                            ratio, condition))\n",
    "    if isinstance(violator[0], TemplateReaction):\n",
    "        # although this is the end of the run, restore the original comment\n",
    "        violator[0].kinetics.comment = comment"
   ]
  },
  {
   "cell_type": "code",
   "execution_count": 16,
   "metadata": {},
   "outputs": [
    {
     "data": {
      "text/plain": [
       "[('Disproportionation', 46),\n",
       " ('R_Recombination', 13),\n",
       " ('CO_Disproportionation', 2),\n",
       " ('Birad_R_Recombination', 2)]"
      ]
     },
     "execution_count": 16,
     "metadata": {},
     "output_type": "execute_result"
    }
   ],
   "source": [
    "families.most_common(10)"
   ]
  },
  {
   "cell_type": "code",
   "execution_count": 17,
   "metadata": {},
   "outputs": [
    {
     "data": {
      "text/plain": [
       "[('Disproportionation[Y_rad;O_Nrad]', 14),\n",
       " ('Disproportionation[Y_rad;N3s/H2_s_Nrad]', 8),\n",
       " ('Disproportionation[Y_rad;N3H_s_Rrad]', 6),\n",
       " ('Disproportionation[Y_rad;Cmethyl_Csrad]', 4),\n",
       " ('Disproportionation[Y_rad;N3s/H2_s_Orad]', 4),\n",
       " ('Disproportionation[Y_rad;O_Csrad]', 2),\n",
       " ('Disproportionation[Y_rad;NH_s_Rrad]', 2),\n",
       " ('Disproportionation[Y_rad;Cmethyl_Orad]', 2),\n",
       " ('Disproportionation[Y_rad;XH_s_Rbirad]', 2),\n",
       " ('CO_Disproportionation[Y_rad;HCO]', 2)]"
      ]
     },
     "execution_count": 17,
     "metadata": {},
     "output_type": "execute_result"
    }
   ],
   "source": [
    "# This is what was used\n",
    "templates.most_common(10)"
   ]
  },
  {
   "cell_type": "code",
   "execution_count": 18,
   "metadata": {},
   "outputs": [
    {
     "data": {
      "text/plain": [
       "[('Disproportionation[N5s_rad;O_Nrad]', 14),\n",
       " ('R_Recombination[Root_N-1R->H_1CNOS->N_Ext-2R-R_3R!H-u0_2R->C]', 10),\n",
       " ('Disproportionation[N5s_rad;N3s/H2_s_Nrad]', 8),\n",
       " ('Disproportionation[N5s_rad;N3s/H/NonDe_s_Rrad]', 6),\n",
       " ('Disproportionation[N5s_rad;Cmethyl_Csrad]', 4),\n",
       " ('Disproportionation[N5s_rad;N3s/H2_s_Orad]', 4),\n",
       " ('Disproportionation[N5s_rad;O_Csrad]', 2),\n",
       " ('Disproportionation[N5s_rad;N5H_s_Rrad]', 2),\n",
       " ('R_Recombination[Root_N-1R->H_1CNOS->N_Ext-2R-R_3R!H-u0]', 2),\n",
       " ('Disproportionation[N5s_rad;Cmethyl_Orad]', 2)]"
      ]
     },
     "execution_count": 18,
     "metadata": {},
     "output_type": "execute_result"
    }
   ],
   "source": [
    "# This is what it was trying to use\n",
    "rate_rules.most_common(10)"
   ]
  },
  {
   "cell_type": "code",
   "execution_count": 19,
   "metadata": {
    "scrolled": true
   },
   "outputs": [
    {
     "name": "stdout",
     "output_type": "stream",
     "text": [
      "H3N2O(193)   33  Thermo library: Nitrogen_G4\n",
      "S(1375)      25  Thermo group additivity estimation: grou\n",
      "S(1377)      25  Thermo group additivity estimation: grou\n",
      "H4N2O(514)   23  Thermo group additivity estimation: grou\n",
      "HNOH(94)     10  Thermo library: NOx2018\n",
      "CH2OH(45)    10  Thermo library: NOx2018\n",
      "HNO(88)      10  Thermo library: NOx2018\n",
      "H2N2O(503)    8  Thermo library: Nitrogen_G4\n",
      "NNDO(506)     8  Thermo library: Nitrogen_G4\n",
      "NH2(85)       7  Thermo library: primaryThermoLibrary\n",
      "N2H3(99)      6  Thermo library: NOx2018\n",
      "H2NO2(813)    6  Thermo library: Nitrogen_G4\n",
      "H2NO(89)      6  Thermo library: NOx2018\n",
      "HCO(22)       4  Thermo library: NOx2018\n",
      "H2N2O(502)    4  Thermo library: Nitrogen_G4 + radical(O2\n",
      "N2H2(97)      4  Thermo library: NOx2018\n",
      "CH2O(17)      4  Thermo library: NOx2018\n",
      "C2H5(21)      4  Thermo library: NOx2018\n",
      "C2H4(25)      4  Thermo library: NOx2018\n",
      "HNO2(95)      4  Thermo library: NOx2018\n"
     ]
    }
   ],
   "source": [
    "# Most common species\n",
    "for s,n in problem_species.most_common(20):\n",
    "    print(f\"{str(s):10s}  {n:3d}  {s.thermo.comment[:40]}\")"
   ]
  },
  {
   "cell_type": "code",
   "execution_count": 20,
   "metadata": {
    "scrolled": true
   },
   "outputs": [
    {
     "data": {
      "image/png": "[encoded data removed]",
      "text/plain": [
       "Species(index=193, label=\"H3N2O\", thermo=NASA(polynomials=[NASAPolynomial(coeffs=[3.92317,0.00777843,9.75872e-06,-1.51126e-08,5.62737e-12,15994.7,7.73501], Tmin=(10,'K'), Tmax=(930.53,'K')), NASAPolynomial(coeffs=[3.26821,0.014584,-7.64373e-06,1.96332e-09,-1.98362e-13,15943.9,9.91947], Tmin=(930.53,'K'), Tmax=(3000,'K'))], Tmin=(10,'K'), Tmax=(3000,'K'), comment=\"\"\"Thermo library: Nitrogen_G4\"\"\"), molecule=[Molecule(smiles=\"[O-][NH+]N\"), Molecule(smiles=\"NN[O]\")], transport_data=TransportData(shapeIndex=2, epsilon=(1971.36,'J/mol'), sigma=(5.118,'angstrom'), dipoleMoment=(0,'De'), polarizability=(0,'angstrom^3'), rotrelaxcollnum=0.0, comment=\"\"\"Epsilon & sigma estimated with fixed Lennard Jones Parameters. This is the fallback method! Try improving transport databases!\"\"\"), molecular_weight=(47.0367,'amu'))"
      ]
     },
     "metadata": {},
     "output_type": "display_data"
    },
    {
     "name": "stdout",
     "output_type": "stream",
     "text": [
      "H3N2O(193)\n",
      "multiplicity 2\n",
      "1 O u0 p3 c-1 {2,S}\n",
      "2 N u1 p0 c+1 {1,S} {3,S} {4,S}\n",
      "3 N u0 p1 c0 {2,S} {5,S} {6,S}\n",
      "4 H u0 p0 c0 {2,S}\n",
      "5 H u0 p0 c0 {3,S}\n",
      "6 H u0 p0 c0 {3,S}\n",
      "\n",
      "Thermo library: Nitrogen_G4\n",
      "--------------------------------------------------------------------------------\n"
     ]
    },
    {
     "data": {
      "image/png": "[encoded data removed]",
      "text/plain": [
       "Species(index=1375, label=\"S\", thermo=NASA(polynomials=[NASAPolynomial(coeffs=[2.5261,0.0315896,-2.42895e-05,8.36736e-09,-1.1215e-12,801.86,-5.14279], Tmin=(100,'K'), Tmax=(1742.62,'K')), NASAPolynomial(coeffs=[12.1291,0.00954681,-5.3156e-06,1.10853e-09,-8.01245e-14,-2544.98,-56.8049], Tmin=(1742.62,'K'), Tmax=(5000,'K'))], Tmin=(100,'K'), Tmax=(5000,'K'), comment=\"\"\"Thermo group additivity estimation: group(O2s-CsH) + group(O2s-CsCs) + group(N) + group(N3s-N) + group(Cs-CsCsCsCs)\"\"\"), molecule=[Molecule(smiles=\"[O-][NH+](CO)N\")], transport_data=TransportData(shapeIndex=2, epsilon=(2836.07,'J/mol'), sigma=(5.784,'angstrom'), dipoleMoment=(0,'De'), polarizability=(0,'angstrom^3'), rotrelaxcollnum=0.0, comment=\"\"\"Epsilon & sigma estimated with fixed Lennard Jones Parameters. This is the fallback method! Try improving transport databases!\"\"\"), molecular_weight=(78.0706,'amu'))"
      ]
     },
     "metadata": {},
     "output_type": "display_data"
    },
    {
     "name": "stdout",
     "output_type": "stream",
     "text": [
      "S(1375)\n",
      "1  O u0 p2 c0 {5,S} {11,S}\n",
      "2  O u0 p3 c-1 {3,S}\n",
      "3  N u0 p0 c+1 {2,S} {4,S} {5,S} {6,S}\n",
      "4  N u0 p1 c0 {3,S} {9,S} {10,S}\n",
      "5  C u0 p0 c0 {1,S} {3,S} {7,S} {8,S}\n",
      "6  H u0 p0 c0 {3,S}\n",
      "7  H u0 p0 c0 {5,S}\n",
      "8  H u0 p0 c0 {5,S}\n",
      "9  H u0 p0 c0 {4,S}\n",
      "10 H u0 p0 c0 {4,S}\n",
      "11 H u0 p0 c0 {1,S}\n",
      "\n",
      "Thermo group additivity estimation: group(O2s-CsH) + group(O2s-CsCs) + group(N) + group(N3s-N) + group(Cs-CsCsCsCs)\n",
      "--------------------------------------------------------------------------------\n"
     ]
    },
    {
     "data": {
      "image/png": "[encoded data removed]",
      "text/plain": [
       "Species(index=1377, label=\"S\", thermo=NASA(polynomials=[NASAPolynomial(coeffs=[1.893,0.0402381,-3.06672e-05,9.80908e-09,-7.38479e-13,-4107.52,9.05248], Tmin=(100,'K'), Tmax=(1160.06,'K')), NASAPolynomial(coeffs=[11.9463,0.0132036,-5.57717e-06,1.0604e-09,-7.5041e-14,-6953.45,-43.1547], Tmin=(1160.06,'K'), Tmax=(5000,'K'))], Tmin=(100,'K'), Tmax=(5000,'K'), comment=\"\"\"Thermo group additivity estimation: group(O2s-CsH) + group(O2s-N) + group(N3s-N) + group(N3s-N3sHH) + group(Cs-CsCsCsCs) + radical(O2sJ-N3s_459)\"\"\"), molecule=[Molecule(smiles=\"OCN([O])N\"), Molecule(smiles=\"[O-][N+](CO)N\")], transport_data=TransportData(shapeIndex=2, epsilon=(2836.07,'J/mol'), sigma=(5.784,'angstrom'), dipoleMoment=(0,'De'), polarizability=(0,'angstrom^3'), rotrelaxcollnum=0.0, comment=\"\"\"Epsilon & sigma estimated with fixed Lennard Jones Parameters. This is the fallback method! Try improving transport databases!\"\"\"), molecular_weight=(77.0627,'amu'))"
      ]
     },
     "metadata": {},
     "output_type": "display_data"
    },
    {
     "name": "stdout",
     "output_type": "stream",
     "text": [
      "S(1377)\n",
      "multiplicity 2\n",
      "1  O u0 p2 c0 {5,S} {10,S}\n",
      "2  O u1 p2 c0 {3,S}\n",
      "3  N u0 p1 c0 {2,S} {4,S} {5,S}\n",
      "4  N u0 p1 c0 {3,S} {8,S} {9,S}\n",
      "5  C u0 p0 c0 {1,S} {3,S} {6,S} {7,S}\n",
      "6  H u0 p0 c0 {5,S}\n",
      "7  H u0 p0 c0 {5,S}\n",
      "8  H u0 p0 c0 {4,S}\n",
      "9  H u0 p0 c0 {4,S}\n",
      "10 H u0 p0 c0 {1,S}\n",
      "\n",
      "Thermo group additivity estimation: group(O2s-CsH) + group(O2s-N) + group(N3s-N) + group(N3s-N3sHH) + group(Cs-CsCsCsCs) + radical(O2sJ-N3s_459)\n",
      "--------------------------------------------------------------------------------\n"
     ]
    },
    {
     "data": {
      "image/png": "[encoded data removed]",
      "text/plain": [
       "Species(index=514, label=\"H4N2O\", thermo=NASA(polynomials=[NASAPolynomial(coeffs=[3.73868,0.00449998,8.41085e-06,-1.01955e-08,2.95759e-12,21006.9,-3.37718], Tmin=(100,'K'), Tmax=(1295.06,'K')), NASAPolynomial(coeffs=[5.15448,0.00778784,-4.27038e-06,9.0018e-10,-6.6073e-14,19997.8,-13.054], Tmin=(1295.06,'K'), Tmax=(5000,'K'))], Tmin=(100,'K'), Tmax=(5000,'K'), comment=\"\"\"Thermo group additivity estimation: group(O2s-CsCs) + group(N) + group(N3s-N)\"\"\"), molecule=[Molecule(smiles=\"[O-][NH2+]N\")], transport_data=TransportData(shapeIndex=2, epsilon=(1971.36,'J/mol'), sigma=(5.118,'angstrom'), dipoleMoment=(0,'De'), polarizability=(0,'angstrom^3'), rotrelaxcollnum=0.0, comment=\"\"\"Epsilon & sigma estimated with fixed Lennard Jones Parameters. This is the fallback method! Try improving transport databases!\"\"\"), molecular_weight=(48.0446,'amu'))"
      ]
     },
     "metadata": {},
     "output_type": "display_data"
    },
    {
     "name": "stdout",
     "output_type": "stream",
     "text": [
      "H4N2O(514)\n",
      "1 O u0 p3 c-1 {2,S}\n",
      "2 N u0 p0 c+1 {1,S} {3,S} {4,S} {5,S}\n",
      "3 N u0 p1 c0 {2,S} {6,S} {7,S}\n",
      "4 H u0 p0 c0 {2,S}\n",
      "5 H u0 p0 c0 {2,S}\n",
      "6 H u0 p0 c0 {3,S}\n",
      "7 H u0 p0 c0 {3,S}\n",
      "\n",
      "Thermo group additivity estimation: group(O2s-CsCs) + group(N) + group(N3s-N)\n",
      "--------------------------------------------------------------------------------\n"
     ]
    },
    {
     "data": {
      "image/png": "[encoded data removed]",
      "text/plain": [
       "Species(index=94, label=\"HNOH\", thermo=NASA(polynomials=[NASAPolynomial(coeffs=[3.95608,-0.00302611,2.56874e-05,-3.15645e-08,1.24085e-11,10920,5.55951], Tmin=(200,'K'), Tmax=(1000,'K')), NASAPolynomial(coeffs=[3.98322,0.00488846,-1.65087e-06,2.55371e-10,-1.48309e-14,10578,3.62583], Tmin=(1000,'K'), Tmax=(6000,'K'))], Tmin=(200,'K'), Tmax=(6000,'K'), comment=\"\"\"Thermo library: NOx2018\"\"\"), molecule=[Molecule(smiles=\"[NH]O\")], transport_data=TransportData(shapeIndex=2, epsilon=(970.299,'J/mol'), sigma=(3.492,'angstrom'), dipoleMoment=(0,'De'), polarizability=(0,'angstrom^3'), rotrelaxcollnum=1.0, comment=\"\"\"NOx2018\"\"\"), molecular_weight=(32.022,'amu'))"
      ]
     },
     "metadata": {},
     "output_type": "display_data"
    },
    {
     "name": "stdout",
     "output_type": "stream",
     "text": [
      "HNOH(94)\n",
      "multiplicity 2\n",
      "1 O u0 p2 c0 {2,S} {4,S}\n",
      "2 N u1 p1 c0 {1,S} {3,S}\n",
      "3 H u0 p0 c0 {2,S}\n",
      "4 H u0 p0 c0 {1,S}\n",
      "\n",
      "Thermo library: NOx2018\n",
      "--------------------------------------------------------------------------------\n"
     ]
    },
    {
     "data": {
      "image/png": "[encoded data removed]",
      "text/plain": [
       "Species(index=45, label=\"CH2OH\", thermo=NASA(polynomials=[NASAPolynomial(coeffs=[4.40537,-0.000758358,2.61926e-05,-3.46319e-08,1.4082e-11,-3442.28,3.60691], Tmin=(200,'K'), Tmax=(1000,'K')), NASAPolynomial(coeffs=[6.20504,0.00243666,1.94377e-06,-1.61013e-09,3.14355e-13,-4258.44,-7.46071], Tmin=(1000,'K'), Tmax=(2000,'K'))], Tmin=(200,'K'), Tmax=(2000,'K'), comment=\"\"\"Thermo library: NOx2018\"\"\"), molecule=[Molecule(smiles=\"[CH2]O\")], transport_data=TransportData(shapeIndex=2, epsilon=(3467.13,'J/mol'), sigma=(3.69,'angstrom'), dipoleMoment=(1.7,'De'), polarizability=(0,'angstrom^3'), rotrelaxcollnum=2.0, comment=\"\"\"NOx2018\"\"\"), molecular_weight=(31.0339,'amu'))"
      ]
     },
     "metadata": {},
     "output_type": "display_data"
    },
    {
     "name": "stdout",
     "output_type": "stream",
     "text": [
      "CH2OH(45)\n",
      "multiplicity 2\n",
      "1 O u0 p2 c0 {2,S} {5,S}\n",
      "2 C u1 p0 c0 {1,S} {3,S} {4,S}\n",
      "3 H u0 p0 c0 {2,S}\n",
      "4 H u0 p0 c0 {2,S}\n",
      "5 H u0 p0 c0 {1,S}\n",
      "\n",
      "Thermo library: NOx2018\n",
      "--------------------------------------------------------------------------------\n"
     ]
    },
    {
     "data": {
      "image/png": "[encoded data removed]",
      "text/plain": [
       "Species(index=88, label=\"HNO\", thermo=NASA(polynomials=[NASAPolynomial(coeffs=[4.55326,-0.00584532,1.88854e-05,-1.7604e-08,5.7289e-12,11631.6,1.66851], Tmin=(200,'K'), Tmax=(1000,'K')), NASAPolynomial(coeffs=[3.24129,0.00272377,-1.60633e-07,-9.79135e-11,1.17104e-14,11774.6,7.27914], Tmin=(1000,'K'), Tmax=(6000,'K'))], Tmin=(200,'K'), Tmax=(6000,'K'), comment=\"\"\"Thermo library: NOx2018\"\"\"), molecule=[Molecule(smiles=\"N=O\")], transport_data=TransportData(shapeIndex=2, epsilon=(1413.46,'J/mol'), sigma=(3.43,'angstrom'), dipoleMoment=(1.62,'De'), polarizability=(0,'angstrom^3'), rotrelaxcollnum=1.0, comment=\"\"\"NOx2018\"\"\"), molecular_weight=(31.0141,'amu'))"
      ]
     },
     "metadata": {},
     "output_type": "display_data"
    },
    {
     "name": "stdout",
     "output_type": "stream",
     "text": [
      "HNO(88)\n",
      "1 O u0 p2 c0 {2,D}\n",
      "2 N u0 p1 c0 {1,D} {3,S}\n",
      "3 H u0 p0 c0 {2,S}\n",
      "\n",
      "Thermo library: NOx2018\n",
      "--------------------------------------------------------------------------------\n"
     ]
    },
    {
     "data": {
      "image/png": "[encoded data removed]",
      "text/plain": [
       "Species(index=503, label=\"H2N2O\", thermo=NASA(polynomials=[NASAPolynomial(coeffs=[4.0813,-0.00563709,4.60152e-05,-5.85649e-08,2.4292e-11,15114.9,6.42626], Tmin=(10,'K'), Tmax=(741.54,'K')), NASAPolynomial(coeffs=[1.48757,0.0148684,-8.64128e-06,2.41982e-09,-2.62164e-13,15320.5,16.9562], Tmin=(741.54,'K'), Tmax=(3000,'K'))], Tmin=(10,'K'), Tmax=(3000,'K'), comment=\"\"\"Thermo library: Nitrogen_G4\"\"\"), molecule=[Molecule(smiles=\"[O-][NH+]=N\"), Molecule(smiles=\"[NH-][NH+]=O\")], transport_data=TransportData(shapeIndex=2, epsilon=(1971.36,'J/mol'), sigma=(5.118,'angstrom'), dipoleMoment=(0,'De'), polarizability=(0,'angstrom^3'), rotrelaxcollnum=0.0, comment=\"\"\"Epsilon & sigma estimated with fixed Lennard Jones Parameters. This is the fallback method! Try improving transport databases!\"\"\"), molecular_weight=(46.0288,'amu'))"
      ]
     },
     "metadata": {},
     "output_type": "display_data"
    },
    {
     "name": "stdout",
     "output_type": "stream",
     "text": [
      "H2N2O(503)\n",
      "1 O u0 p3 c-1 {2,S}\n",
      "2 N u0 p0 c+1 {1,S} {3,D} {4,S}\n",
      "3 N u0 p1 c0 {2,D} {5,S}\n",
      "4 H u0 p0 c0 {2,S}\n",
      "5 H u0 p0 c0 {3,S}\n",
      "\n",
      "Thermo library: Nitrogen_G4\n",
      "--------------------------------------------------------------------------------\n"
     ]
    },
    {
     "data": {
      "image/png": "[encoded data removed]",
      "text/plain": [
       "Species(index=506, label=\"NNDO\", thermo=NASA(polynomials=[NASAPolynomial(coeffs=[4.06237,-0.00495473,4.79141e-05,-7.17148e-08,3.53141e-11,7810.2,6.49608], Tmin=(10,'K'), Tmax=(625.71,'K')), NASAPolynomial(coeffs=[2.34649,0.0119777,-6.97324e-06,1.99644e-09,-2.22455e-13,7908.19,13.0369], Tmin=(625.71,'K'), Tmax=(3000,'K'))], Tmin=(10,'K'), Tmax=(3000,'K'), comment=\"\"\"Thermo library: Nitrogen_G4\"\"\"), molecule=[Molecule(smiles=\"NN=O\"), Molecule(smiles=\"[O-]N=[NH2+]\")], transport_data=TransportData(shapeIndex=2, epsilon=(1971.36,'J/mol'), sigma=(5.118,'angstrom'), dipoleMoment=(0,'De'), polarizability=(0,'angstrom^3'), rotrelaxcollnum=0.0, comment=\"\"\"Epsilon & sigma estimated with fixed Lennard Jones Parameters. This is the fallback method! Try improving transport databases!\"\"\"), molecular_weight=(46.0288,'amu'))"
      ]
     },
     "metadata": {},
     "output_type": "display_data"
    },
    {
     "name": "stdout",
     "output_type": "stream",
     "text": [
      "NNDO(506)\n",
      "1 O u0 p2 c0 {3,D}\n",
      "2 N u0 p1 c0 {3,S} {4,S} {5,S}\n",
      "3 N u0 p1 c0 {1,D} {2,S}\n",
      "4 H u0 p0 c0 {2,S}\n",
      "5 H u0 p0 c0 {2,S}\n",
      "\n",
      "Thermo library: Nitrogen_G4\n",
      "--------------------------------------------------------------------------------\n"
     ]
    },
    {
     "data": {
      "image/png": "[encoded data removed]",
      "text/plain": [
       "Species(index=85, label=\"NH2\", thermo=NASA(polynomials=[NASAPolynomial(coeffs=[4.08974,-0.00115511,4.13795e-06,-2.48322e-09,4.84272e-13,21177.4,0.289569], Tmin=(100,'K'), Tmax=(1522.04,'K')), NASAPolynomial(coeffs=[2.68016,0.00336841,-1.12728e-06,1.76555e-10,-1.06785e-14,21511.6,7.3704], Tmin=(1522.04,'K'), Tmax=(5000,'K'))], Tmin=(100,'K'), Tmax=(5000,'K'), comment=\"\"\"Thermo library: primaryThermoLibrary\"\"\"), molecule=[Molecule(smiles=\"[NH2]\")], transport_data=TransportData(shapeIndex=2, epsilon=(665.158,'J/mol'), sigma=(2.65,'angstrom'), dipoleMoment=(0,'De'), polarizability=(2.26,'angstrom^3'), rotrelaxcollnum=4.0, comment=\"\"\"NOx2018\"\"\"), molecular_weight=(16.0226,'amu'))"
      ]
     },
     "metadata": {},
     "output_type": "display_data"
    },
    {
     "name": "stdout",
     "output_type": "stream",
     "text": [
      "NH2(85)\n",
      "multiplicity 2\n",
      "1 N u1 p1 c0 {2,S} {3,S}\n",
      "2 H u0 p0 c0 {1,S}\n",
      "3 H u0 p0 c0 {1,S}\n",
      "\n",
      "Thermo library: primaryThermoLibrary\n",
      "--------------------------------------------------------------------------------\n"
     ]
    }
   ],
   "source": [
    "for s,n in problem_species.most_common(10):\n",
    "    display(s)\n",
    "    print(s)\n",
    "    print(s.molecule[0].to_adjacency_list())\n",
    "    print(s.thermo.comment)\n",
    "    print('-'*80)"
   ]
  },
  {
   "cell_type": "code",
   "execution_count": null,
   "metadata": {},
   "outputs": [],
   "source": []
  }
 ],
 "metadata": {
  "kernelspec": {
   "display_name": "Python 3",
   "language": "python",
   "name": "python3"
  },
  "language_info": {
   "codemirror_mode": {
    "name": "ipython",
    "version": 3
   },
   "file_extension": ".py",
   "mimetype": "text/x-python",
   "name": "python",
   "nbconvert_exporter": "python",
   "pygments_lexer": "ipython3",
   "version": "3.7.5"
  }
 },
 "nbformat": 4,
 "nbformat_minor": 2
}
