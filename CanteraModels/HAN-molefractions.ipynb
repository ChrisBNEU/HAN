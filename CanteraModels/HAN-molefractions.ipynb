{
 "cells": [
  {
   "cell_type": "code",
   "execution_count": 2,
   "metadata": {},
   "outputs": [],
   "source": [
    "from IPython.display import HTML, display\n",
    "import tabulate"
   ]
  },
  {
   "cell_type": "code",
   "execution_count": 12,
   "metadata": {},
   "outputs": [
    {
     "name": "stdout",
     "output_type": "stream",
     "text": [
      "HAN Mole Fractions with no dissociation\n"
     ]
    },
    {
     "data": {
      "text/html": [
       "<table>\n",
       "<tbody>\n",
       "<tr><td>HAN             </td><td style=\"text-align: right;\">0.491766 </td></tr>\n",
       "<tr><td>Ammonium Nitrate</td><td style=\"text-align: right;\">0.0478435</td></tr>\n",
       "<tr><td>Water           </td><td style=\"text-align: right;\">0.141672 </td></tr>\n",
       "<tr><td>Methanol        </td><td style=\"text-align: right;\">0.318718 </td></tr>\n",
       "<tr><td>totalmol        </td><td style=\"text-align: right;\">0.0156683</td></tr>\n",
       "</tbody>\n",
       "</table>"
      ],
      "text/plain": [
       "<IPython.core.display.HTML object>"
      ]
     },
     "metadata": {},
     "output_type": "display_data"
    }
   ],
   "source": [
    "# Molecular weights in g/mol\n",
    "han_mw = 96.04\n",
    "amm_nitrate_mw = 80.04\n",
    "water_mw = 18.02\n",
    "methanol_mw = 32.04 \n",
    "\n",
    "#mass fractions provided\n",
    "han_massf = 0.74\n",
    "amm_nitrate_massf = 0.06\n",
    "water_massf = 0.04\n",
    "methanol_massf = 0.16\n",
    "\n",
    "#mole fractions\n",
    "totalmol = ((han_massf/han_mw)+(amm_nitrate_massf/amm_nitrate_mw)+\n",
    "            (water_massf/water_mw)+(methanol_massf/methanol_mw))\n",
    "\n",
    "han_molf = (han_massf/han_mw)/totalmol\n",
    "amm_nitrate_molf = (amm_nitrate_massf/amm_nitrate_mw)/totalmol\n",
    "water_molf = (water_massf/water_mw)/totalmol\n",
    "methanol_molf = (methanol_massf/methanol_mw)/totalmol\n",
    "\n",
    "sum([han_molf, amm_nitrate_molf, water_molf, methanol_molf])\n",
    "\n",
    "print (\"HAN Mole Fractions with no dissociation\")\n",
    "\n",
    "table = [[\"HAN\", han_molf],\n",
    "         [\"Ammonium Nitrate\",amm_nitrate_molf],\n",
    "         [\"Water\",water_molf],\n",
    "         [\"Methanol\",methanol_molf],\n",
    "         [\"totalmol\", totalmol]]\n",
    "display(HTML(tabulate.tabulate(table, tablefmt='html')))"
   ]
  },
  {
   "cell_type": "code",
   "execution_count": 13,
   "metadata": {},
   "outputs": [
    {
     "name": "stdout",
     "output_type": "stream",
     "text": [
      "HAN Mole Fractions with dissociation into uncharged species\n"
     ]
    },
    {
     "data": {
      "text/html": [
       "<table>\n",
       "<tbody>\n",
       "<tr><td>Ammonia      </td><td style=\"text-align: right;\">0.0304738 </td></tr>\n",
       "<tr><td>Hydroxylamine</td><td style=\"text-align: right;\">0.450974  </td></tr>\n",
       "<tr><td>Nitric Acid  </td><td style=\"text-align: right;\">0.481448  </td></tr>\n",
       "<tr><td>Water        </td><td style=\"text-align: right;\">0.00457386</td></tr>\n",
       "<tr><td>Methanol     </td><td style=\"text-align: right;\">0.0325297 </td></tr>\n",
       "</tbody>\n",
       "</table>"
      ],
      "text/plain": [
       "<IPython.core.display.HTML object>"
      ]
     },
     "metadata": {},
     "output_type": "display_data"
    }
   ],
   "source": [
    "# mole fractions with HAN and ammonium nitrate represented as the following: \n",
    "# NH3 (ammonia), NH2OH (hydroxylamine), and HNO3 (nitric acid), all neutral molecules\n",
    "# split  HAN into HNO3 and NH2OH, Ammonium nitrate into HNO3 and NH3\n",
    "\n",
    "# moles of each with HAN and Ammonium Nitrate dissociated\n",
    "\n",
    "diss_totalmol = han_molf*2 + amm_nitrate_molf*2 + water_molf + methanol_molf\n",
    "\n",
    "\n",
    "diss_ammonia_molf = amm_nitrate_molf/diss_totalmol\n",
    "diss_hydroxylamine_molf = han_molf/diss_totalmol\n",
    "diss_nitric_acid_molf = (amm_nitrate_molf + han_molf)/diss_totalmol\n",
    "diss_water_molf = water_molf/diss_totalmol\n",
    "diss_methanol_molf = methanol_molf/diss_totalmol\n",
    "\n",
    "print (\"HAN Mole Fractions with dissociation into uncharged species\")\n",
    "\n",
    "table = [[\"Ammonia\", diss_ammonia_molf],\n",
    "         [\"Hydroxylamine\",diss_hydroxylamine_molf],\n",
    "         [\"Nitric Acid\",diss_nitric_acid_molf],\n",
    "         [\"Water\",diss_water_molf],\n",
    "         [\"Methanol\",diss_methanol_molf]]\n",
    "display(HTML(tabulate.tabulate(table, tablefmt='html')))\n"
   ]
  },
  {
   "cell_type": "code",
   "execution_count": null,
   "metadata": {},
   "outputs": [],
   "source": []
  }
 ],
 "metadata": {
  "kernelspec": {
   "display_name": "Python 3",
   "language": "python",
   "name": "python3"
  },
  "language_info": {
   "codemirror_mode": {
    "name": "ipython",
    "version": 3
   },
   "file_extension": ".py",
   "mimetype": "text/x-python",
   "name": "python",
   "nbconvert_exporter": "python",
   "pygments_lexer": "ipython3",
   "version": "3.7.4"
  }
 },
 "nbformat": 4,
 "nbformat_minor": 2
}
