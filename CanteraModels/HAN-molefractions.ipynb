{
 "cells": [
  {
   "cell_type": "code",
   "execution_count": 1,
   "metadata": {},
   "outputs": [
    {
     "ename": "ModuleNotFoundError",
     "evalue": "No module named 'tabulate'",
     "output_type": "error",
     "traceback": [
      "\u001b[0;31m---------------------------------------------------------------------------\u001b[0m",
      "\u001b[0;31mModuleNotFoundError\u001b[0m                       Traceback (most recent call last)",
      "\u001b[0;32m<ipython-input-1-dd3a7afa28aa>\u001b[0m in \u001b[0;36m<module>\u001b[0;34m\u001b[0m\n\u001b[1;32m      1\u001b[0m \u001b[0;32mfrom\u001b[0m \u001b[0mIPython\u001b[0m\u001b[0;34m.\u001b[0m\u001b[0mdisplay\u001b[0m \u001b[0;32mimport\u001b[0m \u001b[0mHTML\u001b[0m\u001b[0;34m,\u001b[0m \u001b[0mdisplay\u001b[0m\u001b[0;34m\u001b[0m\u001b[0;34m\u001b[0m\u001b[0m\n\u001b[0;32m----> 2\u001b[0;31m \u001b[0;32mimport\u001b[0m \u001b[0mtabulate\u001b[0m\u001b[0;34m\u001b[0m\u001b[0;34m\u001b[0m\u001b[0m\n\u001b[0m",
      "\u001b[0;31mModuleNotFoundError\u001b[0m: No module named 'tabulate'"
     ]
    }
   ],
   "source": [
    "from IPython.display import HTML, display\n",
    "import tabulate"
   ]
  },
  {
   "cell_type": "code",
   "execution_count": 3,
   "metadata": {},
   "outputs": [
    {
     "name": "stdout",
     "output_type": "stream",
     "text": [
      "HAN Mole Fractions with no dissociation\n"
     ]
    },
    {
     "ename": "NameError",
     "evalue": "name 'tabulate' is not defined",
     "output_type": "error",
     "traceback": [
      "\u001b[0;31m---------------------------------------------------------------------------\u001b[0m",
      "\u001b[0;31mNameError\u001b[0m                                 Traceback (most recent call last)",
      "\u001b[0;32m<ipython-input-3-6aa6e2d40729>\u001b[0m in \u001b[0;36m<module>\u001b[0;34m\u001b[0m\n\u001b[1;32m     29\u001b[0m          \u001b[0;34m[\u001b[0m\u001b[0;34m\"Methanol\"\u001b[0m\u001b[0;34m,\u001b[0m\u001b[0mmethanol_molf\u001b[0m\u001b[0;34m]\u001b[0m\u001b[0;34m,\u001b[0m\u001b[0;34m\u001b[0m\u001b[0;34m\u001b[0m\u001b[0m\n\u001b[1;32m     30\u001b[0m          [\"totalmol\", totalmol]]\n\u001b[0;32m---> 31\u001b[0;31m \u001b[0mdisplay\u001b[0m\u001b[0;34m(\u001b[0m\u001b[0mHTML\u001b[0m\u001b[0;34m(\u001b[0m\u001b[0mtabulate\u001b[0m\u001b[0;34m.\u001b[0m\u001b[0mtabulate\u001b[0m\u001b[0;34m(\u001b[0m\u001b[0mtable\u001b[0m\u001b[0;34m,\u001b[0m \u001b[0mtablefmt\u001b[0m\u001b[0;34m=\u001b[0m\u001b[0;34m'html'\u001b[0m\u001b[0;34m)\u001b[0m\u001b[0;34m)\u001b[0m\u001b[0;34m)\u001b[0m\u001b[0;34m\u001b[0m\u001b[0;34m\u001b[0m\u001b[0m\n\u001b[0m\u001b[1;32m     32\u001b[0m \u001b[0mtable\u001b[0m\u001b[0;34m\u001b[0m\u001b[0;34m\u001b[0m\u001b[0m\n",
      "\u001b[0;31mNameError\u001b[0m: name 'tabulate' is not defined"
     ]
    }
   ],
   "source": [
    "# Molecular weights in g/mol\n",
    "han_mw = 96.04\n",
    "amm_nitrate_mw = 80.04\n",
    "water_mw = 18.02\n",
    "methanol_mw = 32.04 \n",
    "\n",
    "#mass fractions provided\n",
    "han_massf = 0.74\n",
    "amm_nitrate_massf = 0.06\n",
    "water_massf = 0.04\n",
    "methanol_massf = 0.16\n",
    "\n",
    "#mole fractions\n",
    "totalmol = ((han_massf/han_mw)+(amm_nitrate_massf/amm_nitrate_mw)+\n",
    "            (water_massf/water_mw)+(methanol_massf/methanol_mw))\n",
    "\n",
    "han_molf = (han_massf/han_mw)/totalmol\n",
    "amm_nitrate_molf = (amm_nitrate_massf/amm_nitrate_mw)/totalmol\n",
    "water_molf = (water_massf/water_mw)/totalmol\n",
    "methanol_molf = (methanol_massf/methanol_mw)/totalmol\n",
    "\n",
    "sum([han_molf, amm_nitrate_molf, water_molf, methanol_molf])\n",
    "\n",
    "print (\"HAN Mole Fractions with no dissociation\")\n",
    "\n",
    "table = [[\"HAN\", han_molf],\n",
    "         [\"Ammonium Nitrate\",amm_nitrate_molf],\n",
    "         [\"Water\",water_molf],\n",
    "         [\"Methanol\",methanol_molf],\n",
    "         [\"totalmol\", totalmol]]\n",
    "display(HTML(tabulate.tabulate(table, tablefmt='html')))\n"
   ]
  },
  {
   "cell_type": "code",
   "execution_count": 4,
   "metadata": {},
   "outputs": [
    {
     "data": {
      "text/plain": [
       "[['HAN', 0.49176628662554117],\n",
       " ['Ammonium Nitrate', 0.04784354528902809],\n",
       " ['Water', 0.1416721185695083],\n",
       " ['Methanol', 0.31871804951592253],\n",
       " ['totalmol', 0.015668261682484627]]"
      ]
     },
     "execution_count": 4,
     "metadata": {},
     "output_type": "execute_result"
    }
   ],
   "source": [
    "table"
   ]
  },
  {
   "cell_type": "code",
   "execution_count": 5,
   "metadata": {},
   "outputs": [
    {
     "name": "stdout",
     "output_type": "stream",
     "text": [
      "HAN Mole Fractions with dissociation into uncharged species\n"
     ]
    },
    {
     "ename": "NameError",
     "evalue": "name 'tabulate' is not defined",
     "output_type": "error",
     "traceback": [
      "\u001b[0;31m---------------------------------------------------------------------------\u001b[0m",
      "\u001b[0;31mNameError\u001b[0m                                 Traceback (most recent call last)",
      "\u001b[0;32m<ipython-input-5-4e2da47ad377>\u001b[0m in \u001b[0;36m<module>\u001b[0;34m\u001b[0m\n\u001b[1;32m     21\u001b[0m          \u001b[0;34m[\u001b[0m\u001b[0;34m\"Water\"\u001b[0m\u001b[0;34m,\u001b[0m\u001b[0mdiss_water_molf\u001b[0m\u001b[0;34m]\u001b[0m\u001b[0;34m,\u001b[0m\u001b[0;34m\u001b[0m\u001b[0;34m\u001b[0m\u001b[0m\n\u001b[1;32m     22\u001b[0m          [\"Methanol\",diss_methanol_molf]]\n\u001b[0;32m---> 23\u001b[0;31m \u001b[0mdisplay\u001b[0m\u001b[0;34m(\u001b[0m\u001b[0mHTML\u001b[0m\u001b[0;34m(\u001b[0m\u001b[0mtabulate\u001b[0m\u001b[0;34m.\u001b[0m\u001b[0mtabulate\u001b[0m\u001b[0;34m(\u001b[0m\u001b[0mtable\u001b[0m\u001b[0;34m,\u001b[0m \u001b[0mtablefmt\u001b[0m\u001b[0;34m=\u001b[0m\u001b[0;34m'html'\u001b[0m\u001b[0;34m)\u001b[0m\u001b[0;34m)\u001b[0m\u001b[0;34m)\u001b[0m\u001b[0;34m\u001b[0m\u001b[0;34m\u001b[0m\u001b[0m\n\u001b[0m",
      "\u001b[0;31mNameError\u001b[0m: name 'tabulate' is not defined"
     ]
    }
   ],
   "source": [
    "# mole fractions with HAN and ammonium nitrate represented as the following: \n",
    "# NH3 (ammonia), NH2OH (hydroxylamine), and HNO3 (nitric acid), all neutral molecules\n",
    "# split  HAN into HNO3 and NH2OH, Ammonium nitrate into HNO3 and NH3\n",
    "\n",
    "# moles of each with HAN and Ammonium Nitrate dissociated\n",
    "\n",
    "diss_totalmol = han_molf*2 + amm_nitrate_molf*2 + water_molf + methanol_molf\n",
    "\n",
    "\n",
    "diss_ammonia_molf = amm_nitrate_molf/diss_totalmol\n",
    "diss_hydroxylamine_molf = han_molf/diss_totalmol\n",
    "diss_nitric_acid_molf = (amm_nitrate_molf + han_molf)/diss_totalmol\n",
    "diss_water_molf = water_molf/diss_totalmol\n",
    "diss_methanol_molf = methanol_molf/diss_totalmol\n",
    "\n",
    "print (\"HAN Mole Fractions with dissociation into uncharged species\")\n",
    "\n",
    "table = [[\"Ammonia\", diss_ammonia_molf],\n",
    "         [\"Hydroxylamine\",diss_hydroxylamine_molf],\n",
    "         [\"Nitric Acid\",diss_nitric_acid_molf],\n",
    "         [\"Water\",diss_water_molf],\n",
    "         [\"Methanol\",diss_methanol_molf]]\n",
    "display(HTML(tabulate.tabulate(table, tablefmt='html')))\n"
   ]
  },
  {
   "cell_type": "code",
   "execution_count": 6,
   "metadata": {},
   "outputs": [
    {
     "data": {
      "text/plain": [
       "[['Ammonia', 0.031075110263184432],\n",
       " ['Hydroxylamine', 0.31940968187635516],\n",
       " ['Nitric Acid', 0.35048479213953954],\n",
       " ['Water', 0.09201819554070598],\n",
       " ['Methanol', 0.20701222018021495]]"
      ]
     },
     "execution_count": 6,
     "metadata": {},
     "output_type": "execute_result"
    }
   ],
   "source": [
    "table"
   ]
  },
  {
   "cell_type": "code",
   "execution_count": null,
   "metadata": {},
   "outputs": [],
   "source": []
  }
 ],
 "metadata": {
  "kernelspec": {
   "display_name": "Python 3",
   "language": "python",
   "name": "python3"
  },
  "language_info": {
   "codemirror_mode": {
    "name": "ipython",
    "version": 3
   },
   "file_extension": ".py",
   "mimetype": "text/x-python",
   "name": "python",
   "nbconvert_exporter": "python",
   "pygments_lexer": "ipython3",
   "version": "3.7.5"
  }
 },
 "nbformat": 4,
 "nbformat_minor": 2
}
