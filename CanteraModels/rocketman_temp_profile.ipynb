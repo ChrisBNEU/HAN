{
 "cells": [
  {
   "cell_type": "markdown",
   "metadata": {},
   "source": [
    "# Plug flow reactor simulation of Thruster\n",
    "\n",
    "![caption](Graphics/thruster-details.png)\n"
   ]
  },
  {
   "cell_type": "code",
   "execution_count": 1,
   "metadata": {},
   "outputs": [],
   "source": [
    "import cantera as ct\n",
    "import numpy as np\n",
    "\n",
    "from matplotlib import pyplot as plt\n",
    "import csv\n",
    "import os\n",
    "import re\n",
    "import itertools\n",
    "import pandas as pd\n",
    "from collections import defaultdict"
   ]
  },
  {
   "cell_type": "code",
   "execution_count": 2,
   "metadata": {},
   "outputs": [],
   "source": [
    "# default if not using SLURM array\n",
    "cat_area_per_vol = 3e6 # m2/m3\n",
    "temperature_c = 400 # ºC\n",
    "rtol = 1e-11\n",
    "atol = 1e-24\n",
    "residual_threshold = 5e-3\n",
    "\n",
    "# input file containing the reaction mechanism\n",
    "cti_file = '../RMG-model/cantera/chem_annotated.cti'\n",
    "#cti_file = '../RMG-model/cantera/chem0050.cti'"
   ]
  },
  {
   "cell_type": "code",
   "execution_count": 3,
   "metadata": {},
   "outputs": [],
   "source": [
    "#cantera\n",
    "gas=ct.Solution(cti_file)\n",
    "surf = ct.Interface(cti_file,'surface1', [gas])"
   ]
  },
  {
   "cell_type": "code",
   "execution_count": 4,
   "metadata": {},
   "outputs": [
    {
     "name": "stdout",
     "output_type": "stream",
     "text": [
      "Catalyst area per volume 3.00e+06 m2/m3\n",
      "Initial temperature      400.0 ºC\n",
      "Solver RTOL              1.0e-11\n",
      "Solvel ATOL              1.0e-24\n"
     ]
    }
   ],
   "source": [
    "print(f\"Catalyst area per volume {cat_area_per_vol :.2e} m2/m3\")\n",
    "print(f\"Initial temperature      {temperature_c :.1f} ºC\")\n",
    "print(f\"Solver RTOL              {rtol :.1e}\")\n",
    "print(f\"Solvel ATOL              {atol :.1e}\")"
   ]
  },
  {
   "cell_type": "markdown",
   "metadata": {},
   "source": [
    "\n",
    "\n",
    "This example solves a plug flow reactor problem, with coupled surface and gas chemistry.\n",
    "\n",
    "\n",
    "\n"
   ]
  },
  {
   "cell_type": "code",
   "execution_count": 5,
   "metadata": {},
   "outputs": [],
   "source": [
    "# unit conversion factors to SI\n",
    "cm = 0.01 # m\n",
    "minute = 60.0  # s"
   ]
  },
  {
   "cell_type": "code",
   "execution_count": 6,
   "metadata": {},
   "outputs": [
    {
     "name": "stdout",
     "output_type": "stream",
     "text": [
      "Initial temperature 400.0 ºC\n",
      "Catalyst specific area 1.40e+02 m2/g\n",
      "Catalyst density 4.00e+06 g/m3\n",
      "Catalyst area per total reactor volume 5.60e+08 m2/m3\n",
      "Catalyst area per gas volume 1.47e+09 m/m3\n",
      "\n",
      "Catalyst area per volume in use for this simulation: 2.80e+05 m2/m3\n"
     ]
    }
   ],
   "source": [
    "#######################################################################\n",
    "# Input Parameters for combustor\n",
    "#######################################################################\n",
    "mass_flow_rate =  0.5e-3 # kg/s\n",
    "#temperature_c = 550.0  # Initial Temperature in Celsius\n",
    "print(f\"Initial temperature {temperature_c :.1f} ºC\")\n",
    "pressure = ct.one_atm # constant\n",
    "\n",
    "diameter = 1.8*cm #18mm diameter circle.\n",
    "length = 1.1 * cm  # Catalyst bed length. 11mm\n",
    "cross_section_area = np.pi * (0.9*cm)**2  # Catalyst bed area.  18mm diameter circle.\n",
    "\n",
    "### Catalyst properties. Some are hard to estimate\n",
    "# if we can, update this lit value or verify the value richard calculated\n",
    "porosity = 0.38  # Catalyst bed porosity (0.38)\n",
    "# Al2O3 particles are about 0.7mm diameter\n",
    "cat_specific_area = 140 # m2/g\n",
    "print(f\"Catalyst specific area {cat_specific_area :.2e} m2/g\")\n",
    "cat_density = 4 / cm**3 # 4 g/cm3\n",
    "print(f\"Catalyst density {cat_density :.2e} g/m3\")\n",
    "cat_area_per_reactor_vol = cat_specific_area * cat_density # m2/m3\n",
    "print(f\"Catalyst area per total reactor volume {cat_area_per_reactor_vol :.2e} m2/m3\")\n",
    "cat_area_per_gas_vol = cat_area_per_reactor_vol / porosity # porosity is gas vol per reactor vol\n",
    "print(f\"Catalyst area per gas volume {cat_area_per_gas_vol :.2e} m/m3\")\n",
    "\n",
    "#cat_area_per_vol =  cat_area_per_gas_vol * 1e-3 # REDUCE BY A LOT\n",
    "\n",
    "cat_area_per_vol = 2.80e+05 #Mary Lou changed this because it made sim. work\n",
    "\n",
    "print(f\"\\nCatalyst area per volume in use for this simulation: {cat_area_per_vol :.2e} m2/m3\")\n"
   ]
  },
  {
   "cell_type": "markdown",
   "metadata": {},
   "source": [
    "## For temp profile"
   ]
  },
  {
   "cell_type": "code",
   "execution_count": 7,
   "metadata": {},
   "outputs": [
    {
     "name": "stdout",
     "output_type": "stream",
     "text": [
      "Reynolds #: 109.6 (supposed to be above 90 for this correlation)\n",
      "average h: 965 W/m-K\n"
     ]
    }
   ],
   "source": [
    "from scipy.integrate import solve_ivp\n",
    "#Values needed for T profiles, from Mitsubishi 'Issues by Dr Tsutiyama' pdf\n",
    "cat_thermal_conductivity = 0.34/cm #W/cm-K --> W/m-K\n",
    "a_prime = (1-porosity)/porosity\n",
    "a = cat_area_per_vol #assume for now. ask though [1/m]\n",
    "gas.thermal_conductivity #[W/m/K]\n",
    "gas.cp #[J/kg/K]\n",
    "gas.viscosity #Pa-s\n",
    "gas.density #kg/m^3 (confirmed- this is mass basis)\n",
    "gas_Pr = gas.cp*gas.viscosity/gas.thermal_conductivity\n",
    "\n",
    "init_velocity = mass_flow_rate / (gas.density * cross_section_area) #m/s\n",
    "#[kg/s]/([kg/m^3]*[m^2]) \n",
    "# sphere_diam = 0.3e-3 #m, D=0.3mm (where did I get that #? should be .7) \n",
    "sphere_diam = 0.7e-3 #m, D=0.7mm\n",
    "kinematic_viscosity = gas.viscosity/gas.density\n",
    "\n",
    "#emissivity of catalyst & propellant? \n",
    "eps_p = 0.9\n",
    "eps_f = 0.5\n",
    "stefboltz = 5.670e-8 #W/m^2-K^4W/m^2-K\n",
    "a_double_prime = 4/diameter #outer surface area/ volume\n",
    "eps_prime = 1/eps_p + 1/eps_f -1 \n",
    "\n",
    "Re_D = init_velocity*sphere_diam/kinematic_viscosity\n",
    "print('Reynolds #: {:.1f} (supposed to be above 90 for this correlation)'.format(Re_D))\n",
    "h = gas.density * init_velocity*gas.cp/porosity*(2.06*Re_D**(-0.575))*gas_Pr**(-2/3) #\n",
    "\n",
    "print('average h: {:.0f} W/m-K'.format(h)) "
   ]
  },
  {
   "cell_type": "code",
   "execution_count": 8,
   "metadata": {},
   "outputs": [
    {
     "data": {
      "text/plain": [
       "2.111111111111111"
      ]
     },
     "execution_count": 8,
     "metadata": {},
     "output_type": "execute_result"
    }
   ],
   "source": [
    "eps_prime"
   ]
  },
  {
   "cell_type": "markdown",
   "metadata": {},
   "source": [
    "For a packed bed of spheres with porosity $\\phi$, specific surface area (per unit bulk vol) is given by:\n",
    "\n",
    "\\begin{equation}\n",
    "a = \\frac{4 \\pi (D_p/2)^2}{4/3 \\pi (D_p/2)^3}(1-\\phi) = \\frac{6}{D_p}(1-\\phi)\n",
    "\\end{equation}\n",
    "\n",
    "source: http://www.owlnet.rice.edu/~ceng402/Hirasaki/CHAP3D.pdf\n",
    "\n",
    "This a turns out to be much smaller than 'cat_area_per_vol' "
   ]
  },
  {
   "cell_type": "code",
   "execution_count": 19,
   "metadata": {},
   "outputs": [
    {
     "name": "stdout",
     "output_type": "stream",
     "text": [
      "a = 5314.285714285714 this value is 1.00x smaller than 'cat_area_per_vol'\n"
     ]
    }
   ],
   "source": [
    "a = 6/sphere_diam*(1-porosity) #m^2/m^3\n",
    "\n",
    "print(f\"a = {a} this value is {cat_area_per_vol/a:.2f}x smaller than 'cat_area_per_vol'\")"
   ]
  },
  {
   "cell_type": "markdown",
   "metadata": {},
   "source": [
    "# From MHI:\n",
    "from Mitsubishi 'Issues by Dr Tsutiyama' pdf equations in the Dropbox.\n",
    "\n",
    "##### Surface Heat:\n",
    "Heat generation at catalyst = reaction heat at surface - heat transfer to fluid - heat transfer from wall:\n",
    "\\begin{equation}\n",
    "\\lambda a'\\frac{\\partial^2T_p}{\\partial z^2} = r \\Delta H (1-\\alpha)-h_ga(T_p - T_f)-\\sigma a( \\epsilon_p T_p^4 - \\epsilon_f T_f^4) - a'' \\sigma \\epsilon_p T_p^4\n",
    "\\end{equation}\n",
    "\n",
    " - The $a'$ parameter is $\\frac{1-\\varepsilon}{\\varepsilon}$, and since $\\varepsilon = \\frac{\\text{gas volume}}{\\text{reactor volume}}$, $\\frac{1-\\varepsilon}{\\varepsilon} =a' = \\frac{\\text{cat. volume}}{\\text{gas volume}}$. \n",
    " - The right hand side (RHS) of this temperature profile equation has units of $\\text{W}/\\text{m}^3$\n",
    " - $r \\Delta H (1-\\alpha) =$ surf.net_rates_of_progress $\\cdot$ surf.delta_enthalpy\n",
    " - r [kmol/m$^3$s]\n",
    "\n",
    "##### Gas Heat:\n",
    "Fluid temp increase = reaction heat in fluid + heat transfer from catalyst:\n",
    "\n",
    "\\begin{equation}\n",
    "\\rho_f C_f u \\frac{\\partial T_f}{\\partial z} = r \\Delta H \\alpha + a[h_g(T_p - T_f) + \\sigma(\\epsilon_p'T_p^4 - \\epsilon_f'T_f^4)]\n",
    "\\end{equation}\n",
    " - $r \\Delta H \\alpha =$ gas.net_rates_of_progress $\\cdot$ gas.delta_enthalpy\n"
   ]
  },
  {
   "cell_type": "code",
   "execution_count": 10,
   "metadata": {},
   "outputs": [],
   "source": [
    "def temp_profile(z,Temps_and_derivs):\n",
    "    \n",
    "    Tf,Tp, dTpdz = Temps_and_derivs\n",
    "#     dTfdz = gas_dT(z,Tf)\n",
    "#     dTpdz, dTp2dz2 = surf_dT(z,[Tp,dTpdz])\n",
    "\n",
    "    assert Tp > 0\n",
    "    \n",
    "    gas.TP = Tf, pressure\n",
    "    surf.TP = Tp, pressure\n",
    "    \n",
    "    gas_heat = np.dot(gas.net_rates_of_progress, gas.delta_enthalpy) # heat evolved by gas phase reaction\n",
    "    #[kmol/m^3/s]*[J/kmol] = W/m^3\n",
    "    surface_heat = cat_area_per_vol*np.dot(surf.net_rates_of_progress, surf.delta_enthalpy) # heat evolved by surf phase reaction \n",
    "    #[m^2/m^3]*[kmol/m^2/s]*[J/kmol] = W/m^3\n",
    "    convection_term = cat_area_per_vol*h*(surf.T - gas.T) # W/m^3\n",
    "    #[m^2/m^2]*[W/m^2-K]*[K] = W/m^3\n",
    "    \n",
    "    \n",
    "    radiation = cat_area_per_vol*stefboltz*(eps_prime*(surf.T)**4-eps_prime*(gas.T)**4)\n",
    "    velocity = mass_flow_rate / (gas.density * cross_section_area)\n",
    "    \n",
    "    dTfdz = (gas_heat + convection_term + radiation)/(gas.density*gas.cp*velocity)\n",
    "    \n",
    "\n",
    "    radiation_fluid = stefboltz*cat_area_per_vol*(eps_p*(surf.T)**4-eps_f*(gas.T)**4)\n",
    "    #[W/m^2-K^4]*[m^2/m^3]*[K^4] = W/m^3\n",
    "    radiation_wall = a_double_prime*stefboltz*eps_p*(surf.T)**4\n",
    "    #[m^2/m^3]*[W/m^2-K^4]*[K^4] = W/m^3\n",
    "    \n",
    "    dTp2dz2 = (surface_heat - convection_term - radiation_fluid - radiation_wall)/(cat_thermal_conductivity*100*a_prime) #K/m^2\n",
    "\n",
    "    \n",
    "    return dTfdz, dTpdz, dTp2dz2\n",
    "\n",
    "# test = solve_ivp(temp_profile, [0,r_len],[400,473,1])\n",
    "# # surf.T\n",
    "# plt.plot(test.t, test.y[0],label = 'gas')\n",
    "# plt.plot(test.t, test.y[1],label='surf')\n",
    "# plt.legend()\n",
    "# # test"
   ]
  },
  {
   "cell_type": "code",
   "execution_count": 11,
   "metadata": {},
   "outputs": [
    {
     "data": {
      "text/plain": [
       "'mass'"
      ]
     },
     "execution_count": 11,
     "metadata": {},
     "output_type": "execute_result"
    }
   ],
   "source": [
    "gas.T,surf.T, gas.density\n",
    "gas_heat = np.dot(gas.net_rates_of_progress, gas.delta_enthalpy) \n",
    "gas_heat\n",
    "\n",
    "# gas.density*gas.cp\n",
    "gas.basis"
   ]
  },
  {
   "cell_type": "code",
   "execution_count": 12,
   "metadata": {},
   "outputs": [],
   "source": [
    "output_filename = 'surf_pfr_output_mlou_test.csv'\n",
    "\n",
    "# The PFR will be simulated by a chain of 'NReactors' stirred reactors.\n",
    "NReactors = 22001\n",
    "\n",
    "#####################################################################\n",
    "temperature_c = 20\n",
    "temperature_kelvin = temperature_c + 273.15  # convert to Kelvin\n",
    "\n",
    "# import the gas model and set the initial conditions\n",
    "gas = ct.Solution(cti_file, 'gas')\n",
    "\n",
    "# From HAN-molefractions.ipynb\n",
    "feed_mole_fractions = {\n",
    "    'NH3(2)': 0.031,\n",
    "    'NH2OH(3)': 0.32,\n",
    "    'HNO3(4)': 0.35,\n",
    "    'CH3OH(5)': 0.21,\n",
    "    'H2O(6)': 0.09,\n",
    "}\n",
    "gas.TPX = temperature_kelvin, pressure, feed_mole_fractions\n",
    "\n",
    "\n",
    "# import the surface model\n",
    "surf = ct.Interface(cti_file,'surface1', [gas])\n",
    "surf.TP = 473, pressure\n",
    "surf.coverages = 'X(1):1.0'\n",
    "\n",
    "r_len = length/(NReactors-1) \n",
    "r_vol = cross_section_area * r_len * porosity # gas volume\n",
    "\n",
    "# catalyst area in one reactor\n",
    "cat_area = cat_area_per_vol * r_vol\n",
    "\n",
    "# Not sure we need the velocity\n",
    "velocity = mass_flow_rate / (gas.density * cross_section_area)"
   ]
  },
  {
   "cell_type": "code",
   "execution_count": 13,
   "metadata": {
    "scrolled": false
   },
   "outputs": [],
   "source": [
    "def report_rates(n=8):\n",
    "    print(\"\\nHighest net rates of progress, gas\")\n",
    "    for i in np.argsort(abs(gas.net_rates_of_progress))[-1:-n:-1]: # top n in descending order\n",
    "        print(f\"{i+1:3d} : {gas.reaction_equation(i):48s}  {gas.net_rates_of_progress[i]:8.1g}\")\n",
    "    print(\"\\nHighest net rates of progress, surface\")\n",
    "    for i in np.argsort(abs(surf.net_rates_of_progress))[-1:-n:-1]: # top n in descending order\n",
    "        print(f\"{i+1:3d} : {surf.reaction_equation(i):48s}  {cat_area_per_vol*surf.net_rates_of_progress[i]:8.1g}\")\n",
    "    print(\"\\nHighest forward rates of progress, gas\")\n",
    "    for i in np.argsort(abs(gas.forward_rates_of_progress))[-1:-n:-1]: # top n in descending order\n",
    "        print(f\"{i+1:3d} : {gas.reaction_equation(i):48s}  {gas.forward_rates_of_progress[i]:8.1g}\")\n",
    "    print(\"\\nHighest forward rates of progress, surface\")\n",
    "    for i in np.argsort(abs(surf.forward_rates_of_progress))[-1:-n:-1]: # top n in descending order\n",
    "        print(f\"{i+1:3d} : {surf.reaction_equation(i):48s}  {cat_area_per_vol*surf.forward_rates_of_progress[i]:8.1g}\")\n",
    "    print(\"\\nHighest reverse rates of progress, gas\")\n",
    "    for i in np.argsort(abs(gas.reverse_rates_of_progress))[-1:-n:-1]: # top n in descending order\n",
    "        print(f\"{i+1:3d} : {gas.reaction_equation(i):48s}  {gas.reverse_rates_of_progress[i]:8.1g}\")\n",
    "    print(\"\\nHighest reverse rates of progress, surface\")\n",
    "    for i in np.argsort(abs(surf.reverse_rates_of_progress))[-1:-n:-1]: # top n in descending order\n",
    "        print(f\"{i+1:3d} : {surf.reaction_equation(i):48s}  {cat_area_per_vol*surf.reverse_rates_of_progress[i]:8.1g}\")\n",
    "\n",
    "    print(f\"\\nSurface rates have been scaled by surface/volume ratio {cat_area_per_vol:.1e} m2/m3\")\n",
    "    print(\"So are on a similar basis of volume of gas\")\n",
    "    print(\" kmol / m3 / s\")\n",
    "# report_rates()"
   ]
  },
  {
   "cell_type": "code",
   "execution_count": 14,
   "metadata": {
    "scrolled": false
   },
   "outputs": [
    {
     "name": "stdout",
     "output_type": "stream",
     "text": [
      "\n",
      "Highest forward rate constants, gas\n",
      "297 : CH2OH(45) + NO(10) <=> S(1494)                     9.7e+24\n",
      "242 : CH2OH(45) + NO2(9) <=> S(1216)                     9.7e+24\n",
      "438 : CH2OH(45) + HNOH(93) <=> ONCO(1021)                9.7e+24\n",
      "475 : HCO(22) + HNOH(93) <=> ONCDO(266)                  9.7e+24\n",
      "480 : HCO(22) + HNO(630) <=> S(665)                      9.7e+24\n",
      "296 : CH2OH(45) + H2NO(88) <=> S(1108)                   9.7e+24\n",
      "597 : HCO(22) + NO2(9) <=> CHNO3(372)                    9.7e+24\n",
      "\n",
      "Highest forward rate constants, surface\n",
      " 84 : CHX(35) + HX(26) <=> CH2X(34) + X(1)               3.1e+21\n",
      " 95 : CHX(35) + X(1) <=> CX(33) + HX(26)                 3.1e+21\n",
      "468 : CH2X(34) + HX(26) <=> CH3X(28) + X(1)              3.1e+21\n",
      "746 : SX(1043) + X(1) <=> HX(26) + SX(1050)              3.7e+20\n",
      "142 : SX(1039) + X(1) <=> HX(26) + SX(1047)              3.7e+20\n",
      " 16 : HX(26) + OX(27) <=> HOX(29) + X(1)                 7.4e+18\n",
      "490 : 2 CH2X(34) <=> CH3X(28) + CHX(35)                  4.1e+18\n",
      "\n",
      "Highest reverse rate constants, gas\n",
      "472 : H2NO(88) + HCO(22) <=> S(674)                      5.8e+41\n",
      "1356 : CH(44) + NH3(2) <=> 2 H(20) + H2CN(114)            8.9e+30\n",
      "1410 : H2(13) + NCN(108) <=> H(20) + HNCN(107)            4.6e+28\n",
      "1738 : CH3NO(142) + M <=> H(20) + H2NCO(146) + M          2.0e+28\n",
      "637 : CH3(18) + M <=> CH2(42) + H(20) + M                1.2e+27\n",
      "636 : CH3(18) + M <=> CH(44) + H2(13) + M                7.7e+25\n",
      "503 : H2NO3(243) + S(665) <=> HNO3(4) + S(674)           6.6e+24\n",
      "\n",
      "Highest reverse rate constants, surface\n",
      "177 : SX(1249) + X(1) <=> NX(604) + SX(609)              3.1e+49\n",
      "354 : SX(3939) + X(1) <=> CX(33) + SX(605)               7.1e+45\n",
      "801 : SX(6977) + X(1) <=> NX(604) + SX(4793)             2.9e+45\n",
      "749 : HNO3X(208) + SX(1050) <=> NO3X(207) + SX(1043)     1.1e+45\n",
      "377 : SX(4539) + X(1) <=> NX(604) + SX(1064)             1.1e+44\n",
      "745 : H2OX(30) + SX(1050) <=> HOX(29) + SX(1043)         7.4e+43\n",
      "753 : HOX(29) + SX(1050) <=> OX(27) + SX(1043)           4.8e+42\n",
      "Units are a combination of kmol, m^3 and s, that depend on the rate expression for the reaction.\n"
     ]
    }
   ],
   "source": [
    "def report_rate_constants(n=8):\n",
    "    print(\"\\nHighest forward rate constants, gas\")\n",
    "    for i in np.argsort(abs(gas.forward_rate_constants))[-1:-n:-1]: # top n in descending order\n",
    "        print(f\"{i+1:3d} : {gas.reaction_equation(i):48s}  {gas.forward_rate_constants[i]:8.1e}\")\n",
    "    print(\"\\nHighest forward rate constants, surface\")\n",
    "    for i in np.argsort(abs(surf.forward_rate_constants))[-1:-n:-1]: # top n in descending order\n",
    "        print(f\"{i+1:3d} : {surf.reaction_equation(i):48s}  {surf.forward_rate_constants[i]:8.1e}\")\n",
    "    print(\"\\nHighest reverse rate constants, gas\")\n",
    "    for i in np.argsort(abs(gas.reverse_rate_constants))[-1:-n:-1]: # top n in descending order\n",
    "        print(f\"{i+1:3d} : {gas.reaction_equation(i):48s}  {gas.reverse_rate_constants[i]:8.1e}\")\n",
    "    print(\"\\nHighest reverse rate constants, surface\")\n",
    "    for i in np.argsort(abs(surf.reverse_rate_constants))[-1:-n:-1]: # top n in descending order\n",
    "        print(f\"{i+1:3d} : {surf.reaction_equation(i):48s}  {surf.reverse_rate_constants[i]:8.1e}\")\n",
    "\n",
    "    print(\"Units are a combination of kmol, m^3 and s, that depend on the rate expression for the reaction.\")\n",
    "report_rate_constants()"
   ]
  },
  {
   "cell_type": "code",
   "execution_count": 15,
   "metadata": {},
   "outputs": [],
   "source": [
    "def fix_rates(phase, limit):\n",
    "    \"\"\"\n",
    "    Fix reverse reaction rates that are too fast.\n",
    "    \"\"\"\n",
    "    for i in np.argsort(abs(phase.reverse_rate_constants))[-1:0:-1]:\n",
    "        if phase.reverse_rate_constants[i] < limit:\n",
    "            break\n",
    "#         print(f\"Before: {i:3d} : {phase.reaction_equation(i):48s}  {phase.reverse_rate_constants[i]:8.1e}\")\n",
    "        multiplier = limit / phase.reverse_rate_constants[i]\n",
    "        phase.set_multiplier(multiplier, i)\n",
    "#         print(f\"After:  {i:3d} : {phase.reaction_equation(i):48s}  {phase.reverse_rate_constants[i]:8.1e}\")\n",
    "        \n",
    "#fix_rates(gas, 1e18)\n",
    "#fix_rates(surf, 1e21)"
   ]
  },
  {
   "cell_type": "code",
   "execution_count": 16,
   "metadata": {},
   "outputs": [],
   "source": [
    "gas.TPX = temperature_kelvin, pressure, feed_mole_fractions\n",
    "surf.coverages = 'X(1):1.0'\n",
    "# #surf.coverages = starting_coverages\n",
    "# surf.TP = 473, pressure\n",
    "# TDY = gas.TDY\n",
    "\n",
    "# r.T,surf.T,gas.T\n",
    "# # TDY\n",
    "# solve_ivp?\n"
   ]
  },
  {
   "cell_type": "code",
   "execution_count": 18,
   "metadata": {},
   "outputs": [
    {
     "name": "stdout",
     "output_type": "stream",
     "text": [
      "   distance(mm)  surf.T (C)    gas.T (C)    NH3(2)   NH2OH(3)     HNO3(4)    CH3OH(5)  alpha\n",
      "      0.000000    147.1     19.4    0.030961    0.319629    0.349651   0.209783  1.0e+00\n",
      "      0.005000     60.7     19.3    0.030961    0.319629    0.349651   0.209783  1.0e+00\n",
      "      0.010000    -29.1     19.2    0.030961    0.319629    0.349651   0.209783  1.0e+00\n",
      "      0.015000   -118.9     19.1    0.030961    0.319629    0.349651   0.209783  1.0e+00\n",
      "      0.020000   -208.7     19.0    0.030961    0.319629    0.349651   0.209783  1.0e+00\n",
      "      0.025000   -260.4     18.9    0.030961    0.319629    0.349651   0.209783  1.0e+00\n",
      "      0.030000   -172.2     19.0    0.030961    0.319629    0.349651   0.209783  1.0e+00\n",
      "      0.035000    -82.4     19.1    0.030961    0.319629    0.349651   0.209783  1.0e+00\n",
      "      0.040000      7.4     19.2    0.030961    0.319629    0.349651   0.209783  1.0e+00\n",
      "      0.045000     97.2     19.3    0.030961    0.319629    0.349651   0.209783  1.0e+00\n",
      "      0.050000    131.7     19.4    0.030961    0.319629    0.349651   0.209783  1.0e+00\n",
      "      0.055000     42.2     19.3    0.030961    0.319629    0.349651   0.209783  1.0e+00\n",
      "      0.060000    -47.6     19.2    0.030961    0.319629    0.349651   0.209783  1.0e+00\n",
      "      0.065000   -137.3     19.1    0.030961    0.319629    0.349651   0.209783  1.0e+00\n",
      "      0.070000   -227.1     19.0    0.030961    0.319629    0.349651   0.209783  1.0e+00\n",
      "      0.075000   -243.5     18.9    0.030961    0.319629    0.349651   0.209783  1.0e+00\n",
      "      0.080000   -153.9     19.1    0.030961    0.319629    0.349651   0.209783  1.0e+00\n",
      "      0.085000    -64.1     19.2    0.030961    0.319629    0.349651   0.209783  1.0e+00\n",
      "      0.090000     25.7     19.3    0.030961    0.319629    0.349651   0.209783  1.0e+00\n",
      "      0.095000    115.4     19.4    0.030961    0.319629    0.349651   0.209783  1.0e+00\n",
      "      0.100000    113.7     19.4    0.030961    0.319629    0.349651   0.209783  1.0e+00\n",
      "      0.105000     24.0     19.3    0.030961    0.319629    0.349651   0.209783  1.0e+00\n",
      "      0.110000    -65.7     19.2    0.030961    0.319629    0.349651   0.209783  1.0e+00\n",
      "      0.115000   -155.5     19.1    0.030961    0.319629    0.349651   0.209783  1.0e+00\n",
      "      0.120000   -245.0     19.0    0.030961    0.319629    0.349651   0.209783  1.0e+00\n",
      "      0.125000   -225.5     19.0    0.030961    0.319629    0.349651   0.209783  1.0e+00\n",
      "      0.130000   -135.8     19.1    0.030961    0.319629    0.349651   0.209783  1.0e+00\n",
      "      0.135000    -46.1     19.2    0.030961    0.319629    0.349651   0.209783  1.0e+00\n",
      "      0.140000     43.7     19.3    0.030961    0.319629    0.349651   0.209783  1.0e+00\n"
     ]
    },
    {
     "ename": "KeyboardInterrupt",
     "evalue": "",
     "output_type": "error",
     "traceback": [
      "\u001b[0;31m---------------------------------------------------------------------------\u001b[0m",
      "\u001b[0;31mKeyboardInterrupt\u001b[0m                         Traceback (most recent call last)",
      "\u001b[0;32m<ipython-input-18-c51ab428d7f4>\u001b[0m in \u001b[0;36m<module>\u001b[0;34m\u001b[0m\n\u001b[1;32m    142\u001b[0m     \u001b[0;32mif\u001b[0m \u001b[0mn\u001b[0m \u001b[0;34m==\u001b[0m \u001b[0;36m0\u001b[0m\u001b[0;34m:\u001b[0m\u001b[0;34m\u001b[0m\u001b[0;34m\u001b[0m\u001b[0m\n\u001b[1;32m    143\u001b[0m         \u001b[0mdTpdz\u001b[0m \u001b[0;34m=\u001b[0m \u001b[0;36m0\u001b[0m \u001b[0;31m#guess\u001b[0m\u001b[0;34m\u001b[0m\u001b[0;34m\u001b[0m\u001b[0m\n\u001b[0;32m--> 144\u001b[0;31m     \u001b[0mans\u001b[0m \u001b[0;34m=\u001b[0m \u001b[0msolve_ivp\u001b[0m\u001b[0;34m(\u001b[0m\u001b[0mtemp_profile\u001b[0m\u001b[0;34m,\u001b[0m\u001b[0;34m[\u001b[0m\u001b[0mz\u001b[0m\u001b[0;34m,\u001b[0m\u001b[0mz\u001b[0m\u001b[0;34m+\u001b[0m\u001b[0mdz\u001b[0m\u001b[0;34m]\u001b[0m\u001b[0;34m,\u001b[0m\u001b[0;34m[\u001b[0m\u001b[0mgas\u001b[0m\u001b[0;34m.\u001b[0m\u001b[0mT\u001b[0m\u001b[0;34m,\u001b[0m\u001b[0msurf\u001b[0m\u001b[0;34m.\u001b[0m\u001b[0mT\u001b[0m\u001b[0;34m,\u001b[0m\u001b[0mdTpdz\u001b[0m\u001b[0;34m]\u001b[0m\u001b[0;34m,\u001b[0m\u001b[0mmax_step\u001b[0m\u001b[0;34m=\u001b[0m\u001b[0;36m1e-7\u001b[0m\u001b[0;34m)\u001b[0m\u001b[0;34m\u001b[0m\u001b[0;34m\u001b[0m\u001b[0m\n\u001b[0m\u001b[1;32m    145\u001b[0m     \u001b[0mplt\u001b[0m\u001b[0;34m.\u001b[0m\u001b[0mplot\u001b[0m\u001b[0;34m(\u001b[0m\u001b[0mans\u001b[0m\u001b[0;34m.\u001b[0m\u001b[0mt\u001b[0m\u001b[0;34m*\u001b[0m\u001b[0;36m100\u001b[0m\u001b[0;34m,\u001b[0m\u001b[0mans\u001b[0m\u001b[0;34m.\u001b[0m\u001b[0my\u001b[0m\u001b[0;34m[\u001b[0m\u001b[0;36m0\u001b[0m\u001b[0;34m]\u001b[0m\u001b[0;34m)\u001b[0m\u001b[0;34m\u001b[0m\u001b[0;34m\u001b[0m\u001b[0m\n\u001b[1;32m    146\u001b[0m     \u001b[0mplt\u001b[0m\u001b[0;34m.\u001b[0m\u001b[0mplot\u001b[0m\u001b[0;34m(\u001b[0m\u001b[0mans\u001b[0m\u001b[0;34m.\u001b[0m\u001b[0mt\u001b[0m\u001b[0;34m*\u001b[0m\u001b[0;36m100\u001b[0m\u001b[0;34m,\u001b[0m\u001b[0mans\u001b[0m\u001b[0;34m.\u001b[0m\u001b[0my\u001b[0m\u001b[0;34m[\u001b[0m\u001b[0;36m1\u001b[0m\u001b[0;34m]\u001b[0m\u001b[0;34m)\u001b[0m\u001b[0;34m\u001b[0m\u001b[0;34m\u001b[0m\u001b[0m\n",
      "\u001b[0;32m~/.conda/envs/rmg_env/lib/python3.7/site-packages/scipy/integrate/_ivp/ivp.py\u001b[0m in \u001b[0;36msolve_ivp\u001b[0;34m(fun, t_span, y0, method, t_eval, dense_output, events, vectorized, **options)\u001b[0m\n\u001b[1;32m    500\u001b[0m     \u001b[0mstatus\u001b[0m \u001b[0;34m=\u001b[0m \u001b[0;32mNone\u001b[0m\u001b[0;34m\u001b[0m\u001b[0;34m\u001b[0m\u001b[0m\n\u001b[1;32m    501\u001b[0m     \u001b[0;32mwhile\u001b[0m \u001b[0mstatus\u001b[0m \u001b[0;32mis\u001b[0m \u001b[0;32mNone\u001b[0m\u001b[0;34m:\u001b[0m\u001b[0;34m\u001b[0m\u001b[0;34m\u001b[0m\u001b[0m\n\u001b[0;32m--> 502\u001b[0;31m         \u001b[0mmessage\u001b[0m \u001b[0;34m=\u001b[0m \u001b[0msolver\u001b[0m\u001b[0;34m.\u001b[0m\u001b[0mstep\u001b[0m\u001b[0;34m(\u001b[0m\u001b[0;34m)\u001b[0m\u001b[0;34m\u001b[0m\u001b[0;34m\u001b[0m\u001b[0m\n\u001b[0m\u001b[1;32m    503\u001b[0m \u001b[0;34m\u001b[0m\u001b[0m\n\u001b[1;32m    504\u001b[0m         \u001b[0;32mif\u001b[0m \u001b[0msolver\u001b[0m\u001b[0;34m.\u001b[0m\u001b[0mstatus\u001b[0m \u001b[0;34m==\u001b[0m \u001b[0;34m'finished'\u001b[0m\u001b[0;34m:\u001b[0m\u001b[0;34m\u001b[0m\u001b[0;34m\u001b[0m\u001b[0m\n",
      "\u001b[0;32m~/.conda/envs/rmg_env/lib/python3.7/site-packages/scipy/integrate/_ivp/base.py\u001b[0m in \u001b[0;36mstep\u001b[0;34m(self)\u001b[0m\n\u001b[1;32m    180\u001b[0m         \u001b[0;32melse\u001b[0m\u001b[0;34m:\u001b[0m\u001b[0;34m\u001b[0m\u001b[0;34m\u001b[0m\u001b[0m\n\u001b[1;32m    181\u001b[0m             \u001b[0mt\u001b[0m \u001b[0;34m=\u001b[0m \u001b[0mself\u001b[0m\u001b[0;34m.\u001b[0m\u001b[0mt\u001b[0m\u001b[0;34m\u001b[0m\u001b[0;34m\u001b[0m\u001b[0m\n\u001b[0;32m--> 182\u001b[0;31m             \u001b[0msuccess\u001b[0m\u001b[0;34m,\u001b[0m \u001b[0mmessage\u001b[0m \u001b[0;34m=\u001b[0m \u001b[0mself\u001b[0m\u001b[0;34m.\u001b[0m\u001b[0m_step_impl\u001b[0m\u001b[0;34m(\u001b[0m\u001b[0;34m)\u001b[0m\u001b[0;34m\u001b[0m\u001b[0;34m\u001b[0m\u001b[0m\n\u001b[0m\u001b[1;32m    183\u001b[0m \u001b[0;34m\u001b[0m\u001b[0m\n\u001b[1;32m    184\u001b[0m             \u001b[0;32mif\u001b[0m \u001b[0;32mnot\u001b[0m \u001b[0msuccess\u001b[0m\u001b[0;34m:\u001b[0m\u001b[0;34m\u001b[0m\u001b[0;34m\u001b[0m\u001b[0m\n",
      "\u001b[0;32m~/.conda/envs/rmg_env/lib/python3.7/site-packages/scipy/integrate/_ivp/rk.py\u001b[0m in \u001b[0;36m_step_impl\u001b[0;34m(self)\u001b[0m\n\u001b[1;32m    141\u001b[0m \u001b[0;34m\u001b[0m\u001b[0m\n\u001b[1;32m    142\u001b[0m             y_new, f_new, error = rk_step(self.fun, t, y, self.f, h, self.A,\n\u001b[0;32m--> 143\u001b[0;31m                                           self.B, self.C, self.E, self.K)\n\u001b[0m\u001b[1;32m    144\u001b[0m             \u001b[0mscale\u001b[0m \u001b[0;34m=\u001b[0m \u001b[0matol\u001b[0m \u001b[0;34m+\u001b[0m \u001b[0mnp\u001b[0m\u001b[0;34m.\u001b[0m\u001b[0mmaximum\u001b[0m\u001b[0;34m(\u001b[0m\u001b[0mnp\u001b[0m\u001b[0;34m.\u001b[0m\u001b[0mabs\u001b[0m\u001b[0;34m(\u001b[0m\u001b[0my\u001b[0m\u001b[0;34m)\u001b[0m\u001b[0;34m,\u001b[0m \u001b[0mnp\u001b[0m\u001b[0;34m.\u001b[0m\u001b[0mabs\u001b[0m\u001b[0;34m(\u001b[0m\u001b[0my_new\u001b[0m\u001b[0;34m)\u001b[0m\u001b[0;34m)\u001b[0m \u001b[0;34m*\u001b[0m \u001b[0mrtol\u001b[0m\u001b[0;34m\u001b[0m\u001b[0;34m\u001b[0m\u001b[0m\n\u001b[1;32m    145\u001b[0m             \u001b[0merror_norm\u001b[0m \u001b[0;34m=\u001b[0m \u001b[0mnorm\u001b[0m\u001b[0;34m(\u001b[0m\u001b[0merror\u001b[0m \u001b[0;34m/\u001b[0m \u001b[0mscale\u001b[0m\u001b[0;34m)\u001b[0m\u001b[0;34m\u001b[0m\u001b[0;34m\u001b[0m\u001b[0m\n",
      "\u001b[0;32m~/.conda/envs/rmg_env/lib/python3.7/site-packages/scipy/integrate/_ivp/rk.py\u001b[0m in \u001b[0;36mrk_step\u001b[0;34m(fun, t, y, f, h, A, B, C, E, K)\u001b[0m\n\u001b[1;32m     68\u001b[0m     \u001b[0;32mfor\u001b[0m \u001b[0ms\u001b[0m\u001b[0;34m,\u001b[0m \u001b[0;34m(\u001b[0m\u001b[0ma\u001b[0m\u001b[0;34m,\u001b[0m \u001b[0mc\u001b[0m\u001b[0;34m)\u001b[0m \u001b[0;32min\u001b[0m \u001b[0menumerate\u001b[0m\u001b[0;34m(\u001b[0m\u001b[0mzip\u001b[0m\u001b[0;34m(\u001b[0m\u001b[0mA\u001b[0m\u001b[0;34m,\u001b[0m \u001b[0mC\u001b[0m\u001b[0;34m)\u001b[0m\u001b[0;34m)\u001b[0m\u001b[0;34m:\u001b[0m\u001b[0;34m\u001b[0m\u001b[0;34m\u001b[0m\u001b[0m\n\u001b[1;32m     69\u001b[0m         \u001b[0mdy\u001b[0m \u001b[0;34m=\u001b[0m \u001b[0mnp\u001b[0m\u001b[0;34m.\u001b[0m\u001b[0mdot\u001b[0m\u001b[0;34m(\u001b[0m\u001b[0mK\u001b[0m\u001b[0;34m[\u001b[0m\u001b[0;34m:\u001b[0m\u001b[0ms\u001b[0m \u001b[0;34m+\u001b[0m \u001b[0;36m1\u001b[0m\u001b[0;34m]\u001b[0m\u001b[0;34m.\u001b[0m\u001b[0mT\u001b[0m\u001b[0;34m,\u001b[0m \u001b[0ma\u001b[0m\u001b[0;34m)\u001b[0m \u001b[0;34m*\u001b[0m \u001b[0mh\u001b[0m\u001b[0;34m\u001b[0m\u001b[0;34m\u001b[0m\u001b[0m\n\u001b[0;32m---> 70\u001b[0;31m         \u001b[0mK\u001b[0m\u001b[0;34m[\u001b[0m\u001b[0ms\u001b[0m \u001b[0;34m+\u001b[0m \u001b[0;36m1\u001b[0m\u001b[0;34m]\u001b[0m \u001b[0;34m=\u001b[0m \u001b[0mfun\u001b[0m\u001b[0;34m(\u001b[0m\u001b[0mt\u001b[0m \u001b[0;34m+\u001b[0m \u001b[0mc\u001b[0m \u001b[0;34m*\u001b[0m \u001b[0mh\u001b[0m\u001b[0;34m,\u001b[0m \u001b[0my\u001b[0m \u001b[0;34m+\u001b[0m \u001b[0mdy\u001b[0m\u001b[0;34m)\u001b[0m\u001b[0;34m\u001b[0m\u001b[0;34m\u001b[0m\u001b[0m\n\u001b[0m\u001b[1;32m     71\u001b[0m \u001b[0;34m\u001b[0m\u001b[0m\n\u001b[1;32m     72\u001b[0m     \u001b[0my_new\u001b[0m \u001b[0;34m=\u001b[0m \u001b[0my\u001b[0m \u001b[0;34m+\u001b[0m \u001b[0mh\u001b[0m \u001b[0;34m*\u001b[0m \u001b[0mnp\u001b[0m\u001b[0;34m.\u001b[0m\u001b[0mdot\u001b[0m\u001b[0;34m(\u001b[0m\u001b[0mK\u001b[0m\u001b[0;34m[\u001b[0m\u001b[0;34m:\u001b[0m\u001b[0;34m-\u001b[0m\u001b[0;36m1\u001b[0m\u001b[0;34m]\u001b[0m\u001b[0;34m.\u001b[0m\u001b[0mT\u001b[0m\u001b[0;34m,\u001b[0m \u001b[0mB\u001b[0m\u001b[0;34m)\u001b[0m\u001b[0;34m\u001b[0m\u001b[0;34m\u001b[0m\u001b[0m\n",
      "\u001b[0;32m~/.conda/envs/rmg_env/lib/python3.7/site-packages/scipy/integrate/_ivp/base.py\u001b[0m in \u001b[0;36mfun\u001b[0;34m(t, y)\u001b[0m\n\u001b[1;32m    137\u001b[0m         \u001b[0;32mdef\u001b[0m \u001b[0mfun\u001b[0m\u001b[0;34m(\u001b[0m\u001b[0mt\u001b[0m\u001b[0;34m,\u001b[0m \u001b[0my\u001b[0m\u001b[0;34m)\u001b[0m\u001b[0;34m:\u001b[0m\u001b[0;34m\u001b[0m\u001b[0;34m\u001b[0m\u001b[0m\n\u001b[1;32m    138\u001b[0m             \u001b[0mself\u001b[0m\u001b[0;34m.\u001b[0m\u001b[0mnfev\u001b[0m \u001b[0;34m+=\u001b[0m \u001b[0;36m1\u001b[0m\u001b[0;34m\u001b[0m\u001b[0;34m\u001b[0m\u001b[0m\n\u001b[0;32m--> 139\u001b[0;31m             \u001b[0;32mreturn\u001b[0m \u001b[0mself\u001b[0m\u001b[0;34m.\u001b[0m\u001b[0mfun_single\u001b[0m\u001b[0;34m(\u001b[0m\u001b[0mt\u001b[0m\u001b[0;34m,\u001b[0m \u001b[0my\u001b[0m\u001b[0;34m)\u001b[0m\u001b[0;34m\u001b[0m\u001b[0;34m\u001b[0m\u001b[0m\n\u001b[0m\u001b[1;32m    140\u001b[0m \u001b[0;34m\u001b[0m\u001b[0m\n\u001b[1;32m    141\u001b[0m         \u001b[0mself\u001b[0m\u001b[0;34m.\u001b[0m\u001b[0mfun\u001b[0m \u001b[0;34m=\u001b[0m \u001b[0mfun\u001b[0m\u001b[0;34m\u001b[0m\u001b[0;34m\u001b[0m\u001b[0m\n",
      "\u001b[0;32m~/.conda/envs/rmg_env/lib/python3.7/site-packages/scipy/integrate/_ivp/base.py\u001b[0m in \u001b[0;36mfun_wrapped\u001b[0;34m(t, y)\u001b[0m\n\u001b[1;32m     19\u001b[0m \u001b[0;34m\u001b[0m\u001b[0m\n\u001b[1;32m     20\u001b[0m     \u001b[0;32mdef\u001b[0m \u001b[0mfun_wrapped\u001b[0m\u001b[0;34m(\u001b[0m\u001b[0mt\u001b[0m\u001b[0;34m,\u001b[0m \u001b[0my\u001b[0m\u001b[0;34m)\u001b[0m\u001b[0;34m:\u001b[0m\u001b[0;34m\u001b[0m\u001b[0;34m\u001b[0m\u001b[0m\n\u001b[0;32m---> 21\u001b[0;31m         \u001b[0;32mreturn\u001b[0m \u001b[0mnp\u001b[0m\u001b[0;34m.\u001b[0m\u001b[0masarray\u001b[0m\u001b[0;34m(\u001b[0m\u001b[0mfun\u001b[0m\u001b[0;34m(\u001b[0m\u001b[0mt\u001b[0m\u001b[0;34m,\u001b[0m \u001b[0my\u001b[0m\u001b[0;34m)\u001b[0m\u001b[0;34m,\u001b[0m \u001b[0mdtype\u001b[0m\u001b[0;34m=\u001b[0m\u001b[0mdtype\u001b[0m\u001b[0;34m)\u001b[0m\u001b[0;34m\u001b[0m\u001b[0;34m\u001b[0m\u001b[0m\n\u001b[0m\u001b[1;32m     22\u001b[0m \u001b[0;34m\u001b[0m\u001b[0m\n\u001b[1;32m     23\u001b[0m     \u001b[0;32mreturn\u001b[0m \u001b[0mfun_wrapped\u001b[0m\u001b[0;34m,\u001b[0m \u001b[0my0\u001b[0m\u001b[0;34m\u001b[0m\u001b[0;34m\u001b[0m\u001b[0m\n",
      "\u001b[0;32m<ipython-input-10-428f1b6a49c2>\u001b[0m in \u001b[0;36mtemp_profile\u001b[0;34m(z, Temps_and_derivs)\u001b[0m\n\u001b[1;32m     12\u001b[0m     \u001b[0mgas_heat\u001b[0m \u001b[0;34m=\u001b[0m \u001b[0mnp\u001b[0m\u001b[0;34m.\u001b[0m\u001b[0mdot\u001b[0m\u001b[0;34m(\u001b[0m\u001b[0mgas\u001b[0m\u001b[0;34m.\u001b[0m\u001b[0mnet_rates_of_progress\u001b[0m\u001b[0;34m,\u001b[0m \u001b[0mgas\u001b[0m\u001b[0;34m.\u001b[0m\u001b[0mdelta_enthalpy\u001b[0m\u001b[0;34m)\u001b[0m \u001b[0;31m# heat evolved by gas phase reaction\u001b[0m\u001b[0;34m\u001b[0m\u001b[0;34m\u001b[0m\u001b[0m\n\u001b[1;32m     13\u001b[0m     \u001b[0;31m#[kmol/m^3/s]*[J/kmol] = W/m^3\u001b[0m\u001b[0;34m\u001b[0m\u001b[0;34m\u001b[0m\u001b[0;34m\u001b[0m\u001b[0m\n\u001b[0;32m---> 14\u001b[0;31m     \u001b[0msurface_heat\u001b[0m \u001b[0;34m=\u001b[0m \u001b[0mcat_area_per_vol\u001b[0m\u001b[0;34m*\u001b[0m\u001b[0mnp\u001b[0m\u001b[0;34m.\u001b[0m\u001b[0mdot\u001b[0m\u001b[0;34m(\u001b[0m\u001b[0msurf\u001b[0m\u001b[0;34m.\u001b[0m\u001b[0mnet_rates_of_progress\u001b[0m\u001b[0;34m,\u001b[0m \u001b[0msurf\u001b[0m\u001b[0;34m.\u001b[0m\u001b[0mdelta_enthalpy\u001b[0m\u001b[0;34m)\u001b[0m \u001b[0;31m# heat evolved by surf phase reaction\u001b[0m\u001b[0;34m\u001b[0m\u001b[0;34m\u001b[0m\u001b[0m\n\u001b[0m\u001b[1;32m     15\u001b[0m     \u001b[0;31m#[m^2/m^3]*[kmol/m^2/s]*[J/kmol] = W/m^3\u001b[0m\u001b[0;34m\u001b[0m\u001b[0;34m\u001b[0m\u001b[0;34m\u001b[0m\u001b[0m\n\u001b[1;32m     16\u001b[0m     \u001b[0mconvection_term\u001b[0m \u001b[0;34m=\u001b[0m \u001b[0mcat_area_per_vol\u001b[0m\u001b[0;34m*\u001b[0m\u001b[0mh\u001b[0m\u001b[0;34m*\u001b[0m\u001b[0;34m(\u001b[0m\u001b[0msurf\u001b[0m\u001b[0;34m.\u001b[0m\u001b[0mT\u001b[0m \u001b[0;34m-\u001b[0m \u001b[0mgas\u001b[0m\u001b[0;34m.\u001b[0m\u001b[0mT\u001b[0m\u001b[0;34m)\u001b[0m \u001b[0;31m# W/m^3\u001b[0m\u001b[0;34m\u001b[0m\u001b[0;34m\u001b[0m\u001b[0m\n",
      "\u001b[0;31mKeyboardInterrupt\u001b[0m: "
     ]
    },
    {
     "data": {
      "image/png": "[encoded data removed]",
      "text/plain": [
       "<Figure size 432x288 with 1 Axes>"
      ]
     },
     "metadata": {
      "needs_background": "light"
     },
     "output_type": "display_data"
    }
   ],
   "source": [
    "# The plug flow reactor is represented by a linear chain of zero-dimensional\n",
    "# reactors. The gas at the inlet to the first one has the specified inlet\n",
    "# composition, and for all others the inlet composition is fixed at the\n",
    "# composition of the reactor immediately upstream. Since in a PFR model there\n",
    "# is no diffusion, the upstream reactors are not affected by any downstream\n",
    "# reactors, and therefore the problem may be solved by simply marching from\n",
    "# the first to last reactor, integrating each one to steady state.\n",
    "\n",
    "temperature_kelvin = 20 + 273\n",
    "\n",
    "gas.TPX = temperature_kelvin, pressure, feed_mole_fractions\n",
    "surf.coverages = 'X(1):1.0'\n",
    "\n",
    "TDY = gas.TDY\n",
    "cov = surf.coverages\n",
    "\n",
    "# create a new reactor\n",
    "gas.TDY = TDY\n",
    "r = ct.IdealGasReactor(gas, energy='on')\n",
    "surf.TP = 150 +273, pressure\n",
    "# print(surf.T)\n",
    "r.volume = r_vol\n",
    "\n",
    "# create a reservoir to represent the reactor immediately upstream. Note\n",
    "# that the gas object is set already to the state of the upstream reactor\n",
    "upstream = ct.Reservoir(gas, name='upstream')\n",
    "\n",
    "# create a reservoir for the reactor to exhaust into. The composition of\n",
    "# this reservoir is irrelevant.\n",
    "downstream = ct.Reservoir(gas, name='downstream')\n",
    "\n",
    "# Add the reacting surface to the reactor. The area is set to the desired\n",
    "# catalyst area in the reactor.\n",
    "rsurf = ct.ReactorSurface(surf, r, A=cat_area)\n",
    "\n",
    "\n",
    "#try resovoirs for surf phase?\n",
    "upstream_surf = ct.Reservoir(surf, name='upstream_surf')\n",
    "downstream_surf = ct.Reservoir(surf, name='downstream_surf')\n",
    "\n",
    "# The mass flow rate into the reactor will be fixed by using a\n",
    "# MassFlowController object.\n",
    "m = ct.MassFlowController(upstream, r, mdot=mass_flow_rate)\n",
    "\n",
    "# We need an outlet to the downstream reservoir. This will determine the\n",
    "# pressure in the reactor. The value of K will only affect the transient\n",
    "# pressure difference.\n",
    "v = ct.PressureController(r, downstream, master=m, K=1e-5)\n",
    "\n",
    "sim = ct.ReactorNet([r])\n",
    "sim.max_err_test_fails = 24\n",
    "\n",
    "# set relative and absolute tolerances on the simulation\n",
    "sim.rtol = 1e-11\n",
    "sim.atol = 1e-21\n",
    "\n",
    "sim.verbose = False\n",
    "\n",
    "# surf.set_multiplier(0.)  # turn off surface reactions\n",
    "# surf.set_multiplier(1e6)  # make surface reactions a million times faster\n",
    "\n",
    "r.volume = r_vol\n",
    "rsurf.area = cat_area\n",
    "\n",
    "integration_flux_data = defaultdict(float)\n",
    "\n",
    "outfile = open(output_filename,'w')\n",
    "writer = csv.writer(outfile)\n",
    "writer.writerow(['Distance (mm)', 'gas T (C)', 'surf T (C)', 'P (atm)'] +\n",
    "                gas.species_names + surf.species_names + ['gas_heat','surface_heat','alpha'])\n",
    "\n",
    "print('   distance(mm)  surf.T (C)    gas.T (C)    NH3(2)   NH2OH(3)     HNO3(4)    CH3OH(5)  alpha')\n",
    "\n",
    "violating_rxns = []\n",
    "violating_sticks = []\n",
    "violating_indeces = []\n",
    "\n",
    "dz = r_len\n",
    "\n",
    "for n in range(NReactors):\n",
    "    \"\"\"\n",
    "    if n == 0: # first coulpe of reactors are tiny\n",
    "        surf.set_multiplier(0.)\n",
    "        r.volume = r_vol * 1e-2\n",
    "        rsurf.area = cat_area * 1e-2\n",
    "    if n == 3:\n",
    "        r.volume = r_vol\n",
    "        rsurf.area = cat_area\"\"\"\n",
    "        \n",
    "#     if n == 0: # start off with inert packing, no surface reactions\n",
    "#         surf.set_multiplier(0.)\n",
    "# #         surf.TP = 473, pressure\n",
    "#     if n == int(0.001 * NReactors / length): # after 1 mm, catalyst\n",
    "#         surf.set_multiplier(1.)\n",
    "    \n",
    "#     fix_rates(surf, 1e22)\n",
    "#         save_flux_diagrams(gas, surf, suffix='1mm')\n",
    "#         show_flux_diagrams(gas, surf, suffix='1mm', embed=True)\n",
    "    \n",
    "    # Set the state of the reservoir to match that of the previous reactor\n",
    "    gas.TDY = TDY = r.thermo.TDY\n",
    "    \n",
    "    cov = surf.coverages\n",
    "    upstream.syncState()\n",
    "    upstream_surf.syncState()\n",
    "\n",
    "    z = n * r_len\n",
    "    Tp_o = surf.T\n",
    "#     T1f = gas.T\n",
    "    sim.reinitialize()\n",
    "\n",
    "    try:\n",
    "#       the default is residual_threshold = sim.rtol*10\n",
    "#         sim.advance_to_steady_state(residual_threshold = residual_threshold)\n",
    "#         dt = 1e-3 #sec\n",
    "        dt = dz/velocity #s\n",
    "        sim.advance(dt)#how much?\n",
    "#         sim.advance_to_steady_state()\n",
    "        surf.TP = Tp_o, pressure\n",
    "#         print(f\"AFTER sim.advance: surf: {surf.T}, gas: {gas.T}\")\n",
    "\n",
    "    except ct.CanteraError:\n",
    "        t = sim.time\n",
    "        sim.set_initial_time(0)\n",
    "        gas.TDY = TDY\n",
    "        surf.coverages = cov\n",
    "        r.syncState()\n",
    "        sim.reinitialize()\n",
    "        new_target_time = 0.01 * t\n",
    "        print(f\"Couldn't reach {t:.1g} s so going to try {new_target_time:.1g} s\")\n",
    "        #save_flux_diagrams(gas, surf)\n",
    "        #show_flux_diagrams(gas, surf, embed=True)\n",
    "        report_rates()\n",
    "        report_rate_constants()\n",
    "        try:\n",
    "            sim.advance(new_target_time)\n",
    "        except ct.CanteraError:\n",
    "            outfile.close()\n",
    "            raise()\n",
    "            #report_rate_constants()\n",
    "\n",
    "    if n == 0:\n",
    "        dTpdz = 0 #guess\n",
    "    ans = solve_ivp(temp_profile,[z,z+dz],[gas.T,surf.T,dTpdz],max_step=1e-7)\n",
    "    plt.plot(ans.t*100,ans.y[0])\n",
    "    plt.plot(ans.t*100,ans.y[1])\n",
    "    \n",
    "    Tf_o = ans.y[0,-1]\n",
    "    Tp_o = ans.y[1,-1]\n",
    "    dTpdz = ans.y[2,-1]\n",
    "\n",
    "    gas.TP = Tf_o, pressure\n",
    "    surf.TP = Tp_o , pressure\n",
    "    \n",
    "    dist = n * r_len * 1.0e3   # distance in mm\n",
    "        \n",
    "    gas_heat = np.dot(gas.net_rates_of_progress, gas.delta_enthalpy) # heat evolved by gas phase reaction\n",
    "    surface_heat = cat_area_per_vol * np.dot(surf.net_rates_of_progress, surf.delta_enthalpy) # heat evolved by surf phase reaction \n",
    "    alpha = surface_heat / (surface_heat + gas_heat) # fraction of heat release that is on surface.\n",
    "\n",
    "    \n",
    "    if not n % 10:\n",
    "        print('    {:10f}  {:7.1f}  {:7.1f}  {:10f}  {:10f}  {:10f} {:10f}  {:5.1e}'.format(dist, surf.T-273.15,gas.T-273.15, *gas['NH3(2)','NH2OH(3)','HNO3(4)','CH3OH(5)'].X, alpha ))\n",
    "#         print('{:7.1f}  {:7.1f}  {:7.1f}'.format(r.T-273.15,gas.T-273.15,surf.T-273.15))\n",
    "#         print('\\n',cov,'\\n')\n",
    "#       write the gas mole fractions and surface coverages vs. distance\n",
    "        writer.writerow([dist, gas.T - 273.15, surf.T - 273.15, r.thermo.P/ct.one_atm] +\n",
    "                    list(gas.X) + list(surf.coverages) + [gas_heat, surface_heat, alpha])\n",
    "#         print(f\"\\nheats {gas_heat:.0f}, {surface_heat:.0f}\")\n",
    "        \n",
    "#     rxns, values, indeces= stick_greater_than_1(surf.T)\n",
    "    \n",
    "#     violating_rxns.append(rxns)\n",
    "#     violating_sticks.append(values)\n",
    "#     violating_indeces.append(indeces)\n",
    "    \n",
    "outfile.close()\n",
    "print(\"Results saved to '{0}'\".format(output_filename))\n",
    "\n",
    "# with open(\"integration_flux_data.txt\",'w') as f:\n",
    "#     for (sp1,sp2),flux in integration_flux_data.items():\n",
    "#         f.write(\"{} {} {}\\n\".format(sp1,sp2,flux))\n",
    "            "
   ]
  },
  {
   "cell_type": "code",
   "execution_count": null,
   "metadata": {},
   "outputs": [],
   "source": [
    "np.dot(surf.net_rates_of_progress,surf.delta_enthalpy)\n",
    "np.max(surf.net_rates_of_progress)"
   ]
  },
  {
   "cell_type": "code",
   "execution_count": null,
   "metadata": {},
   "outputs": [],
   "source": [
    "dist\n",
    "outfile.close()"
   ]
  },
  {
   "cell_type": "code",
   "execution_count": null,
   "metadata": {},
   "outputs": [],
   "source": [
    "dz/velocity"
   ]
  },
  {
   "cell_type": "code",
   "execution_count": null,
   "metadata": {},
   "outputs": [],
   "source": [
    "report_rate_constants(10)"
   ]
  },
  {
   "cell_type": "code",
   "execution_count": null,
   "metadata": {},
   "outputs": [],
   "source": [
    "count = 0\n",
    "for i in range(len(violating_rxns)):\n",
    "    if violating_rxns[i] != []:\n",
    "        print(violating_rxns[i])\n",
    "    else:\n",
    "        count+=1\n",
    "count"
   ]
  },
  {
   "cell_type": "code",
   "execution_count": null,
   "metadata": {},
   "outputs": [],
   "source": [
    "#Initial testing for sticking coefficients at T of rxn\n",
    "violators = []\n",
    "for j in range(len(surf.reactions())):\n",
    "\n",
    "    for key in surf.reactions()[j].reactants:\n",
    "        if key in gas.species_names:\n",
    "            k = gas.species_names.index(key)\n",
    "            print(surf.reaction(j))\n",
    "            print('species index:',k,'\\nchemkin rxn num:',j+1)\n",
    "            T = surf.T\n",
    "            R = ct.gas_constant #J/kmol-K   \n",
    "            # surf.reactant_stoich_coeffs() array of stoich coefficients. [k,i] is elements k in rxn i\n",
    "            # surf.reactant_stoich_coeff(k,j) #stoich coeff of reactant k in rxn j\n",
    "            #m is the sum of the species on the surface's stoichiometric coefficients\n",
    "            m = sum(surf.reactant_stoich_coeffs()[:,j])-surf.reactant_stoich_coeff(k,j)\n",
    "            gamma = surf.site_density #kmol/m^2\n",
    "            W = gas.molecular_weights[k] #MW of gas kg/kmol\n",
    "            print('m = {0}, MW = {1} #kg/kmol, species {2}'.format(m,W,gas.species_names[k]))\n",
    "            stick = surf.forward_rate_constants[j]*gamma**m/(np.sqrt(R*T/(2*np.pi*gas.molecular_weights[k])))\n",
    "            violation = stick > 1\n",
    "            print('Violator?',violation,'. Stick:{:.2}'.format(stick), '\\n')\n",
    "            if violation:\n",
    "#                 print(surf.reaction(j))\n",
    "#                 print(k)\n",
    "#                 print('m = {0}, MW = {1} #kg/kmol, species {2}'.format(m,W,gas.species_names[k]))\n",
    "#                 print('cantera kf is {:.1e}'.format(surf.forward_rate_constants[j]))\n",
    "#         #     print(\"Calculated kf = cantera's kf?\", test == surf.forward_rate_constants[j])\n",
    "#                 print(violation, stick)\n",
    "#                 print('\\n')\n",
    "                violators.append(surf.reaction(j))\n",
    "    \n",
    "violators"
   ]
  },
  {
   "cell_type": "code",
   "execution_count": null,
   "metadata": {},
   "outputs": [],
   "source": [
    "gas.TDY = TDY\n",
    "r.syncState()\n",
    "r.thermo.T"
   ]
  },
  {
   "cell_type": "code",
   "execution_count": null,
   "metadata": {},
   "outputs": [],
   "source": [
    "dist\n",
    "outfile.close()"
   ]
  },
  {
   "cell_type": "code",
   "execution_count": null,
   "metadata": {},
   "outputs": [],
   "source": [
    "data = pd.read_csv(output_filename)\n",
    "data"
   ]
  },
  {
   "cell_type": "code",
   "execution_count": null,
   "metadata": {},
   "outputs": [],
   "source": [
    "def xlabels():\n",
    "    ticks = []\n",
    "    labels = []\n",
    "    mm = 0\n",
    "    while mm < length*1000:\n",
    "        ticks.append( int(NReactors * mm * 0.001 / length ) )\n",
    "        labels.append( str(mm) )\n",
    "        mm += 1\n",
    "    labels[-1] = labels[-1] + ' mm'\n",
    "    plt.xticks(ticks, labels)\n",
    "    plt.xlabel(\"Distance down reactor\")"
   ]
  },
  {
   "cell_type": "code",
   "execution_count": null,
   "metadata": {},
   "outputs": [],
   "source": [
    "# data[['gas T (C)','surf T (C)']].plot()\n",
    "\n",
    "plt.plot(data['Distance (mm)'],data['gas T (C)'],label='gas')\n",
    "plt.plot(data['Distance (mm)'],data['surf T (C)'],label='surface')\n",
    "plt.ylabel('T (C)')\n",
    "plt.xlabel('Distance (mm)')\n",
    "plt.legend()\n",
    "plt.savefig('temp_prof.png',dpi=200)"
   ]
  },
  {
   "cell_type": "code",
   "execution_count": null,
   "metadata": {},
   "outputs": [],
   "source": [
    "data[['NH2OH(3)', 'HNO3(4)', 'CH3OH(5)']].plot()\n",
    "plt.ylabel('Mole fraction')\n",
    "# xlabels()"
   ]
  },
  {
   "cell_type": "code",
   "execution_count": null,
   "metadata": {},
   "outputs": [],
   "source": [
    "list(data.columns)[:4]"
   ]
  },
  {
   "cell_type": "code",
   "execution_count": null,
   "metadata": {},
   "outputs": [],
   "source": [
    "data[['gas T (C)', 'alpha']].plot()\n",
    "xlabels()"
   ]
  },
  {
   "cell_type": "code",
   "execution_count": null,
   "metadata": {},
   "outputs": [],
   "source": [
    "ax1 = data['gas T (C)'].plot()\n",
    "plt.ylabel('Temperature (C)')\n",
    "xlabels()\n",
    "plt.legend()\n",
    "ax2 = ax1.twinx()\n",
    "data['alpha'].plot(ax=ax2, color='tab:orange')\n",
    "ax2.set_ylim(-2, 2)\n",
    "plt.legend()\n",
    "plt.ylabel('alpha')\n",
    "plt.tight_layout()\n",
    "plt.savefig('temperature-and-alpha.pdf')\n",
    "plt.show()"
   ]
  },
  {
   "cell_type": "code",
   "execution_count": null,
   "metadata": {},
   "outputs": [],
   "source": [
    "data.columns"
   ]
  },
  {
   "cell_type": "code",
   "execution_count": null,
   "metadata": {},
   "outputs": [],
   "source": [
    "data[['gas_heat','surface_heat']].plot()\n",
    "#plt.ylim(-1e7, 1e7)\n",
    "xlabels()\n",
    "plt.savefig('gas_and_surface_heat.pdf')\n",
    "plt.show()\n"
   ]
  },
  {
   "cell_type": "code",
   "execution_count": null,
   "metadata": {},
   "outputs": [],
   "source": [
    "ax1 = data[['gas_heat','surface_heat']].plot()\n",
    "plt.ylim(-1e9, 1e9)\n",
    "xlabels()\n",
    "plt.ylabel('Heat consumption rate (kJ/m3/s)')\n",
    "plt.legend(loc='upper left')\n",
    "ax2 = ax1.twinx()\n",
    "data['alpha'].plot(ax=ax2, style='k:', alpha=0.5)\n",
    "ax2.set_ylim(-10, 10)\n",
    "plt.legend(loc='lower right')\n",
    "plt.ylabel('alpha')\n",
    "plt.tight_layout()\n",
    "plt.savefig('heats-and-alpha.pdf')\n",
    "plt.show()"
   ]
  },
  {
   "cell_type": "code",
   "execution_count": null,
   "metadata": {},
   "outputs": [],
   "source": [
    "data[['T (C)']].plot()\n",
    "plt.ylabel('Temperature (C)')\n",
    "xlabels()\n",
    "plt.tight_layout()\n",
    "plt.savefig('temperature.pdf')\n",
    "plt.show()"
   ]
  },
  {
   "cell_type": "code",
   "execution_count": null,
   "metadata": {},
   "outputs": [],
   "source": [
    "data[['alpha']].plot(logy=True)\n",
    "xlabels()"
   ]
  },
  {
   "cell_type": "code",
   "execution_count": null,
   "metadata": {},
   "outputs": [],
   "source": [
    "data.plot(x='T (C)',y='alpha')\n"
   ]
  },
  {
   "cell_type": "code",
   "execution_count": null,
   "metadata": {},
   "outputs": [],
   "source": [
    "specs = list(data.columns)\n",
    "specs = specs[4:-3]\n",
    "excluded = [s for s in data.columns if s not in specs]\n",
    "gas_species = [s for s in specs if 'X' not in s ]\n",
    "adsorbates = [s for s in specs if 'X' in s]\n",
    "\n",
    "excluded, gas_species, adsorbates"
   ]
  },
  {
   "cell_type": "code",
   "execution_count": null,
   "metadata": {},
   "outputs": [],
   "source": [
    "data[gas_species[0:5]].plot(logy=True, logx=True)"
   ]
  },
  {
   "cell_type": "code",
   "execution_count": null,
   "metadata": {
    "scrolled": false
   },
   "outputs": [],
   "source": [
    "for i in range(0,len(gas_species),10):\n",
    "    data[gas_species[i:i+10]].plot(title='Gas mole fraction', logy=False)\n",
    "    xlabels()\n",
    "    plt.ylabel('Mole fraction')\n",
    "    plt.tight_layout()\n",
    "    plt.savefig(f'gas_mole_fractions_{i}.pdf')\n",
    "    plt.show()\n",
    "    \n"
   ]
  },
  {
   "cell_type": "code",
   "execution_count": null,
   "metadata": {
    "scrolled": false
   },
   "outputs": [],
   "source": [
    "for i in range(0,len(adsorbates),10):\n",
    "    data[adsorbates[i:i+10]].plot(title='Surface coverages', logy=False)\n",
    "    xlabels()\n",
    "    plt.xlim(0,len(data)+5)\n",
    "    plt.ylabel('Surface coverage')\n",
    "    plt.tight_layout()\n",
    "    plt.savefig(f'surface_coverages_{i}.pdf')\n",
    "    plt.show()"
   ]
  },
  {
   "cell_type": "code",
   "execution_count": null,
   "metadata": {},
   "outputs": [],
   "source": [
    "main_gas_species = data[gas_species].max().sort_values(ascending=False)[:10].keys()\n",
    "data[main_gas_species].plot.area()\n",
    "\n",
    "xlabels()\n",
    "plt.xlim(0,len(data)+5)\n",
    "plt.tight_layout()\n",
    "plt.savefig(f'gas_mole_fractions_top10.pdf')\n",
    "plt.show()"
   ]
  },
  {
   "cell_type": "code",
   "execution_count": null,
   "metadata": {},
   "outputs": [],
   "source": [
    "main_adsorbates = data[adsorbates].max().sort_values(ascending=False)[:10].keys()\n",
    "data[main_adsorbates].plot.area()\n",
    "\n",
    "xlabels()\n",
    "plt.xlim(190,len(data)+5)\n",
    "plt.tight_layout()\n",
    "plt.savefig(f'surface_coverages_top10.pdf')\n",
    "plt.show()\n",
    "    "
   ]
  },
  {
   "cell_type": "code",
   "execution_count": null,
   "metadata": {},
   "outputs": [],
   "source": [
    "for a in main_adsorbates:\n",
    "    s = surf.species(a)\n",
    "    print(s, s.composition)"
   ]
  },
  {
   "cell_type": "code",
   "execution_count": null,
   "metadata": {},
   "outputs": [],
   "source": [
    "surf.coverages"
   ]
  },
  {
   "cell_type": "code",
   "execution_count": null,
   "metadata": {},
   "outputs": [],
   "source": [
    "surf.set_multiplier(1)\n",
    "diagram = ct.ReactionPathDiagram(surf, 'X')\n",
    "diagram.get_data()"
   ]
  },
  {
   "cell_type": "code",
   "execution_count": null,
   "metadata": {
    "scrolled": false
   },
   "outputs": [],
   "source": [
    "\n"
   ]
  },
  {
   "cell_type": "code",
   "execution_count": null,
   "metadata": {},
   "outputs": [],
   "source": []
  },
  {
   "cell_type": "code",
   "execution_count": null,
   "metadata": {},
   "outputs": [],
   "source": []
  },
  {
   "cell_type": "code",
   "execution_count": null,
   "metadata": {},
   "outputs": [],
   "source": []
  },
  {
   "cell_type": "raw",
   "metadata": {},
   "source": [
    "def surf_dT(z,T_info):\n",
    "    '''\n",
    "    takes T_info = [surf.T, dT/dz]_inlet and returns [dT/dZ, d^2T/dz^2]_outlet\n",
    "    units: dT/dz [K/m], d^2T/dz^2 [K/m^2]\n",
    "    \n",
    "    working from Mitsubishi 'Issues by Dr Tsutiyama' pdf equations \n",
    "    and 8-PDEs shooting method example for 2nd deriv. \n",
    "    (using deltaT/deltaZ as 'guess' for 1st deriv initial value)\n",
    "    assuming 1D (bad assumption-- D>L)\n",
    "    '''\n",
    "#     cat_thermal_conductivity = 0.34#W/cm-K\n",
    "    \n",
    "    temp, dT1dz = T_info\n",
    "    \n",
    "    surf.TP = temp, pressure\n",
    "    \n",
    "    surface_heat = cat_area_per_vol*np.dot(surf.net_rates_of_progress, surf.delta_enthalpy) # heat evolved by surf phase reaction \n",
    "    #[m^2/m^3]*[kmol/m^2/s]*[J/kmol] = W/m^3\n",
    "    convection_term = cat_area_per_vol*h*(surf.T - gas.T) # W/m^3\n",
    "    #[m^2/m^3]*[W/m^2/K]*[K] = W/m^3\n",
    "    radiation_fluid = stefboltz*cat_area_per_vol*(eps_p*(surf.T)**4-eps_f*(gas.T)**4)\n",
    "    #[W/m^2-K^4]*[m^2/m^3]*[K^4] = W/m^3\n",
    "    radiation_wall = a_double_prime*stefboltz*eps_p*(surf.T)**4\n",
    "    #[m^2/m^3]*[W/m^2-K^4]*[K^4] = W/m^3\n",
    "    \n",
    "    dT2dz = (surface_heat - convection_term - radiation_fluid - radiation_wall)/(cat_thermal_conductivity*100*a_prime) #K/m^2\n",
    "#     print(gas.delta_enthalpy)\n",
    "#     print(surf.delta_enthalpy)\n",
    "#     print(surface_heat)\n",
    "#     print(convection_term)\n",
    "#     print(dT2dz)\n",
    "\n",
    "    return dT1dz, dT2dz #K/m, K/m^2\n",
    "surf.TP = 473, pressure\n",
    "dz = .01*cm\n",
    "ans = solve_ivp(surf_dT,[0,dz],[473,1/dz])\n",
    "plt.plot(ans.t,ans.y[0])\n",
    "# surf.TP = ans.y[0,-1], pressure\n",
    "\n",
    "# surf_dT(1,[473,1e-4])"
   ]
  },
  {
   "cell_type": "raw",
   "metadata": {},
   "source": [
    "def gas_dT(z,T):\n",
    "    '''\n",
    "    takes T_inlet of gas and returns dTdz of gas phase based on Mitsubishi paper, 1D\n",
    "    use solve_ivp\n",
    "    '''\n",
    "    gas.TP = T, pressure\n",
    "    gas_heat = np.dot(gas.net_rates_of_progress, gas.delta_enthalpy) # heat evolved by gas phase reaction\n",
    "    #[kmol/m^3/s]*[J/kmol] = W/m^3\n",
    "    convection_term = cat_area_per_vol*h*(surf.T - gas.T) # W/m^3\n",
    "    #[m^2/m^2]*[W/m^2-K]*[K] = W/m^3\n",
    "    radiation = cat_area_per_vol*stefboltz*(eps_prime*(surf.T)**4-eps_prime*(gas.T)**4)\n",
    "    \n",
    "    velocity = mass_flow_rate / (gas.density * cross_section_area)\n",
    "    \n",
    "    dTgdz = (gas_heat + convection_term + radiation)/(gas.density*gas.cp*velocity)\n",
    "    return dTgdz\n",
    "\n",
    "surf.TP = 473, pressure\n",
    "test = solve_ivp(gas_dT, [0,1e-5], [293])\n",
    "plt.plot(test.t,test.y[0])\n",
    "test.t"
   ]
  }
 ],
 "metadata": {
  "kernelspec": {
   "display_name": "Python 3",
   "language": "python",
   "name": "python3"
  },
  "language_info": {
   "codemirror_mode": {
    "name": "ipython",
    "version": 3
   },
   "file_extension": ".py",
   "mimetype": "text/x-python",
   "name": "python",
   "nbconvert_exporter": "python",
   "pygments_lexer": "ipython3",
   "version": "3.7.5"
  }
 },
 "nbformat": 4,
 "nbformat_minor": 2
}
