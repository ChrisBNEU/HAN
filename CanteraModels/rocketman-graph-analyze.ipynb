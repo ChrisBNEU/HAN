{
 "cells": [
  {
   "cell_type": "markdown",
   "metadata": {},
   "source": [
    "# Plug flow reactor simulation of Thruster\n",
    "\n",
    "![caption](Graphics/thruster-details.png)\n"
   ]
  },
  {
   "cell_type": "code",
   "execution_count": 1,
   "metadata": {},
   "outputs": [],
   "source": [
    "import cantera as ct\n",
    "import numpy as np\n",
    "\n",
    "from matplotlib import pyplot as plt\n",
    "import csv\n",
    "import os\n",
    "import itertools\n",
    "import pandas as pd"
   ]
  },
  {
   "cell_type": "code",
   "execution_count": 2,
   "metadata": {},
   "outputs": [],
   "source": [
    "from ipywidgets import interact, interactive, fixed, interact_manual\n",
    "import ipywidgets as widgets"
   ]
  },
  {
   "cell_type": "code",
   "execution_count": 3,
   "metadata": {},
   "outputs": [],
   "source": [
    "import json\n",
    "with open('rocketman-tol/settings.json') as fp:\n",
    "    settings = json.load(fp)\n",
    "temperature_c_options = list(sorted(set(np.array(settings)[:,0])))\n",
    "L_D_options= list(sorted(set(np.array(settings)[:,1])))\n",
    "injection_speed_options= list(sorted(set(np.array(settings)[:,2])))\n",
    "atol_options= list(sorted(set(np.array(settings)[:,3])))"
   ]
  },
  {
   "cell_type": "code",
   "execution_count": 4,
   "metadata": {},
   "outputs": [
    {
     "data": {
      "text/plain": [
       "([150.0, 200.0, 250.0],\n",
       " [0.430448223, 0.870942813, 1.300618238, 1.728748068],\n",
       " [0.2, 0.3, 0.4],\n",
       " [1e-23, 1e-21, 1e-18, 1e-16])"
      ]
     },
     "execution_count": 4,
     "metadata": {},
     "output_type": "execute_result"
    }
   ],
   "source": [
    "temperature_c_options, L_D_options, injection_speed_options,atol_options"
   ]
  },
  {
   "cell_type": "code",
   "execution_count": 5,
   "metadata": {},
   "outputs": [
    {
     "data": {
      "text/plain": [
       "('1e2', '1e+03')"
      ]
     },
     "execution_count": 5,
     "metadata": {},
     "output_type": "execute_result"
    }
   ],
   "source": [
    "f'1e{np.log10(100):g}', f'{1000:.0e}'"
   ]
  },
  {
   "cell_type": "code",
   "execution_count": 6,
   "metadata": {},
   "outputs": [
    {
     "name": "stdout",
     "output_type": "stream",
     "text": [
      "Processing SLURM array job.\n",
      "Using cantera input file /home/nadeau.ma/Code/HAN/CanteraModels/rocketman-tol/0/chem_annotated.cti\n",
      "Settings array is from 0 to 143 \n"
     ]
    }
   ],
   "source": [
    "\n",
    "print(\"Processing SLURM array job.\")\n",
    "\n",
    "rocket_array_dir = 'rocketman-tol'\n",
    "\n",
    "cti_file = os.path.join(rocket_array_dir,'0','chem_annotated.cti')\n",
    "\n",
    "print(f\"Using cantera input file {os.path.abspath(cti_file)}\")\n",
    "\n",
    "print(f\"Settings array is from 0 to {len(settings)-1} \")\n",
    "\n",
    "from collections import defaultdict\n",
    "setting_dict = dict()\n",
    "for i,(temp,ld,speed,atol) in enumerate(settings):\n",
    "    setting_dict[(temp,ld,speed,atol)] = i\n"
   ]
  },
  {
   "cell_type": "code",
   "execution_count": 7,
   "metadata": {
    "scrolled": true
   },
   "outputs": [
    {
     "name": "stdout",
     "output_type": "stream",
     "text": [
      "  0 150C L/D: 0.43 injection speed: 0.20 atol: 1.00e-16 ❌ FAIL!\n",
      "  1 150C L/D: 0.43 injection speed: 0.20 atol: 1.00e-18 ✅ OK   0.07 mm    179-283 ºC\n",
      "  2 150C L/D: 0.43 injection speed: 0.20 atol: 1.00e-21 ✅ OK   7.32 mm    166-2021 ºC\n",
      "  3 150C L/D: 0.43 injection speed: 0.20 atol: 1.00e-23 ✅ OK   0.70 mm    -125-162 ºC\n",
      "  4 150C L/D: 0.43 injection speed: 0.30 atol: 1.00e-16 ❌ FAIL!\n",
      "  5 150C L/D: 0.43 injection speed: 0.30 atol: 1.00e-18 ❌ FAIL!\n",
      "  6 150C L/D: 0.43 injection speed: 0.30 atol: 1.00e-21 ✅ OK   0.33 mm    -56-169 ºC\n",
      "  7 150C L/D: 0.43 injection speed: 0.30 atol: 1.00e-23 ✅ OK   7.75 mm    166-676 ºC\n",
      "  8 150C L/D: 0.43 injection speed: 0.40 atol: 1.00e-16 ✅ OK   0.05 mm    205-205 ºC\n",
      "  9 150C L/D: 0.43 injection speed: 0.40 atol: 1.00e-18 ✅ OK   0.00 mm    -163--163 ºC\n",
      " 10 150C L/D: 0.43 injection speed: 0.40 atol: 1.00e-21 ✅ OK   1.99 mm    164-277 ºC\n",
      " 11 150C L/D: 0.43 injection speed: 0.40 atol: 1.00e-23 ❌ FAIL!\n",
      " 12 150C L/D: 0.87 injection speed: 0.20 atol: 1.00e-16 ✅ OK   0.13 mm    194-293 ºC\n",
      " 13 150C L/D: 0.87 injection speed: 0.20 atol: 1.00e-18 ✅ OK   0.02 mm    203-676 ºC\n",
      " 14 150C L/D: 0.87 injection speed: 0.20 atol: 1.00e-21 ✅ OK   0.03 mm    167-723 ºC\n",
      " 15 150C L/D: 0.87 injection speed: 0.20 atol: 1.00e-23 ❌ FAIL!\n",
      " 16 150C L/D: 0.87 injection speed: 0.30 atol: 1.00e-16 ✅ OK   0.02 mm    206-206 ºC\n",
      " 17 150C L/D: 0.87 injection speed: 0.30 atol: 1.00e-18 ✅ OK   0.02 mm    214-676 ºC\n",
      " 18 150C L/D: 0.87 injection speed: 0.30 atol: 1.00e-21 ✅ OK   0.02 mm    166-719 ºC\n",
      " 19 150C L/D: 0.87 injection speed: 0.30 atol: 1.00e-23 ✅ OK   0.09 mm    165-759 ºC\n",
      " 20 150C L/D: 0.87 injection speed: 0.40 atol: 1.00e-16 ✅ OK   0.10 mm    209-209 ºC\n",
      " 21 150C L/D: 0.87 injection speed: 0.40 atol: 1.00e-18 ✅ OK   0.13 mm    201-201 ºC\n",
      " 22 150C L/D: 0.87 injection speed: 0.40 atol: 1.00e-21 ✅ OK   0.04 mm    163-927 ºC\n",
      " 23 150C L/D: 0.87 injection speed: 0.40 atol: 1.00e-23 ✅ OK  14.14 mm    166-2224 ºC\n",
      " 24 150C L/D: 1.30 injection speed: 0.20 atol: 1.00e-16 ✅ OK   0.02 mm    183-278 ºC\n",
      " 25 150C L/D: 1.30 injection speed: 0.20 atol: 1.00e-18 ✅ OK   0.20 mm    182-272 ºC\n",
      " 26 150C L/D: 1.30 injection speed: 0.20 atol: 1.00e-21 ✅ OK  23.41 mm    170-2369 ºC\n",
      " 27 150C L/D: 1.30 injection speed: 0.20 atol: 1.00e-23 ❌ FAIL!\n",
      " 28 150C L/D: 1.30 injection speed: 0.30 atol: 1.00e-16 ✅ OK   0.01 mm    177-258 ºC\n",
      " 29 150C L/D: 1.30 injection speed: 0.30 atol: 1.00e-18 ✅ OK   0.23 mm    185-270 ºC\n",
      " 30 150C L/D: 1.30 injection speed: 0.30 atol: 1.00e-21 ✅ OK   0.02 mm    169-718 ºC\n",
      " 31 150C L/D: 1.30 injection speed: 0.30 atol: 1.00e-23 ✅ OK   0.18 mm    165-798 ºC\n",
      " 32 150C L/D: 1.30 injection speed: 0.40 atol: 1.00e-16 ✅ OK   0.15 mm    193-270 ºC\n",
      " 33 150C L/D: 1.30 injection speed: 0.40 atol: 1.00e-18 ✅ OK   0.04 mm    188-676 ºC\n",
      " 34 150C L/D: 1.30 injection speed: 0.40 atol: 1.00e-21 ✅ OK   0.04 mm    165-718 ºC\n",
      " 35 150C L/D: 1.30 injection speed: 0.40 atol: 1.00e-23 ✅ OK  19.10 mm    165-2303 ºC\n",
      " 36 150C L/D: 1.73 injection speed: 0.20 atol: 1.00e-16 ✅ OK   0.14 mm    182-303 ºC\n",
      " 37 150C L/D: 1.73 injection speed: 0.20 atol: 1.00e-18 ✅ OK   0.17 mm    187-254 ºC\n",
      " 38 150C L/D: 1.73 injection speed: 0.20 atol: 1.00e-21 ✅ OK   0.20 mm    -126-172 ºC\n",
      " 39 150C L/D: 1.73 injection speed: 0.20 atol: 1.00e-23 ✅ OK   0.09 mm    162-774 ºC\n",
      " 40 150C L/D: 1.73 injection speed: 0.30 atol: 1.00e-16 ✅ OK   0.06 mm    198-271 ºC\n",
      " 41 150C L/D: 1.73 injection speed: 0.30 atol: 1.00e-18 ✅ OK   0.05 mm    213-677 ºC\n",
      " 42 150C L/D: 1.73 injection speed: 0.30 atol: 1.00e-21 ✅ OK   0.09 mm    164-717 ºC\n",
      " 43 150C L/D: 1.73 injection speed: 0.30 atol: 1.00e-23 ✅ OK   0.61 mm    -65-165 ºC\n",
      " 44 150C L/D: 1.73 injection speed: 0.40 atol: 1.00e-16 ✅ OK   0.05 mm    188-249 ºC\n",
      " 45 150C L/D: 1.73 injection speed: 0.40 atol: 1.00e-18 ✅ OK   0.20 mm    183-311 ºC\n",
      " 46 150C L/D: 1.73 injection speed: 0.40 atol: 1.00e-21 ✅ OK   0.05 mm    167-720 ºC\n",
      " 47 150C L/D: 1.73 injection speed: 0.40 atol: 1.00e-23 ✅ OK  31.12 mm    163-2371 ºC\n",
      " 48 200C L/D: 0.43 injection speed: 0.20 atol: 1.00e-16 ❌ FAIL!\n",
      " 49 200C L/D: 0.43 injection speed: 0.20 atol: 1.00e-18 ✅ OK   0.00 mm    -221--221 ºC\n",
      " 50 200C L/D: 0.43 injection speed: 0.20 atol: 1.00e-21 ✅ OK   0.01 mm    295-927 ºC\n",
      " 51 200C L/D: 0.43 injection speed: 0.20 atol: 1.00e-23 ✅ OK   7.75 mm    275-2134 ºC\n",
      " 52 200C L/D: 0.43 injection speed: 0.30 atol: 1.00e-16 ✅ OK   0.02 mm    264-264 ºC\n",
      " 53 200C L/D: 0.43 injection speed: 0.30 atol: 1.00e-18 ✅ OK   0.17 mm    302-302 ºC\n",
      " 54 200C L/D: 0.43 injection speed: 0.30 atol: 1.00e-21 ❌ FAIL!\n",
      " 55 200C L/D: 0.43 injection speed: 0.30 atol: 1.00e-23 ✅ OK   0.00 mm    299-299 ºC\n",
      " 56 200C L/D: 0.43 injection speed: 0.40 atol: 1.00e-16 ✅ OK   0.01 mm    255-255 ºC\n",
      " 57 200C L/D: 0.43 injection speed: 0.40 atol: 1.00e-18 ✅ OK   0.02 mm    300-676 ºC\n",
      " 58 200C L/D: 0.43 injection speed: 0.40 atol: 1.00e-21 ✅ OK   0.66 mm    298-1468 ºC\n",
      " 59 200C L/D: 0.43 injection speed: 0.40 atol: 1.00e-23 ✅ OK   0.00 mm    279-279 ºC\n",
      " 60 200C L/D: 0.87 injection speed: 0.20 atol: 1.00e-16 ✅ OK   0.02 mm    267-267 ºC\n",
      " 61 200C L/D: 0.87 injection speed: 0.20 atol: 1.00e-18 ✅ OK   0.11 mm    267-267 ºC\n",
      " 62 200C L/D: 0.87 injection speed: 0.20 atol: 1.00e-21 ✅ OK  15.68 mm    292-2331 ºC\n",
      " 63 200C L/D: 0.87 injection speed: 0.20 atol: 1.00e-23 ✅ OK  15.68 mm    294-2332 ºC\n",
      " 64 200C L/D: 0.87 injection speed: 0.30 atol: 1.00e-16 ✅ OK   0.01 mm    273-273 ºC\n",
      " 65 200C L/D: 0.87 injection speed: 0.30 atol: 1.00e-18 ✅ OK   0.02 mm    275-676 ºC\n",
      " 66 200C L/D: 0.87 injection speed: 0.30 atol: 1.00e-21 ✅ OK  15.68 mm    219-2149 ºC\n",
      " 67 200C L/D: 0.87 injection speed: 0.30 atol: 1.00e-23 ✅ OK   0.02 mm    288-927 ºC\n",
      " 68 200C L/D: 0.87 injection speed: 0.40 atol: 1.00e-16 ✅ OK   0.02 mm    279-279 ºC\n",
      " 69 200C L/D: 0.87 injection speed: 0.40 atol: 1.00e-18 ✅ OK   0.05 mm    -143--77 ºC\n",
      " 70 200C L/D: 0.87 injection speed: 0.40 atol: 1.00e-21 ✅ OK   0.02 mm    295-927 ºC\n",
      " 71 200C L/D: 0.87 injection speed: 0.40 atol: 1.00e-23 ✅ OK   0.00 mm    -210--210 ºC\n",
      " 72 200C L/D: 1.30 injection speed: 0.20 atol: 1.00e-16 ✅ OK   0.01 mm    275-275 ºC\n",
      " 73 200C L/D: 1.30 injection speed: 0.20 atol: 1.00e-18 ✅ OK   0.04 mm    245-679 ºC\n",
      " 74 200C L/D: 1.30 injection speed: 0.20 atol: 1.00e-21 ✅ OK  18.10 mm    267-2274 ºC\n",
      " 75 200C L/D: 1.30 injection speed: 0.20 atol: 1.00e-23 ✅ OK  16.08 mm    219-2315 ºC\n",
      " 76 200C L/D: 1.30 injection speed: 0.30 atol: 1.00e-16 ✅ OK   0.01 mm    279-279 ºC\n",
      " 77 200C L/D: 1.30 injection speed: 0.30 atol: 1.00e-18 ✅ OK   0.02 mm    300-676 ºC\n",
      " 78 200C L/D: 1.30 injection speed: 0.30 atol: 1.00e-21 ✅ OK   0.02 mm    221-676 ºC\n",
      " 79 200C L/D: 1.30 injection speed: 0.30 atol: 1.00e-23 ❌ FAIL!\n",
      " 80 200C L/D: 1.30 injection speed: 0.40 atol: 1.00e-16 ✅ OK   0.05 mm    261-261 ºC\n",
      " 81 200C L/D: 1.30 injection speed: 0.40 atol: 1.00e-18 ✅ OK   0.00 mm    -214--214 ºC\n",
      " 82 200C L/D: 1.30 injection speed: 0.40 atol: 1.00e-21 ✅ OK   0.04 mm    295-719 ºC\n",
      " 83 200C L/D: 1.30 injection speed: 0.40 atol: 1.00e-23 ✅ OK  23.41 mm    239-1856 ºC\n",
      " 84 200C L/D: 1.73 injection speed: 0.20 atol: 1.00e-16 ✅ OK   0.02 mm    269-269 ºC\n",
      " 85 200C L/D: 1.73 injection speed: 0.20 atol: 1.00e-18 ✅ OK   0.03 mm    290-677 ºC\n",
      " 86 200C L/D: 1.73 injection speed: 0.20 atol: 1.00e-21 ✅ OK  31.12 mm    296-2401 ºC\n",
      " 87 200C L/D: 1.73 injection speed: 0.20 atol: 1.00e-23 ❌ FAIL!\n",
      " 88 200C L/D: 1.73 injection speed: 0.30 atol: 1.00e-16 ✅ OK   0.09 mm    -23-43 ºC\n",
      " 89 200C L/D: 1.73 injection speed: 0.30 atol: 1.00e-18 ✅ OK   0.05 mm    277-676 ºC\n",
      " 90 200C L/D: 1.73 injection speed: 0.30 atol: 1.00e-21 ✅ OK  31.12 mm    271-2297 ºC\n",
      " 91 200C L/D: 1.73 injection speed: 0.30 atol: 1.00e-23 ✅ OK   0.12 mm    297-779 ºC\n",
      " 92 200C L/D: 1.73 injection speed: 0.40 atol: 1.00e-16 ✅ OK   0.02 mm    213-213 ºC\n",
      " 93 200C L/D: 1.73 injection speed: 0.40 atol: 1.00e-18 ✅ OK   0.03 mm    301-676 ºC\n",
      " 94 200C L/D: 1.73 injection speed: 0.40 atol: 1.00e-21 ✅ OK   0.03 mm    299-718 ºC\n",
      " 95 200C L/D: 1.73 injection speed: 0.40 atol: 1.00e-23 ✅ OK  31.12 mm    295-2189 ºC\n",
      " 96 250C L/D: 0.43 injection speed: 0.20 atol: 1.00e-16 ✅ OK   0.07 mm    361-361 ºC\n",
      " 97 250C L/D: 0.43 injection speed: 0.20 atol: 1.00e-18 ✅ OK   0.01 mm    385-676 ºC\n",
      " 98 250C L/D: 0.43 injection speed: 0.20 atol: 1.00e-21 ✅ OK   0.92 mm    -156--56 ºC\n",
      " 99 250C L/D: 0.43 injection speed: 0.20 atol: 1.00e-23 ✅ OK   0.04 mm    383-927 ºC\n",
      "100 250C L/D: 0.43 injection speed: 0.30 atol: 1.00e-16 ✅ OK   0.02 mm    322-322 ºC\n",
      "101 250C L/D: 0.43 injection speed: 0.30 atol: 1.00e-18 ✅ OK   0.02 mm    378-676 ºC\n",
      "102 250C L/D: 0.43 injection speed: 0.30 atol: 1.00e-21 ✅ OK   0.05 mm    387-678 ºC\n",
      "103 250C L/D: 0.43 injection speed: 0.30 atol: 1.00e-23 ✅ OK   0.11 mm    317-317 ºC\n",
      "104 250C L/D: 0.43 injection speed: 0.40 atol: 1.00e-16 ✅ OK   0.10 mm    371-371 ºC\n",
      "105 250C L/D: 0.43 injection speed: 0.40 atol: 1.00e-18 ❌ FAIL!\n",
      "106 250C L/D: 0.43 injection speed: 0.40 atol: 1.00e-21 ✅ OK   0.12 mm    395-692 ºC\n"
     ]
    },
    {
     "name": "stdout",
     "output_type": "stream",
     "text": [
      "107 250C L/D: 0.43 injection speed: 0.40 atol: 1.00e-23 ✅ OK   0.29 mm    392-755 ºC\n",
      "108 250C L/D: 0.87 injection speed: 0.20 atol: 1.00e-16 ✅ OK   0.01 mm    291-291 ºC\n",
      "109 250C L/D: 0.87 injection speed: 0.20 atol: 1.00e-18 ✅ OK   0.06 mm    362-362 ºC\n",
      "110 250C L/D: 0.87 injection speed: 0.20 atol: 1.00e-21 ✅ OK  15.68 mm    348-2208 ºC\n",
      "111 250C L/D: 0.87 injection speed: 0.20 atol: 1.00e-23 ✅ OK   4.04 mm    -95--80 ºC\n",
      "112 250C L/D: 0.87 injection speed: 0.30 atol: 1.00e-16 ✅ OK   0.05 mm    383-383 ºC\n",
      "113 250C L/D: 0.87 injection speed: 0.30 atol: 1.00e-18 ✅ OK   0.04 mm    349-349 ºC\n",
      "114 250C L/D: 0.87 injection speed: 0.30 atol: 1.00e-21 ✅ OK  15.68 mm    383-2253 ºC\n",
      "115 250C L/D: 0.87 injection speed: 0.30 atol: 1.00e-23 ❌ FAIL!\n",
      "116 250C L/D: 0.87 injection speed: 0.40 atol: 1.00e-16 ✅ OK   0.07 mm    364-364 ºC\n",
      "117 250C L/D: 0.87 injection speed: 0.40 atol: 1.00e-18 ✅ OK   0.00 mm    -205--205 ºC\n",
      "118 250C L/D: 0.87 injection speed: 0.40 atol: 1.00e-21 ✅ OK  15.68 mm    385-2129 ºC\n",
      "119 250C L/D: 0.87 injection speed: 0.40 atol: 1.00e-23 ✅ OK  15.68 mm    383-2019 ºC\n",
      "120 250C L/D: 1.30 injection speed: 0.20 atol: 1.00e-16 ✅ OK   0.09 mm    327-327 ºC\n",
      "121 250C L/D: 1.30 injection speed: 0.20 atol: 1.00e-18 ✅ OK   0.05 mm    365-365 ºC\n",
      "122 250C L/D: 1.30 injection speed: 0.20 atol: 1.00e-21 ✅ OK  23.41 mm    366-2363 ºC\n",
      "123 250C L/D: 1.30 injection speed: 0.20 atol: 1.00e-23 ✅ OK  23.41 mm    382-2365 ºC\n",
      "124 250C L/D: 1.30 injection speed: 0.30 atol: 1.00e-16 ✅ OK   0.05 mm    351-351 ºC\n",
      "125 250C L/D: 1.30 injection speed: 0.30 atol: 1.00e-18 ✅ OK   0.02 mm    371-676 ºC\n",
      "126 250C L/D: 1.30 injection speed: 0.30 atol: 1.00e-21 ✅ OK  23.41 mm    382-2367 ºC\n",
      "127 250C L/D: 1.30 injection speed: 0.30 atol: 1.00e-23 ✅ OK   0.12 mm    382-781 ºC\n",
      "128 250C L/D: 1.30 injection speed: 0.40 atol: 1.00e-16 ✅ OK   0.06 mm    362-362 ºC\n",
      "129 250C L/D: 1.30 injection speed: 0.40 atol: 1.00e-18 ❌ FAIL!\n",
      "130 250C L/D: 1.30 injection speed: 0.40 atol: 1.00e-21 ✅ OK   0.02 mm    386-997 ºC\n",
      "131 250C L/D: 1.30 injection speed: 0.40 atol: 1.00e-23 ✅ OK   0.00 mm    -110--110 ºC\n",
      "132 250C L/D: 1.73 injection speed: 0.20 atol: 1.00e-16 ✅ OK   0.06 mm    352-352 ºC\n",
      "133 250C L/D: 1.73 injection speed: 0.20 atol: 1.00e-18 ✅ OK   0.03 mm    387-387 ºC\n",
      "134 250C L/D: 1.73 injection speed: 0.20 atol: 1.00e-21 ✅ OK  31.12 mm    382-2423 ºC\n",
      "135 250C L/D: 1.73 injection speed: 0.20 atol: 1.00e-23 ✅ OK  31.12 mm    379-2426 ºC\n",
      "136 250C L/D: 1.73 injection speed: 0.30 atol: 1.00e-16 ✅ OK   0.00 mm    301-301 ºC\n",
      "137 250C L/D: 1.73 injection speed: 0.30 atol: 1.00e-18 ✅ OK   0.06 mm    376-376 ºC\n",
      "138 250C L/D: 1.73 injection speed: 0.30 atol: 1.00e-21 ✅ OK   5.79 mm    -141--66 ºC\n",
      "139 250C L/D: 1.73 injection speed: 0.30 atol: 1.00e-23 ✅ OK  31.12 mm    -96--87 ºC\n",
      "140 250C L/D: 1.73 injection speed: 0.40 atol: 1.00e-16 ✅ OK   0.09 mm    363-363 ºC\n",
      "141 250C L/D: 1.73 injection speed: 0.40 atol: 1.00e-18 ✅ OK   0.00 mm    -219--219 ºC\n",
      "142 250C L/D: 1.73 injection speed: 0.40 atol: 1.00e-21 ✅ OK  31.12 mm    346-2357 ºC\n",
      "143 250C L/D: 1.73 injection speed: 0.40 atol: 1.00e-23 ✅ OK   0.40 mm    -148--76 ºC\n"
     ]
    }
   ],
   "source": [
    "data_dict = dict()\n",
    "for i,(temp,ld,speed,atol) in enumerate(settings):\n",
    "    output_filename = os.path.join('rocketman-tol',str(i),'surf_pfr_output_'+str(i)+'.csv')\n",
    "    print(f\"{i:3d} {temp:.0f}C L/D: {ld:.2f} injection speed: {speed:.2f} atol: {atol:.2e}\", end=' ')\n",
    "    try:\n",
    "        data = pd.read_csv(output_filename)\n",
    "        print(f\"✅ OK  {data['Distance (mm)'].max():5.2f} mm    {data['T (C)'].min():.0f}-{data['T (C)'].max():.0f} ºC\")\n",
    "    except:\n",
    "        print(\"❌ FAIL!\")\n",
    "        data = None\n",
    "    data_dict[(temp,ld,speed,atol)] = data"
   ]
  },
  {
   "cell_type": "code",
   "execution_count": 8,
   "metadata": {},
   "outputs": [],
   "source": [
    "def best_atol(t,ld,speed):\n",
    "    '''\n",
    "    returns the atol for a temp, L/D,speed that resulted in the simulation reaching the farthest\n",
    "    '''\n",
    "    max_l = 0\n",
    "    for atol in atol_options:\n",
    "        try:\n",
    "            l = data_dict[(t,ld,speed,atol)]['Distance (mm)'].max()\n",
    "            if l> max_l:\n",
    "                max_l = l\n",
    "                best_atol = atol\n",
    "        except TypeError:\n",
    "            continue\n",
    "            \n",
    "    print(f\"best atol for T={temp}C,L/D={ld:.2f},Injection Speed={speed:.2f}g/s is {best_atol}\")\n",
    "    percent = max_l/(ld*18)\n",
    "    print(f\"Simulation completed {percent:.0%}\")\n",
    "    return best_atol\n",
    "# best_atol(temperature_c_options[0],L_D_options[0],injection_speed_options[0])"
   ]
  },
  {
   "cell_type": "code",
   "execution_count": 9,
   "metadata": {},
   "outputs": [],
   "source": [
    "def conversions(temperature_c, ld, speed, atol):\n",
    "\n",
    "    setting_tuple = (temperature_c, ld, speed, atol)\n",
    "    data = data_dict[setting_tuple]\n",
    "\n",
    "    initial = data['NH2OH(3)'].iloc[0] + data['HNO3(4)'].iloc[0]\n",
    "    final = data['NH2OH(3)'].iloc[-1] + data['HNO3(4)'].iloc[-1]\n",
    "\n",
    "    han = (initial-final)/initial\n",
    "    \n",
    "    methanol = (data['CH3OH(5)'].iloc[0]-data['CH3OH(5)'].iloc[-1])/data['CH3OH(5)'].iloc[0]\n",
    "    return han, methanol"
   ]
  },
  {
   "cell_type": "code",
   "execution_count": 10,
   "metadata": {},
   "outputs": [
    {
     "data": {
      "text/plain": [
       "2362.8858227500336"
      ]
     },
     "execution_count": 10,
     "metadata": {},
     "output_type": "execute_result"
    }
   ],
   "source": [
    "def temp_rise(temperature_c, ld, speed, atol):\n",
    "    \n",
    "    setting_tuple = (temperature_c, ld, speed, atol)\n",
    "    data = data_dict[setting_tuple]\n",
    "    \n",
    "#     rise = data['T (C)'].max() - data['T (C)'].min()\n",
    "    rise = data['T (C)'].max()\n",
    "#     print(data['T (C)'].max(),data['T (C)'].min())\n",
    "    return rise #C\n",
    "\n",
    "peak = temp_rise(250,L_D_options[2],.2,1e-21)\n",
    "peak"
   ]
  },
  {
   "cell_type": "code",
   "execution_count": 11,
   "metadata": {},
   "outputs": [],
   "source": [
    "def final_comps(temperature_c, ld, speed, atol):\n",
    "\n",
    "    setting_tuple = (temperature_c, ld, speed, atol)\n",
    "#     print(f\"Simulation number {setting_dict[setting_tuple]}\")\n",
    "    data = data_dict[setting_tuple]\n",
    "\n",
    "    species_to_plot = ['NO2(9)',\n",
    " 'NO(10)',\n",
    " 'H2(13)',\n",
    " 'O2(8)',\n",
    " 'N2(7)',\n",
    " 'CH4(15)',\n",
    " 'CO(14)', \n",
    " 'CO2(12)',                      \n",
    " 'N2O(11)',\n",
    "        ]\n",
    "    \n",
    "    mol_fracs = data[species_to_plot].tail(1)\n",
    "     \n",
    "    return mol_fracs"
   ]
  },
  {
   "cell_type": "markdown",
   "metadata": {},
   "source": [
    "# Relevant Information 1: HAN decomposition rates"
   ]
  },
  {
   "cell_type": "code",
   "execution_count": 12,
   "metadata": {},
   "outputs": [
    {
     "name": "stdout",
     "output_type": "stream",
     "text": [
      "best atol for T=150.0C,L/D=0.43,Injection Speed=0.20g/s is 1e-21\n",
      "Simulation completed 94%\n",
      "best atol for T=150.0C,L/D=0.87,Injection Speed=0.20g/s is 1e-16\n",
      "Simulation completed 1%\n",
      "best atol for T=150.0C,L/D=1.30,Injection Speed=0.20g/s is 1e-21\n",
      "Simulation completed 100%\n",
      "best atol for T=150.0C,L/D=1.73,Injection Speed=0.20g/s is 1e-21\n",
      "Simulation completed 1%\n",
      "best atol for T=150.0C,L/D=0.43,Injection Speed=0.30g/s is 1e-23\n",
      "Simulation completed 100%\n",
      "best atol for T=150.0C,L/D=0.87,Injection Speed=0.30g/s is 1e-23\n",
      "Simulation completed 1%\n",
      "best atol for T=150.0C,L/D=1.30,Injection Speed=0.30g/s is 1e-18\n",
      "Simulation completed 1%\n",
      "best atol for T=150.0C,L/D=1.73,Injection Speed=0.30g/s is 1e-23\n",
      "Simulation completed 2%\n",
      "best atol for T=150.0C,L/D=0.43,Injection Speed=0.40g/s is 1e-21\n",
      "Simulation completed 26%\n",
      "best atol for T=150.0C,L/D=0.87,Injection Speed=0.40g/s is 1e-23\n",
      "Simulation completed 90%\n",
      "best atol for T=150.0C,L/D=1.30,Injection Speed=0.40g/s is 1e-23\n",
      "Simulation completed 82%\n",
      "best atol for T=150.0C,L/D=1.73,Injection Speed=0.40g/s is 1e-23\n",
      "Simulation completed 100%\n"
     ]
    },
    {
     "data": {
      "image/png": "[encoded data removed]",
      "text/plain": [
       "<Figure size 432x288 with 1 Axes>"
      ]
     },
     "metadata": {
      "needs_background": "light"
     },
     "output_type": "display_data"
    },
    {
     "name": "stdout",
     "output_type": "stream",
     "text": [
      "best atol for T=200.0C,L/D=0.43,Injection Speed=0.20g/s is 1e-23\n",
      "Simulation completed 100%\n",
      "best atol for T=200.0C,L/D=0.87,Injection Speed=0.20g/s is 1e-23\n",
      "Simulation completed 100%\n",
      "best atol for T=200.0C,L/D=1.30,Injection Speed=0.20g/s is 1e-21\n",
      "Simulation completed 77%\n",
      "best atol for T=200.0C,L/D=1.73,Injection Speed=0.20g/s is 1e-21\n",
      "Simulation completed 100%\n",
      "best atol for T=200.0C,L/D=0.43,Injection Speed=0.30g/s is 1e-18\n",
      "Simulation completed 2%\n",
      "best atol for T=200.0C,L/D=0.87,Injection Speed=0.30g/s is 1e-21\n",
      "Simulation completed 100%\n",
      "best atol for T=200.0C,L/D=1.30,Injection Speed=0.30g/s is 1e-21\n",
      "Simulation completed 0%\n",
      "best atol for T=200.0C,L/D=1.73,Injection Speed=0.30g/s is 1e-21\n",
      "Simulation completed 100%\n",
      "best atol for T=200.0C,L/D=0.43,Injection Speed=0.40g/s is 1e-21\n",
      "Simulation completed 8%\n",
      "best atol for T=200.0C,L/D=0.87,Injection Speed=0.40g/s is 1e-18\n",
      "Simulation completed 0%\n",
      "best atol for T=200.0C,L/D=1.30,Injection Speed=0.40g/s is 1e-23\n",
      "Simulation completed 100%\n",
      "best atol for T=200.0C,L/D=1.73,Injection Speed=0.40g/s is 1e-23\n",
      "Simulation completed 100%\n"
     ]
    },
    {
     "data": {
      "image/png": "[encoded data removed]",
      "text/plain": [
       "<Figure size 432x288 with 1 Axes>"
      ]
     },
     "metadata": {
      "needs_background": "light"
     },
     "output_type": "display_data"
    },
    {
     "name": "stdout",
     "output_type": "stream",
     "text": [
      "best atol for T=250.0C,L/D=0.43,Injection Speed=0.20g/s is 1e-21\n",
      "Simulation completed 12%\n",
      "best atol for T=250.0C,L/D=0.87,Injection Speed=0.20g/s is 1e-21\n",
      "Simulation completed 100%\n",
      "best atol for T=250.0C,L/D=1.30,Injection Speed=0.20g/s is 1e-23\n",
      "Simulation completed 100%\n",
      "best atol for T=250.0C,L/D=1.73,Injection Speed=0.20g/s is 1e-23\n",
      "Simulation completed 100%\n",
      "best atol for T=250.0C,L/D=0.43,Injection Speed=0.30g/s is 1e-23\n",
      "Simulation completed 1%\n",
      "best atol for T=250.0C,L/D=0.87,Injection Speed=0.30g/s is 1e-21\n",
      "Simulation completed 100%\n",
      "best atol for T=250.0C,L/D=1.30,Injection Speed=0.30g/s is 1e-21\n",
      "Simulation completed 100%\n",
      "best atol for T=250.0C,L/D=1.73,Injection Speed=0.30g/s is 1e-23\n",
      "Simulation completed 100%\n",
      "best atol for T=250.0C,L/D=0.43,Injection Speed=0.40g/s is 1e-23\n",
      "Simulation completed 4%\n",
      "best atol for T=250.0C,L/D=0.87,Injection Speed=0.40g/s is 1e-23\n",
      "Simulation completed 100%\n",
      "best atol for T=250.0C,L/D=1.30,Injection Speed=0.40g/s is 1e-16\n",
      "Simulation completed 0%\n",
      "best atol for T=250.0C,L/D=1.73,Injection Speed=0.40g/s is 1e-21\n",
      "Simulation completed 100%\n"
     ]
    },
    {
     "data": {
      "image/png": "[encoded data removed]",
      "text/plain": [
       "<Figure size 432x288 with 1 Axes>"
      ]
     },
     "metadata": {
      "needs_background": "light"
     },
     "output_type": "display_data"
    }
   ],
   "source": [
    "#make , for each T, 3 arrays of ratios (one for each injection speed)\n",
    "ratios = []\n",
    "for temp in temperature_c_options:\n",
    "    fig=plt.figure() #new fig. for each initial temp\n",
    "    ax=fig.add_subplot()\n",
    "    for speed in injection_speed_options:    \n",
    "        for ld in L_D_options:\n",
    "            atol = best_atol(temp,ld,speed)\n",
    "            ratio = conversions(temp,ld,speed,atol)[0]*100 #%\n",
    "            ratios.append(ratio) #array of conversions for one injection speed at each ld\n",
    "        this_label = f\"{speed} g/s\"\n",
    "        ax.scatter(L_D_options, ratios,label=this_label) #plot the scatter on same fig\n",
    "        ratios = []\n",
    "        \n",
    "    ax.set_xlabel('L/D')\n",
    "    ax.set_ylabel('Decomposition ratio of HAN [%]')\n",
    "    plt.xlim(0, 2)\n",
    "    plt.xticks(ticks=[0,.5,1,1.5,2])\n",
    "    plt.yticks(ticks=np.linspace(0,100,11))\n",
    "    plt.grid()\n",
    "    ax.set_title(f\"Initial Temperature = {temp:.0f}C\")\n",
    "    plt.legend()\n",
    "    filename= f\"./report_graphs/1/han_temp_{temp:.0f}\"\n",
    "    plt.savefig(filename,dpi=200,bbox_inches = \"tight\")\n",
    "    plt.show()"
   ]
  },
  {
   "cell_type": "markdown",
   "metadata": {},
   "source": [
    "# Relevant Information 2: Methanol combustion ratios"
   ]
  },
  {
   "cell_type": "code",
   "execution_count": 13,
   "metadata": {},
   "outputs": [
    {
     "name": "stdout",
     "output_type": "stream",
     "text": [
      "best atol for T=150.0C,L/D=0.43,Injection Speed=0.20g/s is 1e-21\n",
      "Simulation completed 94%\n",
      "best atol for T=150.0C,L/D=0.87,Injection Speed=0.20g/s is 1e-16\n",
      "Simulation completed 1%\n",
      "best atol for T=150.0C,L/D=1.30,Injection Speed=0.20g/s is 1e-21\n",
      "Simulation completed 100%\n",
      "best atol for T=150.0C,L/D=1.73,Injection Speed=0.20g/s is 1e-21\n",
      "Simulation completed 1%\n",
      "best atol for T=150.0C,L/D=0.43,Injection Speed=0.30g/s is 1e-23\n",
      "Simulation completed 100%\n",
      "best atol for T=150.0C,L/D=0.87,Injection Speed=0.30g/s is 1e-23\n",
      "Simulation completed 1%\n",
      "best atol for T=150.0C,L/D=1.30,Injection Speed=0.30g/s is 1e-18\n",
      "Simulation completed 1%\n",
      "best atol for T=150.0C,L/D=1.73,Injection Speed=0.30g/s is 1e-23\n",
      "Simulation completed 2%\n",
      "best atol for T=150.0C,L/D=0.43,Injection Speed=0.40g/s is 1e-21\n",
      "Simulation completed 26%\n",
      "best atol for T=150.0C,L/D=0.87,Injection Speed=0.40g/s is 1e-23\n",
      "Simulation completed 90%\n",
      "best atol for T=150.0C,L/D=1.30,Injection Speed=0.40g/s is 1e-23\n",
      "Simulation completed 82%\n",
      "best atol for T=150.0C,L/D=1.73,Injection Speed=0.40g/s is 1e-23\n",
      "Simulation completed 100%\n"
     ]
    },
    {
     "data": {
      "image/png": "[encoded data removed]",
      "text/plain": [
       "<Figure size 432x288 with 1 Axes>"
      ]
     },
     "metadata": {
      "needs_background": "light"
     },
     "output_type": "display_data"
    },
    {
     "name": "stdout",
     "output_type": "stream",
     "text": [
      "best atol for T=200.0C,L/D=0.43,Injection Speed=0.20g/s is 1e-23\n",
      "Simulation completed 100%\n",
      "best atol for T=200.0C,L/D=0.87,Injection Speed=0.20g/s is 1e-23\n",
      "Simulation completed 100%\n",
      "best atol for T=200.0C,L/D=1.30,Injection Speed=0.20g/s is 1e-21\n",
      "Simulation completed 77%\n",
      "best atol for T=200.0C,L/D=1.73,Injection Speed=0.20g/s is 1e-21\n",
      "Simulation completed 100%\n",
      "best atol for T=200.0C,L/D=0.43,Injection Speed=0.30g/s is 1e-18\n",
      "Simulation completed 2%\n",
      "best atol for T=200.0C,L/D=0.87,Injection Speed=0.30g/s is 1e-21\n",
      "Simulation completed 100%\n",
      "best atol for T=200.0C,L/D=1.30,Injection Speed=0.30g/s is 1e-21\n",
      "Simulation completed 0%\n",
      "best atol for T=200.0C,L/D=1.73,Injection Speed=0.30g/s is 1e-21\n",
      "Simulation completed 100%\n",
      "best atol for T=200.0C,L/D=0.43,Injection Speed=0.40g/s is 1e-21\n",
      "Simulation completed 8%\n",
      "best atol for T=200.0C,L/D=0.87,Injection Speed=0.40g/s is 1e-18\n",
      "Simulation completed 0%\n",
      "best atol for T=200.0C,L/D=1.30,Injection Speed=0.40g/s is 1e-23\n",
      "Simulation completed 100%\n",
      "best atol for T=200.0C,L/D=1.73,Injection Speed=0.40g/s is 1e-23\n",
      "Simulation completed 100%\n"
     ]
    },
    {
     "data": {
      "image/png": "[encoded data removed]",
      "text/plain": [
       "<Figure size 432x288 with 1 Axes>"
      ]
     },
     "metadata": {
      "needs_background": "light"
     },
     "output_type": "display_data"
    },
    {
     "name": "stdout",
     "output_type": "stream",
     "text": [
      "best atol for T=250.0C,L/D=0.43,Injection Speed=0.20g/s is 1e-21\n",
      "Simulation completed 12%\n",
      "best atol for T=250.0C,L/D=0.87,Injection Speed=0.20g/s is 1e-21\n",
      "Simulation completed 100%\n",
      "best atol for T=250.0C,L/D=1.30,Injection Speed=0.20g/s is 1e-23\n",
      "Simulation completed 100%\n",
      "best atol for T=250.0C,L/D=1.73,Injection Speed=0.20g/s is 1e-23\n",
      "Simulation completed 100%\n",
      "best atol for T=250.0C,L/D=0.43,Injection Speed=0.30g/s is 1e-23\n",
      "Simulation completed 1%\n",
      "best atol for T=250.0C,L/D=0.87,Injection Speed=0.30g/s is 1e-21\n",
      "Simulation completed 100%\n",
      "best atol for T=250.0C,L/D=1.30,Injection Speed=0.30g/s is 1e-21\n",
      "Simulation completed 100%\n",
      "best atol for T=250.0C,L/D=1.73,Injection Speed=0.30g/s is 1e-23\n",
      "Simulation completed 100%\n",
      "best atol for T=250.0C,L/D=0.43,Injection Speed=0.40g/s is 1e-23\n",
      "Simulation completed 4%\n",
      "best atol for T=250.0C,L/D=0.87,Injection Speed=0.40g/s is 1e-23\n",
      "Simulation completed 100%\n",
      "best atol for T=250.0C,L/D=1.30,Injection Speed=0.40g/s is 1e-16\n",
      "Simulation completed 0%\n",
      "best atol for T=250.0C,L/D=1.73,Injection Speed=0.40g/s is 1e-21\n",
      "Simulation completed 100%\n"
     ]
    },
    {
     "data": {
      "image/png": "[encoded data removed]",
      "text/plain": [
       "<Figure size 432x288 with 1 Axes>"
      ]
     },
     "metadata": {
      "needs_background": "light"
     },
     "output_type": "display_data"
    }
   ],
   "source": [
    "ratios = []\n",
    "for temp in temperature_c_options:\n",
    "    fig=plt.figure() #new fig. for each initial temp\n",
    "    ax=fig.add_subplot()\n",
    "    for speed in injection_speed_options:    \n",
    "        for ld in L_D_options:\n",
    "            atol = best_atol(temp,ld,speed)\n",
    "            ratio = conversions(temp,ld,speed,atol)[1]*100 #%\n",
    "            ratios.append(ratio) #array of conversions for one injection speed at each ld\n",
    "        this_label = f\"{speed} g/s\"\n",
    "        ax.scatter(L_D_options, ratios,label=this_label) #plot the scatter on same fig\n",
    "        ratios = []\n",
    "        \n",
    "    ax.set_xlabel('L/D')\n",
    "    ax.set_ylabel('Combustion ratio of MeOH [%]')\n",
    "    plt.xlim(0, 2)\n",
    "    plt.xticks(ticks=[0,.5,1,1.5,2])\n",
    "    plt.yticks(ticks=np.linspace(0,100,11))\n",
    "    plt.grid()\n",
    "    ax.set_title(f\"Initial Temperature = {temp:.0f}C\")\n",
    "    plt.legend()\n",
    "    filename= f\"./report_graphs/2/methanol_temp_{temp:.0f}\"\n",
    "    plt.savefig(filename,dpi=200,bbox_inches = \"tight\")\n",
    "    plt.show()"
   ]
  },
  {
   "cell_type": "markdown",
   "metadata": {},
   "source": [
    "# Relevant Information 3: Temperature rise during experiments"
   ]
  },
  {
   "cell_type": "code",
   "execution_count": 14,
   "metadata": {},
   "outputs": [
    {
     "name": "stdout",
     "output_type": "stream",
     "text": [
      "best atol for T=150.0C,L/D=0.43,Injection Speed=0.20g/s is 1e-21\n",
      "Simulation completed 94%\n",
      "best atol for T=150.0C,L/D=0.87,Injection Speed=0.20g/s is 1e-16\n",
      "Simulation completed 1%\n",
      "best atol for T=150.0C,L/D=1.30,Injection Speed=0.20g/s is 1e-21\n",
      "Simulation completed 100%\n",
      "best atol for T=150.0C,L/D=1.73,Injection Speed=0.20g/s is 1e-21\n",
      "Simulation completed 1%\n",
      "best atol for T=150.0C,L/D=0.43,Injection Speed=0.30g/s is 1e-23\n",
      "Simulation completed 100%\n",
      "best atol for T=150.0C,L/D=0.87,Injection Speed=0.30g/s is 1e-23\n",
      "Simulation completed 1%\n",
      "best atol for T=150.0C,L/D=1.30,Injection Speed=0.30g/s is 1e-18\n",
      "Simulation completed 1%\n",
      "best atol for T=150.0C,L/D=1.73,Injection Speed=0.30g/s is 1e-23\n",
      "Simulation completed 2%\n",
      "best atol for T=150.0C,L/D=0.43,Injection Speed=0.40g/s is 1e-21\n",
      "Simulation completed 26%\n",
      "best atol for T=150.0C,L/D=0.87,Injection Speed=0.40g/s is 1e-23\n",
      "Simulation completed 90%\n",
      "best atol for T=150.0C,L/D=1.30,Injection Speed=0.40g/s is 1e-23\n",
      "Simulation completed 82%\n",
      "best atol for T=150.0C,L/D=1.73,Injection Speed=0.40g/s is 1e-23\n",
      "Simulation completed 100%\n"
     ]
    },
    {
     "data": {
      "image/png": "[encoded data removed]",
      "text/plain": [
       "<Figure size 432x288 with 1 Axes>"
      ]
     },
     "metadata": {
      "needs_background": "light"
     },
     "output_type": "display_data"
    },
    {
     "name": "stdout",
     "output_type": "stream",
     "text": [
      "best atol for T=200.0C,L/D=0.43,Injection Speed=0.20g/s is 1e-23\n",
      "Simulation completed 100%\n",
      "best atol for T=200.0C,L/D=0.87,Injection Speed=0.20g/s is 1e-23\n",
      "Simulation completed 100%\n",
      "best atol for T=200.0C,L/D=1.30,Injection Speed=0.20g/s is 1e-21\n",
      "Simulation completed 77%\n",
      "best atol for T=200.0C,L/D=1.73,Injection Speed=0.20g/s is 1e-21\n",
      "Simulation completed 100%\n",
      "best atol for T=200.0C,L/D=0.43,Injection Speed=0.30g/s is 1e-18\n",
      "Simulation completed 2%\n",
      "best atol for T=200.0C,L/D=0.87,Injection Speed=0.30g/s is 1e-21\n",
      "Simulation completed 100%\n",
      "best atol for T=200.0C,L/D=1.30,Injection Speed=0.30g/s is 1e-21\n",
      "Simulation completed 0%\n",
      "best atol for T=200.0C,L/D=1.73,Injection Speed=0.30g/s is 1e-21\n",
      "Simulation completed 100%\n",
      "best atol for T=200.0C,L/D=0.43,Injection Speed=0.40g/s is 1e-21\n",
      "Simulation completed 8%\n",
      "best atol for T=200.0C,L/D=0.87,Injection Speed=0.40g/s is 1e-18\n",
      "Simulation completed 0%\n",
      "best atol for T=200.0C,L/D=1.30,Injection Speed=0.40g/s is 1e-23\n",
      "Simulation completed 100%\n",
      "best atol for T=200.0C,L/D=1.73,Injection Speed=0.40g/s is 1e-23\n",
      "Simulation completed 100%\n"
     ]
    },
    {
     "data": {
      "image/png": "[encoded data removed]",
      "text/plain": [
       "<Figure size 432x288 with 1 Axes>"
      ]
     },
     "metadata": {
      "needs_background": "light"
     },
     "output_type": "display_data"
    },
    {
     "name": "stdout",
     "output_type": "stream",
     "text": [
      "best atol for T=250.0C,L/D=0.43,Injection Speed=0.20g/s is 1e-21\n",
      "Simulation completed 12%\n",
      "best atol for T=250.0C,L/D=0.87,Injection Speed=0.20g/s is 1e-21\n",
      "Simulation completed 100%\n",
      "best atol for T=250.0C,L/D=1.30,Injection Speed=0.20g/s is 1e-23\n",
      "Simulation completed 100%\n",
      "best atol for T=250.0C,L/D=1.73,Injection Speed=0.20g/s is 1e-23\n",
      "Simulation completed 100%\n",
      "best atol for T=250.0C,L/D=0.43,Injection Speed=0.30g/s is 1e-23\n",
      "Simulation completed 1%\n",
      "best atol for T=250.0C,L/D=0.87,Injection Speed=0.30g/s is 1e-21\n",
      "Simulation completed 100%\n",
      "best atol for T=250.0C,L/D=1.30,Injection Speed=0.30g/s is 1e-21\n",
      "Simulation completed 100%\n",
      "best atol for T=250.0C,L/D=1.73,Injection Speed=0.30g/s is 1e-23\n",
      "Simulation completed 100%\n",
      "best atol for T=250.0C,L/D=0.43,Injection Speed=0.40g/s is 1e-23\n",
      "Simulation completed 4%\n",
      "best atol for T=250.0C,L/D=0.87,Injection Speed=0.40g/s is 1e-23\n",
      "Simulation completed 100%\n",
      "best atol for T=250.0C,L/D=1.30,Injection Speed=0.40g/s is 1e-16\n",
      "Simulation completed 0%\n",
      "best atol for T=250.0C,L/D=1.73,Injection Speed=0.40g/s is 1e-21\n",
      "Simulation completed 100%\n"
     ]
    },
    {
     "data": {
      "image/png": "[encoded data removed]",
      "text/plain": [
       "<Figure size 432x288 with 1 Axes>"
      ]
     },
     "metadata": {
      "needs_background": "light"
     },
     "output_type": "display_data"
    }
   ],
   "source": [
    "peaks = []\n",
    "for temp in temperature_c_options:\n",
    "    fig=plt.figure() #new fig. for each initial temp\n",
    "    ax=fig.add_subplot()\n",
    "    for speed in injection_speed_options:    \n",
    "        for ld in L_D_options:\n",
    "            atol = best_atol(temp,ld,speed)\n",
    "            peak = temp_rise(temp,ld,speed,atol) #C\n",
    "            peaks.append(peak) #array of conversions for one injection speed at each ld\n",
    "        this_label = f\"{speed} g/s\"\n",
    "        ax.scatter(L_D_options, peaks,label=this_label) #plot the scatter on same fig\n",
    "        peaks = []\n",
    "        \n",
    "    ax.set_xlabel('L/D')\n",
    "    ax.set_ylabel('Peak Temperature during experiments [C]')\n",
    "    plt.xlim(0, 2)\n",
    "    plt.xticks(ticks=[0,.5,1,1.5,2])\n",
    "#     plt.yticks(ticks=np.linspace(0,100,11))\n",
    "    plt.grid()\n",
    "    ax.set_title(f\"Initial Temperature = {temp:.0f}C\")\n",
    "    plt.legend()\n",
    "    filename= f\"./report_graphs/3/peakT_temp_{temp:.0f}\"\n",
    "    plt.savefig(filename,dpi=200,bbox_inches = \"tight\")\n",
    "    plt.show()"
   ]
  },
  {
   "cell_type": "markdown",
   "metadata": {},
   "source": [
    "# Relative Information 4: Conc. of product gas"
   ]
  },
  {
   "cell_type": "code",
   "execution_count": 15,
   "metadata": {},
   "outputs": [],
   "source": [
    "def plot_at_T_speed(t,speed):\n",
    "    no2 = []\n",
    "    no = []\n",
    "    h2 = []\n",
    "    o2 = []\n",
    "    n2 = []\n",
    "    ch4 = []\n",
    "    co = []\n",
    "    co2 = []\n",
    "    n2o = []\n",
    "\n",
    "    fracs = []\n",
    "    \n",
    "    for ld in L_D_options:\n",
    "        #create arrays of final mol%s at each L/D option\n",
    "        try: \n",
    "            atol = best_atol(t,ld,speed)\n",
    "            df = final_comps(t,ld,speed,atol)\n",
    "            fracs.append(df)\n",
    "            no2.append(df['NO2(9)'].values[0]*100) #percent\n",
    "            no.append(df['NO(10)'].values[0]*100) #percent\n",
    "            h2.append(df['H2(13)'].values[0]*100) #percent\n",
    "            o2.append(df['O2(8)'].values[0]*100) #percent\n",
    "            n2.append(df['N2(7)'].values[0]*100) #percent\n",
    "            ch4.append(df['CH4(15)'].values[0]*100) #percent\n",
    "            co.append(df['CO(14)'].values[0]*100) #percent\n",
    "            co2.append(df['CO2(12)'].values[0]*100) #percent\n",
    "            n2o.append(df['N2O(11)'].values[0]*100) #percent\n",
    "            \n",
    "        except TypeError:\n",
    "            print('no data for {:}C, L/D: {:.2f}, {:.1f}g/s'.format(t,ld,speed))\n",
    "            no2.append(0)\n",
    "            no.append(0)\n",
    "            h2.append(0)\n",
    "            o2.append(0)\n",
    "            n2.append(0)\n",
    "            ch4.append(0)\n",
    "            co.append(0)\n",
    "            co2.append(0)\n",
    "            n2o.append(0)\n",
    "\n",
    "    no2_no = np.array(no2) + np.array(no)    \n",
    "    plt.plot(L_D_options,no2_no,'D', label = '$NO_2+NO$')\n",
    "    plt.plot(L_D_options,h2,'s', label = '$H_2$')\n",
    "    plt.plot(L_D_options,o2,'x', label = '$O_2$')\n",
    "    plt.plot(L_D_options,n2,'^',markerfacecolor='none', label = '$N_2$')\n",
    "    plt.plot(L_D_options,ch4,'*', label = '$CH_4$')\n",
    "    plt.plot(L_D_options,co,'o', label = '$CO$')\n",
    "    plt.plot(L_D_options,co2,'o',markerfacecolor='none', label = '$CO_2$')\n",
    "    plt.plot(L_D_options,n2o,'^', label = '$N_2O$')\n",
    "    plt.yscale(\"log\")\n",
    "    plt.xlim(0, 2)\n",
    "    plt.ylim(0.1,100)\n",
    "    plt.xticks(ticks=[0,.5,1,1.5,2])\n",
    "    plt.yticks(ticks=[0.1,1,10,100])\n",
    "    plt.title('{:}C, {:.1f}g/s'.format(t,speed))\n",
    "    plt.legend(loc=(1.02,0))\n",
    "    plt.xlabel('L/D')\n",
    "    plt.ylabel('vol%')\n",
    "    plt.grid()\n",
    "    filename= f\"./report_graphs/4/products_temp_{t:.0f}_speed_{int(speed*10):}\"\n",
    "    plt.savefig(filename,dpi=200,bbox_inches = \"tight\")\n",
    "    plt.show()"
   ]
  },
  {
   "cell_type": "code",
   "execution_count": 16,
   "metadata": {},
   "outputs": [
    {
     "name": "stdout",
     "output_type": "stream",
     "text": [
      "best atol for T=250.0C,L/D=0.43,Injection Speed=0.20g/s is 1e-21\n",
      "Simulation completed 94%\n",
      "best atol for T=250.0C,L/D=0.87,Injection Speed=0.20g/s is 1e-16\n",
      "Simulation completed 1%\n",
      "best atol for T=250.0C,L/D=1.30,Injection Speed=0.20g/s is 1e-21\n",
      "Simulation completed 100%\n",
      "best atol for T=250.0C,L/D=1.73,Injection Speed=0.20g/s is 1e-21\n",
      "Simulation completed 1%\n"
     ]
    },
    {
     "data": {
      "image/png": "[encoded data removed]",
      "text/plain": [
       "<Figure size 432x288 with 1 Axes>"
      ]
     },
     "metadata": {
      "needs_background": "light"
     },
     "output_type": "display_data"
    },
    {
     "name": "stdout",
     "output_type": "stream",
     "text": [
      "best atol for T=250.0C,L/D=0.43,Injection Speed=0.30g/s is 1e-23\n",
      "Simulation completed 100%\n",
      "best atol for T=250.0C,L/D=0.87,Injection Speed=0.30g/s is 1e-23\n",
      "Simulation completed 1%\n",
      "best atol for T=250.0C,L/D=1.30,Injection Speed=0.30g/s is 1e-18\n",
      "Simulation completed 1%\n",
      "best atol for T=250.0C,L/D=1.73,Injection Speed=0.30g/s is 1e-23\n",
      "Simulation completed 2%\n"
     ]
    },
    {
     "data": {
      "image/png": "[encoded data removed]",
      "text/plain": [
       "<Figure size 432x288 with 1 Axes>"
      ]
     },
     "metadata": {
      "needs_background": "light"
     },
     "output_type": "display_data"
    },
    {
     "name": "stdout",
     "output_type": "stream",
     "text": [
      "best atol for T=250.0C,L/D=0.43,Injection Speed=0.40g/s is 1e-21\n",
      "Simulation completed 26%\n",
      "best atol for T=250.0C,L/D=0.87,Injection Speed=0.40g/s is 1e-23\n",
      "Simulation completed 90%\n",
      "best atol for T=250.0C,L/D=1.30,Injection Speed=0.40g/s is 1e-23\n",
      "Simulation completed 82%\n",
      "best atol for T=250.0C,L/D=1.73,Injection Speed=0.40g/s is 1e-23\n",
      "Simulation completed 100%\n"
     ]
    },
    {
     "data": {
      "image/png": "[encoded data removed]",
      "text/plain": [
       "<Figure size 432x288 with 1 Axes>"
      ]
     },
     "metadata": {
      "needs_background": "light"
     },
     "output_type": "display_data"
    },
    {
     "name": "stdout",
     "output_type": "stream",
     "text": [
      "best atol for T=250.0C,L/D=0.43,Injection Speed=0.20g/s is 1e-23\n",
      "Simulation completed 100%\n",
      "best atol for T=250.0C,L/D=0.87,Injection Speed=0.20g/s is 1e-23\n",
      "Simulation completed 100%\n",
      "best atol for T=250.0C,L/D=1.30,Injection Speed=0.20g/s is 1e-21\n",
      "Simulation completed 77%\n",
      "best atol for T=250.0C,L/D=1.73,Injection Speed=0.20g/s is 1e-21\n",
      "Simulation completed 100%\n"
     ]
    },
    {
     "data": {
      "image/png": "[encoded data removed]",
      "text/plain": [
       "<Figure size 432x288 with 1 Axes>"
      ]
     },
     "metadata": {
      "needs_background": "light"
     },
     "output_type": "display_data"
    },
    {
     "name": "stdout",
     "output_type": "stream",
     "text": [
      "best atol for T=250.0C,L/D=0.43,Injection Speed=0.30g/s is 1e-18\n",
      "Simulation completed 2%\n",
      "best atol for T=250.0C,L/D=0.87,Injection Speed=0.30g/s is 1e-21\n",
      "Simulation completed 100%\n",
      "best atol for T=250.0C,L/D=1.30,Injection Speed=0.30g/s is 1e-21\n",
      "Simulation completed 0%\n",
      "best atol for T=250.0C,L/D=1.73,Injection Speed=0.30g/s is 1e-21\n",
      "Simulation completed 100%\n"
     ]
    },
    {
     "data": {
      "image/png": "[encoded data removed]",
      "text/plain": [
       "<Figure size 432x288 with 1 Axes>"
      ]
     },
     "metadata": {
      "needs_background": "light"
     },
     "output_type": "display_data"
    },
    {
     "name": "stdout",
     "output_type": "stream",
     "text": [
      "best atol for T=250.0C,L/D=0.43,Injection Speed=0.40g/s is 1e-21\n",
      "Simulation completed 8%\n",
      "best atol for T=250.0C,L/D=0.87,Injection Speed=0.40g/s is 1e-18\n",
      "Simulation completed 0%\n",
      "best atol for T=250.0C,L/D=1.30,Injection Speed=0.40g/s is 1e-23\n",
      "Simulation completed 100%\n",
      "best atol for T=250.0C,L/D=1.73,Injection Speed=0.40g/s is 1e-23\n",
      "Simulation completed 100%\n"
     ]
    },
    {
     "data": {
      "image/png": "[encoded data removed]",
      "text/plain": [
       "<Figure size 432x288 with 1 Axes>"
      ]
     },
     "metadata": {
      "needs_background": "light"
     },
     "output_type": "display_data"
    },
    {
     "name": "stdout",
     "output_type": "stream",
     "text": [
      "best atol for T=250.0C,L/D=0.43,Injection Speed=0.20g/s is 1e-21\n",
      "Simulation completed 12%\n",
      "best atol for T=250.0C,L/D=0.87,Injection Speed=0.20g/s is 1e-21\n",
      "Simulation completed 100%\n",
      "best atol for T=250.0C,L/D=1.30,Injection Speed=0.20g/s is 1e-23\n",
      "Simulation completed 100%\n",
      "best atol for T=250.0C,L/D=1.73,Injection Speed=0.20g/s is 1e-23\n",
      "Simulation completed 100%\n"
     ]
    },
    {
     "data": {
      "image/png": "[encoded data removed]",
      "text/plain": [
       "<Figure size 432x288 with 1 Axes>"
      ]
     },
     "metadata": {
      "needs_background": "light"
     },
     "output_type": "display_data"
    },
    {
     "name": "stdout",
     "output_type": "stream",
     "text": [
      "best atol for T=250.0C,L/D=0.43,Injection Speed=0.30g/s is 1e-23\n",
      "Simulation completed 1%\n",
      "best atol for T=250.0C,L/D=0.87,Injection Speed=0.30g/s is 1e-21\n",
      "Simulation completed 100%\n",
      "best atol for T=250.0C,L/D=1.30,Injection Speed=0.30g/s is 1e-21\n",
      "Simulation completed 100%\n",
      "best atol for T=250.0C,L/D=1.73,Injection Speed=0.30g/s is 1e-23\n",
      "Simulation completed 100%\n"
     ]
    },
    {
     "data": {
      "image/png": "[encoded data removed]",
      "text/plain": [
       "<Figure size 432x288 with 1 Axes>"
      ]
     },
     "metadata": {
      "needs_background": "light"
     },
     "output_type": "display_data"
    },
    {
     "name": "stdout",
     "output_type": "stream",
     "text": [
      "best atol for T=250.0C,L/D=0.43,Injection Speed=0.40g/s is 1e-23\n",
      "Simulation completed 4%\n",
      "best atol for T=250.0C,L/D=0.87,Injection Speed=0.40g/s is 1e-23\n",
      "Simulation completed 100%\n",
      "best atol for T=250.0C,L/D=1.30,Injection Speed=0.40g/s is 1e-16\n",
      "Simulation completed 0%\n",
      "best atol for T=250.0C,L/D=1.73,Injection Speed=0.40g/s is 1e-21\n",
      "Simulation completed 100%\n"
     ]
    },
    {
     "data": {
      "image/png": "[encoded data removed]",
      "text/plain": [
       "<Figure size 432x288 with 1 Axes>"
      ]
     },
     "metadata": {
      "needs_background": "light"
     },
     "output_type": "display_data"
    }
   ],
   "source": [
    "T_speeds  = np.array(np.meshgrid(temperature_c_options,injection_speed_options)).T.reshape(-1,2)\n",
    "\n",
    "for i in range(len(T_speeds)):\n",
    "    t = T_speeds[i,0]\n",
    "    speed = T_speeds[i,1]\n",
    "    plot_at_T_speed(t,speed)"
   ]
  },
  {
   "cell_type": "code",
   "execution_count": 17,
   "metadata": {},
   "outputs": [],
   "source": [
    "gas=ct.Solution(cti_file)\n",
    "surf = ct.Interface(cti_file,'surface1', [gas])"
   ]
  },
  {
   "cell_type": "code",
   "execution_count": 18,
   "metadata": {},
   "outputs": [
    {
     "name": "stdout",
     "output_type": "stream",
     "text": [
      "Ne, NH3(2), NH2OH(3), HNO3(4), CH3OH(5), H2O(6), N2(7), O2(8), NO2(9), NO(10), N2O(11), CO2(12), H2(13), CO(14), CH4(15), C2H6(16), CH2O(17), CH3(18), C3H8(19), H(20), C2H5(21), HCO(22), CH3CHO(23), OH(24), C2H4(25), O(36), Ar(37), HO2(39), H2O2(40), HOCO(41), CH2(42), CH2(S)(43), CH(44), CH2OH(45), CH3O(46), HCOH(47), CH3OO(48), CH2CO(49), C2H3(50), C(51), C2H2(52), C2H(53), CH3OOH(54), CH2OOH(55), HOCH2O(56), HOCHO(57), C2H5O(58), C2H5O2(59), C2H5O2(60), cC2H4O(61), CH2CHO(62), H2CC(63), CH3CO(64), C2H4O(65), C2H5O(66), C2H3O2(67), CHCHO(68), OCHCHO(69), HCCO(70), HCCOH(71), CHCHOH(72), C2(73), C2O(74), C2H6O(75), C2H5O(76), C2H5O3(77), cC2H3O(78), C2H3O3(79), OCHCO(80), C2H6O2(81), C2H5O2(82), C2H4O2(83), OCHO(84), NH2(85), NH(86), HNO(87), H2NO(88), HON(89), N(90), NNH(91), HONO(92), HNOH(93), HNO2(94), NO3(95), N2H2(96), H2N2(97), N2H3(98), N2H4(99), HCN(100), CN(101), HNC(102), NCO(103), HOCN(104), HNCO(105), NCCN(106), HNCN(107), NCN(108), HNCNH(109), HCNO(110), CH3CN(111), CH2CN(112), CH2NH(113), H2CN(114), CH3NO(115), CH4N(116), NCNOH(117), NCNO(118), CH2NO(119), S(120), S(121), S(122), S(123), S(124), S(125), S(126), S(127), S(128), S(129), S(130), S(131), S(132), CH5N(133), CH3NH(134), HCNH(135), C2H7N(136), C2H6N(137), C2H6N(138), C2H6N(139), C2H5N(140), C2H5N(141), CH3NO(142), C2H4N(143), C2H4N(144), C2H4N(145), H2NCO(146), C2H4N(147), C2H4N(148), C2H3N(149), C2H3N(150), C2H3N(151), C2H3N(152), CHCNH(153), C2H3N(154), C2H4N(155), C2H6N(156), C2H7N(157), C2H6N(158), C2H5N(159), C2H4N(160), C2H4(200), H2NO3(243), HN2O(254), ONCDO(266), NO2NO(340), ONONO(343), CHNO3(372), N2O2(390), CHNO2(397), NOON(576), HNO(630), H3NO(634), NONDO(651), S(665), S(674), H3NO3(778), ONCO(1021), S(1108), S(1216), S(1489), S(1494), S(1740), S(2018), S(2039), S(2056), S(2083), S(2447), S(2896), N4O7(3316), S(4059), S(4541), S(5413), S(6827), N2O5(7142), S(7627), S(8965), S(9341), S(10763)\n"
     ]
    }
   ],
   "source": [
    "print(\", \".join(gas.species_names))"
   ]
  },
  {
   "cell_type": "code",
   "execution_count": 19,
   "metadata": {},
   "outputs": [
    {
     "name": "stdout",
     "output_type": "stream",
     "text": [
      "X(1), HX(26), OX(27), CH3X(28), HOX(29), H2OX(30), CO2X(31), OCX(32), CX(33), CH2X(34), CHX(35), H2NX(201), H3NX(202), H2NOX(203), H2NOX(204), H3NOX(205), NO2X(206), NO3X(207), HNO3X(208), CH3OX(209), CH3OX(210), CH4OX(211), OX(213), NOX(215), NO2X(216), NOJX(217), H2X(219), SX(494), SX(495), CHO2X(506), HNO2X(513), HNX(532), HNOX(533), NX(604), SX(605), SX(606), SX(609), H2N2X(614), N2O3X(618), SX(623), HNOX(631), H2NOX(633), HNO2X(741), SX(759), HONOX(934), SX(1000), SX(1039), SX(1043), SX(1047), SX(1048), SX(1050), SX(1063), SX(1064), HNOX(1071), SX(1163), SX(1249), N2OX(1419), CNOX(1438), SX(1527), SX(1895), SX(2232), SX(2233), SX(2465), SX(3049), SX(3050), SX(3248), SX(3939), SX(4539), SX(4540), NO3X(4718), SX(4793), SX(4794), SX(4937), SX(5513), SX(5810), SX(5814), SX(6977), SX(7604), SX(9643)\n"
     ]
    }
   ],
   "source": [
    "print(\", \".join(surf.species_names))"
   ]
  },
  {
   "cell_type": "code",
   "execution_count": 20,
   "metadata": {},
   "outputs": [],
   "source": [
    "# unit conversion factors to SI\n",
    "cm = 0.01 # m\n",
    "minute = 60.0  # s"
   ]
  },
  {
   "cell_type": "code",
   "execution_count": 21,
   "metadata": {},
   "outputs": [
    {
     "data": {
      "text/plain": [
       "1890    0.058139\n",
       "Name: N2(7), dtype: float64"
      ]
     },
     "execution_count": 21,
     "metadata": {},
     "output_type": "execute_result"
    }
   ],
   "source": [
    "# data_dict[(temp,ld,speed)] = data\n",
    "\n",
    "graph1 = data_dict[(150,.430448223,0.2,1e-21)]\n",
    "graph1['N2(7)'].tail(1)"
   ]
  },
  {
   "cell_type": "code",
   "execution_count": 22,
   "metadata": {},
   "outputs": [],
   "source": [
    "#######################################################################\n",
    "# Input Parameters for combustor\n",
    "#######################################################################\n",
    "# mass_flow_rate =  0.5e-3 # kg/s\n",
    "mass_flow_rate = injection_speed_options[0]*1e-3\n",
    "\n",
    "pressure = ct.one_atm # constant\n",
    "\n",
    "ld = L_D_options[0]\n",
    "length = 1.8*cm*ld  # Catalyst bed length. 11mm\n",
    "cross_section_area = np.pi * (0.9*cm)**2  # Catalyst bed area.  18mm diameter circle."
   ]
  },
  {
   "cell_type": "code",
   "execution_count": 23,
   "metadata": {},
   "outputs": [],
   "source": [
    "NReactors = 2001\n",
    "def xlabels():\n",
    "    ticks = []\n",
    "    labels = []\n",
    "    mm = 0\n",
    "    while mm < length*1000:\n",
    "        ticks.append( int(NReactors * mm * 0.001 / length ) )\n",
    "        labels.append( str(mm) )\n",
    "        mm += 1\n",
    "    labels[-1] = labels[-1] + ' mm'\n",
    "    plt.xticks(ticks, labels)\n",
    "    plt.xlabel(\"Distance down reactor\")"
   ]
  },
  {
   "cell_type": "code",
   "execution_count": 24,
   "metadata": {},
   "outputs": [
    {
     "ename": "AttributeError",
     "evalue": "'NoneType' object has no attribute 'columns'",
     "output_type": "error",
     "traceback": [
      "\u001b[0;31m---------------------------------------------------------------------------\u001b[0m",
      "\u001b[0;31mAttributeError\u001b[0m                            Traceback (most recent call last)",
      "\u001b[0;32m<ipython-input-24-74899ccfb4fb>\u001b[0m in \u001b[0;36m<module>\u001b[0;34m\u001b[0m\n\u001b[1;32m      1\u001b[0m \u001b[0mdata\u001b[0m \u001b[0;34m=\u001b[0m \u001b[0mnext\u001b[0m\u001b[0;34m(\u001b[0m\u001b[0miter\u001b[0m\u001b[0;34m(\u001b[0m\u001b[0mdata_dict\u001b[0m\u001b[0;34m.\u001b[0m\u001b[0mvalues\u001b[0m\u001b[0;34m(\u001b[0m\u001b[0;34m)\u001b[0m\u001b[0;34m)\u001b[0m\u001b[0;34m)\u001b[0m\u001b[0;34m\u001b[0m\u001b[0;34m\u001b[0m\u001b[0m\n\u001b[0;32m----> 2\u001b[0;31m \u001b[0mspecs\u001b[0m \u001b[0;34m=\u001b[0m \u001b[0mlist\u001b[0m\u001b[0;34m(\u001b[0m\u001b[0mdata\u001b[0m\u001b[0;34m.\u001b[0m\u001b[0mcolumns\u001b[0m\u001b[0;34m)\u001b[0m\u001b[0;34m\u001b[0m\u001b[0;34m\u001b[0m\u001b[0m\n\u001b[0m\u001b[1;32m      3\u001b[0m \u001b[0mspecs\u001b[0m \u001b[0;34m=\u001b[0m \u001b[0mspecs\u001b[0m\u001b[0;34m[\u001b[0m\u001b[0;36m4\u001b[0m\u001b[0;34m:\u001b[0m\u001b[0;34m-\u001b[0m\u001b[0;36m3\u001b[0m\u001b[0;34m]\u001b[0m\u001b[0;34m\u001b[0m\u001b[0;34m\u001b[0m\u001b[0m\n\u001b[1;32m      4\u001b[0m \u001b[0mexcluded\u001b[0m \u001b[0;34m=\u001b[0m \u001b[0;34m[\u001b[0m\u001b[0ms\u001b[0m \u001b[0;32mfor\u001b[0m \u001b[0ms\u001b[0m \u001b[0;32min\u001b[0m \u001b[0mdata\u001b[0m\u001b[0;34m.\u001b[0m\u001b[0mcolumns\u001b[0m \u001b[0;32mif\u001b[0m \u001b[0ms\u001b[0m \u001b[0;32mnot\u001b[0m \u001b[0;32min\u001b[0m \u001b[0mspecs\u001b[0m\u001b[0;34m]\u001b[0m\u001b[0;34m\u001b[0m\u001b[0;34m\u001b[0m\u001b[0m\n\u001b[1;32m      5\u001b[0m \u001b[0mgas_species\u001b[0m \u001b[0;34m=\u001b[0m \u001b[0;34m[\u001b[0m\u001b[0ms\u001b[0m \u001b[0;32mfor\u001b[0m \u001b[0ms\u001b[0m \u001b[0;32min\u001b[0m \u001b[0mspecs\u001b[0m \u001b[0;32mif\u001b[0m \u001b[0;34m'X'\u001b[0m \u001b[0;32mnot\u001b[0m \u001b[0;32min\u001b[0m \u001b[0ms\u001b[0m \u001b[0;34m]\u001b[0m\u001b[0;34m\u001b[0m\u001b[0;34m\u001b[0m\u001b[0m\n",
      "\u001b[0;31mAttributeError\u001b[0m: 'NoneType' object has no attribute 'columns'"
     ]
    }
   ],
   "source": [
    "data = next(iter(data_dict.values()))\n",
    "specs = list(data.columns)\n",
    "specs = specs[4:-3]\n",
    "excluded = [s for s in data.columns if s not in specs]\n",
    "gas_species = [s for s in specs if 'X' not in s ]\n",
    "adsorbates = [s for s in specs if 'X' in s]"
   ]
  },
  {
   "cell_type": "code",
   "execution_count": null,
   "metadata": {
    "scrolled": false
   },
   "outputs": [],
   "source": [
    "def f(temperature_c, ld, speed, atol):\n",
    "    \n",
    "#     print(f\"Catalyst area per volume {cat_area_per_vol :.2e} m2/m3\")\n",
    "    print(f\"Initial temperature {temperature_c :.1f} ºC\")\n",
    "#     print(f\"Solver RTol {rtol :.1e}\")\n",
    "#     print(f\"Solver ATol {atol :.1e}\")\n",
    "    print(f\"L/D {ld :.2f}\")\n",
    "    print(f\"injection speed {speed :.2f}\")\n",
    "    print(f\"atol {atol :.1e}\")\n",
    "    setting_tuple = (temperature_c, ld, speed, atol)\n",
    "    print(f\"Simulation number {setting_dict[setting_tuple]}\")\n",
    "    data = data_dict[setting_tuple]\n",
    "    \n",
    "    length = 1.8*cm *ld #diam = 18mm, L = L/D * D mm\n",
    "    data['T (C)'].plot()\n",
    "    plt.ylabel('T (C)')\n",
    "    xlabels()\n",
    "    plt.show()\n",
    "    \n",
    "    data[['gas_heat','surface_heat']].plot()\n",
    "    xlabels()\n",
    "    #plt.savefig('gas_and_surface_heat.pdf')\n",
    "    plt.show()\n",
    "\n",
    "    species_to_plot = ['NH3(2)',\n",
    " 'NH2OH(3)',\n",
    " 'HNO3(4)',\n",
    " 'CH3OH(5)',\n",
    " 'H2O(6)',\n",
    " 'N2(7)',\n",
    " 'O2(8)',\n",
    " 'NO2(9)',\n",
    " 'NO(10)',\n",
    " 'N2O(11)',\n",
    "        ]\n",
    "    data[species_to_plot].plot(title='gas mole fraction', logy=False)\n",
    "    xlabels()\n",
    "    plt.tight_layout()\n",
    "    #plt.savefig(f'gas_mole_fractions_{i}.pdf')\n",
    "    plt.show()\n",
    "    \n",
    "#     main_adsorbates = data[adsorbates].max().sort_values(ascending=False)[:10].keys()\n",
    "#     data[main_adsorbates].plot.area()\n",
    "#     xlabels()\n",
    "#     plt.xlim(0,len(data)+5)\n",
    "#     plt.tight_layout()\n",
    "#     plt.savefig(f'surface_coverages_top10.pdf')\n",
    "#     plt.show()\n",
    "\n",
    "    return data\n",
    "    \n",
    "\n",
    "temp_ = widgets.SelectionSlider(\n",
    "    options=temperature_c_options,\n",
    "    value=temperature_c_options[1],\n",
    "    description='Initial temperature (C)',\n",
    "    disabled=False,\n",
    "    continuous_update=False,\n",
    "    orientation='horizontal',\n",
    "    readout=True\n",
    ")\n",
    "\n",
    "ld_ = widgets.SelectionSlider(\n",
    "    options=L_D_options,\n",
    "    value=L_D_options[1],\n",
    "    description='L/D',\n",
    "    disabled=False,\n",
    "    continuous_update=False,\n",
    "    orientation='horizontal',\n",
    "    readout=True\n",
    ")\n",
    "\n",
    "speed_ = widgets.SelectionSlider(\n",
    "    options=injection_speed_options,\n",
    "    value=injection_speed_options[1],\n",
    "    description='injection speed',\n",
    "    disabled=False,\n",
    "    continuous_update=False,\n",
    "    orientation='horizontal',\n",
    "    readout=True\n",
    ")\n",
    "\n",
    "atol_ = widgets.SelectionSlider(\n",
    "    options=atol_options,\n",
    "    value=atol_options[1],\n",
    "    description='atol',\n",
    "    disabled=False,\n",
    "    continuous_update=False,\n",
    "    orientation='horizontal',\n",
    "    readout=True\n",
    ")\n",
    "\n",
    "interact(f, temperature_c=temp_, ld=ld_, speed=speed_,atol=atol_)\n"
   ]
  },
  {
   "cell_type": "code",
   "execution_count": null,
   "metadata": {},
   "outputs": [],
   "source": [
    "data['Distance (mm)'].max()\n",
    "# gas_species"
   ]
  },
  {
   "cell_type": "code",
   "execution_count": null,
   "metadata": {},
   "outputs": [],
   "source": [
    "# no2 = []\n",
    "# no = []\n",
    "# h2 = []\n",
    "# o2 = []\n",
    "# n2 = []\n",
    "# ch4 = []\n",
    "# co = []\n",
    "# co2 = []\n",
    "# n2o = []\n",
    "\n",
    "# for l in range(len(L_D_options)):\n",
    "#     no2.append(fracs[l][0][0])\n",
    "#     no.append(fracs[l][0][1])\n",
    "#     h2.append(fracs[l][0][2])\n",
    "#     o2.append(fracs[l][0][3])\n",
    "#     n2.append(fracs[l][0][4])\n",
    "#     ch4.append(fracs[l][0][5])\n",
    "#     co.append(fracs[l][0][6])\n",
    "#     co2.append(fracs[l][0][7])\n",
    "#     n2o.append(fracs[l][0][8])\n",
    "    \n",
    "# no2_no = np.array(no2) + np.array(no)\n",
    "# no2_no *=100\n",
    "# h2 = np.array(h2)*100\n",
    "# o2 = np.array(o2)*100\n",
    "# n2 = np.array(n2)*100\n",
    "# ch4 = np.array(ch4)*100\n",
    "# co = np.array(co)*100\n",
    "# co2 = np.array(co2)*100\n",
    "# n2o = np.array(n2o)*100\n",
    "\n",
    "# plt.plot(L_D_options,no2_no,'D', label = '$NO_2+NO$')\n",
    "# plt.plot(L_D_options,h2,'s', label = '$H_2$')\n",
    "# plt.plot(L_D_options,o2,'x', label = '$O_2$')\n",
    "# plt.plot(L_D_options,n2,'^',markerfacecolor='none', label = '$N_2$')\n",
    "# plt.plot(L_D_options,ch4,'*', label = '$CH_4$')\n",
    "# plt.plot(L_D_options,co,'o', label = '$CO$')\n",
    "# plt.plot(L_D_options,co2,'o',markerfacecolor='none', label = '$CO_2$')\n",
    "# plt.plot(L_D_options,n2o,'^', label = '$N_2O$')\n",
    "# plt.yscale(\"log\")\n",
    "# plt.xlim(0, 2)\n",
    "# plt.ylim(0.1,100)\n",
    "# plt.xticks(ticks=[0,.5,1,1.5,2])\n",
    "# plt.yticks(ticks=[0.1,1,10,100])\n",
    "# plt.title('{:}C, {:.1f}g/s'.format(t,speed))\n",
    "# plt.legend(loc=(1.02,0))\n",
    "# plt.xlabel('L/D')\n",
    "# plt.ylabel('vol%')\n",
    "# plt.grid()\n",
    "# plt.show()"
   ]
  },
  {
   "cell_type": "code",
   "execution_count": null,
   "metadata": {},
   "outputs": [],
   "source": [
    "cat_area_per_vol=2.80e+05"
   ]
  },
  {
   "cell_type": "code",
   "execution_count": null,
   "metadata": {
    "scrolled": false
   },
   "outputs": [],
   "source": [
    "def report_rates(n=8):\n",
    "    print(\"\\nHighest net rates of progress, gas\")\n",
    "    for i in np.argsort(abs(gas.net_rates_of_progress))[-1:-n:-1]: # top n in descending order\n",
    "        print(f\"{i:3d} : {gas.reaction_equation(i):48s}  {gas.net_rates_of_progress[i]:8.1g}\")\n",
    "    print(\"\\nHighest net rates of progress, surface\")\n",
    "    for i in np.argsort(abs(surf.net_rates_of_progress))[-1:-n:-1]: # top n in descending order\n",
    "        print(f\"{i:3d} : {surf.reaction_equation(i):48s}  {cat_area_per_vol*surf.net_rates_of_progress[i]:8.1g}\")\n",
    "    print(\"\\nHighest forward rates of progress, gas\")\n",
    "    for i in np.argsort(abs(gas.forward_rates_of_progress))[-1:-n:-1]: # top n in descending order\n",
    "        print(f\"{i:3d} : {gas.reaction_equation(i):48s}  {gas.forward_rates_of_progress[i]:8.1g}\")\n",
    "    print(\"\\nHighest forward rates of progress, surface\")\n",
    "    for i in np.argsort(abs(surf.forward_rates_of_progress))[-1:-n:-1]: # top n in descending order\n",
    "        print(f\"{i:3d} : {surf.reaction_equation(i):48s}  {cat_area_per_vol*surf.forward_rates_of_progress[i]:8.1g}\")\n",
    "    print(\"\\nHighest reverse rates of progress, gas\")\n",
    "    for i in np.argsort(abs(gas.reverse_rates_of_progress))[-1:-n:-1]: # top n in descending order\n",
    "        print(f\"{i:3d} : {gas.reaction_equation(i):48s}  {gas.reverse_rates_of_progress[i]:8.1g}\")\n",
    "    print(\"\\nHighest reverse rates of progress, surface\")\n",
    "    for i in np.argsort(abs(surf.reverse_rates_of_progress))[-1:-n:-1]: # top n in descending order\n",
    "        print(f\"{i:3d} : {surf.reaction_equation(i):48s}  {cat_area_per_vol*surf.reverse_rates_of_progress[i]:8.1g}\")\n",
    "\n",
    "    print(f\"\\nSurface rates have been scaled by surface/volume ratio {cat_area_per_vol:.1e} m2/m3\")\n",
    "    print(\"So are on a similar basis of volume of reactor (though porosity not yet accounted for)\")\n",
    "    print(\" kmol / m3 / s\")\n",
    "report_rates()"
   ]
  },
  {
   "cell_type": "code",
   "execution_count": null,
   "metadata": {
    "scrolled": false
   },
   "outputs": [],
   "source": [
    "def report_rate_constants(n=8):\n",
    "    print(\"\\nHighest forward rate constants, gas\")\n",
    "    for i in np.argsort(abs(gas.forward_rate_constants))[-1:-n:-1]: # top n in descending order\n",
    "        print(f\"{i:3d} : {gas.reaction_equation(i):48s}  {gas.forward_rate_constants[i]:8.1e}\")\n",
    "    print(\"\\nHighest forward rate constants, surface\")\n",
    "    for i in np.argsort(abs(surf.forward_rate_constants))[-1:-n:-1]: # top n in descending order\n",
    "        print(f\"{i:3d} : {surf.reaction_equation(i):48s}  {surf.forward_rate_constants[i]:8.1e}\")\n",
    "    print(\"\\nHighest reverse rate constants, gas\")\n",
    "    for i in np.argsort(abs(gas.reverse_rate_constants))[-1:-n:-1]: # top n in descending order\n",
    "        print(f\"{i:3d} : {gas.reaction_equation(i):48s}  {gas.reverse_rate_constants[i]:8.1e}\")\n",
    "    print(\"\\nHighest reverse rate constants, surface\")\n",
    "    for i in np.argsort(abs(surf.reverse_rate_constants))[-1:-n:-1]: # top n in descending order\n",
    "        print(f\"{i:3d} : {surf.reaction_equation(i):48s}  {surf.reverse_rate_constants[i]:8.1e}\")\n",
    "\n",
    "    print(\"Units are a combination of kmol, m^3 and s, that depend on the rate expression for the reaction.\")\n",
    "report_rate_constants()"
   ]
  },
  {
   "cell_type": "code",
   "execution_count": null,
   "metadata": {},
   "outputs": [],
   "source": []
  },
  {
   "cell_type": "code",
   "execution_count": null,
   "metadata": {},
   "outputs": [],
   "source": [
    "sim.time"
   ]
  },
  {
   "cell_type": "code",
   "execution_count": null,
   "metadata": {},
   "outputs": [],
   "source": [
    "gas.TDY = TDY\n",
    "r.syncState()\n",
    "r.thermo.T"
   ]
  },
  {
   "cell_type": "code",
   "execution_count": null,
   "metadata": {},
   "outputs": [],
   "source": [
    "r.thermo.X - gas.X"
   ]
  },
  {
   "cell_type": "code",
   "execution_count": null,
   "metadata": {},
   "outputs": [],
   "source": [
    "report_rate_constants()"
   ]
  },
  {
   "cell_type": "code",
   "execution_count": null,
   "metadata": {},
   "outputs": [],
   "source": [
    "def xlabels():\n",
    "    plt.xticks([0,NReactors/4,NReactors/2,3*NReactors/4, NReactors],['0','','','',f'{length*1000:.0f} mm'])\n",
    "    plt.xlabel(\"Distance down reactor\")"
   ]
  },
  {
   "cell_type": "code",
   "execution_count": null,
   "metadata": {},
   "outputs": [],
   "source": [
    "data['T (C)'].plot()\n",
    "plt.ylabel('T (C)')\n",
    "xlabels()"
   ]
  },
  {
   "cell_type": "code",
   "execution_count": null,
   "metadata": {},
   "outputs": [],
   "source": [
    "data[['NH2OH(3)', 'HNO3(4)', 'CH3OH(5)']].plot()\n",
    "plt.ylabel('Mole fraction')\n",
    "xlabels()"
   ]
  },
  {
   "cell_type": "code",
   "execution_count": null,
   "metadata": {},
   "outputs": [],
   "source": [
    "list(data.columns)[:4]"
   ]
  },
  {
   "cell_type": "code",
   "execution_count": null,
   "metadata": {},
   "outputs": [],
   "source": [
    "data[['T (C)', 'alpha']].plot()\n",
    "xlabels()"
   ]
  },
  {
   "cell_type": "code",
   "execution_count": null,
   "metadata": {},
   "outputs": [],
   "source": [
    "ax1 = data['T (C)'].plot()\n",
    "plt.ylabel('Temperature (C)')\n",
    "xlabels()\n",
    "plt.legend()\n",
    "ax2 = ax1.twinx()\n",
    "data['alpha'].plot(ax=ax2, color='tab:orange')\n",
    "ax2.set_ylim(-2, 2)\n",
    "plt.legend()\n",
    "plt.ylabel('alpha')\n",
    "plt.tight_layout()\n",
    "plt.savefig('temperature-and-alpha.pdf')\n",
    "plt.show()"
   ]
  },
  {
   "cell_type": "code",
   "execution_count": null,
   "metadata": {},
   "outputs": [],
   "source": [
    "data.columns\n"
   ]
  },
  {
   "cell_type": "code",
   "execution_count": null,
   "metadata": {},
   "outputs": [],
   "source": [
    "data[['gas_heat','surface_heat']].plot()\n",
    "#plt.ylim(-1e7, 1e7)\n",
    "xlabels()\n",
    "plt.savefig('gas_and_surface_heat.pdf')\n",
    "plt.show()\n"
   ]
  },
  {
   "cell_type": "code",
   "execution_count": null,
   "metadata": {},
   "outputs": [],
   "source": [
    "ax1 = data[['gas_heat','surface_heat']].plot()\n",
    "plt.ylim(-1e9, 1e9)\n",
    "xlabels()\n",
    "plt.ylabel('Heat consumption rate (kJ/m3/s)')\n",
    "plt.legend(loc='upper left')\n",
    "ax2 = ax1.twinx()\n",
    "data['alpha'].plot(ax=ax2, style='k:', alpha=0.5)\n",
    "ax2.set_ylim(-10, 10)\n",
    "plt.legend(loc='lower right')\n",
    "plt.ylabel('alpha')\n",
    "plt.tight_layout()\n",
    "plt.savefig('heats-and-alpha.pdf')\n",
    "plt.show()"
   ]
  },
  {
   "cell_type": "code",
   "execution_count": null,
   "metadata": {},
   "outputs": [],
   "source": [
    "data[['T (C)']].plot()\n",
    "plt.ylabel('Temperature (C)')\n",
    "xlabels()\n",
    "plt.tight_layout()\n",
    "plt.savefig('temperature.pdf')\n",
    "plt.show()"
   ]
  },
  {
   "cell_type": "code",
   "execution_count": null,
   "metadata": {},
   "outputs": [],
   "source": [
    "data[['alpha']].plot(logy=True)\n",
    "xlabels()"
   ]
  },
  {
   "cell_type": "code",
   "execution_count": null,
   "metadata": {},
   "outputs": [],
   "source": [
    "data.plot(x='T (C)',y='alpha')\n"
   ]
  },
  {
   "cell_type": "code",
   "execution_count": null,
   "metadata": {},
   "outputs": [],
   "source": [
    "specs = list(data.columns)\n",
    "specs = specs[4:-1]\n",
    "\n",
    "gas_species = [s for s in specs if 'X' not in s]\n",
    "adsorbates = [s for s in specs if 'X' in s]\n",
    "\n",
    "gas_species, adsorbates"
   ]
  },
  {
   "cell_type": "code",
   "execution_count": null,
   "metadata": {},
   "outputs": [],
   "source": [
    "data[gas_species[0:5]].plot(logy=True, logx=True)"
   ]
  },
  {
   "cell_type": "code",
   "execution_count": null,
   "metadata": {
    "scrolled": false
   },
   "outputs": [],
   "source": [
    "for i in range(0,len(gas_species),10):\n",
    "    data[gas_species[i:i+10]].plot(title='gas mole fraction', logy=False)\n",
    "    xlabels()\n",
    "    plt.tight_layout()\n",
    "    plt.savefig(f'gas_mole_fractions_{i}.pdf')\n",
    "    plt.show()\n",
    "    \n",
    "for i in range(0,len(adsorbates),10):\n",
    "    data[adsorbates[i:i+10]].plot(title='surface coverages', logy=False)\n",
    "    xlabels()\n",
    "    plt.tight_layout()\n",
    "    plt.savefig(f'surface_coverages_{i}.pdf')\n",
    "    plt.show()"
   ]
  },
  {
   "cell_type": "code",
   "execution_count": null,
   "metadata": {},
   "outputs": [],
   "source": []
  },
  {
   "cell_type": "code",
   "execution_count": null,
   "metadata": {},
   "outputs": [],
   "source": []
  },
  {
   "cell_type": "code",
   "execution_count": null,
   "metadata": {},
   "outputs": [],
   "source": []
  },
  {
   "cell_type": "code",
   "execution_count": null,
   "metadata": {},
   "outputs": [],
   "source": []
  }
 ],
 "metadata": {
  "kernelspec": {
   "display_name": "Python 3",
   "language": "python",
   "name": "python3"
  },
  "language_info": {
   "codemirror_mode": {
    "name": "ipython",
    "version": 3
   },
   "file_extension": ".py",
   "mimetype": "text/x-python",
   "name": "python",
   "nbconvert_exporter": "python",
   "pygments_lexer": "ipython3",
   "version": "3.7.5"
  }
 },
 "nbformat": 4,
 "nbformat_minor": 2
}
