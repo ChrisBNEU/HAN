{
 "cells": [
  {
   "cell_type": "markdown",
   "metadata": {},
   "source": [
    "# Plug flow reactor simulation of Thruster\n",
    "\n",
    "![caption](Graphics/thruster-details.png)\n"
   ]
  },
  {
   "cell_type": "code",
   "execution_count": 1,
   "metadata": {},
   "outputs": [],
   "source": [
    "import cantera as ct\n",
    "import numpy as np\n",
    "\n",
    "from matplotlib import pyplot as plt\n",
    "import csv\n",
    "import os\n",
    "import itertools\n",
    "import pandas as pd"
   ]
  },
  {
   "cell_type": "code",
   "execution_count": 2,
   "metadata": {},
   "outputs": [],
   "source": [
    "from ipywidgets import interact, interactive, fixed, interact_manual\n",
    "import ipywidgets as widgets"
   ]
  },
  {
   "cell_type": "code",
   "execution_count": 3,
   "metadata": {},
   "outputs": [],
   "source": [
    "import json\n",
    "with open('rocketman/settings.json') as fp:\n",
    "    settings = json.load(fp)\n",
    "temperature_c_options = list(sorted(set(np.array(settings)[:,0])))\n",
    "L_D_options= list(sorted(set(np.array(settings)[:,1])))\n",
    "injection_speed_options= list(sorted(set(np.array(settings)[:,2])))\n",
    "        "
   ]
  },
  {
   "cell_type": "code",
   "execution_count": 4,
   "metadata": {},
   "outputs": [
    {
     "data": {
      "text/plain": [
       "([150.0, 200.0, 250.0],\n",
       " [0.430448223, 0.870942813, 1.300618238, 1.728748068],\n",
       " [0.2, 0.3, 0.4])"
      ]
     },
     "execution_count": 4,
     "metadata": {},
     "output_type": "execute_result"
    }
   ],
   "source": [
    "temperature_c_options, L_D_options, injection_speed_options"
   ]
  },
  {
   "cell_type": "code",
   "execution_count": 5,
   "metadata": {},
   "outputs": [
    {
     "data": {
      "text/plain": [
       "('1e2', '1e+03')"
      ]
     },
     "execution_count": 5,
     "metadata": {},
     "output_type": "execute_result"
    }
   ],
   "source": [
    "f'1e{np.log10(100):g}', f'{1000:.0e}'"
   ]
  },
  {
   "cell_type": "code",
   "execution_count": 6,
   "metadata": {},
   "outputs": [
    {
     "name": "stdout",
     "output_type": "stream",
     "text": [
      "Processing SLURM array job.\n",
      "Using cantera input file /home/nadeau.ma/Code/HAN/CanteraModels/rocketman/0/chem_annotated.cti\n",
      "Settings array is from 0 to 35 \n"
     ]
    }
   ],
   "source": [
    "\n",
    "print(\"Processing SLURM array job.\")\n",
    "\n",
    "rocket_array_dir = 'rocketman'\n",
    "\n",
    "cti_file = os.path.join(rocket_array_dir,'0','chem_annotated.cti')\n",
    "\n",
    "print(f\"Using cantera input file {os.path.abspath(cti_file)}\")\n",
    "\n",
    "print(f\"Settings array is from 0 to {len(settings)-1} \")\n",
    "\n",
    "from collections import defaultdict\n",
    "setting_dict = dict()\n",
    "for i,(temp,ld,speed) in enumerate(settings):\n",
    "    setting_dict[(temp,ld,speed)] = i\n"
   ]
  },
  {
   "cell_type": "code",
   "execution_count": 7,
   "metadata": {
    "scrolled": true
   },
   "outputs": [
    {
     "name": "stdout",
     "output_type": "stream",
     "text": [
      "  0 150C L/D: 0.43 injection speed: 0.20 ✅ OK   7.75 mm    260-2241 ºC\n",
      "  1 150C L/D: 0.43 injection speed: 0.30 ✅ OK   0.00 mm    171-171 ºC\n",
      "  2 150C L/D: 0.43 injection speed: 0.40 ✅ OK   0.00 mm    -76--76 ºC\n",
      "  3 150C L/D: 0.87 injection speed: 0.20 ✅ OK   0.00 mm    -76--76 ºC\n",
      "  4 150C L/D: 0.87 injection speed: 0.30 ❌ FAIL!\n",
      "  5 150C L/D: 0.87 injection speed: 0.40 ✅ OK  15.68 mm    260-2116 ºC\n",
      "  6 150C L/D: 1.30 injection speed: 0.20 ❌ FAIL!\n",
      "  7 150C L/D: 1.30 injection speed: 0.30 ✅ OK  23.41 mm    171-2382 ºC\n",
      "  8 150C L/D: 1.30 injection speed: 0.40 ✅ OK  21.12 mm    170-2259 ºC\n",
      "  9 150C L/D: 1.73 injection speed: 0.20 ✅ OK  31.12 mm    169-2439 ºC\n",
      " 10 150C L/D: 1.73 injection speed: 0.30 ✅ OK   0.03 mm    -113--79 ºC\n",
      " 11 150C L/D: 1.73 injection speed: 0.40 ✅ OK  24.05 mm    258-2290 ºC\n",
      " 12 200C L/D: 0.43 injection speed: 0.20 ✅ OK   0.14 mm    313-1435 ºC\n",
      " 13 200C L/D: 0.43 injection speed: 0.30 ✅ OK   0.04 mm    321-321 ºC\n",
      " 14 200C L/D: 0.43 injection speed: 0.40 ✅ OK   0.00 mm    -72--72 ºC\n",
      " 15 200C L/D: 0.87 injection speed: 0.20 ✅ OK  15.68 mm    311-2116 ºC\n",
      " 16 200C L/D: 0.87 injection speed: 0.30 ❌ FAIL!\n",
      " 17 200C L/D: 0.87 injection speed: 0.40 ❌ FAIL!\n",
      " 18 200C L/D: 1.30 injection speed: 0.20 ✅ OK  19.10 mm    286-2358 ºC\n",
      " 19 200C L/D: 1.30 injection speed: 0.30 ✅ OK  23.41 mm    -128--75 ºC\n",
      " 20 200C L/D: 1.30 injection speed: 0.40 ❌ FAIL!\n",
      " 21 200C L/D: 1.73 injection speed: 0.20 ✅ OK   0.54 mm    -132--85 ºC\n",
      " 22 200C L/D: 1.73 injection speed: 0.30 ✅ OK  31.12 mm    333-2368 ºC\n",
      " 23 200C L/D: 1.73 injection speed: 0.40 ✅ OK  22.72 mm    307-2208 ºC\n",
      " 24 250C L/D: 0.43 injection speed: 0.20 ✅ OK   0.12 mm    419-1612 ºC\n",
      " 25 250C L/D: 0.43 injection speed: 0.30 ❌ FAIL!\n",
      " 26 250C L/D: 0.43 injection speed: 0.40 ✅ OK   0.10 mm    443-1239 ºC\n",
      " 27 250C L/D: 0.87 injection speed: 0.20 ✅ OK  14.81 mm    480-2362 ºC\n",
      " 28 250C L/D: 0.87 injection speed: 0.30 ✅ OK   6.73 mm    407-2070 ºC\n",
      " 29 250C L/D: 0.87 injection speed: 0.40 ❌ FAIL!\n",
      " 30 250C L/D: 1.30 injection speed: 0.20 ✅ OK  23.41 mm    396-2403 ºC\n",
      " 31 250C L/D: 1.30 injection speed: 0.30 ✅ OK  18.10 mm    474-2116 ºC\n",
      " 32 250C L/D: 1.30 injection speed: 0.40 ✅ OK  20.11 mm    389-2116 ºC\n",
      " 33 250C L/D: 1.73 injection speed: 0.20 ❌ FAIL!\n",
      " 34 250C L/D: 1.73 injection speed: 0.30 ✅ OK  17.36 mm    460-2321 ºC\n",
      " 35 250C L/D: 1.73 injection speed: 0.40 ✅ OK  14.69 mm    474-2116 ºC\n"
     ]
    }
   ],
   "source": [
    "data_dict = dict()\n",
    "for i,(temp,ld,speed) in enumerate(settings):\n",
    "    output_filename = os.path.join('rocketman',str(i),'surf_pfr_output_'+str(i)+'.csv')\n",
    "    print(f\"{i:3d} {temp:.0f}C L/D: {ld:.2f} injection speed: {speed:.2f}\", end=' ')\n",
    "    try:\n",
    "        data = pd.read_csv(output_filename)\n",
    "        print(f\"✅ OK  {data['Distance (mm)'].max():5.2f} mm    {data['T (C)'].min():.0f}-{data['T (C)'].max():.0f} ºC\")\n",
    "    except:\n",
    "        print(\"❌ FAIL!\")\n",
    "        data = None\n",
    "    data_dict[(temp,ld,speed)] = data"
   ]
  },
  {
   "cell_type": "code",
   "execution_count": 8,
   "metadata": {},
   "outputs": [],
   "source": [
    "def final_comps(temperature_c, ld, speed):\n",
    "\n",
    "    setting_tuple = (temperature_c, ld, speed)\n",
    "#     print(f\"Simulation number {setting_dict[setting_tuple]}\")\n",
    "    data = data_dict[setting_tuple]\n",
    "\n",
    "    species_to_plot = ['NO2(9)',\n",
    " 'NO(10)',\n",
    " 'H2(13)',\n",
    " 'O2(8)',\n",
    " 'N2(7)',\n",
    " 'CH4(15)',\n",
    " 'CO(14)', \n",
    " 'CO2(12)',                      \n",
    " 'N2O(11)',\n",
    "        ]\n",
    "    \n",
    "    mol_fracs = data[species_to_plot].tail(1)\n",
    "     \n",
    "    return mol_fracs"
   ]
  },
  {
   "cell_type": "code",
   "execution_count": 9,
   "metadata": {},
   "outputs": [],
   "source": [
    "def plot_at_T_speed(t,speed):\n",
    "    no2 = []\n",
    "    no = []\n",
    "    h2 = []\n",
    "    o2 = []\n",
    "    n2 = []\n",
    "    ch4 = []\n",
    "    co = []\n",
    "    co2 = []\n",
    "    n2o = []\n",
    "\n",
    "    fracs = []\n",
    "    \n",
    "    for ld in L_D_options:\n",
    "        #create arrays of final mol%s at each L/D option\n",
    "        try: \n",
    "            df = final_comps(t,ld,speed)\n",
    "            fracs.append(df)\n",
    "            no2.append(df['NO2(9)'].values[0]*100) #percent\n",
    "            no.append(df['NO(10)'].values[0]*100) #percent\n",
    "            h2.append(df['H2(13)'].values[0]*100) #percent\n",
    "            o2.append(df['O2(8)'].values[0]*100) #percent\n",
    "            n2.append(df['N2(7)'].values[0]*100) #percent\n",
    "            ch4.append(df['CH4(15)'].values[0]*100) #percent\n",
    "            co.append(df['CO(14)'].values[0]*100) #percent\n",
    "            co2.append(df['CO2(12)'].values[0]*100) #percent\n",
    "            n2o.append(df['N2O(11)'].values[0]*100) #percent\n",
    "            \n",
    "        except TypeError:\n",
    "            print('no data for {:}C, L/D: {:.2f}, {:.1f}g/s'.format(t,ld,speed))\n",
    "            no2.append(0)\n",
    "            no.append(0)\n",
    "            h2.append(0)\n",
    "            o2.append(0)\n",
    "            n2.append(0)\n",
    "            ch4.append(0)\n",
    "            co.append(0)\n",
    "            co2.append(0)\n",
    "            n2o.append(0)\n",
    "\n",
    "    no2_no = np.array(no2) + np.array(no)    \n",
    "    plt.plot(L_D_options,no2_no,'D', label = '$NO_2+NO$')\n",
    "    plt.plot(L_D_options,h2,'s', label = '$H_2$')\n",
    "    plt.plot(L_D_options,o2,'x', label = '$O_2$')\n",
    "    plt.plot(L_D_options,n2,'^',markerfacecolor='none', label = '$N_2$')\n",
    "    plt.plot(L_D_options,ch4,'*', label = '$CH_4$')\n",
    "    plt.plot(L_D_options,co,'o', label = '$CO$')\n",
    "    plt.plot(L_D_options,co2,'o',markerfacecolor='none', label = '$CO_2$')\n",
    "    plt.plot(L_D_options,n2o,'^', label = '$N_2O$')\n",
    "    plt.yscale(\"log\")\n",
    "    plt.xlim(0, 2)\n",
    "    plt.ylim(0.1,100)\n",
    "    plt.xticks(ticks=[0,.5,1,1.5,2])\n",
    "    plt.yticks(ticks=[0.1,1,10,100])\n",
    "    plt.title('{:}C, {:.1f}g/s'.format(t,speed))\n",
    "    plt.legend(loc=(1.02,0))\n",
    "    plt.xlabel('L/D')\n",
    "    plt.ylabel('vol%')\n",
    "    plt.grid()\n",
    "    filename = 'report-graphs_{:}C_p{:}_g_s'.format(int(t),int(speed*10))\n",
    "    plt.savefig(filename,dpi=200,bbox_inches = \"tight\")\n",
    "    plt.show()"
   ]
  },
  {
   "cell_type": "code",
   "execution_count": 10,
   "metadata": {},
   "outputs": [
    {
     "name": "stdout",
     "output_type": "stream",
     "text": [
      "no data for 150.0C, L/D: 1.30, 0.2g/s\n"
     ]
    },
    {
     "data": {
      "image/png": "[encoded data removed]",
      "text/plain": [
       "<Figure size 432x288 with 1 Axes>"
      ]
     },
     "metadata": {
      "needs_background": "light"
     },
     "output_type": "display_data"
    },
    {
     "name": "stdout",
     "output_type": "stream",
     "text": [
      "no data for 150.0C, L/D: 0.87, 0.3g/s\n"
     ]
    },
    {
     "data": {
      "image/png": "[encoded data removed]",
      "text/plain": [
       "<Figure size 432x288 with 1 Axes>"
      ]
     },
     "metadata": {
      "needs_background": "light"
     },
     "output_type": "display_data"
    },
    {
     "data": {
      "image/png": "[encoded data removed]",
      "text/plain": [
       "<Figure size 432x288 with 1 Axes>"
      ]
     },
     "metadata": {
      "needs_background": "light"
     },
     "output_type": "display_data"
    },
    {
     "data": {
      "image/png": "[encoded data removed]",
      "text/plain": [
       "<Figure size 432x288 with 1 Axes>"
      ]
     },
     "metadata": {
      "needs_background": "light"
     },
     "output_type": "display_data"
    },
    {
     "name": "stdout",
     "output_type": "stream",
     "text": [
      "no data for 200.0C, L/D: 0.87, 0.3g/s\n"
     ]
    },
    {
     "data": {
      "image/png": "[encoded data removed]",
      "text/plain": [
       "<Figure size 432x288 with 1 Axes>"
      ]
     },
     "metadata": {
      "needs_background": "light"
     },
     "output_type": "display_data"
    },
    {
     "name": "stdout",
     "output_type": "stream",
     "text": [
      "no data for 200.0C, L/D: 0.87, 0.4g/s\n",
      "no data for 200.0C, L/D: 1.30, 0.4g/s\n"
     ]
    },
    {
     "data": {
      "image/png": "[encoded data removed]",
      "text/plain": [
       "<Figure size 432x288 with 1 Axes>"
      ]
     },
     "metadata": {
      "needs_background": "light"
     },
     "output_type": "display_data"
    },
    {
     "name": "stdout",
     "output_type": "stream",
     "text": [
      "no data for 250.0C, L/D: 1.73, 0.2g/s\n"
     ]
    },
    {
     "data": {
      "image/png": "[encoded data removed]",
      "text/plain": [
       "<Figure size 432x288 with 1 Axes>"
      ]
     },
     "metadata": {
      "needs_background": "light"
     },
     "output_type": "display_data"
    },
    {
     "name": "stdout",
     "output_type": "stream",
     "text": [
      "no data for 250.0C, L/D: 0.43, 0.3g/s\n"
     ]
    },
    {
     "data": {
      "image/png": "[encoded data removed]",
      "text/plain": [
       "<Figure size 432x288 with 1 Axes>"
      ]
     },
     "metadata": {
      "needs_background": "light"
     },
     "output_type": "display_data"
    },
    {
     "name": "stdout",
     "output_type": "stream",
     "text": [
      "no data for 250.0C, L/D: 0.87, 0.4g/s\n"
     ]
    },
    {
     "data": {
      "image/png": "[encoded data removed]",
      "text/plain": [
       "<Figure size 432x288 with 1 Axes>"
      ]
     },
     "metadata": {
      "needs_background": "light"
     },
     "output_type": "display_data"
    }
   ],
   "source": [
    "T_speeds  = np.array(np.meshgrid(temperature_c_options,injection_speed_options)).T.reshape(-1,2)\n",
    "\n",
    "for i in range(len(T_speeds)):\n",
    "    t = T_speeds[i,0]\n",
    "    speed = T_speeds[i,1]\n",
    "    plot_at_T_speed(t,speed)"
   ]
  },
  {
   "cell_type": "code",
   "execution_count": 11,
   "metadata": {},
   "outputs": [],
   "source": [
    "gas=ct.Solution(cti_file)\n",
    "surf = ct.Interface(cti_file,'surface1', [gas])"
   ]
  },
  {
   "cell_type": "code",
   "execution_count": 12,
   "metadata": {},
   "outputs": [
    {
     "name": "stdout",
     "output_type": "stream",
     "text": [
      "Ne, NH3(2), NH2OH(3), HNO3(4), CH3OH(5), H2O(6), N2(7), O2(8), NO2(9), NO(10), N2O(11), CO2(12), H2(13), CO(14), CH4(15), C2H6(16), CH2O(17), CH3(18), C3H8(19), H(20), C2H5(21), HCO(22), CH3CHO(23), OH(24), C2H4(25), O(36), Ar(37), HO2(39), H2O2(40), HOCO(41), CH2(42), CH2(S)(43), CH(44), CH2OH(45), CH3O(46), HCOH(47), CH3OO(48), CH2CO(49), C2H3(50), C(51), C2H2(52), C2H(53), CH3OOH(54), CH2OOH(55), HOCH2O(56), HOCHO(57), C2H5O(58), C2H5O2(59), C2H5O2(60), cC2H4O(61), CH2CHO(62), H2CC(63), CH3CO(64), C2H4O(65), C2H5O(66), C2H3O2(67), CHCHO(68), OCHCHO(69), HCCO(70), HCCOH(71), CHCHOH(72), C2(73), C2O(74), C2H6O(75), C2H5O(76), C2H5O3(77), cC2H3O(78), C2H3O3(79), OCHCO(80), C2H6O2(81), C2H5O2(82), C2H4O2(83), OCHO(84), NH2(85), NH(86), HNO(87), H2NO(88), HON(89), N(90), NNH(91), HONO(92), HNOH(93), HNO2(94), NO3(95), N2H2(96), H2N2(97), N2H3(98), N2H4(99), HCN(100), CN(101), HNC(102), NCO(103), HOCN(104), HNCO(105), NCCN(106), HNCN(107), NCN(108), HNCNH(109), HCNO(110), CH3CN(111), CH2CN(112), CH2NH(113), H2CN(114), CH3NO(115), CH4N(116), NCNOH(117), NCNO(118), CH2NO(119), S(120), S(121), S(122), S(123), S(124), S(125), S(126), S(127), S(128), S(129), S(130), S(131), S(132), CH5N(133), CH3NH(134), HCNH(135), C2H7N(136), C2H6N(137), C2H6N(138), C2H6N(139), C2H5N(140), C2H5N(141), CH3NO(142), C2H4N(143), C2H4N(144), C2H4N(145), H2NCO(146), C2H4N(147), C2H4N(148), C2H3N(149), C2H3N(150), C2H3N(151), C2H3N(152), CHCNH(153), C2H3N(154), C2H4N(155), C2H6N(156), C2H7N(157), C2H6N(158), C2H5N(159), C2H4N(160), C2H4(200), H2NO3(243), HN2O(254), ONCDO(266), NO2NO(340), ONONO(343), CHNO3(372), N2O2(390), CHNO2(397), NOON(576), HNO(630), H3NO(634), NONDO(651), S(665), S(674), H3NO3(778), ONCO(1021), S(1108), S(1216), S(1489), S(1494), S(1740), S(2018), S(2039), S(2056), S(2083), S(2447), S(2896), N4O7(3316), S(4059), S(4541), S(5413), S(6827), N2O5(7142), S(7627), S(8965), S(9341), S(10763)\n"
     ]
    }
   ],
   "source": [
    "print(\", \".join(gas.species_names))"
   ]
  },
  {
   "cell_type": "code",
   "execution_count": 13,
   "metadata": {},
   "outputs": [
    {
     "name": "stdout",
     "output_type": "stream",
     "text": [
      "X(1), HX(26), OX(27), CH3X(28), HOX(29), H2OX(30), CO2X(31), OCX(32), CX(33), CH2X(34), CHX(35), H2NX(201), H3NX(202), H2NOX(203), H2NOX(204), H3NOX(205), NO2X(206), NO3X(207), HNO3X(208), CH3OX(209), CH3OX(210), CH4OX(211), OX(213), NOX(215), NO2X(216), NOJX(217), H2X(219), SX(494), SX(495), CHO2X(506), HNO2X(513), HNX(532), HNOX(533), NX(604), SX(605), SX(606), SX(609), H2N2X(614), N2O3X(618), SX(623), HNOX(631), H2NOX(633), HNO2X(741), SX(759), HONOX(934), SX(1000), SX(1039), SX(1043), SX(1047), SX(1048), SX(1050), SX(1063), SX(1064), HNOX(1071), SX(1163), SX(1249), N2OX(1419), CNOX(1438), SX(1527), SX(1895), SX(2232), SX(2233), SX(2465), SX(3049), SX(3050), SX(3248), SX(3939), SX(4539), SX(4540), NO3X(4718), SX(4793), SX(4794), SX(4937), SX(5513), SX(5810), SX(5814), SX(6977), SX(7604), SX(9643)\n"
     ]
    }
   ],
   "source": [
    "print(\", \".join(surf.species_names))"
   ]
  },
  {
   "cell_type": "code",
   "execution_count": 14,
   "metadata": {},
   "outputs": [],
   "source": [
    "# unit conversion factors to SI\n",
    "cm = 0.01 # m\n",
    "minute = 60.0  # s"
   ]
  },
  {
   "cell_type": "code",
   "execution_count": 15,
   "metadata": {},
   "outputs": [
    {
     "data": {
      "text/plain": [
       "2000    0.078745\n",
       "Name: N2(7), dtype: float64"
      ]
     },
     "execution_count": 15,
     "metadata": {},
     "output_type": "execute_result"
    }
   ],
   "source": [
    "# data_dict[(temp,ld,speed)] = data\n",
    "\n",
    "graph1 = data_dict[(150,.430448223,0.2)]\n",
    "graph1['N2(7)'].tail(1)"
   ]
  },
  {
   "cell_type": "code",
   "execution_count": 16,
   "metadata": {},
   "outputs": [],
   "source": [
    "#######################################################################\n",
    "# Input Parameters for combustor\n",
    "#######################################################################\n",
    "# mass_flow_rate =  0.5e-3 # kg/s\n",
    "mass_flow_rate = injection_speed_options[0]*1e-3\n",
    "\n",
    "pressure = ct.one_atm # constant\n",
    "\n",
    "ld = L_D_options[0]\n",
    "length = 1.8*cm*ld  # Catalyst bed length. 11mm\n",
    "cross_section_area = np.pi * (0.9*cm)**2  # Catalyst bed area.  18mm diameter circle."
   ]
  },
  {
   "cell_type": "code",
   "execution_count": 17,
   "metadata": {},
   "outputs": [],
   "source": [
    "NReactors = 2001\n",
    "def xlabels():\n",
    "    ticks = []\n",
    "    labels = []\n",
    "    mm = 0\n",
    "    while mm < length*1000:\n",
    "        ticks.append( int(NReactors * mm * 0.001 / length ) )\n",
    "        labels.append( str(mm) )\n",
    "        mm += 1\n",
    "    labels[-1] = labels[-1] + ' mm'\n",
    "    plt.xticks(ticks, labels)\n",
    "    plt.xlabel(\"Distance down reactor\")"
   ]
  },
  {
   "cell_type": "code",
   "execution_count": 18,
   "metadata": {},
   "outputs": [],
   "source": [
    "data = next(iter(data_dict.values()))\n",
    "specs = list(data.columns)\n",
    "specs = specs[4:-3]\n",
    "excluded = [s for s in data.columns if s not in specs]\n",
    "gas_species = [s for s in specs if 'X' not in s ]\n",
    "adsorbates = [s for s in specs if 'X' in s]"
   ]
  },
  {
   "cell_type": "code",
   "execution_count": 19,
   "metadata": {
    "scrolled": false
   },
   "outputs": [
    {
     "data": {
      "application/vnd.jupyter.widget-view+json": {
       "model_id": "16118e2bea4c4b99904016d24644804f",
       "version_major": 2,
       "version_minor": 0
      },
      "text/plain": [
       "interactive(children=(SelectionSlider(continuous_update=False, description='Initial temperature (C)', index=1,…"
      ]
     },
     "metadata": {},
     "output_type": "display_data"
    },
    {
     "data": {
      "text/plain": [
       "<function __main__.f(temperature_c, ld, speed)>"
      ]
     },
     "execution_count": 19,
     "metadata": {},
     "output_type": "execute_result"
    }
   ],
   "source": [
    "def f(temperature_c, ld, speed):\n",
    "    \n",
    "#     print(f\"Catalyst area per volume {cat_area_per_vol :.2e} m2/m3\")\n",
    "    print(f\"Initial temperature {temperature_c :.1f} ºC\")\n",
    "#     print(f\"Solver RTol {rtol :.1e}\")\n",
    "#     print(f\"Solver ATol {atol :.1e}\")\n",
    "    print(f\"L/D {ld :.2f}\")\n",
    "    print(f\"injection speed {speed :.2f}\")\n",
    "    setting_tuple = (temperature_c, ld, speed)\n",
    "    print(f\"Simulation number {setting_dict[setting_tuple]}\")\n",
    "    data = data_dict[setting_tuple]\n",
    "    \n",
    "    length = 1.8*cm *ld #diam = 18mm, L = L/D * D mm\n",
    "    data['T (C)'].plot()\n",
    "    plt.ylabel('T (C)')\n",
    "    xlabels()\n",
    "    plt.show()\n",
    "    \n",
    "    data[['gas_heat','surface_heat']].plot()\n",
    "    xlabels()\n",
    "    #plt.savefig('gas_and_surface_heat.pdf')\n",
    "    plt.show()\n",
    "\n",
    "    species_to_plot = ['NH3(2)',\n",
    " 'NH2OH(3)',\n",
    " 'HNO3(4)',\n",
    " 'CH3OH(5)',\n",
    " 'H2O(6)',\n",
    " 'N2(7)',\n",
    " 'O2(8)',\n",
    " 'NO2(9)',\n",
    " 'NO(10)',\n",
    " 'N2O(11)',\n",
    "        ]\n",
    "    data[species_to_plot].plot(title='gas mole fraction', logy=False)\n",
    "    xlabels()\n",
    "    plt.tight_layout()\n",
    "    #plt.savefig(f'gas_mole_fractions_{i}.pdf')\n",
    "    plt.show()\n",
    "    \n",
    "    main_adsorbates = data[adsorbates].max().sort_values(ascending=False)[:10].keys()\n",
    "    data[main_adsorbates].plot.area()\n",
    "    xlabels()\n",
    "    plt.xlim(0,len(data)+5)\n",
    "    plt.tight_layout()\n",
    "    plt.savefig(f'surface_coverages_top10.pdf')\n",
    "    plt.show()\n",
    "\n",
    "    return data\n",
    "    \n",
    "\n",
    "temp_ = widgets.SelectionSlider(\n",
    "    options=temperature_c_options,\n",
    "    value=temperature_c_options[1],\n",
    "    description='Initial temperature (C)',\n",
    "    disabled=False,\n",
    "    continuous_update=False,\n",
    "    orientation='horizontal',\n",
    "    readout=True\n",
    ")\n",
    "\n",
    "ld_ = widgets.SelectionSlider(\n",
    "    options=L_D_options,\n",
    "    value=L_D_options[1],\n",
    "    description='L/D',\n",
    "    disabled=False,\n",
    "    continuous_update=False,\n",
    "    orientation='horizontal',\n",
    "    readout=True\n",
    ")\n",
    "\n",
    "speed_ = widgets.SelectionSlider(\n",
    "    options=injection_speed_options,\n",
    "    value=injection_speed_options[1],\n",
    "    description='injection speed',\n",
    "    disabled=False,\n",
    "    continuous_update=False,\n",
    "    orientation='horizontal',\n",
    "    readout=True\n",
    ")\n",
    "\n",
    "\n",
    "\n",
    "interact(f, temperature_c=temp_, ld=ld_, speed=speed_)\n"
   ]
  },
  {
   "cell_type": "code",
   "execution_count": 20,
   "metadata": {},
   "outputs": [
    {
     "data": {
      "text/plain": [
       "7.748068014000001"
      ]
     },
     "execution_count": 20,
     "metadata": {},
     "output_type": "execute_result"
    }
   ],
   "source": [
    "data['Distance (mm)'].max()\n",
    "# gas_species"
   ]
  },
  {
   "cell_type": "code",
   "execution_count": 21,
   "metadata": {},
   "outputs": [],
   "source": [
    "# no2 = []\n",
    "# no = []\n",
    "# h2 = []\n",
    "# o2 = []\n",
    "# n2 = []\n",
    "# ch4 = []\n",
    "# co = []\n",
    "# co2 = []\n",
    "# n2o = []\n",
    "\n",
    "# for l in range(len(L_D_options)):\n",
    "#     no2.append(fracs[l][0][0])\n",
    "#     no.append(fracs[l][0][1])\n",
    "#     h2.append(fracs[l][0][2])\n",
    "#     o2.append(fracs[l][0][3])\n",
    "#     n2.append(fracs[l][0][4])\n",
    "#     ch4.append(fracs[l][0][5])\n",
    "#     co.append(fracs[l][0][6])\n",
    "#     co2.append(fracs[l][0][7])\n",
    "#     n2o.append(fracs[l][0][8])\n",
    "    \n",
    "# no2_no = np.array(no2) + np.array(no)\n",
    "# no2_no *=100\n",
    "# h2 = np.array(h2)*100\n",
    "# o2 = np.array(o2)*100\n",
    "# n2 = np.array(n2)*100\n",
    "# ch4 = np.array(ch4)*100\n",
    "# co = np.array(co)*100\n",
    "# co2 = np.array(co2)*100\n",
    "# n2o = np.array(n2o)*100\n",
    "\n",
    "# plt.plot(L_D_options,no2_no,'D', label = '$NO_2+NO$')\n",
    "# plt.plot(L_D_options,h2,'s', label = '$H_2$')\n",
    "# plt.plot(L_D_options,o2,'x', label = '$O_2$')\n",
    "# plt.plot(L_D_options,n2,'^',markerfacecolor='none', label = '$N_2$')\n",
    "# plt.plot(L_D_options,ch4,'*', label = '$CH_4$')\n",
    "# plt.plot(L_D_options,co,'o', label = '$CO$')\n",
    "# plt.plot(L_D_options,co2,'o',markerfacecolor='none', label = '$CO_2$')\n",
    "# plt.plot(L_D_options,n2o,'^', label = '$N_2O$')\n",
    "# plt.yscale(\"log\")\n",
    "# plt.xlim(0, 2)\n",
    "# plt.ylim(0.1,100)\n",
    "# plt.xticks(ticks=[0,.5,1,1.5,2])\n",
    "# plt.yticks(ticks=[0.1,1,10,100])\n",
    "# plt.title('{:}C, {:.1f}g/s'.format(t,speed))\n",
    "# plt.legend(loc=(1.02,0))\n",
    "# plt.xlabel('L/D')\n",
    "# plt.ylabel('vol%')\n",
    "# plt.grid()\n",
    "# plt.show()"
   ]
  },
  {
   "cell_type": "code",
   "execution_count": 22,
   "metadata": {},
   "outputs": [],
   "source": [
    "cat_area_per_vol=2.80e+05"
   ]
  },
  {
   "cell_type": "code",
   "execution_count": 23,
   "metadata": {
    "scrolled": false
   },
   "outputs": [
    {
     "name": "stdout",
     "output_type": "stream",
     "text": [
      "\n",
      "Highest net rates of progress, gas\n",
      "1792 : C2H4N(160) + O(36) => CH3(18) + H(20) + NCO(103)         0\n",
      "895 : C2H5O(66) + O2(8) <=> C2H4O(65) + HO2(39)                0\n",
      "589 : S(665) + S(674) <=> S(665) + S(7627)                     0\n",
      "590 : S(2447) <=> 2 S(1489)                                    0\n",
      "591 : NH2(85) + S(2056) <=> S(2447)                            0\n",
      "592 : C2H4(200) <=> C2H4(25)                                   0\n",
      "593 : C2H4(200) <=> C2H4(25)                                   0\n",
      "\n",
      "Highest net rates of progress, surface\n",
      "820 : SX(9643) + X(1) <=> HNO2X(513) + SX(7604)                0\n",
      "268 : H2NOX(204) + HNOX(1071) <=> HNX(532) + SX(759)           0\n",
      "278 : H3NOX(205) + HNOX(1071) <=> H2NX(201) + SX(759)          0\n",
      "277 : H3NOX(205) + HNOX(1071) <=> H2NOX(203) + H2NOX(633)         0\n",
      "276 : H2OX(30) + HNOX(1071) <=> HX(26) + SX(759)               0\n",
      "275 : H2OX(30) + HNOX(1071) <=> H2NOX(633) + HOX(29)           0\n",
      "274 : HNOX(1071) + X(1) <=> HX(26) + NOX(215)                  0\n",
      "\n",
      "Highest forward rates of progress, gas\n",
      "1792 : C2H4N(160) + O(36) => CH3(18) + H(20) + NCO(103)         0\n",
      "895 : C2H5O(66) + O2(8) <=> C2H4O(65) + HO2(39)                0\n",
      "589 : S(665) + S(674) <=> S(665) + S(7627)                     0\n",
      "590 : S(2447) <=> 2 S(1489)                                    0\n",
      "591 : NH2(85) + S(2056) <=> S(2447)                            0\n",
      "592 : C2H4(200) <=> C2H4(25)                                   0\n",
      "593 : C2H4(200) <=> C2H4(25)                                   0\n",
      "\n",
      "Highest forward rates of progress, surface\n",
      "820 : SX(9643) + X(1) <=> HNO2X(513) + SX(7604)                0\n",
      "268 : H2NOX(204) + HNOX(1071) <=> HNX(532) + SX(759)           0\n",
      "278 : H3NOX(205) + HNOX(1071) <=> H2NX(201) + SX(759)          0\n",
      "277 : H3NOX(205) + HNOX(1071) <=> H2NOX(203) + H2NOX(633)         0\n",
      "276 : H2OX(30) + HNOX(1071) <=> HX(26) + SX(759)               0\n",
      "275 : H2OX(30) + HNOX(1071) <=> H2NOX(633) + HOX(29)           0\n",
      "274 : HNOX(1071) + X(1) <=> HX(26) + NOX(215)                  0\n",
      "\n",
      "Highest reverse rates of progress, gas\n",
      "1792 : C2H4N(160) + O(36) => CH3(18) + H(20) + NCO(103)         0\n",
      "895 : C2H5O(66) + O2(8) <=> C2H4O(65) + HO2(39)                0\n",
      "589 : S(665) + S(674) <=> S(665) + S(7627)                     0\n",
      "590 : S(2447) <=> 2 S(1489)                                    0\n",
      "591 : NH2(85) + S(2056) <=> S(2447)                            0\n",
      "592 : C2H4(200) <=> C2H4(25)                                   0\n",
      "593 : C2H4(200) <=> C2H4(25)                                   0\n",
      "\n",
      "Highest reverse rates of progress, surface\n",
      "820 : SX(9643) + X(1) <=> HNO2X(513) + SX(7604)                0\n",
      "268 : H2NOX(204) + HNOX(1071) <=> HNX(532) + SX(759)           0\n",
      "278 : H3NOX(205) + HNOX(1071) <=> H2NX(201) + SX(759)          0\n",
      "277 : H3NOX(205) + HNOX(1071) <=> H2NOX(203) + H2NOX(633)         0\n",
      "276 : H2OX(30) + HNOX(1071) <=> HX(26) + SX(759)               0\n",
      "275 : H2OX(30) + HNOX(1071) <=> H2NOX(633) + HOX(29)           0\n",
      "274 : HNOX(1071) + X(1) <=> HX(26) + NOX(215)                  0\n",
      "\n",
      "Surface rates have been scaled by surface/volume ratio 2.8e+05 m2/m3\n",
      "So are on a similar basis of volume of reactor (though porosity not yet accounted for)\n",
      " kmol / m3 / s\n"
     ]
    }
   ],
   "source": [
    "def report_rates(n=8):\n",
    "    print(\"\\nHighest net rates of progress, gas\")\n",
    "    for i in np.argsort(abs(gas.net_rates_of_progress))[-1:-n:-1]: # top n in descending order\n",
    "        print(f\"{i:3d} : {gas.reaction_equation(i):48s}  {gas.net_rates_of_progress[i]:8.1g}\")\n",
    "    print(\"\\nHighest net rates of progress, surface\")\n",
    "    for i in np.argsort(abs(surf.net_rates_of_progress))[-1:-n:-1]: # top n in descending order\n",
    "        print(f\"{i:3d} : {surf.reaction_equation(i):48s}  {cat_area_per_vol*surf.net_rates_of_progress[i]:8.1g}\")\n",
    "    print(\"\\nHighest forward rates of progress, gas\")\n",
    "    for i in np.argsort(abs(gas.forward_rates_of_progress))[-1:-n:-1]: # top n in descending order\n",
    "        print(f\"{i:3d} : {gas.reaction_equation(i):48s}  {gas.forward_rates_of_progress[i]:8.1g}\")\n",
    "    print(\"\\nHighest forward rates of progress, surface\")\n",
    "    for i in np.argsort(abs(surf.forward_rates_of_progress))[-1:-n:-1]: # top n in descending order\n",
    "        print(f\"{i:3d} : {surf.reaction_equation(i):48s}  {cat_area_per_vol*surf.forward_rates_of_progress[i]:8.1g}\")\n",
    "    print(\"\\nHighest reverse rates of progress, gas\")\n",
    "    for i in np.argsort(abs(gas.reverse_rates_of_progress))[-1:-n:-1]: # top n in descending order\n",
    "        print(f\"{i:3d} : {gas.reaction_equation(i):48s}  {gas.reverse_rates_of_progress[i]:8.1g}\")\n",
    "    print(\"\\nHighest reverse rates of progress, surface\")\n",
    "    for i in np.argsort(abs(surf.reverse_rates_of_progress))[-1:-n:-1]: # top n in descending order\n",
    "        print(f\"{i:3d} : {surf.reaction_equation(i):48s}  {cat_area_per_vol*surf.reverse_rates_of_progress[i]:8.1g}\")\n",
    "\n",
    "    print(f\"\\nSurface rates have been scaled by surface/volume ratio {cat_area_per_vol:.1e} m2/m3\")\n",
    "    print(\"So are on a similar basis of volume of reactor (though porosity not yet accounted for)\")\n",
    "    print(\" kmol / m3 / s\")\n",
    "report_rates()"
   ]
  },
  {
   "cell_type": "code",
   "execution_count": 24,
   "metadata": {
    "scrolled": false
   },
   "outputs": [
    {
     "name": "stdout",
     "output_type": "stream",
     "text": [
      "\n",
      "Highest forward rate constants, gas\n",
      "296 : CH2OH(45) + NO(10) <=> S(1494)                     6.0e+24\n",
      "295 : CH2OH(45) + H2NO(88) <=> S(1108)                   6.0e+24\n",
      "382 : HCO(22) + NO(10) <=> CHNO2(397)                    6.0e+24\n",
      "437 : CH2OH(45) + HNOH(93) <=> ONCO(1021)                6.0e+24\n",
      "241 : CH2OH(45) + NO2(9) <=> S(1216)                     6.0e+24\n",
      "596 : HCO(22) + NO2(9) <=> CHNO3(372)                    6.0e+24\n",
      "474 : HCO(22) + HNOH(93) <=> ONCDO(266)                  6.0e+24\n",
      "\n",
      "Highest forward rate constants, surface\n",
      " 94 : CHX(35) + X(1) <=> CX(33) + HX(26)                 3.1e+21\n",
      " 83 : CHX(35) + HX(26) <=> CH2X(34) + X(1)               3.1e+21\n",
      "467 : CH2X(34) + HX(26) <=> CH3X(28) + X(1)              3.1e+21\n",
      "745 : SX(1043) + X(1) <=> HX(26) + SX(1050)              3.7e+20\n",
      "141 : SX(1039) + X(1) <=> HX(26) + SX(1047)              3.7e+20\n",
      "428 : CX(33) + OX(27) <=> OCX(32) + X(1)                 3.7e+18\n",
      " 15 : HX(26) + OX(27) <=> HOX(29) + X(1)                 1.4e+18\n",
      "\n",
      "Highest reverse rate constants, gas\n",
      "471 : H2NO(88) + HCO(22) <=> S(674)                      3.8e+41\n",
      "1355 : CH(44) + NH3(2) <=> 2 H(20) + H2CN(114)            2.7e+30\n",
      "1409 : H2(13) + NCN(108) <=> H(20) + HNCN(107)            1.7e+28\n",
      "1737 : CH3NO(142) + M <=> H(20) + H2NCO(146) + M          6.2e+27\n",
      "636 : CH3(18) + M <=> CH2(42) + H(20) + M                4.0e+26\n",
      "635 : CH3(18) + M <=> CH(44) + H2(13) + M                2.8e+25\n",
      "502 : H2NO3(243) + S(665) <=> HNO3(4) + S(674)           7.6e+24\n",
      "\n",
      "Highest reverse rate constants, surface\n",
      " 83 : CHX(35) + HX(26) <=> CH2X(34) + X(1)               1.6e+36\n",
      "798 : S(8965) + 2 X(1) <=> H2NX(201) + SX(4793)          1.8e+34\n",
      "353 : SX(3939) + X(1) <=> CX(33) + SX(605)               4.9e+33\n",
      "399 : S(4541) + 2 X(1) <=> H2NX(201) + SX(1064)          9.8e+32\n",
      "376 : SX(4539) + X(1) <=> NX(604) + SX(1064)             1.0e+32\n",
      "800 : SX(6977) + X(1) <=> NX(604) + SX(4793)             5.8e+31\n",
      "752 : HOX(29) + SX(1050) <=> OX(27) + SX(1043)           2.3e+31\n",
      "Units are a combination of kmol, m^3 and s, that depend on the rate expression for the reaction.\n"
     ]
    }
   ],
   "source": [
    "def report_rate_constants(n=8):\n",
    "    print(\"\\nHighest forward rate constants, gas\")\n",
    "    for i in np.argsort(abs(gas.forward_rate_constants))[-1:-n:-1]: # top n in descending order\n",
    "        print(f\"{i:3d} : {gas.reaction_equation(i):48s}  {gas.forward_rate_constants[i]:8.1e}\")\n",
    "    print(\"\\nHighest forward rate constants, surface\")\n",
    "    for i in np.argsort(abs(surf.forward_rate_constants))[-1:-n:-1]: # top n in descending order\n",
    "        print(f\"{i:3d} : {surf.reaction_equation(i):48s}  {surf.forward_rate_constants[i]:8.1e}\")\n",
    "    print(\"\\nHighest reverse rate constants, gas\")\n",
    "    for i in np.argsort(abs(gas.reverse_rate_constants))[-1:-n:-1]: # top n in descending order\n",
    "        print(f\"{i:3d} : {gas.reaction_equation(i):48s}  {gas.reverse_rate_constants[i]:8.1e}\")\n",
    "    print(\"\\nHighest reverse rate constants, surface\")\n",
    "    for i in np.argsort(abs(surf.reverse_rate_constants))[-1:-n:-1]: # top n in descending order\n",
    "        print(f\"{i:3d} : {surf.reaction_equation(i):48s}  {surf.reverse_rate_constants[i]:8.1e}\")\n",
    "\n",
    "    print(\"Units are a combination of kmol, m^3 and s, that depend on the rate expression for the reaction.\")\n",
    "report_rate_constants()"
   ]
  },
  {
   "cell_type": "code",
   "execution_count": null,
   "metadata": {},
   "outputs": [],
   "source": []
  },
  {
   "cell_type": "code",
   "execution_count": 25,
   "metadata": {},
   "outputs": [
    {
     "ename": "NameError",
     "evalue": "name 'sim' is not defined",
     "output_type": "error",
     "traceback": [
      "\u001b[0;31m---------------------------------------------------------------------------\u001b[0m",
      "\u001b[0;31mNameError\u001b[0m                                 Traceback (most recent call last)",
      "\u001b[0;32m<ipython-input-25-84481ea141d3>\u001b[0m in \u001b[0;36m<module>\u001b[0;34m\u001b[0m\n\u001b[0;32m----> 1\u001b[0;31m \u001b[0msim\u001b[0m\u001b[0;34m.\u001b[0m\u001b[0mtime\u001b[0m\u001b[0;34m\u001b[0m\u001b[0;34m\u001b[0m\u001b[0m\n\u001b[0m",
      "\u001b[0;31mNameError\u001b[0m: name 'sim' is not defined"
     ]
    }
   ],
   "source": [
    "sim.time"
   ]
  },
  {
   "cell_type": "code",
   "execution_count": null,
   "metadata": {},
   "outputs": [],
   "source": [
    "gas.TDY = TDY\n",
    "r.syncState()\n",
    "r.thermo.T"
   ]
  },
  {
   "cell_type": "code",
   "execution_count": null,
   "metadata": {},
   "outputs": [],
   "source": [
    "r.thermo.X - gas.X"
   ]
  },
  {
   "cell_type": "code",
   "execution_count": null,
   "metadata": {},
   "outputs": [],
   "source": [
    "report_rate_constants()"
   ]
  },
  {
   "cell_type": "code",
   "execution_count": null,
   "metadata": {},
   "outputs": [],
   "source": [
    "def xlabels():\n",
    "    plt.xticks([0,NReactors/4,NReactors/2,3*NReactors/4, NReactors],['0','','','',f'{length*1000:.0f} mm'])\n",
    "    plt.xlabel(\"Distance down reactor\")"
   ]
  },
  {
   "cell_type": "code",
   "execution_count": null,
   "metadata": {},
   "outputs": [],
   "source": [
    "data['T (C)'].plot()\n",
    "plt.ylabel('T (C)')\n",
    "xlabels()"
   ]
  },
  {
   "cell_type": "code",
   "execution_count": null,
   "metadata": {},
   "outputs": [],
   "source": [
    "data[['NH2OH(3)', 'HNO3(4)', 'CH3OH(5)']].plot()\n",
    "plt.ylabel('Mole fraction')\n",
    "xlabels()"
   ]
  },
  {
   "cell_type": "code",
   "execution_count": null,
   "metadata": {},
   "outputs": [],
   "source": [
    "list(data.columns)[:4]"
   ]
  },
  {
   "cell_type": "code",
   "execution_count": null,
   "metadata": {},
   "outputs": [],
   "source": [
    "data[['T (C)', 'alpha']].plot()\n",
    "xlabels()"
   ]
  },
  {
   "cell_type": "code",
   "execution_count": null,
   "metadata": {},
   "outputs": [],
   "source": [
    "ax1 = data['T (C)'].plot()\n",
    "plt.ylabel('Temperature (C)')\n",
    "xlabels()\n",
    "plt.legend()\n",
    "ax2 = ax1.twinx()\n",
    "data['alpha'].plot(ax=ax2, color='tab:orange')\n",
    "ax2.set_ylim(-2, 2)\n",
    "plt.legend()\n",
    "plt.ylabel('alpha')\n",
    "plt.tight_layout()\n",
    "plt.savefig('temperature-and-alpha.pdf')\n",
    "plt.show()"
   ]
  },
  {
   "cell_type": "code",
   "execution_count": null,
   "metadata": {},
   "outputs": [],
   "source": [
    "data.columns"
   ]
  },
  {
   "cell_type": "code",
   "execution_count": null,
   "metadata": {},
   "outputs": [],
   "source": [
    "data[['gas_heat','surface_heat']].plot()\n",
    "#plt.ylim(-1e7, 1e7)\n",
    "xlabels()\n",
    "plt.savefig('gas_and_surface_heat.pdf')\n",
    "plt.show()\n"
   ]
  },
  {
   "cell_type": "code",
   "execution_count": null,
   "metadata": {},
   "outputs": [],
   "source": [
    "ax1 = data[['gas_heat','surface_heat']].plot()\n",
    "plt.ylim(-1e9, 1e9)\n",
    "xlabels()\n",
    "plt.ylabel('Heat consumption rate (kJ/m3/s)')\n",
    "plt.legend(loc='upper left')\n",
    "ax2 = ax1.twinx()\n",
    "data['alpha'].plot(ax=ax2, style='k:', alpha=0.5)\n",
    "ax2.set_ylim(-10, 10)\n",
    "plt.legend(loc='lower right')\n",
    "plt.ylabel('alpha')\n",
    "plt.tight_layout()\n",
    "plt.savefig('heats-and-alpha.pdf')\n",
    "plt.show()"
   ]
  },
  {
   "cell_type": "code",
   "execution_count": null,
   "metadata": {},
   "outputs": [],
   "source": [
    "data[['T (C)']].plot()\n",
    "plt.ylabel('Temperature (C)')\n",
    "xlabels()\n",
    "plt.tight_layout()\n",
    "plt.savefig('temperature.pdf')\n",
    "plt.show()"
   ]
  },
  {
   "cell_type": "code",
   "execution_count": null,
   "metadata": {},
   "outputs": [],
   "source": [
    "data[['alpha']].plot(logy=True)\n",
    "xlabels()"
   ]
  },
  {
   "cell_type": "code",
   "execution_count": null,
   "metadata": {},
   "outputs": [],
   "source": [
    "data.plot(x='T (C)',y='alpha')\n"
   ]
  },
  {
   "cell_type": "code",
   "execution_count": null,
   "metadata": {},
   "outputs": [],
   "source": [
    "specs = list(data.columns)\n",
    "specs = specs[4:-1]\n",
    "\n",
    "gas_species = [s for s in specs if 'X' not in s]\n",
    "adsorbates = [s for s in specs if 'X' in s]\n",
    "\n",
    "gas_species, adsorbates"
   ]
  },
  {
   "cell_type": "code",
   "execution_count": null,
   "metadata": {},
   "outputs": [],
   "source": [
    "data[gas_species[0:5]].plot(logy=True, logx=True)"
   ]
  },
  {
   "cell_type": "code",
   "execution_count": null,
   "metadata": {
    "scrolled": false
   },
   "outputs": [],
   "source": [
    "for i in range(0,len(gas_species),10):\n",
    "    data[gas_species[i:i+10]].plot(title='gas mole fraction', logy=False)\n",
    "    xlabels()\n",
    "    plt.tight_layout()\n",
    "    plt.savefig(f'gas_mole_fractions_{i}.pdf')\n",
    "    plt.show()\n",
    "    \n",
    "for i in range(0,len(adsorbates),10):\n",
    "    data[adsorbates[i:i+10]].plot(title='surface coverages', logy=False)\n",
    "    xlabels()\n",
    "    plt.tight_layout()\n",
    "    plt.savefig(f'surface_coverages_{i}.pdf')\n",
    "    plt.show()"
   ]
  },
  {
   "cell_type": "code",
   "execution_count": null,
   "metadata": {},
   "outputs": [],
   "source": []
  },
  {
   "cell_type": "code",
   "execution_count": null,
   "metadata": {},
   "outputs": [],
   "source": []
  },
  {
   "cell_type": "code",
   "execution_count": null,
   "metadata": {},
   "outputs": [],
   "source": []
  },
  {
   "cell_type": "code",
   "execution_count": null,
   "metadata": {},
   "outputs": [],
   "source": []
  }
 ],
 "metadata": {
  "kernelspec": {
   "display_name": "Python 3",
   "language": "python",
   "name": "python3"
  },
  "language_info": {
   "codemirror_mode": {
    "name": "ipython",
    "version": 3
   },
   "file_extension": ".py",
   "mimetype": "text/x-python",
   "name": "python",
   "nbconvert_exporter": "python",
   "pygments_lexer": "ipython3",
   "version": "3.7.5"
  }
 },
 "nbformat": 4,
 "nbformat_minor": 2
}
