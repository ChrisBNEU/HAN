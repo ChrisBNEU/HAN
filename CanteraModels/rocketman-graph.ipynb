{
 "cells": [
  {
   "cell_type": "markdown",
   "metadata": {},
   "source": [
    "# Plug flow reactor simulation of Thruster\n",
    "\n",
    "![caption](Graphics/thruster-details.png)\n"
   ]
  },
  {
   "cell_type": "code",
   "execution_count": 5,
   "metadata": {},
   "outputs": [],
   "source": [
    "import cantera as ct\n",
    "import numpy as np\n",
    "\n",
    "from matplotlib import pyplot as plt\n",
    "import csv\n",
    "import os\n",
    "import re\n",
    "import itertools\n",
    "import pandas as pd\n",
    "from collections import defaultdict"
   ]
  },
  {
   "cell_type": "code",
   "execution_count": 6,
   "metadata": {},
   "outputs": [],
   "source": [
    "# input file containing the surface reaction mechanism\n",
    "cti_file = '../RMG-model/cantera/chem_annotated.cti'\n",
    "# cti_file = 'chem_annotated.cti'\n",
    "# cti_file = '../RMG-model/cantera/chem0050.cti'"
   ]
  },
  {
   "cell_type": "code",
   "execution_count": 7,
   "metadata": {},
   "outputs": [],
   "source": [
    "#Default if not using SLURM array\n",
    "temperature_c = 150\n",
    "L_D = 0.430448223\n",
    "injection_speed = 0.2\n",
    "\n",
    "# temperature_c = 550\n",
    "# L_D = 0.6111111111\n",
    "# injection_speed = 0.5"
   ]
  },
  {
   "cell_type": "code",
   "execution_count": 8,
   "metadata": {},
   "outputs": [
    {
     "name": "stdout",
     "output_type": "stream",
     "text": [
      "Settings array is from 0 to 35 \n"
     ]
    }
   ],
   "source": [
    "temperature_c_options = [150, 200, 250] # ºC\n",
    "# rtol_options = [1e-6, 1e-9, 1e-11]\n",
    "# atol_options = [1e-15, 1e-18, 1e-21, 1e-24]\n",
    "L_D_options = [0.430448223, 0.870942813, 1.300618238, 1.728748068]\n",
    "injection_speed_options = [0.2, 0.3, 0.4]\n",
    "\n",
    "\n",
    "settings  = list(itertools.product(temperature_c_options,\n",
    "                                   L_D_options,\n",
    "                                   injection_speed_options\n",
    "                                  ))\n",
    "print(f\"Settings array is from 0 to {len(settings)-1} \")"
   ]
  },
  {
   "cell_type": "code",
   "execution_count": 9,
   "metadata": {},
   "outputs": [
    {
     "name": "stdout",
     "output_type": "stream",
     "text": [
      "#SBATCH --array=0-35%36\n",
      "\n"
     ]
    }
   ],
   "source": [
    "with open('rocketman-graph_array.sh') as f:\n",
    "    for l in f:\n",
    "        m = re.match('#SBATCH --array=(\\d+)-(\\d+)', l)\n",
    "        if m:\n",
    "            print(l)\n",
    "            start = int(m.group(1))\n",
    "            end = int(m.group(2))\n",
    "assert (start, end) == (0, len(settings)-1 ), \"SLURM array doesn't match settings array\""
   ]
  },
  {
   "cell_type": "code",
   "execution_count": 10,
   "metadata": {},
   "outputs": [],
   "source": [
    "task_number = int(os.getenv('SLURM_ARRAY_TASK_ID', default='0'))\n",
    "task_min = int(os.getenv('SLURM_ARRAY_TASK_MIN', default='0'))\n",
    "task_max = int(os.getenv('SLURM_ARRAY_TASK_MAX', default='0'))\n",
    "\n",
    "if task_max > 0:\n",
    "    print(\"Using SLURM array job.\")\n",
    "    \n",
    "    cti_file = 'chem_annotated.cti'\n",
    "    print(f\"Using cantera input file {os.path.abspath(cti_file)}\")\n",
    "\n",
    "    print(f\"Task ID {task_number} in array from {task_min} to {task_max}\")\n",
    "\n",
    "    temperature_c, L_D, injection_speed = settings[task_number]"
   ]
  },
  {
   "cell_type": "code",
   "execution_count": 15,
   "metadata": {},
   "outputs": [
    {
     "ename": "FileNotFoundError",
     "evalue": "[Errno 2] No such file or directory: 'rocketman/settings.json'",
     "output_type": "error",
     "traceback": [
      "\u001b[0;31m---------------------------------------------------------------------------\u001b[0m",
      "\u001b[0;31mFileNotFoundError\u001b[0m                         Traceback (most recent call last)",
      "\u001b[0;32m<ipython-input-15-fe2ff7610e78>\u001b[0m in \u001b[0;36m<module>\u001b[0;34m\u001b[0m\n\u001b[1;32m      2\u001b[0m     \u001b[0;32mimport\u001b[0m \u001b[0mjson\u001b[0m\u001b[0;34m\u001b[0m\u001b[0;34m\u001b[0m\u001b[0m\n\u001b[1;32m      3\u001b[0m     \u001b[0msetting_file_directory\u001b[0m \u001b[0;34m=\u001b[0m \u001b[0;34m'..'\u001b[0m \u001b[0;32mif\u001b[0m \u001b[0mtask_max\u001b[0m \u001b[0;32melse\u001b[0m \u001b[0;34m'rocketman'\u001b[0m\u001b[0;34m\u001b[0m\u001b[0;34m\u001b[0m\u001b[0m\n\u001b[0;32m----> 4\u001b[0;31m     \u001b[0;32mwith\u001b[0m \u001b[0mopen\u001b[0m\u001b[0;34m(\u001b[0m\u001b[0mos\u001b[0m\u001b[0;34m.\u001b[0m\u001b[0mpath\u001b[0m\u001b[0;34m.\u001b[0m\u001b[0mjoin\u001b[0m\u001b[0;34m(\u001b[0m\u001b[0msetting_file_directory\u001b[0m\u001b[0;34m,\u001b[0m\u001b[0;34m'settings.json'\u001b[0m\u001b[0;34m)\u001b[0m\u001b[0;34m,\u001b[0m\u001b[0;34m'w'\u001b[0m\u001b[0;34m)\u001b[0m \u001b[0;32mas\u001b[0m \u001b[0mfp\u001b[0m\u001b[0;34m:\u001b[0m\u001b[0;34m\u001b[0m\u001b[0;34m\u001b[0m\u001b[0m\n\u001b[0m\u001b[1;32m      5\u001b[0m         \u001b[0mjson\u001b[0m\u001b[0;34m.\u001b[0m\u001b[0mdump\u001b[0m\u001b[0;34m(\u001b[0m\u001b[0msettings\u001b[0m\u001b[0;34m,\u001b[0m \u001b[0mfp\u001b[0m\u001b[0;34m)\u001b[0m\u001b[0;34m\u001b[0m\u001b[0;34m\u001b[0m\u001b[0m\n",
      "\u001b[0;31mFileNotFoundError\u001b[0m: [Errno 2] No such file or directory: 'rocketman/settings.json'"
     ]
    }
   ],
   "source": [
    "if task_number == 0:\n",
    "    import json\n",
    "    setting_file_directory = '..' if task_max else 'rocketman'\n",
    "    with open(os.path.join(setting_file_directory,'settings.json'),'w') as fp:\n",
    "        json.dump(settings, fp)"
   ]
  },
  {
   "cell_type": "code",
   "execution_count": 18,
   "metadata": {},
   "outputs": [
    {
     "name": "stdout",
     "output_type": "stream",
     "text": [
      "Initial temperature      150.0 ºC\n",
      "L/D                      4.3e-01\n",
      "Injection speed          2.0e-01\n"
     ]
    }
   ],
   "source": [
    "print(f\"Initial temperature      {temperature_c :.1f} ºC\")\n",
    "print(f\"L/D                      {L_D :.1e}\")\n",
    "print(f\"Injection speed          {injection_speed :.1e}\")"
   ]
  },
  {
   "cell_type": "code",
   "execution_count": 19,
   "metadata": {},
   "outputs": [
    {
     "name": "stdout",
     "output_type": "stream",
     "text": [
      "\n",
      "  gas:\n",
      "\n",
      "       temperature             300  K\n",
      "          pressure          101325  Pa\n",
      "           density         0.81974  kg/m^3\n",
      "  mean mol. weight         20.1797  amu\n",
      "\n",
      "                          1 kg            1 kmol\n",
      "                       -----------      ------------\n",
      "          enthalpy          1905.6        3.845e+04     J\n",
      "   internal energy      -1.217e+05       -2.456e+06     J\n",
      "           entropy          7257.7        1.465e+05     J/K\n",
      "    Gibbs function     -2.1754e+06        -4.39e+07     J\n",
      " heat capacity c_p          1030.1        2.079e+04     J/K\n",
      " heat capacity c_v          618.03        1.247e+04     J/K\n",
      "\n",
      "                           X                 Y          Chem. Pot. / RT\n",
      "                     -------------     ------------     ------------\n",
      "                Ne              1                1         -17.5994\n",
      "     [ +186 minor]              0                0\n",
      "\n"
     ]
    }
   ],
   "source": [
    "gas=ct.Solution(cti_file)\n",
    "surf = ct.Interface(cti_file,'surface1', [gas])\n",
    "gas()"
   ]
  },
  {
   "cell_type": "code",
   "execution_count": 20,
   "metadata": {},
   "outputs": [
    {
     "name": "stdout",
     "output_type": "stream",
     "text": [
      "Ne, NH3(2), NH2OH(3), HNO3(4), CH3OH(5), H2O(6), N2(7), O2(8), NO2(9), NO(10), N2O(11), CO2(12), H2(13), CO(14), CH4(15), C2H6(16), CH2O(17), CH3(18), C3H8(19), H(20), C2H5(21), HCO(22), CH3CHO(23), OH(24), C2H4(25), O(36), Ar(37), HO2(39), H2O2(40), HOCO(41), CH2(42), CH2(S)(43), CH(44), CH2OH(45), CH3O(46), HCOH(47), CH3OO(48), CH2CO(49), C2H3(50), C(51), C2H2(52), C2H(53), CH3OOH(54), CH2OOH(55), HOCH2O(56), HOCHO(57), C2H5O(58), C2H5O2(59), C2H5O2(60), cC2H4O(61), CH2CHO(62), H2CC(63), CH3CO(64), C2H4O(65), C2H5O(66), C2H3O2(67), CHCHO(68), OCHCHO(69), HCCO(70), HCCOH(71), CHCHOH(72), C2(73), C2O(74), C2H6O(75), C2H5O(76), C2H5O3(77), cC2H3O(78), C2H3O3(79), OCHCO(80), C2H6O2(81), C2H5O2(82), C2H4O2(83), OCHO(84), NH2(85), NH(86), HNO(87), H2NO(88), HON(89), N(90), NNH(91), HONO(92), HNOH(93), HNO2(94), NO3(95), N2H2(96), H2N2(97), N2H3(98), N2H4(99), HCN(100), CN(101), HNC(102), NCO(103), HOCN(104), HNCO(105), NCCN(106), HNCN(107), NCN(108), HNCNH(109), HCNO(110), CH3CN(111), CH2CN(112), CH2NH(113), H2CN(114), CH3NO(115), CH4N(116), NCNOH(117), NCNO(118), CH2NO(119), S(120), S(121), S(122), S(123), S(124), S(125), S(126), S(127), S(128), S(129), S(130), S(131), S(132), CH5N(133), CH3NH(134), HCNH(135), C2H7N(136), C2H6N(137), C2H6N(138), C2H6N(139), C2H5N(140), C2H5N(141), CH3NO(142), C2H4N(143), C2H4N(144), C2H4N(145), H2NCO(146), C2H4N(147), C2H4N(148), C2H3N(149), C2H3N(150), C2H3N(151), C2H3N(152), CHCNH(153), C2H3N(154), C2H4N(155), C2H6N(156), C2H7N(157), C2H6N(158), C2H5N(159), C2H4N(160), C2H4(200), H2NO3(243), HN2O(254), ONCDO(266), NO2NO(340), ONONO(343), CHNO3(372), N2O2(390), CHNO2(397), NOON(576), HNO(630), H3NO(634), NONDO(651), S(665), S(674), H3NO3(778), ONCO(1021), S(1108), S(1216), S(1489), S(1494), S(1740), S(2018), S(2039), S(2056), S(2083), S(2447), S(2896), N4O7(3316), S(4059), S(4541), S(5413), S(6827), N2O5(7142), S(7627), S(8965), S(9341), S(10763)\n"
     ]
    }
   ],
   "source": [
    "print(\", \".join(gas.species_names))"
   ]
  },
  {
   "cell_type": "code",
   "execution_count": 21,
   "metadata": {},
   "outputs": [
    {
     "name": "stdout",
     "output_type": "stream",
     "text": [
      "X(1), HX(26), OX(27), CH3X(28), HOX(29), H2OX(30), CO2X(31), OCX(32), CX(33), CH2X(34), CHX(35), H2NX(201), H3NX(202), H2NOX(203), H2NOX(204), H3NOX(205), NO2X(206), NO3X(207), HNO3X(208), CH3OX(209), CH3OX(210), CH4OX(211), OX(213), NOX(215), NO2X(216), NOJX(217), H2X(219), SX(494), SX(495), CHO2X(506), HNO2X(513), HNX(532), HNOX(533), NX(604), SX(605), SX(606), SX(609), H2N2X(614), N2O3X(618), SX(623), HNOX(631), H2NOX(633), HNO2X(741), SX(759), HONOX(934), SX(1000), SX(1039), SX(1043), SX(1047), SX(1048), SX(1050), SX(1063), SX(1064), HNOX(1071), SX(1163), SX(1249), N2OX(1419), CNOX(1438), SX(1527), SX(1895), SX(2232), SX(2233), SX(2465), SX(3049), SX(3050), SX(3248), SX(3939), SX(4539), SX(4540), NO3X(4718), SX(4793), SX(4794), SX(4937), SX(5513), SX(5810), SX(5814), SX(6977), SX(7604), SX(9643)\n"
     ]
    }
   ],
   "source": [
    "print(\", \".join(surf.species_names))"
   ]
  },
  {
   "cell_type": "markdown",
   "metadata": {},
   "source": [
    "\n",
    "\n",
    "This example solves a plug flow reactor problem, with coupled surface and gas chemistry.\n",
    "\n",
    "\n",
    "\n"
   ]
  },
  {
   "cell_type": "code",
   "execution_count": 22,
   "metadata": {},
   "outputs": [],
   "source": [
    "# unit conversion factors to SI\n",
    "cm = 0.01 # m\n",
    "minute = 60.0  # s"
   ]
  },
  {
   "cell_type": "code",
   "execution_count": 23,
   "metadata": {},
   "outputs": [
    {
     "name": "stdout",
     "output_type": "stream",
     "text": [
      "Catalyst specific area 1.40e+02 m2/g\n",
      "Catalyst density 2.00e+06 g/m3\n",
      "Catalyst area per total reactor volume 2.80e+08 m/m3\n",
      "Catalyst area per gas volume 7.37e+08 m/m3\n",
      "\n",
      "Catalyst area per volume in use for this simulation: 2.80e+05 m2/m3\n"
     ]
    }
   ],
   "source": [
    "#######################################################################\n",
    "# Input Parameters for combustor\n",
    "#######################################################################\n",
    "# mass_flow_rate =  0.5e-3 # kg/s\n",
    "mass_flow_rate = injection_speed*1e-3\n",
    "# temperature_c = 550.0  # Initial Temperature in Celsius\n",
    "pressure = ct.one_atm # constant\n",
    "\n",
    "# length = 1.1 * cm  # Catalyst bed length. 11mm\n",
    "length = 1.8*cm * L_D #diam = 18mm, L = L/D * D mm\n",
    "cross_section_area = np.pi * (0.9*cm)**2  # Catalyst bed area.  18mm diameter circle.\n",
    "\n",
    "### Catalyst properties. Some are hard to estimate\n",
    "# if we can, update this lit value or verify the value richard calculated\n",
    "porosity = 0.38  # Catalyst bed porosity (0.38)\n",
    "# Al2O3 particles are about 0.7mm diameter\n",
    "cat_specific_area = 140 # m2/g\n",
    "print(f\"Catalyst specific area {cat_specific_area :.2e} m2/g\")\n",
    "cat_density = 2 / cm**3 # 2 g/m3\n",
    "print(f\"Catalyst density {cat_density :.2e} g/m3\")\n",
    "cat_area_per_reactor_vol = cat_specific_area * cat_density # m2/m3\n",
    "print(f\"Catalyst area per total reactor volume {cat_area_per_reactor_vol :.2e} m/m3\")\n",
    "cat_area_per_gas_vol = cat_area_per_reactor_vol / porosity # porosity is gas vol per reactor vol\n",
    "print(f\"Catalyst area per gas volume {cat_area_per_gas_vol :.2e} m/m3\")\n",
    "\n",
    "# cat_area_per_vol =  cat_area_per_gas_vol * 1e-3 # REDUCE BY A LOT\n",
    "\n",
    "cat_area_per_vol = 2.80e+05 #Mary Lou changed this because it made sim. work\n",
    "print(f\"\\nCatalyst area per volume in use for this simulation: {cat_area_per_vol :.2e} m2/m3\")"
   ]
  },
  {
   "cell_type": "code",
   "execution_count": 30,
   "metadata": {},
   "outputs": [
    {
     "name": "stdout",
     "output_type": "stream",
     "text": [
      "0.007748068014000001 0.0002 150\n",
      "0.09333333333333334\n"
     ]
    }
   ],
   "source": [
    "print(length, mass_flow_rate, temperature_c)\n",
    "print(cat_area_per_vol/3e6)\n",
    "# print(residual_threshold)"
   ]
  },
  {
   "cell_type": "code",
   "execution_count": 31,
   "metadata": {},
   "outputs": [],
   "source": [
    "output_filename = 'surf_pfr_output_{:}.csv'.format(task_number)\n",
    "\n",
    "# The PFR will be simulated by a chain of 'NReactors' stirred reactors.\n",
    "NReactors = 2001\n",
    "# dt = 1.0\n",
    "\n",
    "#####################################################################\n",
    "\n",
    "temperature_kelvin = temperature_c + 273.15  # convert to Kelvin\n",
    "\n",
    "# import the gas model and set the initial conditions\n",
    "gas = ct.Solution(cti_file, 'gas')\n",
    "\n",
    "# From HAN-molefractions.ipynb\n",
    "feed_mole_fractions = {\n",
    "    'NH3(2)': 0.031,\n",
    "    'NH2OH(3)': 0.32,\n",
    "    'HNO3(4)': 0.35,\n",
    "    'CH3OH(5)': 0.21,\n",
    "    'H2O(6)': 0.09,\n",
    "}\n",
    "gas.TPX = temperature_kelvin, pressure, feed_mole_fractions\n",
    "\n",
    "# import the surface model\n",
    "surf = ct.Interface(cti_file,'surface1', [gas])\n",
    "surf.TP = temperature_kelvin, pressure\n",
    "surf.coverages = 'X(1):1.0'\n",
    "\n",
    "r_len = length/(NReactors-1) \n",
    "r_vol = cross_section_area * r_len * porosity # gas volume\n",
    "\n",
    "# catalyst area in one reactor\n",
    "cat_area = cat_area_per_vol * r_vol\n",
    "\n",
    "# Not sure we need the velocity\n",
    "velocity = mass_flow_rate / (gas.density * cross_section_area)"
   ]
  },
  {
   "cell_type": "code",
   "execution_count": 32,
   "metadata": {},
   "outputs": [],
   "source": [
    "def fix_rates(phase, limit):\n",
    "    \"\"\"\n",
    "    Fix reverse reaction rates that are too fast.\n",
    "    \"\"\"\n",
    "    for i in np.argsort(abs(phase.reverse_rate_constants))[-1:0:-1]:\n",
    "        if phase.reverse_rate_constants[i] < limit:\n",
    "            break\n",
    "        print(f\"Before: {i:3d} : {phase.reaction_equation(i):48s}  {phase.reverse_rate_constants[i]:8.1e}\")\n",
    "        multiplier = limit / phase.reverse_rate_constants[i]\n",
    "        phase.set_multiplier(multiplier, i)\n",
    "        print(f\"After:  {i:3d} : {phase.reaction_equation(i):48s}  {phase.reverse_rate_constants[i]:8.1e}\")\n",
    "        \n",
    "# fix_rates(gas, 1e18)\n",
    "# fix_rates(surf, 1e21)"
   ]
  },
  {
   "cell_type": "raw",
   "metadata": {
    "scrolled": false
   },
   "source": [
    "# To find the starting coverages, we run the gas to equilibrium,\n",
    "# (i.e mostly burned products)  then put that in steady state\n",
    "# with the surface.\n",
    "TPY = gas.TPY # store to restore\n",
    "gas.equilibrate('TP')\n",
    "r = ct.IdealGasReactor(gas, energy='off')\n",
    "r.volume = r_vol\n",
    "rsurf = ct.ReactorSurface(surf, r, A=cat_area)\n",
    "sim = ct.ReactorNet([r])\n",
    "plt.plot(sim.advance_to_steady_state(return_residuals=True))\n",
    "plt.show()\n",
    "surf()\n",
    "starting_coverages = surf.coverages\n",
    "\n",
    "print(\"At equilibrium\")\n",
    "plt.barh(np.arange(len(gas.delta_gibbs)),gas.delta_gibbs)\n",
    "plt.barh(len(gas.delta_gibbs)+np.arange(len(surf.delta_gibbs)),surf.delta_gibbs)\n",
    "plt.title(\"∆G\")\n",
    "plt.show()\n",
    "plt.barh(np.arange(len(gas.delta_enthalpy)),gas.delta_enthalpy)\n",
    "plt.barh(len(gas.delta_enthalpy)+np.arange(len(surf.delta_enthalpy)),surf.delta_enthalpy)\n",
    "plt.title('∆H')\n",
    "plt.show()\n",
    "plt.barh(np.arange(len(gas.delta_entropy)),gas.delta_entropy)\n",
    "plt.barh(len(gas.delta_entropy)+np.arange(len(surf.delta_entropy)),surf.delta_entropy)\n",
    "plt.title('∆S')\n",
    "plt.show()\n",
    "\n",
    "gas.TPY = TPY # restore to starting conditions\n",
    "del(r, rsurf)\n",
    "starting_coverages"
   ]
  },
  {
   "cell_type": "raw",
   "metadata": {},
   "source": [
    "plt.barh(np.arange(len(gas.chemical_potentials)),gas.chemical_potentials)"
   ]
  },
  {
   "cell_type": "raw",
   "metadata": {},
   "source": [
    "# gas.equilibrate('TP')"
   ]
  },
  {
   "cell_type": "raw",
   "metadata": {},
   "source": [
    "plt.barh(np.arange(len(gas.delta_gibbs)),gas.delta_gibbs)\n",
    "plt.barh(len(gas.delta_gibbs)+np.arange(len(surf.delta_gibbs)),surf.delta_gibbs)\n",
    "plt.title(\"∆G\")\n",
    "plt.show()\n",
    "plt.barh(np.arange(len(gas.delta_enthalpy)),gas.delta_enthalpy)\n",
    "plt.barh(len(gas.delta_enthalpy)+np.arange(len(surf.delta_enthalpy)),surf.delta_enthalpy)\n",
    "plt.title('∆H')\n",
    "plt.show()\n",
    "plt.barh(np.arange(len(gas.delta_entropy)),gas.delta_entropy)\n",
    "plt.barh(len(gas.delta_entropy)+np.arange(len(surf.delta_entropy)),surf.delta_entropy)\n",
    "plt.title('∆S')\n",
    "plt.show()"
   ]
  },
  {
   "cell_type": "raw",
   "metadata": {},
   "source": [
    "plt.plot(gas.concentrations, gas.chemical_potentials, 'o')"
   ]
  },
  {
   "cell_type": "raw",
   "metadata": {},
   "source": [
    "plt.plot(surf.concentrations, surf.chemical_potentials, 'o')"
   ]
  },
  {
   "cell_type": "code",
   "execution_count": 33,
   "metadata": {
    "scrolled": false
   },
   "outputs": [
    {
     "name": "stdout",
     "output_type": "stream",
     "text": [
      "\n",
      "Highest net rates of progress, gas\n",
      " 47 : NO2(9) + OH(24) (+M) <=> HNO3(4) (+M)               -1e-11\n",
      "275 : NH2OH(3) (+M) <=> NH2(85) + OH(24) (+M)              3e-20\n",
      " 88 : H2NO(88) + H2NO3(243) <=> HNO3(4) + NH2OH(3)        -5e-26\n",
      " 61 : H(20) + H2NO(88) <=> NH2OH(3)                       -6e-27\n",
      " 87 : H2NO3(243) + HNOH(93) <=> HNO3(4) + NH2OH(3)        -5e-31\n",
      " 70 : H(20) + HNOH(93) <=> NH2OH(3)                       -1e-31\n",
      " 42 : CH3(18) + OH(24) <=> CH3OH(5)                       -4e-34\n",
      "\n",
      "Highest net rates of progress, surface\n",
      "  0 : H2O(6) + X(1) <=> H2OX(30)                           1e+05\n",
      "  3 : NH2OH(3) + X(1) <=> H3NOX(205)                       3e+04\n",
      "  4 : HNO3(4) + X(1) <=> HNO3X(208)                        3e+04\n",
      "  5 : CH3OH(5) + X(1) <=> CH4OX(211)                       2e+04\n",
      "  6 : NH2OH(3) + 2 X(1) <=> H2NOX(204) + HX(26)            1e+04\n",
      " 71 : CH3OH(5) + 2 X(1) <=> CH3OX(210) + HX(26)            1e+04\n",
      "  8 : NH2OH(3) + 2 X(1) <=> H2NOX(203) + HX(26)            5e+03\n",
      "\n",
      "Highest forward rates of progress, gas\n",
      "275 : NH2OH(3) (+M) <=> NH2(85) + OH(24) (+M)              3e-20\n",
      " 34 : H2O(6) + M <=> H(20) + OH(24) + M                    3e-51\n",
      " 35 : 2 H2O(6) <=> H(20) + H2O(6) + OH(24)                 2e-51\n",
      "688 : CH3OH(5) (+M) <=> CH2(S)(43) + H2O(6) (+M)           4e-57\n",
      "1792 : C2H4N(160) + O(36) => CH3(18) + H(20) + NCO(103)         0\n",
      "601 : S(4059) <=> NO2NO(340) + S(1489)                         0\n",
      "592 : C2H4(200) <=> C2H4(25)                                   0\n",
      "\n",
      "Highest forward rates of progress, surface\n",
      "  0 : H2O(6) + X(1) <=> H2OX(30)                           1e+05\n",
      "  3 : NH2OH(3) + X(1) <=> H3NOX(205)                       3e+04\n",
      "  4 : HNO3(4) + X(1) <=> HNO3X(208)                        3e+04\n",
      "  5 : CH3OH(5) + X(1) <=> CH4OX(211)                       2e+04\n",
      "  6 : NH2OH(3) + 2 X(1) <=> H2NOX(204) + HX(26)            1e+04\n",
      " 71 : CH3OH(5) + 2 X(1) <=> CH3OX(210) + HX(26)            1e+04\n",
      "  8 : NH2OH(3) + 2 X(1) <=> H2NOX(203) + HX(26)            5e+03\n",
      "\n",
      "Highest reverse rates of progress, gas\n",
      " 47 : NO2(9) + OH(24) (+M) <=> HNO3(4) (+M)                1e-11\n",
      " 88 : H2NO(88) + H2NO3(243) <=> HNO3(4) + NH2OH(3)         5e-26\n",
      " 61 : H(20) + H2NO(88) <=> NH2OH(3)                        6e-27\n",
      " 87 : H2NO3(243) + HNOH(93) <=> HNO3(4) + NH2OH(3)         5e-31\n",
      " 70 : H(20) + HNOH(93) <=> NH2OH(3)                        1e-31\n",
      " 42 : CH3(18) + OH(24) <=> CH3OH(5)                        4e-34\n",
      "226 : CH2OH(45) + H2NO3(243) <=> CH3OH(5) + HNO3(4)        4e-37\n",
      "\n",
      "Highest reverse rates of progress, surface\n",
      "820 : SX(9643) + X(1) <=> HNO2X(513) + SX(7604)                0\n",
      "268 : H2NOX(204) + HNOX(1071) <=> HNX(532) + SX(759)           0\n",
      "278 : H3NOX(205) + HNOX(1071) <=> H2NX(201) + SX(759)          0\n",
      "277 : H3NOX(205) + HNOX(1071) <=> H2NOX(203) + H2NOX(633)         0\n",
      "276 : H2OX(30) + HNOX(1071) <=> HX(26) + SX(759)               0\n",
      "275 : H2OX(30) + HNOX(1071) <=> H2NOX(633) + HOX(29)           0\n",
      "274 : HNOX(1071) + X(1) <=> HX(26) + NOX(215)                  0\n",
      "\n",
      "Surface rates have been scaled by surface/volume ratio 2.8e+05 m2/m3\n",
      "So are on a similar basis of volume of reactor (though porosity not yet accounted for)\n",
      " kmol / m3 / s\n"
     ]
    }
   ],
   "source": [
    "def report_rates(n=8):\n",
    "    print(\"\\nHighest net rates of progress, gas\")\n",
    "    for i in np.argsort(abs(gas.net_rates_of_progress))[-1:-n:-1]: # top n in descending order\n",
    "        print(f\"{i:3d} : {gas.reaction_equation(i):48s}  {gas.net_rates_of_progress[i]:8.1g}\")\n",
    "    print(\"\\nHighest net rates of progress, surface\")\n",
    "    for i in np.argsort(abs(surf.net_rates_of_progress))[-1:-n:-1]: # top n in descending order\n",
    "        print(f\"{i:3d} : {surf.reaction_equation(i):48s}  {cat_area_per_vol*surf.net_rates_of_progress[i]:8.1g}\")\n",
    "    print(\"\\nHighest forward rates of progress, gas\")\n",
    "    for i in np.argsort(abs(gas.forward_rates_of_progress))[-1:-n:-1]: # top n in descending order\n",
    "        print(f\"{i:3d} : {gas.reaction_equation(i):48s}  {gas.forward_rates_of_progress[i]:8.1g}\")\n",
    "    print(\"\\nHighest forward rates of progress, surface\")\n",
    "    for i in np.argsort(abs(surf.forward_rates_of_progress))[-1:-n:-1]: # top n in descending order\n",
    "        print(f\"{i:3d} : {surf.reaction_equation(i):48s}  {cat_area_per_vol*surf.forward_rates_of_progress[i]:8.1g}\")\n",
    "    print(\"\\nHighest reverse rates of progress, gas\")\n",
    "    for i in np.argsort(abs(gas.reverse_rates_of_progress))[-1:-n:-1]: # top n in descending order\n",
    "        print(f\"{i:3d} : {gas.reaction_equation(i):48s}  {gas.reverse_rates_of_progress[i]:8.1g}\")\n",
    "    print(\"\\nHighest reverse rates of progress, surface\")\n",
    "    for i in np.argsort(abs(surf.reverse_rates_of_progress))[-1:-n:-1]: # top n in descending order\n",
    "        print(f\"{i:3d} : {surf.reaction_equation(i):48s}  {cat_area_per_vol*surf.reverse_rates_of_progress[i]:8.1g}\")\n",
    "\n",
    "    print(f\"\\nSurface rates have been scaled by surface/volume ratio {cat_area_per_vol:.1e} m2/m3\")\n",
    "    print(\"So are on a similar basis of volume of reactor (though porosity not yet accounted for)\")\n",
    "    print(\" kmol / m3 / s\")\n",
    "report_rates()"
   ]
  },
  {
   "cell_type": "code",
   "execution_count": 34,
   "metadata": {
    "scrolled": false
   },
   "outputs": [
    {
     "name": "stdout",
     "output_type": "stream",
     "text": [
      "\n",
      "Highest forward rate constants, gas\n",
      "437 : CH2OH(45) + HNOH(93) <=> ONCO(1021)                4.3e+21\n",
      "474 : HCO(22) + HNOH(93) <=> ONCDO(266)                  4.3e+21\n",
      "596 : HCO(22) + NO2(9) <=> CHNO3(372)                    4.3e+21\n",
      "382 : HCO(22) + NO(10) <=> CHNO2(397)                    4.3e+21\n",
      "241 : CH2OH(45) + NO2(9) <=> S(1216)                     4.3e+21\n",
      "296 : CH2OH(45) + NO(10) <=> S(1494)                     4.3e+21\n",
      "295 : CH2OH(45) + H2NO(88) <=> S(1108)                   4.3e+21\n",
      "\n",
      "Highest forward rate constants, surface\n",
      "467 : CH2X(34) + HX(26) <=> CH3X(28) + X(1)              3.1e+21\n",
      " 94 : CHX(35) + X(1) <=> CX(33) + HX(26)                 3.1e+21\n",
      " 83 : CHX(35) + HX(26) <=> CH2X(34) + X(1)               3.1e+21\n",
      "141 : SX(1039) + X(1) <=> HX(26) + SX(1047)              3.7e+20\n",
      "745 : SX(1043) + X(1) <=> HX(26) + SX(1050)              3.7e+20\n",
      " 15 : HX(26) + OX(27) <=> HOX(29) + X(1)                 5.3e+18\n",
      "428 : CX(33) + OX(27) <=> OCX(32) + X(1)                 3.7e+18\n",
      "\n",
      "Highest reverse rate constants, gas\n",
      "471 : H2NO(88) + HCO(22) <=> S(674)                      7.1e+38\n",
      "502 : H2NO3(243) + S(665) <=> HNO3(4) + S(674)           6.3e+25\n",
      "1355 : CH(44) + NH3(2) <=> 2 H(20) + H2CN(114)            9.8e+23\n",
      "295 : CH2OH(45) + H2NO(88) <=> S(1108)                   4.6e+23\n",
      "1409 : H2(13) + NCN(108) <=> H(20) + HNCN(107)            1.1e+23\n",
      "577 : H2NO(88) + S(665) <=> HNO(87) + S(7627)            9.7e+21\n",
      "501 : H(20) + S(665) <=> S(674)                          5.3e+21\n",
      "\n",
      "Highest reverse rate constants, surface\n",
      "798 : S(8965) + 2 X(1) <=> H2NX(201) + SX(4793)          1.6e+34\n",
      "353 : SX(3939) + X(1) <=> CX(33) + SX(605)               4.3e+33\n",
      "399 : S(4541) + 2 X(1) <=> H2NX(201) + SX(1064)          2.5e+33\n",
      "736 : N2O5(7142) + 2 X(1) <=> NO2X(206) + NO3X(4718)     1.8e+33\n",
      "376 : SX(4539) + X(1) <=> NX(604) + SX(1064)             9.7e+31\n",
      " 83 : CHX(35) + HX(26) <=> CH2X(34) + X(1)               7.0e+31\n",
      "800 : SX(6977) + X(1) <=> NX(604) + SX(4793)             5.7e+31\n",
      "Units are a combination of kmol, m^3 and s, that depend on the rate expression for the reaction.\n"
     ]
    }
   ],
   "source": [
    "def report_rate_constants(n=8):\n",
    "    print(\"\\nHighest forward rate constants, gas\")\n",
    "    for i in np.argsort(abs(gas.forward_rate_constants))[-1:-n:-1]: # top n in descending order\n",
    "        print(f\"{i:3d} : {gas.reaction_equation(i):48s}  {gas.forward_rate_constants[i]:8.1e}\")\n",
    "    print(\"\\nHighest forward rate constants, surface\")\n",
    "    for i in np.argsort(abs(surf.forward_rate_constants))[-1:-n:-1]: # top n in descending order\n",
    "        print(f\"{i:3d} : {surf.reaction_equation(i):48s}  {surf.forward_rate_constants[i]:8.1e}\")\n",
    "    print(\"\\nHighest reverse rate constants, gas\")\n",
    "    for i in np.argsort(abs(gas.reverse_rate_constants))[-1:-n:-1]: # top n in descending order\n",
    "        print(f\"{i:3d} : {gas.reaction_equation(i):48s}  {gas.reverse_rate_constants[i]:8.1e}\")\n",
    "    print(\"\\nHighest reverse rate constants, surface\")\n",
    "    for i in np.argsort(abs(surf.reverse_rate_constants))[-1:-n:-1]: # top n in descending order\n",
    "        print(f\"{i:3d} : {surf.reaction_equation(i):48s}  {surf.reverse_rate_constants[i]:8.1e}\")\n",
    "\n",
    "    print(\"Units are a combination of kmol, m^3 and s, that depend on the rate expression for the reaction.\")\n",
    "report_rate_constants()"
   ]
  },
  {
   "cell_type": "code",
   "execution_count": 35,
   "metadata": {},
   "outputs": [],
   "source": [
    "def save_flux_diagrams(*phases, suffix=''):\n",
    "    \"\"\"\n",
    "    Saves the flux diagrams. The filenames have a suffix if provided,\n",
    "    so you can keep them separate and not over-write.\n",
    "    \"\"\"\n",
    "    for element in 'CHONX':\n",
    "        for phase_object in phases:\n",
    "            phase = phase_object.name\n",
    "\n",
    "            diagram = ct.ReactionPathDiagram(phase_object, element)\n",
    "            diagram.title = f'Reaction path diagram following {element} in {phase}'\n",
    "            diagram.label_threshold = 0.01\n",
    "\n",
    "            dot_file = f\"reaction_path_{element}_{phase}{'_' if suffix else ''}{suffix}.dot\"\n",
    "            img_file = f\"reaction_path_{element}_{phase}{'_' if suffix else ''}{suffix}.png\"\n",
    "            img_path = os.path.join(os.getcwd(), img_file)\n",
    "            diagram.write_dot(dot_file)\n",
    "            #print(diagram.get_data())\n",
    "\n",
    "            print(f\"Wrote graphviz input file to '{os.path.join(os.getcwd(), dot_file)}'.\")\n",
    "            os.system(f'dot {dot_file} -Tpng -o{img_file} -Gdpi=200')\n",
    "            print(f\"Wrote graphviz output file to '{img_path}'.\")\n",
    "\n",
    "def show_flux_diagrams(*phases, suffix='', embed=False):\n",
    "    \"\"\"\n",
    "    Shows the flux diagrams in the notebook.\n",
    "    Loads them from disk.\n",
    "    Does not embed them, to keep the .ipynb file small,\n",
    "    unless embed=True. Use embed=True if you might over-write the files,\n",
    "    eg. you want to show flux at different points.\n",
    "    \"\"\"\n",
    "    import IPython\n",
    "    for element in 'CHONX':\n",
    "        for phase_object in phases:\n",
    "            phase = phase_object.name\n",
    "            img_file = f\"reaction_path_{element}_{phase}{'_' if suffix else ''}{suffix}.png\"\n",
    "            display(IPython.display.HTML(f'<hr><h2>{element} {phase}</h2>'))\n",
    "            if embed:\n",
    "                display(IPython.display.Image(filename=img_file,width=400,embed=True))\n",
    "            else:\n",
    "                display(IPython.display.Image(url=img_file,width=400,embed=False))\n",
    "\n",
    "\n",
    "def integrated_flux_diagrams():\n",
    "    \"\"\"This is a code fragment. Not working. Do not use it.\"\"\"\n",
    "    for element in 'CHON':\n",
    "        diagrams = [ct.ReactionPathDiagram(surf, element), ct.ReactionPathDiagram(gas, element)]\n",
    "        for diagram in diagrams:\n",
    "            data = diagram.get_data()\n",
    "            split_data = data.split(\"\\n\")\n",
    "            for line in split_data[2:]:\n",
    "                if len(line.split()) == 0: # skip empty line\n",
    "                    continue\n",
    "                s1, s2, fwd, rev = line.split()\n",
    "                net = float(fwd) - float(rev)\n",
    "                if net == 0.0:\n",
    "                    continue\n",
    "                flux_pair = (s1, s2)\n",
    "                integration_flux_data[flux_pair] += net\n",
    "    "
   ]
  },
  {
   "cell_type": "code",
   "execution_count": 36,
   "metadata": {},
   "outputs": [],
   "source": [
    "gas.TPX = temperature_kelvin, pressure, feed_mole_fractions\n",
    "surf.coverages = 'X(1):1.0'\n",
    "#surf.coverages = starting_coverages"
   ]
  },
  {
   "cell_type": "code",
   "execution_count": 55,
   "metadata": {
    "scrolled": true
   },
   "outputs": [
    {
     "name": "stdout",
     "output_type": "stream",
     "text": [
      "    distance(mm)     T (C)    NH3(2)   NH2OH(3)     HNO3(4)    CH3OH(5)  alpha\n",
      "      0.000000   1128.0    0.095253    0.071355    0.217364   0.073290  1.5e+00\n",
      "      0.038740   1128.0    0.095253    0.071355    0.217364   0.073290  1.5e+00\n",
      "      0.077481   1128.0    0.095253    0.071355    0.217364   0.073290  1.5e+00\n"
     ]
    },
    {
     "ename": "KeyboardInterrupt",
     "evalue": "",
     "output_type": "error",
     "traceback": [
      "\u001b[0;31m---------------------------------------------------------------------------\u001b[0m",
      "\u001b[0;31mKeyboardInterrupt\u001b[0m                         Traceback (most recent call last)",
      "\u001b[0;32m<ipython-input-55-f8dff2886952>\u001b[0m in \u001b[0;36m<module>\u001b[0;34m\u001b[0m\n\u001b[1;32m     75\u001b[0m \u001b[0;31m#         the default is residual_threshold = sim.rtol*10\u001b[0m\u001b[0;34m\u001b[0m\u001b[0;34m\u001b[0m\u001b[0;34m\u001b[0m\u001b[0m\n\u001b[1;32m     76\u001b[0m \u001b[0;31m#         sim.advance_to_steady_state(residual_threshold = sim.rtol*1e3)\u001b[0m\u001b[0;34m\u001b[0m\u001b[0;34m\u001b[0m\u001b[0;34m\u001b[0m\u001b[0m\n\u001b[0;32m---> 77\u001b[0;31m         \u001b[0msim\u001b[0m\u001b[0;34m.\u001b[0m\u001b[0madvance_to_steady_state\u001b[0m\u001b[0;34m(\u001b[0m\u001b[0;34m)\u001b[0m\u001b[0;34m\u001b[0m\u001b[0;34m\u001b[0m\u001b[0m\n\u001b[0m\u001b[1;32m     78\u001b[0m \u001b[0;34m\u001b[0m\u001b[0m\n\u001b[1;32m     79\u001b[0m     \u001b[0;32mexcept\u001b[0m \u001b[0mct\u001b[0m\u001b[0;34m.\u001b[0m\u001b[0mCanteraError\u001b[0m\u001b[0;34m:\u001b[0m\u001b[0;34m\u001b[0m\u001b[0;34m\u001b[0m\u001b[0m\n",
      "\u001b[0;32minterfaces/cython/cantera/reactor.pyx\u001b[0m in \u001b[0;36mcantera._cantera.ReactorNet.advance_to_steady_state\u001b[0;34m()\u001b[0m\n",
      "\u001b[0;32m~/.conda/envs/rmg_env/lib/python3.7/site-packages/numpy/linalg/linalg.py\u001b[0m in \u001b[0;36mnorm\u001b[0;34m(x, ord, axis, keepdims)\u001b[0m\n\u001b[1;32m   2201\u001b[0m \u001b[0;34m\u001b[0m\u001b[0m\n\u001b[1;32m   2202\u001b[0m \u001b[0;34m\u001b[0m\u001b[0m\n\u001b[0;32m-> 2203\u001b[0;31m \u001b[0;32mdef\u001b[0m \u001b[0mnorm\u001b[0m\u001b[0;34m(\u001b[0m\u001b[0mx\u001b[0m\u001b[0;34m,\u001b[0m \u001b[0mord\u001b[0m\u001b[0;34m=\u001b[0m\u001b[0;32mNone\u001b[0m\u001b[0;34m,\u001b[0m \u001b[0maxis\u001b[0m\u001b[0;34m=\u001b[0m\u001b[0;32mNone\u001b[0m\u001b[0;34m,\u001b[0m \u001b[0mkeepdims\u001b[0m\u001b[0;34m=\u001b[0m\u001b[0;32mFalse\u001b[0m\u001b[0;34m)\u001b[0m\u001b[0;34m:\u001b[0m\u001b[0;34m\u001b[0m\u001b[0;34m\u001b[0m\u001b[0m\n\u001b[0m\u001b[1;32m   2204\u001b[0m     \"\"\"\n\u001b[1;32m   2205\u001b[0m     \u001b[0mMatrix\u001b[0m \u001b[0;32mor\u001b[0m \u001b[0mvector\u001b[0m \u001b[0mnorm\u001b[0m\u001b[0;34m.\u001b[0m\u001b[0;34m\u001b[0m\u001b[0;34m\u001b[0m\u001b[0m\n",
      "\u001b[0;31mKeyboardInterrupt\u001b[0m: "
     ]
    }
   ],
   "source": [
    "# The plug flow reactor is represented by a linear chain of zero-dimensional\n",
    "# reactors. The gas at the inlet to the first one has the specified inlet\n",
    "# composition, and for all others the inlet composition is fixed at the\n",
    "# composition of the reactor immediately upstream. Since in a PFR model there\n",
    "# is no diffusion, the upstream reactors are not affected by any downstream\n",
    "# reactors, and therefore the problem may be solved by simply marching from\n",
    "# the first to last reactor, integrating each one to steady state.\n",
    "\n",
    "# print(gas.T)\n",
    "TDY = gas.TDY\n",
    "cov = surf.coverages\n",
    "\n",
    "# create a new reactor\n",
    "gas.TDY = TDY\n",
    "r = ct.IdealGasReactor(gas, energy='on')\n",
    "r.volume = r_vol\n",
    "\n",
    "# create a reservoir to represent the reactor immediately upstream. Note\n",
    "# that the gas object is set already to the state of the upstream reactor\n",
    "upstream = ct.Reservoir(gas, name='upstream')\n",
    "\n",
    "# create a reservoir for the reactor to exhaust into. The composition of\n",
    "# this reservoir is irrelevant.\n",
    "downstream = ct.Reservoir(gas, name='downstream')\n",
    "\n",
    "# Add the reacting surface to the reactor. The area is set to the desired\n",
    "# catalyst area in the reactor.\n",
    "rsurf = ct.ReactorSurface(surf, r, A=cat_area)\n",
    "\n",
    "# The mass flow rate into the reactor will be fixed by using a\n",
    "# MassFlowController object.\n",
    "m = ct.MassFlowController(upstream, r, mdot=mass_flow_rate)\n",
    "\n",
    "# We need an outlet to the downstream reservoir. This will determine the\n",
    "# pressure in the reactor. The value of K will only affect the transient\n",
    "# pressure difference.\n",
    "v = ct.PressureController(r, downstream, master=m, K=1e-5)\n",
    "\n",
    "sim = ct.ReactorNet([r])\n",
    "sim.max_err_test_fails = 24\n",
    "# sim.max_err_test_fails = 20\n",
    "\n",
    "# set relative and absolute tolerances on the simulation\n",
    "# #original\n",
    "# sim.rtol = 1.0e-11\n",
    "# sim.atol = 1.0e-20\n",
    "\n",
    "rtol = 1e-11\n",
    "atol = 1e-24\n",
    "sim.rtol = rtol\n",
    "sim.atol = atol\n",
    "\n",
    "sim.verbose = False\n",
    "\n",
    "# surf.set_multiplier(0.)  # turn off surface reactions\n",
    "# surf.set_multiplier(1e6)  # make surface reactions a million times faster\n",
    "r.volume = r_vol\n",
    "\n",
    "integration_flux_data = defaultdict(float)\n",
    "\n",
    "outfile = open(output_filename,'w')\n",
    "writer = csv.writer(outfile)\n",
    "writer.writerow(['Distance (mm)', 'T (C)', 'P (atm)'] +\n",
    "                gas.species_names + surf.species_names + ['gas_heat','surface_heat','alpha'])\n",
    "\n",
    "\n",
    "print('    distance(mm)     T (C)    NH3(2)   NH2OH(3)     HNO3(4)    CH3OH(5)  alpha')\n",
    "for n in range(NReactors):\n",
    "    # Set the state of the reservoir to match that of the previous reactor\n",
    "    gas.TDY = TDY = r.thermo.TDY\n",
    "#     fix_rates(surf, 1e22)\n",
    "    upstream.syncState()\n",
    "    sim.reinitialize()\n",
    "    try:\n",
    "#         the default is residual_threshold = sim.rtol*10\n",
    "#         sim.advance_to_steady_state(residual_threshold = sim.rtol*1e3)\n",
    "        sim.advance_to_steady_state()\n",
    "\n",
    "    except ct.CanteraError:\n",
    "        t = sim.time\n",
    "        sim.set_initial_time(0)\n",
    "        gas.TDY = TDY\n",
    "        surf.coverages = cov ###\n",
    "        r.syncState()\n",
    "        sim.reinitialize()\n",
    "        new_target_time = 0.01 * t\n",
    "        print(f\"Couldn't reach {t:.1g} s so going to try {new_target_time:.1g} s\")\n",
    "        #save_flux_diagrams(gas, surf)\n",
    "        #show_flux_diagrams(gas, surf, embed=True)\n",
    "        report_rates()\n",
    "        report_rate_constants()\n",
    "        try:\n",
    "            sim.advance(new_target_time) #used to be .1*t\n",
    "        except ct.CanteraError:\n",
    "            outfile.close()\n",
    "            raise()\n",
    " \n",
    "    dist = n * r_len * 1.0e3   # distance in mm\n",
    "        \n",
    "    gas_heat = np.dot(gas.net_rates_of_progress, gas.delta_enthalpy) # heat evolved by gas phase reaction\n",
    "    surface_heat = cat_area_per_vol * np.dot(surf.net_rates_of_progress, surf.delta_enthalpy) # heat evolved by surf phase reaction \n",
    "    alpha = surface_heat / (surface_heat + gas_heat) # fraction of heat release that is on surface.\n",
    "\n",
    "    if not n % 10:\n",
    "        print('    {:10f}  {:7.1f}  {:10f}  {:10f}  {:10f} {:10f}  {:5.1e}'.format(dist, r.T-273.15, *gas['NH3(2)','NH2OH(3)','HNO3(4)','CH3OH(5)'].X, alpha ))\n",
    "\n",
    "    # write the gas mole fractions and surface coverages vs. distance\n",
    "    writer.writerow([dist, r.T - 273.15, r.thermo.P/ct.one_atm] +\n",
    "                    list(gas.X) + list(surf.coverages) + [gas_heat, surface_heat, alpha])\n",
    "\n",
    "outfile.close()\n",
    "print(\"Results saved to '{0}'\".format(output_filename))\n",
    "# with open(\"integration_flux_data.txt\",'w') as f:\n",
    "#     for (sp1,sp2),flux in integration_flux_data.items():\n",
    "#         f.write(\"{} {} {}\\n\".format(sp1,sp2,flux))"
   ]
  },
  {
   "cell_type": "code",
   "execution_count": 56,
   "metadata": {},
   "outputs": [],
   "source": [
    "dist"
   ]
  },
  {
   "cell_type": "code",
   "execution_count": 40,
   "metadata": {},
   "outputs": [
    {
     "data": {
      "text/plain": [
       "array([0., 0., 0., 0., 0., 0., 0., 0., 0., 0., 0., 0., 0., 0., 0., 0., 0.,\n",
       "       0., 0., 0., 0., 0., 0., 0., 0., 0., 0., 0., 0., 0., 0., 0., 0., 0.,\n",
       "       0., 0., 0., 0., 0., 0., 0., 0., 0., 0., 0., 0., 0., 0., 0., 0., 0.,\n",
       "       0., 0., 0., 0., 0., 0., 0., 0., 0., 0., 0., 0., 0., 0., 0., 0., 0.,\n",
       "       0., 0., 0., 0., 0., 0., 0., 0., 0., 0., 0., 0., 0., 0., 0., 0., 0.,\n",
       "       0., 0., 0., 0., 0., 0., 0., 0., 0., 0., 0., 0., 0., 0., 0., 0., 0.,\n",
       "       0., 0., 0., 0., 0., 0., 0., 0., 0., 0., 0., 0., 0., 0., 0., 0., 0.,\n",
       "       0., 0., 0., 0., 0., 0., 0., 0., 0., 0., 0., 0., 0., 0., 0., 0., 0.,\n",
       "       0., 0., 0., 0., 0., 0., 0., 0., 0., 0., 0., 0., 0., 0., 0., 0., 0.,\n",
       "       0., 0., 0., 0., 0., 0., 0., 0., 0., 0., 0., 0., 0., 0., 0., 0., 0.,\n",
       "       0., 0., 0., 0., 0., 0., 0., 0., 0., 0., 0., 0., 0., 0., 0., 0., 0.])"
      ]
     },
     "execution_count": 40,
     "metadata": {},
     "output_type": "execute_result"
    }
   ],
   "source": [
    "r.thermo.X - gas.X"
   ]
  },
  {
   "cell_type": "code",
   "execution_count": 41,
   "metadata": {},
   "outputs": [
    {
     "data": {
      "text/plain": [
       "array([-2.30143235e-04,  2.83382800e-03,  4.97639259e-04,  2.99843110e-03,\n",
       "       -2.08815669e-06, -1.89029254e-07,  9.65744562e-04,  2.99919823e-03,\n",
       "        6.38116868e-04,  1.45563946e-08,  1.74925201e-03,  1.92515838e-05,\n",
       "       -2.59288293e-02,  8.48272684e-03,  7.49446046e-10,  8.23337424e-03,\n",
       "       -1.66441304e-04,  3.21806768e-14,  3.21806768e-14,  3.89669575e-14,\n",
       "        3.02067640e-03,  7.44886199e-08, -5.08256778e-10, -9.72354456e-15,\n",
       "       -1.10033069e-12,  3.00105633e-04, -9.14282674e-08,  3.02069406e-03,\n",
       "       -4.44573142e-10,  7.15454013e-03,  1.12574315e-12,  1.26819135e-12,\n",
       "        6.66073367e-05,  6.66073367e-05, -6.49914100e-05, -4.42683575e-05,\n",
       "        6.66073367e-05,  6.66073367e-05, -1.02303170e-03, -1.03740451e-08,\n",
       "        7.72479074e-04, -6.63882787e-04,  6.40912264e-04,  1.67064292e-11,\n",
       "        9.25031260e-07,  1.13457332e-12, -1.01188498e-11,  2.87834553e-03,\n",
       "        3.32335335e-15, -7.49493515e-15, -1.49898741e-14,  2.06527893e-07,\n",
       "       -1.30148117e-05,  4.08451743e-05, -1.02232776e-03, -1.11744946e-14,\n",
       "       -5.73732916e-12, -8.91639877e-13, -1.01428182e-13,  1.13459575e-12,\n",
       "       -4.95556731e-06, -9.97440217e-12,  5.26453371e-06, -6.92557271e-04,\n",
       "       -4.77803072e-06, -8.30126941e-08, -1.34650480e-04,  1.23186035e-11,\n",
       "       -1.23543204e-09,  3.23492884e-10, -2.02423857e-11,  2.00408976e-03,\n",
       "       -6.61173702e-07, -3.79573269e-10,  5.32837366e-14, -1.09449790e-15,\n",
       "        1.86527871e-12,  5.76480657e-15,  2.43700918e-03, -1.85697281e-09,\n",
       "        2.82794294e-11, -4.15206633e-14,  7.74832231e-22, -3.10624951e-03,\n",
       "       -1.69106314e-07, -1.67468607e-10, -9.99589274e-12, -2.91091211e-12,\n",
       "       -1.98408464e-14,  5.39480129e-17,  6.38888375e-17,  8.93451780e-17,\n",
       "       -2.63047521e-17,  1.90264617e-14,  1.74661073e-03,  9.13734452e-08,\n",
       "       -4.97917544e-12,  5.52153195e-10,  2.00009252e-09,  3.43170053e-10,\n",
       "        3.24878926e-16, -3.30465103e-13,  9.15835634e-16,  1.09811965e-15,\n",
       "        1.51656075e-15, -3.75224697e-16,  3.38302937e-13,  1.09827099e-15,\n",
       "        4.74471012e-03, -3.92127319e-15,  4.00345462e-10,  1.27627029e-09,\n",
       "       -4.77461569e-04, -1.09179442e-06, -3.31816713e-13,  5.43441407e-17,\n",
       "        8.34719051e-06,  4.87675743e-04,  7.69878035e-07, -3.80515000e-10,\n",
       "       -1.90257500e-10,  1.97284730e-09, -1.22398609e-13, -2.30635365e-18,\n",
       "       -2.64912721e-16, -2.05537120e-19, -1.38153785e-15, -2.97473589e-13,\n",
       "       -1.90257500e-10, -3.80515000e-10,  7.08373637e-05,  5.43439947e-17,\n",
       "        3.33183933e-03, -1.01695507e-14,  1.49293258e-03, -3.09404259e-07,\n",
       "        9.22439925e-16,  2.20524994e-07, -1.22777393e-15,  1.83858114e-03,\n",
       "        8.56137718e-13,  1.65985916e-03, -1.78724995e-04, -2.84318452e-10,\n",
       "        8.55082808e-09,  2.16240060e-11, -9.34606249e-09,  1.08832986e-12,\n",
       "        1.08832986e-12, -6.43501881e-10, -7.26994133e-13,  3.85123546e-17,\n",
       "       -1.47078544e-15,  8.46847097e-17, -8.01576669e-15, -1.70222886e-12,\n",
       "        1.08832986e-12,  1.08832986e-12, -1.29537024e-17,  3.72098450e-20,\n",
       "        1.34585552e-09, -7.17163616e-09,  1.33727342e-10, -1.60138418e-12,\n",
       "       -5.12487910e-11,  1.41351051e-03,  1.88684515e-03,  4.40932770e-11,\n",
       "        2.99449890e-12, -1.02238874e-14, -3.42967235e-06,  2.05397885e-21,\n",
       "        1.43430553e-16,  9.82079404e-20,  2.10848286e-17, -2.98651709e-03,\n",
       "       -2.98651710e-03, -1.02165341e-10,  6.46514154e-03, -3.36474830e-04,\n",
       "       -9.13275115e-13,  6.11287612e-03,  4.20939261e-04, -1.15332125e-19,\n",
       "        6.40459696e-06,  1.63280225e-16,  5.69665662e-05,  3.94360546e-14,\n",
       "        2.12560543e-07,  6.11230098e-03,  5.06740151e-08,  1.11748993e-09,\n",
       "       -6.82592027e-03,  1.93424967e-08,  5.24786451e-17,  1.53485149e-12,\n",
       "       -7.95615727e-09, -1.72897977e-14, -1.72897977e-14, -8.62653737e-13,\n",
       "        1.04233524e-13, -6.80531821e-13,  1.04236292e-13, -1.69449625e-14,\n",
       "       -2.61049452e-16,  7.15862996e-23, -3.01294822e-17,  4.99270279e-18,\n",
       "        8.47463162e-17, -5.00702100e-16, -2.07742417e-16,  3.41853937e-21,\n",
       "       -1.23049113e-15, -8.58853989e-09,  4.48531174e-14,  3.50136426e-04,\n",
       "       -5.09519732e-12,  4.67191507e-10, -1.03564278e-08,  1.41373840e-05,\n",
       "        5.54230348e-04,  2.93662197e-24,  1.46371938e-12,  1.40274401e-06,\n",
       "       -1.95871426e-05,  5.47419760e-10,  1.74393344e-10, -3.71951873e-19,\n",
       "       -1.14707733e-17, -1.60547340e-11,  2.22448712e-20, -9.13051829e-20,\n",
       "        3.84622722e-20, -6.31290621e-19, -1.25275423e-16, -1.06222098e-19,\n",
       "       -1.04040454e-05, -1.04024797e-05, -7.00283071e-15, -1.41637414e-11,\n",
       "        2.76708047e-18, -9.45519437e-18,  4.75816653e-18, -1.29036697e-16,\n",
       "       -1.39202381e-14,  4.88083965e-20, -5.73155268e-15, -2.57154745e-16,\n",
       "       -6.84945929e-17, -1.34306313e-14, -2.34729990e-19, -3.81138619e-18,\n",
       "       -3.35207852e-18, -1.96132285e-17, -1.16964098e-17, -1.60547410e-21,\n",
       "       -1.75311944e-19,  7.08959688e-05, -2.05491323e-09,  8.59207431e-12,\n",
       "       -8.83977019e-09, -1.49592179e-11, -4.61267749e-16, -1.62669361e-11,\n",
       "        6.11566456e-13,  3.22097473e-16,  1.54382631e-08, -5.50928860e-12,\n",
       "        8.59300891e-12, -1.26916825e-14,  4.22510190e-11,  6.87855847e-15,\n",
       "        6.95218266e-18, -6.80093919e-07,  5.52450159e-06, -1.45335364e-15,\n",
       "       -8.75746868e-14,  1.18509055e-19,  1.46358412e-19, -2.85863620e-18,\n",
       "        3.86302641e-19,  2.37607127e-19,  1.36231898e-10,  4.55266108e-13,\n",
       "        1.21817895e-07,  3.77725878e-10, -1.58734760e-17, -3.35157510e-15,\n",
       "        1.52660564e-08,  1.00983052e-12,  2.40170657e-12,  1.47318521e-08,\n",
       "       -2.45719717e-18,  1.34470715e-20, -3.89734247e-20,  1.57152612e-14,\n",
       "        1.27923479e-07,  3.86341224e-19, -6.45671120e-05, -4.18323792e-12,\n",
       "        1.56358126e-22,  3.84906557e-13,  6.26247771e-05, -6.86558580e-07,\n",
       "        1.10918365e-13,  1.38090563e-06,  4.28170057e-09, -1.54311008e-13,\n",
       "        1.14472609e-11,  2.60894402e-11, -2.61965979e-13,  1.78124330e-13,\n",
       "        8.43660557e-08, -4.68324976e-13, -8.95771383e-18, -1.01387818e-15,\n",
       "       -1.00539960e-18,  5.42046743e-14, -5.28656215e-15, -1.13836650e-12,\n",
       "       -7.94878190e-16, -1.28265672e-17,  6.22355077e-16,  6.22355077e-16,\n",
       "        2.44149216e-20, -7.07067588e-05, -7.25039567e-14,  4.37266303e-23,\n",
       "        8.17095811e-15,  5.63381145e-17, -7.07172709e-05,  8.07373669e-12,\n",
       "       -6.97311006e-15,  7.98879448e-18,  2.10848254e-17,  4.68991412e-10,\n",
       "        5.85426001e-12, -1.99917949e-11,  1.35925108e-08, -5.65477701e-15,\n",
       "       -1.64477584e-13,  2.65923328e-18,  3.39115640e-16,  1.93669369e-11,\n",
       "        2.18192981e-17,  4.36319935e-17,  3.58904481e-17,  7.33945813e-19,\n",
       "        8.31910453e-17,  2.78271730e-14,  1.99930775e-18, -1.93306168e-17,\n",
       "        1.33222505e-19, -1.40952142e-08, -5.65158167e-12,  3.72098484e-20,\n",
       "       -2.32743475e-11,  1.41927229e-19, -3.10461262e-09,  3.52605520e-12,\n",
       "        1.52393471e-18,  9.71792248e-20,  2.56485111e-19,  3.51490818e-09,\n",
       "       -7.62263130e-09,  3.50833070e-10, -4.57255720e-14, -1.55579926e-12,\n",
       "       -1.55579926e-12, -2.77312734e-18, -1.49081614e-17,  8.92804023e-21,\n",
       "       -1.56540801e-16,  1.17600726e-17, -1.55579926e-12, -1.55579926e-12,\n",
       "        7.74526190e-06,  8.38213704e-04,  1.40301552e-10,  1.70594160e-13,\n",
       "       -1.02286294e-14,  2.98521489e-12,  9.08029036e-15,  1.43013392e-16,\n",
       "        2.42763975e-15, -2.37014471e-18,  1.23747963e-16,  4.77052257e-13,\n",
       "        9.66008681e-14,  5.75877641e-17,  1.12527797e-04,  2.87259108e-22,\n",
       "        7.51719892e-18, -5.92240946e-12,  3.56986019e-19,  1.77001635e-15,\n",
       "       -9.42001887e-18,  6.52903461e-13,  1.11857470e-16, -7.28355068e-06,\n",
       "        7.98865870e-18, -1.47563485e-12, -6.21050988e-15,  1.45609586e-10,\n",
       "       -1.04742560e-12,  2.09434596e-19,  5.52986832e-19,  1.23055089e-11,\n",
       "        1.46389491e-10,  3.17611126e-12,  3.17611126e-12, -1.31951440e-17,\n",
       "        4.04057919e-13,  3.05671911e-13,  2.65844657e-17,  6.52232557e-17,\n",
       "        1.92512703e-20,  3.66601751e-19, -1.13292059e-10,  2.27260162e-17,\n",
       "        6.52279993e-17,  1.70352941e-16,  3.17611126e-12,  3.17611126e-12,\n",
       "        2.42764128e-15, -9.93602128e-07, -9.49924606e-04, -6.11561270e-04,\n",
       "        5.29918200e-04,  8.61885412e-08,  2.98598825e-12, -4.50164031e-28,\n",
       "       -8.36672605e-08, -1.52741440e-14, -2.61202133e-05,  5.70815155e-06,\n",
       "       -2.12093060e-10,  3.18972360e-18, -5.39186460e-19,  1.11619820e-16,\n",
       "        3.36824840e-19,  5.34784502e-21,  9.07811455e-20, -1.26361092e-22,\n",
       "        4.40920119e-21,  2.15599831e-21,  2.25101555e-24,  2.79265905e-22,\n",
       "        1.29175421e-23, -4.96637969e-22, -7.03847505e-11,  5.85229155e-16,\n",
       "        1.54461041e-15,  2.11677819e-05, -3.11547043e-09,  2.44223830e-09,\n",
       "       -1.38444469e-12,  8.80463391e-10,  1.49120966e-13,  5.37667955e-17,\n",
       "       -3.79538992e-15,  5.17369247e-14,  3.90633799e-13, -5.54474588e-14,\n",
       "       -1.16289473e-11, -7.93309328e-11, -8.30140548e-13, -6.68968441e-04,\n",
       "        6.68360328e-04, -7.79392331e-15,  9.16782650e-07,  9.16007290e-12,\n",
       "        4.38022096e-18,  6.21965168e-13, -6.10877545e-14,  1.13484152e-19,\n",
       "       -8.13519154e-17, -7.72709958e-22, -1.74578508e-19,  4.31452625e-22,\n",
       "        3.71396243e-22,  1.11418861e-21,  2.83525241e-11, -4.81603904e-09,\n",
       "       -3.16181132e-07, -9.15469622e-19, -7.06132012e-10, -1.96773962e-16,\n",
       "       -1.53150997e-12, -2.52045103e-13,  2.97962879e-17,  4.98863864e-12,\n",
       "        2.04020199e-20,  1.40719508e-15,  5.32830538e-20, -3.72051158e-13,\n",
       "       -1.38025835e-19, -8.85904381e-27, -2.22363095e-21,  8.01351215e-20,\n",
       "        5.18985458e-14,  5.87560341e-13,  3.20788643e-16,  1.03788149e-08,\n",
       "       -1.40885661e-19,  2.78509847e-12,  7.74255405e-16,  1.19996996e-17,\n",
       "        5.35607841e-22,  2.06203207e-15,  3.52545335e-19, -3.65908238e-09,\n",
       "        5.52901708e-04,  1.49603687e-12, -4.77108123e-04,  6.18497036e-20,\n",
       "        9.83179405e-11,  5.14279745e-23, -2.08592911e-15,  2.46526678e-19,\n",
       "        6.49611131e-18,  6.49611131e-18, -6.69458795e-24, -3.28205222e-15,\n",
       "        2.31778906e-19,  1.87937826e-04,  9.39689130e-05,  9.39689130e-05,\n",
       "        9.67674349e-13,  6.74798761e-07,  1.96629278e-14,  1.11317270e-09,\n",
       "        1.25365514e-15,  2.50731026e-15,  3.30877178e-15,  2.06212463e-15,\n",
       "        4.78184774e-15,  1.59927467e-12,  7.06974904e-06,  1.15175676e-16,\n",
       "        1.23875439e-19,  7.65933869e-18,  7.55922765e-05, -7.80749189e-05,\n",
       "       -3.46820627e-07,  1.27305821e-14, -3.18390967e-07,  9.46869886e-16,\n",
       "        1.88922916e-15,  2.49913794e-15,  1.55755951e-15, -8.46310158e-09,\n",
       "       -7.73711660e-12, -7.65668501e-09, -7.65668501e-09,  3.58788063e-15,\n",
       "       -1.69278872e-10,  1.20280794e-12, -1.25568787e-09,  1.18106482e-13,\n",
       "       -5.82119551e-14, -2.42328930e-14,  7.35106798e-12,  8.33941598e-17,\n",
       "        9.35633134e-20,  5.72715331e-18,  1.01667009e-10, -7.79818830e-12,\n",
       "        8.09680499e-07, -8.34694543e-13, -7.65668501e-09, -7.65668501e-09,\n",
       "        4.57263960e-19,  6.30924921e-04, -7.49717619e-05,  6.00424249e-09,\n",
       "        2.40954821e-20,  6.87375044e-16,  1.67890185e-14,  1.67890185e-14,\n",
       "       -4.17465617e-14,  5.84113904e-13,  1.09324328e-15, -5.61039426e-04,\n",
       "       -6.25319445e-21,  2.80969099e-17,  4.77436214e-16, -1.00341269e-17,\n",
       "       -3.10298404e-17,  1.19632276e-17,  7.62183346e-21,  1.01218689e-18,\n",
       "       -3.93150538e-20, -3.84656596e-17,  5.19013707e-16,  5.07974813e-06,\n",
       "        1.72049598e-10,  9.72319560e-15,  3.01570822e-15,  8.07366426e-24,\n",
       "        1.54479131e-08, -4.84565868e-12, -2.94561308e-18, -2.09303273e-11,\n",
       "       -4.78967510e-14, -3.39161210e-19, -1.08911122e-18, -3.83808142e-14,\n",
       "       -4.20344852e-18, -1.84940853e-18,  4.39467474e-17, -7.72986435e-20,\n",
       "        3.32341666e-20, -5.50384104e-17,  5.25763857e-06, -2.23928022e-23,\n",
       "       -7.35437043e-18,  1.03924095e-19, -5.26431582e-26,  1.47190641e-14,\n",
       "       -7.53421183e-19, -6.34144434e-21, -1.81072119e-22, -5.02999726e-23,\n",
       "       -5.48326221e-21,  6.65394164e-14, -3.30536631e-18, -1.01301037e-19,\n",
       "       -6.32856706e-23,  1.75309118e-27, -7.15592254e-21, -6.66526610e-23,\n",
       "        4.64880404e-27, -2.71519505e-22,  8.30828455e-28, -7.20042286e-24,\n",
       "        1.02079891e-20, -1.25311314e-15, -1.32302832e-12, -3.73119811e-20,\n",
       "       -3.10306259e-20, -8.03449590e-18, -7.63906561e-19,  1.59446300e-16,\n",
       "        2.96531940e-20,  7.80948607e-20, -5.61013328e-21,  1.62038143e-28,\n",
       "       -3.51146961e-27, -9.05283174e-23, -2.42645252e-21, -2.42645252e-21,\n",
       "       -8.25878705e-16, -3.02522995e-27,  1.33988894e-07, -1.65460448e-16,\n",
       "        9.25048864e-21,  2.44148488e-20,  5.07179976e-21,  5.43062190e-13,\n",
       "        6.08332873e-06,  4.21648196e-14, -1.72484391e-10,  1.12981001e-08,\n",
       "        2.71195044e-12,  8.49861586e-22, -5.73022403e-13, -3.47910359e-20,\n",
       "       -2.96014075e-19,  2.62256653e-20,  5.13710696e-17, -6.83050446e-19,\n",
       "        6.91605944e-07,  4.69344791e-27, -5.27327830e-06, -5.58302519e-20,\n",
       "        1.01562445e-30, -2.13386605e-22,  7.11647640e-24,  7.11647640e-24,\n",
       "       -1.14665514e-21,  2.15029360e-23, -9.40699124e-12,  1.18617238e-04,\n",
       "        8.69011003e-14,  3.75872979e-04, -2.57257442e-04,  7.57247455e-18,\n",
       "       -3.74718993e-14, -6.84953338e-21,  2.42453775e-06, -8.72461588e-10,\n",
       "       -1.51440232e-06,  2.53653332e-18,  9.24741323e-17,  1.53830371e-17,\n",
       "       -1.28467247e-07, -1.01099031e-13, -7.72841450e-14, -5.93224812e-11,\n",
       "       -8.27984696e-15, -1.77066742e-10, -8.82124643e-16, -1.76424929e-15,\n",
       "       -1.61266011e-20, -1.07550397e-19, -1.28498282e-13, -5.69646110e-19,\n",
       "       -5.87407074e-14, -2.43442179e-17,  1.33230961e-21, -1.40904498e-16,\n",
       "        1.60885688e-18, -1.09704288e-20, -1.18795299e-18, -2.78752124e-19,\n",
       "       -9.31559308e-17,  6.94256336e-17, -6.57484850e-22, -1.81353848e-06,\n",
       "        1.38044718e-06, -4.33507282e-07,  2.06317204e-14,  2.24410101e-13,\n",
       "       -3.98900844e-17, -4.52159543e-15, -7.62804861e-19, -1.71517243e-16,\n",
       "       -4.38566291e-18, -2.35768877e-14, -5.07683430e-12, -3.54500962e-15,\n",
       "       -2.20901551e-21, -5.72038396e-17, -4.15454241e-16,  7.33582918e-07,\n",
       "       -7.33582918e-07,  1.65021999e-10,  1.64717266e-10,  2.04703350e-09,\n",
       "        1.11660595e-16, -7.49304595e-07,  1.43027000e-16, -3.07395882e-15,\n",
       "       -5.22295310e-11, -3.80759484e-15,  1.47015059e-13,  1.78017654e-13,\n",
       "        7.79676249e-14,  7.66993980e-14,  2.43422812e-13, -1.62865807e-18,\n",
       "       -4.64952892e-12, -1.42059989e-19, -5.10498554e-14, -2.84481303e-20,\n",
       "        5.62766255e-11, -3.70058031e-18, -8.60788262e-20, -2.53450915e-24,\n",
       "       -2.53450915e-24, -4.49168537e-24, -9.09749587e-17, -7.89871716e-14,\n",
       "       -1.05917729e-26,  1.45720181e-17, -5.89494680e-16, -1.67932470e-18,\n",
       "       -1.50069846e-21, -2.98246061e-19, -2.45146994e-21,  1.11117400e-21,\n",
       "        7.02762120e-17, -2.53450915e-24, -2.53450915e-24,  2.07750104e-07,\n",
       "        1.13146977e-09,  4.07651731e-06,  3.06298884e-20,  2.31185389e-17,\n",
       "        5.97657112e-16,  1.47315713e-19,  2.09229816e-14,  6.48779589e-17,\n",
       "        1.44790948e-23,  1.00215682e-18,  1.70106316e-17,  6.86182197e-22,\n",
       "        9.67184667e-19,  4.02368765e-19,  4.32761554e-22,  5.35161484e-20,\n",
       "        2.69938377e-21,  1.70583614e-22,  1.74618893e-17,  2.73035263e-15,\n",
       "        3.27611868e-29,  1.86212493e-21, -7.62447083e-07,  2.09229816e-14,\n",
       "       -3.52295183e-06,  6.95597896e-15, -3.73605021e-10, -6.82929328e-17,\n",
       "       -4.06116178e-10,  3.25074452e-11,  1.69031932e-15, -1.61184129e-19,\n",
       "       -6.36697284e-10,  2.24441939e-04, -3.23418409e-04,  9.23740723e-05,\n",
       "        5.49099451e-06,  1.10681658e-06,  1.26668435e-08,  2.89113098e-17,\n",
       "        1.12090734e-13, -3.84915783e-13, -4.15545401e-20, -3.72529655e-14,\n",
       "       -7.57963614e-26])"
      ]
     },
     "execution_count": 41,
     "metadata": {},
     "output_type": "execute_result"
    }
   ],
   "source": [
    "rsurf.kinetics.net_rates_of_progress"
   ]
  },
  {
   "cell_type": "code",
   "execution_count": 42,
   "metadata": {},
   "outputs": [
    {
     "data": {
      "text/plain": [
       "array([-2.30143235e-04,  2.83382800e-03,  4.97639259e-04,  2.99843110e-03,\n",
       "       -2.08815669e-06, -1.89029254e-07,  9.65744562e-04,  2.99919823e-03,\n",
       "        6.38116868e-04,  1.45563946e-08,  1.74925201e-03,  1.92515838e-05,\n",
       "       -2.59288293e-02,  8.48272684e-03,  7.49446046e-10,  8.23337424e-03,\n",
       "       -1.66441304e-04,  3.21806768e-14,  3.21806768e-14,  3.89669575e-14,\n",
       "        3.02067640e-03,  7.44886199e-08, -5.08256778e-10, -9.72354456e-15,\n",
       "       -1.10033069e-12,  3.00105633e-04, -9.14282674e-08,  3.02069406e-03,\n",
       "       -4.44573142e-10,  7.15454013e-03,  1.12574315e-12,  1.26819135e-12,\n",
       "        6.66073367e-05,  6.66073367e-05, -6.49914100e-05, -4.42683575e-05,\n",
       "        6.66073367e-05,  6.66073367e-05, -1.02303170e-03, -1.03740451e-08,\n",
       "        7.72479074e-04, -6.63882787e-04,  6.40912264e-04,  1.67064292e-11,\n",
       "        9.25031260e-07,  1.13457332e-12, -1.01188498e-11,  2.87834553e-03,\n",
       "        3.32335335e-15, -7.49493515e-15, -1.49898741e-14,  2.06527893e-07,\n",
       "       -1.30148117e-05,  4.08451743e-05, -1.02232776e-03, -1.11744946e-14,\n",
       "       -5.73732916e-12, -8.91639877e-13, -1.01428182e-13,  1.13459575e-12,\n",
       "       -4.95556731e-06, -9.97440217e-12,  5.26453371e-06, -6.92557271e-04,\n",
       "       -4.77803072e-06, -8.30126941e-08, -1.34650480e-04,  1.23186035e-11,\n",
       "       -1.23543204e-09,  3.23492884e-10, -2.02423857e-11,  2.00408976e-03,\n",
       "       -6.61173702e-07, -3.79573269e-10,  5.32837366e-14, -1.09449790e-15,\n",
       "        1.86527871e-12,  5.76480657e-15,  2.43700918e-03, -1.85697281e-09,\n",
       "        2.82794294e-11, -4.15206633e-14,  7.74832231e-22, -3.10624951e-03,\n",
       "       -1.69106314e-07, -1.67468607e-10, -9.99589274e-12, -2.91091211e-12,\n",
       "       -1.98408464e-14,  5.39480129e-17,  6.38888375e-17,  8.93451780e-17,\n",
       "       -2.63047521e-17,  1.90264617e-14,  1.74661073e-03,  9.13734452e-08,\n",
       "       -4.97917544e-12,  5.52153195e-10,  2.00009252e-09,  3.43170053e-10,\n",
       "        3.24878926e-16, -3.30465103e-13,  9.15835634e-16,  1.09811965e-15,\n",
       "        1.51656075e-15, -3.75224697e-16,  3.38302937e-13,  1.09827099e-15,\n",
       "        4.74471012e-03, -3.92127319e-15,  4.00345462e-10,  1.27627029e-09,\n",
       "       -4.77461569e-04, -1.09179442e-06, -3.31816713e-13,  5.43441407e-17,\n",
       "        8.34719051e-06,  4.87675743e-04,  7.69878035e-07, -3.80515000e-10,\n",
       "       -1.90257500e-10,  1.97284730e-09, -1.22398609e-13, -2.30635365e-18,\n",
       "       -2.64912721e-16, -2.05537120e-19, -1.38153785e-15, -2.97473589e-13,\n",
       "       -1.90257500e-10, -3.80515000e-10,  7.08373637e-05,  5.43439947e-17,\n",
       "        3.33183933e-03, -1.01695507e-14,  1.49293258e-03, -3.09404259e-07,\n",
       "        9.22439925e-16,  2.20524994e-07, -1.22777393e-15,  1.83858114e-03,\n",
       "        8.56137718e-13,  1.65985916e-03, -1.78724995e-04, -2.84318452e-10,\n",
       "        8.55082808e-09,  2.16240060e-11, -9.34606249e-09,  1.08832986e-12,\n",
       "        1.08832986e-12, -6.43501881e-10, -7.26994133e-13,  3.85123546e-17,\n",
       "       -1.47078544e-15,  8.46847097e-17, -8.01576669e-15, -1.70222886e-12,\n",
       "        1.08832986e-12,  1.08832986e-12, -1.29537024e-17,  3.72098450e-20,\n",
       "        1.34585552e-09, -7.17163616e-09,  1.33727342e-10, -1.60138418e-12,\n",
       "       -5.12487910e-11,  1.41351051e-03,  1.88684515e-03,  4.40932770e-11,\n",
       "        2.99449890e-12, -1.02238874e-14, -3.42967235e-06,  2.05397885e-21,\n",
       "        1.43430553e-16,  9.82079404e-20,  2.10848286e-17, -2.98651709e-03,\n",
       "       -2.98651710e-03, -1.02165341e-10,  6.46514154e-03, -3.36474830e-04,\n",
       "       -9.13275115e-13,  6.11287612e-03,  4.20939261e-04, -1.15332125e-19,\n",
       "        6.40459696e-06,  1.63280225e-16,  5.69665662e-05,  3.94360546e-14,\n",
       "        2.12560543e-07,  6.11230098e-03,  5.06740151e-08,  1.11748993e-09,\n",
       "       -6.82592027e-03,  1.93424967e-08,  5.24786451e-17,  1.53485149e-12,\n",
       "       -7.95615727e-09, -1.72897977e-14, -1.72897977e-14, -8.62653737e-13,\n",
       "        1.04233524e-13, -6.80531821e-13,  1.04236292e-13, -1.69449625e-14,\n",
       "       -2.61049452e-16,  7.15862996e-23, -3.01294822e-17,  4.99270279e-18,\n",
       "        8.47463162e-17, -5.00702100e-16, -2.07742417e-16,  3.41853937e-21,\n",
       "       -1.23049113e-15, -8.58853989e-09,  4.48531174e-14,  3.50136426e-04,\n",
       "       -5.09519732e-12,  4.67191507e-10, -1.03564278e-08,  1.41373840e-05,\n",
       "        5.54230348e-04,  2.93662197e-24,  1.46371938e-12,  1.40274401e-06,\n",
       "       -1.95871426e-05,  5.47419760e-10,  1.74393344e-10, -3.71951873e-19,\n",
       "       -1.14707733e-17, -1.60547340e-11,  2.22448712e-20, -9.13051829e-20,\n",
       "        3.84622722e-20, -6.31290621e-19, -1.25275423e-16, -1.06222098e-19,\n",
       "       -1.04040454e-05, -1.04024797e-05, -7.00283071e-15, -1.41637414e-11,\n",
       "        2.76708047e-18, -9.45519437e-18,  4.75816653e-18, -1.29036697e-16,\n",
       "       -1.39202381e-14,  4.88083965e-20, -5.73155268e-15, -2.57154745e-16,\n",
       "       -6.84945929e-17, -1.34306313e-14, -2.34729990e-19, -3.81138619e-18,\n",
       "       -3.35207852e-18, -1.96132285e-17, -1.16964098e-17, -1.60547410e-21,\n",
       "       -1.75311944e-19,  7.08959688e-05, -2.05491323e-09,  8.59207431e-12,\n",
       "       -8.83977019e-09, -1.49592179e-11, -4.61267749e-16, -1.62669361e-11,\n",
       "        6.11566456e-13,  3.22097473e-16,  1.54382631e-08, -5.50928860e-12,\n",
       "        8.59300891e-12, -1.26916825e-14,  4.22510190e-11,  6.87855847e-15,\n",
       "        6.95218266e-18, -6.80093919e-07,  5.52450159e-06, -1.45335364e-15,\n",
       "       -8.75746868e-14,  1.18509055e-19,  1.46358412e-19, -2.85863620e-18,\n",
       "        3.86302641e-19,  2.37607127e-19,  1.36231898e-10,  4.55266108e-13,\n",
       "        1.21817895e-07,  3.77725878e-10, -1.58734760e-17, -3.35157510e-15,\n",
       "        1.52660564e-08,  1.00983052e-12,  2.40170657e-12,  1.47318521e-08,\n",
       "       -2.45719717e-18,  1.34470715e-20, -3.89734247e-20,  1.57152612e-14,\n",
       "        1.27923479e-07,  3.86341224e-19, -6.45671120e-05, -4.18323792e-12,\n",
       "        1.56358126e-22,  3.84906557e-13,  6.26247771e-05, -6.86558580e-07,\n",
       "        1.10918365e-13,  1.38090563e-06,  4.28170057e-09, -1.54311008e-13,\n",
       "        1.14472609e-11,  2.60894402e-11, -2.61965979e-13,  1.78124330e-13,\n",
       "        8.43660557e-08, -4.68324976e-13, -8.95771383e-18, -1.01387818e-15,\n",
       "       -1.00539960e-18,  5.42046743e-14, -5.28656215e-15, -1.13836650e-12,\n",
       "       -7.94878190e-16, -1.28265672e-17,  6.22355077e-16,  6.22355077e-16,\n",
       "        2.44149216e-20, -7.07067588e-05, -7.25039567e-14,  4.37266303e-23,\n",
       "        8.17095811e-15,  5.63381145e-17, -7.07172709e-05,  8.07373669e-12,\n",
       "       -6.97311006e-15,  7.98879448e-18,  2.10848254e-17,  4.68991412e-10,\n",
       "        5.85426001e-12, -1.99917949e-11,  1.35925108e-08, -5.65477701e-15,\n",
       "       -1.64477584e-13,  2.65923328e-18,  3.39115640e-16,  1.93669369e-11,\n",
       "        2.18192981e-17,  4.36319935e-17,  3.58904481e-17,  7.33945813e-19,\n",
       "        8.31910453e-17,  2.78271730e-14,  1.99930775e-18, -1.93306168e-17,\n",
       "        1.33222505e-19, -1.40952142e-08, -5.65158167e-12,  3.72098484e-20,\n",
       "       -2.32743475e-11,  1.41927229e-19, -3.10461262e-09,  3.52605520e-12,\n",
       "        1.52393471e-18,  9.71792248e-20,  2.56485111e-19,  3.51490818e-09,\n",
       "       -7.62263130e-09,  3.50833070e-10, -4.57255720e-14, -1.55579926e-12,\n",
       "       -1.55579926e-12, -2.77312734e-18, -1.49081614e-17,  8.92804023e-21,\n",
       "       -1.56540801e-16,  1.17600726e-17, -1.55579926e-12, -1.55579926e-12,\n",
       "        7.74526190e-06,  8.38213704e-04,  1.40301552e-10,  1.70594160e-13,\n",
       "       -1.02286294e-14,  2.98521489e-12,  9.08029036e-15,  1.43013392e-16,\n",
       "        2.42763975e-15, -2.37014471e-18,  1.23747963e-16,  4.77052257e-13,\n",
       "        9.66008681e-14,  5.75877641e-17,  1.12527797e-04,  2.87259108e-22,\n",
       "        7.51719892e-18, -5.92240946e-12,  3.56986019e-19,  1.77001635e-15,\n",
       "       -9.42001887e-18,  6.52903461e-13,  1.11857470e-16, -7.28355068e-06,\n",
       "        7.98865870e-18, -1.47563485e-12, -6.21050988e-15,  1.45609586e-10,\n",
       "       -1.04742560e-12,  2.09434596e-19,  5.52986832e-19,  1.23055089e-11,\n",
       "        1.46389491e-10,  3.17611126e-12,  3.17611126e-12, -1.31951440e-17,\n",
       "        4.04057919e-13,  3.05671911e-13,  2.65844657e-17,  6.52232557e-17,\n",
       "        1.92512703e-20,  3.66601751e-19, -1.13292059e-10,  2.27260162e-17,\n",
       "        6.52279993e-17,  1.70352941e-16,  3.17611126e-12,  3.17611126e-12,\n",
       "        2.42764128e-15, -9.93602128e-07, -9.49924606e-04, -6.11561270e-04,\n",
       "        5.29918200e-04,  8.61885412e-08,  2.98598825e-12, -4.50164031e-28,\n",
       "       -8.36672605e-08, -1.52741440e-14, -2.61202133e-05,  5.70815155e-06,\n",
       "       -2.12093060e-10,  3.18972360e-18, -5.39186460e-19,  1.11619820e-16,\n",
       "        3.36824840e-19,  5.34784502e-21,  9.07811455e-20, -1.26361092e-22,\n",
       "        4.40920119e-21,  2.15599831e-21,  2.25101555e-24,  2.79265905e-22,\n",
       "        1.29175421e-23, -4.96637969e-22, -7.03847505e-11,  5.85229155e-16,\n",
       "        1.54461041e-15,  2.11677819e-05, -3.11547043e-09,  2.44223830e-09,\n",
       "       -1.38444469e-12,  8.80463391e-10,  1.49120966e-13,  5.37667955e-17,\n",
       "       -3.79538992e-15,  5.17369247e-14,  3.90633799e-13, -5.54474588e-14,\n",
       "       -1.16289473e-11, -7.93309328e-11, -8.30140548e-13, -6.68968441e-04,\n",
       "        6.68360328e-04, -7.79392331e-15,  9.16782650e-07,  9.16007290e-12,\n",
       "        4.38022096e-18,  6.21965168e-13, -6.10877545e-14,  1.13484152e-19,\n",
       "       -8.13519154e-17, -7.72709958e-22, -1.74578508e-19,  4.31452625e-22,\n",
       "        3.71396243e-22,  1.11418861e-21,  2.83525241e-11, -4.81603904e-09,\n",
       "       -3.16181132e-07, -9.15469622e-19, -7.06132012e-10, -1.96773962e-16,\n",
       "       -1.53150997e-12, -2.52045103e-13,  2.97962879e-17,  4.98863864e-12,\n",
       "        2.04020199e-20,  1.40719508e-15,  5.32830538e-20, -3.72051158e-13,\n",
       "       -1.38025835e-19, -8.85904381e-27, -2.22363095e-21,  8.01351215e-20,\n",
       "        5.18985458e-14,  5.87560341e-13,  3.20788643e-16,  1.03788149e-08,\n",
       "       -1.40885661e-19,  2.78509847e-12,  7.74255405e-16,  1.19996996e-17,\n",
       "        5.35607841e-22,  2.06203207e-15,  3.52545335e-19, -3.65908238e-09,\n",
       "        5.52901708e-04,  1.49603687e-12, -4.77108123e-04,  6.18497036e-20,\n",
       "        9.83179405e-11,  5.14279745e-23, -2.08592911e-15,  2.46526678e-19,\n",
       "        6.49611131e-18,  6.49611131e-18, -6.69458795e-24, -3.28205222e-15,\n",
       "        2.31778906e-19,  1.87937826e-04,  9.39689130e-05,  9.39689130e-05,\n",
       "        9.67674349e-13,  6.74798761e-07,  1.96629278e-14,  1.11317270e-09,\n",
       "        1.25365514e-15,  2.50731026e-15,  3.30877178e-15,  2.06212463e-15,\n",
       "        4.78184774e-15,  1.59927467e-12,  7.06974904e-06,  1.15175676e-16,\n",
       "        1.23875439e-19,  7.65933869e-18,  7.55922765e-05, -7.80749189e-05,\n",
       "       -3.46820627e-07,  1.27305821e-14, -3.18390967e-07,  9.46869886e-16,\n",
       "        1.88922916e-15,  2.49913794e-15,  1.55755951e-15, -8.46310158e-09,\n",
       "       -7.73711660e-12, -7.65668501e-09, -7.65668501e-09,  3.58788063e-15,\n",
       "       -1.69278872e-10,  1.20280794e-12, -1.25568787e-09,  1.18106482e-13,\n",
       "       -5.82119551e-14, -2.42328930e-14,  7.35106798e-12,  8.33941598e-17,\n",
       "        9.35633134e-20,  5.72715331e-18,  1.01667009e-10, -7.79818830e-12,\n",
       "        8.09680499e-07, -8.34694543e-13, -7.65668501e-09, -7.65668501e-09,\n",
       "        4.57263960e-19,  6.30924921e-04, -7.49717619e-05,  6.00424249e-09,\n",
       "        2.40954821e-20,  6.87375044e-16,  1.67890185e-14,  1.67890185e-14,\n",
       "       -4.17465617e-14,  5.84113904e-13,  1.09324328e-15, -5.61039426e-04,\n",
       "       -6.25319445e-21,  2.80969099e-17,  4.77436214e-16, -1.00341269e-17,\n",
       "       -3.10298404e-17,  1.19632276e-17,  7.62183346e-21,  1.01218689e-18,\n",
       "       -3.93150538e-20, -3.84656596e-17,  5.19013707e-16,  5.07974813e-06,\n",
       "        1.72049598e-10,  9.72319560e-15,  3.01570822e-15,  8.07366426e-24,\n",
       "        1.54479131e-08, -4.84565868e-12, -2.94561308e-18, -2.09303273e-11,\n",
       "       -4.78967510e-14, -3.39161210e-19, -1.08911122e-18, -3.83808142e-14,\n",
       "       -4.20344852e-18, -1.84940853e-18,  4.39467474e-17, -7.72986435e-20,\n",
       "        3.32341666e-20, -5.50384104e-17,  5.25763857e-06, -2.23928022e-23,\n",
       "       -7.35437043e-18,  1.03924095e-19, -5.26431582e-26,  1.47190641e-14,\n",
       "       -7.53421183e-19, -6.34144434e-21, -1.81072119e-22, -5.02999726e-23,\n",
       "       -5.48326221e-21,  6.65394164e-14, -3.30536631e-18, -1.01301037e-19,\n",
       "       -6.32856706e-23,  1.75309118e-27, -7.15592254e-21, -6.66526610e-23,\n",
       "        4.64880404e-27, -2.71519505e-22,  8.30828455e-28, -7.20042286e-24,\n",
       "        1.02079891e-20, -1.25311314e-15, -1.32302832e-12, -3.73119811e-20,\n",
       "       -3.10306259e-20, -8.03449590e-18, -7.63906561e-19,  1.59446300e-16,\n",
       "        2.96531940e-20,  7.80948607e-20, -5.61013328e-21,  1.62038143e-28,\n",
       "       -3.51146961e-27, -9.05283174e-23, -2.42645252e-21, -2.42645252e-21,\n",
       "       -8.25878705e-16, -3.02522995e-27,  1.33988894e-07, -1.65460448e-16,\n",
       "        9.25048864e-21,  2.44148488e-20,  5.07179976e-21,  5.43062190e-13,\n",
       "        6.08332873e-06,  4.21648196e-14, -1.72484391e-10,  1.12981001e-08,\n",
       "        2.71195044e-12,  8.49861586e-22, -5.73022403e-13, -3.47910359e-20,\n",
       "       -2.96014075e-19,  2.62256653e-20,  5.13710696e-17, -6.83050446e-19,\n",
       "        6.91605944e-07,  4.69344791e-27, -5.27327830e-06, -5.58302519e-20,\n",
       "        1.01562445e-30, -2.13386605e-22,  7.11647640e-24,  7.11647640e-24,\n",
       "       -1.14665514e-21,  2.15029360e-23, -9.40699124e-12,  1.18617238e-04,\n",
       "        8.69011003e-14,  3.75872979e-04, -2.57257442e-04,  7.57247455e-18,\n",
       "       -3.74718993e-14, -6.84953338e-21,  2.42453775e-06, -8.72461588e-10,\n",
       "       -1.51440232e-06,  2.53653332e-18,  9.24741323e-17,  1.53830371e-17,\n",
       "       -1.28467247e-07, -1.01099031e-13, -7.72841450e-14, -5.93224812e-11,\n",
       "       -8.27984696e-15, -1.77066742e-10, -8.82124643e-16, -1.76424929e-15,\n",
       "       -1.61266011e-20, -1.07550397e-19, -1.28498282e-13, -5.69646110e-19,\n",
       "       -5.87407074e-14, -2.43442179e-17,  1.33230961e-21, -1.40904498e-16,\n",
       "        1.60885688e-18, -1.09704288e-20, -1.18795299e-18, -2.78752124e-19,\n",
       "       -9.31559308e-17,  6.94256336e-17, -6.57484850e-22, -1.81353848e-06,\n",
       "        1.38044718e-06, -4.33507282e-07,  2.06317204e-14,  2.24410101e-13,\n",
       "       -3.98900844e-17, -4.52159543e-15, -7.62804861e-19, -1.71517243e-16,\n",
       "       -4.38566291e-18, -2.35768877e-14, -5.07683430e-12, -3.54500962e-15,\n",
       "       -2.20901551e-21, -5.72038396e-17, -4.15454241e-16,  7.33582918e-07,\n",
       "       -7.33582918e-07,  1.65021999e-10,  1.64717266e-10,  2.04703350e-09,\n",
       "        1.11660595e-16, -7.49304595e-07,  1.43027000e-16, -3.07395882e-15,\n",
       "       -5.22295310e-11, -3.80759484e-15,  1.47015059e-13,  1.78017654e-13,\n",
       "        7.79676249e-14,  7.66993980e-14,  2.43422812e-13, -1.62865807e-18,\n",
       "       -4.64952892e-12, -1.42059989e-19, -5.10498554e-14, -2.84481303e-20,\n",
       "        5.62766255e-11, -3.70058031e-18, -8.60788262e-20, -2.53450915e-24,\n",
       "       -2.53450915e-24, -4.49168537e-24, -9.09749587e-17, -7.89871716e-14,\n",
       "       -1.05917729e-26,  1.45720181e-17, -5.89494680e-16, -1.67932470e-18,\n",
       "       -1.50069846e-21, -2.98246061e-19, -2.45146994e-21,  1.11117400e-21,\n",
       "        7.02762120e-17, -2.53450915e-24, -2.53450915e-24,  2.07750104e-07,\n",
       "        1.13146977e-09,  4.07651731e-06,  3.06298884e-20,  2.31185389e-17,\n",
       "        5.97657112e-16,  1.47315713e-19,  2.09229816e-14,  6.48779589e-17,\n",
       "        1.44790948e-23,  1.00215682e-18,  1.70106316e-17,  6.86182197e-22,\n",
       "        9.67184667e-19,  4.02368765e-19,  4.32761554e-22,  5.35161484e-20,\n",
       "        2.69938377e-21,  1.70583614e-22,  1.74618893e-17,  2.73035263e-15,\n",
       "        3.27611868e-29,  1.86212493e-21, -7.62447083e-07,  2.09229816e-14,\n",
       "       -3.52295183e-06,  6.95597896e-15, -3.73605021e-10, -6.82929328e-17,\n",
       "       -4.06116178e-10,  3.25074452e-11,  1.69031932e-15, -1.61184129e-19,\n",
       "       -6.36697284e-10,  2.24441939e-04, -3.23418409e-04,  9.23740723e-05,\n",
       "        5.49099451e-06,  1.10681658e-06,  1.26668435e-08,  2.89113098e-17,\n",
       "        1.12090734e-13, -3.84915783e-13, -4.15545401e-20, -3.72529655e-14,\n",
       "       -7.57963614e-26])"
      ]
     },
     "execution_count": 42,
     "metadata": {},
     "output_type": "execute_result"
    }
   ],
   "source": [
    "surf.net_rates_of_progress"
   ]
  },
  {
   "cell_type": "code",
   "execution_count": 43,
   "metadata": {},
   "outputs": [
    {
     "data": {
      "text/plain": [
       "(1401.12,\n",
       " 0.25537397801217604,\n",
       " array([8.57251829e-52, 5.52559136e-02, 8.02795364e-02, 4.66538235e-01,\n",
       "        7.99904131e-02, 2.43990142e-01, 2.92454365e-07, 1.15681223e-07,\n",
       "        2.31074576e-02, 4.92429712e-04, 3.04795023e-06, 3.09085004e-04,\n",
       "        6.52427764e-03, 8.92742430e-04, 1.58886185e-08, 1.73846262e-12,\n",
       "        8.34330014e-04, 3.48274770e-07, 2.25665080e-16, 3.30877680e-06,\n",
       "        3.91624321e-11, 1.69877843e-05, 5.97028270e-11, 3.85941596e-03,\n",
       "        4.11882911e-10, 1.90138506e-07, 0.00000000e+00, 2.01326047e-05,\n",
       "        1.32278688e-06, 2.19513349e-05, 1.61913734e-09, 3.75548952e-10,\n",
       "        1.63897295e-12, 3.92625656e-04, 5.81309499e-06, 9.73265847e-11,\n",
       "        1.49121102e-09, 2.42524925e-11, 1.75135889e-12, 5.56726341e-14,\n",
       "        6.99211835e-14, 1.40893321e-18, 9.46147006e-10, 2.50930367e-14,\n",
       "        3.02835129e-11, 1.18083497e-03, 9.03026416e-15, 4.16191911e-20,\n",
       "        7.95942276e-21, 6.62710649e-14, 2.92970155e-10, 6.09443740e-18,\n",
       "        1.44704017e-13, 1.58614530e-12, 3.27566842e-12, 3.53702381e-19,\n",
       "        8.66272885e-20, 4.95961528e-11, 1.69369160e-13, 8.72782734e-17,\n",
       "        3.90788839e-15, 2.83525087e-21, 2.67408608e-16, 7.62016842e-10,\n",
       "        1.40530914e-11, 1.83525730e-22, 1.47728037e-19, 1.17665873e-22,\n",
       "        2.11156312e-15, 3.26976803e-18, 5.67257246e-23, 9.08290715e-17,\n",
       "        5.69068892e-09, 2.34406847e-04, 4.49758523e-06, 7.29922933e-04,\n",
       "        1.21804561e-02, 1.01924627e-09, 4.04925721e-08, 2.75808609e-09,\n",
       "        1.21170763e-02, 1.05142435e-03, 6.21083065e-04, 1.18889500e-04,\n",
       "        9.06720586e-07, 3.99086422e-06, 1.39595619e-07, 2.14984541e-08,\n",
       "        4.69504759e-11, 4.76333106e-13, 6.02156345e-11, 1.40620291e-06,\n",
       "        1.49992355e-10, 1.11460406e-03, 1.19212269e-23, 1.38590798e-16,\n",
       "        1.50333888e-12, 4.32639665e-14, 5.48127437e-11, 4.97736080e-14,\n",
       "        3.81421634e-15, 1.85958163e-08, 6.56028017e-11, 1.68989473e-10,\n",
       "        2.69230495e-07, 2.81891088e-21, 2.68986018e-22, 1.94239564e-11,\n",
       "        4.03023795e-16, 6.00220911e-19, 2.91706241e-15, 2.46964471e-17,\n",
       "        1.14992134e-09, 3.04572483e-12, 1.95170371e-13, 6.63408510e-17,\n",
       "        8.91900109e-19, 3.84442000e-17, 9.03736570e-08, 2.48954651e-09,\n",
       "        1.79938929e-19, 3.45147860e-10, 3.10875003e-12, 8.11536478e-11,\n",
       "        1.12103098e-13, 3.63074644e-15, 1.00282154e-16, 8.22165857e-16,\n",
       "        9.00870106e-16, 5.13708836e-16, 1.47364280e-09, 1.91181579e-18,\n",
       "        2.48468173e-18, 6.37793044e-14, 2.45996547e-11, 3.35036525e-17,\n",
       "        2.91799548e-20, 2.43942247e-19, 1.38996266e-15, 1.93635430e-22,\n",
       "        3.68218635e-23, 8.67106983e-18, 1.84845047e-18, 3.90393445e-16,\n",
       "        1.07983933e-16, 2.04952312e-20, 3.17786438e-21, 2.38255838e-18,\n",
       "        3.54524237e-19, 1.68307615e-13, 1.85641871e-03, 3.36854083e-08,\n",
       "        1.68419732e-06, 5.29647906e-11, 2.09534451e-11, 3.88800414e-08,\n",
       "        5.04900384e-14, 2.32889178e-11, 1.07806846e-15, 4.62800688e-06,\n",
       "        8.25396406e-13, 1.28961142e-11, 8.26431740e-09, 5.27502379e-29,\n",
       "        2.44629280e-03, 5.70080232e-05, 1.94155814e-21, 5.89782135e-10,\n",
       "        1.12976967e-07, 9.21265825e-10, 1.16339638e-03, 8.06117827e-05,\n",
       "        2.51412157e-11, 7.39263064e-14, 1.63159694e-06, 4.49089538e-16,\n",
       "        8.14099888e-08, 2.12120430e-03, 1.24307438e-11, 6.70384554e-05,\n",
       "        2.63552720e-04, 7.71615565e-12, 3.07188170e-05, 7.13558319e-23,\n",
       "        5.30471253e-06, 7.95912896e-12, 4.49578405e-10]))"
      ]
     },
     "execution_count": 43,
     "metadata": {},
     "output_type": "execute_result"
    }
   ],
   "source": [
    "gas.TDY"
   ]
  },
  {
   "cell_type": "code",
   "execution_count": 44,
   "metadata": {},
   "outputs": [
    {
     "data": {
      "text/plain": [
       "(1401.12,\n",
       " 0.25537397801217604,\n",
       " array([8.57251829e-52, 5.52559136e-02, 8.02795364e-02, 4.66538235e-01,\n",
       "        7.99904131e-02, 2.43990142e-01, 2.92454365e-07, 1.15681223e-07,\n",
       "        2.31074576e-02, 4.92429712e-04, 3.04795023e-06, 3.09085004e-04,\n",
       "        6.52427764e-03, 8.92742430e-04, 1.58886185e-08, 1.73846262e-12,\n",
       "        8.34330014e-04, 3.48274770e-07, 2.25665080e-16, 3.30877680e-06,\n",
       "        3.91624321e-11, 1.69877843e-05, 5.97028270e-11, 3.85941596e-03,\n",
       "        4.11882911e-10, 1.90138506e-07, 0.00000000e+00, 2.01326047e-05,\n",
       "        1.32278688e-06, 2.19513349e-05, 1.61913734e-09, 3.75548952e-10,\n",
       "        1.63897295e-12, 3.92625656e-04, 5.81309499e-06, 9.73265847e-11,\n",
       "        1.49121102e-09, 2.42524925e-11, 1.75135889e-12, 5.56726341e-14,\n",
       "        6.99211835e-14, 1.40893321e-18, 9.46147006e-10, 2.50930367e-14,\n",
       "        3.02835129e-11, 1.18083497e-03, 9.03026416e-15, 4.16191911e-20,\n",
       "        7.95942276e-21, 6.62710649e-14, 2.92970155e-10, 6.09443740e-18,\n",
       "        1.44704017e-13, 1.58614530e-12, 3.27566842e-12, 3.53702381e-19,\n",
       "        8.66272885e-20, 4.95961528e-11, 1.69369160e-13, 8.72782734e-17,\n",
       "        3.90788839e-15, 2.83525087e-21, 2.67408608e-16, 7.62016842e-10,\n",
       "        1.40530914e-11, 1.83525730e-22, 1.47728037e-19, 1.17665873e-22,\n",
       "        2.11156312e-15, 3.26976803e-18, 5.67257246e-23, 9.08290715e-17,\n",
       "        5.69068892e-09, 2.34406847e-04, 4.49758523e-06, 7.29922933e-04,\n",
       "        1.21804561e-02, 1.01924627e-09, 4.04925721e-08, 2.75808609e-09,\n",
       "        1.21170763e-02, 1.05142435e-03, 6.21083065e-04, 1.18889500e-04,\n",
       "        9.06720586e-07, 3.99086422e-06, 1.39595619e-07, 2.14984541e-08,\n",
       "        4.69504759e-11, 4.76333106e-13, 6.02156345e-11, 1.40620291e-06,\n",
       "        1.49992355e-10, 1.11460406e-03, 1.19212269e-23, 1.38590798e-16,\n",
       "        1.50333888e-12, 4.32639665e-14, 5.48127437e-11, 4.97736080e-14,\n",
       "        3.81421634e-15, 1.85958163e-08, 6.56028017e-11, 1.68989473e-10,\n",
       "        2.69230495e-07, 2.81891088e-21, 2.68986018e-22, 1.94239564e-11,\n",
       "        4.03023795e-16, 6.00220911e-19, 2.91706241e-15, 2.46964471e-17,\n",
       "        1.14992134e-09, 3.04572483e-12, 1.95170371e-13, 6.63408510e-17,\n",
       "        8.91900109e-19, 3.84442000e-17, 9.03736570e-08, 2.48954651e-09,\n",
       "        1.79938929e-19, 3.45147860e-10, 3.10875003e-12, 8.11536478e-11,\n",
       "        1.12103098e-13, 3.63074644e-15, 1.00282154e-16, 8.22165857e-16,\n",
       "        9.00870106e-16, 5.13708836e-16, 1.47364280e-09, 1.91181579e-18,\n",
       "        2.48468173e-18, 6.37793044e-14, 2.45996547e-11, 3.35036525e-17,\n",
       "        2.91799548e-20, 2.43942247e-19, 1.38996266e-15, 1.93635430e-22,\n",
       "        3.68218635e-23, 8.67106983e-18, 1.84845047e-18, 3.90393445e-16,\n",
       "        1.07983933e-16, 2.04952312e-20, 3.17786438e-21, 2.38255838e-18,\n",
       "        3.54524237e-19, 1.68307615e-13, 1.85641871e-03, 3.36854083e-08,\n",
       "        1.68419732e-06, 5.29647906e-11, 2.09534451e-11, 3.88800414e-08,\n",
       "        5.04900384e-14, 2.32889178e-11, 1.07806846e-15, 4.62800688e-06,\n",
       "        8.25396406e-13, 1.28961142e-11, 8.26431740e-09, 5.27502379e-29,\n",
       "        2.44629280e-03, 5.70080232e-05, 1.94155814e-21, 5.89782135e-10,\n",
       "        1.12976967e-07, 9.21265825e-10, 1.16339638e-03, 8.06117827e-05,\n",
       "        2.51412157e-11, 7.39263064e-14, 1.63159694e-06, 4.49089538e-16,\n",
       "        8.14099888e-08, 2.12120430e-03, 1.24307438e-11, 6.70384554e-05,\n",
       "        2.63552720e-04, 7.71615565e-12, 3.07188170e-05, 7.13558319e-23,\n",
       "        5.30471253e-06, 7.95912896e-12, 4.49578405e-10]))"
      ]
     },
     "execution_count": 44,
     "metadata": {},
     "output_type": "execute_result"
    }
   ],
   "source": [
    "r.thermo.TDY"
   ]
  },
  {
   "cell_type": "code",
   "execution_count": 45,
   "metadata": {},
   "outputs": [
    {
     "name": "stdout",
     "output_type": "stream",
     "text": [
      "\n",
      "Highest forward rate constants, gas\n",
      "1115 : OCHCO(80) <=> CO(14) + HCO(22)                     1.8e+13\n",
      "1719 : C2H3N(152) <=> C2H3N(154)                          7.1e+12\n",
      "590 : S(2447) <=> 2 S(1489)                              5.0e+12\n",
      "601 : S(4059) <=> NO2NO(340) + S(1489)                   5.0e+12\n",
      "602 : S(10763) <=> HNO(87) + NO2NO(340)                  5.0e+12\n",
      "1720 : C2H3N(152) <=> CH3CN(111)                          1.7e+12\n",
      "1116 : OCHCO(80) <=> 2 CO(14) + H(20)                     1.4e+12\n",
      "\n",
      "Highest forward rate constants, surface\n",
      " 83 : CHX(35) + HX(26) <=> CH2X(34) + X(1)               3.1e+21\n",
      " 94 : CHX(35) + X(1) <=> CX(33) + HX(26)                 3.1e+21\n",
      "467 : CH2X(34) + HX(26) <=> CH3X(28) + X(1)              3.1e+21\n",
      "161 : SX(1063) + X(1) <=> HOX(29) + SX(1000)             5.9e+20\n",
      "146 : CH2X(34) + SX(1047) <=> CHX(35) + SX(1039)         4.8e+20\n",
      "340 : CHX(35) + SX(605) <=> HNOX(533) + SX(1000)         4.8e+20\n",
      "164 : CHX(35) + SX(1063) <=> 2 SX(1000)                  4.8e+20\n",
      "\n",
      "Highest reverse rate constants, gas\n",
      "471 : H2NO(88) + HCO(22) <=> S(674)                      3.0e+29\n",
      "502 : H2NO3(243) + S(665) <=> HNO3(4) + S(674)           1.5e+29\n",
      "501 : H(20) + S(665) <=> S(674)                          1.1e+25\n",
      "577 : H2NO(88) + S(665) <=> HNO(87) + S(7627)            5.7e+24\n",
      "295 : CH2OH(45) + H2NO(88) <=> S(1108)                   2.0e+24\n",
      "476 : ONCDO(266) <=> S(7627)                             2.6e+23\n",
      "508 : CH2OH(45) + S(665) <=> CH2O(17) + S(674)           1.1e+23\n",
      "\n",
      "Highest reverse rate constants, surface\n",
      "736 : N2O5(7142) + 2 X(1) <=> NO2X(206) + NO3X(4718)     1.6e+37\n",
      "798 : S(8965) + 2 X(1) <=> H2NX(201) + SX(4793)          1.2e+34\n",
      "399 : S(4541) + 2 X(1) <=> H2NX(201) + SX(1064)          8.1e+33\n",
      "353 : SX(3939) + X(1) <=> CX(33) + SX(605)               9.2e+32\n",
      "698 : HNOX(533) + SX(4794) <=> SX(1064) + SX(606)        6.1e+32\n",
      "688 : SX(5810) + X(1) <=> HNO2X(513) + SX(605)           5.2e+32\n",
      "752 : HOX(29) + SX(1050) <=> OX(27) + SX(1043)           4.2e+32\n",
      "Units are a combination of kmol, m^3 and s, that depend on the rate expression for the reaction.\n"
     ]
    }
   ],
   "source": [
    "report_rate_constants()"
   ]
  },
  {
   "cell_type": "code",
   "execution_count": 46,
   "metadata": {},
   "outputs": [
    {
     "data": {
      "text/plain": [
       "False"
      ]
     },
     "execution_count": 46,
     "metadata": {},
     "output_type": "execute_result"
    }
   ],
   "source": [
    "sim.verbose"
   ]
  },
  {
   "cell_type": "code",
   "execution_count": 47,
   "metadata": {},
   "outputs": [
    {
     "data": {
      "text/plain": [
       "'IdealGasReactor_2: CH2OOH(55)'"
      ]
     },
     "execution_count": 47,
     "metadata": {},
     "output_type": "execute_result"
    }
   ],
   "source": [
    "sim.component_name(46)"
   ]
  },
  {
   "cell_type": "code",
   "execution_count": 48,
   "metadata": {},
   "outputs": [
    {
     "data": {
      "text/plain": [
       "<BarContainer object of 1793 artists>"
      ]
     },
     "execution_count": 48,
     "metadata": {},
     "output_type": "execute_result"
    },
    {
     "data": {
      "image/png": "[encoded data removed]",
      "text/plain": [
       "<Figure size 432x288 with 1 Axes>"
      ]
     },
     "metadata": {
      "needs_background": "light"
     },
     "output_type": "display_data"
    }
   ],
   "source": [
    "plt.barh(np.arange(len(gas.net_rates_of_progress)),gas.net_rates_of_progress)"
   ]
  },
  {
   "cell_type": "code",
   "execution_count": 49,
   "metadata": {},
   "outputs": [
    {
     "data": {
      "text/plain": [
       "1401.12"
      ]
     },
     "execution_count": 49,
     "metadata": {},
     "output_type": "execute_result"
    }
   ],
   "source": [
    "gas.T"
   ]
  },
  {
   "cell_type": "code",
   "execution_count": 57,
   "metadata": {},
   "outputs": [
    {
     "data": {
      "text/html": [
       "<div>\n",
       "<style scoped>\n",
       "    .dataframe tbody tr th:only-of-type {\n",
       "        vertical-align: middle;\n",
       "    }\n",
       "\n",
       "    .dataframe tbody tr th {\n",
       "        vertical-align: top;\n",
       "    }\n",
       "\n",
       "    .dataframe thead th {\n",
       "        text-align: right;\n",
       "    }\n",
       "</style>\n",
       "<table border=\"1\" class=\"dataframe\">\n",
       "  <thead>\n",
       "    <tr style=\"text-align: right;\">\n",
       "      <th></th>\n",
       "      <th>Distance (mm)</th>\n",
       "      <th>T (C)</th>\n",
       "      <th>P (atm)</th>\n",
       "      <th>Ne</th>\n",
       "      <th>NH3(2)</th>\n",
       "      <th>NH2OH(3)</th>\n",
       "      <th>HNO3(4)</th>\n",
       "      <th>CH3OH(5)</th>\n",
       "      <th>H2O(6)</th>\n",
       "      <th>N2(7)</th>\n",
       "      <th>...</th>\n",
       "      <th>SX(4937)</th>\n",
       "      <th>SX(5513)</th>\n",
       "      <th>SX(5810)</th>\n",
       "      <th>SX(5814)</th>\n",
       "      <th>SX(6977)</th>\n",
       "      <th>SX(7604)</th>\n",
       "      <th>SX(9643)</th>\n",
       "      <th>gas_heat</th>\n",
       "      <th>surface_heat</th>\n",
       "      <th>alpha</th>\n",
       "    </tr>\n",
       "  </thead>\n",
       "  <tbody>\n",
       "    <tr>\n",
       "      <th>0</th>\n",
       "      <td>0.000000</td>\n",
       "      <td>1127.97</td>\n",
       "      <td>1.00009</td>\n",
       "      <td>1.247166e-51</td>\n",
       "      <td>0.095253</td>\n",
       "      <td>0.071355</td>\n",
       "      <td>0.217364</td>\n",
       "      <td>0.07329</td>\n",
       "      <td>0.397614</td>\n",
       "      <td>3.064936e-07</td>\n",
       "      <td>...</td>\n",
       "      <td>1.110275e-09</td>\n",
       "      <td>4.525813e-13</td>\n",
       "      <td>1.293102e-15</td>\n",
       "      <td>3.206944e-17</td>\n",
       "      <td>0.000041</td>\n",
       "      <td>1.620365e-19</td>\n",
       "      <td>5.758312e-26</td>\n",
       "      <td>7.341846e+11</td>\n",
       "      <td>-2.303106e+12</td>\n",
       "      <td>1.467955</td>\n",
       "    </tr>\n",
       "    <tr>\n",
       "      <th>1</th>\n",
       "      <td>0.003874</td>\n",
       "      <td>1127.97</td>\n",
       "      <td>1.00009</td>\n",
       "      <td>1.243683e-51</td>\n",
       "      <td>0.095253</td>\n",
       "      <td>0.071355</td>\n",
       "      <td>0.217364</td>\n",
       "      <td>0.07329</td>\n",
       "      <td>0.397614</td>\n",
       "      <td>3.064936e-07</td>\n",
       "      <td>...</td>\n",
       "      <td>1.110275e-09</td>\n",
       "      <td>4.525813e-13</td>\n",
       "      <td>1.293102e-15</td>\n",
       "      <td>3.206944e-17</td>\n",
       "      <td>0.000041</td>\n",
       "      <td>1.620365e-19</td>\n",
       "      <td>5.758312e-26</td>\n",
       "      <td>7.341846e+11</td>\n",
       "      <td>-2.303106e+12</td>\n",
       "      <td>1.467955</td>\n",
       "    </tr>\n",
       "    <tr>\n",
       "      <th>2</th>\n",
       "      <td>0.007748</td>\n",
       "      <td>1127.97</td>\n",
       "      <td>1.00009</td>\n",
       "      <td>1.242985e-51</td>\n",
       "      <td>0.095253</td>\n",
       "      <td>0.071355</td>\n",
       "      <td>0.217364</td>\n",
       "      <td>0.07329</td>\n",
       "      <td>0.397614</td>\n",
       "      <td>3.064936e-07</td>\n",
       "      <td>...</td>\n",
       "      <td>1.110275e-09</td>\n",
       "      <td>4.525813e-13</td>\n",
       "      <td>1.293102e-15</td>\n",
       "      <td>3.206944e-17</td>\n",
       "      <td>0.000041</td>\n",
       "      <td>1.620365e-19</td>\n",
       "      <td>5.758312e-26</td>\n",
       "      <td>7.341846e+11</td>\n",
       "      <td>-2.303106e+12</td>\n",
       "      <td>1.467955</td>\n",
       "    </tr>\n",
       "    <tr>\n",
       "      <th>3</th>\n",
       "      <td>0.011622</td>\n",
       "      <td>1127.97</td>\n",
       "      <td>1.00009</td>\n",
       "      <td>1.242985e-51</td>\n",
       "      <td>0.095253</td>\n",
       "      <td>0.071355</td>\n",
       "      <td>0.217364</td>\n",
       "      <td>0.07329</td>\n",
       "      <td>0.397614</td>\n",
       "      <td>3.064936e-07</td>\n",
       "      <td>...</td>\n",
       "      <td>1.110275e-09</td>\n",
       "      <td>4.525813e-13</td>\n",
       "      <td>1.293102e-15</td>\n",
       "      <td>3.206944e-17</td>\n",
       "      <td>0.000041</td>\n",
       "      <td>1.620365e-19</td>\n",
       "      <td>5.758312e-26</td>\n",
       "      <td>7.341846e+11</td>\n",
       "      <td>-2.303106e+12</td>\n",
       "      <td>1.467955</td>\n",
       "    </tr>\n",
       "    <tr>\n",
       "      <th>4</th>\n",
       "      <td>0.015496</td>\n",
       "      <td>1127.97</td>\n",
       "      <td>1.00009</td>\n",
       "      <td>1.242985e-51</td>\n",
       "      <td>0.095253</td>\n",
       "      <td>0.071355</td>\n",
       "      <td>0.217364</td>\n",
       "      <td>0.07329</td>\n",
       "      <td>0.397614</td>\n",
       "      <td>3.064936e-07</td>\n",
       "      <td>...</td>\n",
       "      <td>1.110275e-09</td>\n",
       "      <td>4.525813e-13</td>\n",
       "      <td>1.293102e-15</td>\n",
       "      <td>3.206944e-17</td>\n",
       "      <td>0.000041</td>\n",
       "      <td>1.620365e-19</td>\n",
       "      <td>5.758312e-26</td>\n",
       "      <td>7.341846e+11</td>\n",
       "      <td>-2.303106e+12</td>\n",
       "      <td>1.467955</td>\n",
       "    </tr>\n",
       "    <tr>\n",
       "      <th>...</th>\n",
       "      <td>...</td>\n",
       "      <td>...</td>\n",
       "      <td>...</td>\n",
       "      <td>...</td>\n",
       "      <td>...</td>\n",
       "      <td>...</td>\n",
       "      <td>...</td>\n",
       "      <td>...</td>\n",
       "      <td>...</td>\n",
       "      <td>...</td>\n",
       "      <td>...</td>\n",
       "      <td>...</td>\n",
       "      <td>...</td>\n",
       "      <td>...</td>\n",
       "      <td>...</td>\n",
       "      <td>...</td>\n",
       "      <td>...</td>\n",
       "      <td>...</td>\n",
       "      <td>...</td>\n",
       "      <td>...</td>\n",
       "      <td>...</td>\n",
       "    </tr>\n",
       "    <tr>\n",
       "      <th>57</th>\n",
       "      <td>0.216946</td>\n",
       "      <td>1127.97</td>\n",
       "      <td>1.00009</td>\n",
       "      <td>1.247166e-51</td>\n",
       "      <td>0.095253</td>\n",
       "      <td>0.071355</td>\n",
       "      <td>0.217364</td>\n",
       "      <td>0.07329</td>\n",
       "      <td>0.397614</td>\n",
       "      <td>3.064936e-07</td>\n",
       "      <td>...</td>\n",
       "      <td>1.110275e-09</td>\n",
       "      <td>4.525813e-13</td>\n",
       "      <td>1.293102e-15</td>\n",
       "      <td>3.206944e-17</td>\n",
       "      <td>0.000041</td>\n",
       "      <td>1.620365e-19</td>\n",
       "      <td>5.758312e-26</td>\n",
       "      <td>7.341846e+11</td>\n",
       "      <td>-2.303106e+12</td>\n",
       "      <td>1.467955</td>\n",
       "    </tr>\n",
       "    <tr>\n",
       "      <th>58</th>\n",
       "      <td>0.220820</td>\n",
       "      <td>1127.97</td>\n",
       "      <td>1.00009</td>\n",
       "      <td>1.247166e-51</td>\n",
       "      <td>0.095253</td>\n",
       "      <td>0.071355</td>\n",
       "      <td>0.217364</td>\n",
       "      <td>0.07329</td>\n",
       "      <td>0.397614</td>\n",
       "      <td>3.064936e-07</td>\n",
       "      <td>...</td>\n",
       "      <td>1.110275e-09</td>\n",
       "      <td>4.525813e-13</td>\n",
       "      <td>1.293102e-15</td>\n",
       "      <td>3.206944e-17</td>\n",
       "      <td>0.000041</td>\n",
       "      <td>1.620365e-19</td>\n",
       "      <td>5.758312e-26</td>\n",
       "      <td>7.341846e+11</td>\n",
       "      <td>-2.303106e+12</td>\n",
       "      <td>1.467955</td>\n",
       "    </tr>\n",
       "    <tr>\n",
       "      <th>59</th>\n",
       "      <td>0.224694</td>\n",
       "      <td>1127.97</td>\n",
       "      <td>1.00009</td>\n",
       "      <td>1.247166e-51</td>\n",
       "      <td>0.095253</td>\n",
       "      <td>0.071355</td>\n",
       "      <td>0.217364</td>\n",
       "      <td>0.07329</td>\n",
       "      <td>0.397614</td>\n",
       "      <td>3.064936e-07</td>\n",
       "      <td>...</td>\n",
       "      <td>1.110275e-09</td>\n",
       "      <td>4.525813e-13</td>\n",
       "      <td>1.293102e-15</td>\n",
       "      <td>3.206944e-17</td>\n",
       "      <td>0.000041</td>\n",
       "      <td>1.620365e-19</td>\n",
       "      <td>5.758312e-26</td>\n",
       "      <td>7.341846e+11</td>\n",
       "      <td>-2.303106e+12</td>\n",
       "      <td>1.467955</td>\n",
       "    </tr>\n",
       "    <tr>\n",
       "      <th>60</th>\n",
       "      <td>0.228568</td>\n",
       "      <td>1127.97</td>\n",
       "      <td>1.00009</td>\n",
       "      <td>1.247166e-51</td>\n",
       "      <td>0.095253</td>\n",
       "      <td>0.071355</td>\n",
       "      <td>0.217364</td>\n",
       "      <td>0.07329</td>\n",
       "      <td>0.397614</td>\n",
       "      <td>3.064936e-07</td>\n",
       "      <td>...</td>\n",
       "      <td>1.110275e-09</td>\n",
       "      <td>4.525813e-13</td>\n",
       "      <td>1.293102e-15</td>\n",
       "      <td>3.206944e-17</td>\n",
       "      <td>0.000041</td>\n",
       "      <td>1.620365e-19</td>\n",
       "      <td>5.758312e-26</td>\n",
       "      <td>7.341846e+11</td>\n",
       "      <td>-2.303106e+12</td>\n",
       "      <td>1.467955</td>\n",
       "    </tr>\n",
       "    <tr>\n",
       "      <th>61</th>\n",
       "      <td>0.232442</td>\n",
       "      <td>1127.97</td>\n",
       "      <td>1.00009</td>\n",
       "      <td>1.247166e-51</td>\n",
       "      <td>0.095253</td>\n",
       "      <td>0.071355</td>\n",
       "      <td>0.217364</td>\n",
       "      <td>0.07329</td>\n",
       "      <td>0.397614</td>\n",
       "      <td>3.064936e-07</td>\n",
       "      <td>...</td>\n",
       "      <td>1.110275e-09</td>\n",
       "      <td>4.525813e-13</td>\n",
       "      <td>1.293102e-15</td>\n",
       "      <td>3.206944e-17</td>\n",
       "      <td>0.000041</td>\n",
       "      <td>1.620365e-19</td>\n",
       "      <td>5.758312e-26</td>\n",
       "      <td>7.341846e+11</td>\n",
       "      <td>-2.303106e+12</td>\n",
       "      <td>1.467955</td>\n",
       "    </tr>\n",
       "  </tbody>\n",
       "</table>\n",
       "<p>62 rows × 272 columns</p>\n",
       "</div>"
      ],
      "text/plain": [
       "    Distance (mm)    T (C)  P (atm)            Ne    NH3(2)  NH2OH(3)  \\\n",
       "0        0.000000  1127.97  1.00009  1.247166e-51  0.095253  0.071355   \n",
       "1        0.003874  1127.97  1.00009  1.243683e-51  0.095253  0.071355   \n",
       "2        0.007748  1127.97  1.00009  1.242985e-51  0.095253  0.071355   \n",
       "3        0.011622  1127.97  1.00009  1.242985e-51  0.095253  0.071355   \n",
       "4        0.015496  1127.97  1.00009  1.242985e-51  0.095253  0.071355   \n",
       "..            ...      ...      ...           ...       ...       ...   \n",
       "57       0.216946  1127.97  1.00009  1.247166e-51  0.095253  0.071355   \n",
       "58       0.220820  1127.97  1.00009  1.247166e-51  0.095253  0.071355   \n",
       "59       0.224694  1127.97  1.00009  1.247166e-51  0.095253  0.071355   \n",
       "60       0.228568  1127.97  1.00009  1.247166e-51  0.095253  0.071355   \n",
       "61       0.232442  1127.97  1.00009  1.247166e-51  0.095253  0.071355   \n",
       "\n",
       "     HNO3(4)  CH3OH(5)    H2O(6)         N2(7)  ...      SX(4937)  \\\n",
       "0   0.217364   0.07329  0.397614  3.064936e-07  ...  1.110275e-09   \n",
       "1   0.217364   0.07329  0.397614  3.064936e-07  ...  1.110275e-09   \n",
       "2   0.217364   0.07329  0.397614  3.064936e-07  ...  1.110275e-09   \n",
       "3   0.217364   0.07329  0.397614  3.064936e-07  ...  1.110275e-09   \n",
       "4   0.217364   0.07329  0.397614  3.064936e-07  ...  1.110275e-09   \n",
       "..       ...       ...       ...           ...  ...           ...   \n",
       "57  0.217364   0.07329  0.397614  3.064936e-07  ...  1.110275e-09   \n",
       "58  0.217364   0.07329  0.397614  3.064936e-07  ...  1.110275e-09   \n",
       "59  0.217364   0.07329  0.397614  3.064936e-07  ...  1.110275e-09   \n",
       "60  0.217364   0.07329  0.397614  3.064936e-07  ...  1.110275e-09   \n",
       "61  0.217364   0.07329  0.397614  3.064936e-07  ...  1.110275e-09   \n",
       "\n",
       "        SX(5513)      SX(5810)      SX(5814)  SX(6977)      SX(7604)  \\\n",
       "0   4.525813e-13  1.293102e-15  3.206944e-17  0.000041  1.620365e-19   \n",
       "1   4.525813e-13  1.293102e-15  3.206944e-17  0.000041  1.620365e-19   \n",
       "2   4.525813e-13  1.293102e-15  3.206944e-17  0.000041  1.620365e-19   \n",
       "3   4.525813e-13  1.293102e-15  3.206944e-17  0.000041  1.620365e-19   \n",
       "4   4.525813e-13  1.293102e-15  3.206944e-17  0.000041  1.620365e-19   \n",
       "..           ...           ...           ...       ...           ...   \n",
       "57  4.525813e-13  1.293102e-15  3.206944e-17  0.000041  1.620365e-19   \n",
       "58  4.525813e-13  1.293102e-15  3.206944e-17  0.000041  1.620365e-19   \n",
       "59  4.525813e-13  1.293102e-15  3.206944e-17  0.000041  1.620365e-19   \n",
       "60  4.525813e-13  1.293102e-15  3.206944e-17  0.000041  1.620365e-19   \n",
       "61  4.525813e-13  1.293102e-15  3.206944e-17  0.000041  1.620365e-19   \n",
       "\n",
       "        SX(9643)      gas_heat  surface_heat     alpha  \n",
       "0   5.758312e-26  7.341846e+11 -2.303106e+12  1.467955  \n",
       "1   5.758312e-26  7.341846e+11 -2.303106e+12  1.467955  \n",
       "2   5.758312e-26  7.341846e+11 -2.303106e+12  1.467955  \n",
       "3   5.758312e-26  7.341846e+11 -2.303106e+12  1.467955  \n",
       "4   5.758312e-26  7.341846e+11 -2.303106e+12  1.467955  \n",
       "..           ...           ...           ...       ...  \n",
       "57  5.758312e-26  7.341846e+11 -2.303106e+12  1.467955  \n",
       "58  5.758312e-26  7.341846e+11 -2.303106e+12  1.467955  \n",
       "59  5.758312e-26  7.341846e+11 -2.303106e+12  1.467955  \n",
       "60  5.758312e-26  7.341846e+11 -2.303106e+12  1.467955  \n",
       "61  5.758312e-26  7.341846e+11 -2.303106e+12  1.467955  \n",
       "\n",
       "[62 rows x 272 columns]"
      ]
     },
     "execution_count": 57,
     "metadata": {},
     "output_type": "execute_result"
    }
   ],
   "source": [
    "data = pd.read_csv(output_filename)\n",
    "data"
   ]
  },
  {
   "cell_type": "code",
   "execution_count": 58,
   "metadata": {},
   "outputs": [
    {
     "data": {
      "text/plain": [
       "(1, 272)"
      ]
     },
     "execution_count": 58,
     "metadata": {},
     "output_type": "execute_result"
    }
   ],
   "source": [
    "last_row = np.array(data.tail(1))\n",
    "np.shape(last_row)"
   ]
  },
  {
   "cell_type": "code",
   "execution_count": 59,
   "metadata": {},
   "outputs": [],
   "source": [
    "def xlabels():\n",
    "    plt.xticks([0,NReactors/4,NReactors/2,3*NReactors/4, NReactors],['0','','','',f'{length*1000:.0f} mm'])\n",
    "    plt.xlabel(\"Distance down reactor\")"
   ]
  },
  {
   "cell_type": "code",
   "execution_count": 60,
   "metadata": {},
   "outputs": [],
   "source": [
    "def title():\n",
    "    plt.title('T: {:}C, L/D: {:.2f}, FR: {:.2f}g/s'.format(temperature_c, L_D, injection_speed))"
   ]
  },
  {
   "cell_type": "code",
   "execution_count": 61,
   "metadata": {},
   "outputs": [
    {
     "data": {
      "image/png": "[encoded data removed]",
      "text/plain": [
       "<Figure size 432x288 with 1 Axes>"
      ]
     },
     "metadata": {
      "needs_background": "light"
     },
     "output_type": "display_data"
    }
   ],
   "source": [
    "data['T (C)'].plot()\n",
    "plt.ylabel('T (C)')\n",
    "xlabels()\n",
    "title()"
   ]
  },
  {
   "cell_type": "code",
   "execution_count": 62,
   "metadata": {},
   "outputs": [
    {
     "data": {
      "image/png": "[encoded data removed]",
      "text/plain": [
       "<Figure size 432x288 with 1 Axes>"
      ]
     },
     "metadata": {
      "needs_background": "light"
     },
     "output_type": "display_data"
    }
   ],
   "source": [
    "data[['NH2OH(3)', 'HNO3(4)', 'CH3OH(5)']].plot()\n",
    "plt.ylabel('Mole fraction')\n",
    "xlabels()\n",
    "title()"
   ]
  },
  {
   "cell_type": "code",
   "execution_count": 63,
   "metadata": {},
   "outputs": [
    {
     "data": {
      "text/plain": [
       "['Distance (mm)', 'T (C)', 'P (atm)', 'Ne']"
      ]
     },
     "execution_count": 63,
     "metadata": {},
     "output_type": "execute_result"
    }
   ],
   "source": [
    "list(data.columns)[:4]"
   ]
  },
  {
   "cell_type": "code",
   "execution_count": null,
   "metadata": {},
   "outputs": [],
   "source": [
    "data[['T (C)', 'alpha']].plot()\n",
    "xlabels()\n",
    "title()"
   ]
  },
  {
   "cell_type": "code",
   "execution_count": null,
   "metadata": {},
   "outputs": [],
   "source": [
    "ax1 = data['T (C)'].plot()\n",
    "plt.ylabel('Temperature (C)')\n",
    "xlabels()\n",
    "plt.legend()\n",
    "ax2 = ax1.twinx()\n",
    "data['alpha'].plot(ax=ax2, color='tab:orange')\n",
    "ax2.set_ylim(-2, 2)\n",
    "plt.legend()\n",
    "plt.ylabel('alpha')\n",
    "plt.tight_layout()\n",
    "title()\n",
    "plt.savefig('temperature-and-alpha.pdf')\n",
    "plt.show()"
   ]
  },
  {
   "cell_type": "code",
   "execution_count": null,
   "metadata": {},
   "outputs": [],
   "source": [
    "data.columns"
   ]
  },
  {
   "cell_type": "code",
   "execution_count": null,
   "metadata": {},
   "outputs": [],
   "source": [
    "data[['gas_heat','surface_heat']].plot()\n",
    "#plt.ylim(-1e7, 1e7)\n",
    "xlabels()\n",
    "title()\n",
    "plt.savefig('gas_and_surface_heat.pdf')\n",
    "plt.show()\n"
   ]
  },
  {
   "cell_type": "code",
   "execution_count": null,
   "metadata": {},
   "outputs": [],
   "source": [
    "ax1 = data[['gas_heat','surface_heat']].plot()\n",
    "plt.ylim(-1e9, 1e9)\n",
    "xlabels()\n",
    "plt.ylabel('Heat consumption rate (kJ/m3/s)')\n",
    "plt.legend(loc='upper left')\n",
    "ax2 = ax1.twinx()\n",
    "data['alpha'].plot(ax=ax2, style='k:', alpha=0.5)\n",
    "ax2.set_ylim(-10, 10)\n",
    "plt.legend(loc='lower right')\n",
    "plt.ylabel('alpha')\n",
    "plt.tight_layout()\n",
    "title()\n",
    "plt.savefig('heats-and-alpha.pdf')\n",
    "plt.show()"
   ]
  },
  {
   "cell_type": "code",
   "execution_count": null,
   "metadata": {},
   "outputs": [],
   "source": [
    "data[['T (C)']].plot()\n",
    "plt.ylabel('Temperature (C)')\n",
    "xlabels()\n",
    "plt.tight_layout()\n",
    "plt.savefig('temperature.pdf')\n",
    "plt.show()"
   ]
  },
  {
   "cell_type": "code",
   "execution_count": null,
   "metadata": {},
   "outputs": [],
   "source": [
    "data[['alpha']].plot(logy=True)\n",
    "xlabels()"
   ]
  },
  {
   "cell_type": "code",
   "execution_count": null,
   "metadata": {},
   "outputs": [],
   "source": [
    "data.plot(x='T (C)',y='alpha')\n"
   ]
  },
  {
   "cell_type": "code",
   "execution_count": null,
   "metadata": {},
   "outputs": [],
   "source": [
    "data.plot(x='T (C)',y='alpha', ylim=(-1,1))"
   ]
  },
  {
   "cell_type": "code",
   "execution_count": null,
   "metadata": {},
   "outputs": [],
   "source": [
    "specs = list(data.columns)\n",
    "specs = specs[4:-1]\n",
    "\n",
    "gas_species = [s for s in specs if 'X' not in s]\n",
    "adsorbates = [s for s in specs if 'X' in s]\n",
    "\n",
    "gas_species, adsorbates"
   ]
  },
  {
   "cell_type": "code",
   "execution_count": null,
   "metadata": {},
   "outputs": [],
   "source": [
    "data[gas_species[0:5]].plot(logy=True, logx=True)"
   ]
  },
  {
   "cell_type": "code",
   "execution_count": null,
   "metadata": {
    "scrolled": false
   },
   "outputs": [],
   "source": [
    "for i in range(0,len(gas_species),10):\n",
    "    data[gas_species[i:i+10]].plot(title='gas mole fraction', logy=False)\n",
    "    xlabels()\n",
    "    plt.tight_layout()\n",
    "    title()\n",
    "    plt.savefig(f'gas_mole_fractions_{i}.pdf')\n",
    "    plt.show()\n",
    "    \n",
    "for i in range(0,len(adsorbates),10):\n",
    "    data[adsorbates[i:i+10]].plot(title='surface coverages', logy=False)\n",
    "    xlabels()\n",
    "    plt.tight_layout()\n",
    "    title()\n",
    "    plt.savefig(f'surface_coverages_{i}.pdf')\n",
    "    plt.show()"
   ]
  },
  {
   "cell_type": "code",
   "execution_count": null,
   "metadata": {},
   "outputs": [],
   "source": [
    "gas.species('NO2(9)').composition"
   ]
  },
  {
   "cell_type": "code",
   "execution_count": null,
   "metadata": {},
   "outputs": [],
   "source": [
    "gas.partial_molar_volumes\n",
    "# gas.species('CH3OH(5)').D\n",
    "gas().D"
   ]
  },
  {
   "cell_type": "code",
   "execution_count": null,
   "metadata": {},
   "outputs": [],
   "source": [
    "gas.T #K\n",
    "gas.P #Pa"
   ]
  },
  {
   "cell_type": "code",
   "execution_count": null,
   "metadata": {},
   "outputs": [],
   "source": [
    "last_value = len(data['NO2(9)'])-1\n",
    "no2 = data.at[last_value,'NO2(9)']\n",
    "no = data.at[last_value,'NO(10)']\n",
    "no2_no = no2 + no\n",
    "h2 = data.at[last_value,'H2(13)']\n",
    "o2 = data.at[last_value,'O2(8)']\n",
    "n2 = data.at[last_value,'N2(7)']\n",
    "ch4 = data.at[last_value,'CH4(15)']\n",
    "co = data.at[last_value,'CO(14)']\n",
    "co2 = data.at[last_value,'CO2(12)']\n",
    "n2o = data.at[last_value,'N2O(11)']\n",
    "\n",
    "product_gases = np.array([no2_no,h2,o2,n2,ch4,co,co2,n2o])*100\n",
    "product_gases\n",
    "\n",
    "# plt.plot(np.ones_like(product_gases)*.611,product_gases,'*')\n",
    "# plt.yscale('log')\n",
    "# ld = .611\n",
    "# ax1 = data.plot(kind='scatter', x=ld, y='NO2(9)',color = 'r')"
   ]
  },
  {
   "cell_type": "code",
   "execution_count": null,
   "metadata": {},
   "outputs": [],
   "source": [
    "def xlabels_ld():\n",
    "    plt.xticks([0,NReactors/4,NReactors/2,3*NReactors/4, NReactors],['0','','','',f'{length*1000:.0f} mm'])\n",
    "    plt.xlabel(\"Distance down reactor\")\n",
    "    D = 1.8*cm \n",
    "    LD = length/D"
   ]
  },
  {
   "cell_type": "code",
   "execution_count": null,
   "metadata": {},
   "outputs": [],
   "source": [
    "D = 1.8*cm\n",
    "length/D\n",
    "gas_species"
   ]
  },
  {
   "cell_type": "code",
   "execution_count": null,
   "metadata": {},
   "outputs": [],
   "source": [
    "data['N2(7)']"
   ]
  },
  {
   "cell_type": "code",
   "execution_count": null,
   "metadata": {},
   "outputs": [],
   "source": [
    "violators = []\n",
    "for j in range(len(surf.reactions())):\n",
    "\n",
    "    for key in surf.reactions()[j].reactants:\n",
    "        if key in gas.species_names:\n",
    "            k = gas.species_names.index(key)\n",
    "            print(surf.reaction(j))\n",
    "            print('species index:',k,'\\nchemkin rxn num:',j+1)\n",
    "            T = surf.T\n",
    "            R = ct.gas_constant #J/kmol-K   \n",
    "            # surf.reactant_stoich_coeffs() array of stoich coefficients. [k,i] is elements k in rxn i\n",
    "            # surf.reactant_stoich_coeff(k,j) #stoich coeff of reactant k in rxn j\n",
    "            #m is the sum of the species on the surface's stoichiometric coefficients\n",
    "            m = sum(surf.reactant_stoich_coeffs()[:,j])-surf.reactant_stoich_coeff(k,j)\n",
    "            gamma = surf.site_density #kmol/m^2\n",
    "            W = gas.molecular_weights[k] #MW of gas kg/kmol\n",
    "            print('m = {0}, MW = {1} #kg/kmol, species {2}'.format(m,W,gas.species_names[k]))\n",
    "            stick = surf.forward_rate_constants[j]*gamma**m/(np.sqrt(R*T/(2*np.pi*gas.molecular_weights[k])))\n",
    "            violation = stick > 1\n",
    "            print('Violator?',violation,'. Stick:{:.2}'.format(stick), '\\n')\n",
    "            if violation:\n",
    "#                 print(surf.reaction(j))\n",
    "#                 print(k)\n",
    "#                 print('m = {0}, MW = {1} #kg/kmol, species {2}'.format(m,W,gas.species_names[k]))\n",
    "#                 print('cantera kf is {:.1e}'.format(surf.forward_rate_constants[j]))\n",
    "#         #     print(\"Calculated kf = cantera's kf?\", test == surf.forward_rate_constants[j])\n",
    "#                 print(violation, stick)\n",
    "#                 print('\\n')\n",
    "                violators.append(surf.reaction(j))"
   ]
  },
  {
   "cell_type": "code",
   "execution_count": null,
   "metadata": {},
   "outputs": [],
   "source": [
    "(data[specs].max()>0.01)"
   ]
  },
  {
   "cell_type": "code",
   "execution_count": null,
   "metadata": {},
   "outputs": [],
   "source": [
    "violators"
   ]
  },
  {
   "cell_type": "code",
   "execution_count": null,
   "metadata": {},
   "outputs": [],
   "source": [
    "data.loc[0]"
   ]
  },
  {
   "cell_type": "code",
   "execution_count": null,
   "metadata": {},
   "outputs": [],
   "source": []
  },
  {
   "cell_type": "code",
   "execution_count": null,
   "metadata": {},
   "outputs": [],
   "source": []
  },
  {
   "cell_type": "code",
   "execution_count": null,
   "metadata": {},
   "outputs": [],
   "source": []
  },
  {
   "cell_type": "code",
   "execution_count": null,
   "metadata": {},
   "outputs": [],
   "source": [
    "def stick_greater_than_1(T):\n",
    "    '''\n",
    "    For a given T  in Kelvin, returns a list of rxns for which Cantera \n",
    "    calculated the forward rate constant based on a sticking coefficient\n",
    "    greater than 1\n",
    "    '''\n",
    "    violators = []\n",
    "    sticks = []\n",
    "    violator_rxn_indeces = []\n",
    "    for j in range(len(surf.reactions())):\n",
    "\n",
    "        # surf.reactant_stoich_coeffs() array of stoich coefficients. [k,i] is elements k in rxn i\n",
    "        # surf.reactant_stoich_coeff(k,j) #stoich coeff of reactant k in rxn j\n",
    "        for key in surf.reactions()[j].reactants:\n",
    "            if key in gas.species_names:\n",
    "                k = gas.species_names.index(key)\n",
    "#                 print(surf.reaction(j))\n",
    "#                 print(k)\n",
    "                R = ct.gas_constant #J/kmol-K        \n",
    "                m = sum(surf.reactant_stoich_coeffs()[:,j])-surf.reactant_stoich_coeff(k,j)\n",
    "                gamma = surf.site_density #kmol/m^2\n",
    "                W = gas.molecular_weights[k] #MW of gas kg/kmol\n",
    "            #     print('m = {0}, MW = {1} #kg/kmol, species {2}'.format(m,W,gas.species_names[k]))\n",
    "                stick = surf.forward_rate_constants[j]*gamma**m/(np.sqrt(R*T/(2*np.pi*gas.molecular_weights[k])))\n",
    "                violation = stick > 1\n",
    "            #     print(violation, stick)\n",
    "#                 print(stick,'\\n')\n",
    "                if violation:\n",
    "                    violators.append(surf.reaction(j))\n",
    "                    sticks.append(stick)\n",
    "                    violator_rxn_indeces.append(j)\n",
    "\n",
    "    #     print('kf is {:.1e}'.format(test))\n",
    "\n",
    "    return violators,sticks,violator_rxn_indeces\n",
    "\n",
    "print(\"Reactions with sticking coeff > 1 :\")\n",
    "print(\"(Note: reported kf is at the temperature determined by the reactor network)\\n\")\n",
    "Temps = np.linspace(20+273.15,1000+273.15,num=5)\n",
    "for t in range(len(Temps)):\n",
    "    Temp = Temps[t]\n",
    "    rxns, values, indeces = stick_greater_than_1(Temp)\n",
    "    print(f\"{'Temp(C)'}      {'Rxns':44s}  {'i_Rxn':}   {'Stick(T)':}  {'kf at surf.T':}\")\n",
    "    for i in range(len(indeces)):\n",
    "        print(f\"{Temp-273.15:4.4}      {str(rxns[i]):48s}  {np.array(indeces[i])+1:3d}    {values[i]:5.2f}     {surf.forward_rate_constants[indeces[i]]:.2e}\")\n",
    "    print('\\n')\n",
    "# Temp = 20+273.15\n",
    "# rxns, values, indeces = stick_greater_than_1(Temp)\n",
    "# print(\"Reactions with sticking coeff > 1 :\\n\")\n",
    "# print('Temp (C)             Rxns                 i_Rxn      Stick')\n",
    "# for i in range(len(indeces)):\n",
    "#     print('',Temp-273.15, '    ' ,rxns[i], '     ', np.array(indeces[i])+1, '     ','{:.3}'.format(values[i]))"
   ]
  },
  {
   "cell_type": "code",
   "execution_count": null,
   "metadata": {},
   "outputs": [],
   "source": []
  }
 ],
 "metadata": {
  "kernelspec": {
   "display_name": "Python 3",
   "language": "python",
   "name": "python3"
  },
  "language_info": {
   "codemirror_mode": {
    "name": "ipython",
    "version": 3
   },
   "file_extension": ".py",
   "mimetype": "text/x-python",
   "name": "python",
   "nbconvert_exporter": "python",
   "pygments_lexer": "ipython3",
   "version": "3.7.5"
  }
 },
 "nbformat": 4,
 "nbformat_minor": 2
}
