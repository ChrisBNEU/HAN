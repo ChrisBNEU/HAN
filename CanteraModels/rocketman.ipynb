{
 "cells": [
  {
   "cell_type": "markdown",
   "metadata": {},
   "source": [
    "# Plug flow reactor simulation of Thruster\n",
    "\n",
    "![caption](Graphics/thruster-details.png)\n"
   ]
  },
  {
   "cell_type": "code",
   "execution_count": 1,
   "metadata": {},
   "outputs": [],
   "source": [
    "import cantera as ct\n",
    "import numpy as np\n",
    "\n",
    "from matplotlib import pyplot as plt\n",
    "import csv\n",
    "import pandas as pd"
   ]
  },
  {
   "cell_type": "code",
   "execution_count": 2,
   "metadata": {},
   "outputs": [],
   "source": [
    "# input file containing the surface reaction mechanism\n",
    "cti_file = '../RMG-model/cantera/chem_annotated.cti'\n",
    "\n",
    "cti_file = '../RMG-model/cantera/chem0050.cti'\n",
    "\n",
    "gas=ct.Solution(cti_file)\n",
    "surf = ct.Interface(cti_file,'surface1', [gas])"
   ]
  },
  {
   "cell_type": "code",
   "execution_count": 3,
   "metadata": {},
   "outputs": [
    {
     "name": "stdout",
     "output_type": "stream",
     "text": [
      "\n",
      "  gas:\n",
      "\n",
      "       temperature             300  K\n",
      "          pressure          101325  Pa\n",
      "           density         0.81974  kg/m^3\n",
      "  mean mol. weight         20.1797  amu\n",
      "\n",
      "                          1 kg            1 kmol\n",
      "                       -----------      ------------\n",
      "          enthalpy          1905.6        3.845e+04     J\n",
      "   internal energy      -1.217e+05       -2.456e+06     J\n",
      "           entropy          7257.7        1.465e+05     J/K\n",
      "    Gibbs function     -2.1754e+06        -4.39e+07     J\n",
      " heat capacity c_p          1030.1        2.079e+04     J/K\n",
      " heat capacity c_v          618.03        1.247e+04     J/K\n",
      "\n",
      "                           X                 Y          Chem. Pot. / RT\n",
      "                     -------------     ------------     ------------\n",
      "                Ne              1                1         -17.5994\n",
      "     [  +37 minor]              0                0\n",
      "\n"
     ]
    }
   ],
   "source": [
    "gas()"
   ]
  },
  {
   "cell_type": "code",
   "execution_count": 4,
   "metadata": {},
   "outputs": [
    {
     "name": "stdout",
     "output_type": "stream",
     "text": [
      "Ne, H4N2O2(2), NH2OH(3), HNO3(4), CH3OH(5), H2O(6), N2(7), O2(8), NO2(9), NO(10), N2O(11), CO2(12), H2(13), CO(14), CH4(15), C2H6(16), CH2O(17), CH3(18), C3H8(19), H(20), C2H5(21), HCO(22), CH3CHO(23), OH(24), C2H4(25), HO2(39), NH2(85), H2NO(89), HNOH(94), N2H3(99), H3N2O(193), H2NO2(195), S(196), H2NO3(252), H2N2O(502), NNDO(506), NNO(515), S(566)\n"
     ]
    }
   ],
   "source": [
    "print(\", \".join(gas.species_names))"
   ]
  },
  {
   "cell_type": "code",
   "execution_count": 5,
   "metadata": {},
   "outputs": [
    {
     "name": "stdout",
     "output_type": "stream",
     "text": [
      "X(1), HX(26), OX(27), CH3X(28), HOX(29), H2OX(30), CO2X(31), OCX(32), CX(33), CH2X(34), CHX(35), H2NX(212), SX(215), H2NOX(217), H3NOX(218), HNO3X(221), CH3OX(223), CH4OX(224)\n"
     ]
    }
   ],
   "source": [
    "print(\", \".join(surf.species_names))"
   ]
  },
  {
   "cell_type": "markdown",
   "metadata": {},
   "source": [
    "\n",
    "\n",
    "This example solves a plug flow reactor problem, with coupled surface and gas chemistry.\n",
    "\n",
    "\n",
    "\n"
   ]
  },
  {
   "cell_type": "code",
   "execution_count": 6,
   "metadata": {},
   "outputs": [],
   "source": [
    "# unit conversion factors to SI\n",
    "cm = 0.01 # m\n",
    "minute = 60.0  # s"
   ]
  },
  {
   "cell_type": "code",
   "execution_count": 7,
   "metadata": {},
   "outputs": [
    {
     "name": "stdout",
     "output_type": "stream",
     "text": [
      "Catalyst density 2.00e+06 g/m3\n",
      "Catalyst area per volume 2.80e+06 m2/m3\n",
      "\n"
     ]
    }
   ],
   "source": [
    "#######################################################################\n",
    "# Input Parameters for combustor\n",
    "#######################################################################\n",
    "mass_flow_rate =  0.5e-3 # kg/s\n",
    "temperature_c = 400.0  # Initial Temperature in Celsius\n",
    "pressure = ct.one_atm # constant\n",
    "\n",
    "length = 1.1 * cm  # Catalyst bed length. 11mm\n",
    "cross_section_area = np.pi * (0.9*cm)**2  # Catalyst bed area.  18mm diameter circle.\n",
    "\n",
    "### Catalyst properties. Some are hard to estimate\n",
    "# if we can, update this lit value or verify the value richard calculated\n",
    "cat_specific_area = 140 # m2/g\n",
    "cat_density = 2 / cm**3 # 2 g/m3\n",
    "print(f\"Catalyst density {cat_density :.2e} g/m3\")\n",
    "cat_area_per_vol = cat_specific_area * cat_density # m2/m3\n",
    "cat_area_per_vol *= 1e-2 # REDUCE BY 100x\n",
    "print(f\"Catalyst area per volume {cat_area_per_vol :.2e} m2/m3\")\n",
    "print()\n",
    "\n",
    "porosity = 0.38  # Catalyst bed porosity (0.38)\n",
    "# Al2O3 particles are about 0.7mm diameter"
   ]
  },
  {
   "cell_type": "code",
   "execution_count": 8,
   "metadata": {},
   "outputs": [],
   "source": [
    "output_filename = 'surf_pfr_output.csv'\n",
    "\n",
    "# The PFR will be simulated by a chain of 'NReactors' stirred reactors.\n",
    "NReactors = 2001\n",
    "# dt = 1.0\n",
    "\n",
    "#####################################################################\n",
    "\n",
    "temperature_kelvin = temperature_c + 273.15  # convert to Kelvin\n",
    "\n",
    "# import the gas model and set the initial conditions\n",
    "gas = ct.Solution(cti_file, 'gas')\n",
    "\n",
    "# should this be mole fractions or mole fractions?\n",
    "gas.TPY = temperature_kelvin, pressure, 'H4N2O2(2):0.14, NH2OH(3):0.3, HNO3(4):0.3, CH3OH(5):0.16, H2O(6):0.04'\n",
    "\n",
    "# import the surface model\n",
    "surf = ct.Interface(cti_file,'surface1', [gas])\n",
    "surf.TP = temperature_kelvin, pressure\n",
    "surf.coverages = 'X(1):1.0'\n",
    "\n",
    "r_len = length/(NReactors-1) \n",
    "r_vol = cross_section_area * r_len * porosity # gas volume\n",
    "\n",
    "outfile = open(output_filename,'w')\n",
    "writer = csv.writer(outfile)\n",
    "writer.writerow(['Distance (mm)', 'T (C)', 'P (atm)'] +\n",
    "                gas.species_names + surf.species_names + ['alpha'])\n",
    "\n",
    "# catalyst area in one reactor\n",
    "cat_area = cat_area_per_vol * r_vol\n",
    "\n",
    "# Not sure we need the velocity\n",
    "velocity = mass_flow_rate / (gas.density * cross_section_area)"
   ]
  },
  {
   "cell_type": "code",
   "execution_count": 9,
   "metadata": {},
   "outputs": [
    {
     "name": "stdout",
     "output_type": "stream",
     "text": [
      "\n",
      "  surface1:\n",
      "\n",
      "       temperature          673.15  K\n",
      "          pressure          101325  Pa\n",
      "           density     5.67815e-06  kg/m^3\n",
      "  mean mol. weight         195.798  amu\n",
      "\n",
      "                          1 kg            1 kmol\n",
      "                       -----------      ------------\n",
      "          enthalpy          -35624       -6.975e+06     J\n",
      "   internal energy          -35624       -6.975e+06     J\n",
      "           entropy          18.503             3623     J/K\n",
      "    Gibbs function          -48080       -9.414e+06     J\n",
      " heat capacity c_p          6.8717             1345     J/K\n",
      " heat capacity c_v          6.8717             1345     J/K\n",
      "\n",
      "                           X                 Y          Chem. Pot. / RT\n",
      "                     -------------     ------------     ------------\n",
      "              X(1)        0.96173         0.958217       -0.0390607\n",
      "            HX(26)      0.0130517        0.0130712         -10.1136\n",
      "            OX(27)    2.48773e-09      2.68193e-09          -47.256\n",
      "          CH3X(28)    3.69434e-12      3.96453e-12         -42.8485\n",
      "           HOX(29)    4.03309e-11      4.36868e-11         -57.3306\n",
      "          H2OX(30)    0.000437805      0.000476488         -67.4051\n",
      "          CO2X(31)    6.68357e-12      8.16143e-12         -107.059\n",
      "           OCX(32)      0.0247804         0.028235          -59.842\n",
      "            CX(33)     8.6793e-10      9.18002e-10          -12.625\n",
      "          CH2X(34)    1.71501e-13      1.83161e-13          -32.774\n",
      "           CHX(35)    9.96203e-08       1.0588e-07         -22.6995\n",
      "        CH3OX(223)    2.27948e-11      2.63245e-11         -85.6612\n",
      "     [   +6 minor]    3.72076e-16      4.31564e-16\n",
      "\n"
     ]
    },
    {
     "data": {
      "text/plain": [
       "array([9.61729961e-01, 1.30516842e-02, 2.48773422e-09, 3.69434260e-12,\n",
       "       4.03309139e-11, 4.37805162e-04, 6.68357035e-12, 2.47804464e-02,\n",
       "       8.67930066e-10, 1.71500968e-13, 9.96203109e-08, 5.19264902e-19,\n",
       "       2.26120978e-62, 5.97606004e-34, 4.77788156e-33, 6.54390424e-24,\n",
       "       2.27947873e-11, 3.71556620e-16])"
      ]
     },
     "execution_count": 9,
     "metadata": {},
     "output_type": "execute_result"
    },
    {
     "data": {
      "image/png": "[encoded data removed]",
      "text/plain": [
       "<Figure size 432x288 with 1 Axes>"
      ]
     },
     "metadata": {
      "needs_background": "light"
     },
     "output_type": "display_data"
    }
   ],
   "source": [
    "# To find the starting coverages, we run the gas to equilibrium,\n",
    "# (i.e mostly burned products)  then put that in steady state\n",
    "# with the surface.\n",
    "TPY = gas.TPY # store to restore\n",
    "gas.equilibrate('TP')\n",
    "r = ct.IdealGasReactor(gas, energy='off')\n",
    "r.volume = r_vol\n",
    "rsurf = ct.ReactorSurface(surf, r, A=cat_area)\n",
    "sim = ct.ReactorNet([r])\n",
    "plt.plot(sim.advance_to_steady_state(return_residuals=True))\n",
    "surf()\n",
    "starting_coverages = surf.coverages\n",
    "gas.TPY = TPY # restore\n",
    "del(r, rsurf)\n",
    "starting_coverages"
   ]
  },
  {
   "cell_type": "code",
   "execution_count": 10,
   "metadata": {},
   "outputs": [
    {
     "data": {
      "text/plain": [
       "<BarContainer object of 38 artists>"
      ]
     },
     "execution_count": 10,
     "metadata": {},
     "output_type": "execute_result"
    },
    {
     "data": {
      "image/png": "[encoded data removed]",
      "text/plain": [
       "<Figure size 432x288 with 1 Axes>"
      ]
     },
     "metadata": {
      "needs_background": "light"
     },
     "output_type": "display_data"
    }
   ],
   "source": [
    "plt.barh(np.arange(len(gas.chemical_potentials)),gas.chemical_potentials)"
   ]
  },
  {
   "cell_type": "code",
   "execution_count": 11,
   "metadata": {},
   "outputs": [],
   "source": [
    "# gas.equilibrate('TP')"
   ]
  },
  {
   "cell_type": "code",
   "execution_count": 12,
   "metadata": {},
   "outputs": [
    {
     "data": {
      "image/png": "[encoded data removed]",
      "text/plain": [
       "<Figure size 432x288 with 1 Axes>"
      ]
     },
     "metadata": {
      "needs_background": "light"
     },
     "output_type": "display_data"
    },
    {
     "data": {
      "image/png": "[encoded data removed]",
      "text/plain": [
       "<Figure size 432x288 with 1 Axes>"
      ]
     },
     "metadata": {
      "needs_background": "light"
     },
     "output_type": "display_data"
    },
    {
     "data": {
      "image/png": "[encoded data removed]",
      "text/plain": [
       "<Figure size 432x288 with 1 Axes>"
      ]
     },
     "metadata": {
      "needs_background": "light"
     },
     "output_type": "display_data"
    }
   ],
   "source": [
    "plt.barh(np.arange(len(gas.delta_gibbs)),gas.delta_gibbs)\n",
    "plt.barh(len(gas.delta_gibbs)+np.arange(len(surf.delta_gibbs)),surf.delta_gibbs)\n",
    "plt.title(\"∆G\")\n",
    "plt.show()\n",
    "plt.barh(np.arange(len(gas.delta_enthalpy)),gas.delta_enthalpy)\n",
    "plt.barh(len(gas.delta_enthalpy)+np.arange(len(surf.delta_enthalpy)),surf.delta_enthalpy)\n",
    "plt.title('∆H')\n",
    "plt.show()\n",
    "plt.barh(np.arange(len(gas.delta_entropy)),gas.delta_entropy)\n",
    "plt.barh(len(gas.delta_entropy)+np.arange(len(surf.delta_entropy)),surf.delta_entropy)\n",
    "plt.title('∆S')\n",
    "plt.show()"
   ]
  },
  {
   "cell_type": "code",
   "execution_count": 13,
   "metadata": {},
   "outputs": [
    {
     "data": {
      "text/plain": [
       "[<matplotlib.lines.Line2D at 0x11b529fd0>]"
      ]
     },
     "execution_count": 13,
     "metadata": {},
     "output_type": "execute_result"
    },
    {
     "data": {
      "image/png": "[encoded data removed]",
      "text/plain": [
       "<Figure size 432x288 with 1 Axes>"
      ]
     },
     "metadata": {
      "needs_background": "light"
     },
     "output_type": "display_data"
    }
   ],
   "source": [
    "plt.plot(gas.concentrations, gas.chemical_potentials, 'o')"
   ]
  },
  {
   "cell_type": "code",
   "execution_count": 14,
   "metadata": {},
   "outputs": [
    {
     "data": {
      "text/plain": [
       "[<matplotlib.lines.Line2D at 0x11b673d90>]"
      ]
     },
     "execution_count": 14,
     "metadata": {},
     "output_type": "execute_result"
    },
    {
     "data": {
      "image/png": "[encoded data removed]",
      "text/plain": [
       "<Figure size 432x288 with 1 Axes>"
      ]
     },
     "metadata": {
      "needs_background": "light"
     },
     "output_type": "display_data"
    }
   ],
   "source": [
    "plt.plot(surf.concentrations, surf.chemical_potentials, 'o')"
   ]
  },
  {
   "cell_type": "code",
   "execution_count": 15,
   "metadata": {
    "scrolled": false
   },
   "outputs": [
    {
     "name": "stdout",
     "output_type": "stream",
     "text": [
      "\n",
      "Highest net rates of progress, gas\n",
      " 60 : H3N2O(193) + OH(24) <=> H4N2O2(2)                   -7e+06\n",
      " 59 : H3N2O(193) + OH(24) <=> H4N2O2(2)                   -7e+06\n",
      "107 : HO2(39) + N2H3(99) <=> H4N2O2(2)                    -1e+02\n",
      " 47 : NO2(9) + OH(24) (+M) <=> HNO3(4) (+M)               -0.002\n",
      "109 : H(20) + S(196) <=> H4N2O2(2)                        -1e-05\n",
      "123 : H2NO3(252) + S(196) <=> H4N2O2(2) + HNO3(4)         -6e-06\n",
      "158 : H2NO2(195) + NH2(85) <=> H4N2O2(2)                  -7e-07\n",
      "\n",
      "Highest net rates of progress, surface\n",
      "  0 : H2O(6) + X(1) <=> H2OX(30)                          -5e+06\n",
      "  1 : NH2OH(3) + X(1) <=> H3NOX(218)                       3e+05\n",
      "  3 : CH3OH(5) + X(1) <=> CH4OX(224)                       2e+05\n",
      "  2 : HNO3(4) + X(1) <=> HNO3X(221)                        1e+05\n",
      "  4 : H4N2O2(2) + X(1) <=> SX(215)                         5e+04\n",
      "  5 : H2(13) + 2 X(1) <=> 2 HX(26)                        -4e+04\n",
      " 10 : NH2OH(3) + 2 X(1) <=> H2NOX(217) + HX(26)            3e+01\n",
      "\n",
      "Highest forward rates of progress, gas\n",
      "152 : NH2OH(3) (+M) <=> NH2(85) + OH(24) (+M)              9e-09\n",
      " 34 : H2O(6) + M <=> H(20) + OH(24) + M                    4e-29\n",
      " 35 : 2 H2O(6) <=> H(20) + H2O(6) + OH(24)                 4e-29\n",
      "175 : HNOH(94) + NH2(85) <=> NNO(515)                          0\n",
      " 55 : C2H4(25) + OH(24) <=> CH3CHO(23) + H(20)                 0\n",
      " 62 : H2N2O(502) + HCO(22) <=> CO(14) + H3N2O(193)             0\n",
      " 61 : H(20) + H2N2O(502) <=> H3N2O(193)                        0\n",
      "\n",
      "Highest forward rates of progress, surface\n",
      "  0 : H2O(6) + X(1) <=> H2OX(30)                           8e+05\n",
      " 29 : CHX(35) + X(1) <=> CX(33) + HX(26)                   7e+05\n",
      "  1 : NH2OH(3) + X(1) <=> H3NOX(218)                       3e+05\n",
      "  3 : CH3OH(5) + X(1) <=> CH4OX(224)                       2e+05\n",
      "  2 : HNO3(4) + X(1) <=> HNO3X(221)                        1e+05\n",
      "  4 : H4N2O2(2) + X(1) <=> SX(215)                         5e+04\n",
      " 28 : CHX(35) + HX(26) <=> CH2X(34) + X(1)                 9e+03\n",
      "\n",
      "Highest reverse rates of progress, gas\n",
      " 60 : H3N2O(193) + OH(24) <=> H4N2O2(2)                    7e+06\n",
      " 59 : H3N2O(193) + OH(24) <=> H4N2O2(2)                    7e+06\n",
      "107 : HO2(39) + N2H3(99) <=> H4N2O2(2)                     1e+02\n",
      " 47 : NO2(9) + OH(24) (+M) <=> HNO3(4) (+M)                0.002\n",
      "109 : H(20) + S(196) <=> H4N2O2(2)                         1e-05\n",
      "123 : H2NO3(252) + S(196) <=> H4N2O2(2) + HNO3(4)          6e-06\n",
      "158 : H2NO2(195) + NH2(85) <=> H4N2O2(2)                   7e-07\n",
      "\n",
      "Highest reverse rates of progress, surface\n",
      "  0 : H2O(6) + X(1) <=> H2OX(30)                           5e+06\n",
      " 29 : CHX(35) + X(1) <=> CX(33) + HX(26)                   7e+05\n",
      "  5 : H2(13) + 2 X(1) <=> 2 HX(26)                         4e+04\n",
      " 28 : CHX(35) + HX(26) <=> CH2X(34) + X(1)                 9e+03\n",
      " 22 : CO2(12) + X(1) <=> CO2X(31)                              2\n",
      "  8 : H2O(6) + 2 X(1) <=> HOX(29) + HX(26)                     2\n",
      " 23 : CO(14) + X(1) <=> OCX(32)                                2\n",
      "\n",
      "Surface rates have been scaled by surface/volume ratio 2.8e+06 m2/m3\n",
      "So are on a similar basis of volume of reactor (though porosity not yet accounted for)\n",
      " kmol / m3 / s\n"
     ]
    }
   ],
   "source": [
    "def report_rates(n=8):\n",
    "    print(\"\\nHighest net rates of progress, gas\")\n",
    "    for i in np.argsort(abs(gas.net_rates_of_progress))[-1:-n:-1]: # top n in descending order\n",
    "        print(f\"{i:3d} : {gas.reaction_equation(i):48s}  {gas.net_rates_of_progress[i]:8.1g}\")\n",
    "    print(\"\\nHighest net rates of progress, surface\")\n",
    "    for i in np.argsort(abs(surf.net_rates_of_progress))[-1:-n:-1]: # top n in descending order\n",
    "        print(f\"{i:3d} : {surf.reaction_equation(i):48s}  {cat_area_per_vol*surf.net_rates_of_progress[i]:8.1g}\")\n",
    "    print(\"\\nHighest forward rates of progress, gas\")\n",
    "    for i in np.argsort(abs(gas.forward_rates_of_progress))[-1:-n:-1]: # top n in descending order\n",
    "        print(f\"{i:3d} : {gas.reaction_equation(i):48s}  {gas.forward_rates_of_progress[i]:8.1g}\")\n",
    "    print(\"\\nHighest forward rates of progress, surface\")\n",
    "    for i in np.argsort(abs(surf.forward_rates_of_progress))[-1:-n:-1]: # top n in descending order\n",
    "        print(f\"{i:3d} : {surf.reaction_equation(i):48s}  {cat_area_per_vol*surf.forward_rates_of_progress[i]:8.1g}\")\n",
    "    print(\"\\nHighest reverse rates of progress, gas\")\n",
    "    for i in np.argsort(abs(gas.reverse_rates_of_progress))[-1:-n:-1]: # top n in descending order\n",
    "        print(f\"{i:3d} : {gas.reaction_equation(i):48s}  {gas.reverse_rates_of_progress[i]:8.1g}\")\n",
    "    print(\"\\nHighest reverse rates of progress, surface\")\n",
    "    for i in np.argsort(abs(surf.reverse_rates_of_progress))[-1:-n:-1]: # top n in descending order\n",
    "        print(f\"{i:3d} : {surf.reaction_equation(i):48s}  {cat_area_per_vol*surf.reverse_rates_of_progress[i]:8.1g}\")\n",
    "\n",
    "    print(f\"\\nSurface rates have been scaled by surface/volume ratio {cat_area_per_vol:.1e} m2/m3\")\n",
    "    print(\"So are on a similar basis of volume of reactor (though porosity not yet accounted for)\")\n",
    "    print(\" kmol / m3 / s\")\n",
    "report_rates()"
   ]
  },
  {
   "cell_type": "code",
   "execution_count": 16,
   "metadata": {
    "scrolled": false
   },
   "outputs": [
    {
     "name": "stdout",
     "output_type": "stream",
     "text": [
      "\n",
      "Highest forward rate constants, gas\n",
      "157 : NH2(85) + NO(10) <=> NNDO(506)                     6.8e+12\n",
      "129 : H2NO3(252) + HCO(22) <=> CH2O(17) + HNO3(4)        1.8e+11\n",
      " 40 : HCO(22) + OH(24) <=> CO(14) + H2O(6)               1.1e+11\n",
      " 24 : H(20) + HCO(22) <=> CO(14) + H2(13)                1.1e+11\n",
      " 46 : H(20) + NO2(9) <=> NO(10) + OH(24)                 9.9e+10\n",
      " 19 : C2H5(21) + H(20) (+M) <=> C2H6(16) (+M)            9.1e+10\n",
      " 68 : C2H5(21) + H2N2O(502) <=> C2H4(25) + H3N2O(193)    9.0e+10\n",
      "\n",
      "Highest forward rate constants, surface\n",
      " 29 : CHX(35) + X(1) <=> CX(33) + HX(26)                 3.1e+21\n",
      " 28 : CHX(35) + HX(26) <=> CH2X(34) + X(1)               3.1e+21\n",
      " 27 : CH2X(34) + HX(26) <=> CH3X(28) + X(1)              3.1e+21\n",
      " 14 : HX(26) + OX(27) <=> HOX(29) + X(1)                 1.7e+19\n",
      " 24 : CX(33) + OX(27) <=> OCX(32) + X(1)                 3.7e+18\n",
      " 26 : CO2X(31) + HX(26) <=> HOX(29) + OCX(32)            2.2e+17\n",
      " 21 : CH4(15) + HOX(29) + X(1) <=> CH3X(28) + H2OX(30)   4.7e+16\n",
      "\n",
      "Highest reverse rate constants, gas\n",
      "156 : 2 NH2(85) <=> H(20) + N2H3(99)                     1.5e+13\n",
      "120 : NNDO(506) + OH(24) <=> S(196)                      3.4e+11\n",
      " 35 : 2 H2O(6) <=> H(20) + H2O(6) + OH(24)               2.7e+11\n",
      " 15 : 2 CH3(18) <=> C2H5(21) + H(20)                     3.9e+10\n",
      " 31 : CH3CHO(23) (+M) <=> CH3(18) + HCO(22) (+M)         2.5e+10\n",
      " 60 : H3N2O(193) + OH(24) <=> H4N2O2(2)                  4.1e+09\n",
      " 59 : H3N2O(193) + OH(24) <=> H4N2O2(2)                  4.1e+09\n",
      "\n",
      "Highest reverse rate constants, surface\n",
      " 29 : CHX(35) + X(1) <=> CX(33) + HX(26)                 2.6e+25\n",
      " 28 : CHX(35) + HX(26) <=> CH2X(34) + X(1)               2.4e+25\n",
      " 15 : H2OX(30) + OX(27) <=> 2 HOX(29)                    3.0e+24\n",
      "  8 : H2O(6) + 2 X(1) <=> HOX(29) + HX(26)               1.6e+21\n",
      " 14 : HX(26) + OX(27) <=> HOX(29) + X(1)                 1.4e+19\n",
      " 27 : CH2X(34) + HX(26) <=> CH3X(28) + X(1)              1.9e+18\n",
      " 20 : CH4(15) + OX(27) + X(1) <=> CH3X(28) + HOX(29)     9.3e+17\n",
      "Units are a combination of kmol, m^3 and s, that depend on the rate expression for the reaction.\n"
     ]
    }
   ],
   "source": [
    "def report_rate_constants(n=8):\n",
    "    print(\"\\nHighest forward rate constants, gas\")\n",
    "    for i in np.argsort(abs(gas.forward_rate_constants))[-1:-n:-1]: # top n in descending order\n",
    "        print(f\"{i:3d} : {gas.reaction_equation(i):48s}  {gas.forward_rate_constants[i]:8.1e}\")\n",
    "    print(\"\\nHighest forward rate constants, surface\")\n",
    "    for i in np.argsort(abs(surf.forward_rate_constants))[-1:-n:-1]: # top n in descending order\n",
    "        print(f\"{i:3d} : {surf.reaction_equation(i):48s}  {surf.forward_rate_constants[i]:8.1e}\")\n",
    "    print(\"\\nHighest reverse rate constants, gas\")\n",
    "    for i in np.argsort(abs(gas.reverse_rate_constants))[-1:-n:-1]: # top n in descending order\n",
    "        print(f\"{i:3d} : {gas.reaction_equation(i):48s}  {gas.reverse_rate_constants[i]:8.1e}\")\n",
    "    print(\"\\nHighest reverse rate constants, surface\")\n",
    "    for i in np.argsort(abs(surf.reverse_rate_constants))[-1:-n:-1]: # top n in descending order\n",
    "        print(f\"{i:3d} : {surf.reaction_equation(i):48s}  {surf.reverse_rate_constants[i]:8.1e}\")\n",
    "\n",
    "    print(\"Units are a combination of kmol, m^3 and s, that depend on the rate expression for the reaction.\")\n",
    "report_rate_constants()"
   ]
  },
  {
   "cell_type": "code",
   "execution_count": 17,
   "metadata": {
    "scrolled": false
   },
   "outputs": [
    {
     "name": "stdout",
     "output_type": "stream",
     "text": [
      "    distance(mm)     H4N2O2(2)   NH2OH(3)   HNO3(4)  CH3OH(5)  alpha\n",
      "      0.000000    0.000001    0.317872    0.186350   0.195526  5.6e+12\n",
      "      0.055000    0.000000    0.314973    0.178457   0.190576  1.6e+11\n",
      "      0.110000    0.000000    0.287007    0.161463   0.182748  9.9e+09\n",
      "      0.165000    0.000000    0.247149    0.133915   0.175702  2.3e+08\n",
      "      0.220000    0.000000    0.220207    0.111000   0.171706  -2.8e+08\n",
      "      0.275000    0.000000    0.201921    0.094263   0.169045  -2.8e+08\n",
      "      0.330000    0.000000    0.188100    0.081375   0.167027  -2.6e+08\n",
      "      0.385000    0.000000    0.177139    0.071079   0.165419  -2.4e+08\n",
      "      0.440000    0.000000    0.168189    0.062637   0.164099  -2.2e+08\n",
      "      0.495000    0.000000    0.160728    0.055577   0.162994  -2.1e+08\n",
      "      0.550000    0.000000    0.154408    0.049581   0.162054  -1.9e+08\n",
      "      0.605000    0.000000    0.148986    0.044426   0.161245  -1.7e+08\n",
      "      0.660000    0.000000    0.144286    0.039948   0.160541  -1.5e+08\n",
      "      0.715000    0.000000    0.140177    0.036027   0.159923  -1.4e+08\n",
      "      0.770000    0.000000    0.136557    0.032568   0.159377  -1.2e+08\n",
      "      0.825000    0.000000    0.133351    0.029499   0.158892  -1.0e+08\n",
      "      0.880000    0.000000    0.130494    0.026764   0.158459  -8.7e+07\n",
      "      0.935000    0.000000    0.127940    0.024315   0.158071  -7.2e+07\n",
      "      0.990000    0.000000    0.125645    0.022114   0.157722  -5.6e+07\n",
      "      1.045000    0.000000    0.123578    0.020130   0.157406  -4.2e+07\n",
      "      1.100000    0.000000    0.121711    0.018337   0.157121  -2.7e+07\n",
      "      1.155000    0.000000    0.120020    0.016712   0.156862  -1.2e+07\n",
      "      1.210000    0.000000    0.118485    0.015238   0.156627  1.8e+06\n",
      "      1.265000    0.000000    0.117090    0.013897   0.156413  1.6e+07\n",
      "      1.320000    0.000000    0.115819    0.012677   0.156218  3.0e+07\n",
      "      1.375000    0.000000    0.114661    0.011565   0.156040  4.4e+07\n",
      "      1.430000    0.000000    0.113603    0.010549   0.155877  5.8e+07\n",
      "      1.485000    0.000000    0.112637    0.009622   0.155728  7.1e+07\n",
      "      1.540000    0.000000    0.111753    0.008775   0.155592  8.5e+07\n",
      "      1.595000    0.000000    0.110945    0.008001   0.155467  9.9e+07\n",
      "      1.650000    0.000000    0.110205    0.007292   0.155353  1.1e+08\n",
      "      1.705000    0.000000    0.109528    0.006644   0.155248  1.3e+08\n",
      "      1.760000    0.000000    0.108907    0.006051   0.155152  1.4e+08\n",
      "      1.815000    0.000000    0.108338    0.005508   0.155064  1.6e+08\n",
      "      1.870000    0.000000    0.107817    0.005012   0.154984  1.7e+08\n",
      "      1.925000    0.000000    0.107340    0.004557   0.154910  1.9e+08\n",
      "      1.980000    0.000000    0.106902    0.004142   0.154842  2.0e+08\n",
      "      2.035000    0.000000    0.106501    0.003762   0.154781  2.2e+08\n",
      "      2.090000    0.000000    0.106134    0.003414   0.154724  2.3e+08\n",
      "      2.145000    0.000000    0.105797    0.003096   0.154672  2.5e+08\n",
      "      2.200000    0.000000    0.105489    0.002806   0.154624  2.7e+08\n",
      "      2.255000    0.000000    0.105207    0.002542   0.154581  2.9e+08\n",
      "      2.310000    0.000000    0.104948    0.002300   0.154541  3.1e+08\n",
      "      2.365000    0.000000    0.104712    0.002080   0.154504  3.3e+08\n",
      "      2.420000    0.000000    0.104496    0.001879   0.154471  3.5e+08\n",
      "      2.475000    0.000000    0.104298    0.001696   0.154440  3.8e+08\n",
      "      2.530000    0.000000    0.104117    0.001530   0.154413  4.1e+08\n",
      "      2.585000    0.000000    0.103951    0.001379   0.154387  4.3e+08\n",
      "      2.640000    0.000000    0.103800    0.001241   0.154364  4.6e+08\n",
      "      2.695000    0.000000    0.103662    0.001116   0.154343  5.0e+08\n",
      "      2.750000    0.000000    0.103536    0.001003   0.154323  5.3e+08\n",
      "      2.805000    0.000000    0.103420    0.000901   0.154306  5.8e+08\n",
      "      2.860000    0.000000    0.103315    0.000808   0.154289  6.2e+08\n",
      "      2.915000    0.000000    0.103218    0.000724   0.154275  6.7e+08\n",
      "      2.970000    0.000000    0.103130    0.000648   0.154261  7.2e+08\n",
      "      3.025000    0.000000    0.103049    0.000580   0.154249  7.9e+08\n",
      "      3.080000    0.000000    0.102975    0.000518   0.154238  8.6e+08\n",
      "      3.135000    0.000000    0.102908    0.000462   0.154227  9.3e+08\n",
      "      3.190000    0.000000    0.102846    0.000412   0.154218  1.0e+09\n",
      "      3.245000    0.000000    0.102789    0.000367   0.154210  1.1e+09\n",
      "      3.300000    0.000000    0.102737    0.000327   0.154202  1.2e+09\n",
      "      3.355000    0.000000    0.102689    0.000290   0.154195  1.4e+09\n",
      "      3.410000    0.000000    0.102645    0.000258   0.154188  1.5e+09\n",
      "      3.465000    0.000000    0.102604    0.000229   0.154182  1.7e+09\n",
      "      3.520000    0.000000    0.102566    0.000203   0.154176  1.9e+09\n",
      "      3.575000    0.000000    0.102531    0.000179   0.154171  2.2e+09\n",
      "      3.630000    0.000000    0.102499    0.000159   0.154166  2.5e+09\n",
      "      3.685000    0.000000    0.102469    0.000140   0.154162  2.9e+09\n",
      "      3.740000    0.000000    0.102440    0.000124   0.154158  3.4e+09\n",
      "      3.795000    0.000000    0.102414    0.000109   0.154154  4.1e+09\n",
      "      3.850000    0.000000    0.102389    0.000096   0.154151  5.0e+09\n",
      "      3.905000    0.000000    0.102366    0.000085   0.154147  6.3e+09\n",
      "      3.960000    0.000000    0.102344    0.000075   0.154144  8.3e+09\n",
      "      4.015000    0.000000    0.102323    0.000066   0.154141  1.2e+10\n",
      "      4.070000    0.000000    0.102303    0.000058   0.154138  1.9e+10\n",
      "      4.125000    0.000000    0.102284    0.000051   0.154136  4.7e+10\n",
      "      4.180000    0.000000    0.102265    0.000044   0.154133  -1.3e+11\n",
      "      4.235000    0.000000    0.102248    0.000039   0.154131  -2.9e+10\n",
      "      4.290000    0.000000    0.102231    0.000034   0.154128  -1.7e+10\n",
      "      4.345000    0.000000    0.102214    0.000030   0.154126  -1.2e+10\n",
      "      4.400000    0.000000    0.102198    0.000026   0.154124  -9.6e+09\n",
      "      4.455000    0.000000    0.102182    0.000023   0.154122  -8.0e+09\n",
      "      4.510000    0.000000    0.102167    0.000020   0.154120  -6.9e+09\n",
      "      4.565000    0.000000    0.102152    0.000018   0.154118  -6.1e+09\n",
      "      4.620000    0.000000    0.102137    0.000016   0.154116  -5.5e+09\n",
      "      4.675000    0.000000    0.102122    0.000014   0.154114  -5.1e+09\n",
      "      4.730000    0.000000    0.102107    0.000012   0.154112  -4.7e+09\n",
      "      4.785000    0.000000    0.102093    0.000011   0.154110  -4.4e+09\n",
      "      4.840000    0.000000    0.102078    0.000009   0.154108  -4.1e+09\n",
      "      4.895000    0.000000    0.102064    0.000008   0.154106  -3.9e+09\n",
      "      4.950000    0.000000    0.102050    0.000007   0.154104  -3.7e+09\n",
      "      5.005000    0.000000    0.102036    0.000007   0.154102  -3.5e+09\n",
      "      5.060000    0.000000    0.102021    0.000006   0.154100  -3.3e+09\n",
      "      5.115000    0.000000    0.102007    0.000005   0.154098  -3.2e+09\n",
      "      5.170000    0.000000    0.101993    0.000005   0.154097  -3.1e+09\n",
      "      5.225000    0.000000    0.101979    0.000004   0.154095  -3.0e+09\n",
      "      5.280000    0.000000    0.101964    0.000004   0.154093  -2.9e+09\n",
      "      5.335000    0.000000    0.101950    0.000004   0.154091  -2.8e+09\n",
      "      5.390000    0.000000    0.101936    0.000003   0.154089  -2.7e+09\n",
      "      5.445000    0.000000    0.101921    0.000003   0.154087  -2.6e+09\n",
      "      5.500000    0.000000    0.101907    0.000003   0.154085  -2.5e+09\n",
      "      5.555000    0.000000    0.101892    0.000003   0.154083  -2.4e+09\n",
      "      5.610000    0.000000    0.101878    0.000002   0.154082  -2.3e+09\n",
      "      5.665000    0.000000    0.101863    0.000002   0.154080  -2.3e+09\n",
      "      5.720000    0.000000    0.101848    0.000002   0.154078  -2.2e+09\n",
      "      5.775000    0.000000    0.101833    0.000002   0.154076  -2.1e+09\n",
      "      5.830000    0.000000    0.101818    0.000002   0.154074  -2.1e+09\n",
      "      5.885000    0.000000    0.101803    0.000002   0.154072  -2.0e+09\n",
      "      5.940000    0.000000    0.101788    0.000002   0.154070  -2.0e+09\n",
      "      5.995000    0.000000    0.101773    0.000002   0.154068  -1.9e+09\n",
      "      6.050000    0.000000    0.101757    0.000002   0.154066  -1.9e+09\n",
      "      6.105000    0.000000    0.101742    0.000002   0.154064  -1.8e+09\n",
      "      6.160000    0.000000    0.101726    0.000002   0.154062  -1.8e+09\n",
      "      6.215000    0.000000    0.101710    0.000002   0.154060  -1.7e+09\n"
     ]
    },
    {
     "name": "stdout",
     "output_type": "stream",
     "text": [
      "      6.270000    0.000000    0.101695    0.000002   0.154058  -1.7e+09\n",
      "      6.325000    0.000000    0.101679    0.000002   0.154056  -1.6e+09\n",
      "      6.380000    0.000000    0.101663    0.000002   0.154054  -1.6e+09\n",
      "      6.435000    0.000000    0.101646    0.000002   0.154051  -1.6e+09\n",
      "      6.490000    0.000000    0.101630    0.000002   0.154049  -1.5e+09\n",
      "      6.545000    0.000000    0.101614    0.000002   0.154047  -1.5e+09\n",
      "      6.600000    0.000000    0.101597    0.000002   0.154045  -1.4e+09\n",
      "      6.655000    0.000000    0.101581    0.000002   0.154043  -1.4e+09\n",
      "      6.710000    0.000000    0.101564    0.000002   0.154041  -1.4e+09\n",
      "      6.765000    0.000000    0.101547    0.000001   0.154039  -1.3e+09\n",
      "      6.820000    0.000000    0.101530    0.000001   0.154036  -1.3e+09\n",
      "      6.875000    0.000000    0.101513    0.000001   0.154034  -1.3e+09\n",
      "      6.930000    0.000000    0.101496    0.000001   0.154032  -1.2e+09\n",
      "      6.985000    0.000000    0.101479    0.000001   0.154030  -1.2e+09\n",
      "      7.040000    0.000000    0.101461    0.000001   0.154027  -1.2e+09\n",
      "      7.095000    0.000000    0.101444    0.000001   0.154025  -1.2e+09\n",
      "      7.150000    0.000000    0.101426    0.000001   0.154023  -1.1e+09\n",
      "      7.205000    0.000000    0.101408    0.000001   0.154021  -1.1e+09\n",
      "      7.260000    0.000000    0.101390    0.000001   0.154018  -1.1e+09\n",
      "      7.315000    0.000000    0.101372    0.000001   0.154016  -1.1e+09\n",
      "      7.370000    0.000000    0.101354    0.000001   0.154014  -1.0e+09\n",
      "      7.425000    0.000000    0.101336    0.000001   0.154011  -1.0e+09\n",
      "      7.480000    0.000000    0.101317    0.000001   0.154009  -9.9e+08\n",
      "      7.535000    0.000000    0.101299    0.000001   0.154006  -9.6e+08\n",
      "      7.590000    0.000000    0.101280    0.000001   0.154004  -9.4e+08\n",
      "      7.645000    0.000000    0.101261    0.000001   0.154002  -9.2e+08\n",
      "      7.700000    0.000000    0.101242    0.000001   0.153999  -9.0e+08\n",
      "      7.755000    0.000000    0.101223    0.000001   0.153997  -8.8e+08\n",
      "      7.810000    0.000000    0.101204    0.000001   0.153994  -8.6e+08\n",
      "      7.865000    0.000000    0.101185    0.000001   0.153992  -8.4e+08\n",
      "      7.920000    0.000000    0.101165    0.000001   0.153989  -8.3e+08\n",
      "      7.975000    0.000000    0.101146    0.000001   0.153987  -8.1e+08\n",
      "      8.030000    0.000000    0.101126    0.000001   0.153984  -7.9e+08\n",
      "      8.085000    0.000000    0.101106    0.000001   0.153982  -7.8e+08\n",
      "      8.140000    0.000000    0.101086    0.000001   0.153979  -7.6e+08\n",
      "      8.195000    0.000000    0.101066    0.000001   0.153977  -7.4e+08\n",
      "      8.250000    0.000000    0.101046    0.000001   0.153974  -7.3e+08\n",
      "      8.305000    0.000000    0.101025    0.000001   0.153971  -7.1e+08\n",
      "      8.360000    0.000000    0.101005    0.000001   0.153969  -7.0e+08\n",
      "      8.415000    0.000000    0.100984    0.000001   0.153966  -6.8e+08\n",
      "      8.470000    0.000000    0.100963    0.000001   0.153963  -6.7e+08\n",
      "      8.525000    0.000000    0.100942    0.000001   0.153961  -6.6e+08\n",
      "      8.580000    0.000000    0.100921    0.000001   0.153958  -6.4e+08\n",
      "      8.635000    0.000000    0.100900    0.000001   0.153955  -6.3e+08\n",
      "      8.690000    0.000000    0.100879    0.000001   0.153953  -6.2e+08\n",
      "      8.745000    0.000000    0.100857    0.000001   0.153950  -6.1e+08\n",
      "      8.800000    0.000000    0.100835    0.000001   0.153947  -5.9e+08\n",
      "      8.855000    0.000000    0.100813    0.000001   0.153944  -5.8e+08\n",
      "      8.910000    0.000000    0.100791    0.000001   0.153941  -5.7e+08\n",
      "      8.965000    0.000000    0.100769    0.000001   0.153939  -5.6e+08\n",
      "      9.020000    0.000000    0.100747    0.000001   0.153936  -5.5e+08\n",
      "      9.075000    0.000000    0.100725    0.000001   0.153933  -5.4e+08\n",
      "      9.130000    0.000000    0.100702    0.000001   0.153930  -5.3e+08\n",
      "      9.185000    0.000000    0.100679    0.000001   0.153927  -5.2e+08\n",
      "      9.240000    0.000000    0.100656    0.000001   0.153924  -5.1e+08\n",
      "      9.295000    0.000000    0.100633    0.000001   0.153921  -5.0e+08\n",
      "      9.350000    0.000000    0.100610    0.000001   0.153918  -4.9e+08\n",
      "      9.405000    0.000000    0.100587    0.000001   0.153916  -4.8e+08\n",
      "      9.460000    0.000000    0.100563    0.000001   0.153913  -4.7e+08\n",
      "      9.515000    0.000000    0.100540    0.000001   0.153910  -4.6e+08\n",
      "      9.570000    0.000000    0.100516    0.000001   0.153907  -4.5e+08\n",
      "      9.625000    0.000000    0.100492    0.000001   0.153904  -4.5e+08\n",
      "      9.680000    0.000000    0.100468    0.000001   0.153901  -4.4e+08\n",
      "      9.735000    0.000000    0.100443    0.000001   0.153897  -4.3e+08\n",
      "      9.790000    0.000000    0.100419    0.000001   0.153894  -4.2e+08\n",
      "      9.845000    0.000000    0.100394    0.000001   0.153891  -4.1e+08\n",
      "      9.900000    0.000000    0.100370    0.000001   0.153888  -4.1e+08\n",
      "      9.955000    0.000000    0.100345    0.000001   0.153885  -4.0e+08\n",
      "     10.010000    0.000000    0.100319    0.000001   0.153882  -3.9e+08\n",
      "     10.065000    0.000000    0.100294    0.000001   0.153879  -3.9e+08\n",
      "     10.120000    0.000000    0.100269    0.000001   0.153876  -3.8e+08\n",
      "     10.175000    0.000000    0.100243    0.000001   0.153872  -3.7e+08\n",
      "     10.230000    0.000000    0.100217    0.000001   0.153869  -3.7e+08\n",
      "     10.285000    0.000000    0.100191    0.000001   0.153866  -3.6e+08\n",
      "     10.340000    0.000000    0.100165    0.000001   0.153863  -3.5e+08\n",
      "     10.395000    0.000000    0.100139    0.000001   0.153859  -3.5e+08\n",
      "     10.450000    0.000000    0.100113    0.000001   0.153856  -3.4e+08\n",
      "     10.505000    0.000000    0.100086    0.000001   0.153853  -3.4e+08\n",
      "     10.560000    0.000000    0.100059    0.000001   0.153849  -3.3e+08\n",
      "     10.615000    0.000000    0.100032    0.000001   0.153846  -3.3e+08\n",
      "     10.670000    0.000000    0.100005    0.000001   0.153843  -3.2e+08\n",
      "     10.725000    0.000000    0.099978    0.000001   0.153839  -3.1e+08\n",
      "     10.780000    0.000000    0.099950    0.000001   0.153836  -3.1e+08\n",
      "     10.835000    0.000000    0.099923    0.000001   0.153833  -3.0e+08\n",
      "     10.890000    0.000000    0.099895    0.000001   0.153829  -3.0e+08\n",
      "     10.945000    0.000000    0.099867    0.000001   0.153826  -2.9e+08\n",
      "     11.000000    0.000000    0.099839    0.000001   0.153822  -2.9e+08\n",
      "Results saved to 'surf_pfr_output.csv'\n"
     ]
    }
   ],
   "source": [
    "# The plug flow reactor is represented by a linear chain of zero-dimensional\n",
    "# reactors. The gas at the inlet to the first one has the specified inlet\n",
    "# composition, and for all others the inlet composition is fixed at the\n",
    "# composition of the reactor immediately upstream. Since in a PFR model there\n",
    "# is no diffusion, the upstream reactors are not affected by any downstream\n",
    "# reactors, and therefore the problem may be solved by simply marching from\n",
    "# the first to last reactor, integrating each one to steady state.\n",
    "\n",
    "TDY = gas.TDY\n",
    "cov = surf.coverages\n",
    "\n",
    "# create a new reactor\n",
    "gas.TDY = TDY\n",
    "r = ct.IdealGasReactor(gas, energy='on')\n",
    "r.volume = r_vol\n",
    "\n",
    "# create a reservoir to represent the reactor immediately upstream. Note\n",
    "# that the gas object is set already to the state of the upstream reactor\n",
    "upstream = ct.Reservoir(gas, name='upstream')\n",
    "\n",
    "# create a reservoir for the reactor to exhaust into. The composition of\n",
    "# this reservoir is irrelevant.\n",
    "downstream = ct.Reservoir(gas, name='downstream')\n",
    "\n",
    "# Add the reacting surface to the reactor. The area is set to the desired\n",
    "# catalyst area in the reactor.\n",
    "rsurf = ct.ReactorSurface(surf, r, A=cat_area)\n",
    "\n",
    "# The mass flow rate into the reactor will be fixed by using a\n",
    "# MassFlowController object.\n",
    "m = ct.MassFlowController(upstream, r, mdot=mass_flow_rate)\n",
    "\n",
    "# We need an outlet to the downstream reservoir. This will determine the\n",
    "# pressure in the reactor. The value of K will only affect the transient\n",
    "# pressure difference.\n",
    "v = ct.PressureController(r, downstream, master=m, K=1e-5)\n",
    "\n",
    "sim = ct.ReactorNet([r])\n",
    "sim.max_err_test_fails = 24\n",
    "\n",
    "# set relative and absolute tolerances on the simulation\n",
    "sim.rtol = 1.0e-11\n",
    "sim.atol = 1.0e-20\n",
    "\n",
    "sim.verbose = False\n",
    "\n",
    "# surf.set_multiplier(0.)  # turn off surface reactions\n",
    "# surf.set_multiplier(1e6)  # make surface reactions a million times faster\n",
    "\n",
    "\n",
    "print('    distance(mm)     H4N2O2(2)   NH2OH(3)   HNO3(4)  CH3OH(5)  alpha')\n",
    "for n in range(NReactors):\n",
    "    # Set the state of the reservoir to match that of the previous reactor\n",
    "    gas.TDY = TDY = r.thermo.TDY\n",
    "\n",
    "    upstream.syncState()\n",
    "    sim.reinitialize()\n",
    "    try:\n",
    "#         the default is residual_threshold = sim.rtol*10\n",
    "#         sim.advance_to_steady_state(residual_threshold = sim.rtol*1e3)\n",
    "        sim.advance_to_steady_state()\n",
    "\n",
    "    except ct.CanteraError:\n",
    "        t = sim.time\n",
    "        sim.set_initial_time(0)\n",
    "        gas.TDY = TDY\n",
    "        r.syncState()\n",
    "        sim.reinitialize()\n",
    "        print(f\"Couldn't reach {t:.1g} s so going to {0.1*t:.1g} s\")\n",
    "        sim.advance(0.1*t)\n",
    "        report_rates()\n",
    "        report_rate_constants()\n",
    " \n",
    "    dist = n * r_len * 1.0e3   # distance in mm\n",
    "        \n",
    "    gasHeat = np.dot(gas.net_rates_of_progress, gas.delta_enthalpy) # heat evolved by gas phase reaction\n",
    "    surfHeat = np.dot(surf.net_rates_of_progress, surf.delta_enthalpy) # heat evolved by surf phase reaction \n",
    "    alpha = gasHeat/surfHeat #ratio of gas heat evolved to surface heat evolved.\n",
    "\n",
    "    if not n % 10:\n",
    "        print('    {:10f}  {:10f}  {:10f}  {:10f} {:10f}  {:5.1e}'.format(dist, *gas['H4N2O2(2)','NH2OH(3)','HNO3(4)','CH3OH(5)'].X, alpha ))\n",
    "\n",
    "    # write the gas mole fractions and surface coverages vs. distance\n",
    "    writer.writerow([dist, r.T - 273.15, r.thermo.P/ct.one_atm] +\n",
    "                    list(gas.X) + list(surf.coverages) + [alpha])\n",
    "    \n",
    "    #report_rates()\n",
    "    #report_rate_constants()\n",
    "\n",
    "outfile.close()\n",
    "print(\"Results saved to '{0}'\".format(output_filename))"
   ]
  },
  {
   "cell_type": "code",
   "execution_count": 18,
   "metadata": {},
   "outputs": [
    {
     "data": {
      "text/plain": [
       "23730894236.27199"
      ]
     },
     "execution_count": 18,
     "metadata": {},
     "output_type": "execute_result"
    }
   ],
   "source": [
    "sim.time"
   ]
  },
  {
   "cell_type": "code",
   "execution_count": 19,
   "metadata": {},
   "outputs": [
    {
     "data": {
      "text/plain": [
       "1126.8703906394048"
      ]
     },
     "execution_count": 19,
     "metadata": {},
     "output_type": "execute_result"
    }
   ],
   "source": [
    "gas.TDY = TDY\n",
    "r.syncState()\n",
    "r.thermo.T"
   ]
  },
  {
   "cell_type": "code",
   "execution_count": 20,
   "metadata": {},
   "outputs": [
    {
     "data": {
      "text/plain": [
       "array([0., 0., 0., 0., 0., 0., 0., 0., 0., 0., 0., 0., 0., 0., 0., 0., 0.,\n",
       "       0., 0., 0., 0., 0., 0., 0., 0., 0., 0., 0., 0., 0., 0., 0., 0., 0.,\n",
       "       0., 0., 0., 0.])"
      ]
     },
     "execution_count": 20,
     "metadata": {},
     "output_type": "execute_result"
    }
   ],
   "source": [
    "r.thermo.X - gas.X"
   ]
  },
  {
   "cell_type": "code",
   "execution_count": 21,
   "metadata": {},
   "outputs": [
    {
     "data": {
      "text/plain": [
       "array([ 3.48041942e-06,  1.57746759e-07,  1.75481410e-12,  2.38989799e-07,\n",
       "        1.51984585e-20,  1.02479162e-11,  1.42507160e-13,  4.24859376e-16,\n",
       "       -9.29907182e-13, -7.08053193e-10,  2.04284641e-09,  1.01127986e-08,\n",
       "        5.63605839e-12,  4.36863363e-10,  2.51685578e-09, -1.83615715e-09,\n",
       "        1.04525165e-09, -1.00493248e-09, -8.34361842e-13,  4.65206431e-18,\n",
       "        1.51141669e-13,  1.07444984e-16, -1.39841443e-13, -1.87830124e-14,\n",
       "        1.51471780e-13,  1.39052723e-13, -2.92878465e-16, -1.51442147e-13,\n",
       "       -1.51495006e-13,  1.51465555e-13, -5.23460513e-18])"
      ]
     },
     "execution_count": 21,
     "metadata": {},
     "output_type": "execute_result"
    }
   ],
   "source": [
    "rsurf.kinetics.net_rates_of_progress"
   ]
  },
  {
   "cell_type": "code",
   "execution_count": 22,
   "metadata": {},
   "outputs": [
    {
     "data": {
      "text/plain": [
       "array([ 3.48041942e-06,  1.57746759e-07,  1.75481410e-12,  2.38989799e-07,\n",
       "        1.51984585e-20,  1.02479162e-11,  1.42507160e-13,  4.24859376e-16,\n",
       "       -9.29907182e-13, -7.08053193e-10,  2.04284641e-09,  1.01127986e-08,\n",
       "        5.63605839e-12,  4.36863363e-10,  2.51685578e-09, -1.83615715e-09,\n",
       "        1.04525165e-09, -1.00493248e-09, -8.34361842e-13,  4.65206431e-18,\n",
       "        1.51141669e-13,  1.07444984e-16, -1.39841443e-13, -1.87830124e-14,\n",
       "        1.51471780e-13,  1.39052723e-13, -2.92878465e-16, -1.51442147e-13,\n",
       "       -1.51495006e-13,  1.51465555e-13, -5.23460513e-18])"
      ]
     },
     "execution_count": 22,
     "metadata": {},
     "output_type": "execute_result"
    }
   ],
   "source": [
    "surf.net_rates_of_progress"
   ]
  },
  {
   "cell_type": "code",
   "execution_count": 23,
   "metadata": {},
   "outputs": [
    {
     "data": {
      "text/plain": [
       "(1126.8703906394048,\n",
       " 0.31315432277730537,\n",
       " array([2.79584914e-31, 2.77261380e-14, 1.13885652e-01, 2.42868296e-06,\n",
       "        1.70212661e-01, 2.21244301e-01, 3.72308513e-02, 3.12203373e-03,\n",
       "        2.07249252e-01, 2.12294221e-02, 2.55501769e-02, 6.16536176e-09,\n",
       "        4.33396600e-08, 5.51490688e-10, 4.76519156e-08, 1.60221852e-13,\n",
       "        2.62220053e-13, 2.07864209e-09, 5.96967129e-23, 8.15747725e-13,\n",
       "        4.94146629e-19, 5.82371080e-15, 6.27196049e-19, 2.86082143e-07,\n",
       "        4.21893958e-15, 2.31011276e-07, 8.80275686e-06, 1.72653901e-01,\n",
       "        8.20430912e-03, 1.93994953e-02, 7.86699522e-09, 1.89031511e-12,\n",
       "        3.35506021e-18, 2.03053883e-13, 3.32973504e-13, 2.89056243e-06,\n",
       "        3.19763959e-06, 3.22301682e-18]))"
      ]
     },
     "execution_count": 23,
     "metadata": {},
     "output_type": "execute_result"
    }
   ],
   "source": [
    "gas.TDY"
   ]
  },
  {
   "cell_type": "code",
   "execution_count": 24,
   "metadata": {},
   "outputs": [
    {
     "data": {
      "text/plain": [
       "(1126.8703906394048,\n",
       " 0.31315432277730537,\n",
       " array([2.79584914e-31, 2.77261380e-14, 1.13885652e-01, 2.42868296e-06,\n",
       "        1.70212661e-01, 2.21244301e-01, 3.72308513e-02, 3.12203373e-03,\n",
       "        2.07249252e-01, 2.12294221e-02, 2.55501769e-02, 6.16536176e-09,\n",
       "        4.33396600e-08, 5.51490688e-10, 4.76519156e-08, 1.60221852e-13,\n",
       "        2.62220053e-13, 2.07864209e-09, 5.96967129e-23, 8.15747725e-13,\n",
       "        4.94146629e-19, 5.82371080e-15, 6.27196049e-19, 2.86082143e-07,\n",
       "        4.21893958e-15, 2.31011276e-07, 8.80275686e-06, 1.72653901e-01,\n",
       "        8.20430912e-03, 1.93994953e-02, 7.86699522e-09, 1.89031511e-12,\n",
       "        3.35506021e-18, 2.03053883e-13, 3.32973504e-13, 2.89056243e-06,\n",
       "        3.19763959e-06, 3.22301682e-18]))"
      ]
     },
     "execution_count": 24,
     "metadata": {},
     "output_type": "execute_result"
    }
   ],
   "source": [
    "r.thermo.TDY"
   ]
  },
  {
   "cell_type": "code",
   "execution_count": 25,
   "metadata": {},
   "outputs": [
    {
     "name": "stdout",
     "output_type": "stream",
     "text": [
      "\n",
      "Highest forward rate constants, gas\n",
      "129 : H2NO3(252) + HCO(22) <=> CH2O(17) + HNO3(4)        1.8e+11\n",
      "157 : NH2(85) + NO(10) <=> NNDO(506)                     1.4e+11\n",
      " 46 : H(20) + NO2(9) <=> NO(10) + OH(24)                 1.1e+11\n",
      " 24 : H(20) + HCO(22) <=> CO(14) + H2(13)                1.1e+11\n",
      " 40 : HCO(22) + OH(24) <=> CO(14) + H2O(6)               1.1e+11\n",
      " 68 : C2H5(21) + H2N2O(502) <=> C2H4(25) + H3N2O(193)    9.0e+10\n",
      "109 : H(20) + S(196) <=> H4N2O2(2)                       6.7e+10\n",
      "\n",
      "Highest forward rate constants, surface\n",
      " 28 : CHX(35) + HX(26) <=> CH2X(34) + X(1)               3.1e+21\n",
      " 27 : CH2X(34) + HX(26) <=> CH3X(28) + X(1)              3.1e+21\n",
      " 29 : CHX(35) + X(1) <=> CX(33) + HX(26)                 3.1e+21\n",
      " 14 : HX(26) + OX(27) <=> HOX(29) + X(1)                 3.9e+19\n",
      " 24 : CX(33) + OX(27) <=> OCX(32) + X(1)                 3.7e+18\n",
      " 26 : CO2X(31) + HX(26) <=> HOX(29) + OCX(32)            4.1e+17\n",
      "  7 : HOX(29) + HX(26) <=> H2OX(30) + X(1)               1.7e+17\n",
      "\n",
      "Highest reverse rate constants, gas\n",
      "120 : NNDO(506) + OH(24) <=> S(196)                      4.4e+12\n",
      " 60 : H3N2O(193) + OH(24) <=> H4N2O2(2)                  1.8e+12\n",
      " 59 : H3N2O(193) + OH(24) <=> H4N2O2(2)                  1.8e+12\n",
      "156 : 2 NH2(85) <=> H(20) + N2H3(99)                     1.4e+12\n",
      "108 : H3N2O(193) + OH(24) <=> S(566)                     3.3e+11\n",
      " 15 : 2 CH3(18) <=> C2H5(21) + H(20)                     1.4e+11\n",
      " 35 : 2 H2O(6) <=> H(20) + H2O(6) + OH(24)               1.1e+11\n",
      "\n",
      "Highest reverse rate constants, surface\n",
      " 28 : CHX(35) + HX(26) <=> CH2X(34) + X(1)               7.1e+23\n",
      " 29 : CHX(35) + X(1) <=> CX(33) + HX(26)                 4.9e+23\n",
      " 15 : H2OX(30) + OX(27) <=> 2 HOX(29)                    5.4e+22\n",
      "  8 : H2O(6) + 2 X(1) <=> HOX(29) + HX(26)               6.9e+20\n",
      " 14 : HX(26) + OX(27) <=> HOX(29) + X(1)                 1.6e+19\n",
      " 27 : CH2X(34) + HX(26) <=> CH3X(28) + X(1)              1.1e+19\n",
      "  5 : H2(13) + 2 X(1) <=> 2 HX(26)                       2.9e+18\n",
      "Units are a combination of kmol, m^3 and s, that depend on the rate expression for the reaction.\n"
     ]
    }
   ],
   "source": [
    "report_rate_constants()"
   ]
  },
  {
   "cell_type": "code",
   "execution_count": 26,
   "metadata": {},
   "outputs": [
    {
     "data": {
      "text/plain": [
       "False"
      ]
     },
     "execution_count": 26,
     "metadata": {},
     "output_type": "execute_result"
    }
   ],
   "source": [
    "sim.verbose"
   ]
  },
  {
   "cell_type": "code",
   "execution_count": 27,
   "metadata": {},
   "outputs": [
    {
     "data": {
      "text/plain": [
       "'IdealGasReactor_2: H2OX(30)'"
      ]
     },
     "execution_count": 27,
     "metadata": {},
     "output_type": "execute_result"
    }
   ],
   "source": [
    "sim.component_name(46)"
   ]
  },
  {
   "cell_type": "code",
   "execution_count": 29,
   "metadata": {},
   "outputs": [
    {
     "data": {
      "text/plain": [
       "<BarContainer object of 176 artists>"
      ]
     },
     "execution_count": 29,
     "metadata": {},
     "output_type": "execute_result"
    },
    {
     "data": {
      "image/png": "[encoded data removed]",
      "text/plain": [
       "<Figure size 432x288 with 1 Axes>"
      ]
     },
     "metadata": {
      "needs_background": "light"
     },
     "output_type": "display_data"
    }
   ],
   "source": [
    "plt.barh(np.arange(len(gas.net_rates_of_progress)),gas.net_rates_of_progress)"
   ]
  },
  {
   "cell_type": "code",
   "execution_count": 30,
   "metadata": {},
   "outputs": [
    {
     "data": {
      "text/plain": [
       "1126.8703906394048"
      ]
     },
     "execution_count": 30,
     "metadata": {},
     "output_type": "execute_result"
    }
   ],
   "source": [
    "gas.T"
   ]
  },
  {
   "cell_type": "code",
   "execution_count": 31,
   "metadata": {},
   "outputs": [
    {
     "data": {
      "text/html": [
       "<div>\n",
       "<style scoped>\n",
       "    .dataframe tbody tr th:only-of-type {\n",
       "        vertical-align: middle;\n",
       "    }\n",
       "\n",
       "    .dataframe tbody tr th {\n",
       "        vertical-align: top;\n",
       "    }\n",
       "\n",
       "    .dataframe thead th {\n",
       "        text-align: right;\n",
       "    }\n",
       "</style>\n",
       "<table border=\"1\" class=\"dataframe\">\n",
       "  <thead>\n",
       "    <tr style=\"text-align: right;\">\n",
       "      <th></th>\n",
       "      <th>Distance (mm)</th>\n",
       "      <th>T (C)</th>\n",
       "      <th>P (atm)</th>\n",
       "      <th>Ne</th>\n",
       "      <th>H4N2O2(2)</th>\n",
       "      <th>NH2OH(3)</th>\n",
       "      <th>HNO3(4)</th>\n",
       "      <th>CH3OH(5)</th>\n",
       "      <th>H2O(6)</th>\n",
       "      <th>N2(7)</th>\n",
       "      <th>...</th>\n",
       "      <th>CH2X(34)</th>\n",
       "      <th>CHX(35)</th>\n",
       "      <th>H2NX(212)</th>\n",
       "      <th>SX(215)</th>\n",
       "      <th>H2NOX(217)</th>\n",
       "      <th>H3NOX(218)</th>\n",
       "      <th>HNO3X(221)</th>\n",
       "      <th>CH3OX(223)</th>\n",
       "      <th>CH4OX(224)</th>\n",
       "      <th>alpha</th>\n",
       "    </tr>\n",
       "  </thead>\n",
       "  <tbody>\n",
       "    <tr>\n",
       "      <th>0</th>\n",
       "      <td>0.0000</td>\n",
       "      <td>607.699012</td>\n",
       "      <td>1.0</td>\n",
       "      <td>2.067240e-129</td>\n",
       "      <td>5.762657e-07</td>\n",
       "      <td>0.317872</td>\n",
       "      <td>0.186350</td>\n",
       "      <td>0.195526</td>\n",
       "      <td>0.169020</td>\n",
       "      <td>0.000237</td>\n",
       "      <td>...</td>\n",
       "      <td>4.236148e-28</td>\n",
       "      <td>4.094377e-25</td>\n",
       "      <td>0.000020</td>\n",
       "      <td>2.676007e-16</td>\n",
       "      <td>3.873182e-07</td>\n",
       "      <td>3.129719e-10</td>\n",
       "      <td>1.994327e-10</td>\n",
       "      <td>0.734787</td>\n",
       "      <td>2.294988e-11</td>\n",
       "      <td>5.605497e+12</td>\n",
       "    </tr>\n",
       "    <tr>\n",
       "      <th>1</th>\n",
       "      <td>0.0055</td>\n",
       "      <td>639.049299</td>\n",
       "      <td>1.0</td>\n",
       "      <td>2.059720e-129</td>\n",
       "      <td>8.461475e-10</td>\n",
       "      <td>0.321129</td>\n",
       "      <td>0.185515</td>\n",
       "      <td>0.194815</td>\n",
       "      <td>0.173048</td>\n",
       "      <td>0.000846</td>\n",
       "      <td>...</td>\n",
       "      <td>1.046770e-27</td>\n",
       "      <td>8.045601e-25</td>\n",
       "      <td>0.000078</td>\n",
       "      <td>1.942031e-18</td>\n",
       "      <td>7.612704e-07</td>\n",
       "      <td>1.479457e-09</td>\n",
       "      <td>9.154162e-10</td>\n",
       "      <td>0.911716</td>\n",
       "      <td>1.247511e-10</td>\n",
       "      <td>2.314374e+12</td>\n",
       "    </tr>\n",
       "    <tr>\n",
       "      <th>2</th>\n",
       "      <td>0.0110</td>\n",
       "      <td>650.329312</td>\n",
       "      <td>1.0</td>\n",
       "      <td>2.054982e-129</td>\n",
       "      <td>4.912470e-11</td>\n",
       "      <td>0.322873</td>\n",
       "      <td>0.184885</td>\n",
       "      <td>0.194367</td>\n",
       "      <td>0.174105</td>\n",
       "      <td>0.001664</td>\n",
       "      <td>...</td>\n",
       "      <td>1.507218e-27</td>\n",
       "      <td>1.071122e-24</td>\n",
       "      <td>0.000166</td>\n",
       "      <td>2.673491e-19</td>\n",
       "      <td>1.056224e-06</td>\n",
       "      <td>3.460429e-09</td>\n",
       "      <td>2.111739e-09</td>\n",
       "      <td>0.953453</td>\n",
       "      <td>3.052800e-10</td>\n",
       "      <td>1.962970e+12</td>\n",
       "    </tr>\n",
       "    <tr>\n",
       "      <th>3</th>\n",
       "      <td>0.0165</td>\n",
       "      <td>657.474863</td>\n",
       "      <td>1.0</td>\n",
       "      <td>2.050780e-129</td>\n",
       "      <td>1.585121e-11</td>\n",
       "      <td>0.323143</td>\n",
       "      <td>0.184269</td>\n",
       "      <td>0.193970</td>\n",
       "      <td>0.175195</td>\n",
       "      <td>0.002619</td>\n",
       "      <td>...</td>\n",
       "      <td>2.820465e-27</td>\n",
       "      <td>1.909291e-24</td>\n",
       "      <td>0.000201</td>\n",
       "      <td>1.147898e-19</td>\n",
       "      <td>9.218168e-07</td>\n",
       "      <td>4.553756e-09</td>\n",
       "      <td>2.758809e-09</td>\n",
       "      <td>0.957482</td>\n",
       "      <td>4.139808e-10</td>\n",
       "      <td>1.146842e+12</td>\n",
       "    </tr>\n",
       "    <tr>\n",
       "      <th>4</th>\n",
       "      <td>0.0220</td>\n",
       "      <td>663.199735</td>\n",
       "      <td>1.0</td>\n",
       "      <td>2.046557e-129</td>\n",
       "      <td>7.662979e-12</td>\n",
       "      <td>0.322702</td>\n",
       "      <td>0.183622</td>\n",
       "      <td>0.193570</td>\n",
       "      <td>0.176413</td>\n",
       "      <td>0.003682</td>\n",
       "      <td>...</td>\n",
       "      <td>5.155578e-27</td>\n",
       "      <td>3.358633e-24</td>\n",
       "      <td>0.000214</td>\n",
       "      <td>6.406569e-20</td>\n",
       "      <td>7.371350e-07</td>\n",
       "      <td>5.200536e-09</td>\n",
       "      <td>3.136180e-09</td>\n",
       "      <td>0.956742</td>\n",
       "      <td>4.849138e-10</td>\n",
       "      <td>7.252605e+11</td>\n",
       "    </tr>\n",
       "    <tr>\n",
       "      <th>...</th>\n",
       "      <td>...</td>\n",
       "      <td>...</td>\n",
       "      <td>...</td>\n",
       "      <td>...</td>\n",
       "      <td>...</td>\n",
       "      <td>...</td>\n",
       "      <td>...</td>\n",
       "      <td>...</td>\n",
       "      <td>...</td>\n",
       "      <td>...</td>\n",
       "      <td>...</td>\n",
       "      <td>...</td>\n",
       "      <td>...</td>\n",
       "      <td>...</td>\n",
       "      <td>...</td>\n",
       "      <td>...</td>\n",
       "      <td>...</td>\n",
       "      <td>...</td>\n",
       "      <td>...</td>\n",
       "      <td>...</td>\n",
       "      <td>...</td>\n",
       "    </tr>\n",
       "    <tr>\n",
       "      <th>1996</th>\n",
       "      <td>10.9780</td>\n",
       "      <td>853.603506</td>\n",
       "      <td>1.0</td>\n",
       "      <td>4.011917e-31</td>\n",
       "      <td>1.252223e-14</td>\n",
       "      <td>0.099850</td>\n",
       "      <td>0.000001</td>\n",
       "      <td>0.153824</td>\n",
       "      <td>0.355591</td>\n",
       "      <td>0.038481</td>\n",
       "      <td>...</td>\n",
       "      <td>3.996393e-20</td>\n",
       "      <td>9.530335e-18</td>\n",
       "      <td>0.000003</td>\n",
       "      <td>2.091013e-20</td>\n",
       "      <td>1.089133e-05</td>\n",
       "      <td>2.435456e-07</td>\n",
       "      <td>2.701113e-12</td>\n",
       "      <td>0.954084</td>\n",
       "      <td>1.207943e-07</td>\n",
       "      <td>-2.914069e+08</td>\n",
       "    </tr>\n",
       "    <tr>\n",
       "      <th>1997</th>\n",
       "      <td>10.9835</td>\n",
       "      <td>853.642477</td>\n",
       "      <td>1.0</td>\n",
       "      <td>4.011908e-31</td>\n",
       "      <td>1.252683e-14</td>\n",
       "      <td>0.099847</td>\n",
       "      <td>0.000001</td>\n",
       "      <td>0.153823</td>\n",
       "      <td>0.355600</td>\n",
       "      <td>0.038482</td>\n",
       "      <td>...</td>\n",
       "      <td>4.004848e-20</td>\n",
       "      <td>9.548942e-18</td>\n",
       "      <td>0.000003</td>\n",
       "      <td>2.092569e-20</td>\n",
       "      <td>1.089146e-05</td>\n",
       "      <td>2.436180e-07</td>\n",
       "      <td>2.701298e-12</td>\n",
       "      <td>0.954068</td>\n",
       "      <td>1.208487e-07</td>\n",
       "      <td>-2.909316e+08</td>\n",
       "    </tr>\n",
       "    <tr>\n",
       "      <th>1998</th>\n",
       "      <td>10.9890</td>\n",
       "      <td>853.681439</td>\n",
       "      <td>1.0</td>\n",
       "      <td>4.011898e-31</td>\n",
       "      <td>1.253144e-14</td>\n",
       "      <td>0.099844</td>\n",
       "      <td>0.000001</td>\n",
       "      <td>0.153823</td>\n",
       "      <td>0.355608</td>\n",
       "      <td>0.038483</td>\n",
       "      <td>...</td>\n",
       "      <td>4.013318e-20</td>\n",
       "      <td>9.567578e-18</td>\n",
       "      <td>0.000003</td>\n",
       "      <td>2.094126e-20</td>\n",
       "      <td>1.089159e-05</td>\n",
       "      <td>2.436905e-07</td>\n",
       "      <td>2.701484e-12</td>\n",
       "      <td>0.954052</td>\n",
       "      <td>1.209030e-07</td>\n",
       "      <td>-2.904574e+08</td>\n",
       "    </tr>\n",
       "    <tr>\n",
       "      <th>1999</th>\n",
       "      <td>10.9945</td>\n",
       "      <td>853.720391</td>\n",
       "      <td>1.0</td>\n",
       "      <td>4.011889e-31</td>\n",
       "      <td>1.253605e-14</td>\n",
       "      <td>0.099841</td>\n",
       "      <td>0.000001</td>\n",
       "      <td>0.153823</td>\n",
       "      <td>0.355616</td>\n",
       "      <td>0.038484</td>\n",
       "      <td>...</td>\n",
       "      <td>4.021803e-20</td>\n",
       "      <td>9.586245e-18</td>\n",
       "      <td>0.000003</td>\n",
       "      <td>2.095683e-20</td>\n",
       "      <td>1.089172e-05</td>\n",
       "      <td>2.437629e-07</td>\n",
       "      <td>2.701669e-12</td>\n",
       "      <td>0.954035</td>\n",
       "      <td>1.209574e-07</td>\n",
       "      <td>-2.899841e+08</td>\n",
       "    </tr>\n",
       "    <tr>\n",
       "      <th>2000</th>\n",
       "      <td>11.0000</td>\n",
       "      <td>853.759333</td>\n",
       "      <td>1.0</td>\n",
       "      <td>4.011880e-31</td>\n",
       "      <td>1.254066e-14</td>\n",
       "      <td>0.099839</td>\n",
       "      <td>0.000001</td>\n",
       "      <td>0.153822</td>\n",
       "      <td>0.355624</td>\n",
       "      <td>0.038486</td>\n",
       "      <td>...</td>\n",
       "      <td>4.030303e-20</td>\n",
       "      <td>9.604941e-18</td>\n",
       "      <td>0.000003</td>\n",
       "      <td>2.097241e-20</td>\n",
       "      <td>1.089185e-05</td>\n",
       "      <td>2.438353e-07</td>\n",
       "      <td>2.701855e-12</td>\n",
       "      <td>0.954019</td>\n",
       "      <td>1.210117e-07</td>\n",
       "      <td>-2.895114e+08</td>\n",
       "    </tr>\n",
       "  </tbody>\n",
       "</table>\n",
       "<p>2001 rows × 60 columns</p>\n",
       "</div>"
      ],
      "text/plain": [
       "      Distance (mm)       T (C)  P (atm)             Ne     H4N2O2(2)  \\\n",
       "0            0.0000  607.699012      1.0  2.067240e-129  5.762657e-07   \n",
       "1            0.0055  639.049299      1.0  2.059720e-129  8.461475e-10   \n",
       "2            0.0110  650.329312      1.0  2.054982e-129  4.912470e-11   \n",
       "3            0.0165  657.474863      1.0  2.050780e-129  1.585121e-11   \n",
       "4            0.0220  663.199735      1.0  2.046557e-129  7.662979e-12   \n",
       "...             ...         ...      ...            ...           ...   \n",
       "1996        10.9780  853.603506      1.0   4.011917e-31  1.252223e-14   \n",
       "1997        10.9835  853.642477      1.0   4.011908e-31  1.252683e-14   \n",
       "1998        10.9890  853.681439      1.0   4.011898e-31  1.253144e-14   \n",
       "1999        10.9945  853.720391      1.0   4.011889e-31  1.253605e-14   \n",
       "2000        11.0000  853.759333      1.0   4.011880e-31  1.254066e-14   \n",
       "\n",
       "      NH2OH(3)   HNO3(4)  CH3OH(5)    H2O(6)     N2(7)  ...      CH2X(34)  \\\n",
       "0     0.317872  0.186350  0.195526  0.169020  0.000237  ...  4.236148e-28   \n",
       "1     0.321129  0.185515  0.194815  0.173048  0.000846  ...  1.046770e-27   \n",
       "2     0.322873  0.184885  0.194367  0.174105  0.001664  ...  1.507218e-27   \n",
       "3     0.323143  0.184269  0.193970  0.175195  0.002619  ...  2.820465e-27   \n",
       "4     0.322702  0.183622  0.193570  0.176413  0.003682  ...  5.155578e-27   \n",
       "...        ...       ...       ...       ...       ...  ...           ...   \n",
       "1996  0.099850  0.000001  0.153824  0.355591  0.038481  ...  3.996393e-20   \n",
       "1997  0.099847  0.000001  0.153823  0.355600  0.038482  ...  4.004848e-20   \n",
       "1998  0.099844  0.000001  0.153823  0.355608  0.038483  ...  4.013318e-20   \n",
       "1999  0.099841  0.000001  0.153823  0.355616  0.038484  ...  4.021803e-20   \n",
       "2000  0.099839  0.000001  0.153822  0.355624  0.038486  ...  4.030303e-20   \n",
       "\n",
       "           CHX(35)  H2NX(212)       SX(215)    H2NOX(217)    H3NOX(218)  \\\n",
       "0     4.094377e-25   0.000020  2.676007e-16  3.873182e-07  3.129719e-10   \n",
       "1     8.045601e-25   0.000078  1.942031e-18  7.612704e-07  1.479457e-09   \n",
       "2     1.071122e-24   0.000166  2.673491e-19  1.056224e-06  3.460429e-09   \n",
       "3     1.909291e-24   0.000201  1.147898e-19  9.218168e-07  4.553756e-09   \n",
       "4     3.358633e-24   0.000214  6.406569e-20  7.371350e-07  5.200536e-09   \n",
       "...            ...        ...           ...           ...           ...   \n",
       "1996  9.530335e-18   0.000003  2.091013e-20  1.089133e-05  2.435456e-07   \n",
       "1997  9.548942e-18   0.000003  2.092569e-20  1.089146e-05  2.436180e-07   \n",
       "1998  9.567578e-18   0.000003  2.094126e-20  1.089159e-05  2.436905e-07   \n",
       "1999  9.586245e-18   0.000003  2.095683e-20  1.089172e-05  2.437629e-07   \n",
       "2000  9.604941e-18   0.000003  2.097241e-20  1.089185e-05  2.438353e-07   \n",
       "\n",
       "        HNO3X(221)  CH3OX(223)    CH4OX(224)         alpha  \n",
       "0     1.994327e-10    0.734787  2.294988e-11  5.605497e+12  \n",
       "1     9.154162e-10    0.911716  1.247511e-10  2.314374e+12  \n",
       "2     2.111739e-09    0.953453  3.052800e-10  1.962970e+12  \n",
       "3     2.758809e-09    0.957482  4.139808e-10  1.146842e+12  \n",
       "4     3.136180e-09    0.956742  4.849138e-10  7.252605e+11  \n",
       "...            ...         ...           ...           ...  \n",
       "1996  2.701113e-12    0.954084  1.207943e-07 -2.914069e+08  \n",
       "1997  2.701298e-12    0.954068  1.208487e-07 -2.909316e+08  \n",
       "1998  2.701484e-12    0.954052  1.209030e-07 -2.904574e+08  \n",
       "1999  2.701669e-12    0.954035  1.209574e-07 -2.899841e+08  \n",
       "2000  2.701855e-12    0.954019  1.210117e-07 -2.895114e+08  \n",
       "\n",
       "[2001 rows x 60 columns]"
      ]
     },
     "execution_count": 31,
     "metadata": {},
     "output_type": "execute_result"
    }
   ],
   "source": [
    "data = pd.read_csv(output_filename)\n",
    "data"
   ]
  },
  {
   "cell_type": "code",
   "execution_count": 32,
   "metadata": {},
   "outputs": [
    {
     "data": {
      "text/plain": [
       "<matplotlib.axes._subplots.AxesSubplot at 0x11b19ff10>"
      ]
     },
     "execution_count": 32,
     "metadata": {},
     "output_type": "execute_result"
    },
    {
     "data": {
      "image/png": "[encoded data removed]",
      "text/plain": [
       "<Figure size 432x288 with 1 Axes>"
      ]
     },
     "metadata": {
      "needs_background": "light"
     },
     "output_type": "display_data"
    }
   ],
   "source": [
    "data['T (C)'].plot()"
   ]
  },
  {
   "cell_type": "code",
   "execution_count": 33,
   "metadata": {},
   "outputs": [
    {
     "data": {
      "text/plain": [
       "<matplotlib.axes._subplots.AxesSubplot at 0x11a7402d0>"
      ]
     },
     "execution_count": 33,
     "metadata": {},
     "output_type": "execute_result"
    },
    {
     "data": {
      "image/png": "[encoded data removed]",
      "text/plain": [
       "<Figure size 432x288 with 1 Axes>"
      ]
     },
     "metadata": {
      "needs_background": "light"
     },
     "output_type": "display_data"
    }
   ],
   "source": [
    "data[['H4N2O2(2)', 'CH3OH(5)']].plot()"
   ]
  },
  {
   "cell_type": "code",
   "execution_count": 34,
   "metadata": {},
   "outputs": [
    {
     "data": {
      "text/plain": [
       "['Distance (mm)', 'T (C)', 'P (atm)', 'Ne']"
      ]
     },
     "execution_count": 34,
     "metadata": {},
     "output_type": "execute_result"
    }
   ],
   "source": [
    "list(data.columns)[:4]"
   ]
  },
  {
   "cell_type": "code",
   "execution_count": 35,
   "metadata": {},
   "outputs": [
    {
     "data": {
      "text/plain": [
       "<matplotlib.axes._subplots.AxesSubplot at 0x11b28f1d0>"
      ]
     },
     "execution_count": 35,
     "metadata": {},
     "output_type": "execute_result"
    },
    {
     "data": {
      "image/png": "[encoded data removed]",
      "text/plain": [
       "<Figure size 432x288 with 1 Axes>"
      ]
     },
     "metadata": {
      "needs_background": "light"
     },
     "output_type": "display_data"
    }
   ],
   "source": [
    "data[['T (C)', 'alpha']].plot()"
   ]
  },
  {
   "cell_type": "code",
   "execution_count": 36,
   "metadata": {},
   "outputs": [
    {
     "data": {
      "text/plain": [
       "<matplotlib.axes._subplots.AxesSubplot at 0x11b2016d0>"
      ]
     },
     "execution_count": 36,
     "metadata": {},
     "output_type": "execute_result"
    },
    {
     "data": {
      "image/png": "[encoded data removed]",
      "text/plain": [
       "<Figure size 432x288 with 1 Axes>"
      ]
     },
     "metadata": {
      "needs_background": "light"
     },
     "output_type": "display_data"
    }
   ],
   "source": [
    "data[['alpha']].plot(logy=True)"
   ]
  },
  {
   "cell_type": "code",
   "execution_count": 37,
   "metadata": {},
   "outputs": [
    {
     "data": {
      "text/plain": [
       "<matplotlib.axes._subplots.AxesSubplot at 0x11af769d0>"
      ]
     },
     "execution_count": 37,
     "metadata": {},
     "output_type": "execute_result"
    },
    {
     "data": {
      "image/png": "[encoded data removed]",
      "text/plain": [
       "<Figure size 432x288 with 1 Axes>"
      ]
     },
     "metadata": {
      "needs_background": "light"
     },
     "output_type": "display_data"
    }
   ],
   "source": [
    "data.plot(x='T (C)',y='alpha')"
   ]
  },
  {
   "cell_type": "code",
   "execution_count": 38,
   "metadata": {},
   "outputs": [
    {
     "data": {
      "text/plain": [
       "<matplotlib.axes._subplots.AxesSubplot at 0x11ae1e650>"
      ]
     },
     "execution_count": 38,
     "metadata": {},
     "output_type": "execute_result"
    },
    {
     "data": {
      "image/png": "[encoded data removed]",
      "text/plain": [
       "<Figure size 432x288 with 1 Axes>"
      ]
     },
     "metadata": {
      "needs_background": "light"
     },
     "output_type": "display_data"
    }
   ],
   "source": [
    "data.plot(x='T (C)',y='alpha', ylim=(-1e11,1e12))"
   ]
  },
  {
   "cell_type": "code",
   "execution_count": 39,
   "metadata": {},
   "outputs": [
    {
     "data": {
      "text/plain": [
       "(['H4N2O2(2)',\n",
       "  'NH2OH(3)',\n",
       "  'HNO3(4)',\n",
       "  'CH3OH(5)',\n",
       "  'H2O(6)',\n",
       "  'N2(7)',\n",
       "  'O2(8)',\n",
       "  'NO2(9)',\n",
       "  'NO(10)',\n",
       "  'N2O(11)',\n",
       "  'CO2(12)',\n",
       "  'H2(13)',\n",
       "  'CO(14)',\n",
       "  'CH4(15)',\n",
       "  'C2H6(16)',\n",
       "  'CH2O(17)',\n",
       "  'CH3(18)',\n",
       "  'C3H8(19)',\n",
       "  'H(20)',\n",
       "  'C2H5(21)',\n",
       "  'HCO(22)',\n",
       "  'CH3CHO(23)',\n",
       "  'OH(24)',\n",
       "  'C2H4(25)',\n",
       "  'HO2(39)',\n",
       "  'NH2(85)',\n",
       "  'H2NO(89)',\n",
       "  'HNOH(94)',\n",
       "  'N2H3(99)',\n",
       "  'H3N2O(193)',\n",
       "  'H2NO2(195)',\n",
       "  'S(196)',\n",
       "  'H2NO3(252)',\n",
       "  'H2N2O(502)',\n",
       "  'NNDO(506)',\n",
       "  'NNO(515)',\n",
       "  'S(566)'],\n",
       " ['X(1)',\n",
       "  'HX(26)',\n",
       "  'OX(27)',\n",
       "  'CH3X(28)',\n",
       "  'HOX(29)',\n",
       "  'H2OX(30)',\n",
       "  'CO2X(31)',\n",
       "  'OCX(32)',\n",
       "  'CX(33)',\n",
       "  'CH2X(34)',\n",
       "  'CHX(35)',\n",
       "  'H2NX(212)',\n",
       "  'SX(215)',\n",
       "  'H2NOX(217)',\n",
       "  'H3NOX(218)',\n",
       "  'HNO3X(221)',\n",
       "  'CH3OX(223)',\n",
       "  'CH4OX(224)'])"
      ]
     },
     "execution_count": 39,
     "metadata": {},
     "output_type": "execute_result"
    }
   ],
   "source": [
    "specs = list(data.columns)\n",
    "specs = specs[4:-1]\n",
    "\n",
    "gas_species = [s for s in specs if 'X' not in s]\n",
    "adsorbates = [s for s in specs if 'X' in s]\n",
    "\n",
    "gas_species, adsorbates"
   ]
  },
  {
   "cell_type": "code",
   "execution_count": 40,
   "metadata": {},
   "outputs": [
    {
     "name": "stderr",
     "output_type": "stream",
     "text": [
      "/Users/rwest/opt/anaconda3/envs/rmg3/lib/python3.7/site-packages/pandas/plotting/_matplotlib/core.py:1085: UserWarning: Attempted to set non-positive left xlim on a log-scaled axis.\n",
      "Invalid limit will be ignored.\n",
      "  ax.set_xlim(left, right)\n"
     ]
    },
    {
     "data": {
      "text/plain": [
       "<matplotlib.axes._subplots.AxesSubplot at 0x11acd4690>"
      ]
     },
     "execution_count": 40,
     "metadata": {},
     "output_type": "execute_result"
    },
    {
     "data": {
      "image/png": "[encoded data removed]",
      "text/plain": [
       "<Figure size 432x288 with 1 Axes>"
      ]
     },
     "metadata": {
      "needs_background": "light"
     },
     "output_type": "display_data"
    }
   ],
   "source": [
    "data[gas_species[0:5]].plot(logy=True, logx=True)"
   ]
  },
  {
   "cell_type": "code",
   "execution_count": 41,
   "metadata": {
    "scrolled": false
   },
   "outputs": [
    {
     "data": {
      "image/png": "[encoded data removed]",
      "text/plain": [
       "<Figure size 432x288 with 1 Axes>"
      ]
     },
     "metadata": {
      "needs_background": "light"
     },
     "output_type": "display_data"
    },
    {
     "data": {
      "image/png": "[encoded data removed]",
      "text/plain": [
       "<Figure size 432x288 with 1 Axes>"
      ]
     },
     "metadata": {
      "needs_background": "light"
     },
     "output_type": "display_data"
    },
    {
     "data": {
      "image/png": "[encoded data removed]",
      "text/plain": [
       "<Figure size 432x288 with 1 Axes>"
      ]
     },
     "metadata": {
      "needs_background": "light"
     },
     "output_type": "display_data"
    },
    {
     "data": {
      "image/png": "[encoded data removed]",
      "text/plain": [
       "<Figure size 432x288 with 1 Axes>"
      ]
     },
     "metadata": {
      "needs_background": "light"
     },
     "output_type": "display_data"
    },
    {
     "data": {
      "image/png": "[encoded data removed]",
      "text/plain": [
       "<Figure size 432x288 with 1 Axes>"
      ]
     },
     "metadata": {
      "needs_background": "light"
     },
     "output_type": "display_data"
    },
    {
     "data": {
      "image/png": "[encoded data removed]",
      "text/plain": [
       "<Figure size 432x288 with 1 Axes>"
      ]
     },
     "metadata": {
      "needs_background": "light"
     },
     "output_type": "display_data"
    }
   ],
   "source": [
    "for i in range(0,len(gas_species),10):\n",
    "    data[gas_species[i:i+10]].plot(title='gas mole fraction', logy=False)\n",
    "    \n",
    "for i in range(0,len(adsorbates),10):\n",
    "    data[adsorbates[i:i+10]].plot(title='surface coverages', logy=False)"
   ]
  },
  {
   "cell_type": "code",
   "execution_count": 43,
   "metadata": {},
   "outputs": [
    {
     "data": {
      "text/plain": [
       "{'N': 1.0, 'O': 2.0}"
      ]
     },
     "execution_count": 43,
     "metadata": {},
     "output_type": "execute_result"
    }
   ],
   "source": [
    "gas.species('NO2(9)').composition"
   ]
  },
  {
   "cell_type": "code",
   "execution_count": 44,
   "metadata": {},
   "outputs": [
    {
     "data": {
      "text/plain": [
       "<matplotlib.axes._subplots.AxesSubplot at 0x11b104750>"
      ]
     },
     "execution_count": 44,
     "metadata": {},
     "output_type": "execute_result"
    },
    {
     "data": {
      "image/png": "[encoded data removed]",
      "text/plain": [
       "<Figure size 432x288 with 1 Axes>"
      ]
     },
     "metadata": {
      "needs_background": "light"
     },
     "output_type": "display_data"
    }
   ],
   "source": [
    "data['NO2(9)'].plot()"
   ]
  },
  {
   "cell_type": "code",
   "execution_count": null,
   "metadata": {},
   "outputs": [],
   "source": [
    "(data[specs].max()>0.01)"
   ]
  },
  {
   "cell_type": "code",
   "execution_count": null,
   "metadata": {},
   "outputs": [],
   "source": []
  },
  {
   "cell_type": "code",
   "execution_count": null,
   "metadata": {},
   "outputs": [],
   "source": [
    "data.loc[0]"
   ]
  },
  {
   "cell_type": "code",
   "execution_count": null,
   "metadata": {},
   "outputs": [],
   "source": []
  },
  {
   "cell_type": "code",
   "execution_count": null,
   "metadata": {},
   "outputs": [],
   "source": []
  }
 ],
 "metadata": {
  "kernelspec": {
   "display_name": "Python 3",
   "language": "python",
   "name": "python3"
  },
  "language_info": {
   "codemirror_mode": {
    "name": "ipython",
    "version": 3
   },
   "file_extension": ".py",
   "mimetype": "text/x-python",
   "name": "python",
   "nbconvert_exporter": "python",
   "pygments_lexer": "ipython3",
   "version": "3.7.5"
  }
 },
 "nbformat": 4,
 "nbformat_minor": 2
}
