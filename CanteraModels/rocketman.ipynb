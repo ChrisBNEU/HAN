{
 "cells": [
  {
   "cell_type": "markdown",
   "metadata": {},
   "source": [
    "# Plug flow reactor simulation of Thruster\n",
    "\n",
    "![caption](Graphics/thruster-details.png)\n"
   ]
  },
  {
   "cell_type": "code",
   "execution_count": 1,
   "metadata": {},
   "outputs": [],
   "source": [
    "import cantera as ct\n",
    "import numpy as np\n",
    "\n",
    "from matplotlib import pyplot as plt\n",
    "import csv\n",
    "import pandas as pd"
   ]
  },
  {
   "cell_type": "code",
   "execution_count": 2,
   "metadata": {},
   "outputs": [],
   "source": [
    "# input file containing the surface reaction mechanism\n",
    "cti_file = '../RMG-model/cantera/chem_annotated.cti'\n",
    "\n",
    "cti_file = '../RMG-model/cantera/chem0050.cti'\n",
    "\n",
    "gas=ct.Solution(cti_file)\n",
    "surf = ct.Interface(cti_file,'surface1', [gas])"
   ]
  },
  {
   "cell_type": "code",
   "execution_count": 3,
   "metadata": {},
   "outputs": [
    {
     "name": "stdout",
     "output_type": "stream",
     "text": [
      "\n",
      "  gas:\n",
      "\n",
      "       temperature             300  K\n",
      "          pressure          101325  Pa\n",
      "           density         0.81974  kg/m^3\n",
      "  mean mol. weight         20.1797  amu\n",
      "\n",
      "                          1 kg            1 kmol\n",
      "                       -----------      ------------\n",
      "          enthalpy          1905.6        3.845e+04     J\n",
      "   internal energy      -1.217e+05       -2.456e+06     J\n",
      "           entropy          7257.7        1.465e+05     J/K\n",
      "    Gibbs function     -2.1754e+06        -4.39e+07     J\n",
      " heat capacity c_p          1030.1        2.079e+04     J/K\n",
      " heat capacity c_v          618.03        1.247e+04     J/K\n",
      "\n",
      "                           X                 Y          Chem. Pot. / RT\n",
      "                     -------------     ------------     ------------\n",
      "                Ne              1                1         -17.5994\n",
      "     [  +38 minor]              0                0\n",
      "\n"
     ]
    }
   ],
   "source": [
    "gas()"
   ]
  },
  {
   "cell_type": "code",
   "execution_count": 4,
   "metadata": {},
   "outputs": [
    {
     "name": "stdout",
     "output_type": "stream",
     "text": [
      "Ne, H4N2O2(2), NH2OH(3), HNO3(4), CH3OH(5), H2O(6), N2(7), O2(8), CO2(9), H2(10), CO(11), C2H6(12), CH2O(13), CH3(14), C3H8(15), H(16), C2H5(17), HCO(18), CH3CHO(19), OH(20), C2H4(21), CH4(24), HO2(36), NH2(82), HONO(91), NO2(92), HNOH(94), N2H3(99), H3N2O(193), H2NO2(195), S(196), H2NO3(244), H2NO3(245), H2N2O(381), H2N2O(382), NNDO(385), NNO(394), S(429), S(489)\n"
     ]
    }
   ],
   "source": [
    "print(\", \".join(gas.species_names))"
   ]
  },
  {
   "cell_type": "code",
   "execution_count": 5,
   "metadata": {},
   "outputs": [
    {
     "name": "stdout",
     "output_type": "stream",
     "text": [
      "X(1), HX(22), OX(23), CH3X(25), HOX(26), H2OX(27), CO2X(28), OCX(29), CX(30), CH2X(31), CHX(32), H2NX(211), SX(214), H2NOX(216), H3NOX(217), HNO3X(220), CH3OX(222), CH4OX(223)\n"
     ]
    }
   ],
   "source": [
    "print(\", \".join(surf.species_names))"
   ]
  },
  {
   "cell_type": "markdown",
   "metadata": {},
   "source": [
    "\n",
    "\n",
    "This example solves a plug flow reactor problem, with coupled surface and gas chemistry.\n",
    "\n",
    "\n",
    "\n"
   ]
  },
  {
   "cell_type": "code",
   "execution_count": 6,
   "metadata": {},
   "outputs": [],
   "source": [
    "# unit conversion factors to SI\n",
    "cm = 0.01 # m\n",
    "minute = 60.0  # s"
   ]
  },
  {
   "cell_type": "code",
   "execution_count": 7,
   "metadata": {},
   "outputs": [
    {
     "name": "stdout",
     "output_type": "stream",
     "text": [
      "Catalyst density 2.00e+06 g/m3\n",
      "Catalyst area per volume 2.80e+08 m2/m3\n",
      "\n"
     ]
    }
   ],
   "source": [
    "#######################################################################\n",
    "# Input Parameters for combustor\n",
    "#######################################################################\n",
    "mass_flow_rate =  0.5e-3 # kg/s\n",
    "temperature_c = 400.0  # Initial Temperature in Celsius\n",
    "pressure = ct.one_atm # constant\n",
    "\n",
    "length = 1.1 * cm  # Catalyst bed length. 11mm\n",
    "cross_section_area = np.pi * (0.9*cm)**2  # Catalyst bed area.  18mm diameter circle.\n",
    "\n",
    "### Catalyst properties. Some are hard to estimate\n",
    "# if we can, update this lit value or verify the value richard calculated\n",
    "cat_specific_area = 140 # m2/g\n",
    "cat_density = 2 / cm**3 # 2 g/m3\n",
    "print(f\"Catalyst density {cat_density :.2e} g/m3\")\n",
    "cat_area_per_vol = cat_specific_area * cat_density  # m2/m3\n",
    "cat_area_per_vol # m2/m3\n",
    "print(f\"Catalyst area per volume {cat_area_per_vol :.2e} m2/m3\")\n",
    "print()\n",
    "\n",
    "porosity = 0.38  # Catalyst bed porosity (0.38)\n",
    "# Al2O3 particles are about 0.7mm diameter"
   ]
  },
  {
   "cell_type": "code",
   "execution_count": 8,
   "metadata": {},
   "outputs": [],
   "source": [
    "output_filename = 'surf_pfr_output.csv'\n",
    "\n",
    "# The PFR will be simulated by a chain of 'NReactors' stirred reactors.\n",
    "NReactors = 2001\n",
    "dt = 1.0\n",
    "\n",
    "#####################################################################\n",
    "\n",
    "temperature_kelvin = temperature_c + 273.15  # convert to Kelvin\n",
    "\n",
    "# import the gas model and set the initial conditions\n",
    "gas = ct.Solution(cti_file, 'gas')\n",
    "\n",
    "# should this be mole fractions or mole fractions?\n",
    "gas.TPY = temperature_kelvin, pressure, 'H4N2O2(2):0.14, NH2OH(3):0.3, HNO3(4):0.3, CH3OH(5):0.16, H2O(6):0.04'\n",
    "\n",
    "# import the surface model\n",
    "surf = ct.Interface(cti_file,'surface1', [gas])\n",
    "surf.TP = temperature_kelvin, pressure\n",
    "\n",
    "r_len = length/(NReactors-1) \n",
    "r_vol = cross_section_area * r_len * porosity # gas volume\n",
    "\n",
    "outfile = open(output_filename,'w')\n",
    "writer = csv.writer(outfile)\n",
    "writer.writerow(['Distance (mm)', 'T (C)', 'P (atm)'] +\n",
    "                gas.species_names + surf.species_names + ['alpha'])\n",
    "\n",
    "# catalyst area in one reactor\n",
    "cat_area = cat_area_per_vol * r_vol\n",
    "\n",
    "# Not sure we need the velocity\n",
    "velocity = mass_flow_rate / (gas.density * cross_section_area)"
   ]
  },
  {
   "cell_type": "code",
   "execution_count": 9,
   "metadata": {
    "scrolled": false
   },
   "outputs": [
    {
     "name": "stdout",
     "output_type": "stream",
     "text": [
      "\n",
      "Highest net rates of progress, gas\n",
      " 41 : H3N2O(193) + OH(20) <=> H4N2O2(2)                   -7e+06\n",
      " 40 : H3N2O(193) + OH(20) <=> H4N2O2(2)                   -7e+06\n",
      " 82 : HO2(36) + N2H3(99) <=> H4N2O2(2)                    -1e+02\n",
      "138 : H2NO3(244) + S(196) <=> H4N2O2(2) + HNO3(4)           -0.3\n",
      "122 : H2NO3(244) + S(196) <=> H4N2O2(2) + HNO3(4)           -0.3\n",
      "139 : NO2(92) + OH(20) (+M) <=> HNO3(4) (+M)              -0.002\n",
      " 84 : H(16) + S(196) <=> H4N2O2(2)                        -1e-05\n",
      "\n",
      "Highest net rates of progress, surface\n",
      "  0 : H2O(6) + X(1) <=> H2OX(27)                           8e+07\n",
      "  1 : NH2OH(3) + X(1) <=> H3NOX(217)                       3e+07\n",
      "  3 : CH3OH(5) + X(1) <=> CH4OX(223)                       2e+07\n",
      "  2 : HNO3(4) + X(1) <=> HNO3X(220)                        1e+07\n",
      "  4 : H4N2O2(2) + X(1) <=> SX(214)                         6e+06\n",
      " 10 : NH2OH(3) + 2 X(1) <=> H2NOX(216) + HX(22)            4e+03\n",
      " 15 : CH3OH(5) + 2 X(1) <=> CH3OX(222) + HX(22)            3e+03\n",
      "\n",
      "Highest forward rates of progress, gas\n",
      "160 : NH2OH(3) (+M) <=> NH2(82) + OH(20) (+M)              9e-09\n",
      " 21 : H2O(6) + M <=> H(16) + OH(20) + M                    4e-29\n",
      " 22 : 2 H2O(6) <=> H(16) + H2O(6) + OH(20)                 4e-29\n",
      "196 : H(16) + H2N2O(382) <=> H3N2O(193)                        0\n",
      " 72 : H(16) + NH2OH(3) <=> H2(10) + HNOH(94)                   0\n",
      " 70 : H2N2O(381) + HO2(36) <=> H3N2O(193) + O2(8)              0\n",
      " 69 : C2H5(17) + O2(8) <=> C2H4(21) + HO2(36)                  0\n",
      "\n",
      "Highest forward rates of progress, surface\n",
      "  0 : H2O(6) + X(1) <=> H2OX(27)                           8e+07\n",
      "  1 : NH2OH(3) + X(1) <=> H3NOX(217)                       3e+07\n",
      "  3 : CH3OH(5) + X(1) <=> CH4OX(223)                       2e+07\n",
      "  2 : HNO3(4) + X(1) <=> HNO3X(220)                        1e+07\n",
      "  4 : H4N2O2(2) + X(1) <=> SX(214)                         6e+06\n",
      " 10 : NH2OH(3) + 2 X(1) <=> H2NOX(216) + HX(22)            4e+03\n",
      " 15 : CH3OH(5) + 2 X(1) <=> CH3OX(222) + HX(22)            3e+03\n",
      "\n",
      "Highest reverse rates of progress, gas\n",
      " 41 : H3N2O(193) + OH(20) <=> H4N2O2(2)                    7e+06\n",
      " 40 : H3N2O(193) + OH(20) <=> H4N2O2(2)                    7e+06\n",
      " 82 : HO2(36) + N2H3(99) <=> H4N2O2(2)                     1e+02\n",
      "138 : H2NO3(244) + S(196) <=> H4N2O2(2) + HNO3(4)            0.3\n",
      "122 : H2NO3(244) + S(196) <=> H4N2O2(2) + HNO3(4)            0.3\n",
      "139 : NO2(92) + OH(20) (+M) <=> HNO3(4) (+M)               0.002\n",
      " 84 : H(16) + S(196) <=> H4N2O2(2)                         1e-05\n",
      "\n",
      "Highest reverse rates of progress, surface\n",
      " 30 : CX(30) + H2(10) <=> CH2X(31)                             0\n",
      " 14 : H2OX(27) + OX(23) <=> 2 HOX(26)                          0\n",
      "  1 : NH2OH(3) + X(1) <=> H3NOX(217)                           0\n",
      "  2 : HNO3(4) + X(1) <=> HNO3X(220)                            0\n",
      "  3 : CH3OH(5) + X(1) <=> CH4OX(223)                           0\n",
      "  4 : H4N2O2(2) + X(1) <=> SX(214)                             0\n",
      "  5 : H2(10) + 2 X(1) <=> 2 HX(22)                             0\n",
      "\n",
      "Surface rates have been scaled by surface/volume ratio 2.8e+08 m2/m3\n",
      "So are on a similar basis of volume of reactor (though porosity not yet accounted for)\n",
      " kmol / m3 / s\n"
     ]
    }
   ],
   "source": [
    "def report_rates(n=8):\n",
    "    print(\"\\nHighest net rates of progress, gas\")\n",
    "    for i in np.argsort(abs(gas.net_rates_of_progress))[-1:-n:-1]: # top n in descending order\n",
    "        print(f\"{i:3d} : {gas.reaction_equation(i):48s}  {gas.net_rates_of_progress[i]:8.1g}\")\n",
    "    print(\"\\nHighest net rates of progress, surface\")\n",
    "    for i in np.argsort(abs(surf.net_rates_of_progress))[-1:-n:-1]: # top n in descending order\n",
    "        print(f\"{i:3d} : {surf.reaction_equation(i):48s}  {cat_area_per_vol*surf.net_rates_of_progress[i]:8.1g}\")\n",
    "    print(\"\\nHighest forward rates of progress, gas\")\n",
    "    for i in np.argsort(abs(gas.forward_rates_of_progress))[-1:-n:-1]: # top n in descending order\n",
    "        print(f\"{i:3d} : {gas.reaction_equation(i):48s}  {gas.forward_rates_of_progress[i]:8.1g}\")\n",
    "    print(\"\\nHighest forward rates of progress, surface\")\n",
    "    for i in np.argsort(abs(surf.forward_rates_of_progress))[-1:-n:-1]: # top n in descending order\n",
    "        print(f\"{i:3d} : {surf.reaction_equation(i):48s}  {cat_area_per_vol*surf.forward_rates_of_progress[i]:8.1g}\")\n",
    "    print(\"\\nHighest reverse rates of progress, gas\")\n",
    "    for i in np.argsort(abs(gas.reverse_rates_of_progress))[-1:-n:-1]: # top n in descending order\n",
    "        print(f\"{i:3d} : {gas.reaction_equation(i):48s}  {gas.reverse_rates_of_progress[i]:8.1g}\")\n",
    "    print(\"\\nHighest reverse rates of progress, surface\")\n",
    "    for i in np.argsort(abs(surf.reverse_rates_of_progress))[-1:-n:-1]: # top n in descending order\n",
    "        print(f\"{i:3d} : {surf.reaction_equation(i):48s}  {cat_area_per_vol*surf.reverse_rates_of_progress[i]:8.1g}\")\n",
    "\n",
    "    print(f\"\\nSurface rates have been scaled by surface/volume ratio {cat_area_per_vol:.1e} m2/m3\")\n",
    "    print(\"So are on a similar basis of volume of reactor (though porosity not yet accounted for)\")\n",
    "    print(\" kmol / m3 / s\")\n",
    "report_rates()"
   ]
  },
  {
   "cell_type": "code",
   "execution_count": 10,
   "metadata": {
    "scrolled": false
   },
   "outputs": [
    {
     "name": "stdout",
     "output_type": "stream",
     "text": [
      "\n",
      "Highest forward rate constants, gas\n",
      "135 : H2NO3(244) + HCO(18) <=> CH2O(13) + HNO3(4)        3.6e+11\n",
      "127 : H2NO3(244) + HCO(18) <=> CH2O(13) + HNO3(4)        3.6e+11\n",
      "102 : H2NO3(245) + HCO(18) <=> CH2O(13) + HNO3(4)        1.8e+11\n",
      "154 : C2H5(17) + NO2(92) <=> C2H4(21) + HONO(91)         1.4e+11\n",
      " 27 : HCO(18) + OH(20) <=> CO(11) + H2O(6)               1.1e+11\n",
      " 15 : H(16) + HCO(18) <=> CO(11) + H2(10)                1.1e+11\n",
      " 10 : C2H5(17) + H(16) (+M) <=> C2H6(12) (+M)            9.1e+10\n",
      "\n",
      "Highest forward rate constants, surface\n",
      " 28 : CHX(32) + HX(22) <=> CH2X(31) + X(1)               3.1e+21\n",
      " 27 : CH2X(31) + HX(22) <=> CH3X(25) + X(1)              3.1e+21\n",
      " 29 : CHX(32) + X(1) <=> CX(30) + HX(22)                 3.1e+21\n",
      " 13 : HX(22) + OX(23) <=> HOX(26) + X(1)                 1.7e+19\n",
      " 24 : CX(30) + OX(23) <=> OCX(29) + X(1)                 3.7e+18\n",
      " 26 : CO2X(28) + HX(22) <=> HOX(26) + OCX(29)            2.2e+17\n",
      " 21 : CH4(24) + HOX(26) + X(1) <=> CH3X(25) + H2OX(27)   4.7e+16\n",
      "\n",
      "Highest reverse rate constants, gas\n",
      "194 : H3N2O(193) + S(489) <=> H2N2O(382) + S(429)        3.7e+15\n",
      "116 : C2H5(17) + S(489) <=> C2H4(21) + S(429)            8.0e+14\n",
      "117 : H3N2O(193) + S(489) <=> NNDO(385) + S(429)         1.3e+14\n",
      "163 : 2 NH2(82) <=> H(16) + N2H3(99)                     1.5e+13\n",
      "131 : H2NO3(244) + S(489) <=> HNO3(4) + S(429)           7.4e+12\n",
      " 94 : NNDO(385) + OH(20) <=> S(196)                      3.4e+11\n",
      " 22 : 2 H2O(6) <=> H(16) + H2O(6) + OH(20)               2.7e+11\n",
      "\n",
      "Highest reverse rate constants, surface\n",
      " 30 : CX(30) + H2(10) <=> CH2X(31)                       1.2e+07\n",
      " 14 : H2OX(27) + OX(23) <=> 2 HOX(26)                    3.0e+24\n",
      "  1 : NH2OH(3) + X(1) <=> H3NOX(217)                     1.4e+08\n",
      "  2 : HNO3(4) + X(1) <=> HNO3X(220)                      8.3e+07\n",
      "  3 : CH3OH(5) + X(1) <=> CH4OX(223)                     4.7e+09\n",
      "  4 : H4N2O2(2) + X(1) <=> SX(214)                       3.4e+08\n",
      "  5 : H2(10) + 2 X(1) <=> 2 HX(22)                       1.0e+17\n",
      "Units are a combination of kmol, m^3 and s, that depend on the rate expression for the reaction.\n"
     ]
    }
   ],
   "source": [
    "def report_rate_constants(n=8):\n",
    "    print(\"\\nHighest forward rate constants, gas\")\n",
    "    for i in np.argsort(abs(gas.forward_rate_constants))[-1:-n:-1]: # top n in descending order\n",
    "        print(f\"{i:3d} : {gas.reaction_equation(i):48s}  {gas.forward_rate_constants[i]:8.1e}\")\n",
    "    print(\"\\nHighest forward rate constants, surface\")\n",
    "    for i in np.argsort(abs(surf.forward_rate_constants))[-1:-n:-1]: # top n in descending order\n",
    "        print(f\"{i:3d} : {surf.reaction_equation(i):48s}  {surf.forward_rate_constants[i]:8.1e}\")\n",
    "    print(\"\\nHighest reverse rate constants, gas\")\n",
    "    for i in np.argsort(abs(gas.reverse_rate_constants))[-1:-n:-1]: # top n in descending order\n",
    "        print(f\"{i:3d} : {gas.reaction_equation(i):48s}  {gas.reverse_rate_constants[i]:8.1e}\")\n",
    "    print(\"\\nHighest reverse rate constants, surface\")\n",
    "    for i in np.argsort(abs(surf.reverse_rates_of_progress))[-1:-n:-1]: # top n in descending order\n",
    "        print(f\"{i:3d} : {surf.reaction_equation(i):48s}  {surf.reverse_rate_constants[i]:8.1e}\")\n",
    "\n",
    "    print(\"Units are a combination of kmol, m^3 and s, that depend on the rate expression for the reaction.\")\n",
    "report_rate_constants()"
   ]
  },
  {
   "cell_type": "code",
   "execution_count": 11,
   "metadata": {
    "scrolled": false
   },
   "outputs": [
    {
     "name": "stdout",
     "output_type": "stream",
     "text": [
      "    distance(mm)     H4N2O2(2)   NH2OH(3)   HNO3(4)  CH3OH(5)  alpha\n",
      "      0.000000    0.000017    0.322039    0.188208   0.197698  4.3e+16\n",
      "Couldn't reach 2e+15 s so going to 2e+14 s\n",
      "\n",
      "Highest net rates of progress, gas\n",
      " 80 : H3N2O(193) + HNOH(94) <=> NH2OH(3) + NNDO(385)           9\n",
      "167 : HNOH(94) + NNO(394) <=> H3N2O(193) + NH2OH(3)            6\n",
      "192 : H3N2O(193) + HNOH(94) <=> H2N2O(382) + NH2OH(3)          2\n",
      "117 : H3N2O(193) + S(489) <=> NNDO(385) + S(429)             0.7\n",
      "194 : H3N2O(193) + S(489) <=> H2N2O(382) + S(429)           -0.7\n",
      "152 : HNOH(94) + HONO(91) <=> NH2OH(3) + NO2(92)             0.2\n",
      "190 : 2 H3N2O(193) <=> H2N2O(382) + NNO(394)                 0.1\n",
      "\n",
      "Highest net rates of progress, surface\n",
      "  9 : OH(20) + X(1) <=> HOX(26)                            1e-09\n",
      "  0 : H2O(6) + X(1) <=> H2OX(27)                          -5e-10\n",
      " 14 : H2OX(27) + OX(23) <=> 2 HOX(26)                     -5e-10\n",
      " 12 : O2(8) + 2 X(1) <=> 2 OX(23)                         -2e-10\n",
      " 13 : HX(22) + OX(23) <=> HOX(26) + X(1)                   1e-12\n",
      "  6 : H(16) + X(1) <=> HX(22)                              1e-12\n",
      " 18 : NNO(394) + 2 X(1) <=> H2NOX(216) + H2NX(211)        -3e-14\n",
      "\n",
      "Highest forward rates of progress, gas\n",
      " 80 : H3N2O(193) + HNOH(94) <=> NH2OH(3) + NNDO(385)           9\n",
      "167 : HNOH(94) + NNO(394) <=> H3N2O(193) + NH2OH(3)            6\n",
      "192 : H3N2O(193) + HNOH(94) <=> H2N2O(382) + NH2OH(3)          2\n",
      "117 : H3N2O(193) + S(489) <=> NNDO(385) + S(429)             0.8\n",
      "152 : HNOH(94) + HONO(91) <=> NH2OH(3) + NO2(92)             0.2\n",
      "190 : 2 H3N2O(193) <=> H2N2O(382) + NNO(394)                 0.1\n",
      "176 : 2 H3N2O(193) <=> NNDO(385) + NNO(394)                 0.07\n",
      "\n",
      "Highest forward rates of progress, surface\n",
      "  0 : H2O(6) + X(1) <=> H2OX(27)                            0.02\n",
      "  1 : NH2OH(3) + X(1) <=> H3NOX(217)                       0.004\n",
      "  3 : CH3OH(5) + X(1) <=> CH4OX(223)                       0.002\n",
      "  2 : HNO3(4) + X(1) <=> HNO3X(220)                        0.002\n",
      " 11 : HNOH(94) + X(1) <=> H2NOX(216)                      0.0004\n",
      " 14 : H2OX(27) + OX(23) <=> 2 HOX(26)                      1e-07\n",
      " 17 : NH2(82) + X(1) <=> H2NX(211)                         5e-09\n",
      "\n",
      "Highest reverse rates of progress, gas\n",
      "194 : H3N2O(193) + S(489) <=> H2N2O(382) + S(429)            0.7\n",
      "117 : H3N2O(193) + S(489) <=> NNDO(385) + S(429)             0.1\n",
      "131 : H2NO3(244) + S(489) <=> HNO3(4) + S(429)              0.02\n",
      "150 : HONO(91) + OH(20) <=> H2NO3(244)                      0.02\n",
      "164 : HONO(91) + NH2(82) <=> S(489)                        0.004\n",
      "152 : HNOH(94) + HONO(91) <=> NH2OH(3) + NO2(92)           0.002\n",
      "139 : NO2(92) + OH(20) (+M) <=> HNO3(4) (+M)               0.001\n",
      "\n",
      "Highest reverse rates of progress, surface\n",
      "  0 : H2O(6) + X(1) <=> H2OX(27)                            0.02\n",
      "  1 : NH2OH(3) + X(1) <=> H3NOX(217)                       0.004\n",
      "  3 : CH3OH(5) + X(1) <=> CH4OX(223)                       0.002\n",
      "  2 : HNO3(4) + X(1) <=> HNO3X(220)                        0.002\n",
      " 11 : HNOH(94) + X(1) <=> H2NOX(216)                      0.0004\n",
      " 14 : H2OX(27) + OX(23) <=> 2 HOX(26)                      1e-07\n",
      " 17 : NH2(82) + X(1) <=> H2NX(211)                         5e-09\n",
      "\n",
      "Surface rates have been scaled by surface/volume ratio 2.8e+08 m2/m3\n",
      "So are on a similar basis of volume of reactor (though porosity not yet accounted for)\n",
      " kmol / m3 / s\n",
      "\n",
      "Highest forward rate constants, gas\n",
      "135 : H2NO3(244) + HCO(18) <=> CH2O(13) + HNO3(4)        3.6e+11\n",
      "127 : H2NO3(244) + HCO(18) <=> CH2O(13) + HNO3(4)        3.6e+11\n",
      "102 : H2NO3(245) + HCO(18) <=> CH2O(13) + HNO3(4)        1.8e+11\n",
      "154 : C2H5(17) + NO2(92) <=> C2H4(21) + HONO(91)         1.4e+11\n",
      " 27 : HCO(18) + OH(20) <=> CO(11) + H2O(6)               1.1e+11\n",
      " 15 : H(16) + HCO(18) <=> CO(11) + H2(10)                1.1e+11\n",
      " 10 : C2H5(17) + H(16) (+M) <=> C2H6(12) (+M)            9.9e+10\n",
      "\n",
      "Highest forward rate constants, surface\n",
      " 28 : CHX(32) + HX(22) <=> CH2X(31) + X(1)               3.1e+21\n",
      " 27 : CH2X(31) + HX(22) <=> CH3X(25) + X(1)              3.1e+21\n",
      " 29 : CHX(32) + X(1) <=> CX(30) + HX(22)                 3.1e+21\n",
      " 13 : HX(22) + OX(23) <=> HOX(26) + X(1)                 1.7e+19\n",
      " 24 : CX(30) + OX(23) <=> OCX(29) + X(1)                 3.7e+18\n",
      " 26 : CO2X(28) + HX(22) <=> HOX(26) + OCX(29)            2.2e+17\n",
      " 21 : CH4(24) + HOX(26) + X(1) <=> CH3X(25) + H2OX(27)   4.7e+16\n",
      "\n",
      "Highest reverse rate constants, gas\n",
      "194 : H3N2O(193) + S(489) <=> H2N2O(382) + S(429)        3.7e+15\n",
      "116 : C2H5(17) + S(489) <=> C2H4(21) + S(429)            8.0e+14\n",
      "117 : H3N2O(193) + S(489) <=> NNDO(385) + S(429)         1.3e+14\n",
      "163 : 2 NH2(82) <=> H(16) + N2H3(99)                     1.5e+13\n",
      "131 : H2NO3(244) + S(489) <=> HNO3(4) + S(429)           7.4e+12\n",
      " 94 : NNDO(385) + OH(20) <=> S(196)                      3.4e+11\n",
      " 22 : 2 H2O(6) <=> H(16) + H2O(6) + OH(20)               2.7e+11\n",
      "\n",
      "Highest reverse rate constants, surface\n",
      "  0 : H2O(6) + X(1) <=> H2OX(27)                         1.5e+11\n",
      "  1 : NH2OH(3) + X(1) <=> H3NOX(217)                     1.4e+08\n",
      "  3 : CH3OH(5) + X(1) <=> CH4OX(223)                     4.7e+09\n",
      "  2 : HNO3(4) + X(1) <=> HNO3X(220)                      8.3e+07\n",
      " 11 : HNOH(94) + X(1) <=> H2NOX(216)                     8.3e+01\n",
      " 14 : H2OX(27) + OX(23) <=> 2 HOX(26)                    3.0e+24\n",
      " 17 : NH2(82) + X(1) <=> H2NX(211)                       7.9e-02\n",
      "Units are a combination of kmol, m^3 and s, that depend on the rate expression for the reaction.\n",
      "      0.055000    0.000000    0.332091    0.188190   0.197706  2.3e+18\n",
      "      0.110000    0.000000    0.335779    0.188184   0.197704  1.8e+18\n",
      "      0.165000    0.000000    0.338665    0.188178   0.197703  1.4e+18\n",
      "      0.220000    0.000000    0.340984    0.188173   0.197703  1.2e+18\n",
      "      0.275000    0.000000    0.342889    0.188168   0.197702  9.7e+17\n",
      "      0.330000    0.000000    0.344480    0.188164   0.197701  8.2e+17\n",
      "      0.385000    0.000000    0.345829    0.188160   0.197700  7.0e+17\n",
      "      0.440000    0.000000    0.346987    0.188156   0.197700  6.1e+17\n",
      "      0.495000    0.000000    0.347990    0.188152   0.197699  1.4e+18\n",
      "      0.550000    0.000000    0.348868    0.188149   0.197698  1.2e+18\n",
      "      0.605000    0.000000    0.349642    0.188145   0.197698  1.1e+18\n",
      "      0.660000    0.000000    0.350329    0.188142   0.197697  9.7e+17\n",
      "      0.715000    0.000000    0.350943    0.188139   0.197697  8.7e+17\n",
      "      0.770000    0.000000    0.351495    0.188136   0.197696  7.9e+17\n",
      "      0.825000    0.000000    0.351993    0.188133   0.197695  7.1e+17\n",
      "      0.880000    0.000000    0.352444    0.188130   0.197695  6.5e+17\n",
      "      0.935000    0.000000    0.352855    0.188127   0.197694  6.0e+17\n",
      "      0.990000    0.000000    0.353231    0.188124   0.197694  5.5e+17\n",
      "      1.045000    0.000000    0.353575    0.188122   0.197694  5.1e+17\n",
      "      1.100000    0.000000    0.353892    0.188119   0.197693  4.7e+17\n",
      "      1.155000    0.000000    0.354184    0.188117   0.197693  4.3e+17\n",
      "      1.210000    0.000000    0.354455    0.188114   0.197692  4.0e+17\n",
      "      1.265000    0.000000    0.354705    0.188112   0.197692  3.8e+17\n",
      "      1.320000    0.000000    0.354938    0.188109   0.197691  3.5e+17\n",
      "      1.375000    0.000000    0.355155    0.188107   0.197691  3.3e+17\n",
      "      1.430000    0.000000    0.355357    0.188105   0.197690  3.1e+17\n",
      "      1.485000    0.000000    0.355546    0.188102   0.197690  2.9e+17\n",
      "      1.540000    0.000000    0.355723    0.188100   0.197690  2.7e+17\n",
      "      1.595000    0.000000    0.355889    0.188098   0.197689  2.6e+17\n",
      "      1.650000    0.000000    0.356045    0.188096   0.197689  2.4e+17\n",
      "      1.705000    0.000000    0.356192    0.188093   0.197688  2.3e+17\n",
      "      1.760000    0.000000    0.356330    0.188091   0.197688  2.2e+17\n",
      "      1.815000    0.000000    0.356460    0.188089   0.197688  2.1e+17\n",
      "      1.870000    0.000000    0.356583    0.188087   0.197687  2.0e+17\n",
      "      1.925000    0.000000    0.356699    0.188085   0.197687  1.9e+17\n",
      "      1.980000    0.000000    0.356809    0.188083   0.197686  1.8e+17\n",
      "      2.035000    0.000000    0.356913    0.188081   0.197686  1.7e+17\n",
      "      2.090000    0.000000    0.357012    0.188079   0.197686  1.6e+17\n",
      "      2.145000    0.000000    0.357105    0.188077   0.197685  1.6e+17\n",
      "      2.200000    0.000000    0.357194    0.188075   0.197685  1.5e+17\n"
     ]
    },
    {
     "name": "stdout",
     "output_type": "stream",
     "text": [
      "      2.255000    0.000000    0.357279    0.188073   0.197685  1.4e+17\n",
      "      2.310000    0.000000    0.357359    0.188071   0.197684  1.4e+17\n",
      "      2.365000    0.000000    0.357435    0.188069   0.197684  1.3e+17\n",
      "      2.420000    0.000000    0.357508    0.188067   0.197683  1.3e+17\n",
      "      2.475000    0.000000    0.357578    0.188065   0.197683  1.2e+17\n",
      "      2.530000    0.000000    0.357644    0.188063   0.197683  1.2e+17\n",
      "      2.585000    0.000000    0.357707    0.188062   0.197682  1.1e+17\n",
      "      2.640000    0.000000    0.357767    0.188060   0.197682  1.1e+17\n",
      "      2.695000    0.000000    0.357824    0.188058   0.197682  1.0e+17\n",
      "      2.750000    0.000000    0.357879    0.188056   0.197681  1.0e+17\n",
      "      2.805000    0.000000    0.357932    0.188054   0.197681  9.7e+16\n",
      "      2.860000    0.000000    0.357982    0.188052   0.197681  9.3e+16\n",
      "      2.915000    0.000000    0.358030    0.188051   0.197680  9.0e+16\n",
      "      2.970000    0.000000    0.358076    0.188049   0.197680  8.7e+16\n",
      "      3.025000    0.000000    0.358120    0.188047   0.197680  8.4e+16\n",
      "      3.080000    0.000000    0.358163    0.188045   0.197679  8.1e+16\n",
      "      3.135000    0.000000    0.358203    0.188044   0.197679  7.9e+16\n",
      "      3.190000    0.000000    0.358242    0.188042   0.197679  7.6e+16\n",
      "      3.245000    0.000000    0.358279    0.188040   0.197678  7.4e+16\n",
      "Couldn't reach 3e+15 s so going to 3e+14 s\n",
      "\n",
      "Highest net rates of progress, gas\n",
      "117 : H3N2O(193) + S(489) <=> NNDO(385) + S(429)            0.06\n",
      "194 : H3N2O(193) + S(489) <=> H2N2O(382) + S(429)          -0.06\n",
      "167 : HNOH(94) + NNO(394) <=> H3N2O(193) + NH2OH(3)         0.05\n",
      " 80 : H3N2O(193) + HNOH(94) <=> NH2OH(3) + NNDO(385)        0.03\n",
      "195 : H3N2O(193) + NO2(92) <=> H2N2O(382) + HONO(91)       0.007\n",
      "152 : HNOH(94) + HONO(91) <=> NH2OH(3) + NO2(92)           0.006\n",
      "192 : H3N2O(193) + HNOH(94) <=> H2N2O(382) + NH2OH(3)      0.005\n",
      "\n",
      "Highest net rates of progress, surface\n",
      "  9 : OH(20) + X(1) <=> HOX(26)                            2e-10\n",
      "  0 : H2O(6) + X(1) <=> H2OX(27)                          -1e-10\n",
      " 14 : H2OX(27) + OX(23) <=> 2 HOX(26)                     -1e-10\n",
      " 12 : O2(8) + 2 X(1) <=> 2 OX(23)                         -6e-11\n",
      " 13 : HX(22) + OX(23) <=> HOX(26) + X(1)                   1e-12\n",
      "  6 : H(16) + X(1) <=> HX(22)                              1e-12\n",
      " 18 : NNO(394) + 2 X(1) <=> H2NOX(216) + H2NX(211)        -1e-13\n",
      "\n",
      "Highest forward rates of progress, gas\n",
      "117 : H3N2O(193) + S(489) <=> NNDO(385) + S(429)            0.08\n",
      "167 : HNOH(94) + NNO(394) <=> H3N2O(193) + NH2OH(3)         0.05\n",
      " 80 : H3N2O(193) + HNOH(94) <=> NH2OH(3) + NNDO(385)        0.03\n",
      "152 : HNOH(94) + HONO(91) <=> NH2OH(3) + NO2(92)            0.01\n",
      "195 : H3N2O(193) + NO2(92) <=> H2N2O(382) + HONO(91)       0.007\n",
      "192 : H3N2O(193) + HNOH(94) <=> H2N2O(382) + NH2OH(3)      0.005\n",
      " 73 : NH2OH(3) + OH(20) <=> H2O(6) + HNOH(94)              0.004\n",
      "\n",
      "Highest forward rates of progress, surface\n",
      "  0 : H2O(6) + X(1) <=> H2OX(27)                            0.04\n",
      "  1 : NH2OH(3) + X(1) <=> H3NOX(217)                       0.009\n",
      "  3 : CH3OH(5) + X(1) <=> CH4OX(223)                       0.005\n",
      "  2 : HNO3(4) + X(1) <=> HNO3X(220)                        0.003\n",
      " 11 : HNOH(94) + X(1) <=> H2NOX(216)                       3e-05\n",
      " 17 : NH2(82) + X(1) <=> H2NX(211)                         2e-07\n",
      " 14 : H2OX(27) + OX(23) <=> 2 HOX(26)                      1e-07\n",
      "\n",
      "Highest reverse rates of progress, gas\n",
      "194 : H3N2O(193) + S(489) <=> H2N2O(382) + S(429)           0.06\n",
      "117 : H3N2O(193) + S(489) <=> NNDO(385) + S(429)            0.01\n",
      "152 : HNOH(94) + HONO(91) <=> NH2OH(3) + NO2(92)           0.006\n",
      "164 : HONO(91) + NH2(82) <=> S(489)                        0.004\n",
      "150 : HONO(91) + OH(20) <=> H2NO3(244)                     0.002\n",
      "131 : H2NO3(244) + S(489) <=> HNO3(4) + S(429)             0.002\n",
      "139 : NO2(92) + OH(20) (+M) <=> HNO3(4) (+M)               0.001\n",
      "\n",
      "Highest reverse rates of progress, surface\n",
      "  0 : H2O(6) + X(1) <=> H2OX(27)                            0.04\n",
      "  1 : NH2OH(3) + X(1) <=> H3NOX(217)                       0.009\n",
      "  3 : CH3OH(5) + X(1) <=> CH4OX(223)                       0.005\n",
      "  2 : HNO3(4) + X(1) <=> HNO3X(220)                        0.003\n",
      " 11 : HNOH(94) + X(1) <=> H2NOX(216)                       3e-05\n",
      " 17 : NH2(82) + X(1) <=> H2NX(211)                         2e-07\n",
      " 14 : H2OX(27) + OX(23) <=> 2 HOX(26)                      1e-07\n",
      "\n",
      "Surface rates have been scaled by surface/volume ratio 2.8e+08 m2/m3\n",
      "So are on a similar basis of volume of reactor (though porosity not yet accounted for)\n",
      " kmol / m3 / s\n",
      "\n",
      "Highest forward rate constants, gas\n",
      "135 : H2NO3(244) + HCO(18) <=> CH2O(13) + HNO3(4)        3.6e+11\n",
      "127 : H2NO3(244) + HCO(18) <=> CH2O(13) + HNO3(4)        3.6e+11\n",
      "102 : H2NO3(245) + HCO(18) <=> CH2O(13) + HNO3(4)        1.8e+11\n",
      "154 : C2H5(17) + NO2(92) <=> C2H4(21) + HONO(91)         1.4e+11\n",
      " 27 : HCO(18) + OH(20) <=> CO(11) + H2O(6)               1.1e+11\n",
      " 15 : H(16) + HCO(18) <=> CO(11) + H2(10)                1.1e+11\n",
      " 10 : C2H5(17) + H(16) (+M) <=> C2H6(12) (+M)            9.9e+10\n",
      "\n",
      "Highest forward rate constants, surface\n",
      " 28 : CHX(32) + HX(22) <=> CH2X(31) + X(1)               3.1e+21\n",
      " 27 : CH2X(31) + HX(22) <=> CH3X(25) + X(1)              3.1e+21\n",
      " 29 : CHX(32) + X(1) <=> CX(30) + HX(22)                 3.1e+21\n",
      " 13 : HX(22) + OX(23) <=> HOX(26) + X(1)                 1.7e+19\n",
      " 24 : CX(30) + OX(23) <=> OCX(29) + X(1)                 3.7e+18\n",
      " 26 : CO2X(28) + HX(22) <=> HOX(26) + OCX(29)            2.2e+17\n",
      " 21 : CH4(24) + HOX(26) + X(1) <=> CH3X(25) + H2OX(27)   4.7e+16\n",
      "\n",
      "Highest reverse rate constants, gas\n",
      "194 : H3N2O(193) + S(489) <=> H2N2O(382) + S(429)        3.7e+15\n",
      "116 : C2H5(17) + S(489) <=> C2H4(21) + S(429)            8.0e+14\n",
      "117 : H3N2O(193) + S(489) <=> NNDO(385) + S(429)         1.3e+14\n",
      "163 : 2 NH2(82) <=> H(16) + N2H3(99)                     1.5e+13\n",
      "131 : H2NO3(244) + S(489) <=> HNO3(4) + S(429)           7.4e+12\n",
      " 94 : NNDO(385) + OH(20) <=> S(196)                      3.4e+11\n",
      " 22 : 2 H2O(6) <=> H(16) + H2O(6) + OH(20)               2.7e+11\n",
      "\n",
      "Highest reverse rate constants, surface\n",
      "  0 : H2O(6) + X(1) <=> H2OX(27)                         1.5e+11\n",
      "  1 : NH2OH(3) + X(1) <=> H3NOX(217)                     1.4e+08\n",
      "  3 : CH3OH(5) + X(1) <=> CH4OX(223)                     4.7e+09\n",
      "  2 : HNO3(4) + X(1) <=> HNO3X(220)                      8.3e+07\n",
      " 11 : HNOH(94) + X(1) <=> H2NOX(216)                     8.3e+01\n",
      " 17 : NH2(82) + X(1) <=> H2NX(211)                       7.9e-02\n",
      " 14 : H2OX(27) + OX(23) <=> 2 HOX(26)                    3.0e+24\n",
      "Units are a combination of kmol, m^3 and s, that depend on the rate expression for the reaction.\n",
      "      3.300000    0.000000    0.358315    0.188038   0.197678  1.2e+17\n",
      "      3.355000    0.000000    0.358349    0.188037   0.197678  1.2e+17\n",
      "      3.410000    0.000000    0.358382    0.188035   0.197677  1.2e+17\n",
      "      3.465000    0.000000    0.358414    0.188033   0.197677  1.1e+17\n",
      "      3.520000    0.000000    0.358444    0.188032   0.197677  1.1e+17\n",
      "      3.575000    0.000000    0.358473    0.188030   0.197676  1.1e+17\n",
      "      3.630000    0.000000    0.358501    0.188028   0.197676  1.0e+17\n",
      "      3.685000    0.000000    0.358528    0.188027   0.197676  1.0e+17\n",
      "      3.740000    0.000000    0.358554    0.188025   0.197675  9.8e+16\n",
      "      3.795000    0.000000    0.358579    0.188023   0.197675  9.5e+16\n",
      "      3.850000    0.000000    0.358603    0.188022   0.197675  9.3e+16\n",
      "      3.905000    0.000000    0.358626    0.188020   0.197674  9.0e+16\n",
      "      3.960000    0.000000    0.358648    0.188018   0.197674  8.8e+16\n",
      "      4.015000    0.000000    0.358670    0.188017   0.197674  8.6e+16\n",
      "      4.070000    0.000000    0.358690    0.188015   0.197673  8.3e+16\n",
      "      4.125000    0.000000    0.358710    0.188013   0.197673  8.1e+16\n",
      "      4.180000    0.000000    0.358729    0.188012   0.197673  7.9e+16\n",
      "      4.235000    0.000000    0.358747    0.188010   0.197672  7.7e+16\n",
      "      4.290000    0.000000    0.358765    0.188009   0.197672  7.5e+16\n",
      "      4.345000    0.000000    0.358782    0.188007   0.197672  7.4e+16\n",
      "      4.400000    0.000000    0.358798    0.188006   0.197671  7.2e+16\n",
      "      4.455000    0.000000    0.358814    0.188004   0.197671  7.0e+16\n",
      "      4.510000    0.000000    0.358829    0.188002   0.197671  6.9e+16\n"
     ]
    },
    {
     "name": "stdout",
     "output_type": "stream",
     "text": [
      "      4.565000    0.000000    0.358844    0.188001   0.197670  6.7e+16\n",
      "      4.620000    0.000000    0.358858    0.187999   0.197670  6.5e+16\n",
      "      4.675000    0.000000    0.358871    0.187998   0.197670  6.4e+16\n",
      "      4.730000    0.000000    0.358884    0.187996   0.197669  6.3e+16\n",
      "      4.785000    0.000000    0.358897    0.187995   0.197669  6.1e+16\n",
      "      4.840000    0.000000    0.358909    0.187993   0.197669  6.0e+16\n",
      "      4.895000    0.000000    0.358921    0.187992   0.197668  5.9e+16\n",
      "      4.950000    0.000000    0.358932    0.187990   0.197668  5.7e+16\n",
      "      5.005000    0.000000    0.358943    0.187989   0.197668  5.6e+16\n",
      "      5.060000    0.000000    0.358953    0.187987   0.197667  5.5e+16\n",
      "      5.115000    0.000000    0.358963    0.187986   0.197667  5.4e+16\n",
      "      5.170000    0.000000    0.358973    0.187984   0.197667  5.3e+16\n",
      "      5.225000    0.000000    0.358983    0.187983   0.197666  5.2e+16\n",
      "      5.280000    0.000000    0.358992    0.187981   0.197666  5.1e+16\n",
      "      5.335000    0.000000    0.359000    0.187980   0.197666  5.0e+16\n",
      "      5.390000    0.000000    0.359009    0.187978   0.197665  4.9e+16\n",
      "      5.445000    0.000000    0.359017    0.187977   0.197665  4.8e+16\n",
      "      5.500000    0.000000    0.359024    0.187975   0.197665  4.7e+16\n",
      "      5.555000    0.000000    0.359032    0.187974   0.197664  4.6e+16\n",
      "      5.610000    0.000000    0.359039    0.187972   0.197664  4.5e+16\n",
      "      5.665000    0.000000    0.359046    0.187971   0.197664  4.4e+16\n",
      "      5.720000    0.000000    0.359053    0.187969   0.197663  4.3e+16\n",
      "      5.775000    0.000000    0.359059    0.187968   0.197663  4.2e+16\n",
      "      5.830000    0.000000    0.359065    0.187966   0.197663  4.2e+16\n",
      "      5.885000    0.000000    0.359071    0.187965   0.197662  4.1e+16\n",
      "      5.940000    0.000000    0.359077    0.187964   0.197662  4.0e+16\n",
      "      5.995000    0.000000    0.359083    0.187962   0.197662  3.9e+16\n",
      "      6.050000    0.000000    0.359088    0.187961   0.197662  4.5e+16\n",
      "      6.105000    0.000000    0.359093    0.187959   0.197661  4.4e+16\n",
      "      6.160000    0.000000    0.359098    0.187958   0.197661  4.4e+16\n",
      "      6.215000    0.000000    0.359103    0.187957   0.197661  4.3e+16\n",
      "      6.270000    0.000000    0.359107    0.187955   0.197660  4.2e+16\n",
      "      6.325000    0.000000    0.359112    0.187954   0.197660  4.1e+16\n",
      "      6.380000    0.000000    0.359116    0.187952   0.197660  4.1e+16\n",
      "      6.435000    0.000000    0.359120    0.187951   0.197659  4.0e+16\n",
      "      6.490000    0.000000    0.359124    0.187950   0.197659  3.9e+16\n",
      "      6.545000    0.000000    0.359127    0.187948   0.197659  3.9e+16\n",
      "      6.600000    0.000000    0.359131    0.187947   0.197658  3.8e+16\n",
      "      6.655000    0.000000    0.359134    0.187945   0.197658  3.7e+16\n",
      "      6.710000    0.000000    0.359138    0.187944   0.197658  3.7e+16\n",
      "      6.765000    0.000000    0.359141    0.187943   0.197657  3.6e+16\n",
      "      6.820000    0.000000    0.359144    0.187941   0.197657  3.6e+16\n",
      "      6.875000    0.000000    0.359147    0.187940   0.197657  3.5e+16\n",
      "      6.930000    0.000000    0.359149    0.187939   0.197656  3.5e+16\n",
      "      6.985000    0.000000    0.359152    0.187937   0.197656  3.4e+16\n",
      "      7.040000    0.000000    0.359155    0.187936   0.197656  3.3e+16\n",
      "      7.095000    0.000000    0.359157    0.187935   0.197655  3.3e+16\n",
      "      7.150000    0.000000    0.359159    0.187933   0.197655  3.2e+16\n",
      "      7.205000    0.000000    0.359161    0.187932   0.197655  3.2e+16\n",
      "      7.260000    0.000000    0.359164    0.187931   0.197654  3.1e+16\n",
      "      7.315000    0.000000    0.359166    0.187929   0.197654  3.1e+16\n",
      "      7.370000    0.000000    0.359167    0.187928   0.197654  3.1e+16\n",
      "      7.425000    0.000000    0.359169    0.187927   0.197653  3.0e+16\n",
      "      7.480000    0.000000    0.359171    0.187925   0.197653  3.0e+16\n",
      "      7.535000    0.000000    0.359173    0.187924   0.197653  2.9e+16\n",
      "      7.590000    0.000000    0.359174    0.187923   0.197652  2.9e+16\n",
      "      7.645000    0.000000    0.359176    0.187921   0.197652  2.8e+16\n",
      "      7.700000    0.000000    0.359177    0.187920   0.197652  2.8e+16\n",
      "      7.755000    0.000000    0.359178    0.187919   0.197651  2.7e+16\n",
      "      7.810000    0.000000    0.359180    0.187918   0.197651  2.7e+16\n",
      "      7.865000    0.000000    0.359181    0.187916   0.197651  2.7e+16\n",
      "      7.920000    0.000000    0.359182    0.187915   0.197650  2.6e+16\n",
      "      7.975000    0.000000    0.359183    0.187914   0.197650  2.6e+16\n",
      "      8.030000    0.000000    0.359184    0.187912   0.197650  2.6e+16\n",
      "      8.085000    0.000000    0.359185    0.187911   0.197649  2.5e+16\n",
      "      8.140000    0.000000    0.359186    0.187910   0.197649  2.5e+16\n",
      "      8.195000    0.000000    0.359187    0.187909   0.197649  2.4e+16\n",
      "      8.250000    0.000000    0.359187    0.187907   0.197648  2.7e+16\n",
      "      8.305000    0.000000    0.359188    0.187906   0.197648  2.6e+16\n",
      "      8.360000    0.000000    0.359189    0.187905   0.197648  2.6e+16\n",
      "      8.415000    0.000000    0.359189    0.187904   0.197647  2.6e+16\n",
      "      8.470000    0.000000    0.359190    0.187902   0.197647  2.5e+16\n",
      "      8.525000    0.000000    0.359190    0.187901   0.197647  2.5e+16\n",
      "      8.580000    0.000000    0.359191    0.187900   0.197646  2.5e+16\n",
      "      8.635000    0.000000    0.359191    0.187899   0.197646  2.4e+16\n",
      "      8.690000    0.000000    0.359191    0.187897   0.197646  2.4e+16\n",
      "      8.745000    0.000000    0.359192    0.187896   0.197645  2.4e+16\n",
      "      8.800000    0.000000    0.359192    0.187895   0.197645  2.3e+16\n",
      "      8.855000    0.000000    0.359192    0.187894   0.197645  2.3e+16\n",
      "      8.910000    0.000000    0.359192    0.187893   0.197644  2.3e+16\n",
      "      8.965000    0.000000    0.359192    0.187891   0.197644  2.3e+16\n",
      "      9.020000    0.000000    0.359192    0.187890   0.197644  2.2e+16\n",
      "      9.075000    0.000000    0.359192    0.187889   0.197644  2.2e+16\n",
      "      9.130000    0.000000    0.359192    0.187888   0.197643  2.2e+16\n",
      "      9.185000    0.000000    0.359192    0.187886   0.197643  2.1e+16\n",
      "      9.240000    0.000000    0.359192    0.187885   0.197643  2.1e+16\n",
      "      9.295000    0.000000    0.359192    0.187884   0.197642  2.1e+16\n",
      "      9.350000    0.000000    0.359192    0.187883   0.197642  2.1e+16\n",
      "      9.405000    0.000000    0.359192    0.187882   0.197642  2.0e+16\n",
      "      9.460000    0.000000    0.359192    0.187880   0.197641  2.0e+16\n",
      "      9.515000    0.000000    0.359192    0.187879   0.197641  2.0e+16\n",
      "      9.570000    0.000000    0.359191    0.187878   0.197641  2.0e+16\n",
      "      9.625000    0.000000    0.359191    0.187877   0.197640  1.9e+16\n",
      "      9.680000    0.000000    0.359191    0.187876   0.197640  1.9e+16\n",
      "      9.735000    0.000000    0.359191    0.187875   0.197640  1.9e+16\n",
      "Couldn't reach 2e+15 s so going to 2e+14 s\n",
      "\n",
      "Highest net rates of progress, gas\n",
      "117 : H3N2O(193) + S(489) <=> NNDO(385) + S(429)            0.02\n",
      "194 : H3N2O(193) + S(489) <=> H2N2O(382) + S(429)          -0.02\n",
      "164 : HONO(91) + NH2(82) <=> S(489)                       -0.004\n",
      "167 : HNOH(94) + NNO(394) <=> H3N2O(193) + NH2OH(3)        0.003\n",
      " 73 : NH2OH(3) + OH(20) <=> H2O(6) + HNOH(94)              0.002\n",
      "183 : HNOH(94) + NH2(82) <=> NNO(394)                      0.002\n",
      "139 : NO2(92) + OH(20) (+M) <=> HNO3(4) (+M)              -0.001\n",
      "\n",
      "Highest net rates of progress, surface\n",
      "  9 : OH(20) + X(1) <=> HOX(26)                            2e-10\n",
      "  0 : H2O(6) + X(1) <=> H2OX(27)                          -8e-11\n",
      " 14 : H2OX(27) + OX(23) <=> 2 HOX(26)                     -8e-11\n",
      " 12 : O2(8) + 2 X(1) <=> 2 OX(23)                         -4e-11\n",
      " 13 : HX(22) + OX(23) <=> HOX(26) + X(1)                   1e-12\n",
      "  6 : H(16) + X(1) <=> HX(22)                              1e-12\n",
      " 18 : NNO(394) + 2 X(1) <=> H2NOX(216) + H2NX(211)        -1e-13\n",
      "\n",
      "Highest forward rates of progress, gas\n",
      "117 : H3N2O(193) + S(489) <=> NNDO(385) + S(429)            0.02\n",
      "167 : HNOH(94) + NNO(394) <=> H3N2O(193) + NH2OH(3)        0.003\n",
      " 73 : NH2OH(3) + OH(20) <=> H2O(6) + HNOH(94)              0.002\n",
      "183 : HNOH(94) + NH2(82) <=> NNO(394)                      0.002\n",
      "152 : HNOH(94) + HONO(91) <=> NH2OH(3) + NO2(92)           0.001\n",
      "195 : H3N2O(193) + NO2(92) <=> H2N2O(382) + HONO(91)      0.0007\n",
      " 80 : H3N2O(193) + HNOH(94) <=> NH2OH(3) + NNDO(385)      0.0007\n",
      "\n",
      "Highest forward rates of progress, surface\n",
      "  0 : H2O(6) + X(1) <=> H2OX(27)                            0.05\n",
      "  1 : NH2OH(3) + X(1) <=> H3NOX(217)                        0.01\n",
      "  3 : CH3OH(5) + X(1) <=> CH4OX(223)                       0.006\n",
      "  2 : HNO3(4) + X(1) <=> HNO3X(220)                        0.004\n",
      " 17 : NH2(82) + X(1) <=> H2NX(211)                         3e-06\n",
      " 11 : HNOH(94) + X(1) <=> H2NOX(216)                       2e-06\n",
      " 14 : H2OX(27) + OX(23) <=> 2 HOX(26)                      1e-07\n",
      "\n",
      "Highest reverse rates of progress, gas\n",
      "194 : H3N2O(193) + S(489) <=> H2N2O(382) + S(429)           0.02\n",
      "117 : H3N2O(193) + S(489) <=> NNDO(385) + S(429)           0.005\n",
      "164 : HONO(91) + NH2(82) <=> S(489)                        0.004\n",
      "152 : HNOH(94) + HONO(91) <=> NH2OH(3) + NO2(92)           0.002\n",
      "139 : NO2(92) + OH(20) (+M) <=> HNO3(4) (+M)               0.001\n",
      "150 : HONO(91) + OH(20) <=> H2NO3(244)                    0.0008\n",
      "131 : H2NO3(244) + S(489) <=> HNO3(4) + S(429)            0.0008\n",
      "\n",
      "Highest reverse rates of progress, surface\n",
      "  0 : H2O(6) + X(1) <=> H2OX(27)                            0.05\n",
      "  1 : NH2OH(3) + X(1) <=> H3NOX(217)                        0.01\n",
      "  3 : CH3OH(5) + X(1) <=> CH4OX(223)                       0.006\n",
      "  2 : HNO3(4) + X(1) <=> HNO3X(220)                        0.004\n",
      " 17 : NH2(82) + X(1) <=> H2NX(211)                         3e-06\n",
      " 11 : HNOH(94) + X(1) <=> H2NOX(216)                       2e-06\n",
      " 14 : H2OX(27) + OX(23) <=> 2 HOX(26)                      1e-07\n",
      "\n",
      "Surface rates have been scaled by surface/volume ratio 2.8e+08 m2/m3\n",
      "So are on a similar basis of volume of reactor (though porosity not yet accounted for)\n",
      " kmol / m3 / s\n",
      "\n",
      "Highest forward rate constants, gas\n",
      "135 : H2NO3(244) + HCO(18) <=> CH2O(13) + HNO3(4)        3.6e+11\n",
      "127 : H2NO3(244) + HCO(18) <=> CH2O(13) + HNO3(4)        3.6e+11\n",
      "102 : H2NO3(245) + HCO(18) <=> CH2O(13) + HNO3(4)        1.8e+11\n",
      "154 : C2H5(17) + NO2(92) <=> C2H4(21) + HONO(91)         1.4e+11\n",
      " 27 : HCO(18) + OH(20) <=> CO(11) + H2O(6)               1.1e+11\n",
      " 15 : H(16) + HCO(18) <=> CO(11) + H2(10)                1.1e+11\n",
      " 10 : C2H5(17) + H(16) (+M) <=> C2H6(12) (+M)            9.9e+10\n",
      "\n",
      "Highest forward rate constants, surface\n",
      " 28 : CHX(32) + HX(22) <=> CH2X(31) + X(1)               3.1e+21\n",
      " 27 : CH2X(31) + HX(22) <=> CH3X(25) + X(1)              3.1e+21\n",
      " 29 : CHX(32) + X(1) <=> CX(30) + HX(22)                 3.1e+21\n",
      " 13 : HX(22) + OX(23) <=> HOX(26) + X(1)                 1.7e+19\n",
      " 24 : CX(30) + OX(23) <=> OCX(29) + X(1)                 3.7e+18\n",
      " 26 : CO2X(28) + HX(22) <=> HOX(26) + OCX(29)            2.2e+17\n",
      " 21 : CH4(24) + HOX(26) + X(1) <=> CH3X(25) + H2OX(27)   4.7e+16\n",
      "\n",
      "Highest reverse rate constants, gas\n",
      "194 : H3N2O(193) + S(489) <=> H2N2O(382) + S(429)        3.7e+15\n",
      "116 : C2H5(17) + S(489) <=> C2H4(21) + S(429)            8.0e+14\n",
      "117 : H3N2O(193) + S(489) <=> NNDO(385) + S(429)         1.3e+14\n",
      "163 : 2 NH2(82) <=> H(16) + N2H3(99)                     1.5e+13\n",
      "131 : H2NO3(244) + S(489) <=> HNO3(4) + S(429)           7.4e+12\n",
      " 94 : NNDO(385) + OH(20) <=> S(196)                      3.4e+11\n",
      " 22 : 2 H2O(6) <=> H(16) + H2O(6) + OH(20)               2.7e+11\n",
      "\n",
      "Highest reverse rate constants, surface\n",
      "  0 : H2O(6) + X(1) <=> H2OX(27)                         1.5e+11\n",
      "  1 : NH2OH(3) + X(1) <=> H3NOX(217)                     1.4e+08\n",
      "  3 : CH3OH(5) + X(1) <=> CH4OX(223)                     4.7e+09\n",
      "  2 : HNO3(4) + X(1) <=> HNO3X(220)                      8.3e+07\n",
      " 17 : NH2(82) + X(1) <=> H2NX(211)                       7.9e-02\n",
      " 11 : HNOH(94) + X(1) <=> H2NOX(216)                     8.3e+01\n",
      " 14 : H2OX(27) + OX(23) <=> 2 HOX(26)                    3.0e+24\n",
      "Units are a combination of kmol, m^3 and s, that depend on the rate expression for the reaction.\n",
      "      9.790000    0.000000    0.359190    0.187873   0.197639  2.0e+16\n"
     ]
    },
    {
     "name": "stdout",
     "output_type": "stream",
     "text": [
      "      9.845000    0.000000    0.359190    0.187872   0.197639  2.0e+16\n",
      "      9.900000    0.000000    0.359189    0.187871   0.197639  2.0e+16\n",
      "      9.955000    0.000000    0.359189    0.187870   0.197638  1.9e+16\n",
      "     10.010000    0.000000    0.359189    0.187869   0.197638  1.9e+16\n",
      "     10.065000    0.000000    0.359188    0.187868   0.197638  1.9e+16\n",
      "     10.120000    0.000000    0.359188    0.187866   0.197637  1.9e+16\n",
      "     10.175000    0.000000    0.359187    0.187865   0.197637  1.8e+16\n",
      "     10.230000    0.000000    0.359187    0.187864   0.197637  1.8e+16\n",
      "     10.285000    0.000000    0.359186    0.187863   0.197636  1.8e+16\n",
      "     10.340000    0.000000    0.359186    0.187862   0.197636  1.8e+16\n",
      "     10.395000    0.000000    0.359185    0.187861   0.197636  1.8e+16\n",
      "     10.450000    0.000000    0.359184    0.187860   0.197635  1.8e+16\n",
      "     10.505000    0.000000    0.359184    0.187858   0.197635  1.7e+16\n",
      "     10.560000    0.000000    0.359183    0.187857   0.197635  1.7e+16\n",
      "     10.615000    0.000000    0.359183    0.187856   0.197634  1.7e+16\n",
      "     10.670000    0.000000    0.359182    0.187855   0.197634  1.7e+16\n",
      "     10.725000    0.000000    0.359181    0.187854   0.197634  1.7e+16\n",
      "     10.780000    0.000000    0.359181    0.187853   0.197633  1.7e+16\n",
      "     10.835000    0.000000    0.359180    0.187852   0.197633  1.6e+16\n",
      "     10.890000    0.000000    0.359179    0.187850   0.197633  1.6e+16\n",
      "     10.945000    0.000000    0.359178    0.187849   0.197632  1.6e+16\n",
      "     11.000000    0.000000    0.359178    0.187848   0.197632  1.6e+16\n",
      "Results saved to 'surf_pfr_output.csv'\n"
     ]
    }
   ],
   "source": [
    "# The plug flow reactor is represented by a linear chain of zero-dimensional\n",
    "# reactors. The gas at the inlet to the first one has the specified inlet\n",
    "# composition, and for all others the inlet composition is fixed at the\n",
    "# composition of the reactor immediately upstream. Since in a PFR model there\n",
    "# is no diffusion, the upstream reactors are not affected by any downstream\n",
    "# reactors, and therefore the problem may be solved by simply marching from\n",
    "# the first to last reactor, integrating each one to steady state.\n",
    "\n",
    "TDY = gas.TDY\n",
    "cov = surf.coverages\n",
    "\n",
    "# create a new reactor\n",
    "gas.TDY = TDY\n",
    "r = ct.IdealGasReactor(gas, energy='off')\n",
    "r.volume = r_vol\n",
    "\n",
    "# create a reservoir to represent the reactor immediately upstream. Note\n",
    "# that the gas object is set already to the state of the upstream reactor\n",
    "upstream = ct.Reservoir(gas, name='upstream')\n",
    "\n",
    "# create a reservoir for the reactor to exhaust into. The composition of\n",
    "# this reservoir is irrelevant.\n",
    "downstream = ct.Reservoir(gas, name='downstream')\n",
    "\n",
    "# Add the reacting surface to the reactor. The area is set to the desired\n",
    "# catalyst area in the reactor.\n",
    "rsurf = ct.ReactorSurface(surf, r, A=cat_area)\n",
    "\n",
    "# The mass flow rate into the reactor will be fixed by using a\n",
    "# MassFlowController object.\n",
    "m = ct.MassFlowController(upstream, r, mdot=mass_flow_rate)\n",
    "\n",
    "# We need an outlet to the downstream reservoir. This will determine the\n",
    "# pressure in the reactor. The value of K will only affect the transient\n",
    "# pressure difference.\n",
    "v = ct.PressureController(r, downstream, master=m, K=1e-5)\n",
    "\n",
    "sim = ct.ReactorNet([r])\n",
    "sim.max_err_test_fails = 24\n",
    "\n",
    "# set relative and absolute tolerances on the simulation\n",
    "sim.rtol = 1.0e-12\n",
    "sim.atol = 1.0e-21\n",
    "\n",
    "sim.verbose = False\n",
    "\n",
    "print('    distance(mm)     H4N2O2(2)   NH2OH(3)   HNO3(4)  CH3OH(5)  alpha')\n",
    "for n in range(NReactors):\n",
    "    # Set the state of the reservoir to match that of the previous reactor\n",
    "    gas.TDY = TDY = r.thermo.TDY\n",
    "\n",
    "    upstream.syncState()\n",
    "    sim.reinitialize()\n",
    "    try:\n",
    "        # the default is residual_threshold = sim.rtol*10\n",
    "        sim.advance_to_steady_state(residual_threshold = sim.rtol*1000)\n",
    "    except ct.CanteraError:\n",
    "        t = sim.time\n",
    "        sim.set_initial_time(0)\n",
    "        gas.TDY = TDY\n",
    "        r.syncState()\n",
    "        sim.reinitialize()\n",
    "        print(f\"Couldn't reach {t:.1g} s so going to {0.1*t:.1g} s\")\n",
    "        sim.advance(0.1*t)\n",
    "        report_rates()\n",
    "        report_rate_constants()\n",
    " \n",
    "    dist = n * r_len * 1.0e3   # distance in mm\n",
    "        \n",
    "    gasHeat = np.dot(gas.net_rates_of_progress, gas.delta_enthalpy) # heat evolved by gas phase reaction\n",
    "    surfHeat = np.dot(surf.net_rates_of_progress, surf.delta_enthalpy) # heat evolved by surf phase reaction \n",
    "    alpha = gasHeat/surfHeat #ratio of gas heat evolved to surface heat evolved.\n",
    "\n",
    "    if not n % 10:\n",
    "        print('    {:10f}  {:10f}  {:10f}  {:10f} {:10f}  {:5.1e}'.format(dist, *gas['H4N2O2(2)','NH2OH(3)','HNO3(4)','CH3OH(5)'].X, alpha ))\n",
    "\n",
    "    # write the gas mole fractions and surface coverages vs. distance\n",
    "    writer.writerow([dist, r.T - 273.15, r.thermo.P/ct.one_atm] +\n",
    "                    list(gas.X) + list(surf.coverages) + [alpha])\n",
    "    \n",
    "    #report_rates()\n",
    "    #report_rate_constants()\n",
    "\n",
    "outfile.close()\n",
    "print(\"Results saved to '{0}'\".format(output_filename))"
   ]
  },
  {
   "cell_type": "code",
   "execution_count": 12,
   "metadata": {},
   "outputs": [
    {
     "data": {
      "text/plain": [
       "232753567488210.72"
      ]
     },
     "execution_count": 12,
     "metadata": {},
     "output_type": "execute_result"
    }
   ],
   "source": [
    "sim.time"
   ]
  },
  {
   "cell_type": "code",
   "execution_count": 13,
   "metadata": {},
   "outputs": [
    {
     "data": {
      "text/plain": [
       "673.15"
      ]
     },
     "execution_count": 13,
     "metadata": {},
     "output_type": "execute_result"
    }
   ],
   "source": [
    "gas.TDY = TDY\n",
    "r.syncState()\n",
    "r.thermo.T"
   ]
  },
  {
   "cell_type": "code",
   "execution_count": 14,
   "metadata": {},
   "outputs": [
    {
     "data": {
      "text/plain": [
       "array([0., 0., 0., 0., 0., 0., 0., 0., 0., 0., 0., 0., 0., 0., 0., 0., 0.,\n",
       "       0., 0., 0., 0., 0., 0., 0., 0., 0., 0., 0., 0., 0., 0., 0., 0., 0.,\n",
       "       0., 0., 0., 0., 0.])"
      ]
     },
     "execution_count": 14,
     "metadata": {},
     "output_type": "execute_result"
    }
   ],
   "source": [
    "r.thermo.X - gas.X"
   ]
  },
  {
   "cell_type": "code",
   "execution_count": 15,
   "metadata": {},
   "outputs": [
    {
     "data": {
      "text/plain": [
       "array([-6.86644785e-17,  8.15524661e-18,  8.96741452e-18,  3.58788679e-18,\n",
       "        9.77826970e-29,  9.90900281e-28,  4.35563325e-21,  7.56792268e-35,\n",
       "       -8.29520602e-29,  5.65762259e-19,  1.67426759e-24,  7.03601751e-18,\n",
       "       -1.41633545e-19,  4.36156027e-21, -2.84997678e-19,  3.30777311e-26,\n",
       "        7.17775283e-25, -1.16866554e-17, -4.00707038e-22,  2.28767448e-53,\n",
       "        6.36964464e-42,  1.78857513e-48, -2.08308337e-34,  2.04634570e-34,\n",
       "        7.93684356e-37,  2.08306027e-34, -2.29950824e-39,  1.21649070e-38,\n",
       "        8.57759972e-39,  7.94083741e-37,  3.98208862e-40])"
      ]
     },
     "execution_count": 15,
     "metadata": {},
     "output_type": "execute_result"
    }
   ],
   "source": [
    "rsurf.kinetics.net_rates_of_progress"
   ]
  },
  {
   "cell_type": "code",
   "execution_count": 16,
   "metadata": {},
   "outputs": [
    {
     "data": {
      "text/plain": [
       "array([-6.86644785e-17,  8.15524661e-18,  8.96741452e-18,  3.58788679e-18,\n",
       "        9.77826970e-29,  9.90900281e-28,  4.35563325e-21,  7.56792268e-35,\n",
       "       -8.29520602e-29,  5.65762259e-19,  1.67426759e-24,  7.03601751e-18,\n",
       "       -1.41633545e-19,  4.36156027e-21, -2.84997678e-19,  3.30777311e-26,\n",
       "        7.17775283e-25, -1.16866554e-17, -4.00707038e-22,  2.28767448e-53,\n",
       "        6.36964464e-42,  1.78857513e-48, -2.08308337e-34,  2.04634570e-34,\n",
       "        7.93684356e-37,  2.08306027e-34, -2.29950824e-39,  1.21649070e-38,\n",
       "        8.57759972e-39,  7.94083741e-37,  3.98208862e-40])"
      ]
     },
     "execution_count": 16,
     "metadata": {},
     "output_type": "execute_result"
    }
   ],
   "source": [
    "surf.net_rates_of_progress"
   ]
  },
  {
   "cell_type": "code",
   "execution_count": 17,
   "metadata": {},
   "outputs": [
    {
     "data": {
      "text/plain": [
       "(673.15,\n",
       " 0.673531560942224,\n",
       " array([1.24269577e-32, 2.21570339e-15, 3.18882168e-01, 3.18162711e-01,\n",
       "        1.70212766e-01, 8.12830450e-02, 1.66374488e-31, 7.58516120e-07,\n",
       "        7.62165538e-27, 7.01172158e-10, 5.89623540e-24, 3.59026658e-30,\n",
       "        6.98372768e-24, 2.01518300e-18, 1.89425402e-31, 1.86427759e-13,\n",
       "        1.15460147e-35, 9.61028680e-28, 4.38058116e-33, 1.69903973e-09,\n",
       "        5.52397380e-31, 1.03447141e-33, 8.40129741e-10, 3.44427890e-05,\n",
       "        1.12575173e-03, 2.21345417e-05, 4.63092442e-05, 1.42966522e-05,\n",
       "        7.50010586e-06, 2.69992926e-15, 6.61000489e-16, 1.65739898e-12,\n",
       "        2.49405286e-10, 3.74387993e-15, 1.15369862e-02, 8.27927377e-02,\n",
       "        4.34371605e-03, 2.42747548e-12, 1.15346725e-02]))"
      ]
     },
     "execution_count": 17,
     "metadata": {},
     "output_type": "execute_result"
    }
   ],
   "source": [
    "gas.TDY"
   ]
  },
  {
   "cell_type": "code",
   "execution_count": 18,
   "metadata": {},
   "outputs": [
    {
     "data": {
      "text/plain": [
       "(673.15,\n",
       " 0.673531560942224,\n",
       " array([1.24269577e-32, 2.21570339e-15, 3.18882168e-01, 3.18162711e-01,\n",
       "        1.70212766e-01, 8.12830450e-02, 1.66374488e-31, 7.58516120e-07,\n",
       "        7.62165538e-27, 7.01172158e-10, 5.89623540e-24, 3.59026658e-30,\n",
       "        6.98372768e-24, 2.01518300e-18, 1.89425402e-31, 1.86427759e-13,\n",
       "        1.15460147e-35, 9.61028680e-28, 4.38058116e-33, 1.69903973e-09,\n",
       "        5.52397380e-31, 1.03447141e-33, 8.40129741e-10, 3.44427890e-05,\n",
       "        1.12575173e-03, 2.21345417e-05, 4.63092442e-05, 1.42966522e-05,\n",
       "        7.50010586e-06, 2.69992926e-15, 6.61000489e-16, 1.65739898e-12,\n",
       "        2.49405286e-10, 3.74387993e-15, 1.15369862e-02, 8.27927377e-02,\n",
       "        4.34371605e-03, 2.42747548e-12, 1.15346725e-02]))"
      ]
     },
     "execution_count": 18,
     "metadata": {},
     "output_type": "execute_result"
    }
   ],
   "source": [
    "r.thermo.TDY"
   ]
  },
  {
   "cell_type": "code",
   "execution_count": 19,
   "metadata": {},
   "outputs": [
    {
     "name": "stdout",
     "output_type": "stream",
     "text": [
      "\n",
      "Highest forward rate constants, gas\n",
      "135 : H2NO3(244) + HCO(18) <=> CH2O(13) + HNO3(4)        3.6e+11\n",
      "127 : H2NO3(244) + HCO(18) <=> CH2O(13) + HNO3(4)        3.6e+11\n",
      "102 : H2NO3(245) + HCO(18) <=> CH2O(13) + HNO3(4)        1.8e+11\n",
      "154 : C2H5(17) + NO2(92) <=> C2H4(21) + HONO(91)         1.4e+11\n",
      " 27 : HCO(18) + OH(20) <=> CO(11) + H2O(6)               1.1e+11\n",
      " 15 : H(16) + HCO(18) <=> CO(11) + H2(10)                1.1e+11\n",
      " 10 : C2H5(17) + H(16) (+M) <=> C2H6(12) (+M)            9.9e+10\n",
      "\n",
      "Highest forward rate constants, surface\n",
      " 28 : CHX(32) + HX(22) <=> CH2X(31) + X(1)               3.1e+21\n",
      " 27 : CH2X(31) + HX(22) <=> CH3X(25) + X(1)              3.1e+21\n",
      " 29 : CHX(32) + X(1) <=> CX(30) + HX(22)                 3.1e+21\n",
      " 13 : HX(22) + OX(23) <=> HOX(26) + X(1)                 1.7e+19\n",
      " 24 : CX(30) + OX(23) <=> OCX(29) + X(1)                 3.7e+18\n",
      " 26 : CO2X(28) + HX(22) <=> HOX(26) + OCX(29)            2.2e+17\n",
      " 21 : CH4(24) + HOX(26) + X(1) <=> CH3X(25) + H2OX(27)   4.7e+16\n",
      "\n",
      "Highest reverse rate constants, gas\n",
      "194 : H3N2O(193) + S(489) <=> H2N2O(382) + S(429)        3.7e+15\n",
      "116 : C2H5(17) + S(489) <=> C2H4(21) + S(429)            8.0e+14\n",
      "117 : H3N2O(193) + S(489) <=> NNDO(385) + S(429)         1.3e+14\n",
      "163 : 2 NH2(82) <=> H(16) + N2H3(99)                     1.5e+13\n",
      "131 : H2NO3(244) + S(489) <=> HNO3(4) + S(429)           7.4e+12\n",
      " 94 : NNDO(385) + OH(20) <=> S(196)                      3.4e+11\n",
      " 22 : 2 H2O(6) <=> H(16) + H2O(6) + OH(20)               2.7e+11\n",
      "\n",
      "Highest reverse rate constants, surface\n",
      "  0 : H2O(6) + X(1) <=> H2OX(27)                         1.5e+11\n",
      "  1 : NH2OH(3) + X(1) <=> H3NOX(217)                     1.4e+08\n",
      "  3 : CH3OH(5) + X(1) <=> CH4OX(223)                     4.7e+09\n",
      "  2 : HNO3(4) + X(1) <=> HNO3X(220)                      8.3e+07\n",
      " 17 : NH2(82) + X(1) <=> H2NX(211)                       7.9e-02\n",
      " 11 : HNOH(94) + X(1) <=> H2NOX(216)                     8.3e+01\n",
      " 14 : H2OX(27) + OX(23) <=> 2 HOX(26)                    3.0e+24\n",
      "Units are a combination of kmol, m^3 and s, that depend on the rate expression for the reaction.\n"
     ]
    }
   ],
   "source": [
    "report_rate_constants()"
   ]
  },
  {
   "cell_type": "code",
   "execution_count": 20,
   "metadata": {},
   "outputs": [
    {
     "data": {
      "text/plain": [
       "False"
      ]
     },
     "execution_count": 20,
     "metadata": {},
     "output_type": "execute_result"
    }
   ],
   "source": [
    "sim.verbose\n"
   ]
  },
  {
   "cell_type": "code",
   "execution_count": 21,
   "metadata": {},
   "outputs": [
    {
     "data": {
      "text/plain": [
       "'IdealGasReactor_1: HOX(26)'"
      ]
     },
     "execution_count": 21,
     "metadata": {},
     "output_type": "execute_result"
    }
   ],
   "source": [
    "sim.component_name(46)"
   ]
  },
  {
   "cell_type": "code",
   "execution_count": 22,
   "metadata": {},
   "outputs": [
    {
     "data": {
      "text/plain": [
       "37"
      ]
     },
     "execution_count": 22,
     "metadata": {},
     "output_type": "execute_result"
    }
   ],
   "source": [
    "gas.species_index('S(429)')"
   ]
  },
  {
   "cell_type": "code",
   "execution_count": 23,
   "metadata": {},
   "outputs": [
    {
     "data": {
      "text/plain": [
       "<BarContainer object of 197 artists>"
      ]
     },
     "execution_count": 23,
     "metadata": {},
     "output_type": "execute_result"
    },
    {
     "data": {
      "image/png": "[encoded data removed]",
      "text/plain": [
       "<Figure size 432x288 with 1 Axes>"
      ]
     },
     "metadata": {
      "needs_background": "light"
     },
     "output_type": "display_data"
    }
   ],
   "source": [
    "plt.barh(np.arange(len(gas.net_rates_of_progress)),gas.net_rates_of_progress)"
   ]
  },
  {
   "cell_type": "code",
   "execution_count": 24,
   "metadata": {},
   "outputs": [
    {
     "data": {
      "text/plain": [
       "673.15"
      ]
     },
     "execution_count": 24,
     "metadata": {},
     "output_type": "execute_result"
    }
   ],
   "source": [
    "gas.T"
   ]
  },
  {
   "cell_type": "code",
   "execution_count": 25,
   "metadata": {},
   "outputs": [
    {
     "data": {
      "text/plain": [
       "673.15"
      ]
     },
     "execution_count": 25,
     "metadata": {},
     "output_type": "execute_result"
    }
   ],
   "source": [
    "gas.T"
   ]
  },
  {
   "cell_type": "code",
   "execution_count": 26,
   "metadata": {},
   "outputs": [
    {
     "data": {
      "text/html": [
       "<div>\n",
       "<style scoped>\n",
       "    .dataframe tbody tr th:only-of-type {\n",
       "        vertical-align: middle;\n",
       "    }\n",
       "\n",
       "    .dataframe tbody tr th {\n",
       "        vertical-align: top;\n",
       "    }\n",
       "\n",
       "    .dataframe thead th {\n",
       "        text-align: right;\n",
       "    }\n",
       "</style>\n",
       "<table border=\"1\" class=\"dataframe\">\n",
       "  <thead>\n",
       "    <tr style=\"text-align: right;\">\n",
       "      <th></th>\n",
       "      <th>Distance (mm)</th>\n",
       "      <th>T (C)</th>\n",
       "      <th>P (atm)</th>\n",
       "      <th>Ne</th>\n",
       "      <th>H4N2O2(2)</th>\n",
       "      <th>NH2OH(3)</th>\n",
       "      <th>HNO3(4)</th>\n",
       "      <th>CH3OH(5)</th>\n",
       "      <th>H2O(6)</th>\n",
       "      <th>N2(7)</th>\n",
       "      <th>...</th>\n",
       "      <th>CH2X(31)</th>\n",
       "      <th>CHX(32)</th>\n",
       "      <th>H2NX(211)</th>\n",
       "      <th>SX(214)</th>\n",
       "      <th>H2NOX(216)</th>\n",
       "      <th>H3NOX(217)</th>\n",
       "      <th>HNO3X(220)</th>\n",
       "      <th>CH3OX(222)</th>\n",
       "      <th>CH4OX(223)</th>\n",
       "      <th>alpha</th>\n",
       "    </tr>\n",
       "  </thead>\n",
       "  <tbody>\n",
       "    <tr>\n",
       "      <th>0</th>\n",
       "      <td>0.0000</td>\n",
       "      <td>400.0</td>\n",
       "      <td>1.0</td>\n",
       "      <td>8.578141e-37</td>\n",
       "      <td>1.667055e-05</td>\n",
       "      <td>0.322039</td>\n",
       "      <td>0.188208</td>\n",
       "      <td>0.197698</td>\n",
       "      <td>0.164727</td>\n",
       "      <td>4.138491e-37</td>\n",
       "      <td>...</td>\n",
       "      <td>1.452166e-41</td>\n",
       "      <td>7.852777e-38</td>\n",
       "      <td>5.964571e-09</td>\n",
       "      <td>1.507122e-17</td>\n",
       "      <td>1.975025e-07</td>\n",
       "      <td>9.579797e-13</td>\n",
       "      <td>7.039680e-13</td>\n",
       "      <td>0.226700</td>\n",
       "      <td>1.826960e-14</td>\n",
       "      <td>4.301300e+16</td>\n",
       "    </tr>\n",
       "    <tr>\n",
       "      <th>1</th>\n",
       "      <td>0.0055</td>\n",
       "      <td>400.0</td>\n",
       "      <td>1.0</td>\n",
       "      <td>8.535662e-37</td>\n",
       "      <td>2.244074e-08</td>\n",
       "      <td>0.325517</td>\n",
       "      <td>0.188203</td>\n",
       "      <td>0.197707</td>\n",
       "      <td>0.167501</td>\n",
       "      <td>4.140152e-37</td>\n",
       "      <td>...</td>\n",
       "      <td>-7.620857e-42</td>\n",
       "      <td>-9.151270e-37</td>\n",
       "      <td>3.605983e-08</td>\n",
       "      <td>4.892301e-19</td>\n",
       "      <td>4.323618e-06</td>\n",
       "      <td>2.335070e-11</td>\n",
       "      <td>1.697530e-11</td>\n",
       "      <td>0.226700</td>\n",
       "      <td>4.405816e-13</td>\n",
       "      <td>5.676306e+15</td>\n",
       "    </tr>\n",
       "    <tr>\n",
       "      <th>2</th>\n",
       "      <td>0.0110</td>\n",
       "      <td>400.0</td>\n",
       "      <td>1.0</td>\n",
       "      <td>-4.696225e-34</td>\n",
       "      <td>3.019205e-10</td>\n",
       "      <td>0.327541</td>\n",
       "      <td>0.188198</td>\n",
       "      <td>0.197707</td>\n",
       "      <td>0.167620</td>\n",
       "      <td>4.140140e-37</td>\n",
       "      <td>...</td>\n",
       "      <td>1.540599e-47</td>\n",
       "      <td>2.041798e-33</td>\n",
       "      <td>9.658569e-07</td>\n",
       "      <td>1.479647e-19</td>\n",
       "      <td>9.142262e-05</td>\n",
       "      <td>5.281783e-10</td>\n",
       "      <td>3.815893e-10</td>\n",
       "      <td>0.226700</td>\n",
       "      <td>9.904091e-12</td>\n",
       "      <td>1.371930e+15</td>\n",
       "    </tr>\n",
       "    <tr>\n",
       "      <th>3</th>\n",
       "      <td>0.0165</td>\n",
       "      <td>400.0</td>\n",
       "      <td>1.0</td>\n",
       "      <td>8.092795e-321</td>\n",
       "      <td>7.427165e-12</td>\n",
       "      <td>0.328572</td>\n",
       "      <td>0.188196</td>\n",
       "      <td>0.197706</td>\n",
       "      <td>0.167626</td>\n",
       "      <td>4.140132e-37</td>\n",
       "      <td>...</td>\n",
       "      <td>-2.367565e-47</td>\n",
       "      <td>-4.327785e-33</td>\n",
       "      <td>1.880168e-08</td>\n",
       "      <td>6.356665e-23</td>\n",
       "      <td>1.545217e-06</td>\n",
       "      <td>9.253084e-12</td>\n",
       "      <td>6.663954e-12</td>\n",
       "      <td>0.975412</td>\n",
       "      <td>1.729635e-13</td>\n",
       "      <td>5.442611e+17</td>\n",
       "    </tr>\n",
       "    <tr>\n",
       "      <th>4</th>\n",
       "      <td>0.0220</td>\n",
       "      <td>400.0</td>\n",
       "      <td>1.0</td>\n",
       "      <td>5.535076e-89</td>\n",
       "      <td>7.693693e-13</td>\n",
       "      <td>0.329251</td>\n",
       "      <td>0.188195</td>\n",
       "      <td>0.197706</td>\n",
       "      <td>0.167627</td>\n",
       "      <td>4.140128e-37</td>\n",
       "      <td>...</td>\n",
       "      <td>1.476948e-55</td>\n",
       "      <td>1.164287e-51</td>\n",
       "      <td>7.481888e-09</td>\n",
       "      <td>2.441991e-24</td>\n",
       "      <td>5.604975e-07</td>\n",
       "      <td>3.438639e-12</td>\n",
       "      <td>2.471339e-12</td>\n",
       "      <td>0.993543</td>\n",
       "      <td>6.414415e-14</td>\n",
       "      <td>4.429057e+18</td>\n",
       "    </tr>\n",
       "    <tr>\n",
       "      <th>...</th>\n",
       "      <td>...</td>\n",
       "      <td>...</td>\n",
       "      <td>...</td>\n",
       "      <td>...</td>\n",
       "      <td>...</td>\n",
       "      <td>...</td>\n",
       "      <td>...</td>\n",
       "      <td>...</td>\n",
       "      <td>...</td>\n",
       "      <td>...</td>\n",
       "      <td>...</td>\n",
       "      <td>...</td>\n",
       "      <td>...</td>\n",
       "      <td>...</td>\n",
       "      <td>...</td>\n",
       "      <td>...</td>\n",
       "      <td>...</td>\n",
       "      <td>...</td>\n",
       "      <td>...</td>\n",
       "      <td>...</td>\n",
       "      <td>...</td>\n",
       "    </tr>\n",
       "    <tr>\n",
       "      <th>1996</th>\n",
       "      <td>10.9780</td>\n",
       "      <td>400.0</td>\n",
       "      <td>1.0</td>\n",
       "      <td>2.291067e-32</td>\n",
       "      <td>1.290832e-15</td>\n",
       "      <td>0.359178</td>\n",
       "      <td>0.187849</td>\n",
       "      <td>0.197632</td>\n",
       "      <td>0.167859</td>\n",
       "      <td>2.209567e-31</td>\n",
       "      <td>...</td>\n",
       "      <td>1.823909e-40</td>\n",
       "      <td>1.468487e-34</td>\n",
       "      <td>5.512563e-06</td>\n",
       "      <td>1.038933e-26</td>\n",
       "      <td>2.527514e-09</td>\n",
       "      <td>9.512130e-12</td>\n",
       "      <td>6.255212e-12</td>\n",
       "      <td>0.997416</td>\n",
       "      <td>1.625936e-13</td>\n",
       "      <td>1.594187e+16</td>\n",
       "    </tr>\n",
       "    <tr>\n",
       "      <th>1997</th>\n",
       "      <td>10.9835</td>\n",
       "      <td>400.0</td>\n",
       "      <td>1.0</td>\n",
       "      <td>2.291066e-32</td>\n",
       "      <td>1.289593e-15</td>\n",
       "      <td>0.359178</td>\n",
       "      <td>0.187849</td>\n",
       "      <td>0.197632</td>\n",
       "      <td>0.167860</td>\n",
       "      <td>2.209567e-31</td>\n",
       "      <td>...</td>\n",
       "      <td>-2.403797e-40</td>\n",
       "      <td>-2.666217e-35</td>\n",
       "      <td>5.512568e-06</td>\n",
       "      <td>1.036981e-26</td>\n",
       "      <td>2.522234e-09</td>\n",
       "      <td>9.503365e-12</td>\n",
       "      <td>6.249446e-12</td>\n",
       "      <td>0.997416</td>\n",
       "      <td>1.624437e-13</td>\n",
       "      <td>1.594011e+16</td>\n",
       "    </tr>\n",
       "    <tr>\n",
       "      <th>1998</th>\n",
       "      <td>10.9890</td>\n",
       "      <td>400.0</td>\n",
       "      <td>1.0</td>\n",
       "      <td>2.291066e-32</td>\n",
       "      <td>1.288357e-15</td>\n",
       "      <td>0.359178</td>\n",
       "      <td>0.187848</td>\n",
       "      <td>0.197632</td>\n",
       "      <td>0.167860</td>\n",
       "      <td>2.209567e-31</td>\n",
       "      <td>...</td>\n",
       "      <td>-2.644528e-40</td>\n",
       "      <td>-8.167962e-34</td>\n",
       "      <td>5.512574e-06</td>\n",
       "      <td>1.035033e-26</td>\n",
       "      <td>2.516971e-09</td>\n",
       "      <td>9.494616e-12</td>\n",
       "      <td>6.243690e-12</td>\n",
       "      <td>0.997416</td>\n",
       "      <td>1.622942e-13</td>\n",
       "      <td>1.593756e+16</td>\n",
       "    </tr>\n",
       "    <tr>\n",
       "      <th>1999</th>\n",
       "      <td>10.9945</td>\n",
       "      <td>400.0</td>\n",
       "      <td>1.0</td>\n",
       "      <td>2.291065e-32</td>\n",
       "      <td>1.287124e-15</td>\n",
       "      <td>0.359178</td>\n",
       "      <td>0.187848</td>\n",
       "      <td>0.197632</td>\n",
       "      <td>0.167860</td>\n",
       "      <td>2.209566e-31</td>\n",
       "      <td>...</td>\n",
       "      <td>2.676281e-40</td>\n",
       "      <td>-6.484364e-36</td>\n",
       "      <td>5.512580e-06</td>\n",
       "      <td>1.033091e-26</td>\n",
       "      <td>2.511724e-09</td>\n",
       "      <td>9.485883e-12</td>\n",
       "      <td>6.237945e-12</td>\n",
       "      <td>0.997416</td>\n",
       "      <td>1.621449e-13</td>\n",
       "      <td>1.593753e+16</td>\n",
       "    </tr>\n",
       "    <tr>\n",
       "      <th>2000</th>\n",
       "      <td>11.0000</td>\n",
       "      <td>400.0</td>\n",
       "      <td>1.0</td>\n",
       "      <td>2.291067e-32</td>\n",
       "      <td>1.285892e-15</td>\n",
       "      <td>0.359178</td>\n",
       "      <td>0.187848</td>\n",
       "      <td>0.197632</td>\n",
       "      <td>0.167860</td>\n",
       "      <td>2.209566e-31</td>\n",
       "      <td>...</td>\n",
       "      <td>-1.125809e-39</td>\n",
       "      <td>8.215994e-34</td>\n",
       "      <td>5.512585e-06</td>\n",
       "      <td>1.031154e-26</td>\n",
       "      <td>2.506494e-09</td>\n",
       "      <td>9.477165e-12</td>\n",
       "      <td>6.232210e-12</td>\n",
       "      <td>0.997416</td>\n",
       "      <td>1.619959e-13</td>\n",
       "      <td>1.593607e+16</td>\n",
       "    </tr>\n",
       "  </tbody>\n",
       "</table>\n",
       "<p>2001 rows × 61 columns</p>\n",
       "</div>"
      ],
      "text/plain": [
       "      Distance (mm)  T (C)  P (atm)             Ne     H4N2O2(2)  NH2OH(3)  \\\n",
       "0            0.0000  400.0      1.0   8.578141e-37  1.667055e-05  0.322039   \n",
       "1            0.0055  400.0      1.0   8.535662e-37  2.244074e-08  0.325517   \n",
       "2            0.0110  400.0      1.0  -4.696225e-34  3.019205e-10  0.327541   \n",
       "3            0.0165  400.0      1.0  8.092795e-321  7.427165e-12  0.328572   \n",
       "4            0.0220  400.0      1.0   5.535076e-89  7.693693e-13  0.329251   \n",
       "...             ...    ...      ...            ...           ...       ...   \n",
       "1996        10.9780  400.0      1.0   2.291067e-32  1.290832e-15  0.359178   \n",
       "1997        10.9835  400.0      1.0   2.291066e-32  1.289593e-15  0.359178   \n",
       "1998        10.9890  400.0      1.0   2.291066e-32  1.288357e-15  0.359178   \n",
       "1999        10.9945  400.0      1.0   2.291065e-32  1.287124e-15  0.359178   \n",
       "2000        11.0000  400.0      1.0   2.291067e-32  1.285892e-15  0.359178   \n",
       "\n",
       "       HNO3(4)  CH3OH(5)    H2O(6)         N2(7)  ...      CH2X(31)  \\\n",
       "0     0.188208  0.197698  0.164727  4.138491e-37  ...  1.452166e-41   \n",
       "1     0.188203  0.197707  0.167501  4.140152e-37  ... -7.620857e-42   \n",
       "2     0.188198  0.197707  0.167620  4.140140e-37  ...  1.540599e-47   \n",
       "3     0.188196  0.197706  0.167626  4.140132e-37  ... -2.367565e-47   \n",
       "4     0.188195  0.197706  0.167627  4.140128e-37  ...  1.476948e-55   \n",
       "...        ...       ...       ...           ...  ...           ...   \n",
       "1996  0.187849  0.197632  0.167859  2.209567e-31  ...  1.823909e-40   \n",
       "1997  0.187849  0.197632  0.167860  2.209567e-31  ... -2.403797e-40   \n",
       "1998  0.187848  0.197632  0.167860  2.209567e-31  ... -2.644528e-40   \n",
       "1999  0.187848  0.197632  0.167860  2.209566e-31  ...  2.676281e-40   \n",
       "2000  0.187848  0.197632  0.167860  2.209566e-31  ... -1.125809e-39   \n",
       "\n",
       "           CHX(32)     H2NX(211)       SX(214)    H2NOX(216)    H3NOX(217)  \\\n",
       "0     7.852777e-38  5.964571e-09  1.507122e-17  1.975025e-07  9.579797e-13   \n",
       "1    -9.151270e-37  3.605983e-08  4.892301e-19  4.323618e-06  2.335070e-11   \n",
       "2     2.041798e-33  9.658569e-07  1.479647e-19  9.142262e-05  5.281783e-10   \n",
       "3    -4.327785e-33  1.880168e-08  6.356665e-23  1.545217e-06  9.253084e-12   \n",
       "4     1.164287e-51  7.481888e-09  2.441991e-24  5.604975e-07  3.438639e-12   \n",
       "...            ...           ...           ...           ...           ...   \n",
       "1996  1.468487e-34  5.512563e-06  1.038933e-26  2.527514e-09  9.512130e-12   \n",
       "1997 -2.666217e-35  5.512568e-06  1.036981e-26  2.522234e-09  9.503365e-12   \n",
       "1998 -8.167962e-34  5.512574e-06  1.035033e-26  2.516971e-09  9.494616e-12   \n",
       "1999 -6.484364e-36  5.512580e-06  1.033091e-26  2.511724e-09  9.485883e-12   \n",
       "2000  8.215994e-34  5.512585e-06  1.031154e-26  2.506494e-09  9.477165e-12   \n",
       "\n",
       "        HNO3X(220)  CH3OX(222)    CH4OX(223)         alpha  \n",
       "0     7.039680e-13    0.226700  1.826960e-14  4.301300e+16  \n",
       "1     1.697530e-11    0.226700  4.405816e-13  5.676306e+15  \n",
       "2     3.815893e-10    0.226700  9.904091e-12  1.371930e+15  \n",
       "3     6.663954e-12    0.975412  1.729635e-13  5.442611e+17  \n",
       "4     2.471339e-12    0.993543  6.414415e-14  4.429057e+18  \n",
       "...            ...         ...           ...           ...  \n",
       "1996  6.255212e-12    0.997416  1.625936e-13  1.594187e+16  \n",
       "1997  6.249446e-12    0.997416  1.624437e-13  1.594011e+16  \n",
       "1998  6.243690e-12    0.997416  1.622942e-13  1.593756e+16  \n",
       "1999  6.237945e-12    0.997416  1.621449e-13  1.593753e+16  \n",
       "2000  6.232210e-12    0.997416  1.619959e-13  1.593607e+16  \n",
       "\n",
       "[2001 rows x 61 columns]"
      ]
     },
     "execution_count": 26,
     "metadata": {},
     "output_type": "execute_result"
    }
   ],
   "source": [
    "data = pd.read_csv(output_filename)\n",
    "data"
   ]
  },
  {
   "cell_type": "code",
   "execution_count": 27,
   "metadata": {},
   "outputs": [
    {
     "data": {
      "text/plain": [
       "<matplotlib.axes._subplots.AxesSubplot at 0x121ad2990>"
      ]
     },
     "execution_count": 27,
     "metadata": {},
     "output_type": "execute_result"
    },
    {
     "data": {
      "image/png": "[encoded data removed]",
      "text/plain": [
       "<Figure size 432x288 with 1 Axes>"
      ]
     },
     "metadata": {
      "needs_background": "light"
     },
     "output_type": "display_data"
    }
   ],
   "source": [
    "data['T (C)'].plot()"
   ]
  },
  {
   "cell_type": "code",
   "execution_count": 28,
   "metadata": {},
   "outputs": [
    {
     "data": {
      "text/plain": [
       "<matplotlib.axes._subplots.AxesSubplot at 0x122c59650>"
      ]
     },
     "execution_count": 28,
     "metadata": {},
     "output_type": "execute_result"
    },
    {
     "data": {
      "image/png": "[encoded data removed]",
      "text/plain": [
       "<Figure size 432x288 with 1 Axes>"
      ]
     },
     "metadata": {
      "needs_background": "light"
     },
     "output_type": "display_data"
    }
   ],
   "source": [
    "data[['H4N2O2(2)', 'CH3OH(5)']].plot()"
   ]
  },
  {
   "cell_type": "code",
   "execution_count": 29,
   "metadata": {},
   "outputs": [
    {
     "data": {
      "text/plain": [
       "['Distance (mm)', 'T (C)', 'P (atm)', 'Ne']"
      ]
     },
     "execution_count": 29,
     "metadata": {},
     "output_type": "execute_result"
    }
   ],
   "source": [
    "list(data.columns)[:4]"
   ]
  },
  {
   "cell_type": "code",
   "execution_count": 30,
   "metadata": {},
   "outputs": [
    {
     "data": {
      "text/plain": [
       "['H4N2O2(2)',\n",
       " 'NH2OH(3)',\n",
       " 'HNO3(4)',\n",
       " 'CH3OH(5)',\n",
       " 'H2O(6)',\n",
       " 'N2(7)',\n",
       " 'O2(8)',\n",
       " 'CO2(9)',\n",
       " 'H2(10)',\n",
       " 'CO(11)',\n",
       " 'C2H6(12)',\n",
       " 'CH2O(13)',\n",
       " 'CH3(14)',\n",
       " 'C3H8(15)',\n",
       " 'H(16)',\n",
       " 'C2H5(17)',\n",
       " 'HCO(18)',\n",
       " 'CH3CHO(19)',\n",
       " 'OH(20)',\n",
       " 'C2H4(21)',\n",
       " 'CH4(24)',\n",
       " 'HO2(36)',\n",
       " 'NH2(82)',\n",
       " 'HONO(91)',\n",
       " 'NO2(92)',\n",
       " 'HNOH(94)',\n",
       " 'N2H3(99)',\n",
       " 'H3N2O(193)',\n",
       " 'H2NO2(195)',\n",
       " 'S(196)',\n",
       " 'H2NO3(244)',\n",
       " 'H2NO3(245)',\n",
       " 'H2N2O(381)',\n",
       " 'H2N2O(382)',\n",
       " 'NNDO(385)',\n",
       " 'NNO(394)',\n",
       " 'S(429)',\n",
       " 'S(489)',\n",
       " 'X(1)',\n",
       " 'HX(22)',\n",
       " 'OX(23)',\n",
       " 'CH3X(25)',\n",
       " 'HOX(26)',\n",
       " 'H2OX(27)',\n",
       " 'CO2X(28)',\n",
       " 'OCX(29)',\n",
       " 'CX(30)',\n",
       " 'CH2X(31)',\n",
       " 'CHX(32)',\n",
       " 'H2NX(211)',\n",
       " 'SX(214)',\n",
       " 'H2NOX(216)',\n",
       " 'H3NOX(217)',\n",
       " 'HNO3X(220)',\n",
       " 'CH3OX(222)',\n",
       " 'CH4OX(223)',\n",
       " 'alpha']"
      ]
     },
     "execution_count": 30,
     "metadata": {},
     "output_type": "execute_result"
    }
   ],
   "source": [
    "specs = list(data.columns)\n",
    "specs = specs[4:]\n",
    "specs"
   ]
  },
  {
   "cell_type": "code",
   "execution_count": 31,
   "metadata": {
    "scrolled": false
   },
   "outputs": [
    {
     "data": {
      "image/png": "[encoded data removed]",
      "text/plain": [
       "<Figure size 432x288 with 1 Axes>"
      ]
     },
     "metadata": {
      "needs_background": "light"
     },
     "output_type": "display_data"
    },
    {
     "data": {
      "image/png": "[encoded data removed]",
      "text/plain": [
       "<Figure size 432x288 with 1 Axes>"
      ]
     },
     "metadata": {
      "needs_background": "light"
     },
     "output_type": "display_data"
    },
    {
     "data": {
      "image/png": "[encoded data removed]",
      "text/plain": [
       "<Figure size 432x288 with 1 Axes>"
      ]
     },
     "metadata": {
      "needs_background": "light"
     },
     "output_type": "display_data"
    },
    {
     "data": {
      "image/png": "[encoded data removed]",
      "text/plain": [
       "<Figure size 432x288 with 1 Axes>"
      ]
     },
     "metadata": {
      "needs_background": "light"
     },
     "output_type": "display_data"
    },
    {
     "data": {
      "image/png": "[encoded data removed]",
      "text/plain": [
       "<Figure size 432x288 with 1 Axes>"
      ]
     },
     "metadata": {
      "needs_background": "light"
     },
     "output_type": "display_data"
    },
    {
     "data": {
      "image/png": "[encoded data removed]",
      "text/plain": [
       "<Figure size 432x288 with 1 Axes>"
      ]
     },
     "metadata": {
      "needs_background": "light"
     },
     "output_type": "display_data"
    },
    {
     "data": {
      "image/png": "[encoded data removed]",
      "text/plain": [
       "<Figure size 432x288 with 1 Axes>"
      ]
     },
     "metadata": {
      "needs_background": "light"
     },
     "output_type": "display_data"
    }
   ],
   "source": [
    "data[specs[1:5]].plot()\n",
    "\n",
    "for i in range(0,len(specs),10):\n",
    "    data[specs[i:i+10]].plot()"
   ]
  },
  {
   "cell_type": "code",
   "execution_count": 32,
   "metadata": {},
   "outputs": [
    {
     "ename": "IndexError",
     "evalue": "map::at:  key not found",
     "output_type": "error",
     "traceback": [
      "\u001b[0;31m---------------------------------------------------------------------------\u001b[0m",
      "\u001b[0;31mIndexError\u001b[0m                                Traceback (most recent call last)",
      "\u001b[0;32m<ipython-input-32-c584d4fc0431>\u001b[0m in \u001b[0;36m<module>\u001b[0;34m\u001b[0m\n\u001b[0;32m----> 1\u001b[0;31m \u001b[0mgas\u001b[0m\u001b[0;34m.\u001b[0m\u001b[0mspecies\u001b[0m\u001b[0;34m(\u001b[0m\u001b[0;34m'NO(49)'\u001b[0m\u001b[0;34m)\u001b[0m\u001b[0;34m.\u001b[0m\u001b[0mcomposition\u001b[0m\u001b[0;34m\u001b[0m\u001b[0;34m\u001b[0m\u001b[0m\n\u001b[0m",
      "\u001b[0;32minterfaces/cython/cantera/thermo.pyx\u001b[0m in \u001b[0;36mcantera._cantera.ThermoPhase.species\u001b[0;34m()\u001b[0m\n",
      "\u001b[0;31mIndexError\u001b[0m: map::at:  key not found"
     ]
    }
   ],
   "source": [
    "gas.species('NO(49)').composition"
   ]
  },
  {
   "cell_type": "code",
   "execution_count": null,
   "metadata": {},
   "outputs": [],
   "source": [
    "data['NO(49)'].plot()"
   ]
  },
  {
   "cell_type": "code",
   "execution_count": null,
   "metadata": {},
   "outputs": [],
   "source": [
    "(data[specs].max()>0.01)"
   ]
  },
  {
   "cell_type": "code",
   "execution_count": null,
   "metadata": {},
   "outputs": [],
   "source": []
  },
  {
   "cell_type": "code",
   "execution_count": null,
   "metadata": {},
   "outputs": [],
   "source": [
    "data.loc[0]"
   ]
  },
  {
   "cell_type": "code",
   "execution_count": null,
   "metadata": {},
   "outputs": [],
   "source": []
  },
  {
   "cell_type": "code",
   "execution_count": null,
   "metadata": {},
   "outputs": [],
   "source": []
  }
 ],
 "metadata": {
  "kernelspec": {
   "display_name": "Python 3",
   "language": "python",
   "name": "python3"
  },
  "language_info": {
   "codemirror_mode": {
    "name": "ipython",
    "version": 3
   },
   "file_extension": ".py",
   "mimetype": "text/x-python",
   "name": "python",
   "nbconvert_exporter": "python",
   "pygments_lexer": "ipython3",
   "version": "3.7.5"
  }
 },
 "nbformat": 4,
 "nbformat_minor": 2
}
