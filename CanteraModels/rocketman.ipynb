{
 "cells": [
  {
   "cell_type": "markdown",
   "metadata": {},
   "source": [
    "# Plug flow reactor simulation of Thruster\n",
    "\n",
    "![caption](Graphics/thruster-details.png)\n"
   ]
  },
  {
   "cell_type": "code",
   "execution_count": 141,
   "metadata": {},
   "outputs": [],
   "source": [
    "import cantera as ct\n",
    "import numpy as np\n",
    "\n",
    "from matplotlib import pyplot as plt\n",
    "import csv\n",
    "import pandas as pd"
   ]
  },
  {
   "cell_type": "code",
   "execution_count": 178,
   "metadata": {},
   "outputs": [],
   "source": [
    "# input file containing the surface reaction mechanism\n",
    "cti_file = '../RMG-model/cantera/chem_annotated.cti'\n",
    "\n",
    "cti_file = '../RMG-model/cantera/chem0050.cti'\n",
    "\n",
    "gas=ct.Solution(cti_file)\n",
    "surf = ct.Interface(cti_file,'surface1', [gas])"
   ]
  },
  {
   "cell_type": "code",
   "execution_count": 179,
   "metadata": {},
   "outputs": [
    {
     "name": "stdout",
     "output_type": "stream",
     "text": [
      "\n",
      "  gas:\n",
      "\n",
      "       temperature             300  K\n",
      "          pressure          101325  Pa\n",
      "           density         0.81974  kg/m^3\n",
      "  mean mol. weight         20.1797  amu\n",
      "\n",
      "                          1 kg            1 kmol\n",
      "                       -----------      ------------\n",
      "          enthalpy          1905.6        3.845e+04     J\n",
      "   internal energy      -1.217e+05       -2.456e+06     J\n",
      "           entropy          7257.7        1.465e+05     J/K\n",
      "    Gibbs function     -2.1754e+06        -4.39e+07     J\n",
      " heat capacity c_p          1030.1        2.079e+04     J/K\n",
      " heat capacity c_v          618.03        1.247e+04     J/K\n",
      "\n",
      "                           X                 Y          Chem. Pot. / RT\n",
      "                     -------------     ------------     ------------\n",
      "                Ne              1                1         -17.5994\n",
      "     [  +38 minor]              0                0\n",
      "\n"
     ]
    }
   ],
   "source": [
    "gas()"
   ]
  },
  {
   "cell_type": "code",
   "execution_count": 180,
   "metadata": {},
   "outputs": [
    {
     "name": "stdout",
     "output_type": "stream",
     "text": [
      "Ne, H4N2O2(2), NH2OH(3), HNO3(4), CH3OH(5), H2O(6), N2(7), O2(8), CO2(9), H2(10), CO(11), C2H6(12), CH2O(13), CH3(14), C3H8(15), H(16), C2H5(17), HCO(18), CH3CHO(19), OH(20), C2H4(21), CH4(24), HO2(36), NH2(82), HONO(91), NO2(92), HNOH(94), N2H3(99), H3N2O(193), H2NO2(195), S(196), H2NO3(244), H2NO3(245), H2N2O(381), H2N2O(382), NNDO(385), NNO(394), S(429), S(489)\n"
     ]
    }
   ],
   "source": [
    "print(\", \".join(gas.species_names))"
   ]
  },
  {
   "cell_type": "code",
   "execution_count": 181,
   "metadata": {},
   "outputs": [
    {
     "name": "stdout",
     "output_type": "stream",
     "text": [
      "X(1), HX(22), OX(23), CH3X(25), HOX(26), H2OX(27), CO2X(28), OCX(29), CX(30), CH2X(31), CHX(32), H2NX(211), SX(214), H2NOX(216), H3NOX(217), HNO3X(220), CH3OX(222), CH4OX(223)\n"
     ]
    }
   ],
   "source": [
    "print(\", \".join(surf.species_names))"
   ]
  },
  {
   "cell_type": "markdown",
   "metadata": {},
   "source": [
    "\n",
    "\n",
    "This example solves a plug flow reactor problem, with coupled surface and gas chemistry.\n",
    "\n",
    "\n",
    "\n"
   ]
  },
  {
   "cell_type": "code",
   "execution_count": 182,
   "metadata": {},
   "outputs": [],
   "source": [
    "# unit conversion factors to SI\n",
    "cm = 0.01 # m\n",
    "minute = 60.0  # s"
   ]
  },
  {
   "cell_type": "code",
   "execution_count": 183,
   "metadata": {},
   "outputs": [
    {
     "name": "stdout",
     "output_type": "stream",
     "text": [
      "Catalyst density 2.00e+06 g/m3\n",
      "Catalyst area per volume 2.80e+06 m2/m3\n",
      "\n"
     ]
    }
   ],
   "source": [
    "#######################################################################\n",
    "# Input Parameters for combustor\n",
    "#######################################################################\n",
    "mass_flow_rate =  0.5e-3 # kg/s\n",
    "temperature_c = 400.0  # Initial Temperature in Celsius\n",
    "pressure = ct.one_atm # constant\n",
    "\n",
    "length = 1.1 * cm  # Catalyst bed length. 11mm\n",
    "cross_section_area = np.pi * (0.9*cm)**2  # Catalyst bed area.  18mm diameter circle.\n",
    "\n",
    "### Catalyst properties. Some are hard to estimate\n",
    "# if we can, update this lit value or verify the value richard calculated\n",
    "cat_specific_area = 140 # m2/g\n",
    "cat_density = 2 / cm**3 # 2 g/m3\n",
    "print(f\"Catalyst density {cat_density :.2e} g/m3\")\n",
    "cat_area_per_vol = cat_specific_area * cat_density * 1e-2 # m2/m3\n",
    "cat_area_per_vol # m2/m3\n",
    "print(f\"Catalyst area per volume {cat_area_per_vol :.2e} m2/m3\")\n",
    "print()\n",
    "\n",
    "porosity = 0.38  # Catalyst bed porosity (0.38)\n",
    "# Al2O3 particles are about 0.7mm diameter"
   ]
  },
  {
   "cell_type": "code",
   "execution_count": 184,
   "metadata": {},
   "outputs": [],
   "source": [
    "output_filename = 'surf_pfr_output.csv'\n",
    "\n",
    "# The PFR will be simulated by a chain of 'NReactors' stirred reactors.\n",
    "NReactors = 2001\n",
    "# dt = 1.0\n",
    "\n",
    "#####################################################################\n",
    "\n",
    "temperature_kelvin = temperature_c + 273.15  # convert to Kelvin\n",
    "\n",
    "# import the gas model and set the initial conditions\n",
    "gas = ct.Solution(cti_file, 'gas')\n",
    "\n",
    "# should this be mole fractions or mole fractions?\n",
    "gas.TPY = temperature_kelvin, pressure, 'H4N2O2(2):0.14, NH2OH(3):0.3, HNO3(4):0.3, CH3OH(5):0.16, H2O(6):0.04'\n",
    "\n",
    "# import the surface model\n",
    "surf = ct.Interface(cti_file,'surface1', [gas])\n",
    "surf.TP = temperature_kelvin, pressure\n",
    "surf.coverages = 'X(1):1.0'\n",
    "\n",
    "r_len = length/(NReactors-1) \n",
    "r_vol = cross_section_area * r_len * porosity # gas volume\n",
    "\n",
    "outfile = open(output_filename,'w')\n",
    "writer = csv.writer(outfile)\n",
    "writer.writerow(['Distance (mm)', 'T (C)', 'P (atm)'] +\n",
    "                gas.species_names + surf.species_names + ['alpha'])\n",
    "\n",
    "# catalyst area in one reactor\n",
    "cat_area = cat_area_per_vol * r_vol\n",
    "\n",
    "# Not sure we need the velocity\n",
    "velocity = mass_flow_rate / (gas.density * cross_section_area)"
   ]
  },
  {
   "cell_type": "code",
   "execution_count": 185,
   "metadata": {},
   "outputs": [
    {
     "name": "stdout",
     "output_type": "stream",
     "text": [
      "\n",
      "  surface1:\n",
      "\n",
      "       temperature          673.15  K\n",
      "          pressure          101325  Pa\n",
      "           density     5.67815e-06  kg/m^3\n",
      "  mean mol. weight         195.798  amu\n",
      "\n",
      "                          1 kg            1 kmol\n",
      "                       -----------      ------------\n",
      "          enthalpy          -35624       -6.975e+06     J\n",
      "   internal energy          -35624       -6.975e+06     J\n",
      "           entropy          18.503             3623     J/K\n",
      "    Gibbs function          -48080       -9.414e+06     J\n",
      " heat capacity c_p          6.8717             1345     J/K\n",
      " heat capacity c_v          6.8717             1345     J/K\n",
      "\n",
      "                           X                 Y          Chem. Pot. / RT\n",
      "                     -------------     ------------     ------------\n",
      "              X(1)        0.96173         0.958217       -0.0390607\n",
      "            HX(22)      0.0130517        0.0130712         -10.1136\n",
      "            OX(23)    2.48773e-09      2.68193e-09          -47.256\n",
      "          CH3X(25)    3.69437e-12      3.96456e-12         -42.8485\n",
      "           HOX(26)    4.03309e-11      4.36868e-11         -57.3306\n",
      "          H2OX(27)    0.000437805      0.000476488         -67.4051\n",
      "          CO2X(28)    6.68358e-12      8.16145e-12         -107.059\n",
      "           OCX(29)      0.0247805         0.028235          -59.842\n",
      "            CX(30)    8.67938e-10       9.1801e-10          -12.625\n",
      "          CH2X(31)    1.71502e-13      1.83162e-13          -32.774\n",
      "           CHX(32)    9.96212e-08      1.05881e-07         -22.6995\n",
      "        CH3OX(222)    2.27949e-11      2.63246e-11         -85.6612\n",
      "     [   +6 minor]    3.71937e-16      4.31415e-16\n",
      "\n"
     ]
    },
    {
     "data": {
      "text/plain": [
       "array([9.61729945e-01, 1.30516840e-02, 2.48773451e-09, 3.69437322e-12,\n",
       "       4.03308610e-11, 4.37805113e-04, 6.68358202e-12, 2.47804628e-02,\n",
       "       8.67937504e-10, 1.71502397e-13, 9.96211593e-08, 3.78338219e-19,\n",
       "       3.00808631e-62, 1.12408783e-26, 8.75318620e-26, 1.17318989e-21,\n",
       "       2.27948620e-11, 3.71557846e-16])"
      ]
     },
     "execution_count": 185,
     "metadata": {},
     "output_type": "execute_result"
    },
    {
     "data": {
      "image/png": "[encoded data removed]",
      "text/plain": [
       "<Figure size 432x288 with 1 Axes>"
      ]
     },
     "metadata": {
      "needs_background": "light"
     },
     "output_type": "display_data"
    }
   ],
   "source": [
    "# To find the starting coverages, we run the gas to equilibrium,\n",
    "# (i.e mostly burned products)  then put that in steady state\n",
    "# with the surface.\n",
    "TPY = gas.TPY # store to restore\n",
    "gas.equilibrate('TP')\n",
    "r = ct.IdealGasReactor(gas, energy='off')\n",
    "r.volume = r_vol\n",
    "rsurf = ct.ReactorSurface(surf, r, A=cat_area)\n",
    "sim = ct.ReactorNet([r])\n",
    "plt.plot(sim.advance_to_steady_state(return_residuals=True))\n",
    "surf()\n",
    "starting_coverages = surf.coverages\n",
    "gas.TPY = TPY # restore\n",
    "del(r, rsurf)\n",
    "starting_coverages"
   ]
  },
  {
   "cell_type": "code",
   "execution_count": 186,
   "metadata": {},
   "outputs": [
    {
     "data": {
      "text/plain": [
       "array([-3.96828913e+09, -1.37171866e+08, -2.17470250e+08, -3.33798089e+08,\n",
       "       -3.79816843e+08, -3.87900854e+08, -4.00025249e+09, -4.00950738e+09,\n",
       "       -4.41071943e+09, -3.95919537e+09, -4.11486784e+09, -4.11576279e+09,\n",
       "       -4.12950446e+09, -3.85749383e+09, -4.17399071e+09, -3.72901753e+09,\n",
       "       -3.92058951e+09, -3.98174894e+09, -4.22158474e+09, -3.95795484e+09,\n",
       "       -3.97058655e+09, -4.07308717e+09, -4.01467491e+09, -3.81714550e+09,\n",
       "       -4.12481262e+09, -4.00084153e+09, -3.92993388e+09, -3.80930556e+09,\n",
       "       -3.91447255e+09, -3.90075216e+09, -3.98263987e+09, -4.13784735e+09,\n",
       "       -4.08492549e+09, -3.81240379e+09, -3.90428504e+09, -3.96567726e+09,\n",
       "       -4.01856721e+09, -4.00991976e+09, -4.12448309e+09])"
      ]
     },
     "execution_count": 186,
     "metadata": {},
     "output_type": "execute_result"
    }
   ],
   "source": [
    "gas.chemical_potentials"
   ]
  },
  {
   "cell_type": "code",
   "execution_count": 187,
   "metadata": {},
   "outputs": [
    {
     "data": {
      "text/plain": [
       "Text(0.5, 1.0, '∆G')"
      ]
     },
     "execution_count": 187,
     "metadata": {},
     "output_type": "execute_result"
    },
    {
     "data": {
      "image/png": "[encoded data removed]",
      "text/plain": [
       "<Figure size 432x288 with 1 Axes>"
      ]
     },
     "metadata": {
      "needs_background": "light"
     },
     "output_type": "display_data"
    }
   ],
   "source": [
    "plt.barh(np.arange(len(gas.delta_gibbs)),gas.delta_gibbs)\n",
    "plt.barh(len(gas.delta_gibbs)+np.arange(len(surf.delta_gibbs)),surf.delta_gibbs)\n",
    "plt.title(\"∆G\")"
   ]
  },
  {
   "cell_type": "code",
   "execution_count": 188,
   "metadata": {},
   "outputs": [
    {
     "data": {
      "text/plain": [
       "Text(0.5, 1.0, '∆H')"
      ]
     },
     "execution_count": 188,
     "metadata": {},
     "output_type": "execute_result"
    },
    {
     "data": {
      "image/png": "[encoded data removed]",
      "text/plain": [
       "<Figure size 432x288 with 1 Axes>"
      ]
     },
     "metadata": {
      "needs_background": "light"
     },
     "output_type": "display_data"
    }
   ],
   "source": [
    "plt.barh(np.arange(len(gas.delta_enthalpy)),gas.delta_enthalpy)\n",
    "plt.barh(len(gas.delta_enthalpy)+np.arange(len(surf.delta_enthalpy)),surf.delta_enthalpy)\n",
    "plt.title('∆H')"
   ]
  },
  {
   "cell_type": "code",
   "execution_count": 189,
   "metadata": {},
   "outputs": [
    {
     "data": {
      "text/plain": [
       "Text(0.5, 1.0, '∆S')"
      ]
     },
     "execution_count": 189,
     "metadata": {},
     "output_type": "execute_result"
    },
    {
     "data": {
      "image/png": "[encoded data removed]",
      "text/plain": [
       "<Figure size 432x288 with 1 Axes>"
      ]
     },
     "metadata": {
      "needs_background": "light"
     },
     "output_type": "display_data"
    }
   ],
   "source": [
    "plt.barh(np.arange(len(gas.delta_entropy)),gas.delta_entropy)\n",
    "plt.barh(len(gas.delta_entropy)+np.arange(len(surf.delta_entropy)),surf.delta_entropy)\n",
    "plt.title('∆S')"
   ]
  },
  {
   "cell_type": "code",
   "execution_count": 190,
   "metadata": {},
   "outputs": [],
   "source": [
    "# gas.equilibrate('TP')"
   ]
  },
  {
   "cell_type": "code",
   "execution_count": 191,
   "metadata": {},
   "outputs": [
    {
     "data": {
      "image/png": "[encoded data removed]",
      "text/plain": [
       "<Figure size 432x288 with 1 Axes>"
      ]
     },
     "metadata": {
      "needs_background": "light"
     },
     "output_type": "display_data"
    },
    {
     "data": {
      "image/png": "[encoded data removed]",
      "text/plain": [
       "<Figure size 432x288 with 1 Axes>"
      ]
     },
     "metadata": {
      "needs_background": "light"
     },
     "output_type": "display_data"
    },
    {
     "data": {
      "image/png": "[encoded data removed]",
      "text/plain": [
       "<Figure size 432x288 with 1 Axes>"
      ]
     },
     "metadata": {
      "needs_background": "light"
     },
     "output_type": "display_data"
    }
   ],
   "source": [
    "plt.barh(np.arange(len(gas.delta_gibbs)),gas.delta_gibbs)\n",
    "plt.barh(len(gas.delta_gibbs)+np.arange(len(surf.delta_gibbs)),surf.delta_gibbs)\n",
    "plt.title(\"∆G\")\n",
    "plt.show()\n",
    "plt.barh(np.arange(len(gas.delta_enthalpy)),gas.delta_enthalpy)\n",
    "plt.barh(len(gas.delta_enthalpy)+np.arange(len(surf.delta_enthalpy)),surf.delta_enthalpy)\n",
    "plt.title('∆H')\n",
    "plt.show()\n",
    "plt.barh(np.arange(len(gas.delta_entropy)),gas.delta_entropy)\n",
    "plt.barh(len(gas.delta_entropy)+np.arange(len(surf.delta_entropy)),surf.delta_entropy)\n",
    "plt.title('∆S')\n",
    "plt.show()"
   ]
  },
  {
   "cell_type": "code",
   "execution_count": 192,
   "metadata": {},
   "outputs": [
    {
     "data": {
      "text/plain": [
       "[<matplotlib.lines.Line2D at 0x2ab750f22ad0>]"
      ]
     },
     "execution_count": 192,
     "metadata": {},
     "output_type": "execute_result"
    },
    {
     "data": {
      "image/png": "[encoded data removed]",
      "text/plain": [
       "<Figure size 432x288 with 1 Axes>"
      ]
     },
     "metadata": {
      "needs_background": "light"
     },
     "output_type": "display_data"
    }
   ],
   "source": [
    "plt.plot(surf.concentrations, surf.chemical_potentials, 'o')"
   ]
  },
  {
   "cell_type": "code",
   "execution_count": 193,
   "metadata": {
    "scrolled": false
   },
   "outputs": [
    {
     "name": "stdout",
     "output_type": "stream",
     "text": [
      "\n",
      "Highest net rates of progress, gas\n",
      " 41 : H3N2O(193) + OH(20) <=> H4N2O2(2)                   -7e+06\n",
      " 40 : H3N2O(193) + OH(20) <=> H4N2O2(2)                   -7e+06\n",
      " 82 : HO2(36) + N2H3(99) <=> H4N2O2(2)                    -1e+02\n",
      "138 : H2NO3(244) + S(196) <=> H4N2O2(2) + HNO3(4)           -0.3\n",
      "122 : H2NO3(244) + S(196) <=> H4N2O2(2) + HNO3(4)           -0.3\n",
      "139 : NO2(92) + OH(20) (+M) <=> HNO3(4) (+M)              -0.002\n",
      " 84 : H(16) + S(196) <=> H4N2O2(2)                        -1e-05\n",
      "\n",
      "Highest net rates of progress, surface\n",
      "  0 : H2O(6) + X(1) <=> H2OX(27)                          -5e+06\n",
      "  1 : NH2OH(3) + X(1) <=> H3NOX(217)                       3e+05\n",
      "  3 : CH3OH(5) + X(1) <=> CH4OX(223)                       2e+05\n",
      "  2 : HNO3(4) + X(1) <=> HNO3X(220)                        1e+05\n",
      "  4 : H4N2O2(2) + X(1) <=> SX(214)                         5e+04\n",
      "  5 : H2(10) + 2 X(1) <=> 2 HX(22)                        -4e+04\n",
      " 10 : NH2OH(3) + 2 X(1) <=> H2NOX(216) + HX(22)            3e+01\n",
      "\n",
      "Highest forward rates of progress, gas\n",
      "160 : NH2OH(3) (+M) <=> NH2(82) + OH(20) (+M)              9e-09\n",
      " 21 : H2O(6) + M <=> H(16) + OH(20) + M                    4e-29\n",
      " 22 : 2 H2O(6) <=> H(16) + H2O(6) + OH(20)                 4e-29\n",
      "196 : H(16) + H2N2O(382) <=> H3N2O(193)                        0\n",
      " 72 : H(16) + NH2OH(3) <=> H2(10) + HNOH(94)                   0\n",
      " 70 : H2N2O(381) + HO2(36) <=> H3N2O(193) + O2(8)              0\n",
      " 69 : C2H5(17) + O2(8) <=> C2H4(21) + HO2(36)                  0\n",
      "\n",
      "Highest forward rates of progress, surface\n",
      "  0 : H2O(6) + X(1) <=> H2OX(27)                           8e+05\n",
      " 29 : CHX(32) + X(1) <=> CX(30) + HX(22)                   7e+05\n",
      "  1 : NH2OH(3) + X(1) <=> H3NOX(217)                       3e+05\n",
      "  3 : CH3OH(5) + X(1) <=> CH4OX(223)                       2e+05\n",
      "  2 : HNO3(4) + X(1) <=> HNO3X(220)                        1e+05\n",
      "  4 : H4N2O2(2) + X(1) <=> SX(214)                         5e+04\n",
      " 28 : CHX(32) + HX(22) <=> CH2X(31) + X(1)                 9e+03\n",
      "\n",
      "Highest reverse rates of progress, gas\n",
      " 41 : H3N2O(193) + OH(20) <=> H4N2O2(2)                    7e+06\n",
      " 40 : H3N2O(193) + OH(20) <=> H4N2O2(2)                    7e+06\n",
      " 82 : HO2(36) + N2H3(99) <=> H4N2O2(2)                     1e+02\n",
      "138 : H2NO3(244) + S(196) <=> H4N2O2(2) + HNO3(4)            0.3\n",
      "122 : H2NO3(244) + S(196) <=> H4N2O2(2) + HNO3(4)            0.3\n",
      "139 : NO2(92) + OH(20) (+M) <=> HNO3(4) (+M)               0.002\n",
      " 84 : H(16) + S(196) <=> H4N2O2(2)                         1e-05\n",
      "\n",
      "Highest reverse rates of progress, surface\n",
      "  0 : H2O(6) + X(1) <=> H2OX(27)                           5e+06\n",
      " 29 : CHX(32) + X(1) <=> CX(30) + HX(22)                   7e+05\n",
      "  5 : H2(10) + 2 X(1) <=> 2 HX(22)                         4e+04\n",
      " 28 : CHX(32) + HX(22) <=> CH2X(31) + X(1)                 9e+03\n",
      " 22 : CO2(9) + X(1) <=> CO2X(28)                               2\n",
      "  8 : H2O(6) + 2 X(1) <=> HOX(26) + HX(22)                     2\n",
      " 23 : CO(11) + X(1) <=> OCX(29)                                2\n",
      "\n",
      "Surface rates have been scaled by surface/volume ratio 2.8e+06 m2/m3\n",
      "So are on a similar basis of volume of reactor (though porosity not yet accounted for)\n",
      " kmol / m3 / s\n"
     ]
    }
   ],
   "source": [
    "def report_rates(n=8):\n",
    "    print(\"\\nHighest net rates of progress, gas\")\n",
    "    for i in np.argsort(abs(gas.net_rates_of_progress))[-1:-n:-1]: # top n in descending order\n",
    "        print(f\"{i:3d} : {gas.reaction_equation(i):48s}  {gas.net_rates_of_progress[i]:8.1g}\")\n",
    "    print(\"\\nHighest net rates of progress, surface\")\n",
    "    for i in np.argsort(abs(surf.net_rates_of_progress))[-1:-n:-1]: # top n in descending order\n",
    "        print(f\"{i:3d} : {surf.reaction_equation(i):48s}  {cat_area_per_vol*surf.net_rates_of_progress[i]:8.1g}\")\n",
    "    print(\"\\nHighest forward rates of progress, gas\")\n",
    "    for i in np.argsort(abs(gas.forward_rates_of_progress))[-1:-n:-1]: # top n in descending order\n",
    "        print(f\"{i:3d} : {gas.reaction_equation(i):48s}  {gas.forward_rates_of_progress[i]:8.1g}\")\n",
    "    print(\"\\nHighest forward rates of progress, surface\")\n",
    "    for i in np.argsort(abs(surf.forward_rates_of_progress))[-1:-n:-1]: # top n in descending order\n",
    "        print(f\"{i:3d} : {surf.reaction_equation(i):48s}  {cat_area_per_vol*surf.forward_rates_of_progress[i]:8.1g}\")\n",
    "    print(\"\\nHighest reverse rates of progress, gas\")\n",
    "    for i in np.argsort(abs(gas.reverse_rates_of_progress))[-1:-n:-1]: # top n in descending order\n",
    "        print(f\"{i:3d} : {gas.reaction_equation(i):48s}  {gas.reverse_rates_of_progress[i]:8.1g}\")\n",
    "    print(\"\\nHighest reverse rates of progress, surface\")\n",
    "    for i in np.argsort(abs(surf.reverse_rates_of_progress))[-1:-n:-1]: # top n in descending order\n",
    "        print(f\"{i:3d} : {surf.reaction_equation(i):48s}  {cat_area_per_vol*surf.reverse_rates_of_progress[i]:8.1g}\")\n",
    "\n",
    "    print(f\"\\nSurface rates have been scaled by surface/volume ratio {cat_area_per_vol:.1e} m2/m3\")\n",
    "    print(\"So are on a similar basis of volume of reactor (though porosity not yet accounted for)\")\n",
    "    print(\" kmol / m3 / s\")\n",
    "report_rates()"
   ]
  },
  {
   "cell_type": "code",
   "execution_count": 194,
   "metadata": {
    "scrolled": false
   },
   "outputs": [
    {
     "name": "stdout",
     "output_type": "stream",
     "text": [
      "\n",
      "Highest forward rate constants, gas\n",
      "135 : H2NO3(244) + HCO(18) <=> CH2O(13) + HNO3(4)        3.6e+11\n",
      "127 : H2NO3(244) + HCO(18) <=> CH2O(13) + HNO3(4)        3.6e+11\n",
      "102 : H2NO3(245) + HCO(18) <=> CH2O(13) + HNO3(4)        1.8e+11\n",
      "154 : C2H5(17) + NO2(92) <=> C2H4(21) + HONO(91)         1.4e+11\n",
      " 27 : HCO(18) + OH(20) <=> CO(11) + H2O(6)               1.1e+11\n",
      " 15 : H(16) + HCO(18) <=> CO(11) + H2(10)                1.1e+11\n",
      " 10 : C2H5(17) + H(16) (+M) <=> C2H6(12) (+M)            9.1e+10\n",
      "\n",
      "Highest forward rate constants, surface\n",
      " 28 : CHX(32) + HX(22) <=> CH2X(31) + X(1)               3.1e+21\n",
      " 27 : CH2X(31) + HX(22) <=> CH3X(25) + X(1)              3.1e+21\n",
      " 29 : CHX(32) + X(1) <=> CX(30) + HX(22)                 3.1e+21\n",
      " 13 : HX(22) + OX(23) <=> HOX(26) + X(1)                 1.7e+19\n",
      " 24 : CX(30) + OX(23) <=> OCX(29) + X(1)                 3.7e+18\n",
      " 26 : CO2X(28) + HX(22) <=> HOX(26) + OCX(29)            2.2e+17\n",
      " 21 : CH4(24) + HOX(26) + X(1) <=> CH3X(25) + H2OX(27)   4.7e+16\n",
      "\n",
      "Highest reverse rate constants, gas\n",
      "194 : H3N2O(193) + S(489) <=> H2N2O(382) + S(429)        3.7e+15\n",
      "116 : C2H5(17) + S(489) <=> C2H4(21) + S(429)            8.0e+14\n",
      "117 : H3N2O(193) + S(489) <=> NNDO(385) + S(429)         1.3e+14\n",
      "163 : 2 NH2(82) <=> H(16) + N2H3(99)                     1.5e+13\n",
      "131 : H2NO3(244) + S(489) <=> HNO3(4) + S(429)           7.4e+12\n",
      " 94 : NNDO(385) + OH(20) <=> S(196)                      3.4e+11\n",
      " 22 : 2 H2O(6) <=> H(16) + H2O(6) + OH(20)               2.7e+11\n",
      "\n",
      "Highest reverse rate constants, surface\n",
      " 29 : CHX(32) + X(1) <=> CX(30) + HX(22)                 2.6e+25\n",
      " 28 : CHX(32) + HX(22) <=> CH2X(31) + X(1)               2.4e+25\n",
      " 14 : H2OX(27) + OX(23) <=> 2 HOX(26)                    3.0e+24\n",
      "  8 : H2O(6) + 2 X(1) <=> HOX(26) + HX(22)               1.6e+21\n",
      " 13 : HX(22) + OX(23) <=> HOX(26) + X(1)                 1.4e+19\n",
      " 27 : CH2X(31) + HX(22) <=> CH3X(25) + X(1)              1.9e+18\n",
      " 20 : CH4(24) + OX(23) + X(1) <=> CH3X(25) + HOX(26)     9.3e+17\n",
      "Units are a combination of kmol, m^3 and s, that depend on the rate expression for the reaction.\n"
     ]
    }
   ],
   "source": [
    "def report_rate_constants(n=8):\n",
    "    print(\"\\nHighest forward rate constants, gas\")\n",
    "    for i in np.argsort(abs(gas.forward_rate_constants))[-1:-n:-1]: # top n in descending order\n",
    "        print(f\"{i:3d} : {gas.reaction_equation(i):48s}  {gas.forward_rate_constants[i]:8.1e}\")\n",
    "    print(\"\\nHighest forward rate constants, surface\")\n",
    "    for i in np.argsort(abs(surf.forward_rate_constants))[-1:-n:-1]: # top n in descending order\n",
    "        print(f\"{i:3d} : {surf.reaction_equation(i):48s}  {surf.forward_rate_constants[i]:8.1e}\")\n",
    "    print(\"\\nHighest reverse rate constants, gas\")\n",
    "    for i in np.argsort(abs(gas.reverse_rate_constants))[-1:-n:-1]: # top n in descending order\n",
    "        print(f\"{i:3d} : {gas.reaction_equation(i):48s}  {gas.reverse_rate_constants[i]:8.1e}\")\n",
    "    print(\"\\nHighest reverse rate constants, surface\")\n",
    "    for i in np.argsort(abs(surf.reverse_rate_constants))[-1:-n:-1]: # top n in descending order\n",
    "        print(f\"{i:3d} : {surf.reaction_equation(i):48s}  {surf.reverse_rate_constants[i]:8.1e}\")\n",
    "\n",
    "    print(\"Units are a combination of kmol, m^3 and s, that depend on the rate expression for the reaction.\")\n",
    "report_rate_constants()"
   ]
  },
  {
   "cell_type": "code",
   "execution_count": 195,
   "metadata": {
    "scrolled": false
   },
   "outputs": [
    {
     "name": "stdout",
     "output_type": "stream",
     "text": [
      "    distance(mm)     H4N2O2(2)   NH2OH(3)   HNO3(4)  CH3OH(5)  alpha\n",
      "      0.000000    0.000001    0.321722    0.187323   0.197568  8.2e+11\n",
      "      0.055000    0.000000    0.330587    0.185579   0.197216  4.9e+11\n",
      "      0.110000    0.000000    0.332617    0.183570   0.196801  2.2e+11\n",
      "      0.165000    0.000000    0.332967    0.181380   0.196365  1.2e+11\n",
      "      0.220000    0.000000    0.332353    0.179087   0.195922  6.7e+10\n",
      "      0.275000    0.000000    0.331151    0.176747   0.195482  3.9e+10\n",
      "      0.330000    0.000000    0.329579    0.174397   0.195051  2.1e+10\n",
      "      0.385000    0.000000    0.327772    0.172064   0.194633  8.7e+09\n",
      "      0.440000    0.000000    0.325818    0.169768   0.194229  -4.1e+08\n",
      "      0.495000    0.000000    0.323780    0.167521   0.193839  -7.6e+09\n",
      "      0.550000    0.000000    0.321701    0.165332   0.193464  -1.3e+10\n",
      "      0.605000    0.000000    0.319612    0.163207   0.193104  -1.8e+10\n",
      "      0.660000    0.000000    0.317536    0.161148   0.192758  -2.2e+10\n",
      "      0.715000    0.000000    0.315489    0.159158   0.192425  -2.6e+10\n",
      "      0.770000    0.000000    0.313484    0.157235   0.192106  -2.9e+10\n",
      "      0.825000    0.000000    0.311527    0.155379   0.191798  -3.1e+10\n",
      "      0.880000    0.000000    0.309624    0.153587   0.191503  -3.4e+10\n",
      "      0.935000    0.000000    0.307779    0.151858   0.191218  -3.5e+10\n",
      "      0.990000    0.000000    0.305993    0.150189   0.190943  -3.7e+10\n",
      "      1.045000    0.000000    0.304266    0.148576   0.190679  -3.8e+10\n",
      "      1.100000    0.000000    0.302598    0.147017   0.190423  -3.9e+10\n",
      "      1.155000    0.000000    0.300986    0.145509   0.190176  -4.0e+10\n",
      "      1.210000    0.000000    0.299430    0.144050   0.189937  -4.1e+10\n",
      "      1.265000    0.000000    0.297926    0.142637   0.189705  -4.2e+10\n",
      "      1.320000    0.000000    0.296473    0.141267   0.189481  -4.2e+10\n",
      "      1.375000    0.000000    0.295068    0.139938   0.189264  -4.3e+10\n",
      "      1.430000    0.000000    0.293709    0.138648   0.189052  -4.3e+10\n",
      "      1.485000    0.000000    0.292393    0.137394   0.188847  -4.3e+10\n",
      "      1.540000    0.000000    0.291118    0.136176   0.188648  -4.4e+10\n",
      "      1.595000    0.000000    0.289882    0.134991   0.188454  -4.4e+10\n",
      "      1.650000    0.000000    0.288682    0.133837   0.188265  -4.4e+10\n",
      "      1.705000    0.000000    0.287518    0.132713   0.188082  -4.5e+10\n",
      "      1.760000    0.000000    0.286387    0.131618   0.187903  -4.5e+10\n",
      "      1.815000    0.000000    0.285287    0.130550   0.187728  -4.5e+10\n",
      "      1.870000    0.000000    0.284217    0.129508   0.187557  -4.6e+10\n",
      "      1.925000    0.000000    0.283176    0.128491   0.187391  -4.6e+10\n",
      "      1.980000    0.000000    0.282161    0.127497   0.187228  -4.6e+10\n",
      "      2.035000    0.000000    0.281173    0.126526   0.187070  -4.6e+10\n",
      "      2.090000    0.000000    0.280208    0.125577   0.186914  -4.7e+10\n",
      "      2.145000    0.000000    0.279268    0.124649   0.186763  -4.7e+10\n",
      "      2.200000    0.000000    0.278349    0.123741   0.186614  -4.7e+10\n",
      "      2.255000    0.000000    0.277452    0.122852   0.186469  -4.7e+10\n",
      "      2.310000    0.000000    0.276575    0.121981   0.186326  -4.7e+10\n",
      "      2.365000    0.000000    0.275718    0.121128   0.186187  -4.8e+10\n",
      "      2.420000    0.000000    0.274880    0.120292   0.186050  -4.8e+10\n",
      "      2.475000    0.000000    0.274060    0.119473   0.185916  -4.8e+10\n",
      "      2.530000    0.000000    0.273257    0.118670   0.185784  -4.8e+10\n",
      "      2.585000    0.000000    0.272471    0.117881   0.185655  -4.9e+10\n",
      "      2.640000    0.000000    0.271701    0.117108   0.185529  -4.9e+10\n",
      "      2.695000    0.000000    0.270947    0.116349   0.185405  -4.9e+10\n",
      "      2.750000    0.000000    0.270207    0.115603   0.185283  -4.9e+10\n",
      "      2.805000    0.000000    0.269481    0.114871   0.185163  -4.9e+10\n",
      "      2.860000    0.000000    0.268770    0.114152   0.185045  -4.9e+10\n",
      "      2.915000    0.000000    0.268072    0.113445   0.184929  -5.0e+10\n",
      "      2.970000    0.000000    0.267386    0.112751   0.184816  -5.0e+10\n",
      "      3.025000    0.000000    0.266713    0.112068   0.184704  -5.0e+10\n",
      "      3.080000    0.000000    0.266053    0.111396   0.184594  -5.0e+10\n",
      "      3.135000    0.000000    0.265403    0.110735   0.184486  -5.0e+10\n",
      "      3.190000    0.000000    0.264766    0.110085   0.184379  -5.0e+10\n",
      "      3.245000    0.000000    0.264139    0.109446   0.184275  -5.1e+10\n",
      "      3.300000    0.000000    0.263522    0.108816   0.184172  -5.1e+10\n",
      "      3.355000    0.000000    0.262916    0.108196   0.184070  -5.1e+10\n",
      "      3.410000    0.000000    0.262320    0.107586   0.183970  -5.1e+10\n",
      "      3.465000    0.000000    0.261733    0.106984   0.183872  -5.1e+10\n",
      "      3.520000    0.000000    0.261156    0.106392   0.183775  -5.1e+10\n",
      "      3.575000    0.000000    0.260588    0.105809   0.183679  -5.2e+10\n",
      "      3.630000    0.000000    0.260029    0.105234   0.183585  -5.2e+10\n",
      "      3.685000    0.000000    0.259478    0.104667   0.183492  -5.2e+10\n",
      "      3.740000    0.000000    0.258936    0.104108   0.183401  -5.2e+10\n",
      "      3.795000    0.000000    0.258401    0.103557   0.183310  -5.2e+10\n",
      "      3.850000    0.000000    0.257875    0.103014   0.183221  -5.2e+10\n",
      "      3.905000    0.000000    0.257356    0.102478   0.183134  -5.2e+10\n",
      "      3.960000    0.000000    0.256845    0.101949   0.183047  -5.3e+10\n",
      "      4.015000    0.000000    0.256341    0.101427   0.182962  -5.3e+10\n",
      "      4.070000    0.000000    0.255844    0.100913   0.182877  -5.3e+10\n",
      "      4.125000    0.000000    0.255355    0.100405   0.182794  -5.3e+10\n",
      "      4.180000    0.000000    0.254871    0.099904   0.182712  -5.3e+10\n",
      "      4.235000    0.000000    0.254395    0.099409   0.182631  -5.3e+10\n",
      "      4.290000    0.000000    0.253925    0.098920   0.182551  -5.3e+10\n",
      "      4.345000    0.000000    0.253461    0.098437   0.182472  -5.3e+10\n",
      "      4.400000    0.000000    0.253003    0.097961   0.182394  -5.4e+10\n",
      "      4.455000    0.000000    0.252551    0.097490   0.182317  -5.4e+10\n",
      "      4.510000    0.000000    0.252105    0.097025   0.182240  -5.4e+10\n",
      "      4.565000    0.000000    0.251665    0.096566   0.182165  -5.4e+10\n",
      "      4.620000    0.000000    0.251230    0.096112   0.182091  -5.4e+10\n",
      "      4.675000    0.000000    0.250801    0.095663   0.182017  -5.4e+10\n",
      "      4.730000    0.000000    0.250377    0.095220   0.181944  -5.4e+10\n",
      "      4.785000    0.000000    0.249958    0.094782   0.181873  -5.4e+10\n",
      "      4.840000    0.000000    0.249544    0.094349   0.181802  -5.4e+10\n",
      "      4.895000    0.000000    0.249135    0.093920   0.181731  -5.5e+10\n",
      "      4.950000    0.000000    0.248731    0.093497   0.181662  -5.5e+10\n",
      "      5.005000    0.000000    0.248332    0.093078   0.181593  -5.5e+10\n",
      "      5.060000    0.000000    0.247937    0.092664   0.181526  -5.5e+10\n",
      "      5.115000    0.000000    0.247547    0.092255   0.181458  -5.5e+10\n",
      "      5.170000    0.000000    0.247162    0.091850   0.181392  -5.5e+10\n",
      "      5.225000    0.000000    0.246781    0.091449   0.181326  -5.5e+10\n",
      "      5.280000    0.000000    0.246404    0.091052   0.181261  -5.5e+10\n",
      "      5.335000    0.000000    0.246031    0.090660   0.181197  -5.5e+10\n",
      "      5.390000    0.000000    0.245662    0.090272   0.181133  -5.6e+10\n",
      "      5.445000    0.000000    0.245298    0.089888   0.181070  -5.6e+10\n",
      "      5.500000    0.000000    0.244937    0.089508   0.181008  -5.6e+10\n",
      "      5.555000    0.000000    0.244581    0.089132   0.180946  -5.6e+10\n",
      "      5.610000    0.000000    0.244228    0.088759   0.180885  -5.6e+10\n",
      "      5.665000    0.000000    0.243878    0.088390   0.180825  -5.6e+10\n",
      "      5.720000    0.000000    0.243533    0.088025   0.180765  -5.6e+10\n",
      "      5.775000    0.000000    0.243191    0.087664   0.180706  -5.6e+10\n",
      "      5.830000    0.000000    0.242852    0.087306   0.180647  -5.6e+10\n",
      "      5.885000    0.000000    0.242517    0.086952   0.180589  -5.6e+10\n",
      "      5.940000    0.000000    0.242186    0.086601   0.180531  -5.6e+10\n",
      "      5.995000    0.000000    0.241857    0.086253   0.180474  -5.7e+10\n",
      "      6.050000    0.000000    0.241532    0.085909   0.180418  -5.7e+10\n",
      "      6.105000    0.000000    0.241210    0.085568   0.180362  -5.7e+10\n",
      "      6.160000    0.000000    0.240892    0.085230   0.180307  -5.7e+10\n"
     ]
    },
    {
     "name": "stdout",
     "output_type": "stream",
     "text": [
      "      6.215000    0.000000    0.240576    0.084895   0.180252  -5.7e+10\n",
      "      6.270000    0.000000    0.240264    0.084564   0.180197  -5.7e+10\n",
      "      6.325000    0.000000    0.239954    0.084235   0.180143  -5.7e+10\n",
      "      6.380000    0.000000    0.239648    0.083910   0.180090  -5.7e+10\n",
      "      6.435000    0.000000    0.239344    0.083587   0.180037  -5.7e+10\n",
      "      6.490000    0.000000    0.239043    0.083267   0.179985  -5.7e+10\n",
      "      6.545000    0.000000    0.238745    0.082950   0.179933  -5.7e+10\n",
      "      6.600000    0.000000    0.238450    0.082636   0.179881  -5.8e+10\n",
      "      6.655000    0.000000    0.238157    0.082325   0.179830  -5.8e+10\n",
      "      6.710000    0.000000    0.237867    0.082016   0.179779  -5.8e+10\n",
      "      6.765000    0.000000    0.237580    0.081711   0.179729  -5.8e+10\n",
      "      6.820000    0.000000    0.237295    0.081407   0.179679  -5.8e+10\n",
      "      6.875000    0.000000    0.237013    0.081107   0.179630  -5.8e+10\n",
      "      6.930000    0.000000    0.236733    0.080808   0.179581  -5.8e+10\n",
      "      6.985000    0.000000    0.236456    0.080513   0.179533  -5.8e+10\n",
      "      7.040000    0.000000    0.236181    0.080220   0.179485  -5.8e+10\n",
      "      7.095000    0.000000    0.235909    0.079929   0.179437  -5.8e+10\n",
      "      7.150000    0.000000    0.235638    0.079641   0.179390  -5.8e+10\n",
      "      7.205000    0.000000    0.235371    0.079355   0.179343  -5.9e+10\n",
      "      7.260000    0.000000    0.235105    0.079071   0.179296  -5.9e+10\n",
      "      7.315000    0.000000    0.234842    0.078790   0.179250  -5.9e+10\n",
      "      7.370000    0.000000    0.234581    0.078511   0.179204  -5.9e+10\n",
      "      7.425000    0.000000    0.234322    0.078234   0.179159  -5.9e+10\n",
      "      7.480000    0.000000    0.234065    0.077959   0.179114  -5.9e+10\n",
      "      7.535000    0.000000    0.233810    0.077687   0.179069  -5.9e+10\n",
      "      7.590000    0.000000    0.233558    0.077417   0.179025  -5.9e+10\n",
      "      7.645000    0.000000    0.233307    0.077149   0.178981  -5.9e+10\n",
      "      7.700000    0.000000    0.233059    0.076882   0.178937  -5.9e+10\n",
      "      7.755000    0.000000    0.232812    0.076618   0.178894  -5.9e+10\n",
      "      7.810000    0.000000    0.232567    0.076356   0.178851  -5.9e+10\n",
      "      7.865000    0.000000    0.232325    0.076096   0.178808  -5.9e+10\n",
      "      7.920000    0.000000    0.232084    0.075838   0.178766  -6.0e+10\n",
      "      7.975000    0.000000    0.231845    0.075582   0.178724  -6.0e+10\n",
      "      8.030000    0.000000    0.231608    0.075328   0.178682  -6.0e+10\n",
      "      8.085000    0.000000    0.231373    0.075076   0.178640  -6.0e+10\n",
      "      8.140000    0.000000    0.231139    0.074826   0.178599  -6.0e+10\n",
      "      8.195000    0.000000    0.230908    0.074577   0.178559  -6.0e+10\n",
      "      8.250000    0.000000    0.230678    0.074330   0.178518  -6.0e+10\n",
      "      8.305000    0.000000    0.230450    0.074086   0.178478  -6.0e+10\n",
      "      8.360000    0.000000    0.230223    0.073842   0.178438  -6.0e+10\n",
      "      8.415000    0.000000    0.229999    0.073601   0.178398  -6.0e+10\n",
      "      8.470000    0.000000    0.229776    0.073361   0.178359  -6.0e+10\n",
      "      8.525000    0.000000    0.229554    0.073124   0.178320  -6.0e+10\n",
      "      8.580000    0.000000    0.229334    0.072887   0.178281  -6.0e+10\n",
      "      8.635000    0.000000    0.229116    0.072653   0.178243  -6.1e+10\n",
      "      8.690000    0.000000    0.228900    0.072420   0.178204  -6.1e+10\n",
      "      8.745000    0.000000    0.228684    0.072189   0.178166  -6.1e+10\n",
      "      8.800000    0.000000    0.228471    0.071959   0.178129  -6.1e+10\n",
      "      8.855000    0.000000    0.228259    0.071731   0.178091  -6.1e+10\n",
      "      8.910000    0.000000    0.228048    0.071504   0.178054  -6.1e+10\n",
      "      8.965000    0.000000    0.227839    0.071279   0.178017  -6.1e+10\n",
      "      9.020000    0.000000    0.227632    0.071056   0.177980  -6.1e+10\n",
      "      9.075000    0.000000    0.227426    0.070834   0.177944  -6.1e+10\n",
      "      9.130000    0.000000    0.227221    0.070613   0.177908  -6.1e+10\n",
      "      9.185000    0.000000    0.227018    0.070395   0.177872  -6.1e+10\n",
      "      9.240000    0.000000    0.226816    0.070177   0.177836  -6.1e+10\n",
      "      9.295000    0.000000    0.226615    0.069961   0.177801  -6.1e+10\n",
      "      9.350000    0.000000    0.226416    0.069746   0.177765  -6.2e+10\n",
      "      9.405000    0.000000    0.226218    0.069533   0.177730  -6.2e+10\n",
      "      9.460000    0.000000    0.226022    0.069321   0.177696  -6.2e+10\n",
      "      9.515000    0.000000    0.225827    0.069111   0.177661  -6.2e+10\n",
      "      9.570000    0.000000    0.225633    0.068902   0.177627  -6.2e+10\n",
      "      9.625000    0.000000    0.225440    0.068694   0.177593  -6.2e+10\n",
      "      9.680000    0.000000    0.225249    0.068488   0.177559  -6.2e+10\n",
      "      9.735000    0.000000    0.225059    0.068283   0.177525  -6.2e+10\n",
      "      9.790000    0.000000    0.224870    0.068079   0.177492  -6.2e+10\n",
      "      9.845000    0.000000    0.224682    0.067876   0.177458  -6.2e+10\n",
      "      9.900000    0.000000    0.224496    0.067675   0.177425  -6.2e+10\n",
      "      9.955000    0.000000    0.224311    0.067475   0.177392  -6.2e+10\n",
      "     10.010000    0.000000    0.224127    0.067277   0.177360  -6.2e+10\n",
      "     10.065000    0.000000    0.223944    0.067079   0.177327  -6.2e+10\n",
      "     10.120000    0.000000    0.223762    0.066883   0.177295  -6.3e+10\n",
      "     10.175000    0.000000    0.223582    0.066688   0.177263  -6.4e+10\n",
      "     10.230000    0.000000    0.223402    0.066494   0.177231  -6.3e+10\n",
      "     10.285000    0.000000    0.223224    0.066302   0.177200  -6.3e+10\n",
      "     10.340000    0.000000    0.223047    0.066110   0.177168  -6.3e+10\n",
      "     10.395000    0.000000    0.222871    0.065920   0.177137  -6.3e+10\n",
      "     10.450000    0.000000    0.222696    0.065731   0.177106  -6.3e+10\n",
      "     10.505000    0.000000    0.222522    0.065543   0.177075  -6.3e+10\n",
      "     10.560000    0.000000    0.222349    0.065356   0.177044  -6.3e+10\n",
      "     10.615000    0.000000    0.222177    0.065170   0.177014  -6.3e+10\n",
      "     10.670000    0.000000    0.222006    0.064985   0.176983  -6.3e+10\n",
      "     10.725000    0.000000    0.221837    0.064802   0.176953  -6.3e+10\n",
      "     10.780000    0.000000    0.221668    0.064619   0.176923  -6.3e+10\n",
      "     10.835000    0.000000    0.221500    0.064438   0.176893  -6.3e+10\n",
      "     10.890000    0.000000    0.221333    0.064257   0.176864  -6.4e+10\n",
      "     10.945000    0.000000    0.221168    0.064078   0.176834  -6.4e+10\n",
      "     11.000000    0.000000    0.221003    0.063900   0.176805  -6.4e+10\n",
      "Results saved to 'surf_pfr_output.csv'\n"
     ]
    }
   ],
   "source": [
    "# The plug flow reactor is represented by a linear chain of zero-dimensional\n",
    "# reactors. The gas at the inlet to the first one has the specified inlet\n",
    "# composition, and for all others the inlet composition is fixed at the\n",
    "# composition of the reactor immediately upstream. Since in a PFR model there\n",
    "# is no diffusion, the upstream reactors are not affected by any downstream\n",
    "# reactors, and therefore the problem may be solved by simply marching from\n",
    "# the first to last reactor, integrating each one to steady state.\n",
    "\n",
    "TDY = gas.TDY\n",
    "cov = surf.coverages\n",
    "\n",
    "# create a new reactor\n",
    "gas.TDY = TDY\n",
    "r = ct.IdealGasReactor(gas, energy='on')\n",
    "r.volume = r_vol\n",
    "\n",
    "# create a reservoir to represent the reactor immediately upstream. Note\n",
    "# that the gas object is set already to the state of the upstream reactor\n",
    "upstream = ct.Reservoir(gas, name='upstream')\n",
    "\n",
    "# create a reservoir for the reactor to exhaust into. The composition of\n",
    "# this reservoir is irrelevant.\n",
    "downstream = ct.Reservoir(gas, name='downstream')\n",
    "\n",
    "# Add the reacting surface to the reactor. The area is set to the desired\n",
    "# catalyst area in the reactor.\n",
    "rsurf = ct.ReactorSurface(surf, r, A=cat_area)\n",
    "\n",
    "# The mass flow rate into the reactor will be fixed by using a\n",
    "# MassFlowController object.\n",
    "m = ct.MassFlowController(upstream, r, mdot=mass_flow_rate)\n",
    "\n",
    "# We need an outlet to the downstream reservoir. This will determine the\n",
    "# pressure in the reactor. The value of K will only affect the transient\n",
    "# pressure difference.\n",
    "v = ct.PressureController(r, downstream, master=m, K=1e-5)\n",
    "\n",
    "sim = ct.ReactorNet([r])\n",
    "sim.max_err_test_fails = 24\n",
    "\n",
    "# set relative and absolute tolerances on the simulation\n",
    "sim.rtol = 1.0e-11\n",
    "sim.atol = 1.0e-20\n",
    "\n",
    "sim.verbose = False\n",
    "\n",
    "# surf.set_multiplier(0.)  # turn off surface reactions\n",
    "# surf.set_multiplier(1e6)  # make surface reactions a million times faster\n",
    "\n",
    "\n",
    "print('    distance(mm)     H4N2O2(2)   NH2OH(3)   HNO3(4)  CH3OH(5)  alpha')\n",
    "for n in range(NReactors):\n",
    "    # Set the state of the reservoir to match that of the previous reactor\n",
    "    gas.TDY = TDY = r.thermo.TDY\n",
    "\n",
    "    upstream.syncState()\n",
    "    sim.reinitialize()\n",
    "    try:\n",
    "#         the default is residual_threshold = sim.rtol*10\n",
    "#         sim.advance_to_steady_state(residual_threshold = sim.rtol*1e3)\n",
    "        sim.advance_to_steady_state()\n",
    "\n",
    "    except ct.CanteraError:\n",
    "        t = sim.time\n",
    "        sim.set_initial_time(0)\n",
    "        gas.TDY = TDY\n",
    "        r.syncState()\n",
    "        sim.reinitialize()\n",
    "        print(f\"Couldn't reach {t:.1g} s so going to {0.1*t:.1g} s\")\n",
    "        sim.advance(0.1*t)\n",
    "        report_rates()\n",
    "        report_rate_constants()\n",
    " \n",
    "    dist = n * r_len * 1.0e3   # distance in mm\n",
    "        \n",
    "    gasHeat = np.dot(gas.net_rates_of_progress, gas.delta_enthalpy) # heat evolved by gas phase reaction\n",
    "    surfHeat = np.dot(surf.net_rates_of_progress, surf.delta_enthalpy) # heat evolved by surf phase reaction \n",
    "    alpha = gasHeat/surfHeat #ratio of gas heat evolved to surface heat evolved.\n",
    "\n",
    "    if not n % 10:\n",
    "        print('    {:10f}  {:10f}  {:10f}  {:10f} {:10f}  {:5.1e}'.format(dist, *gas['H4N2O2(2)','NH2OH(3)','HNO3(4)','CH3OH(5)'].X, alpha ))\n",
    "\n",
    "    # write the gas mole fractions and surface coverages vs. distance\n",
    "    writer.writerow([dist, r.T - 273.15, r.thermo.P/ct.one_atm] +\n",
    "                    list(gas.X) + list(surf.coverages) + [alpha])\n",
    "    \n",
    "    #report_rates()\n",
    "    #report_rate_constants()\n",
    "\n",
    "outfile.close()\n",
    "print(\"Results saved to '{0}'\".format(output_filename))"
   ]
  },
  {
   "cell_type": "code",
   "execution_count": 56,
   "metadata": {},
   "outputs": [
    {
     "data": {
      "text/plain": [
       "1483.0533778486179"
      ]
     },
     "execution_count": 56,
     "metadata": {},
     "output_type": "execute_result"
    }
   ],
   "source": [
    "sim.time"
   ]
  },
  {
   "cell_type": "code",
   "execution_count": 74,
   "metadata": {},
   "outputs": [
    {
     "data": {
      "text/plain": [
       "673.1499999853612"
      ]
     },
     "execution_count": 74,
     "metadata": {},
     "output_type": "execute_result"
    }
   ],
   "source": [
    "gas.TDY = TDY\n",
    "r.syncState()\n",
    "r.thermo.T"
   ]
  },
  {
   "cell_type": "code",
   "execution_count": 75,
   "metadata": {},
   "outputs": [
    {
     "data": {
      "text/plain": [
       "array([0., 0., 0., 0., 0., 0., 0., 0., 0., 0., 0., 0., 0., 0., 0., 0., 0.,\n",
       "       0., 0., 0., 0., 0., 0., 0., 0., 0., 0., 0., 0., 0., 0., 0., 0., 0.,\n",
       "       0., 0., 0., 0., 0.])"
      ]
     },
     "execution_count": 75,
     "metadata": {},
     "output_type": "execute_result"
    }
   ],
   "source": [
    "r.thermo.X - gas.X"
   ]
  },
  {
   "cell_type": "code",
   "execution_count": 76,
   "metadata": {},
   "outputs": [
    {
     "data": {
      "text/plain": [
       "array([-4.95437025e-15, -1.02511373e-38, -1.09673807e-63, -3.67041202e-26,\n",
       "       -6.07500482e-76, -1.47383733e-19,  1.10831876e-28, -3.35993116e-28,\n",
       "        3.53839432e-22,  4.09873251e-32, -6.33430696e-44,  5.24265578e-44,\n",
       "        3.77879400e-46, -4.62057920e-25,  6.22349624e-28, -2.09189696e-29,\n",
       "       -3.89752557e-42,  3.56793569e-32, -6.20502687e-56, -7.84459692e-24,\n",
       "       -2.40449031e-28, -1.23127505e-26, -1.74997007e-18, -3.32375729e-18,\n",
       "       -2.63197919e-25,  1.83024999e-25, -3.63500643e-22, -1.95876369e-21,\n",
       "        3.01841885e-16, -8.38218384e-15, -6.13923111e-26])"
      ]
     },
     "execution_count": 76,
     "metadata": {},
     "output_type": "execute_result"
    }
   ],
   "source": [
    "rsurf.kinetics.net_rates_of_progress"
   ]
  },
  {
   "cell_type": "code",
   "execution_count": 77,
   "metadata": {},
   "outputs": [
    {
     "data": {
      "text/plain": [
       "array([-4.95437025e-15, -1.02511373e-38, -1.09673807e-63, -3.67041202e-26,\n",
       "       -6.07500482e-76, -1.47383733e-19,  1.10831876e-28, -3.35993116e-28,\n",
       "        3.53839432e-22,  4.09873251e-32, -6.33430696e-44,  5.24265578e-44,\n",
       "        3.77879400e-46, -4.62057920e-25,  6.22349624e-28, -2.09189696e-29,\n",
       "       -3.89752557e-42,  3.56793569e-32, -6.20502687e-56, -7.84459692e-24,\n",
       "       -2.40449031e-28, -1.23127505e-26, -1.74997007e-18, -3.32375729e-18,\n",
       "       -2.63197919e-25,  1.83024999e-25, -3.63500643e-22, -1.95876369e-21,\n",
       "        3.01841885e-16, -8.38218384e-15, -6.13923111e-26])"
      ]
     },
     "execution_count": 77,
     "metadata": {},
     "output_type": "execute_result"
    }
   ],
   "source": [
    "surf.net_rates_of_progress"
   ]
  },
  {
   "cell_type": "code",
   "execution_count": 78,
   "metadata": {},
   "outputs": [
    {
     "data": {
      "text/plain": [
       "(673.1499999853612,\n",
       " 0.3789926183318426,\n",
       " array([0.00000000e+00, 2.50964491e-60, 4.78372835e-23, 7.91799295e-48,\n",
       "        1.56758688e-10, 5.13546068e-01, 2.71426572e-01, 1.70188373e-31,\n",
       "        1.89772809e-01, 8.58941822e-03, 1.45321011e-03, 1.88955609e-08,\n",
       "        1.15243526e-10, 3.61558335e-15, 2.95635400e-13, 8.04293504e-17,\n",
       "        1.77926093e-19, 5.18674256e-18, 7.63860254e-13, 7.24474389e-19,\n",
       "        1.76924619e-11, 1.52119032e-02, 3.25131877e-35, 1.83612605e-18,\n",
       "        4.61370804e-32, 1.47338920e-37, 1.90262754e-30, 1.82613874e-28,\n",
       "        3.67650487e-41, 1.42492174e-53, 8.80879644e-57, 4.35613736e-56,\n",
       "        3.40868884e-60, 4.72109772e-60, 7.92204455e-38, 4.59849776e-33,\n",
       "        3.30092325e-37, 8.61576902e-59, 8.94039209e-46]))"
      ]
     },
     "execution_count": 78,
     "metadata": {},
     "output_type": "execute_result"
    }
   ],
   "source": [
    "gas.TDY"
   ]
  },
  {
   "cell_type": "code",
   "execution_count": 79,
   "metadata": {},
   "outputs": [
    {
     "data": {
      "text/plain": [
       "(673.1499999853612,\n",
       " 0.3789926183318426,\n",
       " array([0.00000000e+00, 2.50964491e-60, 4.78372835e-23, 7.91799295e-48,\n",
       "        1.56758688e-10, 5.13546068e-01, 2.71426572e-01, 1.70188373e-31,\n",
       "        1.89772809e-01, 8.58941822e-03, 1.45321011e-03, 1.88955609e-08,\n",
       "        1.15243526e-10, 3.61558335e-15, 2.95635400e-13, 8.04293504e-17,\n",
       "        1.77926093e-19, 5.18674256e-18, 7.63860254e-13, 7.24474389e-19,\n",
       "        1.76924619e-11, 1.52119032e-02, 3.25131877e-35, 1.83612605e-18,\n",
       "        4.61370804e-32, 1.47338920e-37, 1.90262754e-30, 1.82613874e-28,\n",
       "        3.67650487e-41, 1.42492174e-53, 8.80879644e-57, 4.35613736e-56,\n",
       "        3.40868884e-60, 4.72109772e-60, 7.92204455e-38, 4.59849776e-33,\n",
       "        3.30092325e-37, 8.61576902e-59, 8.94039209e-46]))"
      ]
     },
     "execution_count": 79,
     "metadata": {},
     "output_type": "execute_result"
    }
   ],
   "source": [
    "r.thermo.TDY"
   ]
  },
  {
   "cell_type": "code",
   "execution_count": 80,
   "metadata": {},
   "outputs": [
    {
     "name": "stdout",
     "output_type": "stream",
     "text": [
      "\n",
      "Highest forward rate constants, gas\n",
      "135 : H2NO3(244) + HCO(18) <=> CH2O(13) + HNO3(4)        3.6e+11\n",
      "127 : H2NO3(244) + HCO(18) <=> CH2O(13) + HNO3(4)        3.6e+11\n",
      "102 : H2NO3(245) + HCO(18) <=> CH2O(13) + HNO3(4)        1.8e+11\n",
      "154 : C2H5(17) + NO2(92) <=> C2H4(21) + HONO(91)         1.4e+11\n",
      " 10 : C2H5(17) + H(16) (+M) <=> C2H6(12) (+M)            1.3e+11\n",
      " 27 : HCO(18) + OH(20) <=> CO(11) + H2O(6)               1.1e+11\n",
      " 15 : H(16) + HCO(18) <=> CO(11) + H2(10)                1.1e+11\n",
      "\n",
      "Highest forward rate constants, surface\n",
      " 28 : CHX(32) + HX(22) <=> CH2X(31) + X(1)               3.1e+21\n",
      " 27 : CH2X(31) + HX(22) <=> CH3X(25) + X(1)              3.1e+21\n",
      " 29 : CHX(32) + X(1) <=> CX(30) + HX(22)                 3.1e+21\n",
      " 13 : HX(22) + OX(23) <=> HOX(26) + X(1)                 1.7e+19\n",
      " 24 : CX(30) + OX(23) <=> OCX(29) + X(1)                 3.7e+18\n",
      " 26 : CO2X(28) + HX(22) <=> HOX(26) + OCX(29)            2.2e+17\n",
      " 21 : CH4(24) + HOX(26) + X(1) <=> CH3X(25) + H2OX(27)   4.7e+16\n",
      "\n",
      "Highest reverse rate constants, gas\n",
      "194 : H3N2O(193) + S(489) <=> H2N2O(382) + S(429)        3.7e+15\n",
      "116 : C2H5(17) + S(489) <=> C2H4(21) + S(429)            8.0e+14\n",
      "117 : H3N2O(193) + S(489) <=> NNDO(385) + S(429)         1.3e+14\n",
      "163 : 2 NH2(82) <=> H(16) + N2H3(99)                     1.5e+13\n",
      "131 : H2NO3(244) + S(489) <=> HNO3(4) + S(429)           7.4e+12\n",
      " 94 : NNDO(385) + OH(20) <=> S(196)                      3.4e+11\n",
      " 22 : 2 H2O(6) <=> H(16) + H2O(6) + OH(20)               2.7e+11\n",
      "\n",
      "Highest reverse rate constants, surface\n",
      " 29 : CHX(32) + X(1) <=> CX(30) + HX(22)                 2.6e+25\n",
      " 28 : CHX(32) + HX(22) <=> CH2X(31) + X(1)               2.4e+25\n",
      " 14 : H2OX(27) + OX(23) <=> 2 HOX(26)                    3.0e+24\n",
      "  8 : H2O(6) + 2 X(1) <=> HOX(26) + HX(22)               1.6e+21\n",
      " 13 : HX(22) + OX(23) <=> HOX(26) + X(1)                 1.4e+19\n",
      " 27 : CH2X(31) + HX(22) <=> CH3X(25) + X(1)              1.9e+18\n",
      " 20 : CH4(24) + OX(23) + X(1) <=> CH3X(25) + HOX(26)     9.3e+17\n",
      "Units are a combination of kmol, m^3 and s, that depend on the rate expression for the reaction.\n"
     ]
    }
   ],
   "source": [
    "report_rate_constants()"
   ]
  },
  {
   "cell_type": "code",
   "execution_count": 81,
   "metadata": {},
   "outputs": [
    {
     "data": {
      "text/plain": [
       "False"
      ]
     },
     "execution_count": 81,
     "metadata": {},
     "output_type": "execute_result"
    }
   ],
   "source": [
    "sim.verbose\n"
   ]
  },
  {
   "cell_type": "code",
   "execution_count": 82,
   "metadata": {},
   "outputs": [
    {
     "data": {
      "text/plain": [
       "'IdealGasReactor_15: HOX(26)'"
      ]
     },
     "execution_count": 82,
     "metadata": {},
     "output_type": "execute_result"
    }
   ],
   "source": [
    "sim.component_name(46)"
   ]
  },
  {
   "cell_type": "code",
   "execution_count": 83,
   "metadata": {},
   "outputs": [
    {
     "data": {
      "text/plain": [
       "37"
      ]
     },
     "execution_count": 83,
     "metadata": {},
     "output_type": "execute_result"
    }
   ],
   "source": [
    "gas.species_index('S(429)')"
   ]
  },
  {
   "cell_type": "code",
   "execution_count": 84,
   "metadata": {},
   "outputs": [
    {
     "data": {
      "text/plain": [
       "<BarContainer object of 197 artists>"
      ]
     },
     "execution_count": 84,
     "metadata": {},
     "output_type": "execute_result"
    },
    {
     "data": {
      "image/png": "[encoded data removed]",
      "text/plain": [
       "<Figure size 432x288 with 1 Axes>"
      ]
     },
     "metadata": {
      "needs_background": "light"
     },
     "output_type": "display_data"
    }
   ],
   "source": [
    "plt.barh(np.arange(len(gas.net_rates_of_progress)),gas.net_rates_of_progress)"
   ]
  },
  {
   "cell_type": "code",
   "execution_count": 85,
   "metadata": {},
   "outputs": [
    {
     "data": {
      "text/plain": [
       "673.1499999853612"
      ]
     },
     "execution_count": 85,
     "metadata": {},
     "output_type": "execute_result"
    }
   ],
   "source": [
    "gas.T"
   ]
  },
  {
   "cell_type": "code",
   "execution_count": 86,
   "metadata": {},
   "outputs": [
    {
     "data": {
      "text/plain": [
       "673.1499999853612"
      ]
     },
     "execution_count": 86,
     "metadata": {},
     "output_type": "execute_result"
    }
   ],
   "source": [
    "gas.T"
   ]
  },
  {
   "cell_type": "code",
   "execution_count": 87,
   "metadata": {},
   "outputs": [
    {
     "data": {
      "text/html": [
       "<div>\n",
       "<style scoped>\n",
       "    .dataframe tbody tr th:only-of-type {\n",
       "        vertical-align: middle;\n",
       "    }\n",
       "\n",
       "    .dataframe tbody tr th {\n",
       "        vertical-align: top;\n",
       "    }\n",
       "\n",
       "    .dataframe thead th {\n",
       "        text-align: right;\n",
       "    }\n",
       "</style>\n",
       "<table border=\"1\" class=\"dataframe\">\n",
       "  <thead>\n",
       "    <tr style=\"text-align: right;\">\n",
       "      <th></th>\n",
       "      <th>Distance (mm)</th>\n",
       "      <th>T (C)</th>\n",
       "      <th>P (atm)</th>\n",
       "      <th>Ne</th>\n",
       "      <th>H4N2O2(2)</th>\n",
       "      <th>NH2OH(3)</th>\n",
       "      <th>HNO3(4)</th>\n",
       "      <th>CH3OH(5)</th>\n",
       "      <th>H2O(6)</th>\n",
       "      <th>N2(7)</th>\n",
       "      <th>...</th>\n",
       "      <th>CH2X(31)</th>\n",
       "      <th>CHX(32)</th>\n",
       "      <th>H2NX(211)</th>\n",
       "      <th>SX(214)</th>\n",
       "      <th>H2NOX(216)</th>\n",
       "      <th>H3NOX(217)</th>\n",
       "      <th>HNO3X(220)</th>\n",
       "      <th>CH3OX(222)</th>\n",
       "      <th>CH4OX(223)</th>\n",
       "      <th>alpha</th>\n",
       "    </tr>\n",
       "  </thead>\n",
       "  <tbody>\n",
       "    <tr>\n",
       "      <th>0</th>\n",
       "      <td>0.000</td>\n",
       "      <td>400.0</td>\n",
       "      <td>1.0</td>\n",
       "      <td>0.0</td>\n",
       "      <td>8.203397e-61</td>\n",
       "      <td>3.031926e-23</td>\n",
       "      <td>2.630546e-48</td>\n",
       "      <td>1.024165e-10</td>\n",
       "      <td>0.596758</td>\n",
       "      <td>0.202836</td>\n",
       "      <td>...</td>\n",
       "      <td>7.109873e-11</td>\n",
       "      <td>0.000024</td>\n",
       "      <td>3.324544e-12</td>\n",
       "      <td>1.323769e-64</td>\n",
       "      <td>1.167431e-27</td>\n",
       "      <td>1.609856e-26</td>\n",
       "      <td>1.756226e-51</td>\n",
       "      <td>5.936652e-11</td>\n",
       "      <td>1.689335e-15</td>\n",
       "      <td>3.568855e-11</td>\n",
       "    </tr>\n",
       "    <tr>\n",
       "      <th>1</th>\n",
       "      <td>0.001</td>\n",
       "      <td>400.0</td>\n",
       "      <td>1.0</td>\n",
       "      <td>0.0</td>\n",
       "      <td>8.203397e-61</td>\n",
       "      <td>3.031926e-23</td>\n",
       "      <td>2.630546e-48</td>\n",
       "      <td>1.024165e-10</td>\n",
       "      <td>0.596758</td>\n",
       "      <td>0.202836</td>\n",
       "      <td>...</td>\n",
       "      <td>7.109873e-11</td>\n",
       "      <td>0.000024</td>\n",
       "      <td>3.324544e-12</td>\n",
       "      <td>1.323769e-64</td>\n",
       "      <td>1.167431e-27</td>\n",
       "      <td>1.609856e-26</td>\n",
       "      <td>1.756226e-51</td>\n",
       "      <td>5.936652e-11</td>\n",
       "      <td>1.689335e-15</td>\n",
       "      <td>3.234733e-10</td>\n",
       "    </tr>\n",
       "    <tr>\n",
       "      <th>2</th>\n",
       "      <td>0.002</td>\n",
       "      <td>400.0</td>\n",
       "      <td>1.0</td>\n",
       "      <td>0.0</td>\n",
       "      <td>8.203397e-61</td>\n",
       "      <td>3.031926e-23</td>\n",
       "      <td>2.630546e-48</td>\n",
       "      <td>1.024165e-10</td>\n",
       "      <td>0.596758</td>\n",
       "      <td>0.202836</td>\n",
       "      <td>...</td>\n",
       "      <td>7.109873e-11</td>\n",
       "      <td>0.000024</td>\n",
       "      <td>3.324544e-12</td>\n",
       "      <td>1.323769e-64</td>\n",
       "      <td>1.167431e-27</td>\n",
       "      <td>1.609856e-26</td>\n",
       "      <td>1.756226e-51</td>\n",
       "      <td>5.936652e-11</td>\n",
       "      <td>1.689335e-15</td>\n",
       "      <td>1.431388e-10</td>\n",
       "    </tr>\n",
       "    <tr>\n",
       "      <th>3</th>\n",
       "      <td>0.003</td>\n",
       "      <td>400.0</td>\n",
       "      <td>1.0</td>\n",
       "      <td>0.0</td>\n",
       "      <td>8.203397e-61</td>\n",
       "      <td>3.031926e-23</td>\n",
       "      <td>2.630546e-48</td>\n",
       "      <td>1.024165e-10</td>\n",
       "      <td>0.596758</td>\n",
       "      <td>0.202836</td>\n",
       "      <td>...</td>\n",
       "      <td>7.109873e-11</td>\n",
       "      <td>0.000024</td>\n",
       "      <td>3.324544e-12</td>\n",
       "      <td>1.323769e-64</td>\n",
       "      <td>1.167431e-27</td>\n",
       "      <td>1.609856e-26</td>\n",
       "      <td>1.756226e-51</td>\n",
       "      <td>5.936652e-11</td>\n",
       "      <td>1.689335e-15</td>\n",
       "      <td>-1.501609e-09</td>\n",
       "    </tr>\n",
       "    <tr>\n",
       "      <th>4</th>\n",
       "      <td>0.004</td>\n",
       "      <td>400.0</td>\n",
       "      <td>1.0</td>\n",
       "      <td>0.0</td>\n",
       "      <td>8.203397e-61</td>\n",
       "      <td>3.031926e-23</td>\n",
       "      <td>2.630546e-48</td>\n",
       "      <td>1.024165e-10</td>\n",
       "      <td>0.596758</td>\n",
       "      <td>0.202836</td>\n",
       "      <td>...</td>\n",
       "      <td>7.109873e-11</td>\n",
       "      <td>0.000024</td>\n",
       "      <td>3.324544e-12</td>\n",
       "      <td>1.323769e-64</td>\n",
       "      <td>1.167431e-27</td>\n",
       "      <td>1.609856e-26</td>\n",
       "      <td>1.756226e-51</td>\n",
       "      <td>5.936652e-11</td>\n",
       "      <td>1.689335e-15</td>\n",
       "      <td>-1.083103e-09</td>\n",
       "    </tr>\n",
       "    <tr>\n",
       "      <th>...</th>\n",
       "      <td>...</td>\n",
       "      <td>...</td>\n",
       "      <td>...</td>\n",
       "      <td>...</td>\n",
       "      <td>...</td>\n",
       "      <td>...</td>\n",
       "      <td>...</td>\n",
       "      <td>...</td>\n",
       "      <td>...</td>\n",
       "      <td>...</td>\n",
       "      <td>...</td>\n",
       "      <td>...</td>\n",
       "      <td>...</td>\n",
       "      <td>...</td>\n",
       "      <td>...</td>\n",
       "      <td>...</td>\n",
       "      <td>...</td>\n",
       "      <td>...</td>\n",
       "      <td>...</td>\n",
       "      <td>...</td>\n",
       "      <td>...</td>\n",
       "    </tr>\n",
       "    <tr>\n",
       "      <th>10996</th>\n",
       "      <td>10.996</td>\n",
       "      <td>400.0</td>\n",
       "      <td>1.0</td>\n",
       "      <td>0.0</td>\n",
       "      <td>8.203397e-61</td>\n",
       "      <td>3.031926e-23</td>\n",
       "      <td>2.630546e-48</td>\n",
       "      <td>1.024165e-10</td>\n",
       "      <td>0.596758</td>\n",
       "      <td>0.202836</td>\n",
       "      <td>...</td>\n",
       "      <td>7.109873e-11</td>\n",
       "      <td>0.000024</td>\n",
       "      <td>3.324544e-12</td>\n",
       "      <td>1.323769e-64</td>\n",
       "      <td>1.167431e-27</td>\n",
       "      <td>1.609856e-26</td>\n",
       "      <td>1.756226e-51</td>\n",
       "      <td>5.936652e-11</td>\n",
       "      <td>1.689335e-15</td>\n",
       "      <td>2.850849e-12</td>\n",
       "    </tr>\n",
       "    <tr>\n",
       "      <th>10997</th>\n",
       "      <td>10.997</td>\n",
       "      <td>400.0</td>\n",
       "      <td>1.0</td>\n",
       "      <td>0.0</td>\n",
       "      <td>8.203397e-61</td>\n",
       "      <td>3.031926e-23</td>\n",
       "      <td>2.630546e-48</td>\n",
       "      <td>1.024165e-10</td>\n",
       "      <td>0.596758</td>\n",
       "      <td>0.202836</td>\n",
       "      <td>...</td>\n",
       "      <td>7.109873e-11</td>\n",
       "      <td>0.000024</td>\n",
       "      <td>3.324544e-12</td>\n",
       "      <td>1.323769e-64</td>\n",
       "      <td>1.167431e-27</td>\n",
       "      <td>1.609856e-26</td>\n",
       "      <td>1.756226e-51</td>\n",
       "      <td>5.936652e-11</td>\n",
       "      <td>1.689335e-15</td>\n",
       "      <td>9.559881e-12</td>\n",
       "    </tr>\n",
       "    <tr>\n",
       "      <th>10998</th>\n",
       "      <td>10.998</td>\n",
       "      <td>400.0</td>\n",
       "      <td>1.0</td>\n",
       "      <td>0.0</td>\n",
       "      <td>8.203397e-61</td>\n",
       "      <td>3.031926e-23</td>\n",
       "      <td>2.630546e-48</td>\n",
       "      <td>1.024165e-10</td>\n",
       "      <td>0.596758</td>\n",
       "      <td>0.202836</td>\n",
       "      <td>...</td>\n",
       "      <td>7.109873e-11</td>\n",
       "      <td>0.000024</td>\n",
       "      <td>3.324544e-12</td>\n",
       "      <td>1.323769e-64</td>\n",
       "      <td>1.167431e-27</td>\n",
       "      <td>1.609856e-26</td>\n",
       "      <td>1.756226e-51</td>\n",
       "      <td>5.936652e-11</td>\n",
       "      <td>1.689335e-15</td>\n",
       "      <td>2.512867e-12</td>\n",
       "    </tr>\n",
       "    <tr>\n",
       "      <th>10999</th>\n",
       "      <td>10.999</td>\n",
       "      <td>400.0</td>\n",
       "      <td>1.0</td>\n",
       "      <td>0.0</td>\n",
       "      <td>8.203397e-61</td>\n",
       "      <td>3.031926e-23</td>\n",
       "      <td>2.630546e-48</td>\n",
       "      <td>1.024165e-10</td>\n",
       "      <td>0.596758</td>\n",
       "      <td>0.202836</td>\n",
       "      <td>...</td>\n",
       "      <td>7.109873e-11</td>\n",
       "      <td>0.000024</td>\n",
       "      <td>3.324544e-12</td>\n",
       "      <td>1.323769e-64</td>\n",
       "      <td>1.167431e-27</td>\n",
       "      <td>1.609856e-26</td>\n",
       "      <td>1.756226e-51</td>\n",
       "      <td>5.936652e-11</td>\n",
       "      <td>1.689335e-15</td>\n",
       "      <td>1.012116e-12</td>\n",
       "    </tr>\n",
       "    <tr>\n",
       "      <th>11000</th>\n",
       "      <td>11.000</td>\n",
       "      <td>400.0</td>\n",
       "      <td>1.0</td>\n",
       "      <td>0.0</td>\n",
       "      <td>8.203397e-61</td>\n",
       "      <td>3.031926e-23</td>\n",
       "      <td>2.630546e-48</td>\n",
       "      <td>1.024165e-10</td>\n",
       "      <td>0.596758</td>\n",
       "      <td>0.202836</td>\n",
       "      <td>...</td>\n",
       "      <td>7.109873e-11</td>\n",
       "      <td>0.000024</td>\n",
       "      <td>3.324544e-12</td>\n",
       "      <td>1.323769e-64</td>\n",
       "      <td>1.167431e-27</td>\n",
       "      <td>1.609856e-26</td>\n",
       "      <td>1.756226e-51</td>\n",
       "      <td>5.936652e-11</td>\n",
       "      <td>1.689335e-15</td>\n",
       "      <td>-3.327989e-12</td>\n",
       "    </tr>\n",
       "  </tbody>\n",
       "</table>\n",
       "<p>11001 rows × 61 columns</p>\n",
       "</div>"
      ],
      "text/plain": [
       "       Distance (mm)  T (C)  P (atm)   Ne     H4N2O2(2)      NH2OH(3)  \\\n",
       "0              0.000  400.0      1.0  0.0  8.203397e-61  3.031926e-23   \n",
       "1              0.001  400.0      1.0  0.0  8.203397e-61  3.031926e-23   \n",
       "2              0.002  400.0      1.0  0.0  8.203397e-61  3.031926e-23   \n",
       "3              0.003  400.0      1.0  0.0  8.203397e-61  3.031926e-23   \n",
       "4              0.004  400.0      1.0  0.0  8.203397e-61  3.031926e-23   \n",
       "...              ...    ...      ...  ...           ...           ...   \n",
       "10996         10.996  400.0      1.0  0.0  8.203397e-61  3.031926e-23   \n",
       "10997         10.997  400.0      1.0  0.0  8.203397e-61  3.031926e-23   \n",
       "10998         10.998  400.0      1.0  0.0  8.203397e-61  3.031926e-23   \n",
       "10999         10.999  400.0      1.0  0.0  8.203397e-61  3.031926e-23   \n",
       "11000         11.000  400.0      1.0  0.0  8.203397e-61  3.031926e-23   \n",
       "\n",
       "            HNO3(4)      CH3OH(5)    H2O(6)     N2(7)  ...      CH2X(31)  \\\n",
       "0      2.630546e-48  1.024165e-10  0.596758  0.202836  ...  7.109873e-11   \n",
       "1      2.630546e-48  1.024165e-10  0.596758  0.202836  ...  7.109873e-11   \n",
       "2      2.630546e-48  1.024165e-10  0.596758  0.202836  ...  7.109873e-11   \n",
       "3      2.630546e-48  1.024165e-10  0.596758  0.202836  ...  7.109873e-11   \n",
       "4      2.630546e-48  1.024165e-10  0.596758  0.202836  ...  7.109873e-11   \n",
       "...             ...           ...       ...       ...  ...           ...   \n",
       "10996  2.630546e-48  1.024165e-10  0.596758  0.202836  ...  7.109873e-11   \n",
       "10997  2.630546e-48  1.024165e-10  0.596758  0.202836  ...  7.109873e-11   \n",
       "10998  2.630546e-48  1.024165e-10  0.596758  0.202836  ...  7.109873e-11   \n",
       "10999  2.630546e-48  1.024165e-10  0.596758  0.202836  ...  7.109873e-11   \n",
       "11000  2.630546e-48  1.024165e-10  0.596758  0.202836  ...  7.109873e-11   \n",
       "\n",
       "        CHX(32)     H2NX(211)       SX(214)    H2NOX(216)    H3NOX(217)  \\\n",
       "0      0.000024  3.324544e-12  1.323769e-64  1.167431e-27  1.609856e-26   \n",
       "1      0.000024  3.324544e-12  1.323769e-64  1.167431e-27  1.609856e-26   \n",
       "2      0.000024  3.324544e-12  1.323769e-64  1.167431e-27  1.609856e-26   \n",
       "3      0.000024  3.324544e-12  1.323769e-64  1.167431e-27  1.609856e-26   \n",
       "4      0.000024  3.324544e-12  1.323769e-64  1.167431e-27  1.609856e-26   \n",
       "...         ...           ...           ...           ...           ...   \n",
       "10996  0.000024  3.324544e-12  1.323769e-64  1.167431e-27  1.609856e-26   \n",
       "10997  0.000024  3.324544e-12  1.323769e-64  1.167431e-27  1.609856e-26   \n",
       "10998  0.000024  3.324544e-12  1.323769e-64  1.167431e-27  1.609856e-26   \n",
       "10999  0.000024  3.324544e-12  1.323769e-64  1.167431e-27  1.609856e-26   \n",
       "11000  0.000024  3.324544e-12  1.323769e-64  1.167431e-27  1.609856e-26   \n",
       "\n",
       "         HNO3X(220)    CH3OX(222)    CH4OX(223)         alpha  \n",
       "0      1.756226e-51  5.936652e-11  1.689335e-15  3.568855e-11  \n",
       "1      1.756226e-51  5.936652e-11  1.689335e-15  3.234733e-10  \n",
       "2      1.756226e-51  5.936652e-11  1.689335e-15  1.431388e-10  \n",
       "3      1.756226e-51  5.936652e-11  1.689335e-15 -1.501609e-09  \n",
       "4      1.756226e-51  5.936652e-11  1.689335e-15 -1.083103e-09  \n",
       "...             ...           ...           ...           ...  \n",
       "10996  1.756226e-51  5.936652e-11  1.689335e-15  2.850849e-12  \n",
       "10997  1.756226e-51  5.936652e-11  1.689335e-15  9.559881e-12  \n",
       "10998  1.756226e-51  5.936652e-11  1.689335e-15  2.512867e-12  \n",
       "10999  1.756226e-51  5.936652e-11  1.689335e-15  1.012116e-12  \n",
       "11000  1.756226e-51  5.936652e-11  1.689335e-15 -3.327989e-12  \n",
       "\n",
       "[11001 rows x 61 columns]"
      ]
     },
     "execution_count": 87,
     "metadata": {},
     "output_type": "execute_result"
    }
   ],
   "source": [
    "data = pd.read_csv(output_filename)\n",
    "data"
   ]
  },
  {
   "cell_type": "code",
   "execution_count": 88,
   "metadata": {},
   "outputs": [
    {
     "data": {
      "text/plain": [
       "<matplotlib.axes._subplots.AxesSubplot at 0x2b23fe81f050>"
      ]
     },
     "execution_count": 88,
     "metadata": {},
     "output_type": "execute_result"
    },
    {
     "data": {
      "image/png": "[encoded data removed]",
      "text/plain": [
       "<Figure size 432x288 with 1 Axes>"
      ]
     },
     "metadata": {
      "needs_background": "light"
     },
     "output_type": "display_data"
    }
   ],
   "source": [
    "data['T (C)'].plot()"
   ]
  },
  {
   "cell_type": "code",
   "execution_count": 89,
   "metadata": {},
   "outputs": [
    {
     "data": {
      "text/plain": [
       "<matplotlib.axes._subplots.AxesSubplot at 0x2b23fe2bdad0>"
      ]
     },
     "execution_count": 89,
     "metadata": {},
     "output_type": "execute_result"
    },
    {
     "data": {
      "image/png": "[encoded data removed]",
      "text/plain": [
       "<Figure size 432x288 with 1 Axes>"
      ]
     },
     "metadata": {
      "needs_background": "light"
     },
     "output_type": "display_data"
    }
   ],
   "source": [
    "data[['H4N2O2(2)', 'CH3OH(5)']].plot()"
   ]
  },
  {
   "cell_type": "code",
   "execution_count": 90,
   "metadata": {},
   "outputs": [
    {
     "data": {
      "text/plain": [
       "['Distance (mm)', 'T (C)', 'P (atm)', 'Ne']"
      ]
     },
     "execution_count": 90,
     "metadata": {},
     "output_type": "execute_result"
    }
   ],
   "source": [
    "list(data.columns)[:4]"
   ]
  },
  {
   "cell_type": "code",
   "execution_count": 91,
   "metadata": {},
   "outputs": [
    {
     "data": {
      "text/plain": [
       "<matplotlib.axes._subplots.AxesSubplot at 0x2b23fdeee590>"
      ]
     },
     "execution_count": 91,
     "metadata": {},
     "output_type": "execute_result"
    },
    {
     "data": {
      "image/png": "[encoded data removed]",
      "text/plain": [
       "<Figure size 432x288 with 1 Axes>"
      ]
     },
     "metadata": {
      "needs_background": "light"
     },
     "output_type": "display_data"
    }
   ],
   "source": [
    "data[['T (C)', 'alpha']].plot()"
   ]
  },
  {
   "cell_type": "code",
   "execution_count": 92,
   "metadata": {},
   "outputs": [
    {
     "data": {
      "text/plain": [
       "<matplotlib.axes._subplots.AxesSubplot at 0x2b23fe033150>"
      ]
     },
     "execution_count": 92,
     "metadata": {},
     "output_type": "execute_result"
    },
    {
     "data": {
      "image/png": "[encoded data removed]",
      "text/plain": [
       "<Figure size 432x288 with 1 Axes>"
      ]
     },
     "metadata": {
      "needs_background": "light"
     },
     "output_type": "display_data"
    }
   ],
   "source": [
    "data[['alpha']].plot(logy=True)"
   ]
  },
  {
   "cell_type": "code",
   "execution_count": 93,
   "metadata": {},
   "outputs": [
    {
     "data": {
      "text/plain": [
       "<pandas.plotting._core.PlotAccessor object at 0x2b23fe5e3750>"
      ]
     },
     "execution_count": 93,
     "metadata": {},
     "output_type": "execute_result"
    }
   ],
   "source": [
    "data[['T (C)', 'alpha']].plot"
   ]
  },
  {
   "cell_type": "code",
   "execution_count": 94,
   "metadata": {},
   "outputs": [
    {
     "data": {
      "text/plain": [
       "(['H4N2O2(2)',\n",
       "  'NH2OH(3)',\n",
       "  'HNO3(4)',\n",
       "  'CH3OH(5)',\n",
       "  'H2O(6)',\n",
       "  'N2(7)',\n",
       "  'O2(8)',\n",
       "  'CO2(9)',\n",
       "  'H2(10)',\n",
       "  'CO(11)',\n",
       "  'C2H6(12)',\n",
       "  'CH2O(13)',\n",
       "  'CH3(14)',\n",
       "  'C3H8(15)',\n",
       "  'H(16)',\n",
       "  'C2H5(17)',\n",
       "  'HCO(18)',\n",
       "  'CH3CHO(19)',\n",
       "  'OH(20)',\n",
       "  'C2H4(21)',\n",
       "  'CH4(24)',\n",
       "  'HO2(36)',\n",
       "  'NH2(82)',\n",
       "  'HONO(91)',\n",
       "  'NO2(92)',\n",
       "  'HNOH(94)',\n",
       "  'N2H3(99)',\n",
       "  'H3N2O(193)',\n",
       "  'H2NO2(195)',\n",
       "  'S(196)',\n",
       "  'H2NO3(244)',\n",
       "  'H2NO3(245)',\n",
       "  'H2N2O(381)',\n",
       "  'H2N2O(382)',\n",
       "  'NNDO(385)',\n",
       "  'NNO(394)',\n",
       "  'S(429)',\n",
       "  'S(489)'],\n",
       " ['X(1)',\n",
       "  'HX(22)',\n",
       "  'OX(23)',\n",
       "  'CH3X(25)',\n",
       "  'HOX(26)',\n",
       "  'H2OX(27)',\n",
       "  'CO2X(28)',\n",
       "  'OCX(29)',\n",
       "  'CX(30)',\n",
       "  'CH2X(31)',\n",
       "  'CHX(32)',\n",
       "  'H2NX(211)',\n",
       "  'SX(214)',\n",
       "  'H2NOX(216)',\n",
       "  'H3NOX(217)',\n",
       "  'HNO3X(220)',\n",
       "  'CH3OX(222)',\n",
       "  'CH4OX(223)'])"
      ]
     },
     "execution_count": 94,
     "metadata": {},
     "output_type": "execute_result"
    }
   ],
   "source": [
    "specs = list(data.columns)\n",
    "specs = specs[4:-1]\n",
    "\n",
    "gas_species = [s for s in specs if 'X' not in s]\n",
    "adsorbates = [s for s in specs if 'X' in s]\n",
    "\n",
    "gas_species, adsorbates"
   ]
  },
  {
   "cell_type": "code",
   "execution_count": 95,
   "metadata": {},
   "outputs": [
    {
     "name": "stderr",
     "output_type": "stream",
     "text": [
      "/home/mazeau.e/.conda/envs/rmg_env/lib/python3.7/site-packages/pandas/plotting/_matplotlib/core.py:1085: UserWarning: Attempted to set non-positive left xlim on a log-scaled axis.\n",
      "Invalid limit will be ignored.\n",
      "  ax.set_xlim(left, right)\n"
     ]
    },
    {
     "data": {
      "text/plain": [
       "<matplotlib.axes._subplots.AxesSubplot at 0x2b23fe6d9410>"
      ]
     },
     "execution_count": 95,
     "metadata": {},
     "output_type": "execute_result"
    },
    {
     "data": {
      "image/png": "[encoded data removed]",
      "text/plain": [
       "<Figure size 432x288 with 1 Axes>"
      ]
     },
     "metadata": {
      "needs_background": "light"
     },
     "output_type": "display_data"
    }
   ],
   "source": [
    "data[gas_species[0:5]].plot(logy=True, logx=True)"
   ]
  },
  {
   "cell_type": "code",
   "execution_count": null,
   "metadata": {
    "scrolled": false
   },
   "outputs": [],
   "source": [
    "for i in range(0,len(gas_species),10):\n",
    "    data[gas_species[i:i+10]].plot(title='gas mole fraction', logy=False)\n",
    "    \n",
    "for i in range(0,len(adsorbates),10):\n",
    "    data[adsorbates[i:i+10]].plot(title='surface coverages', logy=False)"
   ]
  },
  {
   "cell_type": "code",
   "execution_count": null,
   "metadata": {},
   "outputs": [],
   "source": [
    "gas.species('NO2(92)').composition"
   ]
  },
  {
   "cell_type": "code",
   "execution_count": null,
   "metadata": {},
   "outputs": [],
   "source": [
    "data['NO2(92)'].plot()"
   ]
  },
  {
   "cell_type": "code",
   "execution_count": null,
   "metadata": {},
   "outputs": [],
   "source": [
    "(data[specs].max()>0.01)"
   ]
  },
  {
   "cell_type": "code",
   "execution_count": null,
   "metadata": {},
   "outputs": [],
   "source": []
  },
  {
   "cell_type": "code",
   "execution_count": null,
   "metadata": {},
   "outputs": [],
   "source": [
    "data.loc[0]"
   ]
  },
  {
   "cell_type": "code",
   "execution_count": null,
   "metadata": {},
   "outputs": [],
   "source": []
  },
  {
   "cell_type": "code",
   "execution_count": null,
   "metadata": {},
   "outputs": [],
   "source": []
  }
 ],
 "metadata": {
  "kernelspec": {
   "display_name": "Python 3",
   "language": "python",
   "name": "python3"
  },
  "language_info": {
   "codemirror_mode": {
    "name": "ipython",
    "version": 3
   },
   "file_extension": ".py",
   "mimetype": "text/x-python",
   "name": "python",
   "nbconvert_exporter": "python",
   "pygments_lexer": "ipython3",
   "version": "3.7.5"
  }
 },
 "nbformat": 4,
 "nbformat_minor": 2
}
