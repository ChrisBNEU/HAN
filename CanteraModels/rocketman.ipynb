{
 "cells": [
  {
   "cell_type": "code",
   "execution_count": null,
   "metadata": {},
   "outputs": [],
   "source": []
  },
  {
   "cell_type": "code",
   "execution_count": 1,
   "metadata": {},
   "outputs": [],
   "source": [
    "import cantera as ct\n",
    "import numpy as np\n",
    "\n",
    "from matplotlib import pyplot as plt\n",
    "import csv\n",
    "import pandas as pd"
   ]
  },
  {
   "cell_type": "code",
   "execution_count": 11,
   "metadata": {},
   "outputs": [],
   "source": [
    "# input file containing the surface reaction mechanism\n",
    "cti_file = '../RMG-model/cantera/chem_annotated.cti'\n",
    "\n",
    "cti_file = '../RMG-model/cantera/chem0050.cti'\n",
    "\n",
    "\n",
    "gas=ct.Solution(cti_file)\n",
    "surf = ct.Interface(cti_file,'surface1', [gas])"
   ]
  },
  {
   "cell_type": "code",
   "execution_count": 16,
   "metadata": {},
   "outputs": [
    {
     "name": "stdout",
     "output_type": "stream",
     "text": "\n  gas:\n\n       temperature         62103.5  K\n          pressure     1.32995e+07  Pa\n           density        0.955594  kg/m^3\n  mean mol. weight         37.1013  amu\n\n                          1 kg            1 kmol\n                       -----------      ------------\n          enthalpy     -1.3857e+12       -5.141e+13     J\n   internal energy     -1.3857e+12       -5.141e+13     J\n           entropy      -2.744e+07       -1.018e+09     J/K\n    Gibbs function      3.1843e+11        1.181e+13     J\n heat capacity c_p     -1.1738e+08       -4.355e+09     J/K\n heat capacity c_v     -1.1738e+08       -4.355e+09     J/K\n\n                           X                 Y          Chem. Pot. / RT\n                     -------------     ------------     ------------\n         H4N2O2(2)    5.06811e-08      8.74853e-08           330053\n          NH2OH(3)       0.328829         0.292745          11579.8\n           HNO3(4)       0.187903         0.319134          8510.61\n          CH3OH(5)       0.197088         0.170213          15453.6\n            H2O(6)       0.170232        0.0826593          2553.58\n             O2(8)    1.60162e-08      1.38135e-08          5463.19\n            OH(20)    1.08747e-08        4.985e-09         -1477.53\n           HO2(36)    4.56504e-11      4.06123e-11         -633.827\n           NH2(82)    2.52224e-10      1.08926e-10          4986.96\n          HONO(91)     7.8236e-06      9.91378e-06          5618.08\n           NO2(92)    6.87888e-07      8.52979e-07          5037.05\n          HNOH(94)      0.0296589        0.0255985          6800.71\n          N2H3(99)    1.02251e-08      8.55381e-09          10242.6\n        H3N2O(193)    5.37853e-05      6.81885e-05           112759\n            S(196)    7.65799e-14      1.30111e-13           296690\n        H2NO3(244)    1.75941e-12      3.03598e-12           267296\n        H2N2O(381)    7.40418e-14      9.18579e-14          17840.6\n        H2N2O(382)      0.0140353        0.0174125           151749\n         NNDO(385)      0.0518579         0.064336           129680\n          NNO(394)      0.0166407         0.021549           287857\n            S(429)    1.69087e-11      2.91877e-11          13687.4\n            S(489)     0.00369249       0.00627363          37935.6\n     [  +17 minor]    4.99813e-15      6.61116e-16\n\n"
    }
   ],
   "source": [
    "gas()"
   ]
  },
  {
   "cell_type": "code",
   "execution_count": 17,
   "metadata": {},
   "outputs": [
    {
     "data": {
      "text/plain": "['Ne',\n 'H4N2O2(2)',\n 'NH2OH(3)',\n 'HNO3(4)',\n 'CH3OH(5)',\n 'H2O(6)',\n 'N2(7)',\n 'O2(8)',\n 'CO2(9)',\n 'H2(10)',\n 'CO(11)',\n 'C2H6(12)',\n 'CH2O(13)',\n 'CH3(14)',\n 'C3H8(15)',\n 'H(16)',\n 'C2H5(17)',\n 'HCO(18)',\n 'CH3CHO(19)',\n 'OH(20)',\n 'C2H4(21)',\n 'CH4(24)',\n 'HO2(36)',\n 'NH2(82)',\n 'HONO(91)',\n 'NO2(92)',\n 'HNOH(94)',\n 'N2H3(99)',\n 'H3N2O(193)',\n 'H2NO2(195)',\n 'S(196)',\n 'H2NO3(244)',\n 'H2NO3(245)',\n 'H2N2O(381)',\n 'H2N2O(382)',\n 'NNDO(385)',\n 'NNO(394)',\n 'S(429)',\n 'S(489)']"
     },
     "execution_count": 17,
     "metadata": {},
     "output_type": "execute_result"
    }
   ],
   "source": [
    "gas.species_names"
   ]
  },
  {
   "cell_type": "code",
   "execution_count": 18,
   "metadata": {},
   "outputs": [
    {
     "data": {
      "text/plain": "['X(1)',\n 'HX(22)',\n 'OX(23)',\n 'CH3X(25)',\n 'HOX(26)',\n 'H2OX(27)',\n 'CO2X(28)',\n 'OCX(29)',\n 'CX(30)',\n 'CH2X(31)',\n 'CHX(32)',\n 'H2NX(211)',\n 'SX(214)',\n 'H2NOX(216)',\n 'H3NOX(217)',\n 'HNO3X(220)',\n 'CH3OX(222)',\n 'CH4OX(223)']"
     },
     "execution_count": 18,
     "metadata": {},
     "output_type": "execute_result"
    }
   ],
   "source": [
    "surf.species_names"
   ]
  },
  {
   "cell_type": "markdown",
   "metadata": {},
   "outputs": [],
   "source": [
    "\n",
    "\n",
    "This example solves a plug flow reactor problem, with coupled surface and gas chemistry.\n",
    "\n",
    "\n",
    "\n"
   ]
  },
  {
   "cell_type": "code",
   "execution_count": 19,
   "metadata": {},
   "outputs": [
    {
     "name": "stdout",
     "output_type": "stream",
     "text": "distance       H4N2O2(2)   NH2OH(3)  HNO3(4)   CH3OH(5)\n    0.000000    0.005169    0.325183    0.188862   0.198093\n"
    },
    {
     "ename": "CanteraError",
     "evalue": "\n***********************************************************************\nCanteraError thrown by CVodesIntegrator::step:\nCVodes error encountered. Error code: -10\nExceptions caught during RHS evaluation:\n\n***********************************************************************\nCanteraError thrown by checkFinite:\nydot contains non-finite elements:\n\nydot[0] = inf\nydot[3] = -inf\nydot[4] = -nan\nydot[5] = -nan\nydot[6] = -nan\nydot[7] = -nan\nydot[8] = -nan\nydot[9] = -inf\nydot[10] = -nan\nydot[11] = -nan\nydot[12] = -nan\nydot[13] = -nan\nydot[14] = -nan\nydot[15] = -inf\nydot[16] = -nan\nydot[17] = -inf\nydot[18] = -nan\nydot[19] = -nan\nydot[20] = -nan\nydot[21] = -inf\nydot[22] = -nan\nydot[23] = -nan\nydot[24] = -nan\nydot[25] = -nan\nydot[26] = -nan\nydot[27] = -nan\nydot[28] = -nan\nydot[29] = -nan\nydot[30] = -nan\nydot[31] = -nan\nydot[32] = -nan\nydot[33] = -nan\nydot[34] = -inf\nydot[35] = -nan\nydot[36] = -nan\nydot[37] = -inf\nydot[38] = -nan\nydot[39] = -inf\nydot[40] = -nan\nydot[41] = -nan\nydot[42] = -nan\nydot[43] = -nan\nydot[44] = -nan\nydot[45] = -inf\nydot[46] = -nan\nydot[47] = -inf\nydot[48] = -nan\nydot[49] = -inf\nydot[50] = inf\nydot[51] = -nan\nydot[52] = inf\nydot[53] = -inf\nydot[55] = -inf\nydot[56] = -inf\nydot[58] = -inf\nydot[59] = -inf\n***********************************************************************\n\n\n***********************************************************************\nCanteraError thrown by checkFinite:\nydot contains non-finite elements:\n\nydot[0] = inf\nydot[3] = -inf\nydot[4] = -nan\nydot[5] = -nan\nydot[6] = -nan\nydot[7] = -nan\nydot[8] = -nan\nydot[9] = -inf\nydot[10] = -nan\nydot[11] = -nan\nydot[12] = -nan\nydot[13] = -nan\nydot[14] = -nan\nydot[15] = -inf\nydot[16] = -nan\nydot[17] = -inf\nydot[18] = -nan\nydot[19] = -nan\nydot[20] = -nan\nydot[21] = -inf\nydot[22] = -nan\nydot[23] = -nan\nydot[24] = -nan\nydot[25] = -nan\nydot[26] = -nan\nydot[27] = -nan\nydot[28] = -nan\nydot[29] = -nan\nydot[30] = -nan\nydot[31] = -nan\nydot[32] = -nan\nydot[33] = -nan\nydot[34] = -inf\nydot[35] = -nan\nydot[36] = -nan\nydot[37] = -inf\nydot[38] = -nan\nydot[39] = -inf\nydot[40] = -nan\nydot[41] = -nan\nydot[42] = -nan\nydot[43] = -nan\nydot[44] = -nan\nydot[45] = -inf\nydot[46] = -nan\nydot[47] = -inf\nydot[48] = -nan\nydot[49] = -inf\nydot[50] = inf\nydot[51] = -nan\nydot[52] = inf\nydot[53] = -inf\nydot[55] = -inf\nydot[56] = -inf\nydot[58] = -inf\nydot[59] = -inf\n***********************************************************************\n\n\n***********************************************************************\nCanteraError thrown by checkFinite:\nydot contains non-finite elements:\n\nydot[0] = inf\nydot[3] = -inf\nydot[4] = -nan\nydot[5] = -nan\nydot[6] = -nan\nydot[7] = -nan\nydot[8] = -nan\nydot[9] = -inf\nydot[10] = -nan\nydot[11] = -nan\nydot[12] = -nan\nydot[13] = -nan\nydot[14] = -nan\nydot[15] = -inf\nydot[16] = -nan\nydot[17] = -inf\nydot[18] = -nan\nydot[19] = -nan\nydot[20] = -nan\nydot[21] = -inf\nydot[22] = -nan\nydot[23] = -nan\nydot[24] = -nan\nydot[25] = -nan\nydot[26] = -nan\nydot[27] = -nan\nydot[28] = -nan\nydot[29] = -nan\nydot[30] = -nan\nydot[31] = -nan\nydot[32] = -nan\nydot[33] = -nan\nydot[34] = -inf\nydot[35] = -nan\nydot[36] = -nan\nydot[37] = -inf\nydot[38] = -nan\nydot[39] = -inf\nydot[40] = -nan\nydot[41] = -nan\nydot[42] = -nan\nydot[43] = -nan\nydot[44] = -nan\nydot[45] = -inf\nydot[46] = -nan\nydot[47] = -inf\nydot[48] = -nan\nydot[49] = -inf\nydot[50] = inf\nydot[51] = -nan\nydot[52] = inf\nydot[53] = -inf\nydot[55] = -inf\nydot[56] = -inf\nydot[58] = -inf\nydot[59] = -inf\n***********************************************************************\n\n\n***********************************************************************\nCanteraError thrown by checkFinite:\nydot contains non-finite elements:\n\nydot[0] = inf\nydot[3] = -inf\nydot[4] = -nan\nydot[5] = -nan\nydot[6] = -nan\nydot[7] = -nan\nydot[8] = -nan\nydot[9] = -inf\nydot[10] = -nan\nydot[11] = -nan\nydot[12] = -nan\nydot[13] = -nan\nydot[14] = -nan\nydot[15] = -inf\nydot[16] = -nan\nydot[17] = -inf\nydot[18] = -nan\nydot[19] = -nan\nydot[20] = -nan\nydot[21] = -inf\nydot[22] = -nan\nydot[23] = -nan\nydot[24] = -nan\nydot[25] = -nan\nydot[26] = -nan\nydot[27] = -nan\nydot[28] = -nan\nydot[29] = -nan\nydot[30] = -nan\nydot[31] = -nan\nydot[32] = -nan\nydot[33] = -nan\nydot[34] = -inf\nydot[35] = -nan\nydot[36] = -nan\nydot[37] = -inf\nydot[38] = -nan\nydot[39] = -inf\nydot[40] = -nan\nydot[41] = -nan\nydot[42] = -nan\nydot[43] = -nan\nydot[44] = -nan\nydot[45] = -inf\nydot[46] = -nan\nydot[47] = -inf\nydot[48] = -nan\nydot[49] = -inf\nydot[50] = inf\nydot[51] = -nan\nydot[52] = inf\nydot[53] = -inf\nydot[55] = -inf\nydot[56] = -inf\nydot[58] = -inf\nydot[59] = -inf\n***********************************************************************\n\n\n***********************************************************************\nCanteraError thrown by checkFinite:\nydot contains non-finite elements:\n\nydot[0] = inf\nydot[3] = -inf\nydot[4] = -nan\nydot[5] = -nan\nydot[6] = -nan\nydot[7] = -nan\nydot[8] = -nan\nydot[9] = -inf\nydot[10] = -nan\nydot[11] = -nan\nydot[12] = -nan\nydot[13] = -nan\nydot[14] = -nan\nydot[15] = -inf\nydot[16] = -nan\nydot[17] = -inf\nydot[18] = -nan\nydot[19] = -nan\nydot[20] = -nan\nydot[21] = -inf\nydot[22] = -nan\nydot[23] = -nan\nydot[24] = -nan\nydot[25] = -nan\nydot[26] = -nan\nydot[27] = -nan\nydot[28] = -nan\nydot[29] = -nan\nydot[30] = -nan\nydot[31] = -nan\nydot[32] = -nan\nydot[33] = -nan\nydot[34] = -inf\nydot[35] = -nan\nydot[36] = -nan\nydot[37] = -inf\nydot[38] = -nan\nydot[39] = -inf\nydot[40] = -nan\nydot[41] = -nan\nydot[42] = -nan\nydot[43] = -nan\nydot[44] = -nan\nydot[45] = -inf\nydot[46] = -nan\nydot[47] = -inf\nydot[48] = -nan\nydot[49] = -inf\nydot[50] = inf\nydot[51] = -nan\nydot[52] = inf\nydot[53] = -inf\nydot[55] = -inf\nydot[56] = -inf\nydot[58] = -inf\nydot[59] = -inf\n***********************************************************************\n\n\n***********************************************************************\nCanteraError thrown by checkFinite:\nydot contains non-finite elements:\n\nydot[0] = inf\nydot[3] = -inf\nydot[4] = -nan\nydot[5] = -nan\nydot[6] = -nan\nydot[7] = -nan\nydot[8] = -nan\nydot[9] = -inf\nydot[10] = -nan\nydot[11] = -nan\nydot[12] = -nan\nydot[13] = -nan\nydot[14] = -nan\nydot[15] = -inf\nydot[16] = -nan\nydot[17] = -inf\nydot[18] = -nan\nydot[19] = -nan\nydot[20] = -nan\nydot[21] = -inf\nydot[22] = -nan\nydot[23] = -nan\nydot[24] = -nan\nydot[25] = -nan\nydot[26] = -nan\nydot[27] = -nan\nydot[28] = -nan\nydot[29] = -nan\nydot[30] = -nan\nydot[31] = -nan\nydot[32] = -nan\nydot[33] = -nan\nydot[34] = -inf\nydot[35] = -nan\nydot[36] = -nan\nydot[37] = -inf\nydot[38] = -nan\nydot[39] = -inf\nydot[40] = -nan\nydot[41] = -nan\nydot[42] = -nan\nydot[43] = -nan\nydot[44] = -nan\nydot[45] = -inf\nydot[46] = -nan\nydot[47] = -inf\nydot[48] = -nan\nydot[49] = -inf\nydot[50] = inf\nydot[51] = -nan\nydot[52] = inf\nydot[53] = -inf\nydot[55] = -inf\nydot[56] = -inf\nydot[58] = -inf\nydot[59] = -inf\n***********************************************************************\n\n\n***********************************************************************\nCanteraError thrown by checkFinite:\nydot contains non-finite elements:\n\nydot[0] = inf\nydot[3] = -inf\nydot[4] = -nan\nydot[5] = -nan\nydot[6] = -nan\nydot[7] = -nan\nydot[8] = -nan\nydot[9] = -inf\nydot[10] = -nan\nydot[11] = -nan\nydot[12] = -nan\nydot[13] = -nan\nydot[14] = -nan\nydot[15] = -inf\nydot[16] = -nan\nydot[17] = -inf\nydot[18] = -nan\nydot[19] = -nan\nydot[20] = -nan\nydot[21] = -inf\nydot[22] = -nan\nydot[23] = -nan\nydot[24] = -nan\nydot[25] = -nan\nydot[26] = -nan\nydot[27] = -nan\nydot[28] = -nan\nydot[29] = -nan\nydot[30] = -nan\nydot[31] = -nan\nydot[32] = -nan\nydot[33] = -nan\nydot[34] = -inf\nydot[35] = -nan\nydot[36] = -nan\nydot[37] = -inf\nydot[38] = -nan\nydot[39] = -inf\nydot[40] = -nan\nydot[41] = -nan\nydot[42] = -nan\nydot[43] = -nan\nydot[44] = -nan\nydot[45] = -inf\nydot[46] = -nan\nydot[47] = -inf\nydot[48] = -nan\nydot[49] = -inf\nydot[50] = inf\nydot[51] = -nan\nydot[52] = inf\nydot[53] = -inf\nydot[55] = -inf\nydot[56] = -inf\nydot[58] = -inf\nydot[59] = -inf\n***********************************************************************\n\n\n***********************************************************************\nCanteraError thrown by checkFinite:\nydot contains non-finite elements:\n\nydot[0] = inf\nydot[3] = -inf\nydot[4] = -nan\nydot[5] = -nan\nydot[6] = -nan\nydot[7] = -nan\nydot[8] = -nan\nydot[9] = -inf\nydot[10] = -nan\nydot[11] = -nan\nydot[12] = -nan\nydot[13] = -nan\nydot[14] = -nan\nydot[15] = -inf\nydot[16] = -nan\nydot[17] = -inf\nydot[18] = -nan\nydot[19] = -nan\nydot[20] = -nan\nydot[21] = -inf\nydot[22] = -nan\nydot[23] = -nan\nydot[24] = -nan\nydot[25] = -nan\nydot[26] = -nan\nydot[27] = -nan\nydot[28] = -nan\nydot[29] = -nan\nydot[30] = -nan\nydot[31] = -nan\nydot[32] = -nan\nydot[33] = -nan\nydot[34] = -inf\nydot[35] = -nan\nydot[36] = -nan\nydot[37] = -inf\nydot[38] = -nan\nydot[39] = -inf\nydot[40] = -nan\nydot[41] = -nan\nydot[42] = -nan\nydot[43] = -nan\nydot[44] = -nan\nydot[45] = -inf\nydot[46] = -nan\nydot[47] = -inf\nydot[48] = -nan\nydot[49] = -inf\nydot[50] = inf\nydot[51] = -nan\nydot[52] = inf\nydot[53] = -inf\nydot[55] = -inf\nydot[56] = -inf\nydot[58] = -inf\nydot[59] = -inf\n***********************************************************************\n\n\n***********************************************************************\nCanteraError thrown by checkFinite:\nydot contains non-finite elements:\n\nydot[0] = inf\nydot[3] = -inf\nydot[4] = -nan\nydot[5] = -nan\nydot[6] = -nan\nydot[7] = -nan\nydot[8] = -nan\nydot[9] = -inf\nydot[10] = -nan\nydot[11] = -nan\nydot[12] = -nan\nydot[13] = -nan\nydot[14] = -nan\nydot[15] = -inf\nydot[16] = -nan\nydot[17] = -inf\nydot[18] = -nan\nydot[19] = -nan\nydot[20] = -nan\nydot[21] = -inf\nydot[22] = -nan\nydot[23] = -nan\nydot[24] = -nan\nydot[25] = -nan\nydot[26] = -nan\nydot[27] = -nan\nydot[28] = -nan\nydot[29] = -nan\nydot[30] = -nan\nydot[31] = -nan\nydot[32] = -nan\nydot[33] = -nan\nydot[34] = -inf\nydot[35] = -nan\nydot[36] = -nan\nydot[37] = -inf\nydot[38] = -nan\nydot[39] = -inf\nydot[40] = -nan\nydot[41] = -nan\nydot[42] = -nan\nydot[43] = -nan\nydot[44] = -nan\nydot[45] = -inf\nydot[46] = -nan\nydot[47] = -inf\nydot[48] = -nan\nydot[49] = -inf\nydot[50] = inf\nydot[51] = -nan\nydot[52] = inf\nydot[53] = -inf\nydot[55] = -inf\nydot[56] = -inf\nydot[58] = -inf\nydot[59] = -inf\n***********************************************************************\n\n\nAt t = 2.55222e+19 repeated recoverable right-hand side function errors.\nComponents with largest weighted error estimates:\n3: -inf\n0: inf\n1: 0\n2: 0\n4: -nan\n5: -nan\n6: -nan\n7: -nan\n8: -nan\n9: -inf\n***********************************************************************\n",
     "output_type": "error",
     "traceback": [
      "\u001b[0;31m---------------------------------------------------------------------------\u001b[0m",
      "\u001b[0;31mCanteraError\u001b[0m                              Traceback (most recent call last)",
      "\u001b[0;32m<ipython-input-19-cfcf784f3644>\u001b[0m in \u001b[0;36m<module>\u001b[0;34m\u001b[0m\n\u001b[1;32m    100\u001b[0m     \u001b[0mupstream\u001b[0m\u001b[0;34m.\u001b[0m\u001b[0msyncState\u001b[0m\u001b[0;34m(\u001b[0m\u001b[0;34m)\u001b[0m\u001b[0;34m\u001b[0m\u001b[0;34m\u001b[0m\u001b[0m\n\u001b[1;32m    101\u001b[0m     \u001b[0msim\u001b[0m\u001b[0;34m.\u001b[0m\u001b[0mreinitialize\u001b[0m\u001b[0;34m(\u001b[0m\u001b[0;34m)\u001b[0m\u001b[0;34m\u001b[0m\u001b[0;34m\u001b[0m\u001b[0m\n\u001b[0;32m--> 102\u001b[0;31m     \u001b[0msim\u001b[0m\u001b[0;34m.\u001b[0m\u001b[0madvance_to_steady_state\u001b[0m\u001b[0;34m(\u001b[0m\u001b[0;34m)\u001b[0m\u001b[0;34m\u001b[0m\u001b[0;34m\u001b[0m\u001b[0m\n\u001b[0m\u001b[1;32m    103\u001b[0m     \u001b[0mdist\u001b[0m \u001b[0;34m=\u001b[0m \u001b[0mn\u001b[0m \u001b[0;34m*\u001b[0m \u001b[0mr_len\u001b[0m \u001b[0;34m*\u001b[0m \u001b[0;36m1.0e3\u001b[0m   \u001b[0;31m# distance in mm\u001b[0m\u001b[0;34m\u001b[0m\u001b[0;34m\u001b[0m\u001b[0m\n\u001b[1;32m    104\u001b[0m \u001b[0;34m\u001b[0m\u001b[0m\n",
      "\u001b[0;32minterfaces/cython/cantera/reactor.pyx\u001b[0m in \u001b[0;36mcantera._cantera.ReactorNet.advance_to_steady_state\u001b[0;34m()\u001b[0m\n",
      "\u001b[0;32minterfaces/cython/cantera/reactor.pyx\u001b[0m in \u001b[0;36mcantera._cantera.ReactorNet.step\u001b[0;34m()\u001b[0m\n",
      "\u001b[0;31mCanteraError\u001b[0m: \n***********************************************************************\nCanteraError thrown by CVodesIntegrator::step:\nCVodes error encountered. Error code: -10\nExceptions caught during RHS evaluation:\n\n***********************************************************************\nCanteraError thrown by checkFinite:\nydot contains non-finite elements:\n\nydot[0] = inf\nydot[3] = -inf\nydot[4] = -nan\nydot[5] = -nan\nydot[6] = -nan\nydot[7] = -nan\nydot[8] = -nan\nydot[9] = -inf\nydot[10] = -nan\nydot[11] = -nan\nydot[12] = -nan\nydot[13] = -nan\nydot[14] = -nan\nydot[15] = -inf\nydot[16] = -nan\nydot[17] = -inf\nydot[18] = -nan\nydot[19] = -nan\nydot[20] = -nan\nydot[21] = -inf\nydot[22] = -nan\nydot[23] = -nan\nydot[24] = -nan\nydot[25] = -nan\nydot[26] = -nan\nydot[27] = -nan\nydot[28] = -nan\nydot[29] = -nan\nydot[30] = -nan\nydot[31] = -nan\nydot[32] = -nan\nydot[33] = -nan\nydot[34] = -inf\nydot[35] = -nan\nydot[36] = -nan\nydot[37] = -inf\nydot[38] = -nan\nydot[39] = -inf\nydot[40] = -nan\nydot[41] = -nan\nydot[42] = -nan\nydot[43] = -nan\nydot[44] = -nan\nydot[45] = -inf\nydot[46] = -nan\nydot[47] = -inf\nydot[48] = -nan\nydot[49] = -inf\nydot[50] = inf\nydot[51] = -nan\nydot[52] = inf\nydot[53] = -inf\nydot[55] = -inf\nydot[56] = -inf\nydot[58] = -inf\nydot[59] = -inf\n***********************************************************************\n\n\n***********************************************************************\nCanteraError thrown by checkFinite:\nydot contains non-finite elements:\n\nydot[0] = inf\nydot[3] = -inf\nydot[4] = -nan\nydot[5] = -nan\nydot[6] = -nan\nydot[7] = -nan\nydot[8] = -nan\nydot[9] = -inf\nydot[10] = -nan\nydot[11] = -nan\nydot[12] = -nan\nydot[13] = -nan\nydot[14] = -nan\nydot[15] = -inf\nydot[16] = -nan\nydot[17] = -inf\nydot[18] = -nan\nydot[19] = -nan\nydot[20] = -nan\nydot[21] = -inf\nydot[22] = -nan\nydot[23] = -nan\nydot[24] = -nan\nydot[25] = -nan\nydot[26] = -nan\nydot[27] = -nan\nydot[28] = -nan\nydot[29] = -nan\nydot[30] = -nan\nydot[31] = -nan\nydot[32] = -nan\nydot[33] = -nan\nydot[34] = -inf\nydot[35] = -nan\nydot[36] = -nan\nydot[37] = -inf\nydot[38] = -nan\nydot[39] = -inf\nydot[40] = -nan\nydot[41] = -nan\nydot[42] = -nan\nydot[43] = -nan\nydot[44] = -nan\nydot[45] = -inf\nydot[46] = -nan\nydot[47] = -inf\nydot[48] = -nan\nydot[49] = -inf\nydot[50] = inf\nydot[51] = -nan\nydot[52] = inf\nydot[53] = -inf\nydot[55] = -inf\nydot[56] = -inf\nydot[58] = -inf\nydot[59] = -inf\n***********************************************************************\n\n\n***********************************************************************\nCanteraError thrown by checkFinite:\nydot contains non-finite elements:\n\nydot[0] = inf\nydot[3] = -inf\nydot[4] = -nan\nydot[5] = -nan\nydot[6] = -nan\nydot[7] = -nan\nydot[8] = -nan\nydot[9] = -inf\nydot[10] = -nan\nydot[11] = -nan\nydot[12] = -nan\nydot[13] = -nan\nydot[14] = -nan\nydot[15] = -inf\nydot[16] = -nan\nydot[17] = -inf\nydot[18] = -nan\nydot[19] = -nan\nydot[20] = -nan\nydot[21] = -inf\nydot[22] = -nan\nydot[23] = -nan\nydot[24] = -nan\nydot[25] = -nan\nydot[26] = -nan\nydot[27] = -nan\nydot[28] = -nan\nydot[29] = -nan\nydot[30] = -nan\nydot[31] = -nan\nydot[32] = -nan\nydot[33] = -nan\nydot[34] = -inf\nydot[35] = -nan\nydot[36] = -nan\nydot[37] = -inf\nydot[38] = -nan\nydot[39] = -inf\nydot[40] = -nan\nydot[41] = -nan\nydot[42] = -nan\nydot[43] = -nan\nydot[44] = -nan\nydot[45] = -inf\nydot[46] = -nan\nydot[47] = -inf\nydot[48] = -nan\nydot[49] = -inf\nydot[50] = inf\nydot[51] = -nan\nydot[52] = inf\nydot[53] = -inf\nydot[55] = -inf\nydot[56] = -inf\nydot[58] = -inf\nydot[59] = -inf\n***********************************************************************\n\n\n***********************************************************************\nCanteraError thrown by checkFinite:\nydot contains non-finite elements:\n\nydot[0] = inf\nydot[3] = -inf\nydot[4] = -nan\nydot[5] = -nan\nydot[6] = -nan\nydot[7] = -nan\nydot[8] = -nan\nydot[9] = -inf\nydot[10] = -nan\nydot[11] = -nan\nydot[12] = -nan\nydot[13] = -nan\nydot[14] = -nan\nydot[15] = -inf\nydot[16] = -nan\nydot[17] = -inf\nydot[18] = -nan\nydot[19] = -nan\nydot[20] = -nan\nydot[21] = -inf\nydot[22] = -nan\nydot[23] = -nan\nydot[24] = -nan\nydot[25] = -nan\nydot[26] = -nan\nydot[27] = -nan\nydot[28] = -nan\nydot[29] = -nan\nydot[30] = -nan\nydot[31] = -nan\nydot[32] = -nan\nydot[33] = -nan\nydot[34] = -inf\nydot[35] = -nan\nydot[36] = -nan\nydot[37] = -inf\nydot[38] = -nan\nydot[39] = -inf\nydot[40] = -nan\nydot[41] = -nan\nydot[42] = -nan\nydot[43] = -nan\nydot[44] = -nan\nydot[45] = -inf\nydot[46] = -nan\nydot[47] = -inf\nydot[48] = -nan\nydot[49] = -inf\nydot[50] = inf\nydot[51] = -nan\nydot[52] = inf\nydot[53] = -inf\nydot[55] = -inf\nydot[56] = -inf\nydot[58] = -inf\nydot[59] = -inf\n***********************************************************************\n\n\n***********************************************************************\nCanteraError thrown by checkFinite:\nydot contains non-finite elements:\n\nydot[0] = inf\nydot[3] = -inf\nydot[4] = -nan\nydot[5] = -nan\nydot[6] = -nan\nydot[7] = -nan\nydot[8] = -nan\nydot[9] = -inf\nydot[10] = -nan\nydot[11] = -nan\nydot[12] = -nan\nydot[13] = -nan\nydot[14] = -nan\nydot[15] = -inf\nydot[16] = -nan\nydot[17] = -inf\nydot[18] = -nan\nydot[19] = -nan\nydot[20] = -nan\nydot[21] = -inf\nydot[22] = -nan\nydot[23] = -nan\nydot[24] = -nan\nydot[25] = -nan\nydot[26] = -nan\nydot[27] = -nan\nydot[28] = -nan\nydot[29] = -nan\nydot[30] = -nan\nydot[31] = -nan\nydot[32] = -nan\nydot[33] = -nan\nydot[34] = -inf\nydot[35] = -nan\nydot[36] = -nan\nydot[37] = -inf\nydot[38] = -nan\nydot[39] = -inf\nydot[40] = -nan\nydot[41] = -nan\nydot[42] = -nan\nydot[43] = -nan\nydot[44] = -nan\nydot[45] = -inf\nydot[46] = -nan\nydot[47] = -inf\nydot[48] = -nan\nydot[49] = -inf\nydot[50] = inf\nydot[51] = -nan\nydot[52] = inf\nydot[53] = -inf\nydot[55] = -inf\nydot[56] = -inf\nydot[58] = -inf\nydot[59] = -inf\n***********************************************************************\n\n\n***********************************************************************\nCanteraError thrown by checkFinite:\nydot contains non-finite elements:\n\nydot[0] = inf\nydot[3] = -inf\nydot[4] = -nan\nydot[5] = -nan\nydot[6] = -nan\nydot[7] = -nan\nydot[8] = -nan\nydot[9] = -inf\nydot[10] = -nan\nydot[11] = -nan\nydot[12] = -nan\nydot[13] = -nan\nydot[14] = -nan\nydot[15] = -inf\nydot[16] = -nan\nydot[17] = -inf\nydot[18] = -nan\nydot[19] = -nan\nydot[20] = -nan\nydot[21] = -inf\nydot[22] = -nan\nydot[23] = -nan\nydot[24] = -nan\nydot[25] = -nan\nydot[26] = -nan\nydot[27] = -nan\nydot[28] = -nan\nydot[29] = -nan\nydot[30] = -nan\nydot[31] = -nan\nydot[32] = -nan\nydot[33] = -nan\nydot[34] = -inf\nydot[35] = -nan\nydot[36] = -nan\nydot[37] = -inf\nydot[38] = -nan\nydot[39] = -inf\nydot[40] = -nan\nydot[41] = -nan\nydot[42] = -nan\nydot[43] = -nan\nydot[44] = -nan\nydot[45] = -inf\nydot[46] = -nan\nydot[47] = -inf\nydot[48] = -nan\nydot[49] = -inf\nydot[50] = inf\nydot[51] = -nan\nydot[52] = inf\nydot[53] = -inf\nydot[55] = -inf\nydot[56] = -inf\nydot[58] = -inf\nydot[59] = -inf\n***********************************************************************\n\n\n***********************************************************************\nCanteraError thrown by checkFinite:\nydot contains non-finite elements:\n\nydot[0] = inf\nydot[3] = -inf\nydot[4] = -nan\nydot[5] = -nan\nydot[6] = -nan\nydot[7] = -nan\nydot[8] = -nan\nydot[9] = -inf\nydot[10] = -nan\nydot[11] = -nan\nydot[12] = -nan\nydot[13] = -nan\nydot[14] = -nan\nydot[15] = -inf\nydot[16] = -nan\nydot[17] = -inf\nydot[18] = -nan\nydot[19] = -nan\nydot[20] = -nan\nydot[21] = -inf\nydot[22] = -nan\nydot[23] = -nan\nydot[24] = -nan\nydot[25] = -nan\nydot[26] = -nan\nydot[27] = -nan\nydot[28] = -nan\nydot[29] = -nan\nydot[30] = -nan\nydot[31] = -nan\nydot[32] = -nan\nydot[33] = -nan\nydot[34] = -inf\nydot[35] = -nan\nydot[36] = -nan\nydot[37] = -inf\nydot[38] = -nan\nydot[39] = -inf\nydot[40] = -nan\nydot[41] = -nan\nydot[42] = -nan\nydot[43] = -nan\nydot[44] = -nan\nydot[45] = -inf\nydot[46] = -nan\nydot[47] = -inf\nydot[48] = -nan\nydot[49] = -inf\nydot[50] = inf\nydot[51] = -nan\nydot[52] = inf\nydot[53] = -inf\nydot[55] = -inf\nydot[56] = -inf\nydot[58] = -inf\nydot[59] = -inf\n***********************************************************************\n\n\n***********************************************************************\nCanteraError thrown by checkFinite:\nydot contains non-finite elements:\n\nydot[0] = inf\nydot[3] = -inf\nydot[4] = -nan\nydot[5] = -nan\nydot[6] = -nan\nydot[7] = -nan\nydot[8] = -nan\nydot[9] = -inf\nydot[10] = -nan\nydot[11] = -nan\nydot[12] = -nan\nydot[13] = -nan\nydot[14] = -nan\nydot[15] = -inf\nydot[16] = -nan\nydot[17] = -inf\nydot[18] = -nan\nydot[19] = -nan\nydot[20] = -nan\nydot[21] = -inf\nydot[22] = -nan\nydot[23] = -nan\nydot[24] = -nan\nydot[25] = -nan\nydot[26] = -nan\nydot[27] = -nan\nydot[28] = -nan\nydot[29] = -nan\nydot[30] = -nan\nydot[31] = -nan\nydot[32] = -nan\nydot[33] = -nan\nydot[34] = -inf\nydot[35] = -nan\nydot[36] = -nan\nydot[37] = -inf\nydot[38] = -nan\nydot[39] = -inf\nydot[40] = -nan\nydot[41] = -nan\nydot[42] = -nan\nydot[43] = -nan\nydot[44] = -nan\nydot[45] = -inf\nydot[46] = -nan\nydot[47] = -inf\nydot[48] = -nan\nydot[49] = -inf\nydot[50] = inf\nydot[51] = -nan\nydot[52] = inf\nydot[53] = -inf\nydot[55] = -inf\nydot[56] = -inf\nydot[58] = -inf\nydot[59] = -inf\n***********************************************************************\n\n\n***********************************************************************\nCanteraError thrown by checkFinite:\nydot contains non-finite elements:\n\nydot[0] = inf\nydot[3] = -inf\nydot[4] = -nan\nydot[5] = -nan\nydot[6] = -nan\nydot[7] = -nan\nydot[8] = -nan\nydot[9] = -inf\nydot[10] = -nan\nydot[11] = -nan\nydot[12] = -nan\nydot[13] = -nan\nydot[14] = -nan\nydot[15] = -inf\nydot[16] = -nan\nydot[17] = -inf\nydot[18] = -nan\nydot[19] = -nan\nydot[20] = -nan\nydot[21] = -inf\nydot[22] = -nan\nydot[23] = -nan\nydot[24] = -nan\nydot[25] = -nan\nydot[26] = -nan\nydot[27] = -nan\nydot[28] = -nan\nydot[29] = -nan\nydot[30] = -nan\nydot[31] = -nan\nydot[32] = -nan\nydot[33] = -nan\nydot[34] = -inf\nydot[35] = -nan\nydot[36] = -nan\nydot[37] = -inf\nydot[38] = -nan\nydot[39] = -inf\nydot[40] = -nan\nydot[41] = -nan\nydot[42] = -nan\nydot[43] = -nan\nydot[44] = -nan\nydot[45] = -inf\nydot[46] = -nan\nydot[47] = -inf\nydot[48] = -nan\nydot[49] = -inf\nydot[50] = inf\nydot[51] = -nan\nydot[52] = inf\nydot[53] = -inf\nydot[55] = -inf\nydot[56] = -inf\nydot[58] = -inf\nydot[59] = -inf\n***********************************************************************\n\n\nAt t = 2.55222e+19 repeated recoverable right-hand side function errors.\nComponents with largest weighted error estimates:\n3: -inf\n0: inf\n1: 0\n2: 0\n4: -nan\n5: -nan\n6: -nan\n7: -nan\n8: -nan\n9: -inf\n***********************************************************************\n"
     ]
    }
   ],
   "source": [
    "# unit conversion factors to SI\n",
    "cm = 0.01\n",
    "minute = 60.0\n",
    "\n",
    "#######################################################################\n",
    "# Input Parameters for combustor\n",
    "#######################################################################\n",
    "mass_flow_rate =  0.5e-3 # kg/s\n",
    "temperature_c = 200.0  # Initial Temperature in Celsius\n",
    "pressure = ct.one_atm # constant\n",
    "length = 1.1 * cm  # Catalyst bed length. 11mm\n",
    "area = np.pi * (0.9*cm)**2  # Catalyst bed area.  18mm diameter circle.\n",
    "cat_area_per_vol = 1000.0 / cm  # Catalyst particle surface area per unit volume. UNKNOWN\n",
    "porosity = 0.38  # Catalyst bed porosity (0.38)\n",
    "# Al2O3 particles are about 0.7mm diameter\n",
    "\n",
    "output_filename = 'surf_pfr_output.csv'\n",
    "\n",
    "# The PFR will be simulated by a chain of 'NReactors' stirred reactors.\n",
    "NReactors = 1101\n",
    "dt = 1.0\n",
    "\n",
    "#####################################################################\n",
    "\n",
    "temperature_kelvin = temperature_c + 273.15  # convert to Kelvin\n",
    "\n",
    "# import the gas model and set the initial conditions\n",
    "gas = ct.Solution(cti_file, 'gas')\n",
    "\n",
    "# should this be mole fractions or mole fractions?\n",
    "gas.TPY = temperature_kelvin, pressure, 'H4N2O2(2):0.14, NH2OH(3):0.3, HNO3(4):0.3, CH3OH(5):0.16, H2O(6):0.04'\n",
    "\n",
    "# import the surface model\n",
    "surf = ct.Interface(cti_file,'surface1', [gas])\n",
    "surf.TP = temperature_kelvin, ct.one_atm\n",
    "\n",
    "r_len = length/(NReactors-1)\n",
    "r_vol = area * r_len * porosity\n",
    "\n",
    "outfile = open(output_filename,'w')\n",
    "writer = csv.writer(outfile)\n",
    "writer.writerow(['Distance (mm)', 'T (C)', 'P (atm)'] +\n",
    "                gas.species_names + surf.species_names)\n",
    "\n",
    "# catalyst area in one reactor\n",
    "cat_area = cat_area_per_vol * r_vol\n",
    "\n",
    "# Not sure we need the velocity\n",
    "velocity = mass_flow_rate / (gas.density * area)\n",
    "\n",
    "# The plug flow reactor is represented by a linear chain of zero-dimensional\n",
    "# reactors. The gas at the inlet to the first one has the specified inlet\n",
    "# composition, and for all others the inlet composition is fixed at the\n",
    "# composition of the reactor immediately upstream. Since in a PFR model there\n",
    "# is no diffusion, the upstream reactors are not affected by any downstream\n",
    "# reactors, and therefore the problem may be solved by simply marching from\n",
    "# the first to last reactor, integrating each one to steady state.\n",
    "\n",
    "TDY = gas.TDY\n",
    "cov = surf.coverages\n",
    "\n",
    "print('    distance       H4N2O2(2)   NH2OH(3)  HNO3(4)   CH3OH(5)')\n",
    "\n",
    "# create a new reactor\n",
    "gas.TDY = TDY\n",
    "r = ct.IdealGasReactor(gas, energy='off')\n",
    "r.volume = r_vol\n",
    "\n",
    "# create a reservoir to represent the reactor immediately upstream. Note\n",
    "# that the gas object is set already to the state of the upstream reactor\n",
    "upstream = ct.Reservoir(gas, name='upstream')\n",
    "\n",
    "# create a reservoir for the reactor to exhaust into. The composition of\n",
    "# this reservoir is irrelevant.\n",
    "downstream = ct.Reservoir(gas, name='downstream')\n",
    "\n",
    "# Add the reacting surface to the reactor. The area is set to the desired\n",
    "# catalyst area in the reactor.\n",
    "rsurf = ct.ReactorSurface(surf, r, A=cat_area)\n",
    "\n",
    "# The mass flow rate into the reactor will be fixed by using a\n",
    "# MassFlowController object.\n",
    "m = ct.MassFlowController(upstream, r, mdot=mass_flow_rate)\n",
    "\n",
    "# We need an outlet to the downstream reservoir. This will determine the\n",
    "# pressure in the reactor. The value of K will only affect the transient\n",
    "# pressure difference.\n",
    "v = ct.PressureController(r, downstream, master=m, K=1e-5)\n",
    "\n",
    "sim = ct.ReactorNet([r])\n",
    "sim.max_err_test_fails = 12\n",
    "\n",
    "# set relative and absolute tolerances on the simulation\n",
    "sim.rtol = 1.0e-12\n",
    "sim.atol = 1.0e-21\n",
    "\n",
    "for n in range(NReactors):\n",
    "    # Set the state of the reservoir to match that of the previous reactor\n",
    "    gas.TDY = r.thermo.TDY\n",
    "    upstream.syncState()\n",
    "    sim.reinitialize()\n",
    "    sim.advance_to_steady_state()\n",
    "    dist = n * r_len * 1.0e3   # distance in mm\n",
    "\n",
    "    if not n % 10:\n",
    "        print('  {0:10f}  {1:10f}  {2:10f}  {3:10f} {4:10f}'.format(dist, *gas['H4N2O2(2)','NH2OH(3)','HNO3(4)','CH3OH(5)'].X))\n",
    "\n",
    "    # write the gas mole fractions and surface coverages vs. distance\n",
    "    writer.writerow([dist, r.T - 273.15, r.thermo.P/ct.one_atm] +\n",
    "                    list(gas.X) + list(surf.coverages))\n",
    "\n",
    "outfile.close()\n",
    "print(\"Results saved to '{0}'\".format(output_filename))\n"
   ]
  },
  {
   "cell_type": "code",
   "metadata": {},
   "outputs": [],
   "source": []
  },
  {
   "cell_type": "code",
   "execution_count": 20,
   "metadata": {},
   "outputs": [
    {
     "ename": "EmptyDataError",
     "evalue": "No columns to parse from file",
     "output_type": "error",
     "traceback": [
      "\u001b[0;31m---------------------------------------------------------------------------\u001b[0m",
      "\u001b[0;31mEmptyDataError\u001b[0m                            Traceback (most recent call last)",
      "\u001b[0;32m<ipython-input-20-f4a932acb105>\u001b[0m in \u001b[0;36m<module>\u001b[0;34m\u001b[0m\n\u001b[0;32m----> 1\u001b[0;31m \u001b[0mdata\u001b[0m \u001b[0;34m=\u001b[0m \u001b[0mpd\u001b[0m\u001b[0;34m.\u001b[0m\u001b[0mread_csv\u001b[0m\u001b[0;34m(\u001b[0m\u001b[0moutput_filename\u001b[0m\u001b[0;34m)\u001b[0m\u001b[0;34m\u001b[0m\u001b[0;34m\u001b[0m\u001b[0m\n\u001b[0m\u001b[1;32m      2\u001b[0m \u001b[0mdata\u001b[0m\u001b[0;34m\u001b[0m\u001b[0;34m\u001b[0m\u001b[0m\n",
      "\u001b[0;32m~/anaconda/envs/rmg3/lib/python3.7/site-packages/pandas/io/parsers.py\u001b[0m in \u001b[0;36mparser_f\u001b[0;34m(filepath_or_buffer, sep, delimiter, header, names, index_col, usecols, squeeze, prefix, mangle_dupe_cols, dtype, engine, converters, true_values, false_values, skipinitialspace, skiprows, skipfooter, nrows, na_values, keep_default_na, na_filter, verbose, skip_blank_lines, parse_dates, infer_datetime_format, keep_date_col, date_parser, dayfirst, cache_dates, iterator, chunksize, compression, thousands, decimal, lineterminator, quotechar, quoting, doublequote, escapechar, comment, encoding, dialect, error_bad_lines, warn_bad_lines, delim_whitespace, low_memory, memory_map, float_precision)\u001b[0m\n\u001b[1;32m    683\u001b[0m         )\n\u001b[1;32m    684\u001b[0m \u001b[0;34m\u001b[0m\u001b[0m\n\u001b[0;32m--> 685\u001b[0;31m         \u001b[0;32mreturn\u001b[0m \u001b[0m_read\u001b[0m\u001b[0;34m(\u001b[0m\u001b[0mfilepath_or_buffer\u001b[0m\u001b[0;34m,\u001b[0m \u001b[0mkwds\u001b[0m\u001b[0;34m)\u001b[0m\u001b[0;34m\u001b[0m\u001b[0;34m\u001b[0m\u001b[0m\n\u001b[0m\u001b[1;32m    686\u001b[0m \u001b[0;34m\u001b[0m\u001b[0m\n\u001b[1;32m    687\u001b[0m     \u001b[0mparser_f\u001b[0m\u001b[0;34m.\u001b[0m\u001b[0m__name__\u001b[0m \u001b[0;34m=\u001b[0m \u001b[0mname\u001b[0m\u001b[0;34m\u001b[0m\u001b[0;34m\u001b[0m\u001b[0m\n",
      "\u001b[0;32m~/anaconda/envs/rmg3/lib/python3.7/site-packages/pandas/io/parsers.py\u001b[0m in \u001b[0;36m_read\u001b[0;34m(filepath_or_buffer, kwds)\u001b[0m\n\u001b[1;32m    455\u001b[0m \u001b[0;34m\u001b[0m\u001b[0m\n\u001b[1;32m    456\u001b[0m     \u001b[0;31m# Create the parser.\u001b[0m\u001b[0;34m\u001b[0m\u001b[0;34m\u001b[0m\u001b[0;34m\u001b[0m\u001b[0m\n\u001b[0;32m--> 457\u001b[0;31m     \u001b[0mparser\u001b[0m \u001b[0;34m=\u001b[0m \u001b[0mTextFileReader\u001b[0m\u001b[0;34m(\u001b[0m\u001b[0mfp_or_buf\u001b[0m\u001b[0;34m,\u001b[0m \u001b[0;34m**\u001b[0m\u001b[0mkwds\u001b[0m\u001b[0;34m)\u001b[0m\u001b[0;34m\u001b[0m\u001b[0;34m\u001b[0m\u001b[0m\n\u001b[0m\u001b[1;32m    458\u001b[0m \u001b[0;34m\u001b[0m\u001b[0m\n\u001b[1;32m    459\u001b[0m     \u001b[0;32mif\u001b[0m \u001b[0mchunksize\u001b[0m \u001b[0;32mor\u001b[0m \u001b[0miterator\u001b[0m\u001b[0;34m:\u001b[0m\u001b[0;34m\u001b[0m\u001b[0;34m\u001b[0m\u001b[0m\n",
      "\u001b[0;32m~/anaconda/envs/rmg3/lib/python3.7/site-packages/pandas/io/parsers.py\u001b[0m in \u001b[0;36m__init__\u001b[0;34m(self, f, engine, **kwds)\u001b[0m\n\u001b[1;32m    893\u001b[0m             \u001b[0mself\u001b[0m\u001b[0;34m.\u001b[0m\u001b[0moptions\u001b[0m\u001b[0;34m[\u001b[0m\u001b[0;34m\"has_index_names\"\u001b[0m\u001b[0;34m]\u001b[0m \u001b[0;34m=\u001b[0m \u001b[0mkwds\u001b[0m\u001b[0;34m[\u001b[0m\u001b[0;34m\"has_index_names\"\u001b[0m\u001b[0;34m]\u001b[0m\u001b[0;34m\u001b[0m\u001b[0;34m\u001b[0m\u001b[0m\n\u001b[1;32m    894\u001b[0m \u001b[0;34m\u001b[0m\u001b[0m\n\u001b[0;32m--> 895\u001b[0;31m         \u001b[0mself\u001b[0m\u001b[0;34m.\u001b[0m\u001b[0m_make_engine\u001b[0m\u001b[0;34m(\u001b[0m\u001b[0mself\u001b[0m\u001b[0;34m.\u001b[0m\u001b[0mengine\u001b[0m\u001b[0;34m)\u001b[0m\u001b[0;34m\u001b[0m\u001b[0;34m\u001b[0m\u001b[0m\n\u001b[0m\u001b[1;32m    896\u001b[0m \u001b[0;34m\u001b[0m\u001b[0m\n\u001b[1;32m    897\u001b[0m     \u001b[0;32mdef\u001b[0m \u001b[0mclose\u001b[0m\u001b[0;34m(\u001b[0m\u001b[0mself\u001b[0m\u001b[0;34m)\u001b[0m\u001b[0;34m:\u001b[0m\u001b[0;34m\u001b[0m\u001b[0;34m\u001b[0m\u001b[0m\n",
      "\u001b[0;32m~/anaconda/envs/rmg3/lib/python3.7/site-packages/pandas/io/parsers.py\u001b[0m in \u001b[0;36m_make_engine\u001b[0;34m(self, engine)\u001b[0m\n\u001b[1;32m   1133\u001b[0m     \u001b[0;32mdef\u001b[0m \u001b[0m_make_engine\u001b[0m\u001b[0;34m(\u001b[0m\u001b[0mself\u001b[0m\u001b[0;34m,\u001b[0m \u001b[0mengine\u001b[0m\u001b[0;34m=\u001b[0m\u001b[0;34m\"c\"\u001b[0m\u001b[0;34m)\u001b[0m\u001b[0;34m:\u001b[0m\u001b[0;34m\u001b[0m\u001b[0;34m\u001b[0m\u001b[0m\n\u001b[1;32m   1134\u001b[0m         \u001b[0;32mif\u001b[0m \u001b[0mengine\u001b[0m \u001b[0;34m==\u001b[0m \u001b[0;34m\"c\"\u001b[0m\u001b[0;34m:\u001b[0m\u001b[0;34m\u001b[0m\u001b[0;34m\u001b[0m\u001b[0m\n\u001b[0;32m-> 1135\u001b[0;31m             \u001b[0mself\u001b[0m\u001b[0;34m.\u001b[0m\u001b[0m_engine\u001b[0m \u001b[0;34m=\u001b[0m \u001b[0mCParserWrapper\u001b[0m\u001b[0;34m(\u001b[0m\u001b[0mself\u001b[0m\u001b[0;34m.\u001b[0m\u001b[0mf\u001b[0m\u001b[0;34m,\u001b[0m \u001b[0;34m**\u001b[0m\u001b[0mself\u001b[0m\u001b[0;34m.\u001b[0m\u001b[0moptions\u001b[0m\u001b[0;34m)\u001b[0m\u001b[0;34m\u001b[0m\u001b[0;34m\u001b[0m\u001b[0m\n\u001b[0m\u001b[1;32m   1136\u001b[0m         \u001b[0;32melse\u001b[0m\u001b[0;34m:\u001b[0m\u001b[0;34m\u001b[0m\u001b[0;34m\u001b[0m\u001b[0m\n\u001b[1;32m   1137\u001b[0m             \u001b[0;32mif\u001b[0m \u001b[0mengine\u001b[0m \u001b[0;34m==\u001b[0m \u001b[0;34m\"python\"\u001b[0m\u001b[0;34m:\u001b[0m\u001b[0;34m\u001b[0m\u001b[0;34m\u001b[0m\u001b[0m\n",
      "\u001b[0;32m~/anaconda/envs/rmg3/lib/python3.7/site-packages/pandas/io/parsers.py\u001b[0m in \u001b[0;36m__init__\u001b[0;34m(self, src, **kwds)\u001b[0m\n\u001b[1;32m   1915\u001b[0m         \u001b[0mkwds\u001b[0m\u001b[0;34m[\u001b[0m\u001b[0;34m\"usecols\"\u001b[0m\u001b[0;34m]\u001b[0m \u001b[0;34m=\u001b[0m \u001b[0mself\u001b[0m\u001b[0;34m.\u001b[0m\u001b[0musecols\u001b[0m\u001b[0;34m\u001b[0m\u001b[0;34m\u001b[0m\u001b[0m\n\u001b[1;32m   1916\u001b[0m \u001b[0;34m\u001b[0m\u001b[0m\n\u001b[0;32m-> 1917\u001b[0;31m         \u001b[0mself\u001b[0m\u001b[0;34m.\u001b[0m\u001b[0m_reader\u001b[0m \u001b[0;34m=\u001b[0m \u001b[0mparsers\u001b[0m\u001b[0;34m.\u001b[0m\u001b[0mTextReader\u001b[0m\u001b[0;34m(\u001b[0m\u001b[0msrc\u001b[0m\u001b[0;34m,\u001b[0m \u001b[0;34m**\u001b[0m\u001b[0mkwds\u001b[0m\u001b[0;34m)\u001b[0m\u001b[0;34m\u001b[0m\u001b[0;34m\u001b[0m\u001b[0m\n\u001b[0m\u001b[1;32m   1918\u001b[0m         \u001b[0mself\u001b[0m\u001b[0;34m.\u001b[0m\u001b[0munnamed_cols\u001b[0m \u001b[0;34m=\u001b[0m \u001b[0mself\u001b[0m\u001b[0;34m.\u001b[0m\u001b[0m_reader\u001b[0m\u001b[0;34m.\u001b[0m\u001b[0munnamed_cols\u001b[0m\u001b[0;34m\u001b[0m\u001b[0;34m\u001b[0m\u001b[0m\n\u001b[1;32m   1919\u001b[0m \u001b[0;34m\u001b[0m\u001b[0m\n",
      "\u001b[0;32mpandas/_libs/parsers.pyx\u001b[0m in \u001b[0;36mpandas._libs.parsers.TextReader.__cinit__\u001b[0;34m()\u001b[0m\n",
      "\u001b[0;31mEmptyDataError\u001b[0m: No columns to parse from file"
     ]
    }
   ],
   "source": [
    "data = pd.read_csv(output_filename)\n",
    "data"
   ]
  },
  {
   "cell_type": "code",
   "execution_count": 0,
   "metadata": {},
   "outputs": [],
   "source": [
    "data['T (C)'].plot()"
   ]
  },
  {
   "cell_type": "code",
   "execution_count": 0,
   "metadata": {},
   "outputs": [],
   "source": [
    "data[['H4N2O2(2)', 'CH3OH(5)']].plot()"
   ]
  },
  {
   "cell_type": "code",
   "execution_count": 0,
   "metadata": {},
   "outputs": [],
   "source": [
    "list(data.columns)[:4]"
   ]
  },
  {
   "cell_type": "code",
   "execution_count": 0,
   "metadata": {},
   "outputs": [],
   "source": [
    "specs = list(data.columns)\n",
    "specs = specs[4:]\n",
    "specs"
   ]
  },
  {
   "cell_type": "code",
   "execution_count": 0,
   "metadata": {},
   "outputs": [],
   "source": [
    "data[specs[1:5]].plot()\n",
    "\n",
    "for i in range(0,len(specs),10):\n",
    "    data[specs[i:i+10]].plot()"
   ]
  },
  {
   "cell_type": "code",
   "execution_count": 0,
   "metadata": {},
   "outputs": [],
   "source": [
    "gas.species('NO(49)').composition"
   ]
  },
  {
   "cell_type": "code",
   "execution_count": 0,
   "metadata": {},
   "outputs": [],
   "source": [
    "data['NO(49)'].plot()"
   ]
  },
  {
   "cell_type": "code",
   "execution_count": 0,
   "metadata": {},
   "outputs": [],
   "source": [
    "(data[specs].max()>0.01)"
   ]
  },
  {
   "cell_type": "code",
   "metadata": {},
   "outputs": [],
   "source": []
  },
  {
   "cell_type": "code",
   "execution_count": 0,
   "metadata": {},
   "outputs": [],
   "source": [
    "data.loc[0]"
   ]
  },
  {
   "cell_type": "code",
   "metadata": {},
   "outputs": [],
   "source": []
  },
  {
   "cell_type": "code",
   "metadata": {},
   "outputs": [],
   "source": []
  }
 ],
 "metadata": {
  "kernelspec": {
   "display_name": "Python 3",
   "language": "python",
   "name": "python3"
  },
  "language_info": {
   "codemirror_mode": {
    "name": "ipython",
    "version": 3
   },
   "file_extension": ".py",
   "mimetype": "text/x-python",
   "name": "python",
   "nbconvert_exporter": "python",
   "pygments_lexer": "ipython3",
   "version": "3.7.4"
  }
 },
 "nbformat": 4,
 "nbformat_minor": 2
}