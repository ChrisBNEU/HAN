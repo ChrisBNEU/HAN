{
 "cells": [
  {
   "cell_type": "code",
   "execution_count": 1,
   "metadata": {},
   "outputs": [
    {
     "name": "stderr",
     "output_type": "stream",
     "text": [
      "species.py:52 <module> INFO Error importing py3Dmol\n",
      "kyotostore.py:40 <module> WARNING No kyotocabinet available\n",
      "reaction.py:66 <module> INFO Error importing py3Dmol\n"
     ]
    }
   ],
   "source": [
    "import os\n",
    "from autotst.species import Conformer, Species\n",
    "from autotst.calculator.statmech import *"
   ]
  },
  {
   "cell_type": "code",
   "execution_count": 8,
   "metadata": {},
   "outputs": [],
   "source": [
    "directory = \"/scratch/westgroup/HANscratch/\"\n",
    "species = os.listdir(os.path.join(directory, \"species\"))"
   ]
  },
  {
   "cell_type": "code",
   "execution_count": 9,
   "metadata": {},
   "outputs": [
    {
     "name": "stdout",
     "output_type": "stream",
     "text": [
      "Species input file already written... Not doing anything\n",
      "Arkane execution initiated at Fri Nov 15 14:20:51 2019\n",
      "\n",
      "################################################################\n",
      "#                                                              #\n",
      "# Automated Reaction Kinetics and Network Exploration (Arkane) #\n",
      "#                                                              #\n",
      "#   Version: 2.4.1                                             #\n",
      "#   Authors: RMG Developers (rmg_dev@mit.edu)                  #\n",
      "#   P.I.s:   William H. Green (whgreen@mit.edu)                #\n",
      "#            Richard H. West (r.west@neu.edu)                  #\n",
      "#   Website: http://reactionmechanismgenerator.github.io/      #\n",
      "#                                                              #\n",
      "################################################################\n",
      "\n",
      "Loading species species...\n",
      "\n",
      "\n",
      "Loading statistical mechanics parameters for species...\n",
      "Symmetry input file written to /home/harms.n/Code/HAN/RMG-model/autotst/scratch/0.symm\n",
      "Point group: C1\n",
      "Saving statistical mechanics parameters for species...\n",
      "Saving thermo for species...\n",
      "\n",
      "Arkane execution terminated at Fri Nov 15 14:20:51 2019\n",
      "Species input file already written... Not doing anything\n",
      "Arkane execution initiated at Fri Nov 15 14:20:51 2019\n",
      "\n",
      "################################################################\n",
      "#                                                              #\n",
      "# Automated Reaction Kinetics and Network Exploration (Arkane) #\n",
      "#                                                              #\n",
      "#   Version: 2.4.1                                             #\n",
      "#   Authors: RMG Developers (rmg_dev@mit.edu)                  #\n",
      "#   P.I.s:   William H. Green (whgreen@mit.edu)                #\n",
      "#            Richard H. West (r.west@neu.edu)                  #\n",
      "#   Website: http://reactionmechanismgenerator.github.io/      #\n",
      "#                                                              #\n",
      "################################################################\n",
      "\n",
      "Loading species species...\n",
      "\n",
      "\n",
      "Loading statistical mechanics parameters for species...\n",
      "Symmetry input file written to /home/harms.n/Code/HAN/RMG-model/autotst/scratch/0.symm\n",
      "Point group: C1\n",
      "Saving statistical mechanics parameters for species...\n",
      "Saving thermo for species...\n",
      "\n",
      "Arkane execution terminated at Fri Nov 15 14:20:51 2019\n",
      "Species input file already written... Not doing anything\n",
      "Arkane execution initiated at Fri Nov 15 14:20:51 2019\n",
      "\n",
      "################################################################\n",
      "#                                                              #\n",
      "# Automated Reaction Kinetics and Network Exploration (Arkane) #\n",
      "#                                                              #\n",
      "#   Version: 2.4.1                                             #\n",
      "#   Authors: RMG Developers (rmg_dev@mit.edu)                  #\n",
      "#   P.I.s:   William H. Green (whgreen@mit.edu)                #\n",
      "#            Richard H. West (r.west@neu.edu)                  #\n",
      "#   Website: http://reactionmechanismgenerator.github.io/      #\n",
      "#                                                              #\n",
      "################################################################\n",
      "\n",
      "Loading species species...\n",
      "\n",
      "\n",
      "Loading statistical mechanics parameters for species...\n",
      "Symmetry input file written to /home/harms.n/Code/HAN/RMG-model/autotst/scratch/0.symm\n",
      "Point group: C1\n",
      "Saving statistical mechanics parameters for species...\n",
      "Saving thermo for species...\n",
      "\n",
      "Arkane execution terminated at Fri Nov 15 14:20:51 2019\n",
      "Species input file already written... Not doing anything\n",
      "Arkane execution initiated at Fri Nov 15 14:20:51 2019\n",
      "\n",
      "################################################################\n",
      "#                                                              #\n",
      "# Automated Reaction Kinetics and Network Exploration (Arkane) #\n",
      "#                                                              #\n",
      "#   Version: 2.4.1                                             #\n",
      "#   Authors: RMG Developers (rmg_dev@mit.edu)                  #\n",
      "#   P.I.s:   William H. Green (whgreen@mit.edu)                #\n",
      "#            Richard H. West (r.west@neu.edu)                  #\n",
      "#   Website: http://reactionmechanismgenerator.github.io/      #\n",
      "#                                                              #\n",
      "################################################################\n",
      "\n",
      "Loading species species...\n",
      "\n",
      "\n",
      "Loading statistical mechanics parameters for species...\n",
      "Symmetry input file written to /home/harms.n/Code/HAN/RMG-model/autotst/scratch/0.symm\n",
      "Point group: C1\n",
      "Saving statistical mechanics parameters for species...\n",
      "Saving thermo for species...\n",
      "\n",
      "Arkane execution terminated at Fri Nov 15 14:20:51 2019\n",
      "Species input file already written... Not doing anything\n",
      "Arkane execution initiated at Fri Nov 15 14:20:51 2019\n",
      "\n",
      "################################################################\n",
      "#                                                              #\n",
      "# Automated Reaction Kinetics and Network Exploration (Arkane) #\n",
      "#                                                              #\n",
      "#   Version: 2.4.1                                             #\n",
      "#   Authors: RMG Developers (rmg_dev@mit.edu)                  #\n",
      "#   P.I.s:   William H. Green (whgreen@mit.edu)                #\n",
      "#            Richard H. West (r.west@neu.edu)                  #\n",
      "#   Website: http://reactionmechanismgenerator.github.io/      #\n",
      "#                                                              #\n",
      "################################################################\n",
      "\n",
      "Loading species species...\n",
      "\n",
      "\n",
      "Loading statistical mechanics parameters for species...\n",
      "Symmetry input file written to /home/harms.n/Code/HAN/RMG-model/autotst/scratch/0.symm\n",
      "Point group: C2v\n",
      "Saving statistical mechanics parameters for species...\n",
      "Saving thermo for species...\n",
      "\n",
      "Arkane execution terminated at Fri Nov 15 14:20:52 2019\n",
      "Species input file already written... Not doing anything\n",
      "Arkane execution initiated at Fri Nov 15 14:20:52 2019\n",
      "\n",
      "################################################################\n",
      "#                                                              #\n",
      "# Automated Reaction Kinetics and Network Exploration (Arkane) #\n",
      "#                                                              #\n",
      "#   Version: 2.4.1                                             #\n",
      "#   Authors: RMG Developers (rmg_dev@mit.edu)                  #\n",
      "#   P.I.s:   William H. Green (whgreen@mit.edu)                #\n",
      "#            Richard H. West (r.west@neu.edu)                  #\n",
      "#   Website: http://reactionmechanismgenerator.github.io/      #\n",
      "#                                                              #\n",
      "################################################################\n",
      "\n",
      "Loading species species...\n",
      "\n",
      "\n",
      "Loading statistical mechanics parameters for species...\n",
      "Symmetry input file written to /home/harms.n/Code/HAN/RMG-model/autotst/scratch/0.symm\n",
      "Point group: Cs\n",
      "Saving statistical mechanics parameters for species...\n",
      "Saving thermo for species...\n",
      "\n",
      "Arkane execution terminated at Fri Nov 15 14:20:52 2019\n",
      "Species input file already written... Not doing anything\n",
      "Arkane execution initiated at Fri Nov 15 14:20:52 2019\n",
      "\n",
      "################################################################\n",
      "#                                                              #\n",
      "# Automated Reaction Kinetics and Network Exploration (Arkane) #\n",
      "#                                                              #\n",
      "#   Version: 2.4.1                                             #\n",
      "#   Authors: RMG Developers (rmg_dev@mit.edu)                  #\n",
      "#   P.I.s:   William H. Green (whgreen@mit.edu)                #\n",
      "#            Richard H. West (r.west@neu.edu)                  #\n",
      "#   Website: http://reactionmechanismgenerator.github.io/      #\n",
      "#                                                              #\n",
      "################################################################\n",
      "\n",
      "Loading species species...\n",
      "\n",
      "\n",
      "Loading statistical mechanics parameters for species...\n",
      "Symmetry input file written to /home/harms.n/Code/HAN/RMG-model/autotst/scratch/0.symm\n",
      "Point group: C1\n",
      "Saving statistical mechanics parameters for species...\n",
      "Saving thermo for species...\n",
      "\n",
      "Arkane execution terminated at Fri Nov 15 14:20:52 2019\n",
      "Species input file already written... Not doing anything\n",
      "Arkane execution initiated at Fri Nov 15 14:20:52 2019\n"
     ]
    },
    {
     "name": "stdout",
     "output_type": "stream",
     "text": [
      "\n",
      "################################################################\n",
      "#                                                              #\n",
      "# Automated Reaction Kinetics and Network Exploration (Arkane) #\n",
      "#                                                              #\n",
      "#   Version: 2.4.1                                             #\n",
      "#   Authors: RMG Developers (rmg_dev@mit.edu)                  #\n",
      "#   P.I.s:   William H. Green (whgreen@mit.edu)                #\n",
      "#            Richard H. West (r.west@neu.edu)                  #\n",
      "#   Website: http://reactionmechanismgenerator.github.io/      #\n",
      "#                                                              #\n",
      "################################################################\n",
      "\n",
      "Loading species species...\n",
      "\n",
      "\n",
      "Loading statistical mechanics parameters for species...\n",
      "Symmetry input file written to /home/harms.n/Code/HAN/RMG-model/autotst/scratch/0.symm\n",
      "Point group: C1\n",
      "Saving statistical mechanics parameters for species...\n",
      "Saving thermo for species...\n",
      "\n",
      "Arkane execution terminated at Fri Nov 15 14:20:52 2019\n",
      "Species input file already written... Not doing anything\n",
      "Arkane execution initiated at Fri Nov 15 14:20:52 2019\n",
      "\n",
      "################################################################\n",
      "#                                                              #\n",
      "# Automated Reaction Kinetics and Network Exploration (Arkane) #\n",
      "#                                                              #\n",
      "#   Version: 2.4.1                                             #\n",
      "#   Authors: RMG Developers (rmg_dev@mit.edu)                  #\n",
      "#   P.I.s:   William H. Green (whgreen@mit.edu)                #\n",
      "#            Richard H. West (r.west@neu.edu)                  #\n",
      "#   Website: http://reactionmechanismgenerator.github.io/      #\n",
      "#                                                              #\n",
      "################################################################\n",
      "\n",
      "Loading species species...\n",
      "\n",
      "\n",
      "Loading statistical mechanics parameters for species...\n",
      "Symmetry input file written to /home/harms.n/Code/HAN/RMG-model/autotst/scratch/0.symm\n",
      "Point group: Cs\n",
      "Saving statistical mechanics parameters for species...\n",
      "Saving thermo for species...\n",
      "\n",
      "Arkane execution terminated at Fri Nov 15 14:20:52 2019\n",
      "Species input file already written... Not doing anything\n",
      "Arkane execution initiated at Fri Nov 15 14:20:52 2019\n",
      "\n",
      "################################################################\n",
      "#                                                              #\n",
      "# Automated Reaction Kinetics and Network Exploration (Arkane) #\n",
      "#                                                              #\n",
      "#   Version: 2.4.1                                             #\n",
      "#   Authors: RMG Developers (rmg_dev@mit.edu)                  #\n",
      "#   P.I.s:   William H. Green (whgreen@mit.edu)                #\n",
      "#            Richard H. West (r.west@neu.edu)                  #\n",
      "#   Website: http://reactionmechanismgenerator.github.io/      #\n",
      "#                                                              #\n",
      "################################################################\n",
      "\n",
      "Loading species species...\n",
      "\n",
      "\n",
      "Loading statistical mechanics parameters for species...\n",
      "Symmetry input file written to /home/harms.n/Code/HAN/RMG-model/autotst/scratch/0.symm\n",
      "Point group: C2v\n",
      "Saving statistical mechanics parameters for species...\n",
      "Saving thermo for species...\n",
      "\n",
      "Arkane execution terminated at Fri Nov 15 14:20:52 2019\n",
      "Species input file already written... Not doing anything\n",
      "Arkane execution initiated at Fri Nov 15 14:20:52 2019\n",
      "\n",
      "################################################################\n",
      "#                                                              #\n",
      "# Automated Reaction Kinetics and Network Exploration (Arkane) #\n",
      "#                                                              #\n",
      "#   Version: 2.4.1                                             #\n",
      "#   Authors: RMG Developers (rmg_dev@mit.edu)                  #\n",
      "#   P.I.s:   William H. Green (whgreen@mit.edu)                #\n",
      "#            Richard H. West (r.west@neu.edu)                  #\n",
      "#   Website: http://reactionmechanismgenerator.github.io/      #\n",
      "#                                                              #\n",
      "################################################################\n",
      "\n",
      "Loading species species...\n",
      "\n",
      "\n",
      "Loading statistical mechanics parameters for species...\n",
      "Symmetry input file written to /home/harms.n/Code/HAN/RMG-model/autotst/scratch/0.symm\n",
      "Point group: C1\n",
      "Saving statistical mechanics parameters for species...\n",
      "Saving thermo for species...\n",
      "\n",
      "Arkane execution terminated at Fri Nov 15 14:20:52 2019\n",
      "Species input file already written... Not doing anything\n",
      "Arkane execution initiated at Fri Nov 15 14:20:52 2019\n",
      "\n",
      "################################################################\n",
      "#                                                              #\n",
      "# Automated Reaction Kinetics and Network Exploration (Arkane) #\n",
      "#                                                              #\n",
      "#   Version: 2.4.1                                             #\n",
      "#   Authors: RMG Developers (rmg_dev@mit.edu)                  #\n",
      "#   P.I.s:   William H. Green (whgreen@mit.edu)                #\n",
      "#            Richard H. West (r.west@neu.edu)                  #\n",
      "#   Website: http://reactionmechanismgenerator.github.io/      #\n",
      "#                                                              #\n",
      "################################################################\n",
      "\n",
      "Loading species species...\n",
      "\n",
      "\n",
      "Loading statistical mechanics parameters for species...\n",
      "Symmetry input file written to /home/harms.n/Code/HAN/RMG-model/autotst/scratch/0.symm\n",
      "Point group: Cs\n",
      "Saving statistical mechanics parameters for species...\n",
      "Saving thermo for species...\n",
      "\n",
      "Arkane execution terminated at Fri Nov 15 14:20:52 2019\n",
      "Species input file already written... Not doing anything\n",
      "Arkane execution initiated at Fri Nov 15 14:20:52 2019\n",
      "\n",
      "################################################################\n",
      "#                                                              #\n",
      "# Automated Reaction Kinetics and Network Exploration (Arkane) #\n",
      "#                                                              #\n",
      "#   Version: 2.4.1                                             #\n",
      "#   Authors: RMG Developers (rmg_dev@mit.edu)                  #\n",
      "#   P.I.s:   William H. Green (whgreen@mit.edu)                #\n",
      "#            Richard H. West (r.west@neu.edu)                  #\n",
      "#   Website: http://reactionmechanismgenerator.github.io/      #\n",
      "#                                                              #\n",
      "################################################################\n",
      "\n",
      "Loading species species...\n",
      "\n",
      "\n",
      "Loading statistical mechanics parameters for species...\n",
      "Symmetry input file written to /home/harms.n/Code/HAN/RMG-model/autotst/scratch/0.symm\n",
      "Point group: C1\n",
      "Saving statistical mechanics parameters for species...\n",
      "Saving thermo for species...\n",
      "\n",
      "Arkane execution terminated at Fri Nov 15 14:20:53 2019\n",
      "Species input file already written... Not doing anything\n",
      "Arkane execution initiated at Fri Nov 15 14:20:53 2019\n",
      "\n",
      "################################################################\n",
      "#                                                              #\n",
      "# Automated Reaction Kinetics and Network Exploration (Arkane) #\n",
      "#                                                              #\n",
      "#   Version: 2.4.1                                             #\n",
      "#   Authors: RMG Developers (rmg_dev@mit.edu)                  #\n",
      "#   P.I.s:   William H. Green (whgreen@mit.edu)                #\n",
      "#            Richard H. West (r.west@neu.edu)                  #\n",
      "#   Website: http://reactionmechanismgenerator.github.io/      #\n",
      "#                                                              #\n",
      "################################################################\n",
      "\n",
      "Loading species species...\n",
      "\n",
      "\n",
      "Loading statistical mechanics parameters for species...\n",
      "Symmetry input file written to /home/harms.n/Code/HAN/RMG-model/autotst/scratch/0.symm\n",
      "Point group: C1\n",
      "Saving statistical mechanics parameters for species...\n",
      "Saving thermo for species...\n",
      "\n",
      "Arkane execution terminated at Fri Nov 15 14:20:53 2019\n",
      "Species input file already written... Not doing anything\n",
      "Arkane execution initiated at Fri Nov 15 14:20:53 2019\n",
      "\n",
      "################################################################\n",
      "#                                                              #\n"
     ]
    },
    {
     "name": "stdout",
     "output_type": "stream",
     "text": [
      "# Automated Reaction Kinetics and Network Exploration (Arkane) #\n",
      "#                                                              #\n",
      "#   Version: 2.4.1                                             #\n",
      "#   Authors: RMG Developers (rmg_dev@mit.edu)                  #\n",
      "#   P.I.s:   William H. Green (whgreen@mit.edu)                #\n",
      "#            Richard H. West (r.west@neu.edu)                  #\n",
      "#   Website: http://reactionmechanismgenerator.github.io/      #\n",
      "#                                                              #\n",
      "################################################################\n",
      "\n",
      "Loading species species...\n",
      "\n",
      "\n",
      "Loading statistical mechanics parameters for species...\n",
      "Symmetry input file written to /home/harms.n/Code/HAN/RMG-model/autotst/scratch/0.symm\n",
      "Point group: Cs\n",
      "Saving statistical mechanics parameters for species...\n",
      "Saving thermo for species...\n",
      "\n",
      "Arkane execution terminated at Fri Nov 15 14:20:53 2019\n",
      "Species input file already written... Not doing anything\n",
      "Arkane execution initiated at Fri Nov 15 14:20:53 2019\n",
      "\n",
      "################################################################\n",
      "#                                                              #\n",
      "# Automated Reaction Kinetics and Network Exploration (Arkane) #\n",
      "#                                                              #\n",
      "#   Version: 2.4.1                                             #\n",
      "#   Authors: RMG Developers (rmg_dev@mit.edu)                  #\n",
      "#   P.I.s:   William H. Green (whgreen@mit.edu)                #\n",
      "#            Richard H. West (r.west@neu.edu)                  #\n",
      "#   Website: http://reactionmechanismgenerator.github.io/      #\n",
      "#                                                              #\n",
      "################################################################\n",
      "\n",
      "Loading species species...\n",
      "\n",
      "\n",
      "Loading statistical mechanics parameters for species...\n",
      "Symmetry input file written to /home/harms.n/Code/HAN/RMG-model/autotst/scratch/0.symm\n",
      "Point group: C1\n",
      "Saving statistical mechanics parameters for species...\n",
      "Saving thermo for species...\n",
      "\n",
      "Arkane execution terminated at Fri Nov 15 14:20:53 2019\n",
      "Species input file already written... Not doing anything\n",
      "Arkane execution initiated at Fri Nov 15 14:20:53 2019\n",
      "\n",
      "################################################################\n",
      "#                                                              #\n",
      "# Automated Reaction Kinetics and Network Exploration (Arkane) #\n",
      "#                                                              #\n",
      "#   Version: 2.4.1                                             #\n",
      "#   Authors: RMG Developers (rmg_dev@mit.edu)                  #\n",
      "#   P.I.s:   William H. Green (whgreen@mit.edu)                #\n",
      "#            Richard H. West (r.west@neu.edu)                  #\n",
      "#   Website: http://reactionmechanismgenerator.github.io/      #\n",
      "#                                                              #\n",
      "################################################################\n",
      "\n",
      "Loading species species...\n",
      "\n",
      "\n",
      "Loading statistical mechanics parameters for species...\n",
      "Symmetry input file written to /home/harms.n/Code/HAN/RMG-model/autotst/scratch/0.symm\n",
      "Point group: Cs\n",
      "Saving statistical mechanics parameters for species...\n",
      "Saving thermo for species...\n",
      "\n",
      "Arkane execution terminated at Fri Nov 15 14:20:53 2019\n",
      "Species input file already written... Not doing anything\n",
      "Arkane execution initiated at Fri Nov 15 14:20:53 2019\n",
      "\n",
      "################################################################\n",
      "#                                                              #\n",
      "# Automated Reaction Kinetics and Network Exploration (Arkane) #\n",
      "#                                                              #\n",
      "#   Version: 2.4.1                                             #\n",
      "#   Authors: RMG Developers (rmg_dev@mit.edu)                  #\n",
      "#   P.I.s:   William H. Green (whgreen@mit.edu)                #\n",
      "#            Richard H. West (r.west@neu.edu)                  #\n",
      "#   Website: http://reactionmechanismgenerator.github.io/      #\n",
      "#                                                              #\n",
      "################################################################\n",
      "\n",
      "Loading species species...\n",
      "\n",
      "\n",
      "Loading statistical mechanics parameters for species...\n",
      "Symmetry input file written to /home/harms.n/Code/HAN/RMG-model/autotst/scratch/0.symm\n",
      "Point group: C2v\n",
      "Saving statistical mechanics parameters for species...\n",
      "Saving thermo for species...\n",
      "\n",
      "Arkane execution terminated at Fri Nov 15 14:20:53 2019\n",
      "Species input file already written... Not doing anything\n",
      "Arkane execution initiated at Fri Nov 15 14:20:53 2019\n",
      "\n",
      "################################################################\n",
      "#                                                              #\n",
      "# Automated Reaction Kinetics and Network Exploration (Arkane) #\n",
      "#                                                              #\n",
      "#   Version: 2.4.1                                             #\n",
      "#   Authors: RMG Developers (rmg_dev@mit.edu)                  #\n",
      "#   P.I.s:   William H. Green (whgreen@mit.edu)                #\n",
      "#            Richard H. West (r.west@neu.edu)                  #\n",
      "#   Website: http://reactionmechanismgenerator.github.io/      #\n",
      "#                                                              #\n",
      "################################################################\n",
      "\n",
      "Loading species species...\n",
      "\n",
      "\n",
      "Loading statistical mechanics parameters for species...\n",
      "Symmetry input file written to /home/harms.n/Code/HAN/RMG-model/autotst/scratch/0.symm\n",
      "Point group: Cinfv\n",
      "Saving statistical mechanics parameters for species...\n",
      "Saving thermo for species...\n",
      "\n",
      "Arkane execution terminated at Fri Nov 15 14:20:53 2019\n",
      "Species input file already written... Not doing anything\n",
      "Arkane execution initiated at Fri Nov 15 14:20:53 2019\n",
      "\n",
      "################################################################\n",
      "#                                                              #\n",
      "# Automated Reaction Kinetics and Network Exploration (Arkane) #\n",
      "#                                                              #\n",
      "#   Version: 2.4.1                                             #\n",
      "#   Authors: RMG Developers (rmg_dev@mit.edu)                  #\n",
      "#   P.I.s:   William H. Green (whgreen@mit.edu)                #\n",
      "#            Richard H. West (r.west@neu.edu)                  #\n",
      "#   Website: http://reactionmechanismgenerator.github.io/      #\n",
      "#                                                              #\n",
      "################################################################\n",
      "\n",
      "Loading species species...\n",
      "\n",
      "\n",
      "Loading statistical mechanics parameters for species...\n",
      "Symmetry input file written to /home/harms.n/Code/HAN/RMG-model/autotst/scratch/0.symm\n",
      "Point group: C1\n",
      "Saving statistical mechanics parameters for species...\n",
      "Saving thermo for species...\n",
      "\n",
      "Arkane execution terminated at Fri Nov 15 14:20:54 2019\n",
      "Species input file already written... Not doing anything\n",
      "Arkane execution initiated at Fri Nov 15 14:20:54 2019\n",
      "\n",
      "################################################################\n",
      "#                                                              #\n",
      "# Automated Reaction Kinetics and Network Exploration (Arkane) #\n",
      "#                                                              #\n",
      "#   Version: 2.4.1                                             #\n",
      "#   Authors: RMG Developers (rmg_dev@mit.edu)                  #\n",
      "#   P.I.s:   William H. Green (whgreen@mit.edu)                #\n",
      "#            Richard H. West (r.west@neu.edu)                  #\n",
      "#   Website: http://reactionmechanismgenerator.github.io/      #\n",
      "#                                                              #\n",
      "################################################################\n",
      "\n",
      "Loading species species...\n",
      "\n",
      "\n",
      "Loading statistical mechanics parameters for species...\n",
      "Symmetry input file written to /home/harms.n/Code/HAN/RMG-model/autotst/scratch/0.symm\n",
      "Point group: Cs\n",
      "Saving statistical mechanics parameters for species...\n",
      "Saving thermo for species...\n",
      "\n",
      "Arkane execution terminated at Fri Nov 15 14:20:54 2019\n",
      "Species input file already written... Not doing anything\n",
      "Arkane execution initiated at Fri Nov 15 14:20:54 2019\n",
      "\n",
      "################################################################\n",
      "#                                                              #\n",
      "# Automated Reaction Kinetics and Network Exploration (Arkane) #\n",
      "#                                                              #\n"
     ]
    },
    {
     "name": "stdout",
     "output_type": "stream",
     "text": [
      "#   Version: 2.4.1                                             #\n",
      "#   Authors: RMG Developers (rmg_dev@mit.edu)                  #\n",
      "#   P.I.s:   William H. Green (whgreen@mit.edu)                #\n",
      "#            Richard H. West (r.west@neu.edu)                  #\n",
      "#   Website: http://reactionmechanismgenerator.github.io/      #\n",
      "#                                                              #\n",
      "################################################################\n",
      "\n",
      "Loading species species...\n",
      "\n",
      "\n",
      "Loading statistical mechanics parameters for species...\n",
      "Symmetry input file written to /home/harms.n/Code/HAN/RMG-model/autotst/scratch/0.symm\n",
      "Point group: Cs\n",
      "Saving statistical mechanics parameters for species...\n",
      "Saving thermo for species...\n",
      "\n",
      "Arkane execution terminated at Fri Nov 15 14:20:54 2019\n",
      "Species input file already written... Not doing anything\n",
      "Arkane execution initiated at Fri Nov 15 14:20:54 2019\n",
      "\n",
      "################################################################\n",
      "#                                                              #\n",
      "# Automated Reaction Kinetics and Network Exploration (Arkane) #\n",
      "#                                                              #\n",
      "#   Version: 2.4.1                                             #\n",
      "#   Authors: RMG Developers (rmg_dev@mit.edu)                  #\n",
      "#   P.I.s:   William H. Green (whgreen@mit.edu)                #\n",
      "#            Richard H. West (r.west@neu.edu)                  #\n",
      "#   Website: http://reactionmechanismgenerator.github.io/      #\n",
      "#                                                              #\n",
      "################################################################\n",
      "\n",
      "Loading species species...\n",
      "\n",
      "\n",
      "Loading statistical mechanics parameters for species...\n",
      "Symmetry input file written to /home/harms.n/Code/HAN/RMG-model/autotst/scratch/0.symm\n",
      "Point group: C1\n",
      "Saving statistical mechanics parameters for species...\n",
      "Saving thermo for species...\n",
      "\n",
      "Arkane execution terminated at Fri Nov 15 14:20:54 2019\n",
      "Species input file already written... Not doing anything\n",
      "Arkane execution initiated at Fri Nov 15 14:20:54 2019\n",
      "\n",
      "################################################################\n",
      "#                                                              #\n",
      "# Automated Reaction Kinetics and Network Exploration (Arkane) #\n",
      "#                                                              #\n",
      "#   Version: 2.4.1                                             #\n",
      "#   Authors: RMG Developers (rmg_dev@mit.edu)                  #\n",
      "#   P.I.s:   William H. Green (whgreen@mit.edu)                #\n",
      "#            Richard H. West (r.west@neu.edu)                  #\n",
      "#   Website: http://reactionmechanismgenerator.github.io/      #\n",
      "#                                                              #\n",
      "################################################################\n",
      "\n",
      "Loading species species...\n",
      "\n",
      "\n",
      "Loading statistical mechanics parameters for species...\n",
      "Symmetry input file written to /home/harms.n/Code/HAN/RMG-model/autotst/scratch/0.symm\n",
      "Point group: Cs\n",
      "Saving statistical mechanics parameters for species...\n",
      "Saving thermo for species...\n",
      "\n",
      "Arkane execution terminated at Fri Nov 15 14:20:54 2019\n",
      "Species input file already written... Not doing anything\n",
      "Arkane execution initiated at Fri Nov 15 14:20:54 2019\n",
      "\n",
      "################################################################\n",
      "#                                                              #\n",
      "# Automated Reaction Kinetics and Network Exploration (Arkane) #\n",
      "#                                                              #\n",
      "#   Version: 2.4.1                                             #\n",
      "#   Authors: RMG Developers (rmg_dev@mit.edu)                  #\n",
      "#   P.I.s:   William H. Green (whgreen@mit.edu)                #\n",
      "#            Richard H. West (r.west@neu.edu)                  #\n",
      "#   Website: http://reactionmechanismgenerator.github.io/      #\n",
      "#                                                              #\n",
      "################################################################\n",
      "\n",
      "Loading species species...\n",
      "\n",
      "\n",
      "Loading statistical mechanics parameters for species...\n",
      "Symmetry input file written to /home/harms.n/Code/HAN/RMG-model/autotst/scratch/0.symm\n",
      "Point group: C2v\n",
      "Saving statistical mechanics parameters for species...\n",
      "Saving thermo for species...\n",
      "\n",
      "Arkane execution terminated at Fri Nov 15 14:20:54 2019\n",
      "Species input file already written... Not doing anything\n",
      "Arkane execution initiated at Fri Nov 15 14:20:54 2019\n",
      "\n",
      "################################################################\n",
      "#                                                              #\n",
      "# Automated Reaction Kinetics and Network Exploration (Arkane) #\n",
      "#                                                              #\n",
      "#   Version: 2.4.1                                             #\n",
      "#   Authors: RMG Developers (rmg_dev@mit.edu)                  #\n",
      "#   P.I.s:   William H. Green (whgreen@mit.edu)                #\n",
      "#            Richard H. West (r.west@neu.edu)                  #\n",
      "#   Website: http://reactionmechanismgenerator.github.io/      #\n",
      "#                                                              #\n",
      "################################################################\n",
      "\n",
      "Loading species species...\n",
      "\n",
      "\n",
      "Loading statistical mechanics parameters for species...\n",
      "Symmetry input file written to /home/harms.n/Code/HAN/RMG-model/autotst/scratch/0.symm\n",
      "Point group: D2h\n",
      "Saving statistical mechanics parameters for species...\n",
      "Saving thermo for species...\n",
      "\n",
      "Arkane execution terminated at Fri Nov 15 14:20:54 2019\n",
      "Species input file already written... Not doing anything\n",
      "Arkane execution initiated at Fri Nov 15 14:20:54 2019\n",
      "\n",
      "################################################################\n",
      "#                                                              #\n",
      "# Automated Reaction Kinetics and Network Exploration (Arkane) #\n",
      "#                                                              #\n",
      "#   Version: 2.4.1                                             #\n",
      "#   Authors: RMG Developers (rmg_dev@mit.edu)                  #\n",
      "#   P.I.s:   William H. Green (whgreen@mit.edu)                #\n",
      "#            Richard H. West (r.west@neu.edu)                  #\n",
      "#   Website: http://reactionmechanismgenerator.github.io/      #\n",
      "#                                                              #\n",
      "################################################################\n",
      "\n",
      "Loading species species...\n",
      "\n",
      "\n",
      "Loading statistical mechanics parameters for species...\n",
      "Symmetry input file written to /home/harms.n/Code/HAN/RMG-model/autotst/scratch/0.symm\n",
      "Point group: Dinfh\n",
      "Saving statistical mechanics parameters for species...\n",
      "Saving thermo for species...\n",
      "\n",
      "Arkane execution terminated at Fri Nov 15 14:20:54 2019\n",
      "Species input file already written... Not doing anything\n",
      "Arkane execution initiated at Fri Nov 15 14:20:54 2019\n",
      "\n",
      "################################################################\n",
      "#                                                              #\n",
      "# Automated Reaction Kinetics and Network Exploration (Arkane) #\n",
      "#                                                              #\n",
      "#   Version: 2.4.1                                             #\n",
      "#   Authors: RMG Developers (rmg_dev@mit.edu)                  #\n",
      "#   P.I.s:   William H. Green (whgreen@mit.edu)                #\n",
      "#            Richard H. West (r.west@neu.edu)                  #\n",
      "#   Website: http://reactionmechanismgenerator.github.io/      #\n",
      "#                                                              #\n",
      "################################################################\n",
      "\n",
      "Loading species species...\n",
      "\n",
      "\n",
      "Loading statistical mechanics parameters for species...\n",
      "Symmetry input file written to /home/harms.n/Code/HAN/RMG-model/autotst/scratch/0.symm\n",
      "Point group: Cinfv\n",
      "Saving statistical mechanics parameters for species...\n",
      "Saving thermo for species...\n",
      "\n",
      "Arkane execution terminated at Fri Nov 15 14:20:55 2019\n",
      "Species input file already written... Not doing anything\n",
      "Arkane execution initiated at Fri Nov 15 14:20:55 2019\n",
      "\n",
      "################################################################\n",
      "#                                                              #\n",
      "# Automated Reaction Kinetics and Network Exploration (Arkane) #\n",
      "#                                                              #\n",
      "#   Version: 2.4.1                                             #\n",
      "#   Authors: RMG Developers (rmg_dev@mit.edu)                  #\n"
     ]
    },
    {
     "name": "stdout",
     "output_type": "stream",
     "text": [
      "#   P.I.s:   William H. Green (whgreen@mit.edu)                #\n",
      "#            Richard H. West (r.west@neu.edu)                  #\n",
      "#   Website: http://reactionmechanismgenerator.github.io/      #\n",
      "#                                                              #\n",
      "################################################################\n",
      "\n",
      "Loading species species...\n",
      "\n",
      "\n",
      "Loading statistical mechanics parameters for species...\n",
      "Symmetry input file written to /home/harms.n/Code/HAN/RMG-model/autotst/scratch/0.symm\n",
      "Point group: C2h\n",
      "Saving statistical mechanics parameters for species...\n",
      "Saving thermo for species...\n",
      "\n",
      "Arkane execution terminated at Fri Nov 15 14:20:55 2019\n",
      "Species input file already written... Not doing anything\n",
      "Arkane execution initiated at Fri Nov 15 14:20:55 2019\n",
      "\n",
      "################################################################\n",
      "#                                                              #\n",
      "# Automated Reaction Kinetics and Network Exploration (Arkane) #\n",
      "#                                                              #\n",
      "#   Version: 2.4.1                                             #\n",
      "#   Authors: RMG Developers (rmg_dev@mit.edu)                  #\n",
      "#   P.I.s:   William H. Green (whgreen@mit.edu)                #\n",
      "#            Richard H. West (r.west@neu.edu)                  #\n",
      "#   Website: http://reactionmechanismgenerator.github.io/      #\n",
      "#                                                              #\n",
      "################################################################\n",
      "\n",
      "Loading species species...\n",
      "\n",
      "\n",
      "Loading statistical mechanics parameters for species...\n",
      "Symmetry input file written to /home/harms.n/Code/HAN/RMG-model/autotst/scratch/0.symm\n",
      "Point group: Cs\n",
      "Saving statistical mechanics parameters for species...\n",
      "Saving thermo for species...\n",
      "\n",
      "Arkane execution terminated at Fri Nov 15 14:20:55 2019\n",
      "Species input file already written... Not doing anything\n",
      "Arkane execution initiated at Fri Nov 15 14:20:55 2019\n",
      "\n",
      "################################################################\n",
      "#                                                              #\n",
      "# Automated Reaction Kinetics and Network Exploration (Arkane) #\n",
      "#                                                              #\n",
      "#   Version: 2.4.1                                             #\n",
      "#   Authors: RMG Developers (rmg_dev@mit.edu)                  #\n",
      "#   P.I.s:   William H. Green (whgreen@mit.edu)                #\n",
      "#            Richard H. West (r.west@neu.edu)                  #\n",
      "#   Website: http://reactionmechanismgenerator.github.io/      #\n",
      "#                                                              #\n",
      "################################################################\n",
      "\n",
      "Loading species species...\n",
      "\n",
      "\n",
      "Loading statistical mechanics parameters for species...\n",
      "Symmetry input file written to /home/harms.n/Code/HAN/RMG-model/autotst/scratch/0.symm\n",
      "Point group: C1\n",
      "Saving statistical mechanics parameters for species...\n",
      "Saving thermo for species...\n",
      "\n",
      "Arkane execution terminated at Fri Nov 15 14:20:55 2019\n",
      "Species input file already written... Not doing anything\n",
      "Arkane execution initiated at Fri Nov 15 14:20:55 2019\n",
      "\n",
      "################################################################\n",
      "#                                                              #\n",
      "# Automated Reaction Kinetics and Network Exploration (Arkane) #\n",
      "#                                                              #\n",
      "#   Version: 2.4.1                                             #\n",
      "#   Authors: RMG Developers (rmg_dev@mit.edu)                  #\n",
      "#   P.I.s:   William H. Green (whgreen@mit.edu)                #\n",
      "#            Richard H. West (r.west@neu.edu)                  #\n",
      "#   Website: http://reactionmechanismgenerator.github.io/      #\n",
      "#                                                              #\n",
      "################################################################\n",
      "\n",
      "Loading species species...\n",
      "\n",
      "\n",
      "Loading statistical mechanics parameters for species...\n",
      "Symmetry input file written to /home/harms.n/Code/HAN/RMG-model/autotst/scratch/0.symm\n",
      "Point group: Cs\n",
      "Saving statistical mechanics parameters for species...\n",
      "Saving thermo for species...\n",
      "\n",
      "Arkane execution terminated at Fri Nov 15 14:20:55 2019\n",
      "Species input file already written... Not doing anything\n",
      "Arkane execution initiated at Fri Nov 15 14:20:55 2019\n",
      "\n",
      "################################################################\n",
      "#                                                              #\n",
      "# Automated Reaction Kinetics and Network Exploration (Arkane) #\n",
      "#                                                              #\n",
      "#   Version: 2.4.1                                             #\n",
      "#   Authors: RMG Developers (rmg_dev@mit.edu)                  #\n",
      "#   P.I.s:   William H. Green (whgreen@mit.edu)                #\n",
      "#            Richard H. West (r.west@neu.edu)                  #\n",
      "#   Website: http://reactionmechanismgenerator.github.io/      #\n",
      "#                                                              #\n",
      "################################################################\n",
      "\n",
      "Loading species species...\n",
      "\n",
      "\n",
      "Loading statistical mechanics parameters for species...\n",
      "Symmetry input file written to /home/harms.n/Code/HAN/RMG-model/autotst/scratch/0.symm\n",
      "Point group: C1\n",
      "Saving statistical mechanics parameters for species...\n",
      "Saving thermo for species...\n",
      "\n",
      "Arkane execution terminated at Fri Nov 15 14:20:55 2019\n",
      "Species input file already written... Not doing anything\n",
      "Arkane execution initiated at Fri Nov 15 14:20:55 2019\n",
      "\n",
      "################################################################\n",
      "#                                                              #\n",
      "# Automated Reaction Kinetics and Network Exploration (Arkane) #\n",
      "#                                                              #\n",
      "#   Version: 2.4.1                                             #\n",
      "#   Authors: RMG Developers (rmg_dev@mit.edu)                  #\n",
      "#   P.I.s:   William H. Green (whgreen@mit.edu)                #\n",
      "#            Richard H. West (r.west@neu.edu)                  #\n",
      "#   Website: http://reactionmechanismgenerator.github.io/      #\n",
      "#                                                              #\n",
      "################################################################\n",
      "\n",
      "Loading species species...\n",
      "\n",
      "\n",
      "Loading statistical mechanics parameters for species...\n",
      "Symmetry input file written to /home/harms.n/Code/HAN/RMG-model/autotst/scratch/0.symm\n",
      "Point group: C2v\n",
      "Saving statistical mechanics parameters for species...\n",
      "Saving thermo for species...\n",
      "\n",
      "Arkane execution terminated at Fri Nov 15 14:20:55 2019\n",
      "Species input file already written... Not doing anything\n",
      "Arkane execution initiated at Fri Nov 15 14:20:55 2019\n",
      "\n",
      "################################################################\n",
      "#                                                              #\n",
      "# Automated Reaction Kinetics and Network Exploration (Arkane) #\n",
      "#                                                              #\n",
      "#   Version: 2.4.1                                             #\n",
      "#   Authors: RMG Developers (rmg_dev@mit.edu)                  #\n",
      "#   P.I.s:   William H. Green (whgreen@mit.edu)                #\n",
      "#            Richard H. West (r.west@neu.edu)                  #\n",
      "#   Website: http://reactionmechanismgenerator.github.io/      #\n",
      "#                                                              #\n",
      "################################################################\n",
      "\n",
      "Loading species species...\n",
      "\n",
      "\n",
      "Loading statistical mechanics parameters for species...\n",
      "Symmetry input file written to /home/harms.n/Code/HAN/RMG-model/autotst/scratch/0.symm\n",
      "Point group: C1\n",
      "Saving statistical mechanics parameters for species...\n",
      "Saving thermo for species...\n",
      "\n",
      "Arkane execution terminated at Fri Nov 15 14:20:56 2019\n",
      "Species input file already written... Not doing anything\n",
      "Arkane execution initiated at Fri Nov 15 14:20:56 2019\n",
      "\n",
      "################################################################\n",
      "#                                                              #\n",
      "# Automated Reaction Kinetics and Network Exploration (Arkane) #\n",
      "#                                                              #\n",
      "#   Version: 2.4.1                                             #\n",
      "#   Authors: RMG Developers (rmg_dev@mit.edu)                  #\n",
      "#   P.I.s:   William H. Green (whgreen@mit.edu)                #\n",
      "#            Richard H. West (r.west@neu.edu)                  #\n"
     ]
    },
    {
     "name": "stdout",
     "output_type": "stream",
     "text": [
      "#   Website: http://reactionmechanismgenerator.github.io/      #\n",
      "#                                                              #\n",
      "################################################################\n",
      "\n",
      "Loading species species...\n",
      "\n",
      "\n",
      "Loading statistical mechanics parameters for species...\n",
      "Symmetry input file written to /home/harms.n/Code/HAN/RMG-model/autotst/scratch/0.symm\n",
      "Point group: Cs\n",
      "Saving statistical mechanics parameters for species...\n",
      "Saving thermo for species...\n",
      "\n",
      "Arkane execution terminated at Fri Nov 15 14:20:56 2019\n",
      "Species input file already written... Not doing anything\n",
      "Arkane execution initiated at Fri Nov 15 14:20:56 2019\n",
      "\n",
      "################################################################\n",
      "#                                                              #\n",
      "# Automated Reaction Kinetics and Network Exploration (Arkane) #\n",
      "#                                                              #\n",
      "#   Version: 2.4.1                                             #\n",
      "#   Authors: RMG Developers (rmg_dev@mit.edu)                  #\n",
      "#   P.I.s:   William H. Green (whgreen@mit.edu)                #\n",
      "#            Richard H. West (r.west@neu.edu)                  #\n",
      "#   Website: http://reactionmechanismgenerator.github.io/      #\n",
      "#                                                              #\n",
      "################################################################\n",
      "\n",
      "Loading species species...\n",
      "\n",
      "\n",
      "Loading statistical mechanics parameters for species...\n",
      "Symmetry input file written to /home/harms.n/Code/HAN/RMG-model/autotst/scratch/0.symm\n",
      "Point group: Cs\n",
      "Saving statistical mechanics parameters for species...\n",
      "Saving thermo for species...\n",
      "\n",
      "Arkane execution terminated at Fri Nov 15 14:20:56 2019\n",
      "Species input file already written... Not doing anything\n",
      "Arkane execution initiated at Fri Nov 15 14:20:56 2019\n",
      "\n",
      "################################################################\n",
      "#                                                              #\n",
      "# Automated Reaction Kinetics and Network Exploration (Arkane) #\n",
      "#                                                              #\n",
      "#   Version: 2.4.1                                             #\n",
      "#   Authors: RMG Developers (rmg_dev@mit.edu)                  #\n",
      "#   P.I.s:   William H. Green (whgreen@mit.edu)                #\n",
      "#            Richard H. West (r.west@neu.edu)                  #\n",
      "#   Website: http://reactionmechanismgenerator.github.io/      #\n",
      "#                                                              #\n",
      "################################################################\n",
      "\n",
      "Loading species species...\n",
      "\n",
      "\n",
      "Loading statistical mechanics parameters for species...\n",
      "Symmetry input file written to /home/harms.n/Code/HAN/RMG-model/autotst/scratch/0.symm\n",
      "Point group: Dinfh\n",
      "Saving statistical mechanics parameters for species...\n",
      "Saving thermo for species...\n",
      "\n",
      "Arkane execution terminated at Fri Nov 15 14:20:56 2019\n",
      "Species input file already written... Not doing anything\n",
      "Arkane execution initiated at Fri Nov 15 14:20:56 2019\n",
      "\n",
      "################################################################\n",
      "#                                                              #\n",
      "# Automated Reaction Kinetics and Network Exploration (Arkane) #\n",
      "#                                                              #\n",
      "#   Version: 2.4.1                                             #\n",
      "#   Authors: RMG Developers (rmg_dev@mit.edu)                  #\n",
      "#   P.I.s:   William H. Green (whgreen@mit.edu)                #\n",
      "#            Richard H. West (r.west@neu.edu)                  #\n",
      "#   Website: http://reactionmechanismgenerator.github.io/      #\n",
      "#                                                              #\n",
      "################################################################\n",
      "\n",
      "Loading species species...\n",
      "\n",
      "\n",
      "Loading statistical mechanics parameters for species...\n",
      "Symmetry input file written to /home/harms.n/Code/HAN/RMG-model/autotst/scratch/0.symm\n",
      "Point group: Cs\n",
      "Saving statistical mechanics parameters for species...\n",
      "Saving thermo for species...\n",
      "\n",
      "Arkane execution terminated at Fri Nov 15 14:20:56 2019\n",
      "Species input file already written... Not doing anything\n",
      "Arkane execution initiated at Fri Nov 15 14:20:56 2019\n",
      "\n",
      "################################################################\n",
      "#                                                              #\n",
      "# Automated Reaction Kinetics and Network Exploration (Arkane) #\n",
      "#                                                              #\n",
      "#   Version: 2.4.1                                             #\n",
      "#   Authors: RMG Developers (rmg_dev@mit.edu)                  #\n",
      "#   P.I.s:   William H. Green (whgreen@mit.edu)                #\n",
      "#            Richard H. West (r.west@neu.edu)                  #\n",
      "#   Website: http://reactionmechanismgenerator.github.io/      #\n",
      "#                                                              #\n",
      "################################################################\n",
      "\n",
      "Loading species species...\n",
      "\n",
      "\n",
      "Loading statistical mechanics parameters for species...\n",
      "Symmetry input file written to /home/harms.n/Code/HAN/RMG-model/autotst/scratch/0.symm\n",
      "Point group: C1\n",
      "Saving statistical mechanics parameters for species...\n",
      "Saving thermo for species...\n",
      "\n",
      "Arkane execution terminated at Fri Nov 15 14:20:56 2019\n",
      "Species input file already written... Not doing anything\n",
      "Arkane execution initiated at Fri Nov 15 14:20:56 2019\n",
      "\n",
      "################################################################\n",
      "#                                                              #\n",
      "# Automated Reaction Kinetics and Network Exploration (Arkane) #\n",
      "#                                                              #\n",
      "#   Version: 2.4.1                                             #\n",
      "#   Authors: RMG Developers (rmg_dev@mit.edu)                  #\n",
      "#   P.I.s:   William H. Green (whgreen@mit.edu)                #\n",
      "#            Richard H. West (r.west@neu.edu)                  #\n",
      "#   Website: http://reactionmechanismgenerator.github.io/      #\n",
      "#                                                              #\n",
      "################################################################\n",
      "\n",
      "Loading species species...\n",
      "\n",
      "\n",
      "Loading statistical mechanics parameters for species...\n",
      "Symmetry input file written to /home/harms.n/Code/HAN/RMG-model/autotst/scratch/0.symm\n",
      "Point group: C1\n",
      "Saving statistical mechanics parameters for species...\n",
      "Saving thermo for species...\n",
      "\n",
      "Arkane execution terminated at Fri Nov 15 14:20:56 2019\n",
      "Species input file already written... Not doing anything\n",
      "Arkane execution initiated at Fri Nov 15 14:20:56 2019\n",
      "\n",
      "################################################################\n",
      "#                                                              #\n",
      "# Automated Reaction Kinetics and Network Exploration (Arkane) #\n",
      "#                                                              #\n",
      "#   Version: 2.4.1                                             #\n",
      "#   Authors: RMG Developers (rmg_dev@mit.edu)                  #\n",
      "#   P.I.s:   William H. Green (whgreen@mit.edu)                #\n",
      "#            Richard H. West (r.west@neu.edu)                  #\n",
      "#   Website: http://reactionmechanismgenerator.github.io/      #\n",
      "#                                                              #\n",
      "################################################################\n",
      "\n",
      "Loading species species...\n",
      "\n",
      "\n",
      "Loading statistical mechanics parameters for species...\n",
      "Symmetry input file written to /home/harms.n/Code/HAN/RMG-model/autotst/scratch/0.symm\n",
      "Point group: C2v\n",
      "Saving statistical mechanics parameters for species...\n",
      "Saving thermo for species...\n",
      "\n",
      "Arkane execution terminated at Fri Nov 15 14:20:57 2019\n",
      "Species input file already written... Not doing anything\n",
      "Arkane execution initiated at Fri Nov 15 14:20:57 2019\n",
      "\n",
      "################################################################\n",
      "#                                                              #\n",
      "# Automated Reaction Kinetics and Network Exploration (Arkane) #\n",
      "#                                                              #\n",
      "#   Version: 2.4.1                                             #\n",
      "#   Authors: RMG Developers (rmg_dev@mit.edu)                  #\n",
      "#   P.I.s:   William H. Green (whgreen@mit.edu)                #\n",
      "#            Richard H. West (r.west@neu.edu)                  #\n",
      "#   Website: http://reactionmechanismgenerator.github.io/      #\n",
      "#                                                              #\n"
     ]
    },
    {
     "name": "stdout",
     "output_type": "stream",
     "text": [
      "################################################################\n",
      "\n",
      "Loading species species...\n",
      "\n",
      "\n",
      "Loading statistical mechanics parameters for species...\n",
      "Symmetry input file written to /home/harms.n/Code/HAN/RMG-model/autotst/scratch/0.symm\n",
      "Point group: Cs\n",
      "Saving statistical mechanics parameters for species...\n",
      "Saving thermo for species...\n",
      "\n",
      "Arkane execution terminated at Fri Nov 15 14:20:57 2019\n",
      "Species input file already written... Not doing anything\n",
      "Arkane execution initiated at Fri Nov 15 14:20:57 2019\n",
      "\n",
      "################################################################\n",
      "#                                                              #\n",
      "# Automated Reaction Kinetics and Network Exploration (Arkane) #\n",
      "#                                                              #\n",
      "#   Version: 2.4.1                                             #\n",
      "#   Authors: RMG Developers (rmg_dev@mit.edu)                  #\n",
      "#   P.I.s:   William H. Green (whgreen@mit.edu)                #\n",
      "#            Richard H. West (r.west@neu.edu)                  #\n",
      "#   Website: http://reactionmechanismgenerator.github.io/      #\n",
      "#                                                              #\n",
      "################################################################\n",
      "\n",
      "Loading species species...\n",
      "\n",
      "\n",
      "Loading statistical mechanics parameters for species...\n",
      "Symmetry input file written to /home/harms.n/Code/HAN/RMG-model/autotst/scratch/0.symm\n",
      "Point group: C1\n",
      "Saving statistical mechanics parameters for species...\n",
      "Saving thermo for species...\n",
      "\n",
      "Arkane execution terminated at Fri Nov 15 14:20:57 2019\n",
      "Species input file already written... Not doing anything\n",
      "Arkane execution initiated at Fri Nov 15 14:20:57 2019\n",
      "\n",
      "################################################################\n",
      "#                                                              #\n",
      "# Automated Reaction Kinetics and Network Exploration (Arkane) #\n",
      "#                                                              #\n",
      "#   Version: 2.4.1                                             #\n",
      "#   Authors: RMG Developers (rmg_dev@mit.edu)                  #\n",
      "#   P.I.s:   William H. Green (whgreen@mit.edu)                #\n",
      "#            Richard H. West (r.west@neu.edu)                  #\n",
      "#   Website: http://reactionmechanismgenerator.github.io/      #\n",
      "#                                                              #\n",
      "################################################################\n",
      "\n",
      "Loading species species...\n",
      "\n",
      "\n",
      "Loading statistical mechanics parameters for species...\n",
      "Symmetry input file written to /home/harms.n/Code/HAN/RMG-model/autotst/scratch/0.symm\n",
      "Point group: Cs\n",
      "Saving statistical mechanics parameters for species...\n",
      "Saving thermo for species...\n",
      "\n",
      "Arkane execution terminated at Fri Nov 15 14:20:57 2019\n",
      "Species input file already written... Not doing anything\n",
      "Arkane execution initiated at Fri Nov 15 14:20:57 2019\n",
      "\n",
      "################################################################\n",
      "#                                                              #\n",
      "# Automated Reaction Kinetics and Network Exploration (Arkane) #\n",
      "#                                                              #\n",
      "#   Version: 2.4.1                                             #\n",
      "#   Authors: RMG Developers (rmg_dev@mit.edu)                  #\n",
      "#   P.I.s:   William H. Green (whgreen@mit.edu)                #\n",
      "#            Richard H. West (r.west@neu.edu)                  #\n",
      "#   Website: http://reactionmechanismgenerator.github.io/      #\n",
      "#                                                              #\n",
      "################################################################\n",
      "\n",
      "Loading species species...\n",
      "\n",
      "\n",
      "Loading statistical mechanics parameters for species...\n",
      "Symmetry input file written to /home/harms.n/Code/HAN/RMG-model/autotst/scratch/0.symm\n",
      "Point group: Cs\n",
      "Saving statistical mechanics parameters for species...\n",
      "Saving thermo for species...\n",
      "\n",
      "Arkane execution terminated at Fri Nov 15 14:20:57 2019\n",
      "Species input file already written... Not doing anything\n",
      "Arkane execution initiated at Fri Nov 15 14:20:57 2019\n",
      "\n",
      "################################################################\n",
      "#                                                              #\n",
      "# Automated Reaction Kinetics and Network Exploration (Arkane) #\n",
      "#                                                              #\n",
      "#   Version: 2.4.1                                             #\n",
      "#   Authors: RMG Developers (rmg_dev@mit.edu)                  #\n",
      "#   P.I.s:   William H. Green (whgreen@mit.edu)                #\n",
      "#            Richard H. West (r.west@neu.edu)                  #\n",
      "#   Website: http://reactionmechanismgenerator.github.io/      #\n",
      "#                                                              #\n",
      "################################################################\n",
      "\n",
      "Loading species species...\n",
      "\n",
      "\n",
      "Loading statistical mechanics parameters for species...\n",
      "Symmetry input file written to /home/harms.n/Code/HAN/RMG-model/autotst/scratch/0.symm\n",
      "Point group: C2\n",
      "Saving statistical mechanics parameters for species...\n",
      "Saving thermo for species...\n",
      "\n",
      "Arkane execution terminated at Fri Nov 15 14:20:57 2019\n",
      "Species input file already written... Not doing anything\n",
      "Arkane execution initiated at Fri Nov 15 14:20:57 2019\n",
      "\n",
      "################################################################\n",
      "#                                                              #\n",
      "# Automated Reaction Kinetics and Network Exploration (Arkane) #\n",
      "#                                                              #\n",
      "#   Version: 2.4.1                                             #\n",
      "#   Authors: RMG Developers (rmg_dev@mit.edu)                  #\n",
      "#   P.I.s:   William H. Green (whgreen@mit.edu)                #\n",
      "#            Richard H. West (r.west@neu.edu)                  #\n",
      "#   Website: http://reactionmechanismgenerator.github.io/      #\n",
      "#                                                              #\n",
      "################################################################\n",
      "\n",
      "Loading species species...\n",
      "\n",
      "\n",
      "Loading statistical mechanics parameters for species...\n",
      "Symmetry input file written to /home/harms.n/Code/HAN/RMG-model/autotst/scratch/0.symm\n",
      "Point group: C1\n",
      "Saving statistical mechanics parameters for species...\n",
      "Saving thermo for species...\n",
      "\n",
      "Arkane execution terminated at Fri Nov 15 14:20:58 2019\n",
      "Species input file already written... Not doing anything\n",
      "Arkane execution initiated at Fri Nov 15 14:20:58 2019\n",
      "\n",
      "################################################################\n",
      "#                                                              #\n",
      "# Automated Reaction Kinetics and Network Exploration (Arkane) #\n",
      "#                                                              #\n",
      "#   Version: 2.4.1                                             #\n",
      "#   Authors: RMG Developers (rmg_dev@mit.edu)                  #\n",
      "#   P.I.s:   William H. Green (whgreen@mit.edu)                #\n",
      "#            Richard H. West (r.west@neu.edu)                  #\n",
      "#   Website: http://reactionmechanismgenerator.github.io/      #\n",
      "#                                                              #\n",
      "################################################################\n",
      "\n",
      "Loading species species...\n",
      "\n",
      "\n",
      "Loading statistical mechanics parameters for species...\n",
      "Symmetry input file written to /home/harms.n/Code/HAN/RMG-model/autotst/scratch/0.symm\n",
      "Point group: Cs\n",
      "Saving statistical mechanics parameters for species...\n",
      "Saving thermo for species...\n",
      "\n",
      "Arkane execution terminated at Fri Nov 15 14:20:58 2019\n",
      "Species input file already written... Not doing anything\n",
      "Arkane execution initiated at Fri Nov 15 14:20:58 2019\n",
      "\n",
      "################################################################\n",
      "#                                                              #\n",
      "# Automated Reaction Kinetics and Network Exploration (Arkane) #\n",
      "#                                                              #\n",
      "#   Version: 2.4.1                                             #\n",
      "#   Authors: RMG Developers (rmg_dev@mit.edu)                  #\n",
      "#   P.I.s:   William H. Green (whgreen@mit.edu)                #\n",
      "#            Richard H. West (r.west@neu.edu)                  #\n",
      "#   Website: http://reactionmechanismgenerator.github.io/      #\n",
      "#                                                              #\n",
      "################################################################\n",
      "\n",
      "Loading species species...\n"
     ]
    },
    {
     "name": "stdout",
     "output_type": "stream",
     "text": [
      "\n",
      "\n",
      "Loading statistical mechanics parameters for species...\n",
      "Symmetry input file written to /home/harms.n/Code/HAN/RMG-model/autotst/scratch/0.symm\n",
      "Point group: C1\n",
      "Saving statistical mechanics parameters for species...\n",
      "Saving thermo for species...\n",
      "\n",
      "Arkane execution terminated at Fri Nov 15 14:20:58 2019\n",
      "There is no lowest energy conformer file...\n",
      "No Low Energy Conf\n",
      "Species input file already written... Not doing anything\n",
      "Arkane execution initiated at Fri Nov 15 14:20:58 2019\n",
      "\n",
      "################################################################\n",
      "#                                                              #\n",
      "# Automated Reaction Kinetics and Network Exploration (Arkane) #\n",
      "#                                                              #\n",
      "#   Version: 2.4.1                                             #\n",
      "#   Authors: RMG Developers (rmg_dev@mit.edu)                  #\n",
      "#   P.I.s:   William H. Green (whgreen@mit.edu)                #\n",
      "#            Richard H. West (r.west@neu.edu)                  #\n",
      "#   Website: http://reactionmechanismgenerator.github.io/      #\n",
      "#                                                              #\n",
      "################################################################\n",
      "\n",
      "Loading species species...\n",
      "\n",
      "\n",
      "Loading statistical mechanics parameters for species...\n",
      "Symmetry input file written to /home/harms.n/Code/HAN/RMG-model/autotst/scratch/0.symm\n",
      "Point group: C1\n",
      "Saving statistical mechanics parameters for species...\n",
      "Saving thermo for species...\n",
      "\n",
      "Arkane execution terminated at Fri Nov 15 14:20:58 2019\n",
      "Species input file already written... Not doing anything\n",
      "Arkane execution initiated at Fri Nov 15 14:20:58 2019\n",
      "\n",
      "################################################################\n",
      "#                                                              #\n",
      "# Automated Reaction Kinetics and Network Exploration (Arkane) #\n",
      "#                                                              #\n",
      "#   Version: 2.4.1                                             #\n",
      "#   Authors: RMG Developers (rmg_dev@mit.edu)                  #\n",
      "#   P.I.s:   William H. Green (whgreen@mit.edu)                #\n",
      "#            Richard H. West (r.west@neu.edu)                  #\n",
      "#   Website: http://reactionmechanismgenerator.github.io/      #\n",
      "#                                                              #\n",
      "################################################################\n",
      "\n",
      "Loading species species...\n",
      "\n",
      "\n",
      "Loading statistical mechanics parameters for species...\n",
      "Symmetry input file written to /home/harms.n/Code/HAN/RMG-model/autotst/scratch/0.symm\n",
      "Point group: C1\n",
      "Saving statistical mechanics parameters for species...\n",
      "Saving thermo for species...\n",
      "\n",
      "Arkane execution terminated at Fri Nov 15 14:20:58 2019\n",
      "Species input file already written... Not doing anything\n",
      "Arkane execution initiated at Fri Nov 15 14:20:58 2019\n",
      "\n",
      "################################################################\n",
      "#                                                              #\n",
      "# Automated Reaction Kinetics and Network Exploration (Arkane) #\n",
      "#                                                              #\n",
      "#   Version: 2.4.1                                             #\n",
      "#   Authors: RMG Developers (rmg_dev@mit.edu)                  #\n",
      "#   P.I.s:   William H. Green (whgreen@mit.edu)                #\n",
      "#            Richard H. West (r.west@neu.edu)                  #\n",
      "#   Website: http://reactionmechanismgenerator.github.io/      #\n",
      "#                                                              #\n",
      "################################################################\n",
      "\n",
      "Loading species species...\n",
      "\n",
      "\n",
      "Loading statistical mechanics parameters for species...\n",
      "Symmetry input file written to /home/harms.n/Code/HAN/RMG-model/autotst/scratch/0.symm\n",
      "Point group: C2v\n",
      "Saving statistical mechanics parameters for species...\n",
      "Saving thermo for species...\n",
      "\n",
      "Arkane execution terminated at Fri Nov 15 14:20:58 2019\n",
      "Species input file already written... Not doing anything\n",
      "Arkane execution initiated at Fri Nov 15 14:20:58 2019\n",
      "\n",
      "################################################################\n",
      "#                                                              #\n",
      "# Automated Reaction Kinetics and Network Exploration (Arkane) #\n",
      "#                                                              #\n",
      "#   Version: 2.4.1                                             #\n",
      "#   Authors: RMG Developers (rmg_dev@mit.edu)                  #\n",
      "#   P.I.s:   William H. Green (whgreen@mit.edu)                #\n",
      "#            Richard H. West (r.west@neu.edu)                  #\n",
      "#   Website: http://reactionmechanismgenerator.github.io/      #\n",
      "#                                                              #\n",
      "################################################################\n",
      "\n",
      "Loading species species...\n",
      "\n",
      "\n",
      "Loading statistical mechanics parameters for species...\n",
      "Symmetry input file written to /home/harms.n/Code/HAN/RMG-model/autotst/scratch/0.symm\n",
      "Point group: C2\n",
      "Saving statistical mechanics parameters for species...\n",
      "Saving thermo for species...\n",
      "\n",
      "Arkane execution terminated at Fri Nov 15 14:20:58 2019\n",
      "Species input file already written... Not doing anything\n",
      "Arkane execution initiated at Fri Nov 15 14:21:07 2019\n",
      "\n",
      "################################################################\n",
      "#                                                              #\n",
      "# Automated Reaction Kinetics and Network Exploration (Arkane) #\n",
      "#                                                              #\n",
      "#   Version: 2.4.1                                             #\n",
      "#   Authors: RMG Developers (rmg_dev@mit.edu)                  #\n",
      "#   P.I.s:   William H. Green (whgreen@mit.edu)                #\n",
      "#            Richard H. West (r.west@neu.edu)                  #\n",
      "#   Website: http://reactionmechanismgenerator.github.io/      #\n",
      "#                                                              #\n",
      "################################################################\n",
      "\n",
      "Loading species species...\n",
      "\n",
      "\n",
      "Loading statistical mechanics parameters for species...\n",
      "Symmetry input file written to /home/harms.n/Code/HAN/RMG-model/autotst/scratch/0.symm\n",
      "Point group: Kh\n",
      "Saving statistical mechanics parameters for species...\n",
      "Saving thermo for species...\n",
      "\n",
      "Arkane execution terminated at Fri Nov 15 14:21:08 2019\n",
      "Species input file already written... Not doing anything\n",
      "Arkane execution initiated at Fri Nov 15 14:21:08 2019\n",
      "\n",
      "################################################################\n",
      "#                                                              #\n",
      "# Automated Reaction Kinetics and Network Exploration (Arkane) #\n",
      "#                                                              #\n",
      "#   Version: 2.4.1                                             #\n",
      "#   Authors: RMG Developers (rmg_dev@mit.edu)                  #\n",
      "#   P.I.s:   William H. Green (whgreen@mit.edu)                #\n",
      "#            Richard H. West (r.west@neu.edu)                  #\n",
      "#   Website: http://reactionmechanismgenerator.github.io/      #\n",
      "#                                                              #\n",
      "################################################################\n",
      "\n",
      "Loading species species...\n",
      "\n",
      "\n",
      "Loading statistical mechanics parameters for species...\n",
      "Symmetry input file written to /home/harms.n/Code/HAN/RMG-model/autotst/scratch/0.symm\n",
      "Point group: C2\n",
      "Saving statistical mechanics parameters for species...\n",
      "Saving thermo for species...\n",
      "\n",
      "Arkane execution terminated at Fri Nov 15 14:21:08 2019\n",
      "Species input file already written... Not doing anything\n",
      "Arkane execution initiated at Fri Nov 15 14:21:08 2019\n",
      "\n",
      "################################################################\n",
      "#                                                              #\n",
      "# Automated Reaction Kinetics and Network Exploration (Arkane) #\n",
      "#                                                              #\n",
      "#   Version: 2.4.1                                             #\n",
      "#   Authors: RMG Developers (rmg_dev@mit.edu)                  #\n",
      "#   P.I.s:   William H. Green (whgreen@mit.edu)                #\n",
      "#            Richard H. West (r.west@neu.edu)                  #\n",
      "#   Website: http://reactionmechanismgenerator.github.io/      #\n",
      "#                                                              #\n",
      "################################################################\n",
      "\n",
      "Loading species species...\n",
      "\n",
      "\n",
      "Loading statistical mechanics parameters for species...\n"
     ]
    },
    {
     "name": "stdout",
     "output_type": "stream",
     "text": [
      "Symmetry input file written to /home/harms.n/Code/HAN/RMG-model/autotst/scratch/0.symm\n",
      "Point group: Cs\n",
      "Saving statistical mechanics parameters for species...\n",
      "Saving thermo for species...\n",
      "\n",
      "Arkane execution terminated at Fri Nov 15 14:21:08 2019\n",
      "Species input file already written... Not doing anything\n",
      "Arkane execution initiated at Fri Nov 15 14:21:08 2019\n",
      "\n",
      "################################################################\n",
      "#                                                              #\n",
      "# Automated Reaction Kinetics and Network Exploration (Arkane) #\n",
      "#                                                              #\n",
      "#   Version: 2.4.1                                             #\n",
      "#   Authors: RMG Developers (rmg_dev@mit.edu)                  #\n",
      "#   P.I.s:   William H. Green (whgreen@mit.edu)                #\n",
      "#            Richard H. West (r.west@neu.edu)                  #\n",
      "#   Website: http://reactionmechanismgenerator.github.io/      #\n",
      "#                                                              #\n",
      "################################################################\n",
      "\n",
      "Loading species species...\n",
      "\n",
      "\n",
      "Loading statistical mechanics parameters for species...\n",
      "Symmetry input file written to /home/harms.n/Code/HAN/RMG-model/autotst/scratch/0.symm\n",
      "Point group: C2v\n",
      "Saving statistical mechanics parameters for species...\n",
      "Saving thermo for species...\n",
      "\n",
      "Arkane execution terminated at Fri Nov 15 14:21:08 2019\n",
      "Species input file already written... Not doing anything\n",
      "Arkane execution initiated at Fri Nov 15 14:21:08 2019\n",
      "\n",
      "################################################################\n",
      "#                                                              #\n",
      "# Automated Reaction Kinetics and Network Exploration (Arkane) #\n",
      "#                                                              #\n",
      "#   Version: 2.4.1                                             #\n",
      "#   Authors: RMG Developers (rmg_dev@mit.edu)                  #\n",
      "#   P.I.s:   William H. Green (whgreen@mit.edu)                #\n",
      "#            Richard H. West (r.west@neu.edu)                  #\n",
      "#   Website: http://reactionmechanismgenerator.github.io/      #\n",
      "#                                                              #\n",
      "################################################################\n",
      "\n",
      "Loading species species...\n",
      "\n",
      "\n",
      "Loading statistical mechanics parameters for species...\n",
      "Symmetry input file written to /home/harms.n/Code/HAN/RMG-model/autotst/scratch/0.symm\n",
      "Point group: C1\n",
      "Saving statistical mechanics parameters for species...\n",
      "Saving thermo for species...\n",
      "\n",
      "Arkane execution terminated at Fri Nov 15 14:21:08 2019\n",
      "Species input file already written... Not doing anything\n",
      "Arkane execution initiated at Fri Nov 15 14:21:08 2019\n",
      "\n",
      "################################################################\n",
      "#                                                              #\n",
      "# Automated Reaction Kinetics and Network Exploration (Arkane) #\n",
      "#                                                              #\n",
      "#   Version: 2.4.1                                             #\n",
      "#   Authors: RMG Developers (rmg_dev@mit.edu)                  #\n",
      "#   P.I.s:   William H. Green (whgreen@mit.edu)                #\n",
      "#            Richard H. West (r.west@neu.edu)                  #\n",
      "#   Website: http://reactionmechanismgenerator.github.io/      #\n",
      "#                                                              #\n",
      "################################################################\n",
      "\n",
      "Loading species species...\n",
      "\n",
      "\n",
      "Loading statistical mechanics parameters for species...\n",
      "Symmetry input file written to /home/harms.n/Code/HAN/RMG-model/autotst/scratch/0.symm\n",
      "Point group: Cs\n",
      "Saving statistical mechanics parameters for species...\n",
      "Saving thermo for species...\n",
      "\n",
      "Arkane execution terminated at Fri Nov 15 14:21:08 2019\n",
      "Species input file already written... Not doing anything\n",
      "Arkane execution initiated at Fri Nov 15 14:21:08 2019\n",
      "\n",
      "################################################################\n",
      "#                                                              #\n",
      "# Automated Reaction Kinetics and Network Exploration (Arkane) #\n",
      "#                                                              #\n",
      "#   Version: 2.4.1                                             #\n",
      "#   Authors: RMG Developers (rmg_dev@mit.edu)                  #\n",
      "#   P.I.s:   William H. Green (whgreen@mit.edu)                #\n",
      "#            Richard H. West (r.west@neu.edu)                  #\n",
      "#   Website: http://reactionmechanismgenerator.github.io/      #\n",
      "#                                                              #\n",
      "################################################################\n",
      "\n",
      "Loading species species...\n",
      "\n",
      "\n",
      "Loading statistical mechanics parameters for species...\n",
      "Symmetry input file written to /home/harms.n/Code/HAN/RMG-model/autotst/scratch/0.symm\n",
      "Point group: C1\n",
      "Saving statistical mechanics parameters for species...\n",
      "Saving thermo for species...\n",
      "\n",
      "Arkane execution terminated at Fri Nov 15 14:21:08 2019\n",
      "Species input file already written... Not doing anything\n",
      "Arkane execution initiated at Fri Nov 15 14:21:08 2019\n",
      "\n",
      "################################################################\n",
      "#                                                              #\n",
      "# Automated Reaction Kinetics and Network Exploration (Arkane) #\n",
      "#                                                              #\n",
      "#   Version: 2.4.1                                             #\n",
      "#   Authors: RMG Developers (rmg_dev@mit.edu)                  #\n",
      "#   P.I.s:   William H. Green (whgreen@mit.edu)                #\n",
      "#            Richard H. West (r.west@neu.edu)                  #\n",
      "#   Website: http://reactionmechanismgenerator.github.io/      #\n",
      "#                                                              #\n",
      "################################################################\n",
      "\n",
      "Loading species species...\n",
      "\n",
      "\n",
      "Loading statistical mechanics parameters for species...\n",
      "Symmetry input file written to /home/harms.n/Code/HAN/RMG-model/autotst/scratch/0.symm\n",
      "Point group: C1\n",
      "Saving statistical mechanics parameters for species...\n",
      "Saving thermo for species...\n",
      "\n",
      "Arkane execution terminated at Fri Nov 15 14:21:08 2019\n",
      "Species input file already written... Not doing anything\n",
      "Arkane execution initiated at Fri Nov 15 14:21:08 2019\n",
      "\n",
      "################################################################\n",
      "#                                                              #\n",
      "# Automated Reaction Kinetics and Network Exploration (Arkane) #\n",
      "#                                                              #\n",
      "#   Version: 2.4.1                                             #\n",
      "#   Authors: RMG Developers (rmg_dev@mit.edu)                  #\n",
      "#   P.I.s:   William H. Green (whgreen@mit.edu)                #\n",
      "#            Richard H. West (r.west@neu.edu)                  #\n",
      "#   Website: http://reactionmechanismgenerator.github.io/      #\n",
      "#                                                              #\n",
      "################################################################\n",
      "\n",
      "Loading species species...\n",
      "\n",
      "\n",
      "Loading statistical mechanics parameters for species...\n",
      "Symmetry input file written to /home/harms.n/Code/HAN/RMG-model/autotst/scratch/0.symm\n",
      "Point group: Cs\n",
      "Saving statistical mechanics parameters for species...\n",
      "Saving thermo for species...\n",
      "\n",
      "Arkane execution terminated at Fri Nov 15 14:21:09 2019\n",
      "Species input file already written... Not doing anything\n",
      "Arkane execution initiated at Fri Nov 15 14:21:09 2019\n",
      "\n",
      "################################################################\n",
      "#                                                              #\n",
      "# Automated Reaction Kinetics and Network Exploration (Arkane) #\n",
      "#                                                              #\n",
      "#   Version: 2.4.1                                             #\n",
      "#   Authors: RMG Developers (rmg_dev@mit.edu)                  #\n",
      "#   P.I.s:   William H. Green (whgreen@mit.edu)                #\n",
      "#            Richard H. West (r.west@neu.edu)                  #\n",
      "#   Website: http://reactionmechanismgenerator.github.io/      #\n",
      "#                                                              #\n",
      "################################################################\n",
      "\n",
      "Loading species species...\n",
      "\n",
      "\n",
      "Loading statistical mechanics parameters for species...\n",
      "Symmetry input file written to /home/harms.n/Code/HAN/RMG-model/autotst/scratch/0.symm\n"
     ]
    },
    {
     "name": "stdout",
     "output_type": "stream",
     "text": [
      "Point group: C1\n",
      "Saving statistical mechanics parameters for species...\n",
      "Saving thermo for species...\n",
      "\n",
      "Arkane execution terminated at Fri Nov 15 14:21:09 2019\n",
      "Species input file already written... Not doing anything\n",
      "Arkane execution initiated at Fri Nov 15 14:21:09 2019\n",
      "\n",
      "################################################################\n",
      "#                                                              #\n",
      "# Automated Reaction Kinetics and Network Exploration (Arkane) #\n",
      "#                                                              #\n",
      "#   Version: 2.4.1                                             #\n",
      "#   Authors: RMG Developers (rmg_dev@mit.edu)                  #\n",
      "#   P.I.s:   William H. Green (whgreen@mit.edu)                #\n",
      "#            Richard H. West (r.west@neu.edu)                  #\n",
      "#   Website: http://reactionmechanismgenerator.github.io/      #\n",
      "#                                                              #\n",
      "################################################################\n",
      "\n",
      "Loading species species...\n",
      "\n",
      "\n",
      "Loading statistical mechanics parameters for species...\n",
      "Symmetry input file written to /home/harms.n/Code/HAN/RMG-model/autotst/scratch/0.symm\n",
      "Point group: C1\n",
      "Saving statistical mechanics parameters for species...\n",
      "Saving thermo for species...\n",
      "\n",
      "Arkane execution terminated at Fri Nov 15 14:21:09 2019\n",
      "Species input file already written... Not doing anything\n",
      "Arkane execution initiated at Fri Nov 15 14:21:09 2019\n",
      "\n",
      "################################################################\n",
      "#                                                              #\n",
      "# Automated Reaction Kinetics and Network Exploration (Arkane) #\n",
      "#                                                              #\n",
      "#   Version: 2.4.1                                             #\n",
      "#   Authors: RMG Developers (rmg_dev@mit.edu)                  #\n",
      "#   P.I.s:   William H. Green (whgreen@mit.edu)                #\n",
      "#            Richard H. West (r.west@neu.edu)                  #\n",
      "#   Website: http://reactionmechanismgenerator.github.io/      #\n",
      "#                                                              #\n",
      "################################################################\n",
      "\n",
      "Loading species species...\n",
      "\n",
      "\n",
      "Loading statistical mechanics parameters for species...\n",
      "Symmetry input file written to /home/harms.n/Code/HAN/RMG-model/autotst/scratch/0.symm\n",
      "Point group: Cs\n",
      "Saving statistical mechanics parameters for species...\n",
      "Saving thermo for species...\n",
      "\n",
      "Arkane execution terminated at Fri Nov 15 14:21:09 2019\n",
      "Species input file already written... Not doing anything\n",
      "Arkane execution initiated at Fri Nov 15 14:21:09 2019\n",
      "\n",
      "################################################################\n",
      "#                                                              #\n",
      "# Automated Reaction Kinetics and Network Exploration (Arkane) #\n",
      "#                                                              #\n",
      "#   Version: 2.4.1                                             #\n",
      "#   Authors: RMG Developers (rmg_dev@mit.edu)                  #\n",
      "#   P.I.s:   William H. Green (whgreen@mit.edu)                #\n",
      "#            Richard H. West (r.west@neu.edu)                  #\n",
      "#   Website: http://reactionmechanismgenerator.github.io/      #\n",
      "#                                                              #\n",
      "################################################################\n",
      "\n",
      "Loading species species...\n",
      "\n",
      "\n",
      "Loading statistical mechanics parameters for species...\n",
      "Symmetry input file written to /home/harms.n/Code/HAN/RMG-model/autotst/scratch/0.symm\n",
      "Point group: Dinfh\n",
      "Saving statistical mechanics parameters for species...\n",
      "Saving thermo for species...\n",
      "\n",
      "Arkane execution terminated at Fri Nov 15 14:21:09 2019\n",
      "Species input file already written... Not doing anything\n",
      "Arkane execution initiated at Fri Nov 15 14:21:09 2019\n",
      "\n",
      "################################################################\n",
      "#                                                              #\n",
      "# Automated Reaction Kinetics and Network Exploration (Arkane) #\n",
      "#                                                              #\n",
      "#   Version: 2.4.1                                             #\n",
      "#   Authors: RMG Developers (rmg_dev@mit.edu)                  #\n",
      "#   P.I.s:   William H. Green (whgreen@mit.edu)                #\n",
      "#            Richard H. West (r.west@neu.edu)                  #\n",
      "#   Website: http://reactionmechanismgenerator.github.io/      #\n",
      "#                                                              #\n",
      "################################################################\n",
      "\n",
      "Loading species species...\n",
      "\n",
      "\n",
      "Loading statistical mechanics parameters for species...\n",
      "Symmetry input file written to /home/harms.n/Code/HAN/RMG-model/autotst/scratch/0.symm\n",
      "Point group: Cs\n",
      "Saving statistical mechanics parameters for species...\n",
      "Saving thermo for species...\n",
      "\n",
      "Arkane execution terminated at Fri Nov 15 14:21:09 2019\n",
      "Species input file already written... Not doing anything\n",
      "Arkane execution initiated at Fri Nov 15 14:21:09 2019\n",
      "\n",
      "################################################################\n",
      "#                                                              #\n",
      "# Automated Reaction Kinetics and Network Exploration (Arkane) #\n",
      "#                                                              #\n",
      "#   Version: 2.4.1                                             #\n",
      "#   Authors: RMG Developers (rmg_dev@mit.edu)                  #\n",
      "#   P.I.s:   William H. Green (whgreen@mit.edu)                #\n",
      "#            Richard H. West (r.west@neu.edu)                  #\n",
      "#   Website: http://reactionmechanismgenerator.github.io/      #\n",
      "#                                                              #\n",
      "################################################################\n",
      "\n",
      "Loading species species...\n",
      "\n",
      "\n",
      "Loading statistical mechanics parameters for species...\n",
      "Symmetry input file written to /home/harms.n/Code/HAN/RMG-model/autotst/scratch/0.symm\n",
      "Point group: Cs\n",
      "Saving statistical mechanics parameters for species...\n",
      "Saving thermo for species...\n",
      "\n",
      "Arkane execution terminated at Fri Nov 15 14:21:09 2019\n",
      "Species input file already written... Not doing anything\n",
      "Arkane execution initiated at Fri Nov 15 14:21:10 2019\n",
      "\n",
      "################################################################\n",
      "#                                                              #\n",
      "# Automated Reaction Kinetics and Network Exploration (Arkane) #\n",
      "#                                                              #\n",
      "#   Version: 2.4.1                                             #\n",
      "#   Authors: RMG Developers (rmg_dev@mit.edu)                  #\n",
      "#   P.I.s:   William H. Green (whgreen@mit.edu)                #\n",
      "#            Richard H. West (r.west@neu.edu)                  #\n",
      "#   Website: http://reactionmechanismgenerator.github.io/      #\n",
      "#                                                              #\n",
      "################################################################\n",
      "\n",
      "Loading species species...\n",
      "\n",
      "\n",
      "Loading statistical mechanics parameters for species...\n",
      "Symmetry input file written to /home/harms.n/Code/HAN/RMG-model/autotst/scratch/0.symm\n",
      "Point group: C1\n",
      "Saving statistical mechanics parameters for species...\n",
      "Saving thermo for species...\n",
      "\n",
      "Arkane execution terminated at Fri Nov 15 14:21:10 2019\n",
      "Species input file already written... Not doing anything\n",
      "Arkane execution initiated at Fri Nov 15 14:21:10 2019\n",
      "\n",
      "################################################################\n",
      "#                                                              #\n",
      "# Automated Reaction Kinetics and Network Exploration (Arkane) #\n",
      "#                                                              #\n",
      "#   Version: 2.4.1                                             #\n",
      "#   Authors: RMG Developers (rmg_dev@mit.edu)                  #\n",
      "#   P.I.s:   William H. Green (whgreen@mit.edu)                #\n",
      "#            Richard H. West (r.west@neu.edu)                  #\n",
      "#   Website: http://reactionmechanismgenerator.github.io/      #\n",
      "#                                                              #\n",
      "################################################################\n",
      "\n",
      "Loading species species...\n",
      "\n",
      "\n",
      "Loading statistical mechanics parameters for species...\n",
      "Symmetry input file written to /home/harms.n/Code/HAN/RMG-model/autotst/scratch/0.symm\n",
      "Point group: C1\n",
      "Saving statistical mechanics parameters for species...\n",
      "Saving thermo for species...\n"
     ]
    },
    {
     "name": "stdout",
     "output_type": "stream",
     "text": [
      "\n",
      "Arkane execution terminated at Fri Nov 15 14:21:10 2019\n",
      "Species input file already written... Not doing anything\n",
      "Arkane execution initiated at Fri Nov 15 14:21:10 2019\n",
      "\n",
      "################################################################\n",
      "#                                                              #\n",
      "# Automated Reaction Kinetics and Network Exploration (Arkane) #\n",
      "#                                                              #\n",
      "#   Version: 2.4.1                                             #\n",
      "#   Authors: RMG Developers (rmg_dev@mit.edu)                  #\n",
      "#   P.I.s:   William H. Green (whgreen@mit.edu)                #\n",
      "#            Richard H. West (r.west@neu.edu)                  #\n",
      "#   Website: http://reactionmechanismgenerator.github.io/      #\n",
      "#                                                              #\n",
      "################################################################\n",
      "\n",
      "Loading species species...\n",
      "\n",
      "\n",
      "Loading statistical mechanics parameters for species...\n",
      "Symmetry input file written to /home/harms.n/Code/HAN/RMG-model/autotst/scratch/0.symm\n",
      "Point group: C3v\n",
      "Saving statistical mechanics parameters for species...\n",
      "Saving thermo for species...\n",
      "\n",
      "Arkane execution terminated at Fri Nov 15 14:21:10 2019\n",
      "Species input file already written... Not doing anything\n",
      "Arkane execution initiated at Fri Nov 15 14:21:10 2019\n",
      "\n",
      "################################################################\n",
      "#                                                              #\n",
      "# Automated Reaction Kinetics and Network Exploration (Arkane) #\n",
      "#                                                              #\n",
      "#   Version: 2.4.1                                             #\n",
      "#   Authors: RMG Developers (rmg_dev@mit.edu)                  #\n",
      "#   P.I.s:   William H. Green (whgreen@mit.edu)                #\n",
      "#            Richard H. West (r.west@neu.edu)                  #\n",
      "#   Website: http://reactionmechanismgenerator.github.io/      #\n",
      "#                                                              #\n",
      "################################################################\n",
      "\n",
      "Loading species species...\n",
      "\n",
      "\n",
      "Loading statistical mechanics parameters for species...\n",
      "Symmetry input file written to /home/harms.n/Code/HAN/RMG-model/autotst/scratch/0.symm\n",
      "Point group: C1\n",
      "Saving statistical mechanics parameters for species...\n",
      "Saving thermo for species...\n",
      "\n",
      "Arkane execution terminated at Fri Nov 15 14:21:10 2019\n",
      "Species input file already written... Not doing anything\n",
      "Arkane execution initiated at Fri Nov 15 14:21:10 2019\n",
      "\n",
      "################################################################\n",
      "#                                                              #\n",
      "# Automated Reaction Kinetics and Network Exploration (Arkane) #\n",
      "#                                                              #\n",
      "#   Version: 2.4.1                                             #\n",
      "#   Authors: RMG Developers (rmg_dev@mit.edu)                  #\n",
      "#   P.I.s:   William H. Green (whgreen@mit.edu)                #\n",
      "#            Richard H. West (r.west@neu.edu)                  #\n",
      "#   Website: http://reactionmechanismgenerator.github.io/      #\n",
      "#                                                              #\n",
      "################################################################\n",
      "\n",
      "Loading species species...\n",
      "\n",
      "\n",
      "Loading statistical mechanics parameters for species...\n",
      "Symmetry input file written to /home/harms.n/Code/HAN/RMG-model/autotst/scratch/0.symm\n",
      "Point group: Cs\n",
      "Saving statistical mechanics parameters for species...\n",
      "Saving thermo for species...\n",
      "\n",
      "Arkane execution terminated at Fri Nov 15 14:21:10 2019\n",
      "Species input file already written... Not doing anything\n",
      "Arkane execution initiated at Fri Nov 15 14:21:10 2019\n",
      "\n",
      "################################################################\n",
      "#                                                              #\n",
      "# Automated Reaction Kinetics and Network Exploration (Arkane) #\n",
      "#                                                              #\n",
      "#   Version: 2.4.1                                             #\n",
      "#   Authors: RMG Developers (rmg_dev@mit.edu)                  #\n",
      "#   P.I.s:   William H. Green (whgreen@mit.edu)                #\n",
      "#            Richard H. West (r.west@neu.edu)                  #\n",
      "#   Website: http://reactionmechanismgenerator.github.io/      #\n",
      "#                                                              #\n",
      "################################################################\n",
      "\n",
      "Loading species species...\n",
      "\n",
      "\n",
      "Loading statistical mechanics parameters for species...\n",
      "Symmetry input file written to /home/harms.n/Code/HAN/RMG-model/autotst/scratch/0.symm\n",
      "Point group: C1\n",
      "Saving statistical mechanics parameters for species...\n",
      "Saving thermo for species...\n",
      "\n",
      "Arkane execution terminated at Fri Nov 15 14:21:10 2019\n",
      "Species input file already written... Not doing anything\n",
      "Arkane execution initiated at Fri Nov 15 14:21:10 2019\n",
      "\n",
      "################################################################\n",
      "#                                                              #\n",
      "# Automated Reaction Kinetics and Network Exploration (Arkane) #\n",
      "#                                                              #\n",
      "#   Version: 2.4.1                                             #\n",
      "#   Authors: RMG Developers (rmg_dev@mit.edu)                  #\n",
      "#   P.I.s:   William H. Green (whgreen@mit.edu)                #\n",
      "#            Richard H. West (r.west@neu.edu)                  #\n",
      "#   Website: http://reactionmechanismgenerator.github.io/      #\n",
      "#                                                              #\n",
      "################################################################\n",
      "\n",
      "Loading species species...\n",
      "\n",
      "\n",
      "Loading statistical mechanics parameters for species...\n",
      "Symmetry input file written to /home/harms.n/Code/HAN/RMG-model/autotst/scratch/0.symm\n",
      "Point group: Td\n",
      "Saving statistical mechanics parameters for species...\n",
      "Saving thermo for species...\n",
      "\n",
      "Arkane execution terminated at Fri Nov 15 14:21:11 2019\n",
      "Species input file already written... Not doing anything\n",
      "Arkane execution initiated at Fri Nov 15 14:21:11 2019\n",
      "\n",
      "################################################################\n",
      "#                                                              #\n",
      "# Automated Reaction Kinetics and Network Exploration (Arkane) #\n",
      "#                                                              #\n",
      "#   Version: 2.4.1                                             #\n",
      "#   Authors: RMG Developers (rmg_dev@mit.edu)                  #\n",
      "#   P.I.s:   William H. Green (whgreen@mit.edu)                #\n",
      "#            Richard H. West (r.west@neu.edu)                  #\n",
      "#   Website: http://reactionmechanismgenerator.github.io/      #\n",
      "#                                                              #\n",
      "################################################################\n",
      "\n",
      "Loading species species...\n",
      "\n",
      "\n",
      "Loading statistical mechanics parameters for species...\n",
      "Symmetry input file written to /home/harms.n/Code/HAN/RMG-model/autotst/scratch/0.symm\n",
      "Point group: Cs\n",
      "Saving statistical mechanics parameters for species...\n",
      "Saving thermo for species...\n",
      "\n",
      "Arkane execution terminated at Fri Nov 15 14:21:11 2019\n",
      "Species input file already written... Not doing anything\n",
      "Arkane execution initiated at Fri Nov 15 14:21:11 2019\n",
      "\n",
      "################################################################\n",
      "#                                                              #\n",
      "# Automated Reaction Kinetics and Network Exploration (Arkane) #\n",
      "#                                                              #\n",
      "#   Version: 2.4.1                                             #\n",
      "#   Authors: RMG Developers (rmg_dev@mit.edu)                  #\n",
      "#   P.I.s:   William H. Green (whgreen@mit.edu)                #\n",
      "#            Richard H. West (r.west@neu.edu)                  #\n",
      "#   Website: http://reactionmechanismgenerator.github.io/      #\n",
      "#                                                              #\n",
      "################################################################\n",
      "\n",
      "Loading species species...\n",
      "\n",
      "\n",
      "Loading statistical mechanics parameters for species...\n",
      "Symmetry input file written to /home/harms.n/Code/HAN/RMG-model/autotst/scratch/0.symm\n",
      "Point group: Cinfv\n",
      "Saving statistical mechanics parameters for species...\n",
      "Saving thermo for species...\n",
      "\n",
      "Arkane execution terminated at Fri Nov 15 14:21:11 2019\n",
      "Species input file already written... Not doing anything\n"
     ]
    },
    {
     "name": "stdout",
     "output_type": "stream",
     "text": [
      "Arkane execution initiated at Fri Nov 15 14:21:11 2019\n",
      "\n",
      "################################################################\n",
      "#                                                              #\n",
      "# Automated Reaction Kinetics and Network Exploration (Arkane) #\n",
      "#                                                              #\n",
      "#   Version: 2.4.1                                             #\n",
      "#   Authors: RMG Developers (rmg_dev@mit.edu)                  #\n",
      "#   P.I.s:   William H. Green (whgreen@mit.edu)                #\n",
      "#            Richard H. West (r.west@neu.edu)                  #\n",
      "#   Website: http://reactionmechanismgenerator.github.io/      #\n",
      "#                                                              #\n",
      "################################################################\n",
      "\n",
      "Loading species species...\n",
      "\n",
      "\n",
      "Loading statistical mechanics parameters for species...\n",
      "Symmetry input file written to /home/harms.n/Code/HAN/RMG-model/autotst/scratch/0.symm\n",
      "Point group: C1\n",
      "Saving statistical mechanics parameters for species...\n",
      "Saving thermo for species...\n",
      "\n",
      "Arkane execution terminated at Fri Nov 15 14:21:11 2019\n",
      "Species input file already written... Not doing anything\n",
      "Arkane execution initiated at Fri Nov 15 14:21:11 2019\n",
      "\n",
      "################################################################\n",
      "#                                                              #\n",
      "# Automated Reaction Kinetics and Network Exploration (Arkane) #\n",
      "#                                                              #\n",
      "#   Version: 2.4.1                                             #\n",
      "#   Authors: RMG Developers (rmg_dev@mit.edu)                  #\n",
      "#   P.I.s:   William H. Green (whgreen@mit.edu)                #\n",
      "#            Richard H. West (r.west@neu.edu)                  #\n",
      "#   Website: http://reactionmechanismgenerator.github.io/      #\n",
      "#                                                              #\n",
      "################################################################\n",
      "\n",
      "Loading species species...\n",
      "\n",
      "\n",
      "Loading statistical mechanics parameters for species...\n",
      "Symmetry input file written to /home/harms.n/Code/HAN/RMG-model/autotst/scratch/0.symm\n",
      "Point group: Cs\n",
      "Saving statistical mechanics parameters for species...\n",
      "Saving thermo for species...\n",
      "\n",
      "Arkane execution terminated at Fri Nov 15 14:21:11 2019\n",
      "Species input file already written... Not doing anything\n",
      "Arkane execution initiated at Fri Nov 15 14:21:11 2019\n",
      "\n",
      "################################################################\n",
      "#                                                              #\n",
      "# Automated Reaction Kinetics and Network Exploration (Arkane) #\n",
      "#                                                              #\n",
      "#   Version: 2.4.1                                             #\n",
      "#   Authors: RMG Developers (rmg_dev@mit.edu)                  #\n",
      "#   P.I.s:   William H. Green (whgreen@mit.edu)                #\n",
      "#            Richard H. West (r.west@neu.edu)                  #\n",
      "#   Website: http://reactionmechanismgenerator.github.io/      #\n",
      "#                                                              #\n",
      "################################################################\n",
      "\n",
      "Loading species species...\n",
      "\n",
      "\n",
      "Loading statistical mechanics parameters for species...\n",
      "Symmetry input file written to /home/harms.n/Code/HAN/RMG-model/autotst/scratch/0.symm\n",
      "Point group: Cs\n",
      "Saving statistical mechanics parameters for species...\n",
      "Saving thermo for species...\n",
      "\n",
      "Arkane execution terminated at Fri Nov 15 14:21:11 2019\n",
      "Species input file already written... Not doing anything\n",
      "Arkane execution initiated at Fri Nov 15 14:21:11 2019\n",
      "\n",
      "################################################################\n",
      "#                                                              #\n",
      "# Automated Reaction Kinetics and Network Exploration (Arkane) #\n",
      "#                                                              #\n",
      "#   Version: 2.4.1                                             #\n",
      "#   Authors: RMG Developers (rmg_dev@mit.edu)                  #\n",
      "#   P.I.s:   William H. Green (whgreen@mit.edu)                #\n",
      "#            Richard H. West (r.west@neu.edu)                  #\n",
      "#   Website: http://reactionmechanismgenerator.github.io/      #\n",
      "#                                                              #\n",
      "################################################################\n",
      "\n",
      "Loading species species...\n",
      "\n",
      "\n",
      "Loading statistical mechanics parameters for species...\n",
      "Symmetry input file written to /home/harms.n/Code/HAN/RMG-model/autotst/scratch/0.symm\n",
      "Point group: C1\n",
      "Saving statistical mechanics parameters for species...\n",
      "Saving thermo for species...\n",
      "\n",
      "Arkane execution terminated at Fri Nov 15 14:21:11 2019\n",
      "Species input file already written... Not doing anything\n",
      "Arkane execution initiated at Fri Nov 15 14:21:11 2019\n",
      "\n",
      "################################################################\n",
      "#                                                              #\n",
      "# Automated Reaction Kinetics and Network Exploration (Arkane) #\n",
      "#                                                              #\n",
      "#   Version: 2.4.1                                             #\n",
      "#   Authors: RMG Developers (rmg_dev@mit.edu)                  #\n",
      "#   P.I.s:   William H. Green (whgreen@mit.edu)                #\n",
      "#            Richard H. West (r.west@neu.edu)                  #\n",
      "#   Website: http://reactionmechanismgenerator.github.io/      #\n",
      "#                                                              #\n",
      "################################################################\n",
      "\n",
      "Loading species species...\n",
      "\n",
      "\n",
      "Loading statistical mechanics parameters for species...\n",
      "Symmetry input file written to /home/harms.n/Code/HAN/RMG-model/autotst/scratch/0.symm\n",
      "Point group: C1\n",
      "Saving statistical mechanics parameters for species...\n",
      "Saving thermo for species...\n",
      "\n",
      "Arkane execution terminated at Fri Nov 15 14:21:11 2019\n",
      "Species input file already written... Not doing anything\n",
      "Arkane execution initiated at Fri Nov 15 14:21:20 2019\n",
      "\n",
      "################################################################\n",
      "#                                                              #\n",
      "# Automated Reaction Kinetics and Network Exploration (Arkane) #\n",
      "#                                                              #\n",
      "#   Version: 2.4.1                                             #\n",
      "#   Authors: RMG Developers (rmg_dev@mit.edu)                  #\n",
      "#   P.I.s:   William H. Green (whgreen@mit.edu)                #\n",
      "#            Richard H. West (r.west@neu.edu)                  #\n",
      "#   Website: http://reactionmechanismgenerator.github.io/      #\n",
      "#                                                              #\n",
      "################################################################\n",
      "\n",
      "Loading species species...\n",
      "\n",
      "\n",
      "Loading statistical mechanics parameters for species...\n",
      "Symmetry input file written to /home/harms.n/Code/HAN/RMG-model/autotst/scratch/0.symm\n",
      "Point group: Kh\n",
      "Saving statistical mechanics parameters for species...\n",
      "Saving thermo for species...\n",
      "\n",
      "Arkane execution terminated at Fri Nov 15 14:21:21 2019\n",
      "Species input file already written... Not doing anything\n",
      "Arkane execution initiated at Fri Nov 15 14:21:21 2019\n",
      "\n",
      "################################################################\n",
      "#                                                              #\n",
      "# Automated Reaction Kinetics and Network Exploration (Arkane) #\n",
      "#                                                              #\n",
      "#   Version: 2.4.1                                             #\n",
      "#   Authors: RMG Developers (rmg_dev@mit.edu)                  #\n",
      "#   P.I.s:   William H. Green (whgreen@mit.edu)                #\n",
      "#            Richard H. West (r.west@neu.edu)                  #\n",
      "#   Website: http://reactionmechanismgenerator.github.io/      #\n",
      "#                                                              #\n",
      "################################################################\n",
      "\n",
      "Loading species species...\n",
      "\n",
      "\n",
      "Loading statistical mechanics parameters for species...\n",
      "Symmetry input file written to /home/harms.n/Code/HAN/RMG-model/autotst/scratch/0.symm\n",
      "Point group: C1\n",
      "Saving statistical mechanics parameters for species...\n",
      "Saving thermo for species...\n",
      "\n",
      "Arkane execution terminated at Fri Nov 15 14:21:21 2019\n",
      "Species input file already written... Not doing anything\n",
      "Arkane execution initiated at Fri Nov 15 14:21:21 2019\n",
      "\n",
      "################################################################\n"
     ]
    },
    {
     "name": "stdout",
     "output_type": "stream",
     "text": [
      "#                                                              #\n",
      "# Automated Reaction Kinetics and Network Exploration (Arkane) #\n",
      "#                                                              #\n",
      "#   Version: 2.4.1                                             #\n",
      "#   Authors: RMG Developers (rmg_dev@mit.edu)                  #\n",
      "#   P.I.s:   William H. Green (whgreen@mit.edu)                #\n",
      "#            Richard H. West (r.west@neu.edu)                  #\n",
      "#   Website: http://reactionmechanismgenerator.github.io/      #\n",
      "#                                                              #\n",
      "################################################################\n",
      "\n",
      "Loading species species...\n",
      "\n",
      "\n",
      "Loading statistical mechanics parameters for species...\n",
      "Symmetry input file written to /home/harms.n/Code/HAN/RMG-model/autotst/scratch/0.symm\n",
      "Point group: Cs\n",
      "Saving statistical mechanics parameters for species...\n",
      "Saving thermo for species...\n",
      "\n",
      "Arkane execution terminated at Fri Nov 15 14:21:21 2019\n",
      "Species input file already written... Not doing anything\n",
      "Arkane execution initiated at Fri Nov 15 14:21:21 2019\n",
      "\n",
      "################################################################\n",
      "#                                                              #\n",
      "# Automated Reaction Kinetics and Network Exploration (Arkane) #\n",
      "#                                                              #\n",
      "#   Version: 2.4.1                                             #\n",
      "#   Authors: RMG Developers (rmg_dev@mit.edu)                  #\n",
      "#   P.I.s:   William H. Green (whgreen@mit.edu)                #\n",
      "#            Richard H. West (r.west@neu.edu)                  #\n",
      "#   Website: http://reactionmechanismgenerator.github.io/      #\n",
      "#                                                              #\n",
      "################################################################\n",
      "\n",
      "Loading species species...\n",
      "\n",
      "\n",
      "Loading statistical mechanics parameters for species...\n",
      "Symmetry input file written to /home/harms.n/Code/HAN/RMG-model/autotst/scratch/0.symm\n",
      "Point group: Cs\n",
      "Saving statistical mechanics parameters for species...\n",
      "Saving thermo for species...\n",
      "\n",
      "Arkane execution terminated at Fri Nov 15 14:21:21 2019\n",
      "There is no lowest energy conformer file...\n",
      "No Low Energy Conf\n",
      "Species input file already written... Not doing anything\n",
      "Arkane execution initiated at Fri Nov 15 14:21:21 2019\n",
      "\n",
      "################################################################\n",
      "#                                                              #\n",
      "# Automated Reaction Kinetics and Network Exploration (Arkane) #\n",
      "#                                                              #\n",
      "#   Version: 2.4.1                                             #\n",
      "#   Authors: RMG Developers (rmg_dev@mit.edu)                  #\n",
      "#   P.I.s:   William H. Green (whgreen@mit.edu)                #\n",
      "#            Richard H. West (r.west@neu.edu)                  #\n",
      "#   Website: http://reactionmechanismgenerator.github.io/      #\n",
      "#                                                              #\n",
      "################################################################\n",
      "\n",
      "Loading species species...\n",
      "\n",
      "\n",
      "Loading statistical mechanics parameters for species...\n",
      "Symmetry input file written to /home/harms.n/Code/HAN/RMG-model/autotst/scratch/0.symm\n",
      "Point group: C1\n",
      "Saving statistical mechanics parameters for species...\n",
      "Saving thermo for species...\n",
      "\n",
      "Arkane execution terminated at Fri Nov 15 14:21:21 2019\n",
      "Species input file already written... Not doing anything\n",
      "Arkane execution initiated at Fri Nov 15 14:21:21 2019\n",
      "\n",
      "################################################################\n",
      "#                                                              #\n",
      "# Automated Reaction Kinetics and Network Exploration (Arkane) #\n",
      "#                                                              #\n",
      "#   Version: 2.4.1                                             #\n",
      "#   Authors: RMG Developers (rmg_dev@mit.edu)                  #\n",
      "#   P.I.s:   William H. Green (whgreen@mit.edu)                #\n",
      "#            Richard H. West (r.west@neu.edu)                  #\n",
      "#   Website: http://reactionmechanismgenerator.github.io/      #\n",
      "#                                                              #\n",
      "################################################################\n",
      "\n",
      "Loading species species...\n",
      "\n",
      "\n",
      "Loading statistical mechanics parameters for species...\n",
      "Symmetry input file written to /home/harms.n/Code/HAN/RMG-model/autotst/scratch/0.symm\n",
      "Point group: Cs\n",
      "Saving statistical mechanics parameters for species...\n",
      "Saving thermo for species...\n",
      "\n",
      "Arkane execution terminated at Fri Nov 15 14:21:21 2019\n",
      "Species input file already written... Not doing anything\n",
      "Arkane execution initiated at Fri Nov 15 14:21:21 2019\n",
      "\n",
      "################################################################\n",
      "#                                                              #\n",
      "# Automated Reaction Kinetics and Network Exploration (Arkane) #\n",
      "#                                                              #\n",
      "#   Version: 2.4.1                                             #\n",
      "#   Authors: RMG Developers (rmg_dev@mit.edu)                  #\n",
      "#   P.I.s:   William H. Green (whgreen@mit.edu)                #\n",
      "#            Richard H. West (r.west@neu.edu)                  #\n",
      "#   Website: http://reactionmechanismgenerator.github.io/      #\n",
      "#                                                              #\n",
      "################################################################\n",
      "\n",
      "Loading species species...\n",
      "\n",
      "\n",
      "Loading statistical mechanics parameters for species...\n",
      "Symmetry input file written to /home/harms.n/Code/HAN/RMG-model/autotst/scratch/0.symm\n",
      "Point group: Cs\n",
      "Saving statistical mechanics parameters for species...\n",
      "Saving thermo for species...\n",
      "\n",
      "Arkane execution terminated at Fri Nov 15 14:21:21 2019\n",
      "Species input file already written... Not doing anything\n",
      "Arkane execution initiated at Fri Nov 15 14:21:21 2019\n",
      "\n",
      "################################################################\n",
      "#                                                              #\n",
      "# Automated Reaction Kinetics and Network Exploration (Arkane) #\n",
      "#                                                              #\n",
      "#   Version: 2.4.1                                             #\n",
      "#   Authors: RMG Developers (rmg_dev@mit.edu)                  #\n",
      "#   P.I.s:   William H. Green (whgreen@mit.edu)                #\n",
      "#            Richard H. West (r.west@neu.edu)                  #\n",
      "#   Website: http://reactionmechanismgenerator.github.io/      #\n",
      "#                                                              #\n",
      "################################################################\n",
      "\n",
      "Loading species species...\n",
      "\n",
      "\n",
      "Loading statistical mechanics parameters for species...\n",
      "Symmetry input file written to /home/harms.n/Code/HAN/RMG-model/autotst/scratch/0.symm\n",
      "Point group: C1\n",
      "Saving statistical mechanics parameters for species...\n",
      "Saving thermo for species...\n",
      "\n",
      "Arkane execution terminated at Fri Nov 15 14:21:22 2019\n",
      "Species input file already written... Not doing anything\n",
      "Arkane execution initiated at Fri Nov 15 14:21:22 2019\n",
      "\n",
      "################################################################\n",
      "#                                                              #\n",
      "# Automated Reaction Kinetics and Network Exploration (Arkane) #\n",
      "#                                                              #\n",
      "#   Version: 2.4.1                                             #\n",
      "#   Authors: RMG Developers (rmg_dev@mit.edu)                  #\n",
      "#   P.I.s:   William H. Green (whgreen@mit.edu)                #\n",
      "#            Richard H. West (r.west@neu.edu)                  #\n",
      "#   Website: http://reactionmechanismgenerator.github.io/      #\n",
      "#                                                              #\n",
      "################################################################\n",
      "\n",
      "Loading species species...\n",
      "\n",
      "\n",
      "Loading statistical mechanics parameters for species...\n",
      "Symmetry input file written to /home/harms.n/Code/HAN/RMG-model/autotst/scratch/0.symm\n",
      "Point group: Cs\n",
      "Saving statistical mechanics parameters for species...\n",
      "Saving thermo for species...\n",
      "\n",
      "Arkane execution terminated at Fri Nov 15 14:21:22 2019\n",
      "Species input file already written... Not doing anything\n",
      "Arkane execution initiated at Fri Nov 15 14:21:22 2019\n",
      "\n",
      "################################################################\n",
      "#                                                              #\n"
     ]
    },
    {
     "name": "stdout",
     "output_type": "stream",
     "text": [
      "# Automated Reaction Kinetics and Network Exploration (Arkane) #\n",
      "#                                                              #\n",
      "#   Version: 2.4.1                                             #\n",
      "#   Authors: RMG Developers (rmg_dev@mit.edu)                  #\n",
      "#   P.I.s:   William H. Green (whgreen@mit.edu)                #\n",
      "#            Richard H. West (r.west@neu.edu)                  #\n",
      "#   Website: http://reactionmechanismgenerator.github.io/      #\n",
      "#                                                              #\n",
      "################################################################\n",
      "\n",
      "Loading species species...\n",
      "\n",
      "\n",
      "Loading statistical mechanics parameters for species...\n",
      "Symmetry input file written to /home/harms.n/Code/HAN/RMG-model/autotst/scratch/0.symm\n",
      "Point group: C1\n",
      "Saving statistical mechanics parameters for species...\n",
      "Saving thermo for species...\n",
      "\n",
      "Arkane execution terminated at Fri Nov 15 14:21:22 2019\n",
      "Species input file already written... Not doing anything\n",
      "Arkane execution initiated at Fri Nov 15 14:21:22 2019\n",
      "\n",
      "################################################################\n",
      "#                                                              #\n",
      "# Automated Reaction Kinetics and Network Exploration (Arkane) #\n",
      "#                                                              #\n",
      "#   Version: 2.4.1                                             #\n",
      "#   Authors: RMG Developers (rmg_dev@mit.edu)                  #\n",
      "#   P.I.s:   William H. Green (whgreen@mit.edu)                #\n",
      "#            Richard H. West (r.west@neu.edu)                  #\n",
      "#   Website: http://reactionmechanismgenerator.github.io/      #\n",
      "#                                                              #\n",
      "################################################################\n",
      "\n",
      "Loading species species...\n",
      "\n",
      "\n",
      "Loading statistical mechanics parameters for species...\n",
      "Symmetry input file written to /home/harms.n/Code/HAN/RMG-model/autotst/scratch/0.symm\n",
      "Point group: C1\n",
      "Saving statistical mechanics parameters for species...\n",
      "Saving thermo for species...\n",
      "\n",
      "Arkane execution terminated at Fri Nov 15 14:21:22 2019\n",
      "Species input file already written... Not doing anything\n",
      "Arkane execution initiated at Fri Nov 15 14:21:22 2019\n",
      "\n",
      "################################################################\n",
      "#                                                              #\n",
      "# Automated Reaction Kinetics and Network Exploration (Arkane) #\n",
      "#                                                              #\n",
      "#   Version: 2.4.1                                             #\n",
      "#   Authors: RMG Developers (rmg_dev@mit.edu)                  #\n",
      "#   P.I.s:   William H. Green (whgreen@mit.edu)                #\n",
      "#            Richard H. West (r.west@neu.edu)                  #\n",
      "#   Website: http://reactionmechanismgenerator.github.io/      #\n",
      "#                                                              #\n",
      "################################################################\n",
      "\n",
      "Loading species species...\n",
      "\n",
      "\n",
      "Loading statistical mechanics parameters for species...\n",
      "Symmetry input file written to /home/harms.n/Code/HAN/RMG-model/autotst/scratch/0.symm\n",
      "Point group: Cs\n",
      "Saving statistical mechanics parameters for species...\n",
      "Saving thermo for species...\n",
      "\n",
      "Arkane execution terminated at Fri Nov 15 14:21:22 2019\n",
      "Species input file already written... Not doing anything\n",
      "Arkane execution initiated at Fri Nov 15 14:21:22 2019\n",
      "\n",
      "################################################################\n",
      "#                                                              #\n",
      "# Automated Reaction Kinetics and Network Exploration (Arkane) #\n",
      "#                                                              #\n",
      "#   Version: 2.4.1                                             #\n",
      "#   Authors: RMG Developers (rmg_dev@mit.edu)                  #\n",
      "#   P.I.s:   William H. Green (whgreen@mit.edu)                #\n",
      "#            Richard H. West (r.west@neu.edu)                  #\n",
      "#   Website: http://reactionmechanismgenerator.github.io/      #\n",
      "#                                                              #\n",
      "################################################################\n",
      "\n",
      "Loading species species...\n",
      "\n",
      "\n",
      "Loading statistical mechanics parameters for species...\n",
      "Symmetry input file written to /home/harms.n/Code/HAN/RMG-model/autotst/scratch/0.symm\n",
      "Point group: Cinfv\n",
      "Saving statistical mechanics parameters for species...\n",
      "Saving thermo for species...\n",
      "\n",
      "Arkane execution terminated at Fri Nov 15 14:21:22 2019\n",
      "Species input file already written... Not doing anything\n",
      "Arkane execution initiated at Fri Nov 15 14:21:22 2019\n",
      "\n",
      "################################################################\n",
      "#                                                              #\n",
      "# Automated Reaction Kinetics and Network Exploration (Arkane) #\n",
      "#                                                              #\n",
      "#   Version: 2.4.1                                             #\n",
      "#   Authors: RMG Developers (rmg_dev@mit.edu)                  #\n",
      "#   P.I.s:   William H. Green (whgreen@mit.edu)                #\n",
      "#            Richard H. West (r.west@neu.edu)                  #\n",
      "#   Website: http://reactionmechanismgenerator.github.io/      #\n",
      "#                                                              #\n",
      "################################################################\n",
      "\n",
      "Loading species species...\n",
      "\n",
      "\n",
      "Loading statistical mechanics parameters for species...\n",
      "Symmetry input file written to /home/harms.n/Code/HAN/RMG-model/autotst/scratch/0.symm\n",
      "Point group: D3d\n",
      "Saving statistical mechanics parameters for species...\n",
      "Saving thermo for species...\n",
      "\n",
      "Arkane execution terminated at Fri Nov 15 14:21:23 2019\n",
      "Species input file already written... Not doing anything\n",
      "Arkane execution initiated at Fri Nov 15 14:21:23 2019\n",
      "\n",
      "################################################################\n",
      "#                                                              #\n",
      "# Automated Reaction Kinetics and Network Exploration (Arkane) #\n",
      "#                                                              #\n",
      "#   Version: 2.4.1                                             #\n",
      "#   Authors: RMG Developers (rmg_dev@mit.edu)                  #\n",
      "#   P.I.s:   William H. Green (whgreen@mit.edu)                #\n",
      "#            Richard H. West (r.west@neu.edu)                  #\n",
      "#   Website: http://reactionmechanismgenerator.github.io/      #\n",
      "#                                                              #\n",
      "################################################################\n",
      "\n",
      "Loading species species...\n",
      "\n",
      "\n",
      "Loading statistical mechanics parameters for species...\n",
      "Symmetry input file written to /home/harms.n/Code/HAN/RMG-model/autotst/scratch/0.symm\n",
      "Point group: Cs\n",
      "Saving statistical mechanics parameters for species...\n",
      "Saving thermo for species...\n",
      "\n",
      "Arkane execution terminated at Fri Nov 15 14:21:23 2019\n",
      "Species input file already written... Not doing anything\n",
      "Arkane execution initiated at Fri Nov 15 14:21:23 2019\n",
      "\n",
      "################################################################\n",
      "#                                                              #\n",
      "# Automated Reaction Kinetics and Network Exploration (Arkane) #\n",
      "#                                                              #\n",
      "#   Version: 2.4.1                                             #\n",
      "#   Authors: RMG Developers (rmg_dev@mit.edu)                  #\n",
      "#   P.I.s:   William H. Green (whgreen@mit.edu)                #\n",
      "#            Richard H. West (r.west@neu.edu)                  #\n",
      "#   Website: http://reactionmechanismgenerator.github.io/      #\n",
      "#                                                              #\n",
      "################################################################\n",
      "\n",
      "Loading species species...\n",
      "\n",
      "\n",
      "Loading statistical mechanics parameters for species...\n",
      "Symmetry input file written to /home/harms.n/Code/HAN/RMG-model/autotst/scratch/0.symm\n",
      "Point group: C1\n",
      "Saving statistical mechanics parameters for species...\n",
      "Saving thermo for species...\n",
      "\n",
      "Arkane execution terminated at Fri Nov 15 14:21:23 2019\n",
      "Species input file already written... Not doing anything\n",
      "Arkane execution initiated at Fri Nov 15 14:21:23 2019\n",
      "\n",
      "################################################################\n",
      "#                                                              #\n",
      "# Automated Reaction Kinetics and Network Exploration (Arkane) #\n",
      "#                                                              #\n"
     ]
    },
    {
     "name": "stdout",
     "output_type": "stream",
     "text": [
      "#   Version: 2.4.1                                             #\n",
      "#   Authors: RMG Developers (rmg_dev@mit.edu)                  #\n",
      "#   P.I.s:   William H. Green (whgreen@mit.edu)                #\n",
      "#            Richard H. West (r.west@neu.edu)                  #\n",
      "#   Website: http://reactionmechanismgenerator.github.io/      #\n",
      "#                                                              #\n",
      "################################################################\n",
      "\n",
      "Loading species species...\n",
      "\n",
      "\n",
      "Loading statistical mechanics parameters for species...\n",
      "Symmetry input file written to /home/harms.n/Code/HAN/RMG-model/autotst/scratch/0.symm\n",
      "Point group: C2v\n",
      "Saving statistical mechanics parameters for species...\n",
      "Saving thermo for species...\n",
      "\n",
      "Arkane execution terminated at Fri Nov 15 14:21:23 2019\n",
      "Species input file already written... Not doing anything\n",
      "Arkane execution initiated at Fri Nov 15 14:21:23 2019\n",
      "\n",
      "################################################################\n",
      "#                                                              #\n",
      "# Automated Reaction Kinetics and Network Exploration (Arkane) #\n",
      "#                                                              #\n",
      "#   Version: 2.4.1                                             #\n",
      "#   Authors: RMG Developers (rmg_dev@mit.edu)                  #\n",
      "#   P.I.s:   William H. Green (whgreen@mit.edu)                #\n",
      "#            Richard H. West (r.west@neu.edu)                  #\n",
      "#   Website: http://reactionmechanismgenerator.github.io/      #\n",
      "#                                                              #\n",
      "################################################################\n",
      "\n",
      "Loading species species...\n",
      "\n",
      "\n",
      "Loading statistical mechanics parameters for species...\n",
      "Symmetry input file written to /home/harms.n/Code/HAN/RMG-model/autotst/scratch/0.symm\n",
      "Point group: Dinfh\n",
      "Saving statistical mechanics parameters for species...\n",
      "Saving thermo for species...\n",
      "\n",
      "Arkane execution terminated at Fri Nov 15 14:21:23 2019\n",
      "Species input file already written... Not doing anything\n",
      "Arkane execution initiated at Fri Nov 15 14:21:23 2019\n",
      "\n",
      "################################################################\n",
      "#                                                              #\n",
      "# Automated Reaction Kinetics and Network Exploration (Arkane) #\n",
      "#                                                              #\n",
      "#   Version: 2.4.1                                             #\n",
      "#   Authors: RMG Developers (rmg_dev@mit.edu)                  #\n",
      "#   P.I.s:   William H. Green (whgreen@mit.edu)                #\n",
      "#            Richard H. West (r.west@neu.edu)                  #\n",
      "#   Website: http://reactionmechanismgenerator.github.io/      #\n",
      "#                                                              #\n",
      "################################################################\n",
      "\n",
      "Loading species species...\n",
      "\n",
      "\n",
      "Loading statistical mechanics parameters for species...\n",
      "Symmetry input file written to /home/harms.n/Code/HAN/RMG-model/autotst/scratch/0.symm\n",
      "Point group: Cs\n",
      "Saving statistical mechanics parameters for species...\n",
      "Saving thermo for species...\n",
      "\n",
      "Arkane execution terminated at Fri Nov 15 14:21:23 2019\n",
      "Species input file already written... Not doing anything\n",
      "Arkane execution initiated at Fri Nov 15 14:21:23 2019\n",
      "\n",
      "################################################################\n",
      "#                                                              #\n",
      "# Automated Reaction Kinetics and Network Exploration (Arkane) #\n",
      "#                                                              #\n",
      "#   Version: 2.4.1                                             #\n",
      "#   Authors: RMG Developers (rmg_dev@mit.edu)                  #\n",
      "#   P.I.s:   William H. Green (whgreen@mit.edu)                #\n",
      "#            Richard H. West (r.west@neu.edu)                  #\n",
      "#   Website: http://reactionmechanismgenerator.github.io/      #\n",
      "#                                                              #\n",
      "################################################################\n",
      "\n",
      "Loading species species...\n",
      "\n",
      "\n",
      "Loading statistical mechanics parameters for species...\n",
      "Symmetry input file written to /home/harms.n/Code/HAN/RMG-model/autotst/scratch/0.symm\n",
      "Point group: Cinfv\n",
      "Saving statistical mechanics parameters for species...\n",
      "Saving thermo for species...\n",
      "\n",
      "Arkane execution terminated at Fri Nov 15 14:21:23 2019\n",
      "Species input file already written... Not doing anything\n",
      "Arkane execution initiated at Fri Nov 15 14:21:23 2019\n",
      "\n",
      "################################################################\n",
      "#                                                              #\n",
      "# Automated Reaction Kinetics and Network Exploration (Arkane) #\n",
      "#                                                              #\n",
      "#   Version: 2.4.1                                             #\n",
      "#   Authors: RMG Developers (rmg_dev@mit.edu)                  #\n",
      "#   P.I.s:   William H. Green (whgreen@mit.edu)                #\n",
      "#            Richard H. West (r.west@neu.edu)                  #\n",
      "#   Website: http://reactionmechanismgenerator.github.io/      #\n",
      "#                                                              #\n",
      "################################################################\n",
      "\n",
      "Loading species species...\n",
      "\n",
      "\n",
      "Loading statistical mechanics parameters for species...\n",
      "Symmetry input file written to /home/harms.n/Code/HAN/RMG-model/autotst/scratch/0.symm\n",
      "Point group: C1\n",
      "Saving statistical mechanics parameters for species...\n",
      "Saving thermo for species...\n",
      "\n",
      "Arkane execution terminated at Fri Nov 15 14:21:23 2019\n",
      "Species input file already written... Not doing anything\n",
      "Arkane execution initiated at Fri Nov 15 14:21:23 2019\n",
      "\n",
      "################################################################\n",
      "#                                                              #\n",
      "# Automated Reaction Kinetics and Network Exploration (Arkane) #\n",
      "#                                                              #\n",
      "#   Version: 2.4.1                                             #\n",
      "#   Authors: RMG Developers (rmg_dev@mit.edu)                  #\n",
      "#   P.I.s:   William H. Green (whgreen@mit.edu)                #\n",
      "#            Richard H. West (r.west@neu.edu)                  #\n",
      "#   Website: http://reactionmechanismgenerator.github.io/      #\n",
      "#                                                              #\n",
      "################################################################\n",
      "\n",
      "Loading species species...\n",
      "\n",
      "\n",
      "Loading statistical mechanics parameters for species...\n",
      "Symmetry input file written to /home/harms.n/Code/HAN/RMG-model/autotst/scratch/0.symm\n",
      "Point group: Dinfh\n",
      "Saving statistical mechanics parameters for species...\n",
      "Saving thermo for species...\n",
      "\n",
      "Arkane execution terminated at Fri Nov 15 14:21:24 2019\n",
      "Species input file already written... Not doing anything\n",
      "Arkane execution initiated at Fri Nov 15 14:21:24 2019\n",
      "\n",
      "################################################################\n",
      "#                                                              #\n",
      "# Automated Reaction Kinetics and Network Exploration (Arkane) #\n",
      "#                                                              #\n",
      "#   Version: 2.4.1                                             #\n",
      "#   Authors: RMG Developers (rmg_dev@mit.edu)                  #\n",
      "#   P.I.s:   William H. Green (whgreen@mit.edu)                #\n",
      "#            Richard H. West (r.west@neu.edu)                  #\n",
      "#   Website: http://reactionmechanismgenerator.github.io/      #\n",
      "#                                                              #\n",
      "################################################################\n",
      "\n",
      "Loading species species...\n",
      "\n",
      "\n",
      "Loading statistical mechanics parameters for species...\n",
      "Symmetry input file written to /home/harms.n/Code/HAN/RMG-model/autotst/scratch/0.symm\n",
      "Point group: Cs\n",
      "Saving statistical mechanics parameters for species...\n",
      "Saving thermo for species...\n",
      "\n",
      "Arkane execution terminated at Fri Nov 15 14:21:24 2019\n",
      "Species input file already written... Not doing anything\n",
      "Arkane execution initiated at Fri Nov 15 14:21:24 2019\n",
      "\n",
      "################################################################\n",
      "#                                                              #\n",
      "# Automated Reaction Kinetics and Network Exploration (Arkane) #\n",
      "#                                                              #\n",
      "#   Version: 2.4.1                                             #\n",
      "#   Authors: RMG Developers (rmg_dev@mit.edu)                  #\n"
     ]
    },
    {
     "name": "stdout",
     "output_type": "stream",
     "text": [
      "#   P.I.s:   William H. Green (whgreen@mit.edu)                #\n",
      "#            Richard H. West (r.west@neu.edu)                  #\n",
      "#   Website: http://reactionmechanismgenerator.github.io/      #\n",
      "#                                                              #\n",
      "################################################################\n",
      "\n",
      "Loading species species...\n",
      "\n",
      "\n",
      "Loading statistical mechanics parameters for species...\n",
      "Symmetry input file written to /home/harms.n/Code/HAN/RMG-model/autotst/scratch/0.symm\n",
      "Point group: Cs\n",
      "Saving statistical mechanics parameters for species...\n",
      "Saving thermo for species...\n",
      "\n",
      "Arkane execution terminated at Fri Nov 15 14:21:24 2019\n",
      "Species input file already written... Not doing anything\n",
      "Arkane execution initiated at Fri Nov 15 14:21:24 2019\n",
      "\n",
      "################################################################\n",
      "#                                                              #\n",
      "# Automated Reaction Kinetics and Network Exploration (Arkane) #\n",
      "#                                                              #\n",
      "#   Version: 2.4.1                                             #\n",
      "#   Authors: RMG Developers (rmg_dev@mit.edu)                  #\n",
      "#   P.I.s:   William H. Green (whgreen@mit.edu)                #\n",
      "#            Richard H. West (r.west@neu.edu)                  #\n",
      "#   Website: http://reactionmechanismgenerator.github.io/      #\n",
      "#                                                              #\n",
      "################################################################\n",
      "\n",
      "Loading species species...\n",
      "\n",
      "\n",
      "Loading statistical mechanics parameters for species...\n",
      "Symmetry input file written to /home/harms.n/Code/HAN/RMG-model/autotst/scratch/0.symm\n",
      "Point group: C1\n",
      "Saving statistical mechanics parameters for species...\n",
      "Saving thermo for species...\n",
      "\n",
      "Arkane execution terminated at Fri Nov 15 14:21:24 2019\n",
      "Species input file already written... Not doing anything\n",
      "Arkane execution initiated at Fri Nov 15 14:21:24 2019\n",
      "\n",
      "################################################################\n",
      "#                                                              #\n",
      "# Automated Reaction Kinetics and Network Exploration (Arkane) #\n",
      "#                                                              #\n",
      "#   Version: 2.4.1                                             #\n",
      "#   Authors: RMG Developers (rmg_dev@mit.edu)                  #\n",
      "#   P.I.s:   William H. Green (whgreen@mit.edu)                #\n",
      "#            Richard H. West (r.west@neu.edu)                  #\n",
      "#   Website: http://reactionmechanismgenerator.github.io/      #\n",
      "#                                                              #\n",
      "################################################################\n",
      "\n",
      "Loading species species...\n",
      "\n",
      "\n",
      "Loading statistical mechanics parameters for species...\n",
      "Symmetry input file written to /home/harms.n/Code/HAN/RMG-model/autotst/scratch/0.symm\n",
      "Point group: Cs\n",
      "Saving statistical mechanics parameters for species...\n",
      "Saving thermo for species...\n",
      "\n",
      "Arkane execution terminated at Fri Nov 15 14:21:24 2019\n",
      "Species input file already written... Not doing anything\n",
      "Arkane execution initiated at Fri Nov 15 14:21:24 2019\n",
      "\n",
      "################################################################\n",
      "#                                                              #\n",
      "# Automated Reaction Kinetics and Network Exploration (Arkane) #\n",
      "#                                                              #\n",
      "#   Version: 2.4.1                                             #\n",
      "#   Authors: RMG Developers (rmg_dev@mit.edu)                  #\n",
      "#   P.I.s:   William H. Green (whgreen@mit.edu)                #\n",
      "#            Richard H. West (r.west@neu.edu)                  #\n",
      "#   Website: http://reactionmechanismgenerator.github.io/      #\n",
      "#                                                              #\n",
      "################################################################\n",
      "\n",
      "Loading species species...\n",
      "\n",
      "\n",
      "Loading statistical mechanics parameters for species...\n",
      "Symmetry input file written to /home/harms.n/Code/HAN/RMG-model/autotst/scratch/0.symm\n",
      "Point group: C2v\n",
      "Saving statistical mechanics parameters for species...\n",
      "Saving thermo for species...\n",
      "\n",
      "Arkane execution terminated at Fri Nov 15 14:21:24 2019\n",
      "Species input file already written... Not doing anything\n",
      "Arkane execution initiated at Fri Nov 15 14:21:24 2019\n",
      "\n",
      "################################################################\n",
      "#                                                              #\n",
      "# Automated Reaction Kinetics and Network Exploration (Arkane) #\n",
      "#                                                              #\n",
      "#   Version: 2.4.1                                             #\n",
      "#   Authors: RMG Developers (rmg_dev@mit.edu)                  #\n",
      "#   P.I.s:   William H. Green (whgreen@mit.edu)                #\n",
      "#            Richard H. West (r.west@neu.edu)                  #\n",
      "#   Website: http://reactionmechanismgenerator.github.io/      #\n",
      "#                                                              #\n",
      "################################################################\n",
      "\n",
      "Loading species species...\n",
      "\n",
      "\n",
      "Loading statistical mechanics parameters for species...\n",
      "Symmetry input file written to /home/harms.n/Code/HAN/RMG-model/autotst/scratch/0.symm\n",
      "Point group: C1\n",
      "Saving statistical mechanics parameters for species...\n",
      "Saving thermo for species...\n",
      "\n",
      "Arkane execution terminated at Fri Nov 15 14:21:24 2019\n",
      "Species input file already written... Not doing anything\n",
      "Arkane execution initiated at Fri Nov 15 14:21:24 2019\n",
      "\n",
      "################################################################\n",
      "#                                                              #\n",
      "# Automated Reaction Kinetics and Network Exploration (Arkane) #\n",
      "#                                                              #\n",
      "#   Version: 2.4.1                                             #\n",
      "#   Authors: RMG Developers (rmg_dev@mit.edu)                  #\n",
      "#   P.I.s:   William H. Green (whgreen@mit.edu)                #\n",
      "#            Richard H. West (r.west@neu.edu)                  #\n",
      "#   Website: http://reactionmechanismgenerator.github.io/      #\n",
      "#                                                              #\n",
      "################################################################\n",
      "\n",
      "Loading species species...\n",
      "\n",
      "\n",
      "Loading statistical mechanics parameters for species...\n",
      "Symmetry input file written to /home/harms.n/Code/HAN/RMG-model/autotst/scratch/0.symm\n",
      "Point group: Cs\n",
      "Saving statistical mechanics parameters for species...\n",
      "Saving thermo for species...\n",
      "\n",
      "Arkane execution terminated at Fri Nov 15 14:21:24 2019\n",
      "Species input file already written... Not doing anything\n",
      "Arkane execution initiated at Fri Nov 15 14:21:24 2019\n",
      "\n",
      "################################################################\n",
      "#                                                              #\n",
      "# Automated Reaction Kinetics and Network Exploration (Arkane) #\n",
      "#                                                              #\n",
      "#   Version: 2.4.1                                             #\n",
      "#   Authors: RMG Developers (rmg_dev@mit.edu)                  #\n",
      "#   P.I.s:   William H. Green (whgreen@mit.edu)                #\n",
      "#            Richard H. West (r.west@neu.edu)                  #\n",
      "#   Website: http://reactionmechanismgenerator.github.io/      #\n",
      "#                                                              #\n",
      "################################################################\n",
      "\n",
      "Loading species species...\n",
      "\n",
      "\n",
      "Loading statistical mechanics parameters for species...\n",
      "Symmetry input file written to /home/harms.n/Code/HAN/RMG-model/autotst/scratch/0.symm\n",
      "Point group: Cs\n",
      "Saving statistical mechanics parameters for species...\n",
      "Saving thermo for species...\n",
      "\n",
      "Arkane execution terminated at Fri Nov 15 14:21:25 2019\n",
      "Species input file already written... Not doing anything\n",
      "Arkane execution initiated at Fri Nov 15 14:21:25 2019\n",
      "\n",
      "################################################################\n",
      "#                                                              #\n",
      "# Automated Reaction Kinetics and Network Exploration (Arkane) #\n",
      "#                                                              #\n",
      "#   Version: 2.4.1                                             #\n",
      "#   Authors: RMG Developers (rmg_dev@mit.edu)                  #\n",
      "#   P.I.s:   William H. Green (whgreen@mit.edu)                #\n",
      "#            Richard H. West (r.west@neu.edu)                  #\n"
     ]
    },
    {
     "name": "stdout",
     "output_type": "stream",
     "text": [
      "#   Website: http://reactionmechanismgenerator.github.io/      #\n",
      "#                                                              #\n",
      "################################################################\n",
      "\n",
      "Loading species species...\n",
      "\n",
      "\n",
      "Loading statistical mechanics parameters for species...\n",
      "Symmetry input file written to /home/harms.n/Code/HAN/RMG-model/autotst/scratch/0.symm\n",
      "Point group: C1\n",
      "Saving statistical mechanics parameters for species...\n",
      "Saving thermo for species...\n",
      "\n",
      "Arkane execution terminated at Fri Nov 15 14:21:25 2019\n",
      "Species input file already written... Not doing anything\n",
      "Arkane execution initiated at Fri Nov 15 14:21:25 2019\n",
      "\n",
      "################################################################\n",
      "#                                                              #\n",
      "# Automated Reaction Kinetics and Network Exploration (Arkane) #\n",
      "#                                                              #\n",
      "#   Version: 2.4.1                                             #\n",
      "#   Authors: RMG Developers (rmg_dev@mit.edu)                  #\n",
      "#   P.I.s:   William H. Green (whgreen@mit.edu)                #\n",
      "#            Richard H. West (r.west@neu.edu)                  #\n",
      "#   Website: http://reactionmechanismgenerator.github.io/      #\n",
      "#                                                              #\n",
      "################################################################\n",
      "\n",
      "Loading species species...\n",
      "\n",
      "\n",
      "Loading statistical mechanics parameters for species...\n",
      "Symmetry input file written to /home/harms.n/Code/HAN/RMG-model/autotst/scratch/0.symm\n",
      "Point group: D3h\n",
      "Saving statistical mechanics parameters for species...\n",
      "Saving thermo for species...\n",
      "\n",
      "Arkane execution terminated at Fri Nov 15 14:21:25 2019\n",
      "Species input file already written... Not doing anything\n",
      "Arkane execution initiated at Fri Nov 15 14:21:25 2019\n",
      "\n",
      "################################################################\n",
      "#                                                              #\n",
      "# Automated Reaction Kinetics and Network Exploration (Arkane) #\n",
      "#                                                              #\n",
      "#   Version: 2.4.1                                             #\n",
      "#   Authors: RMG Developers (rmg_dev@mit.edu)                  #\n",
      "#   P.I.s:   William H. Green (whgreen@mit.edu)                #\n",
      "#            Richard H. West (r.west@neu.edu)                  #\n",
      "#   Website: http://reactionmechanismgenerator.github.io/      #\n",
      "#                                                              #\n",
      "################################################################\n",
      "\n",
      "Loading species species...\n",
      "\n",
      "\n",
      "Loading statistical mechanics parameters for species...\n",
      "Symmetry input file written to /home/harms.n/Code/HAN/RMG-model/autotst/scratch/0.symm\n",
      "Point group: Cs\n",
      "Saving statistical mechanics parameters for species...\n",
      "Saving thermo for species...\n",
      "\n",
      "Arkane execution terminated at Fri Nov 15 14:21:25 2019\n",
      "Species input file already written... Not doing anything\n",
      "Arkane execution initiated at Fri Nov 15 14:21:25 2019\n",
      "\n",
      "################################################################\n",
      "#                                                              #\n",
      "# Automated Reaction Kinetics and Network Exploration (Arkane) #\n",
      "#                                                              #\n",
      "#   Version: 2.4.1                                             #\n",
      "#   Authors: RMG Developers (rmg_dev@mit.edu)                  #\n",
      "#   P.I.s:   William H. Green (whgreen@mit.edu)                #\n",
      "#            Richard H. West (r.west@neu.edu)                  #\n",
      "#   Website: http://reactionmechanismgenerator.github.io/      #\n",
      "#                                                              #\n",
      "################################################################\n",
      "\n",
      "Loading species species...\n",
      "\n",
      "\n",
      "Loading statistical mechanics parameters for species...\n",
      "Symmetry input file written to /home/harms.n/Code/HAN/RMG-model/autotst/scratch/0.symm\n",
      "Point group: C2v\n",
      "Saving statistical mechanics parameters for species...\n",
      "Saving thermo for species...\n",
      "\n",
      "Arkane execution terminated at Fri Nov 15 14:21:25 2019\n",
      "Species input file already written... Not doing anything\n",
      "Arkane execution initiated at Fri Nov 15 14:21:25 2019\n",
      "\n",
      "################################################################\n",
      "#                                                              #\n",
      "# Automated Reaction Kinetics and Network Exploration (Arkane) #\n",
      "#                                                              #\n",
      "#   Version: 2.4.1                                             #\n",
      "#   Authors: RMG Developers (rmg_dev@mit.edu)                  #\n",
      "#   P.I.s:   William H. Green (whgreen@mit.edu)                #\n",
      "#            Richard H. West (r.west@neu.edu)                  #\n",
      "#   Website: http://reactionmechanismgenerator.github.io/      #\n",
      "#                                                              #\n",
      "################################################################\n",
      "\n",
      "Loading species species...\n",
      "\n",
      "\n",
      "Loading statistical mechanics parameters for species...\n",
      "Symmetry input file written to /home/harms.n/Code/HAN/RMG-model/autotst/scratch/0.symm\n",
      "Point group: C2\n",
      "Saving statistical mechanics parameters for species...\n",
      "Saving thermo for species...\n",
      "\n",
      "Arkane execution terminated at Fri Nov 15 14:21:25 2019\n",
      "Species input file already written... Not doing anything\n",
      "Arkane execution initiated at Fri Nov 15 14:21:25 2019\n",
      "\n",
      "################################################################\n",
      "#                                                              #\n",
      "# Automated Reaction Kinetics and Network Exploration (Arkane) #\n",
      "#                                                              #\n",
      "#   Version: 2.4.1                                             #\n",
      "#   Authors: RMG Developers (rmg_dev@mit.edu)                  #\n",
      "#   P.I.s:   William H. Green (whgreen@mit.edu)                #\n",
      "#            Richard H. West (r.west@neu.edu)                  #\n",
      "#   Website: http://reactionmechanismgenerator.github.io/      #\n",
      "#                                                              #\n",
      "################################################################\n",
      "\n",
      "Loading species species...\n",
      "\n",
      "\n",
      "Loading statistical mechanics parameters for species...\n",
      "Symmetry input file written to /home/harms.n/Code/HAN/RMG-model/autotst/scratch/0.symm\n",
      "Point group: C1\n",
      "Saving statistical mechanics parameters for species...\n",
      "Saving thermo for species...\n",
      "\n",
      "Arkane execution terminated at Fri Nov 15 14:21:25 2019\n",
      "Species input file already written... Not doing anything\n",
      "Arkane execution initiated at Fri Nov 15 14:21:25 2019\n",
      "\n",
      "################################################################\n",
      "#                                                              #\n",
      "# Automated Reaction Kinetics and Network Exploration (Arkane) #\n",
      "#                                                              #\n",
      "#   Version: 2.4.1                                             #\n",
      "#   Authors: RMG Developers (rmg_dev@mit.edu)                  #\n",
      "#   P.I.s:   William H. Green (whgreen@mit.edu)                #\n",
      "#            Richard H. West (r.west@neu.edu)                  #\n",
      "#   Website: http://reactionmechanismgenerator.github.io/      #\n",
      "#                                                              #\n",
      "################################################################\n",
      "\n",
      "Loading species species...\n",
      "\n",
      "\n",
      "Loading statistical mechanics parameters for species...\n",
      "Symmetry input file written to /home/harms.n/Code/HAN/RMG-model/autotst/scratch/0.symm\n",
      "Point group: Cs\n",
      "Saving statistical mechanics parameters for species...\n",
      "Saving thermo for species...\n",
      "\n",
      "Arkane execution terminated at Fri Nov 15 14:21:26 2019\n",
      "Species input file already written... Not doing anything\n",
      "Arkane execution initiated at Fri Nov 15 14:21:26 2019\n",
      "\n",
      "################################################################\n",
      "#                                                              #\n",
      "# Automated Reaction Kinetics and Network Exploration (Arkane) #\n",
      "#                                                              #\n",
      "#   Version: 2.4.1                                             #\n",
      "#   Authors: RMG Developers (rmg_dev@mit.edu)                  #\n",
      "#   P.I.s:   William H. Green (whgreen@mit.edu)                #\n",
      "#            Richard H. West (r.west@neu.edu)                  #\n",
      "#   Website: http://reactionmechanismgenerator.github.io/      #\n",
      "#                                                              #\n"
     ]
    },
    {
     "name": "stdout",
     "output_type": "stream",
     "text": [
      "################################################################\n",
      "\n",
      "Loading species species...\n",
      "\n",
      "\n",
      "Loading statistical mechanics parameters for species...\n",
      "Symmetry input file written to /home/harms.n/Code/HAN/RMG-model/autotst/scratch/0.symm\n",
      "Point group: C2v\n",
      "Saving statistical mechanics parameters for species...\n",
      "Saving thermo for species...\n",
      "\n",
      "Arkane execution terminated at Fri Nov 15 14:21:26 2019\n",
      "Species input file already written... Not doing anything\n",
      "Arkane execution initiated at Fri Nov 15 14:21:26 2019\n",
      "\n",
      "################################################################\n",
      "#                                                              #\n",
      "# Automated Reaction Kinetics and Network Exploration (Arkane) #\n",
      "#                                                              #\n",
      "#   Version: 2.4.1                                             #\n",
      "#   Authors: RMG Developers (rmg_dev@mit.edu)                  #\n",
      "#   P.I.s:   William H. Green (whgreen@mit.edu)                #\n",
      "#            Richard H. West (r.west@neu.edu)                  #\n",
      "#   Website: http://reactionmechanismgenerator.github.io/      #\n",
      "#                                                              #\n",
      "################################################################\n",
      "\n",
      "Loading species species...\n",
      "\n",
      "\n",
      "Loading statistical mechanics parameters for species...\n",
      "Symmetry input file written to /home/harms.n/Code/HAN/RMG-model/autotst/scratch/0.symm\n",
      "Point group: C1\n",
      "Saving statistical mechanics parameters for species...\n",
      "Saving thermo for species...\n",
      "\n",
      "Arkane execution terminated at Fri Nov 15 14:21:26 2019\n",
      "Species input file already written... Not doing anything\n",
      "Arkane execution initiated at Fri Nov 15 14:21:26 2019\n",
      "\n",
      "################################################################\n",
      "#                                                              #\n",
      "# Automated Reaction Kinetics and Network Exploration (Arkane) #\n",
      "#                                                              #\n",
      "#   Version: 2.4.1                                             #\n",
      "#   Authors: RMG Developers (rmg_dev@mit.edu)                  #\n",
      "#   P.I.s:   William H. Green (whgreen@mit.edu)                #\n",
      "#            Richard H. West (r.west@neu.edu)                  #\n",
      "#   Website: http://reactionmechanismgenerator.github.io/      #\n",
      "#                                                              #\n",
      "################################################################\n",
      "\n",
      "Loading species species...\n",
      "\n",
      "\n",
      "Loading statistical mechanics parameters for species...\n",
      "Symmetry input file written to /home/harms.n/Code/HAN/RMG-model/autotst/scratch/0.symm\n",
      "Point group: Cs\n",
      "Saving statistical mechanics parameters for species...\n",
      "Saving thermo for species...\n",
      "\n",
      "Arkane execution terminated at Fri Nov 15 14:21:26 2019\n",
      "Species input file already written... Not doing anything\n",
      "Arkane execution initiated at Fri Nov 15 14:21:26 2019\n",
      "\n",
      "################################################################\n",
      "#                                                              #\n",
      "# Automated Reaction Kinetics and Network Exploration (Arkane) #\n",
      "#                                                              #\n",
      "#   Version: 2.4.1                                             #\n",
      "#   Authors: RMG Developers (rmg_dev@mit.edu)                  #\n",
      "#   P.I.s:   William H. Green (whgreen@mit.edu)                #\n",
      "#            Richard H. West (r.west@neu.edu)                  #\n",
      "#   Website: http://reactionmechanismgenerator.github.io/      #\n",
      "#                                                              #\n",
      "################################################################\n",
      "\n",
      "Loading species species...\n",
      "\n",
      "\n",
      "Loading statistical mechanics parameters for species...\n",
      "Symmetry input file written to /home/harms.n/Code/HAN/RMG-model/autotst/scratch/0.symm\n",
      "Point group: C1\n",
      "Saving statistical mechanics parameters for species...\n",
      "Saving thermo for species...\n",
      "\n",
      "Arkane execution terminated at Fri Nov 15 14:21:26 2019\n",
      "Species input file already written... Not doing anything\n",
      "Arkane execution initiated at Fri Nov 15 14:21:26 2019\n",
      "\n",
      "################################################################\n",
      "#                                                              #\n",
      "# Automated Reaction Kinetics and Network Exploration (Arkane) #\n",
      "#                                                              #\n",
      "#   Version: 2.4.1                                             #\n",
      "#   Authors: RMG Developers (rmg_dev@mit.edu)                  #\n",
      "#   P.I.s:   William H. Green (whgreen@mit.edu)                #\n",
      "#            Richard H. West (r.west@neu.edu)                  #\n",
      "#   Website: http://reactionmechanismgenerator.github.io/      #\n",
      "#                                                              #\n",
      "################################################################\n",
      "\n",
      "Loading species species...\n",
      "\n",
      "\n",
      "Loading statistical mechanics parameters for species...\n",
      "Symmetry input file written to /home/harms.n/Code/HAN/RMG-model/autotst/scratch/0.symm\n",
      "Point group: Cs\n",
      "Saving statistical mechanics parameters for species...\n",
      "Saving thermo for species...\n",
      "\n",
      "Arkane execution terminated at Fri Nov 15 14:21:26 2019\n"
     ]
    }
   ],
   "source": [
    "results = {}\n",
    "for smiles in species:\n",
    "    conf = Conformer(smiles)\n",
    "    st = StatMech(reaction=None, directory=directory, freq_scale_factor=0.955)\n",
    "    if not st.write_conformer_file(conf):\n",
    "        print(\"No Low Energy Conf\")\n",
    "        results[smiles] = \"file error\"\n",
    "        continue\n",
    "    st.write_thermo_input(conf)\n",
    "    st.thermo_job.input_file = os.path.join(directory, \"species\", smiles, smiles + \".thermo.py\")\n",
    "    st.thermo_job.plot = False\n",
    "    st.thermo_job.output_directory = os.path.join(directory, \"species\", smiles)\n",
    "    try:\n",
    "        st.thermo_job.execute()\n",
    "    except:\n",
    "        print(\"Excution Error\")\n",
    "        result[smiles] = \"execution error\"\n",
    "        continue \n",
    "    sp = st.thermo_job.species_dict[\"species\"]\n",
    "    results[smiles] = sp\n"
   ]
  },
  {
   "cell_type": "code",
   "execution_count": 10,
   "metadata": {},
   "outputs": [
    {
     "name": "stdout",
     "output_type": "stream",
     "text": [
      "[O-][NH2+] had a 'file error' error\n",
      "Not a normal termination of gaussian for [O-][NH2+]_0.log\n",
      "No low energy file exists for [O-][NH2+]\n",
      "\n",
      "[O-][N+](O)O had a 'file error' error\n",
      "Not a normal termination of gaussian for [O-][N+](O)O_0.log\n",
      "Not a normal termination of gaussian for [O-][N+](O)O_1.log\n",
      "No low energy file exists for [O-][N+](O)O\n",
      "\n"
     ]
    }
   ],
   "source": [
    "from ase.io.gaussian import read_gaussian_out\n",
    "from shutil import copy\n",
    "count = 0\n",
    "rerun_above_cell = False\n",
    "for smile, result in results.items():\n",
    "    if not isinstance(result, str):\n",
    "        continue\n",
    "    print(\"{} had a '{}' error\".format(smile, result))\n",
    "    path = os.path.join(directory, \"species\", smile, \"conformers\")\n",
    "    files_to_check = [f for f in os.listdir(path) if f.endswith(\".log\")]\n",
    "    low_energy = 1e5\n",
    "    low_file = None\n",
    "    for f in files_to_check:\n",
    "        fi = open(os.path.join(path, f), \"r\")\n",
    "        line = fi.readlines()[-1]\n",
    "        if \"Normal\" not in line:\n",
    "            print(\"Not a normal termination of gaussian for {}\".format(f))\n",
    "            continue\n",
    "        atoms = read_gaussian_out(os.path.join(path, f))\n",
    "        energy = atoms.get_potential_energy()\n",
    "        if energy < low_energy:\n",
    "            low_file = f\n",
    "        \n",
    "    if low_file:\n",
    "        copy(os.path.join(path, low_file),\n",
    "             os.path.join(directory, \"species\", smile, smile +\".log\")\n",
    "            )\n",
    "        rerun_above_cell_cell=True\n",
    "    else:\n",
    "        print(\"No low energy file exists for {}\".format(smile))\n",
    "    \n",
    "        count += 1\n",
    "    print()\n",
    "if rerun_above_cell:\n",
    "    print(\"We identified a new log file that wasn't copied up, rerun the above cell\")"
   ]
  },
  {
   "cell_type": "code",
   "execution_count": 11,
   "metadata": {},
   "outputs": [],
   "source": [
    "from rmgpy.data.thermo import ThermoLibrary"
   ]
  },
  {
   "cell_type": "code",
   "execution_count": 23,
   "metadata": {},
   "outputs": [],
   "source": [
    "thermo_library = ThermoLibrary(label=\"AutoTST HAN\")"
   ]
  },
  {
   "cell_type": "code",
   "execution_count": 24,
   "metadata": {
    "scrolled": false
   },
   "outputs": [
    {
     "name": "stdout",
     "output_type": "stream",
     "text": [
      "N[N]OO\n",
      "213.7981862542155 kJ/mol\n",
      "51.09899289058688 kcal/mol\n"
     ]
    },
    {
     "data": {
      "image/png": "[encoded data removed]",
      "text/plain": [
       "Molecule(smiles=\"N[N]OO\")"
      ]
     },
     "metadata": {},
     "output_type": "display_data"
    },
    {
     "name": "stdout",
     "output_type": "stream",
     "text": [
      "------------------------------------------------------------\n",
      "NON(OO)N\n",
      "192.2856649737046 kJ/mol\n",
      "45.95737690576114 kcal/mol\n"
     ]
    },
    {
     "data": {
      "image/png": "[encoded data removed]",
      "text/plain": [
       "Molecule(smiles=\"NON(OO)N\")"
      ]
     },
     "metadata": {},
     "output_type": "display_data"
    },
    {
     "name": "stdout",
     "output_type": "stream",
     "text": [
      "------------------------------------------------------------\n",
      "[N-][N+](=O)OO\n",
      "337.9057971609335 kJ/mol\n",
      "80.7614237956342 kcal/mol\n"
     ]
    },
    {
     "data": {
      "image/png": "[encoded data removed]",
      "text/plain": [
       "Molecule(smiles=\"[N-][N+](=O)OO\")"
      ]
     },
     "metadata": {},
     "output_type": "display_data"
    },
    {
     "name": "stdout",
     "output_type": "stream",
     "text": [
      "------------------------------------------------------------\n",
      "NNO[O]\n",
      "230.2910001393918 kJ/mol\n",
      "55.04087001419498 kcal/mol\n"
     ]
    },
    {
     "data": {
      "image/png": "[encoded data removed]",
      "text/plain": [
       "Molecule(smiles=\"NNO[O]\")"
      ]
     },
     "metadata": {},
     "output_type": "display_data"
    },
    {
     "name": "stdout",
     "output_type": "stream",
     "text": [
      "------------------------------------------------------------\n",
      "[O-][N+]=O\n",
      "52.803802691831635 kJ/mol\n",
      "12.620411733229357 kcal/mol\n"
     ]
    },
    {
     "data": {
      "image/png": "[encoded data removed]",
      "text/plain": [
       "Molecule(smiles=\"[O-][N+]=O\")"
      ]
     },
     "metadata": {},
     "output_type": "display_data"
    },
    {
     "name": "stdout",
     "output_type": "stream",
     "text": [
      "------------------------------------------------------------\n",
      "ON=N[O]\n",
      "179.96750684187654 kJ/mol\n",
      "43.01326645360338 kcal/mol\n"
     ]
    },
    {
     "data": {
      "image/png": "[encoded data removed]",
      "text/plain": [
       "Molecule(smiles=\"ON=N[O]\")"
      ]
     },
     "metadata": {},
     "output_type": "display_data"
    },
    {
     "name": "stdout",
     "output_type": "stream",
     "text": [
      "------------------------------------------------------------\n",
      "OONN=O\n",
      "148.84441125412522 kJ/mol\n",
      "35.574668081769886 kcal/mol\n"
     ]
    },
    {
     "data": {
      "image/png": "[encoded data removed]",
      "text/plain": [
       "Molecule(smiles=\"OONN=O\")"
      ]
     },
     "metadata": {},
     "output_type": "display_data"
    },
    {
     "name": "stdout",
     "output_type": "stream",
     "text": [
      "------------------------------------------------------------\n",
      "O=NO[N+](=O)[O-]\n",
      "70.63887120406197 kJ/mol\n",
      "16.8830954120607 kcal/mol\n"
     ]
    },
    {
     "data": {
      "image/png": "[encoded data removed]",
      "text/plain": [
       "Molecule(smiles=\"O=NO[N+](=O)[O-]\")"
      ]
     },
     "metadata": {},
     "output_type": "display_data"
    },
    {
     "name": "stdout",
     "output_type": "stream",
     "text": [
      "------------------------------------------------------------\n",
      "NO\n",
      "-35.05378194303977 kJ/mol\n",
      "-8.37805495770549 kcal/mol\n"
     ]
    },
    {
     "data": {
      "image/png": "[encoded data removed]",
      "text/plain": [
       "Molecule(smiles=\"NO\")"
      ]
     },
     "metadata": {},
     "output_type": "display_data"
    },
    {
     "name": "stdout",
     "output_type": "stream",
     "text": [
      "------------------------------------------------------------\n",
      "O=NN=O\n",
      "230.6757078927295 kJ/mol\n",
      "55.13281737397932 kcal/mol\n"
     ]
    },
    {
     "data": {
      "image/png": "[encoded data removed]",
      "text/plain": [
       "Molecule(smiles=\"O=NN=O\")"
      ]
     },
     "metadata": {},
     "output_type": "display_data"
    },
    {
     "name": "stdout",
     "output_type": "stream",
     "text": [
      "------------------------------------------------------------\n",
      "OCNC=O\n",
      "-370.6504455217249 kJ/mol\n",
      "-88.58758258167423 kcal/mol\n"
     ]
    },
    {
     "data": {
      "image/png": "[encoded data removed]",
      "text/plain": [
       "Molecule(smiles=\"OCNC=O\")"
      ]
     },
     "metadata": {},
     "output_type": "display_data"
    },
    {
     "name": "stdout",
     "output_type": "stream",
     "text": [
      "------------------------------------------------------------\n",
      "CO\n",
      "-198.93638673418934 kJ/mol\n",
      "-47.5469375559726 kcal/mol\n"
     ]
    },
    {
     "data": {
      "image/png": "[encoded data removed]",
      "text/plain": [
       "Molecule(smiles=\"CO\")"
      ]
     },
     "metadata": {},
     "output_type": "display_data"
    },
    {
     "name": "stdout",
     "output_type": "stream",
     "text": [
      "------------------------------------------------------------\n",
      "NNNN\n",
      "296.5827645829581 kJ/mol\n",
      "70.88498197489437 kcal/mol\n"
     ]
    },
    {
     "data": {
      "image/png": "[encoded data removed]",
      "text/plain": [
       "Molecule(smiles=\"NNNN\")"
      ]
     },
     "metadata": {},
     "output_type": "display_data"
    },
    {
     "name": "stdout",
     "output_type": "stream",
     "text": [
      "------------------------------------------------------------\n",
      "N[NH]\n",
      "229.49616279693382 kJ/mol\n",
      "54.85089933005111 kcal/mol\n"
     ]
    },
    {
     "data": {
      "image/png": "[encoded data removed]",
      "text/plain": [
       "Molecule(smiles=\"N[NH]\")"
      ]
     },
     "metadata": {},
     "output_type": "display_data"
    },
    {
     "name": "stdout",
     "output_type": "stream",
     "text": [
      "------------------------------------------------------------\n",
      "[NH-][NH+]=O\n",
      "135.82721726541226 kJ/mol\n",
      "32.46348405005073 kcal/mol\n"
     ]
    },
    {
     "data": {
      "image/png": "[encoded data removed]",
      "text/plain": [
       "Molecule(smiles=\"[NH-][NH+]=O\")"
      ]
     },
     "metadata": {},
     "output_type": "display_data"
    },
    {
     "name": "stdout",
     "output_type": "stream",
     "text": [
      "------------------------------------------------------------\n",
      "[NH]OCO\n",
      "-84.79871389555093 kJ/mol\n",
      "-20.267379038133587 kcal/mol\n"
     ]
    },
    {
     "data": {
      "image/png": "[encoded data removed]",
      "text/plain": [
       "Molecule(smiles=\"[NH]OCO\")"
      ]
     },
     "metadata": {},
     "output_type": "display_data"
    },
    {
     "name": "stdout",
     "output_type": "stream",
     "text": [
      "------------------------------------------------------------\n",
      "[O]O\n",
      "15.958196015694819 kJ/mol\n",
      "3.8141003861603298 kcal/mol\n"
     ]
    },
    {
     "data": {
      "image/png": "[encoded data removed]",
      "text/plain": [
       "Molecule(smiles=\"[O]O\")"
      ]
     },
     "metadata": {},
     "output_type": "display_data"
    },
    {
     "name": "stdout",
     "output_type": "stream",
     "text": [
      "------------------------------------------------------------\n",
      "[CH2]\n",
      "382.8619231492541 kJ/mol\n",
      "91.50619578137048 kcal/mol\n"
     ]
    },
    {
     "data": {
      "image/png": "[encoded data removed]",
      "text/plain": [
       "Molecule(smiles=\"[CH2]\")"
      ]
     },
     "metadata": {},
     "output_type": "display_data"
    },
    {
     "name": "stdout",
     "output_type": "stream",
     "text": [
      "------------------------------------------------------------\n",
      "[N]=O\n",
      "99.82237191921891 kJ/mol\n",
      "23.858119483560927 kcal/mol\n"
     ]
    },
    {
     "data": {
      "image/png": "[encoded data removed]",
      "text/plain": [
       "Molecule(smiles=\"[N]=O\")"
      ]
     },
     "metadata": {},
     "output_type": "display_data"
    },
    {
     "name": "stdout",
     "output_type": "stream",
     "text": [
      "------------------------------------------------------------\n",
      "NN(N=O)OO\n",
      "221.43611353366106 kJ/mol\n",
      "52.92450132257674 kcal/mol\n"
     ]
    },
    {
     "data": {
      "image/png": "[encoded data removed]",
      "text/plain": [
       "Molecule(smiles=\"NN(N=O)OO\")"
      ]
     },
     "metadata": {},
     "output_type": "display_data"
    },
    {
     "name": "stdout",
     "output_type": "stream",
     "text": [
      "------------------------------------------------------------\n",
      "O=C[N+](=O)[O-]\n",
      "-114.35618834375057 kJ/mol\n",
      "-27.331784976995834 kcal/mol\n"
     ]
    },
    {
     "data": {
      "image/png": "[encoded data removed]",
      "text/plain": [
       "Molecule(smiles=\"O=C[N+](=O)[O-]\")"
      ]
     },
     "metadata": {},
     "output_type": "display_data"
    },
    {
     "name": "stdout",
     "output_type": "stream",
     "text": [
      "------------------------------------------------------------\n",
      "ON=[N+]([O])[O-]\n",
      "112.2713939130679 kJ/mol\n",
      "26.833507149394812 kcal/mol\n"
     ]
    },
    {
     "data": {
      "image/png": "[encoded data removed]",
      "text/plain": [
       "Molecule(smiles=\"ON=[N+]([O])[O-]\")"
      ]
     },
     "metadata": {},
     "output_type": "display_data"
    },
    {
     "name": "stdout",
     "output_type": "stream",
     "text": [
      "------------------------------------------------------------\n",
      "[N-]([NH2+])OO\n",
      "217.01798720632885 kJ/mol\n",
      "51.86854378736349 kcal/mol\n"
     ]
    },
    {
     "data": {
      "image/png": "[encoded data removed]",
      "text/plain": [
       "Molecule(smiles=\"[N-]([NH2+])OO\")"
      ]
     },
     "metadata": {},
     "output_type": "display_data"
    },
    {
     "name": "stdout",
     "output_type": "stream",
     "text": [
      "------------------------------------------------------------\n",
      "O1NN1\n",
      "335.2675547934034 kJ/mol\n",
      "80.13086873647309 kcal/mol\n"
     ]
    },
    {
     "data": {
      "image/png": "[encoded data removed]",
      "text/plain": [
       "Molecule(smiles=\"O1NN1\")"
      ]
     },
     "metadata": {},
     "output_type": "display_data"
    },
    {
     "name": "stdout",
     "output_type": "stream",
     "text": [
      "------------------------------------------------------------\n",
      "[O-][NH+]=O\n",
      "-21.563870282074262 kJ/mol\n",
      "-5.153888690744327 kcal/mol\n"
     ]
    },
    {
     "data": {
      "image/png": "[encoded data removed]",
      "text/plain": [
       "Molecule(smiles=\"[O-][NH+]=O\")"
      ]
     },
     "metadata": {},
     "output_type": "display_data"
    },
    {
     "name": "stdout",
     "output_type": "stream",
     "text": [
      "------------------------------------------------------------\n",
      "C=C\n",
      "56.977369353433716 kJ/mol\n",
      "13.61791810550519 kcal/mol\n"
     ]
    },
    {
     "data": {
      "image/png": "[encoded data removed]",
      "text/plain": [
       "Molecule(smiles=\"C=C\")"
      ]
     },
     "metadata": {},
     "output_type": "display_data"
    },
    {
     "name": "stdout",
     "output_type": "stream",
     "text": [
      "------------------------------------------------------------\n",
      "[H][H]\n",
      "4.277296227080748 kJ/mol\n",
      "1.022298333432301 kcal/mol\n"
     ]
    },
    {
     "data": {
      "image/png": "[encoded data removed]",
      "text/plain": [
       "Molecule(smiles=\"[H][H]\")"
      ]
     },
     "metadata": {},
     "output_type": "display_data"
    },
    {
     "name": "stdout",
     "output_type": "stream",
     "text": [
      "------------------------------------------------------------\n",
      "[OH]\n",
      "43.74204543755169 kJ/mol\n",
      "10.454599769969333 kcal/mol\n"
     ]
    },
    {
     "data": {
      "image/png": "[encoded data removed]",
      "text/plain": [
       "Molecule(smiles=\"[OH]\")"
      ]
     },
     "metadata": {},
     "output_type": "display_data"
    },
    {
     "name": "stdout",
     "output_type": "stream",
     "text": [
      "------------------------------------------------------------\n",
      "N=N\n",
      "215.6151056250241 kJ/mol\n",
      "51.53324704230978 kcal/mol\n"
     ]
    },
    {
     "data": {
      "image/png": "[encoded data removed]",
      "text/plain": [
       "Molecule(smiles=\"N=N\")"
      ]
     },
     "metadata": {},
     "output_type": "display_data"
    },
    {
     "name": "stdout",
     "output_type": "stream",
     "text": [
      "------------------------------------------------------------\n",
      "ON(O)[O]\n",
      "-61.05763518370797 kJ/mol\n",
      "-14.593125043907259 kcal/mol\n"
     ]
    },
    {
     "data": {
      "image/png": "[encoded data removed]",
      "text/plain": [
       "Molecule(smiles=\"ON(O)[O]\")"
      ]
     },
     "metadata": {},
     "output_type": "display_data"
    },
    {
     "name": "stdout",
     "output_type": "stream",
     "text": [
      "------------------------------------------------------------\n",
      "[O-]C=[NH+]CO\n",
      "-357.09668043844766 kJ/mol\n",
      "-85.34815498050853 kcal/mol\n"
     ]
    },
    {
     "data": {
      "image/png": "[encoded data removed]",
      "text/plain": [
       "Molecule(smiles=\"[O-]C=[NH+]CO\")"
      ]
     },
     "metadata": {},
     "output_type": "display_data"
    },
    {
     "name": "stdout",
     "output_type": "stream",
     "text": [
      "------------------------------------------------------------\n",
      "[O-]N=[NH2+]\n",
      "89.45104193917011 kJ/mol\n",
      "21.379312126952705 kcal/mol\n"
     ]
    },
    {
     "data": {
      "image/png": "[encoded data removed]",
      "text/plain": [
       "Molecule(smiles=\"[O-]N=[NH2+]\")"
      ]
     },
     "metadata": {},
     "output_type": "display_data"
    },
    {
     "name": "stdout",
     "output_type": "stream",
     "text": [
      "------------------------------------------------------------\n",
      "ONC=O\n",
      "-187.5781736942913 kJ/mol\n",
      "-44.83225948716331 kcal/mol\n"
     ]
    },
    {
     "data": {
      "image/png": "[encoded data removed]",
      "text/plain": [
       "Molecule(smiles=\"ONC=O\")"
      ]
     },
     "metadata": {},
     "output_type": "display_data"
    },
    {
     "name": "stdout",
     "output_type": "stream",
     "text": [
      "------------------------------------------------------------\n",
      "[NH2]\n",
      "196.2835585598154 kJ/mol\n",
      "46.91289640530961 kcal/mol\n"
     ]
    },
    {
     "data": {
      "image/png": "[encoded data removed]",
      "text/plain": [
       "Molecule(smiles=\"[NH2]\")"
      ]
     },
     "metadata": {},
     "output_type": "display_data"
    },
    {
     "name": "stdout",
     "output_type": "stream",
     "text": [
      "------------------------------------------------------------\n",
      "[O-][N+](=[N])OO\n",
      "327.82371598428233 kJ/mol\n",
      "78.35174856220897 kcal/mol\n"
     ]
    },
    {
     "data": {
      "image/png": "[encoded data removed]",
      "text/plain": [
       "Molecule(smiles=\"[O-][N+](=[N])OO\")"
      ]
     },
     "metadata": {},
     "output_type": "display_data"
    },
    {
     "name": "stdout",
     "output_type": "stream",
     "text": [
      "------------------------------------------------------------\n",
      "N[O]\n",
      "63.227123099525556 kJ/mol\n",
      "15.111645100269014 kcal/mol\n"
     ]
    },
    {
     "data": {
      "image/png": "[encoded data removed]",
      "text/plain": [
       "Molecule(smiles=\"N[O]\")"
      ]
     },
     "metadata": {},
     "output_type": "display_data"
    },
    {
     "name": "stdout",
     "output_type": "stream",
     "text": [
      "------------------------------------------------------------\n",
      "[CH]=O\n",
      "46.88354774881341 kJ/mol\n",
      "11.205436842450624 kcal/mol\n"
     ]
    },
    {
     "data": {
      "image/png": "[encoded data removed]",
      "text/plain": [
       "Molecule(smiles=\"[CH]=O\")"
      ]
     },
     "metadata": {},
     "output_type": "display_data"
    },
    {
     "name": "stdout",
     "output_type": "stream",
     "text": [
      "------------------------------------------------------------\n",
      "O=C=O\n",
      "-393.28856236582743 kJ/mol\n",
      "-93.99822236276947 kcal/mol\n"
     ]
    },
    {
     "data": {
      "image/png": "[encoded data removed]",
      "text/plain": [
       "Molecule(smiles=\"O=C=O\")"
      ]
     },
     "metadata": {},
     "output_type": "display_data"
    },
    {
     "name": "stdout",
     "output_type": "stream",
     "text": [
      "------------------------------------------------------------\n",
      "[N-]=[N+]OO\n",
      "21.01930697758829 kJ/mol\n",
      "5.0237349372820965 kcal/mol\n"
     ]
    },
    {
     "data": {
      "image/png": "[encoded data removed]",
      "text/plain": [
       "Molecule(smiles=\"[N-]=[N+]OO\")"
      ]
     },
     "metadata": {},
     "output_type": "display_data"
    },
    {
     "name": "stdout",
     "output_type": "stream",
     "text": [
      "------------------------------------------------------------\n",
      "[O-][N+](=O)CO\n",
      "-228.15820613868235 kJ/mol\n",
      "-54.53112001402542 kcal/mol\n"
     ]
    },
    {
     "data": {
      "image/png": "[encoded data removed]",
      "text/plain": [
       "Molecule(smiles=\"[O-][N+](=O)CO\")"
      ]
     },
     "metadata": {},
     "output_type": "display_data"
    },
    {
     "name": "stdout",
     "output_type": "stream",
     "text": [
      "------------------------------------------------------------\n",
      "NNOO\n",
      "97.56744377152715 kJ/mol\n",
      "23.31917872168431 kcal/mol\n"
     ]
    },
    {
     "data": {
      "image/png": "[encoded data removed]",
      "text/plain": [
       "Molecule(smiles=\"NNOO\")"
      ]
     },
     "metadata": {},
     "output_type": "display_data"
    },
    {
     "name": "stdout",
     "output_type": "stream",
     "text": [
      "------------------------------------------------------------\n",
      "[O-][N+](=O)[O]\n",
      "114.97861827602982 kJ/mol\n",
      "27.480549301154355 kcal/mol\n"
     ]
    },
    {
     "data": {
      "image/png": "[encoded data removed]",
      "text/plain": [
       "Molecule(smiles=\"[O-][N+](=O)[O]\")"
      ]
     },
     "metadata": {},
     "output_type": "display_data"
    },
    {
     "name": "stdout",
     "output_type": "stream",
     "text": [
      "------------------------------------------------------------\n",
      "C[O]\n",
      "13.742494669114826 kJ/mol\n",
      "3.284535054759758 kcal/mol\n"
     ]
    },
    {
     "data": {
      "image/png": "[encoded data removed]",
      "text/plain": [
       "Molecule(smiles=\"C[O]\")"
      ]
     },
     "metadata": {},
     "output_type": "display_data"
    },
    {
     "name": "stdout",
     "output_type": "stream",
     "text": [
      "------------------------------------------------------------\n",
      "[NH]C=O\n",
      "72.59957279621761 kJ/mol\n",
      "17.351714339440157 kcal/mol\n"
     ]
    },
    {
     "data": {
      "image/png": "[encoded data removed]",
      "text/plain": [
       "Molecule(smiles=\"[NH]C=O\")"
      ]
     },
     "metadata": {},
     "output_type": "display_data"
    },
    {
     "name": "stdout",
     "output_type": "stream",
     "text": [
      "------------------------------------------------------------\n",
      "[O-]N=[NH+]N\n",
      "184.6595212253102 kJ/mol\n",
      "44.134684805284465 kcal/mol\n"
     ]
    },
    {
     "data": {
      "image/png": "[encoded data removed]",
      "text/plain": [
       "Molecule(smiles=\"[O-]N=[NH+]N\")"
      ]
     },
     "metadata": {},
     "output_type": "display_data"
    },
    {
     "name": "stdout",
     "output_type": "stream",
     "text": [
      "------------------------------------------------------------\n",
      "NNN=O\n",
      "184.6575344264368 kJ/mol\n",
      "44.13420994895717 kcal/mol\n"
     ]
    },
    {
     "data": {
      "image/png": "[encoded data removed]",
      "text/plain": [
       "Molecule(smiles=\"NNN=O\")"
      ]
     },
     "metadata": {},
     "output_type": "display_data"
    },
    {
     "name": "stdout",
     "output_type": "stream",
     "text": [
      "------------------------------------------------------------\n",
      "[NH-][NH+]N[NH]\n",
      "570.7136115602441 kJ/mol\n",
      "136.40382685474285 kcal/mol\n"
     ]
    },
    {
     "data": {
      "image/png": "[encoded data removed]",
      "text/plain": [
       "Molecule(smiles=\"[NH-][NH+]N[NH]\")"
      ]
     },
     "metadata": {},
     "output_type": "display_data"
    },
    {
     "name": "stdout",
     "output_type": "stream",
     "text": [
      "------------------------------------------------------------\n",
      "NO[O]\n",
      "157.42077182749196 kJ/mol\n",
      "37.624467453989475 kcal/mol\n"
     ]
    },
    {
     "data": {
      "image/png": "[encoded data removed]",
      "text/plain": [
       "Molecule(smiles=\"NO[O]\")"
      ]
     },
     "metadata": {},
     "output_type": "display_data"
    },
    {
     "name": "stdout",
     "output_type": "stream",
     "text": [
      "------------------------------------------------------------\n",
      "CC=O\n",
      "-163.25719868905063 kJ/mol\n",
      "-39.019406952449955 kcal/mol\n"
     ]
    },
    {
     "data": {
      "image/png": "[encoded data removed]",
      "text/plain": [
       "Molecule(smiles=\"CC=O\")"
      ]
     },
     "metadata": {},
     "output_type": "display_data"
    },
    {
     "name": "stdout",
     "output_type": "stream",
     "text": [
      "------------------------------------------------------------\n",
      "[N-]([NH+]=N)N\n",
      "390.7590973819792 kJ/mol\n",
      "93.39366572227036 kcal/mol\n"
     ]
    },
    {
     "data": {
      "image/png": "[encoded data removed]",
      "text/plain": [
       "Molecule(smiles=\"[N-]([NH+]=N)N\")"
      ]
     },
     "metadata": {},
     "output_type": "display_data"
    },
    {
     "name": "stdout",
     "output_type": "stream",
     "text": [
      "------------------------------------------------------------\n",
      "[NH-][NH2+]\n",
      "229.4959593743754 kJ/mol\n",
      "54.85085071089278 kcal/mol\n"
     ]
    },
    {
     "data": {
      "image/png": "[encoded data removed]",
      "text/plain": [
       "Molecule(smiles=\"[NH-][NH2+]\")"
      ]
     },
     "metadata": {},
     "output_type": "display_data"
    },
    {
     "name": "stdout",
     "output_type": "stream",
     "text": [
      "------------------------------------------------------------\n",
      "[O-]C=[NH+]O\n",
      "-192.9172505220305 kJ/mol\n",
      "-46.108329474672686 kcal/mol\n"
     ]
    },
    {
     "data": {
      "image/png": "[encoded data removed]",
      "text/plain": [
       "Molecule(smiles=\"[O-]C=[NH+]O\")"
      ]
     },
     "metadata": {},
     "output_type": "display_data"
    },
    {
     "name": "stdout",
     "output_type": "stream",
     "text": [
      "------------------------------------------------------------\n",
      "[O]N=O\n",
      "52.80379704552833 kJ/mol\n",
      "12.62041038373048 kcal/mol\n"
     ]
    },
    {
     "data": {
      "image/png": "[encoded data removed]",
      "text/plain": [
       "Molecule(smiles=\"[O]N=O\")"
      ]
     },
     "metadata": {},
     "output_type": "display_data"
    },
    {
     "name": "stdout",
     "output_type": "stream",
     "text": [
      "------------------------------------------------------------\n",
      "OCO\n",
      "-394.22108643278074 kJ/mol\n",
      "-94.22110096385772 kcal/mol\n"
     ]
    },
    {
     "data": {
      "image/png": "[encoded data removed]",
      "text/plain": [
       "Molecule(smiles=\"OCO\")"
      ]
     },
     "metadata": {},
     "output_type": "display_data"
    },
    {
     "name": "stdout",
     "output_type": "stream",
     "text": [
      "------------------------------------------------------------\n",
      "[O]\n",
      "249.55774776252292 kJ/mol\n",
      "59.645733212840085 kcal/mol\n"
     ]
    },
    {
     "data": {
      "image/png": "[encoded data removed]",
      "text/plain": [
       "Molecule(smiles=\"[O]\")"
      ]
     },
     "metadata": {},
     "output_type": "display_data"
    },
    {
     "name": "stdout",
     "output_type": "stream",
     "text": [
      "------------------------------------------------------------\n",
      "NN\n",
      "106.15947020443758 kJ/mol\n",
      "25.372722324196364 kcal/mol\n"
     ]
    },
    {
     "data": {
      "image/png": "[encoded data removed]",
      "text/plain": [
       "Molecule(smiles=\"NN\")"
      ]
     },
     "metadata": {},
     "output_type": "display_data"
    },
    {
     "name": "stdout",
     "output_type": "stream",
     "text": [
      "------------------------------------------------------------\n",
      "N=O\n",
      "123.95279179871687 kJ/mol\n",
      "29.62542825017134 kcal/mol\n"
     ]
    },
    {
     "data": {
      "image/png": "[encoded data removed]",
      "text/plain": [
       "Molecule(smiles=\"N=O\")"
      ]
     },
     "metadata": {},
     "output_type": "display_data"
    },
    {
     "name": "stdout",
     "output_type": "stream",
     "text": [
      "------------------------------------------------------------\n",
      "O\n",
      "-227.4080804330122 kJ/mol\n",
      "-54.351835667545934 kcal/mol\n"
     ]
    },
    {
     "data": {
      "image/png": "[encoded data removed]",
      "text/plain": [
       "Molecule(smiles=\"O\")"
      ]
     },
     "metadata": {},
     "output_type": "display_data"
    },
    {
     "name": "stdout",
     "output_type": "stream",
     "text": [
      "------------------------------------------------------------\n",
      "OONNNNOO\n",
      "331.09967240533865 kJ/mol\n",
      "79.13472093817846 kcal/mol\n"
     ]
    },
    {
     "data": {
      "image/png": "[encoded data removed]",
      "text/plain": [
       "Molecule(smiles=\"OONNNNOO\")"
      ]
     },
     "metadata": {},
     "output_type": "display_data"
    },
    {
     "name": "stdout",
     "output_type": "stream",
     "text": [
      "------------------------------------------------------------\n",
      "ONO\n",
      "-90.41055852892625 kJ/mol\n",
      "-21.608642095823672 kcal/mol\n"
     ]
    },
    {
     "data": {
      "image/png": "[encoded data removed]",
      "text/plain": [
       "Molecule(smiles=\"ONO\")"
      ]
     },
     "metadata": {},
     "output_type": "display_data"
    },
    {
     "name": "stdout",
     "output_type": "stream",
     "text": [
      "------------------------------------------------------------\n",
      "[O-]N=[NH+]NOO\n",
      "215.8792926354314 kJ/mol\n",
      "51.596389253210184 kcal/mol\n"
     ]
    },
    {
     "data": {
      "image/png": "[encoded data removed]",
      "text/plain": [
       "Molecule(smiles=\"[O-]N=[NH+]NOO\")"
      ]
     },
     "metadata": {},
     "output_type": "display_data"
    },
    {
     "name": "stdout",
     "output_type": "stream",
     "text": [
      "------------------------------------------------------------\n",
      "[CH2]O\n",
      "-16.836323432512582 kJ/mol\n",
      "-4.0239778758395275 kcal/mol\n"
     ]
    },
    {
     "data": {
      "image/png": "[encoded data removed]",
      "text/plain": [
       "Molecule(smiles=\"[CH2]O\")"
      ]
     },
     "metadata": {},
     "output_type": "display_data"
    },
    {
     "name": "stdout",
     "output_type": "stream",
     "text": [
      "------------------------------------------------------------\n",
      "N=C=O\n",
      "-121.84525099651889 kJ/mol\n",
      "-29.121713909301835 kcal/mol\n"
     ]
    },
    {
     "data": {
      "image/png": "[encoded data removed]",
      "text/plain": [
       "Molecule(smiles=\"N=C=O\")"
      ]
     },
     "metadata": {},
     "output_type": "display_data"
    },
    {
     "name": "stdout",
     "output_type": "stream",
     "text": [
      "------------------------------------------------------------\n",
      "OONNN=O\n",
      "232.4196412503672 kJ/mol\n",
      "55.549627449896555 kcal/mol\n"
     ]
    },
    {
     "data": {
      "image/png": "[encoded data removed]",
      "text/plain": [
       "Molecule(smiles=\"OONNN=O\")"
      ]
     },
     "metadata": {},
     "output_type": "display_data"
    },
    {
     "name": "stdout",
     "output_type": "stream",
     "text": [
      "------------------------------------------------------------\n",
      "OC[N-][N+](=O)OO\n",
      "-45.3948999791975 kJ/mol\n",
      "-10.849641486423877 kcal/mol\n"
     ]
    },
    {
     "data": {
      "image/png": "[encoded data removed]",
      "text/plain": [
       "Molecule(smiles=\"OC[N-][N+](=O)OO\")"
      ]
     },
     "metadata": {},
     "output_type": "display_data"
    },
    {
     "name": "stdout",
     "output_type": "stream",
     "text": [
      "------------------------------------------------------------\n",
      "OON=[N]\n",
      "25.500855840418136 kJ/mol\n",
      "6.094850822279669 kcal/mol\n"
     ]
    },
    {
     "data": {
      "image/png": "[encoded data removed]",
      "text/plain": [
       "Molecule(smiles=\"OON=[N]\")"
      ]
     },
     "metadata": {},
     "output_type": "display_data"
    },
    {
     "name": "stdout",
     "output_type": "stream",
     "text": [
      "------------------------------------------------------------\n",
      "[O][O]\n",
      "-2.043762238905298 kJ/mol\n",
      "-0.4884708983999278 kcal/mol\n"
     ]
    },
    {
     "data": {
      "image/png": "[encoded data removed]",
      "text/plain": [
       "Molecule(smiles=\"[O][O]\")"
      ]
     },
     "metadata": {},
     "output_type": "display_data"
    },
    {
     "name": "stdout",
     "output_type": "stream",
     "text": [
      "------------------------------------------------------------\n",
      "[N]O\n",
      "207.5893357062666 kJ/mol\n",
      "49.615041994805594 kcal/mol\n"
     ]
    },
    {
     "data": {
      "image/png": "[encoded data removed]",
      "text/plain": [
       "Molecule(smiles=\"[N]O\")"
      ]
     },
     "metadata": {},
     "output_type": "display_data"
    },
    {
     "name": "stdout",
     "output_type": "stream",
     "text": [
      "------------------------------------------------------------\n",
      "N1NNN1\n",
      "566.9720596187577 kJ/mol\n",
      "135.50957447867057 kcal/mol\n"
     ]
    },
    {
     "data": {
      "image/png": "[encoded data removed]",
      "text/plain": [
       "Molecule(smiles=\"N1NNN1\")"
      ]
     },
     "metadata": {},
     "output_type": "display_data"
    },
    {
     "name": "stdout",
     "output_type": "stream",
     "text": [
      "------------------------------------------------------------\n",
      "NCO\n",
      "-197.66465129827338 kJ/mol\n",
      "-47.242985491939145 kcal/mol\n"
     ]
    },
    {
     "data": {
      "image/png": "[encoded data removed]",
      "text/plain": [
       "Molecule(smiles=\"NCO\")"
      ]
     },
     "metadata": {},
     "output_type": "display_data"
    },
    {
     "name": "stdout",
     "output_type": "stream",
     "text": [
      "------------------------------------------------------------\n",
      "OCONCO\n",
      "-393.91035260699186 kJ/mol\n",
      "-94.1468337970822 kcal/mol\n"
     ]
    },
    {
     "data": {
      "image/png": "[encoded data removed]",
      "text/plain": [
       "Molecule(smiles=\"OCONCO\")"
      ]
     },
     "metadata": {},
     "output_type": "display_data"
    },
    {
     "name": "stdout",
     "output_type": "stream",
     "text": [
      "------------------------------------------------------------\n",
      "N\n",
      "-32.80448705405473 kJ/mol\n",
      "-7.840460576972929 kcal/mol\n"
     ]
    },
    {
     "data": {
      "image/png": "[encoded data removed]",
      "text/plain": [
       "Molecule(smiles=\"N\")"
      ]
     },
     "metadata": {},
     "output_type": "display_data"
    },
    {
     "name": "stdout",
     "output_type": "stream",
     "text": [
      "------------------------------------------------------------\n",
      "OCN=[N+](OO)[O-]\n",
      "-44.84604343132508 kJ/mol\n",
      "-10.71846162316565 kcal/mol\n"
     ]
    },
    {
     "data": {
      "image/png": "[encoded data removed]",
      "text/plain": [
       "Molecule(smiles=\"OCN=[N+](OO)[O-]\")"
      ]
     },
     "metadata": {},
     "output_type": "display_data"
    },
    {
     "name": "stdout",
     "output_type": "stream",
     "text": [
      "------------------------------------------------------------\n",
      "[NH][O]\n",
      "178.1198545150028 kJ/mol\n",
      "42.571666949092446 kcal/mol\n"
     ]
    },
    {
     "data": {
      "image/png": "[encoded data removed]",
      "text/plain": [
       "Molecule(smiles=\"[NH][O]\")"
      ]
     },
     "metadata": {},
     "output_type": "display_data"
    },
    {
     "name": "stdout",
     "output_type": "stream",
     "text": [
      "------------------------------------------------------------\n",
      "[NH-][NH+]OO\n",
      "256.68223672204624 kJ/mol\n",
      "61.348526941215646 kcal/mol\n"
     ]
    },
    {
     "data": {
      "image/png": "[encoded data removed]",
      "text/plain": [
       "Molecule(smiles=\"[NH-][NH+]OO\")"
      ]
     },
     "metadata": {},
     "output_type": "display_data"
    },
    {
     "name": "stdout",
     "output_type": "stream",
     "text": [
      "------------------------------------------------------------\n",
      "C\n",
      "-70.70095125284266 kJ/mol\n",
      "-16.89793289981899 kcal/mol\n"
     ]
    },
    {
     "data": {
      "image/png": "[encoded data removed]",
      "text/plain": [
       "Molecule(smiles=\"C\")"
      ]
     },
     "metadata": {},
     "output_type": "display_data"
    },
    {
     "name": "stdout",
     "output_type": "stream",
     "text": [
      "------------------------------------------------------------\n",
      "O[N-][N+](=O)[O]\n",
      "112.2708874213826 kJ/mol\n",
      "26.833386094976717 kcal/mol\n"
     ]
    },
    {
     "data": {
      "image/png": "[encoded data removed]",
      "text/plain": [
       "Molecule(smiles=\"O[N-][N+](=O)[O]\")"
      ]
     },
     "metadata": {},
     "output_type": "display_data"
    },
    {
     "name": "stdout",
     "output_type": "stream",
     "text": [
      "------------------------------------------------------------\n",
      "[NH]\n",
      "361.0362621950066 kJ/mol\n",
      "86.28973761830942 kcal/mol\n"
     ]
    },
    {
     "data": {
      "image/png": "[encoded data removed]",
      "text/plain": [
       "Molecule(smiles=\"[NH]\")"
      ]
     },
     "metadata": {},
     "output_type": "display_data"
    },
    {
     "name": "stdout",
     "output_type": "stream",
     "text": [
      "------------------------------------------------------------\n",
      "ONCO\n",
      "-230.212692124581 kJ/mol\n",
      "-55.02215394946965 kcal/mol\n"
     ]
    },
    {
     "data": {
      "image/png": "[encoded data removed]",
      "text/plain": [
       "Molecule(smiles=\"ONCO\")"
      ]
     },
     "metadata": {},
     "output_type": "display_data"
    },
    {
     "name": "stdout",
     "output_type": "stream",
     "text": [
      "------------------------------------------------------------\n",
      "[NH]O\n",
      "99.66489030654031 kJ/mol\n",
      "23.82048047479453 kcal/mol\n"
     ]
    },
    {
     "data": {
      "image/png": "[encoded data removed]",
      "text/plain": [
       "Molecule(smiles=\"[NH]O\")"
      ]
     },
     "metadata": {},
     "output_type": "display_data"
    },
    {
     "name": "stdout",
     "output_type": "stream",
     "text": [
      "------------------------------------------------------------\n",
      "[NH-][NH+]=NN\n",
      "406.9346889312062 kJ/mol\n",
      "97.25972488795558 kcal/mol\n"
     ]
    },
    {
     "data": {
      "image/png": "[encoded data removed]",
      "text/plain": [
       "Molecule(smiles=\"[NH-][NH+]=NN\")"
      ]
     },
     "metadata": {},
     "output_type": "display_data"
    },
    {
     "name": "stdout",
     "output_type": "stream",
     "text": [
      "------------------------------------------------------------\n",
      "[O-][N+](=NN=O)OO\n",
      "314.8002380550734 kJ/mol\n",
      "75.23906263266574 kcal/mol\n"
     ]
    },
    {
     "data": {
      "image/png": "[encoded data removed]",
      "text/plain": [
       "Molecule(smiles=\"[O-][N+](=NN=O)OO\")"
      ]
     },
     "metadata": {},
     "output_type": "display_data"
    },
    {
     "name": "stdout",
     "output_type": "stream",
     "text": [
      "------------------------------------------------------------\n",
      "[NH]NOO\n",
      "246.0579173469078 kJ/mol\n",
      "58.809253667998995 kcal/mol\n"
     ]
    },
    {
     "data": {
      "image/png": "[encoded data removed]",
      "text/plain": [
       "Molecule(smiles=\"[NH]NOO\")"
      ]
     },
     "metadata": {},
     "output_type": "display_data"
    },
    {
     "name": "stdout",
     "output_type": "stream",
     "text": [
      "------------------------------------------------------------\n",
      "[H]\n",
      "217.98572139608046 kJ/mol\n",
      "52.09983780977066 kcal/mol\n"
     ]
    },
    {
     "data": {
      "image/png": "[encoded data removed]",
      "text/plain": [
       "Molecule(smiles=\"[H]\")"
      ]
     },
     "metadata": {},
     "output_type": "display_data"
    },
    {
     "name": "stdout",
     "output_type": "stream",
     "text": [
      "------------------------------------------------------------\n",
      "OONNOO\n",
      "113.57074621259854 kJ/mol\n",
      "27.144059802246304 kcal/mol\n"
     ]
    },
    {
     "data": {
      "image/png": "[encoded data removed]",
      "text/plain": [
       "Molecule(smiles=\"OONNOO\")"
      ]
     },
     "metadata": {},
     "output_type": "display_data"
    },
    {
     "name": "stdout",
     "output_type": "stream",
     "text": [
      "------------------------------------------------------------\n",
      "[O-]O[N+]=O\n",
      "168.28868211346142 kJ/mol\n",
      "40.22196035216573 kcal/mol\n"
     ]
    },
    {
     "data": {
      "image/png": "[encoded data removed]",
      "text/plain": [
       "Molecule(smiles=\"[O-]O[N+]=O\")"
      ]
     },
     "metadata": {},
     "output_type": "display_data"
    },
    {
     "name": "stdout",
     "output_type": "stream",
     "text": [
      "------------------------------------------------------------\n",
      "[O-][NH+]=N\n",
      "159.3898381766054 kJ/mol\n",
      "38.09508560626324 kcal/mol\n"
     ]
    },
    {
     "data": {
      "image/png": "[encoded data removed]",
      "text/plain": [
       "Molecule(smiles=\"[O-][NH+]=N\")"
      ]
     },
     "metadata": {},
     "output_type": "display_data"
    },
    {
     "name": "stdout",
     "output_type": "stream",
     "text": [
      "------------------------------------------------------------\n",
      "[O-]C=[NH+]OCO\n",
      "-357.51577031058497 kJ/mol\n",
      "-85.44831986390655 kcal/mol\n"
     ]
    },
    {
     "data": {
      "image/png": "[encoded data removed]",
      "text/plain": [
       "Molecule(smiles=\"[O-]C=[NH+]OCO\")"
      ]
     },
     "metadata": {},
     "output_type": "display_data"
    },
    {
     "name": "stdout",
     "output_type": "stream",
     "text": [
      "------------------------------------------------------------\n",
      "[O-][N+]=NO\n",
      "179.9675814933782 kJ/mol\n",
      "43.01328429574048 kcal/mol\n"
     ]
    },
    {
     "data": {
      "image/png": "[encoded data removed]",
      "text/plain": [
       "Molecule(smiles=\"[O-][N+]=NO\")"
      ]
     },
     "metadata": {},
     "output_type": "display_data"
    },
    {
     "name": "stdout",
     "output_type": "stream",
     "text": [
      "------------------------------------------------------------\n",
      "[O]C=N\n",
      "82.08417509287817 kJ/mol\n",
      "19.618588693326522 kcal/mol\n"
     ]
    },
    {
     "data": {
      "image/png": "[encoded data removed]",
      "text/plain": [
       "Molecule(smiles=\"[O]C=N\")"
      ]
     },
     "metadata": {},
     "output_type": "display_data"
    },
    {
     "name": "stdout",
     "output_type": "stream",
     "text": [
      "------------------------------------------------------------\n",
      "NNCO\n",
      "-86.75487653947155 kJ/mol\n",
      "-20.73491313084884 kcal/mol\n"
     ]
    },
    {
     "data": {
      "image/png": "[encoded data removed]",
      "text/plain": [
       "Molecule(smiles=\"NNCO\")"
      ]
     },
     "metadata": {},
     "output_type": "display_data"
    },
    {
     "name": "stdout",
     "output_type": "stream",
     "text": [
      "------------------------------------------------------------\n",
      "O[N]N=O\n",
      "198.63939222337302 kJ/mol\n",
      "47.475954164286094 kcal/mol\n"
     ]
    },
    {
     "data": {
      "image/png": "[encoded data removed]",
      "text/plain": [
       "Molecule(smiles=\"O[N]N=O\")"
      ]
     },
     "metadata": {},
     "output_type": "display_data"
    },
    {
     "name": "stdout",
     "output_type": "stream",
     "text": [
      "------------------------------------------------------------\n",
      "[N-]([N+](=O)OO)N=O\n",
      "314.79980962842217 kJ/mol\n",
      "75.23896023623855 kcal/mol\n"
     ]
    },
    {
     "data": {
      "image/png": "[encoded data removed]",
      "text/plain": [
       "Molecule(smiles=\"[N-]([N+](=O)OO)N=O\")"
      ]
     },
     "metadata": {},
     "output_type": "display_data"
    },
    {
     "name": "stdout",
     "output_type": "stream",
     "text": [
      "------------------------------------------------------------\n",
      "[O-]N=[N+](OO)N\n",
      "221.75284880187448 kJ/mol\n",
      "53.000202868516844 kcal/mol\n"
     ]
    },
    {
     "data": {
      "image/png": "[encoded data removed]",
      "text/plain": [
       "Molecule(smiles=\"[O-]N=[N+](OO)N\")"
      ]
     },
     "metadata": {},
     "output_type": "display_data"
    },
    {
     "name": "stdout",
     "output_type": "stream",
     "text": [
      "------------------------------------------------------------\n",
      "[O]ON=O\n",
      "94.48633715034795 kJ/mol\n",
      "22.582776565570732 kcal/mol\n"
     ]
    },
    {
     "data": {
      "image/png": "[encoded data removed]",
      "text/plain": [
       "Molecule(smiles=\"[O]ON=O\")"
      ]
     },
     "metadata": {},
     "output_type": "display_data"
    },
    {
     "name": "stdout",
     "output_type": "stream",
     "text": [
      "------------------------------------------------------------\n",
      "[O-][N+]#N\n",
      "95.67666568800772 kJ/mol\n",
      "22.86727191395978 kcal/mol\n"
     ]
    },
    {
     "data": {
      "image/png": "[encoded data removed]",
      "text/plain": [
       "Molecule(smiles=\"[O-][N+]#N\")"
      ]
     },
     "metadata": {},
     "output_type": "display_data"
    },
    {
     "name": "stdout",
     "output_type": "stream",
     "text": [
      "------------------------------------------------------------\n",
      "CC\n",
      "-82.30842977780902 kJ/mol\n",
      "-19.672186849380743 kcal/mol\n"
     ]
    },
    {
     "data": {
      "image/png": "[encoded data removed]",
      "text/plain": [
       "Molecule(smiles=\"CC\")"
      ]
     },
     "metadata": {},
     "output_type": "display_data"
    },
    {
     "name": "stdout",
     "output_type": "stream",
     "text": [
      "------------------------------------------------------------\n",
      "OON=O\n",
      "8.497806965568103 kJ/mol\n",
      "2.0310246093614013 kcal/mol\n"
     ]
    },
    {
     "data": {
      "image/png": "[encoded data removed]",
      "text/plain": [
       "Molecule(smiles=\"OON=O\")"
      ]
     },
     "metadata": {},
     "output_type": "display_data"
    },
    {
     "name": "stdout",
     "output_type": "stream",
     "text": [
      "------------------------------------------------------------\n",
      "OON(N(OO)N)N\n",
      "301.26160381973966 kJ/mol\n",
      "72.00325139095116 kcal/mol\n"
     ]
    },
    {
     "data": {
      "image/png": "[encoded data removed]",
      "text/plain": [
       "Molecule(smiles=\"OON(N(OO)N)N\")"
      ]
     },
     "metadata": {},
     "output_type": "display_data"
    },
    {
     "name": "stdout",
     "output_type": "stream",
     "text": [
      "------------------------------------------------------------\n",
      "C=O\n",
      "-104.23600192088053 kJ/mol\n",
      "-24.913002371147353 kcal/mol\n"
     ]
    },
    {
     "data": {
      "image/png": "[encoded data removed]",
      "text/plain": [
       "Molecule(smiles=\"C=O\")"
      ]
     },
     "metadata": {},
     "output_type": "display_data"
    },
    {
     "name": "stdout",
     "output_type": "stream",
     "text": [
      "------------------------------------------------------------\n",
      "[O-]N=[N+]=O\n",
      "279.97812171123337 kJ/mol\n",
      "66.91637708203476 kcal/mol\n"
     ]
    },
    {
     "data": {
      "image/png": "[encoded data removed]",
      "text/plain": [
       "Molecule(smiles=\"[O-]N=[N+]=O\")"
      ]
     },
     "metadata": {},
     "output_type": "display_data"
    },
    {
     "name": "stdout",
     "output_type": "stream",
     "text": [
      "------------------------------------------------------------\n",
      "ON=O\n",
      "-62.96910739296318 kJ/mol\n",
      "-15.049977866386994 kcal/mol\n"
     ]
    },
    {
     "data": {
      "image/png": "[encoded data removed]",
      "text/plain": [
       "Molecule(smiles=\"ON=O\")"
      ]
     },
     "metadata": {},
     "output_type": "display_data"
    },
    {
     "name": "stdout",
     "output_type": "stream",
     "text": [
      "------------------------------------------------------------\n",
      "[N-]=[N+]=O\n",
      "95.67664710254431 kJ/mol\n",
      "22.867267471927416 kcal/mol\n"
     ]
    },
    {
     "data": {
      "image/png": "[encoded data removed]",
      "text/plain": [
       "Molecule(smiles=\"[N-]=[N+]=O\")"
      ]
     },
     "metadata": {},
     "output_type": "display_data"
    },
    {
     "name": "stdout",
     "output_type": "stream",
     "text": [
      "------------------------------------------------------------\n",
      "NOO\n",
      "18.34168981619226 kJ/mol\n",
      "4.383769076527787 kcal/mol\n"
     ]
    },
    {
     "data": {
      "image/png": "[encoded data removed]",
      "text/plain": [
       "Molecule(smiles=\"NOO\")"
      ]
     },
     "metadata": {},
     "output_type": "display_data"
    },
    {
     "name": "stdout",
     "output_type": "stream",
     "text": [
      "------------------------------------------------------------\n",
      "N#N\n",
      "12.28501042740792 kJ/mol\n",
      "2.936187960661549 kcal/mol\n"
     ]
    },
    {
     "data": {
      "image/png": "[encoded data removed]",
      "text/plain": [
       "Molecule(smiles=\"N#N\")"
      ]
     },
     "metadata": {},
     "output_type": "display_data"
    },
    {
     "name": "stdout",
     "output_type": "stream",
     "text": [
      "------------------------------------------------------------\n",
      "O=NC=O\n",
      "21.113481931159825 kJ/mol\n",
      "5.046243291386191 kcal/mol\n"
     ]
    },
    {
     "data": {
      "image/png": "[encoded data removed]",
      "text/plain": [
       "Molecule(smiles=\"O=NC=O\")"
      ]
     },
     "metadata": {},
     "output_type": "display_data"
    },
    {
     "name": "stdout",
     "output_type": "stream",
     "text": [
      "------------------------------------------------------------\n",
      "[O-][N+](=O)[N]O\n",
      "112.27058161773348 kJ/mol\n",
      "26.833313006150448 kcal/mol\n"
     ]
    },
    {
     "data": {
      "image/png": "[encoded data removed]",
      "text/plain": [
       "Molecule(smiles=\"[O-][N+](=O)[N]O\")"
      ]
     },
     "metadata": {},
     "output_type": "display_data"
    },
    {
     "name": "stdout",
     "output_type": "stream",
     "text": [
      "------------------------------------------------------------\n",
      "OCONC=O\n",
      "-376.44409633213036 kJ/mol\n",
      "-89.97229835853976 kcal/mol\n"
     ]
    },
    {
     "data": {
      "image/png": "[encoded data removed]",
      "text/plain": [
       "Molecule(smiles=\"OCONC=O\")"
      ]
     },
     "metadata": {},
     "output_type": "display_data"
    },
    {
     "name": "stdout",
     "output_type": "stream",
     "text": [
      "------------------------------------------------------------\n",
      "[N-]([N+]=O)O\n",
      "180.1973294227685 kJ/mol\n",
      "43.06819536873052 kcal/mol\n"
     ]
    },
    {
     "data": {
      "image/png": "[encoded data removed]",
      "text/plain": [
       "Molecule(smiles=\"[N-]([N+]=O)O\")"
      ]
     },
     "metadata": {},
     "output_type": "display_data"
    },
    {
     "name": "stdout",
     "output_type": "stream",
     "text": [
      "------------------------------------------------------------\n",
      "O=NON=O\n",
      "118.69917671773969 kJ/mol\n",
      "28.369784110358435 kcal/mol\n"
     ]
    },
    {
     "data": {
      "image/png": "[encoded data removed]",
      "text/plain": [
       "Molecule(smiles=\"O=NON=O\")"
      ]
     },
     "metadata": {},
     "output_type": "display_data"
    },
    {
     "name": "stdout",
     "output_type": "stream",
     "text": [
      "------------------------------------------------------------\n",
      "[O-]C=[N+]=O\n",
      "33.81525240752921 kJ/mol\n",
      "8.082039294342545 kcal/mol\n"
     ]
    },
    {
     "data": {
      "image/png": "[encoded data removed]",
      "text/plain": [
       "Molecule(smiles=\"[O-]C=[N+]=O\")"
      ]
     },
     "metadata": {},
     "output_type": "display_data"
    },
    {
     "name": "stdout",
     "output_type": "stream",
     "text": [
      "------------------------------------------------------------\n",
      "OCN=O\n",
      "-91.28486457344113 kJ/mol\n",
      "-21.817606255602563 kcal/mol\n"
     ]
    },
    {
     "data": {
      "image/png": "[encoded data removed]",
      "text/plain": [
       "Molecule(smiles=\"OCN=O\")"
      ]
     },
     "metadata": {},
     "output_type": "display_data"
    },
    {
     "name": "stdout",
     "output_type": "stream",
     "text": [
      "------------------------------------------------------------\n",
      "[O-][N+](=O)O\n",
      "-124.22405856354995 kJ/mol\n",
      "-29.690262562989947 kcal/mol\n"
     ]
    },
    {
     "data": {
      "image/png": "[encoded data removed]",
      "text/plain": [
       "Molecule(smiles=\"[O-][N+](=O)O\")"
      ]
     },
     "metadata": {},
     "output_type": "display_data"
    },
    {
     "name": "stdout",
     "output_type": "stream",
     "text": [
      "------------------------------------------------------------\n",
      "[NH]NN[NH]\n",
      "564.3798620031886 kJ/mol\n",
      "134.89002437934718 kcal/mol\n"
     ]
    },
    {
     "data": {
      "image/png": "[encoded data removed]",
      "text/plain": [
       "Molecule(smiles=\"[NH]NN[NH]\")"
      ]
     },
     "metadata": {},
     "output_type": "display_data"
    },
    {
     "name": "stdout",
     "output_type": "stream",
     "text": [
      "------------------------------------------------------------\n",
      "[CH3]\n",
      "149.27858201863106 kJ/mol\n",
      "35.67843738495006 kcal/mol\n"
     ]
    },
    {
     "data": {
      "image/png": "[encoded data removed]",
      "text/plain": [
       "Molecule(smiles=\"[CH3]\")"
      ]
     },
     "metadata": {},
     "output_type": "display_data"
    },
    {
     "name": "stdout",
     "output_type": "stream",
     "text": [
      "------------------------------------------------------------\n",
      "NON=O\n",
      "102.475752410279 kJ/mol\n",
      "24.492292641080066 kcal/mol\n"
     ]
    },
    {
     "data": {
      "image/png": "[encoded data removed]",
      "text/plain": [
       "Molecule(smiles=\"NON=O\")"
      ]
     },
     "metadata": {},
     "output_type": "display_data"
    },
    {
     "name": "stdout",
     "output_type": "stream",
     "text": [
      "------------------------------------------------------------\n",
      "CCC\n",
      "-103.7100324824513 kJ/mol\n",
      "-24.78729265832966 kcal/mol\n"
     ]
    },
    {
     "data": {
      "image/png": "[encoded data removed]",
      "text/plain": [
       "Molecule(smiles=\"CCC\")"
      ]
     },
     "metadata": {},
     "output_type": "display_data"
    },
    {
     "name": "stdout",
     "output_type": "stream",
     "text": [
      "------------------------------------------------------------\n",
      "OO\n",
      "-124.87145252533446 kJ/mol\n",
      "-29.844993433397338 kcal/mol\n"
     ]
    },
    {
     "data": {
      "image/png": "[encoded data removed]",
      "text/plain": [
       "Molecule(smiles=\"OO\")"
      ]
     },
     "metadata": {},
     "output_type": "display_data"
    },
    {
     "name": "stdout",
     "output_type": "stream",
     "text": [
      "------------------------------------------------------------\n",
      "NOON\n",
      "162.31175214873394 kJ/mol\n",
      "38.79343980610276 kcal/mol\n"
     ]
    },
    {
     "data": {
      "image/png": "[encoded data removed]",
      "text/plain": [
       "Molecule(smiles=\"NOON\")"
      ]
     },
     "metadata": {},
     "output_type": "display_data"
    },
    {
     "name": "stdout",
     "output_type": "stream",
     "text": [
      "------------------------------------------------------------\n",
      "C[CH2]\n",
      "120.67214466858151 kJ/mol\n",
      "28.84133476782541 kcal/mol\n"
     ]
    },
    {
     "data": {
      "image/png": "[encoded data removed]",
      "text/plain": [
       "Molecule(smiles=\"C[CH2]\")"
      ]
     },
     "metadata": {},
     "output_type": "display_data"
    },
    {
     "name": "stdout",
     "output_type": "stream",
     "text": [
      "------------------------------------------------------------\n",
      "O1O[N]1\n",
      "365.9431657109141 kJ/mol\n",
      "87.4625157052854 kcal/mol\n"
     ]
    },
    {
     "data": {
      "image/png": "[encoded data removed]",
      "text/plain": [
       "Molecule(smiles=\"O1O[N]1\")"
      ]
     },
     "metadata": {},
     "output_type": "display_data"
    },
    {
     "name": "stdout",
     "output_type": "stream",
     "text": [
      "------------------------------------------------------------\n",
      "OO[N+](=[N-])[O]\n",
      "337.9059569516927 kJ/mol\n",
      "80.76146198654223 kcal/mol\n"
     ]
    },
    {
     "data": {
      "image/png": "[encoded data removed]",
      "text/plain": [
       "Molecule(smiles=\"OO[N+](=[N-])[O]\")"
      ]
     },
     "metadata": {},
     "output_type": "display_data"
    },
    {
     "name": "stdout",
     "output_type": "stream",
     "text": [
      "------------------------------------------------------------\n",
      "NN=O\n",
      "89.45105903755585 kJ/mol\n",
      "21.379316213564973 kcal/mol\n"
     ]
    },
    {
     "data": {
      "image/png": "[encoded data removed]",
      "text/plain": [
       "Molecule(smiles=\"NN=O\")"
      ]
     },
     "metadata": {},
     "output_type": "display_data"
    },
    {
     "name": "stdout",
     "output_type": "stream",
     "text": [
      "------------------------------------------------------------\n",
      "[O-]N=[NH+]OO\n",
      "133.67181936720317 kJ/mol\n",
      "31.948331588719686 kcal/mol\n"
     ]
    },
    {
     "data": {
      "image/png": "[encoded data removed]",
      "text/plain": [
       "Molecule(smiles=\"[O-]N=[NH+]OO\")"
      ]
     },
     "metadata": {},
     "output_type": "display_data"
    },
    {
     "name": "stdout",
     "output_type": "stream",
     "text": [
      "------------------------------------------------------------\n",
      "[NH]OO\n",
      "162.43860061101356 kJ/mol\n",
      "38.82375731620783 kcal/mol\n"
     ]
    },
    {
     "data": {
      "image/png": "[encoded data removed]",
      "text/plain": [
       "Molecule(smiles=\"[NH]OO\")"
      ]
     },
     "metadata": {},
     "output_type": "display_data"
    },
    {
     "name": "stdout",
     "output_type": "stream",
     "text": [
      "------------------------------------------------------------\n"
     ]
    }
   ],
   "source": [
    "for i, (smiles, species) in enumerate(results.items()):\n",
    "    if isinstance(species, str):\n",
    "        continue\n",
    "    thermo_library.load_entry(\n",
    "        index=i,\n",
    "        label=smiles,\n",
    "        molecule = species.molecule[0].to_adjacency_list(),\n",
    "        thermo=species.thermo,\n",
    "        shortDesc=\"m06-2x/cc-pVTZ\",\n",
    "        longDesc=\"\"\"AutoTST calculated thermo using Gaussian 16,\n",
    "m06-2x/cc-pVTZ, Arkane, with atomization energies but\n",
    "no Bond Corrections, frequency scaled by 0.955.\n",
    "Gives Hf(298) {0:.1f} kcal/mol   or {1:.1f} kJ/mol\"\"\".format(\n",
    "            species.thermo.get_enthalpy(298)/4184,\n",
    "            species.thermo.get_enthalpy(298)/1000 )\n",
    "    )\n",
    "    print(smiles)\n",
    "    print(species.thermo.get_enthalpy(298)/1000, \"kJ/mol\")\n",
    "    print(species.thermo.get_enthalpy(298)/4184, \"kcal/mol\")\n",
    "    display(species.molecule[0])\n",
    "    print(\"--\"*30)\n",
    "    \n",
    "    \n"
   ]
  },
  {
   "cell_type": "code",
   "execution_count": 25,
   "metadata": {},
   "outputs": [],
   "source": [
    "thermo_library.save(\"autotst-han-library.py\")"
   ]
  },
  {
   "cell_type": "code",
   "execution_count": 26,
   "metadata": {},
   "outputs": [],
   "source": [
    "# removing .symm files\n",
    "\n",
    "files = [f for f in os.listdir(\".\") if f.endswith(\".symm\")]\n",
    "for f in files:\n",
    "    os.remove(f)"
   ]
  },
  {
   "cell_type": "code",
   "execution_count": null,
   "metadata": {},
   "outputs": [],
   "source": []
  }
 ],
 "metadata": {
  "kernelspec": {
   "display_name": "Python 3",
   "language": "python",
   "name": "python3"
  },
  "language_info": {
   "codemirror_mode": {
    "name": "ipython",
    "version": 3
   },
   "file_extension": ".py",
   "mimetype": "text/x-python",
   "name": "python",
   "nbconvert_exporter": "python",
   "pygments_lexer": "ipython3",
   "version": "3.7.4"
  }
 },
 "nbformat": 4,
 "nbformat_minor": 2
}
